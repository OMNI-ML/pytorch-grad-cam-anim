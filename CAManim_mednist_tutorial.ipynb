{
  "cells": [
    {
      "cell_type": "markdown",
      "source": [
        "# Define Google Drive location"
      ],
      "metadata": {
        "id": "pqygC7p6XR2e"
      }
    },
    {
      "cell_type": "code",
      "source": [
        "from google.colab import drive\n",
        "# drive.mount(\"/content/gdrive\", force_remount=True)\n",
        "drive.mount(\"/content/gdrive\")\n",
        "drive_path = '/content/gdrive/MyDrive'\n",
        "\n",
        "from pathlib import Path\n",
        "\n",
        "save_root = Path(drive_path) / \"starCAManim\""
      ],
      "metadata": {
        "id": "pWjAEb55XR2g",
        "colab": {
          "base_uri": "https://localhost:8080/"
        },
        "outputId": "e9aba619-a3c2-4bf8-ae57-4156c5126943"
      },
      "execution_count": 1,
      "outputs": [
        {
          "output_type": "stream",
          "name": "stdout",
          "text": [
            "Mounted at /content/gdrive\n"
          ]
        }
      ]
    },
    {
      "cell_type": "markdown",
      "metadata": {
        "id": "J_xxaeFJNmLF"
      },
      "source": [
        "Copyright (c) MONAI Consortium  \n",
        "Licensed under the Apache License, Version 2.0 (the \"License\");  \n",
        "you may not use this file except in compliance with the License.  \n",
        "You may obtain a copy of the License at  \n",
        "&nbsp;&nbsp;&nbsp;&nbsp;http://www.apache.org/licenses/LICENSE-2.0  \n",
        "Unless required by applicable law or agreed to in writing, software  \n",
        "distributed under the License is distributed on an \"AS IS\" BASIS,  \n",
        "WITHOUT WARRANTIES OR CONDITIONS OF ANY KIND, either express or implied.  \n",
        "See the License for the specific language governing permissions and  \n",
        "limitations under the License.\n",
        "\n",
        "# Medical Image Classification Tutorial with the MedNIST Dataset\n",
        "\n",
        "In this tutorial, we introduce an end-to-end training and evaluation example based on the MedNIST dataset.\n",
        "\n",
        "We'll go through the following steps:\n",
        "* Create a dataset for training and testing\n",
        "* Use MONAI transforms to pre-process data\n",
        "* Use the DenseNet from MONAI for classification\n",
        "* Train the model with a PyTorch program\n",
        "* Evaluate on test dataset\n",
        "\n",
        "[![Open In Colab](https://colab.research.google.com/assets/colab-badge.svg)](https://colab.research.google.com/github/Project-MONAI/tutorials/blob/main/2d_classification/mednist_tutorial.ipynb)"
      ]
    },
    {
      "cell_type": "markdown",
      "metadata": {
        "id": "lkg70Y8oNmLH"
      },
      "source": [
        "## Setup environment"
      ]
    },
    {
      "cell_type": "code",
      "execution_count": 2,
      "metadata": {
        "id": "PniqWSEkNmLH",
        "outputId": "8a288095-d4b9-408d-8ffe-0096caba346a",
        "colab": {
          "base_uri": "https://localhost:8080/"
        }
      },
      "outputs": [
        {
          "output_type": "stream",
          "name": "stdout",
          "text": [
            "Traceback (most recent call last):\n",
            "  File \"<string>\", line 1, in <module>\n",
            "ModuleNotFoundError: No module named 'monai'\n",
            "\u001b[2K     \u001b[90m━━━━━━━━━━━━━━━━━━━━━━━━━━━━━━━━━━━━━━━━\u001b[0m \u001b[32m1.3/1.3 MB\u001b[0m \u001b[31m7.3 MB/s\u001b[0m eta \u001b[36m0:00:00\u001b[0m\n",
            "\u001b[?25h"
          ]
        }
      ],
      "source": [
        "!python -c \"import monai\" || pip install -q \"monai-weekly[pillow, tqdm]\"\n",
        "!python -c \"import matplotlib\" || pip install -q matplotlib\n",
        "%matplotlib inline"
      ]
    },
    {
      "cell_type": "markdown",
      "metadata": {
        "id": "09nJOoIpNmLI"
      },
      "source": [
        "## Setup imports"
      ]
    },
    {
      "cell_type": "code",
      "execution_count": 3,
      "metadata": {
        "tags": [],
        "id": "VWyQnB-eNmLI",
        "outputId": "47e0f3a9-208e-4be4-f0d0-0f9b413e6bb1",
        "colab": {
          "base_uri": "https://localhost:8080/"
        }
      },
      "outputs": [
        {
          "output_type": "stream",
          "name": "stdout",
          "text": [
            "MONAI version: 1.3.dev2340\n",
            "Numpy version: 1.23.5\n",
            "Pytorch version: 2.0.1+cu118\n",
            "MONAI flags: HAS_EXT = False, USE_COMPILED = False, USE_META_DICT = False\n",
            "MONAI rev id: 8d89083eeb8005babd7b5f76df83c1c80276cc10\n",
            "MONAI __file__: /usr/local/lib/python3.10/dist-packages/monai/__init__.py\n",
            "\n",
            "Optional dependencies:\n",
            "Pytorch Ignite version: NOT INSTALLED or UNKNOWN VERSION.\n",
            "ITK version: NOT INSTALLED or UNKNOWN VERSION.\n",
            "Nibabel version: 4.0.2\n",
            "scikit-image version: 0.19.3\n",
            "scipy version: 1.11.3\n",
            "Pillow version: 9.4.0\n",
            "Tensorboard version: 2.13.0\n",
            "gdown version: 4.6.6\n",
            "TorchVision version: 0.15.2+cu118\n",
            "tqdm version: 4.66.1\n",
            "lmdb version: NOT INSTALLED or UNKNOWN VERSION.\n",
            "psutil version: 5.9.5\n",
            "pandas version: 1.5.3\n",
            "einops version: NOT INSTALLED or UNKNOWN VERSION.\n",
            "transformers version: NOT INSTALLED or UNKNOWN VERSION.\n",
            "mlflow version: NOT INSTALLED or UNKNOWN VERSION.\n",
            "pynrrd version: NOT INSTALLED or UNKNOWN VERSION.\n",
            "clearml version: NOT INSTALLED or UNKNOWN VERSION.\n",
            "\n",
            "For details about installing the optional dependencies, please visit:\n",
            "    https://docs.monai.io/en/latest/installation.html#installing-the-recommended-dependencies\n",
            "\n"
          ]
        }
      ],
      "source": [
        "import os\n",
        "import shutil\n",
        "import tempfile\n",
        "import matplotlib.pyplot as plt\n",
        "import PIL\n",
        "import torch\n",
        "import numpy as np\n",
        "from sklearn.metrics import classification_report\n",
        "\n",
        "from monai.apps import download_and_extract\n",
        "from monai.config import print_config\n",
        "from monai.data import decollate_batch, DataLoader\n",
        "from monai.metrics import ROCAUCMetric\n",
        "from monai.networks.nets import DenseNet121, ResNet\n",
        "from monai.transforms import (\n",
        "    Activations,\n",
        "    EnsureChannelFirst,\n",
        "    AsDiscrete,\n",
        "    Compose,\n",
        "    LoadImage,\n",
        "    RandFlip,\n",
        "    RandRotate,\n",
        "    RandZoom,\n",
        "    ScaleIntensity,\n",
        ")\n",
        "from monai.utils import set_determinism\n",
        "\n",
        "print_config()"
      ]
    },
    {
      "cell_type": "markdown",
      "metadata": {
        "id": "TRbmgmF_NmLI"
      },
      "source": [
        "## Setup data directory\n",
        "\n",
        "You can specify a directory with the `MONAI_DATA_DIRECTORY` environment variable.  \n",
        "This allows you to save results and reuse downloads.  \n",
        "If not specified a temporary directory will be used."
      ]
    },
    {
      "cell_type": "code",
      "source": [
        "os.environ[\"MONAI_DATA_DIRECTORY\"] = \"/content/\""
      ],
      "metadata": {
        "id": "d0qmFoDXexlZ"
      },
      "execution_count": 4,
      "outputs": []
    },
    {
      "cell_type": "code",
      "execution_count": 5,
      "metadata": {
        "tags": [],
        "id": "ZOuOF17TNmLI",
        "outputId": "eb7a5b46-f27e-43dd-bc18-8dc1a3122c4c",
        "colab": {
          "base_uri": "https://localhost:8080/"
        }
      },
      "outputs": [
        {
          "output_type": "stream",
          "name": "stdout",
          "text": [
            "/content/\n"
          ]
        }
      ],
      "source": [
        "directory = os.environ.get(\"MONAI_DATA_DIRECTORY\")\n",
        "root_dir = tempfile.mkdtemp() if directory is None else directory\n",
        "print(root_dir)"
      ]
    },
    {
      "cell_type": "markdown",
      "metadata": {
        "id": "d0Yp0HuFNmLJ"
      },
      "source": [
        "## Download dataset\n",
        "\n",
        "The MedNIST dataset was gathered from several sets from [TCIA](https://wiki.cancerimagingarchive.net/display/Public/Data+Usage+Policies+and+Restrictions),\n",
        "[the RSNA Bone Age Challenge](http://rsnachallenges.cloudapp.net/competitions/4),\n",
        "and [the NIH Chest X-ray dataset](https://cloud.google.com/healthcare/docs/resources/public-datasets/nih-chest).\n",
        "\n",
        "The dataset is kindly made available by [Dr. Bradley J. Erickson M.D., Ph.D.](https://www.mayo.edu/research/labs/radiology-informatics/overview) (Department of Radiology, Mayo Clinic)\n",
        "under the Creative Commons [CC BY-SA 4.0 license](https://creativecommons.org/licenses/by-sa/4.0/).\n",
        "\n",
        "If you use the MedNIST dataset, please acknowledge the source."
      ]
    },
    {
      "cell_type": "code",
      "execution_count": 6,
      "metadata": {
        "tags": [],
        "id": "P_Fn4qO_NmLJ",
        "outputId": "dfec4e41-4fd0-4579-e3bc-7539c69304d9",
        "colab": {
          "base_uri": "https://localhost:8080/"
        }
      },
      "outputs": [
        {
          "output_type": "stream",
          "name": "stderr",
          "text": [
            "MedNIST.tar.gz: 59.0MB [00:01, 33.5MB/s]                            "
          ]
        },
        {
          "output_type": "stream",
          "name": "stdout",
          "text": [
            "2023-10-05 04:39:47,315 - INFO - Downloaded: /content/MedNIST.tar.gz\n"
          ]
        },
        {
          "output_type": "stream",
          "name": "stderr",
          "text": [
            "\n"
          ]
        },
        {
          "output_type": "stream",
          "name": "stdout",
          "text": [
            "2023-10-05 04:39:47,776 - INFO - Verified 'MedNIST.tar.gz', md5: 0bc7306e7427e00ad1c5526a6677552d.\n",
            "2023-10-05 04:39:47,790 - INFO - Writing into directory: /content/.\n"
          ]
        }
      ],
      "source": [
        "resource = \"https://github.com/Project-MONAI/MONAI-extra-test-data/releases/download/0.8.1/MedNIST.tar.gz\"\n",
        "md5 = \"0bc7306e7427e00ad1c5526a6677552d\"\n",
        "\n",
        "compressed_file = os.path.join(root_dir, \"MedNIST.tar.gz\")\n",
        "data_dir = os.path.join(root_dir, \"MedNIST\")\n",
        "if not os.path.exists(data_dir):\n",
        "    download_and_extract(resource, compressed_file, root_dir, md5)"
      ]
    },
    {
      "cell_type": "markdown",
      "metadata": {
        "id": "KWclHVUFNmLJ"
      },
      "source": [
        "## Set deterministic training for reproducibility"
      ]
    },
    {
      "cell_type": "code",
      "execution_count": 7,
      "metadata": {
        "id": "W-GiBZoONmLJ"
      },
      "outputs": [],
      "source": [
        "set_determinism(seed=0)"
      ]
    },
    {
      "cell_type": "markdown",
      "metadata": {
        "id": "0Uk5ZZVnNmLJ"
      },
      "source": [
        "## Read image filenames from the dataset folders\n",
        "\n",
        "First of all, check the dataset files and show some statistics.  \n",
        "There are 6 folders in the dataset: Hand, AbdomenCT, CXR, ChestCT, BreastMRI, HeadCT,  \n",
        "which should be used as the labels to train our classification model."
      ]
    },
    {
      "cell_type": "code",
      "execution_count": 8,
      "metadata": {
        "tags": [],
        "id": "nz6AAp1gNmLK",
        "outputId": "b5208f7a-5256-4c2d-abc5-5125b55c9e30",
        "colab": {
          "base_uri": "https://localhost:8080/"
        }
      },
      "outputs": [
        {
          "output_type": "stream",
          "name": "stdout",
          "text": [
            "Total image count: 58954\n",
            "Image dimensions: 64 x 64\n",
            "Label names: ['AbdomenCT', 'BreastMRI', 'CXR', 'ChestCT', 'Hand', 'HeadCT']\n",
            "Label counts: [10000, 8954, 10000, 10000, 10000, 10000]\n"
          ]
        }
      ],
      "source": [
        "class_names = sorted(x for x in os.listdir(data_dir) if os.path.isdir(os.path.join(data_dir, x)))\n",
        "num_class = len(class_names)\n",
        "image_files = [\n",
        "    [os.path.join(data_dir, class_names[i], x) for x in os.listdir(os.path.join(data_dir, class_names[i]))]\n",
        "    for i in range(num_class)\n",
        "]\n",
        "num_each = [len(image_files[i]) for i in range(num_class)]\n",
        "image_files_list = []\n",
        "image_class = []\n",
        "for i in range(num_class):\n",
        "    image_files_list.extend(image_files[i])\n",
        "    image_class.extend([i] * num_each[i])\n",
        "num_total = len(image_class)\n",
        "image_width, image_height = PIL.Image.open(image_files_list[0]).size\n",
        "\n",
        "print(f\"Total image count: {num_total}\")\n",
        "print(f\"Image dimensions: {image_width} x {image_height}\")\n",
        "print(f\"Label names: {class_names}\")\n",
        "print(f\"Label counts: {num_each}\")"
      ]
    },
    {
      "cell_type": "markdown",
      "metadata": {
        "id": "akHYCsUWNmLK"
      },
      "source": [
        "## Randomly pick images from the dataset to visualize and check"
      ]
    },
    {
      "cell_type": "code",
      "execution_count": 9,
      "metadata": {
        "id": "EGay9Iq1NmLK",
        "outputId": "2ca7e956-3cc5-41f7-8535-d65bcab81a94",
        "colab": {
          "base_uri": "https://localhost:8080/",
          "height": 965
        }
      },
      "outputs": [
        {
          "output_type": "stream",
          "name": "stdout",
          "text": [
            "/content/MedNIST/AbdomenCT/008824.jpeg\n",
            "/content/MedNIST/Hand/005636.jpeg\n",
            "/content/MedNIST/Hand/000613.jpeg\n",
            "/content/MedNIST/HeadCT/002573.jpeg\n",
            "/content/MedNIST/Hand/000974.jpeg\n",
            "/content/MedNIST/CXR/002077.jpeg\n",
            "/content/MedNIST/ChestCT/008200.jpeg\n",
            "/content/MedNIST/ChestCT/001784.jpeg\n",
            "/content/MedNIST/Hand/002362.jpeg\n"
          ]
        },
        {
          "output_type": "display_data",
          "data": {
            "text/plain": [
              "<Figure size 800x800 with 9 Axes>"
            ],
            "image/png": "[encoded data removed]"
          },
          "metadata": {}
        }
      ],
      "source": [
        "plt.subplots(3, 3, figsize=(8, 8))\n",
        "for i, k in enumerate(np.random.randint(num_total, size=9)):\n",
        "    print(image_files_list[k])\n",
        "    im = PIL.Image.open(image_files_list[k])\n",
        "    arr = np.array(im)\n",
        "    plt.subplot(3, 3, i + 1)\n",
        "    plt.xlabel(class_names[image_class[k]])\n",
        "    plt.imshow(arr, cmap=\"gray\", vmin=0, vmax=255)\n",
        "plt.tight_layout()\n",
        "plt.show()"
      ]
    },
    {
      "cell_type": "markdown",
      "metadata": {
        "id": "UWa0aGKoNmLK"
      },
      "source": [
        "## Prepare training, validation and test data lists\n",
        "\n",
        "Randomly select 10% of the dataset as validation and 10% as test."
      ]
    },
    {
      "cell_type": "code",
      "execution_count": 10,
      "metadata": {
        "tags": [],
        "id": "YaNJJQx5NmLK",
        "outputId": "87879d5e-65bf-44c2-a0a6-9523b9854e6c",
        "colab": {
          "base_uri": "https://localhost:8080/"
        }
      },
      "outputs": [
        {
          "output_type": "stream",
          "name": "stdout",
          "text": [
            "Training count: 47164, Validation count: 5895, Test count: 5895\n"
          ]
        }
      ],
      "source": [
        "val_frac = 0.1\n",
        "test_frac = 0.1\n",
        "length = len(image_files_list)\n",
        "indices = np.arange(length)\n",
        "np.random.shuffle(indices)\n",
        "\n",
        "test_split = int(test_frac * length)\n",
        "val_split = int(val_frac * length) + test_split\n",
        "test_indices = indices[:test_split]\n",
        "val_indices = indices[test_split:val_split]\n",
        "train_indices = indices[val_split:]\n",
        "\n",
        "train_x = [image_files_list[i] for i in train_indices]\n",
        "train_y = [image_class[i] for i in train_indices]\n",
        "val_x = [image_files_list[i] for i in val_indices]\n",
        "val_y = [image_class[i] for i in val_indices]\n",
        "test_x = [image_files_list[i] for i in test_indices]\n",
        "test_y = [image_class[i] for i in test_indices]\n",
        "\n",
        "print(f\"Training count: {len(train_x)}, Validation count: \" f\"{len(val_x)}, Test count: {len(test_x)}\")"
      ]
    },
    {
      "cell_type": "code",
      "source": [
        "print(test_x)"
      ],
      "metadata": {
        "id": "W69FSPq1gNlp",
        "outputId": "fb9d9a42-556d-460e-a733-8231901ce390",
        "colab": {
          "base_uri": "https://localhost:8080/"
        }
      },
      "execution_count": 11,
      "outputs": [
        {
          "output_type": "stream",
          "name": "stdout",
          "text": [
            "['/content/MedNIST/AbdomenCT/005308.jpeg', '/content/MedNIST/Hand/000133.jpeg', '/content/MedNIST/CXR/007661.jpeg', '/content/MedNIST/Hand/006036.jpeg', '/content/MedNIST/CXR/002973.jpeg', '/content/MedNIST/CXR/001851.jpeg', '/content/MedNIST/AbdomenCT/007433.jpeg', '/content/MedNIST/HeadCT/004287.jpeg', '/content/MedNIST/ChestCT/008741.jpeg', '/content/MedNIST/CXR/003072.jpeg', '/content/MedNIST/Hand/001137.jpeg', '/content/MedNIST/ChestCT/009979.jpeg', '/content/MedNIST/AbdomenCT/002704.jpeg', '/content/MedNIST/Hand/001799.jpeg', '/content/MedNIST/BreastMRI/007045.jpeg', '/content/MedNIST/Hand/001568.jpeg', '/content/MedNIST/CXR/008303.jpeg', '/content/MedNIST/ChestCT/000842.jpeg', '/content/MedNIST/AbdomenCT/009921.jpeg', '/content/MedNIST/AbdomenCT/008862.jpeg', '/content/MedNIST/ChestCT/004945.jpeg', '/content/MedNIST/ChestCT/002345.jpeg', '/content/MedNIST/ChestCT/004273.jpeg', '/content/MedNIST/CXR/008059.jpeg', '/content/MedNIST/AbdomenCT/008683.jpeg', '/content/MedNIST/AbdomenCT/005301.jpeg', '/content/MedNIST/ChestCT/008730.jpeg', '/content/MedNIST/ChestCT/004123.jpeg', '/content/MedNIST/AbdomenCT/003532.jpeg', '/content/MedNIST/CXR/005925.jpeg', '/content/MedNIST/ChestCT/007480.jpeg', '/content/MedNIST/CXR/008433.jpeg', '/content/MedNIST/AbdomenCT/006117.jpeg', '/content/MedNIST/BreastMRI/001675.jpeg', '/content/MedNIST/ChestCT/007459.jpeg', '/content/MedNIST/HeadCT/006226.jpeg', '/content/MedNIST/BreastMRI/002180.jpeg', '/content/MedNIST/BreastMRI/001833.jpeg', '/content/MedNIST/CXR/009082.jpeg', '/content/MedNIST/CXR/004717.jpeg', '/content/MedNIST/Hand/008707.jpeg', '/content/MedNIST/AbdomenCT/008542.jpeg', '/content/MedNIST/ChestCT/005712.jpeg', '/content/MedNIST/Hand/001496.jpeg', '/content/MedNIST/ChestCT/001830.jpeg', '/content/MedNIST/CXR/002989.jpeg', '/content/MedNIST/BreastMRI/004220.jpeg', '/content/MedNIST/AbdomenCT/002994.jpeg', '/content/MedNIST/Hand/009317.jpeg', '/content/MedNIST/ChestCT/000749.jpeg', '/content/MedNIST/Hand/005737.jpeg', '/content/MedNIST/Hand/007954.jpeg', '/content/MedNIST/BreastMRI/003249.jpeg', '/content/MedNIST/HeadCT/008296.jpeg', '/content/MedNIST/Hand/000827.jpeg', '/content/MedNIST/CXR/007654.jpeg', '/content/MedNIST/BreastMRI/003779.jpeg', '/content/MedNIST/CXR/000856.jpeg', '/content/MedNIST/BreastMRI/004135.jpeg', '/content/MedNIST/Hand/009589.jpeg', '/content/MedNIST/ChestCT/001500.jpeg', '/content/MedNIST/AbdomenCT/009894.jpeg', '/content/MedNIST/CXR/007937.jpeg', '/content/MedNIST/BreastMRI/005719.jpeg', '/content/MedNIST/ChestCT/004124.jpeg', '/content/MedNIST/BreastMRI/008887.jpeg', '/content/MedNIST/BreastMRI/002142.jpeg', '/content/MedNIST/HeadCT/008490.jpeg', '/content/MedNIST/ChestCT/002324.jpeg', '/content/MedNIST/HeadCT/007097.jpeg', '/content/MedNIST/ChestCT/003139.jpeg', '/content/MedNIST/Hand/001685.jpeg', '/content/MedNIST/AbdomenCT/002315.jpeg', '/content/MedNIST/Hand/002285.jpeg', '/content/MedNIST/Hand/002613.jpeg', '/content/MedNIST/AbdomenCT/002261.jpeg', '/content/MedNIST/HeadCT/001165.jpeg', '/content/MedNIST/AbdomenCT/003402.jpeg', '/content/MedNIST/Hand/007410.jpeg', '/content/MedNIST/BreastMRI/007043.jpeg', '/content/MedNIST/AbdomenCT/005099.jpeg', '/content/MedNIST/BreastMRI/004820.jpeg', '/content/MedNIST/HeadCT/004218.jpeg', '/content/MedNIST/CXR/001484.jpeg', '/content/MedNIST/ChestCT/004005.jpeg', '/content/MedNIST/BreastMRI/004173.jpeg', '/content/MedNIST/ChestCT/002988.jpeg', '/content/MedNIST/Hand/008238.jpeg', '/content/MedNIST/ChestCT/009179.jpeg', '/content/MedNIST/ChestCT/004717.jpeg', '/content/MedNIST/AbdomenCT/003640.jpeg', '/content/MedNIST/Hand/002716.jpeg', '/content/MedNIST/ChestCT/002125.jpeg', '/content/MedNIST/ChestCT/001428.jpeg', '/content/MedNIST/CXR/001362.jpeg', '/content/MedNIST/BreastMRI/005297.jpeg', '/content/MedNIST/AbdomenCT/007592.jpeg', '/content/MedNIST/AbdomenCT/004048.jpeg', '/content/MedNIST/BreastMRI/002228.jpeg', '/content/MedNIST/ChestCT/009760.jpeg', '/content/MedNIST/HeadCT/005197.jpeg', '/content/MedNIST/Hand/001889.jpeg', '/content/MedNIST/HeadCT/001966.jpeg', '/content/MedNIST/CXR/007506.jpeg', '/content/MedNIST/CXR/001969.jpeg', '/content/MedNIST/HeadCT/006271.jpeg', '/content/MedNIST/Hand/000814.jpeg', '/content/MedNIST/Hand/001396.jpeg', '/content/MedNIST/Hand/008563.jpeg', '/content/MedNIST/Hand/003365.jpeg', '/content/MedNIST/CXR/009619.jpeg', '/content/MedNIST/ChestCT/006367.jpeg', '/content/MedNIST/Hand/003193.jpeg', '/content/MedNIST/CXR/003477.jpeg', '/content/MedNIST/CXR/005589.jpeg', '/content/MedNIST/ChestCT/003364.jpeg', '/content/MedNIST/AbdomenCT/004871.jpeg', '/content/MedNIST/ChestCT/005555.jpeg', '/content/MedNIST/ChestCT/001575.jpeg', '/content/MedNIST/Hand/002510.jpeg', '/content/MedNIST/AbdomenCT/000105.jpeg', '/content/MedNIST/AbdomenCT/001151.jpeg', '/content/MedNIST/AbdomenCT/004850.jpeg', '/content/MedNIST/CXR/002485.jpeg', '/content/MedNIST/BreastMRI/004546.jpeg', '/content/MedNIST/HeadCT/000356.jpeg', '/content/MedNIST/HeadCT/003971.jpeg', '/content/MedNIST/Hand/007895.jpeg', '/content/MedNIST/Hand/004182.jpeg', '/content/MedNIST/CXR/003172.jpeg', '/content/MedNIST/Hand/006276.jpeg', '/content/MedNIST/AbdomenCT/001080.jpeg', '/content/MedNIST/CXR/004007.jpeg', '/content/MedNIST/AbdomenCT/007050.jpeg', '/content/MedNIST/HeadCT/006580.jpeg', '/content/MedNIST/AbdomenCT/000331.jpeg', '/content/MedNIST/HeadCT/004455.jpeg', '/content/MedNIST/AbdomenCT/004796.jpeg', '/content/MedNIST/CXR/005811.jpeg', '/content/MedNIST/Hand/001522.jpeg', '/content/MedNIST/Hand/005064.jpeg', '/content/MedNIST/HeadCT/004968.jpeg', '/content/MedNIST/HeadCT/001429.jpeg', '/content/MedNIST/Hand/001187.jpeg', '/content/MedNIST/BreastMRI/002151.jpeg', '/content/MedNIST/CXR/009541.jpeg', '/content/MedNIST/Hand/002131.jpeg', '/content/MedNIST/ChestCT/004630.jpeg', '/content/MedNIST/CXR/006416.jpeg', '/content/MedNIST/HeadCT/005742.jpeg', '/content/MedNIST/CXR/005994.jpeg', '/content/MedNIST/HeadCT/009431.jpeg', '/content/MedNIST/ChestCT/008684.jpeg', '/content/MedNIST/HeadCT/001874.jpeg', '/content/MedNIST/AbdomenCT/001249.jpeg', '/content/MedNIST/BreastMRI/001439.jpeg', '/content/MedNIST/AbdomenCT/008999.jpeg', '/content/MedNIST/Hand/008693.jpeg', '/content/MedNIST/Hand/001636.jpeg', '/content/MedNIST/CXR/007307.jpeg', '/content/MedNIST/HeadCT/004096.jpeg', '/content/MedNIST/AbdomenCT/007341.jpeg', '/content/MedNIST/Hand/008250.jpeg', '/content/MedNIST/BreastMRI/000342.jpeg', '/content/MedNIST/HeadCT/003111.jpeg', '/content/MedNIST/CXR/002947.jpeg', '/content/MedNIST/Hand/001027.jpeg', '/content/MedNIST/AbdomenCT/004800.jpeg', '/content/MedNIST/BreastMRI/006279.jpeg', '/content/MedNIST/CXR/009916.jpeg', '/content/MedNIST/AbdomenCT/002103.jpeg', '/content/MedNIST/AbdomenCT/008288.jpeg', '/content/MedNIST/BreastMRI/007266.jpeg', '/content/MedNIST/HeadCT/000217.jpeg', '/content/MedNIST/Hand/004967.jpeg', '/content/MedNIST/CXR/005022.jpeg', '/content/MedNIST/HeadCT/004229.jpeg', '/content/MedNIST/BreastMRI/003666.jpeg', '/content/MedNIST/AbdomenCT/005438.jpeg', '/content/MedNIST/HeadCT/003603.jpeg', '/content/MedNIST/AbdomenCT/009132.jpeg', '/content/MedNIST/CXR/003079.jpeg', '/content/MedNIST/ChestCT/003501.jpeg', '/content/MedNIST/ChestCT/000356.jpeg', '/content/MedNIST/BreastMRI/006867.jpeg', '/content/MedNIST/HeadCT/007943.jpeg', '/content/MedNIST/CXR/009068.jpeg', '/content/MedNIST/BreastMRI/005391.jpeg', '/content/MedNIST/HeadCT/007953.jpeg', '/content/MedNIST/Hand/007098.jpeg', '/content/MedNIST/ChestCT/009839.jpeg', '/content/MedNIST/AbdomenCT/004608.jpeg', '/content/MedNIST/Hand/002880.jpeg', '/content/MedNIST/HeadCT/007766.jpeg', '/content/MedNIST/BreastMRI/004228.jpeg', '/content/MedNIST/AbdomenCT/006651.jpeg', '/content/MedNIST/HeadCT/008736.jpeg', '/content/MedNIST/CXR/000734.jpeg', '/content/MedNIST/CXR/004506.jpeg', '/content/MedNIST/BreastMRI/004368.jpeg', '/content/MedNIST/ChestCT/001608.jpeg', '/content/MedNIST/Hand/003865.jpeg', '/content/MedNIST/Hand/009224.jpeg', '/content/MedNIST/BreastMRI/000630.jpeg', '/content/MedNIST/BreastMRI/001773.jpeg', '/content/MedNIST/BreastMRI/006961.jpeg', '/content/MedNIST/Hand/007620.jpeg', '/content/MedNIST/AbdomenCT/001121.jpeg', '/content/MedNIST/AbdomenCT/004768.jpeg', '/content/MedNIST/HeadCT/005823.jpeg', '/content/MedNIST/HeadCT/002261.jpeg', '/content/MedNIST/BreastMRI/003422.jpeg', '/content/MedNIST/HeadCT/007040.jpeg', '/content/MedNIST/Hand/000776.jpeg', '/content/MedNIST/HeadCT/009258.jpeg', '/content/MedNIST/ChestCT/007703.jpeg', '/content/MedNIST/CXR/007877.jpeg', '/content/MedNIST/Hand/000629.jpeg', '/content/MedNIST/BreastMRI/001658.jpeg', '/content/MedNIST/ChestCT/000504.jpeg', '/content/MedNIST/Hand/008048.jpeg', '/content/MedNIST/Hand/003763.jpeg', '/content/MedNIST/BreastMRI/004607.jpeg', '/content/MedNIST/BreastMRI/004000.jpeg', '/content/MedNIST/Hand/001415.jpeg', '/content/MedNIST/BreastMRI/007471.jpeg', '/content/MedNIST/BreastMRI/001168.jpeg', '/content/MedNIST/CXR/001003.jpeg', '/content/MedNIST/Hand/000711.jpeg', '/content/MedNIST/Hand/000122.jpeg', '/content/MedNIST/ChestCT/009644.jpeg', '/content/MedNIST/BreastMRI/005323.jpeg', '/content/MedNIST/HeadCT/003967.jpeg', '/content/MedNIST/ChestCT/001835.jpeg', '/content/MedNIST/AbdomenCT/005789.jpeg', '/content/MedNIST/ChestCT/008933.jpeg', '/content/MedNIST/ChestCT/004142.jpeg', '/content/MedNIST/BreastMRI/006062.jpeg', '/content/MedNIST/HeadCT/006391.jpeg', '/content/MedNIST/CXR/003907.jpeg', '/content/MedNIST/BreastMRI/008405.jpeg', '/content/MedNIST/CXR/006104.jpeg', '/content/MedNIST/Hand/005492.jpeg', '/content/MedNIST/BreastMRI/005093.jpeg', '/content/MedNIST/ChestCT/006618.jpeg', '/content/MedNIST/CXR/004754.jpeg', '/content/MedNIST/ChestCT/001694.jpeg', '/content/MedNIST/CXR/002129.jpeg', '/content/MedNIST/Hand/009411.jpeg', '/content/MedNIST/BreastMRI/008310.jpeg', '/content/MedNIST/HeadCT/003795.jpeg', '/content/MedNIST/BreastMRI/008605.jpeg', '/content/MedNIST/AbdomenCT/006616.jpeg', '/content/MedNIST/CXR/005542.jpeg', '/content/MedNIST/HeadCT/004128.jpeg', '/content/MedNIST/CXR/003362.jpeg', '/content/MedNIST/HeadCT/002970.jpeg', '/content/MedNIST/CXR/005044.jpeg', '/content/MedNIST/HeadCT/003308.jpeg', '/content/MedNIST/CXR/004958.jpeg', '/content/MedNIST/ChestCT/009048.jpeg', '/content/MedNIST/ChestCT/005292.jpeg', '/content/MedNIST/CXR/009330.jpeg', '/content/MedNIST/Hand/008524.jpeg', '/content/MedNIST/ChestCT/008101.jpeg', '/content/MedNIST/BreastMRI/000087.jpeg', '/content/MedNIST/HeadCT/005122.jpeg', '/content/MedNIST/CXR/009517.jpeg', '/content/MedNIST/CXR/008416.jpeg', '/content/MedNIST/HeadCT/002313.jpeg', '/content/MedNIST/ChestCT/008846.jpeg', '/content/MedNIST/CXR/006754.jpeg', '/content/MedNIST/ChestCT/002476.jpeg', '/content/MedNIST/HeadCT/001091.jpeg', '/content/MedNIST/HeadCT/001649.jpeg', '/content/MedNIST/HeadCT/005707.jpeg', '/content/MedNIST/ChestCT/008250.jpeg', '/content/MedNIST/AbdomenCT/005371.jpeg', '/content/MedNIST/CXR/004645.jpeg', '/content/MedNIST/CXR/008100.jpeg', '/content/MedNIST/BreastMRI/004825.jpeg', '/content/MedNIST/CXR/002423.jpeg', '/content/MedNIST/ChestCT/009094.jpeg', '/content/MedNIST/AbdomenCT/004711.jpeg', '/content/MedNIST/AbdomenCT/000076.jpeg', '/content/MedNIST/BreastMRI/007053.jpeg', '/content/MedNIST/Hand/000338.jpeg', '/content/MedNIST/AbdomenCT/009721.jpeg', '/content/MedNIST/ChestCT/008601.jpeg', '/content/MedNIST/Hand/009919.jpeg', '/content/MedNIST/HeadCT/006155.jpeg', '/content/MedNIST/HeadCT/001477.jpeg', '/content/MedNIST/BreastMRI/003706.jpeg', '/content/MedNIST/HeadCT/004046.jpeg', '/content/MedNIST/AbdomenCT/005326.jpeg', '/content/MedNIST/BreastMRI/003413.jpeg', '/content/MedNIST/ChestCT/003027.jpeg', '/content/MedNIST/CXR/003370.jpeg', '/content/MedNIST/ChestCT/004511.jpeg', '/content/MedNIST/BreastMRI/008724.jpeg', '/content/MedNIST/Hand/001940.jpeg', '/content/MedNIST/HeadCT/009094.jpeg', '/content/MedNIST/ChestCT/006187.jpeg', '/content/MedNIST/AbdomenCT/003060.jpeg', '/content/MedNIST/HeadCT/004972.jpeg', '/content/MedNIST/ChestCT/009975.jpeg', '/content/MedNIST/CXR/004223.jpeg', '/content/MedNIST/HeadCT/000790.jpeg', '/content/MedNIST/Hand/008256.jpeg', '/content/MedNIST/Hand/005426.jpeg', '/content/MedNIST/AbdomenCT/003950.jpeg', '/content/MedNIST/AbdomenCT/001762.jpeg', '/content/MedNIST/AbdomenCT/003095.jpeg', '/content/MedNIST/Hand/000974.jpeg', '/content/MedNIST/Hand/005622.jpeg', '/content/MedNIST/HeadCT/002829.jpeg', '/content/MedNIST/ChestCT/006383.jpeg', '/content/MedNIST/HeadCT/003252.jpeg', '/content/MedNIST/BreastMRI/000403.jpeg', '/content/MedNIST/ChestCT/001404.jpeg', '/content/MedNIST/AbdomenCT/002856.jpeg', '/content/MedNIST/CXR/005107.jpeg', '/content/MedNIST/HeadCT/004842.jpeg', '/content/MedNIST/Hand/009233.jpeg', '/content/MedNIST/CXR/001544.jpeg', '/content/MedNIST/CXR/006882.jpeg', '/content/MedNIST/CXR/006078.jpeg', '/content/MedNIST/HeadCT/006852.jpeg', '/content/MedNIST/CXR/009503.jpeg', '/content/MedNIST/HeadCT/002310.jpeg', '/content/MedNIST/AbdomenCT/006348.jpeg', '/content/MedNIST/BreastMRI/007931.jpeg', '/content/MedNIST/CXR/000119.jpeg', '/content/MedNIST/CXR/001132.jpeg', '/content/MedNIST/CXR/007787.jpeg', '/content/MedNIST/BreastMRI/003141.jpeg', '/content/MedNIST/ChestCT/002243.jpeg', '/content/MedNIST/ChestCT/007518.jpeg', '/content/MedNIST/HeadCT/008781.jpeg', '/content/MedNIST/HeadCT/005186.jpeg', '/content/MedNIST/HeadCT/001342.jpeg', '/content/MedNIST/ChestCT/006481.jpeg', '/content/MedNIST/Hand/006851.jpeg', '/content/MedNIST/BreastMRI/004048.jpeg', '/content/MedNIST/AbdomenCT/007294.jpeg', '/content/MedNIST/Hand/009150.jpeg', '/content/MedNIST/HeadCT/002068.jpeg', '/content/MedNIST/Hand/007302.jpeg', '/content/MedNIST/BreastMRI/002500.jpeg', '/content/MedNIST/CXR/002993.jpeg', '/content/MedNIST/ChestCT/009050.jpeg', '/content/MedNIST/AbdomenCT/008365.jpeg', '/content/MedNIST/Hand/005323.jpeg', '/content/MedNIST/BreastMRI/005064.jpeg', '/content/MedNIST/CXR/006959.jpeg', '/content/MedNIST/ChestCT/003171.jpeg', '/content/MedNIST/ChestCT/005749.jpeg', '/content/MedNIST/BreastMRI/002645.jpeg', '/content/MedNIST/CXR/007454.jpeg', '/content/MedNIST/HeadCT/001753.jpeg', '/content/MedNIST/ChestCT/000315.jpeg', '/content/MedNIST/HeadCT/005662.jpeg', '/content/MedNIST/AbdomenCT/008509.jpeg', '/content/MedNIST/AbdomenCT/006213.jpeg', '/content/MedNIST/HeadCT/009251.jpeg', '/content/MedNIST/BreastMRI/003065.jpeg', '/content/MedNIST/ChestCT/002629.jpeg', '/content/MedNIST/AbdomenCT/005089.jpeg', '/content/MedNIST/Hand/001347.jpeg', '/content/MedNIST/HeadCT/008976.jpeg', '/content/MedNIST/BreastMRI/001313.jpeg', '/content/MedNIST/HeadCT/004683.jpeg', '/content/MedNIST/ChestCT/009568.jpeg', '/content/MedNIST/Hand/009176.jpeg', '/content/MedNIST/BreastMRI/003044.jpeg', '/content/MedNIST/HeadCT/001000.jpeg', '/content/MedNIST/HeadCT/001786.jpeg', '/content/MedNIST/ChestCT/008800.jpeg', '/content/MedNIST/HeadCT/000721.jpeg', '/content/MedNIST/Hand/009729.jpeg', '/content/MedNIST/HeadCT/000115.jpeg', '/content/MedNIST/Hand/003043.jpeg', '/content/MedNIST/AbdomenCT/004880.jpeg', '/content/MedNIST/CXR/001914.jpeg', '/content/MedNIST/AbdomenCT/001602.jpeg', '/content/MedNIST/HeadCT/005695.jpeg', '/content/MedNIST/Hand/005905.jpeg', '/content/MedNIST/Hand/009291.jpeg', '/content/MedNIST/BreastMRI/003097.jpeg', '/content/MedNIST/CXR/001196.jpeg', '/content/MedNIST/BreastMRI/000059.jpeg', '/content/MedNIST/Hand/007396.jpeg', '/content/MedNIST/HeadCT/002456.jpeg', '/content/MedNIST/Hand/006119.jpeg', '/content/MedNIST/AbdomenCT/007794.jpeg', '/content/MedNIST/AbdomenCT/004481.jpeg', '/content/MedNIST/AbdomenCT/007958.jpeg', '/content/MedNIST/HeadCT/005886.jpeg', '/content/MedNIST/BreastMRI/002562.jpeg', '/content/MedNIST/BreastMRI/003634.jpeg', '/content/MedNIST/AbdomenCT/005572.jpeg', '/content/MedNIST/Hand/004077.jpeg', '/content/MedNIST/HeadCT/001352.jpeg', '/content/MedNIST/AbdomenCT/006360.jpeg', '/content/MedNIST/ChestCT/002721.jpeg', '/content/MedNIST/HeadCT/003766.jpeg', '/content/MedNIST/ChestCT/007331.jpeg', '/content/MedNIST/ChestCT/000698.jpeg', '/content/MedNIST/Hand/005547.jpeg', '/content/MedNIST/ChestCT/003273.jpeg', '/content/MedNIST/HeadCT/002729.jpeg', '/content/MedNIST/BreastMRI/000245.jpeg', '/content/MedNIST/ChestCT/008836.jpeg', '/content/MedNIST/BreastMRI/003279.jpeg', '/content/MedNIST/AbdomenCT/002814.jpeg', '/content/MedNIST/ChestCT/002975.jpeg', '/content/MedNIST/Hand/002905.jpeg', '/content/MedNIST/AbdomenCT/005159.jpeg', '/content/MedNIST/AbdomenCT/007149.jpeg', '/content/MedNIST/CXR/005849.jpeg', '/content/MedNIST/CXR/000319.jpeg', '/content/MedNIST/BreastMRI/002417.jpeg', '/content/MedNIST/Hand/006258.jpeg', '/content/MedNIST/AbdomenCT/006909.jpeg', '/content/MedNIST/AbdomenCT/007766.jpeg', '/content/MedNIST/Hand/009425.jpeg', '/content/MedNIST/BreastMRI/002177.jpeg', '/content/MedNIST/Hand/002693.jpeg', '/content/MedNIST/Hand/002719.jpeg', '/content/MedNIST/CXR/006278.jpeg', '/content/MedNIST/ChestCT/009635.jpeg', '/content/MedNIST/CXR/003304.jpeg', '/content/MedNIST/Hand/004816.jpeg', '/content/MedNIST/AbdomenCT/007665.jpeg', '/content/MedNIST/HeadCT/003866.jpeg', '/content/MedNIST/Hand/006396.jpeg', '/content/MedNIST/HeadCT/001776.jpeg', '/content/MedNIST/AbdomenCT/005199.jpeg', '/content/MedNIST/Hand/007531.jpeg', '/content/MedNIST/CXR/004446.jpeg', '/content/MedNIST/AbdomenCT/005122.jpeg', '/content/MedNIST/BreastMRI/008192.jpeg', '/content/MedNIST/BreastMRI/006030.jpeg', '/content/MedNIST/BreastMRI/002754.jpeg', '/content/MedNIST/HeadCT/005362.jpeg', '/content/MedNIST/Hand/004101.jpeg', '/content/MedNIST/Hand/001793.jpeg', '/content/MedNIST/Hand/002019.jpeg', '/content/MedNIST/CXR/009344.jpeg', '/content/MedNIST/BreastMRI/000993.jpeg', '/content/MedNIST/CXR/009652.jpeg', '/content/MedNIST/BreastMRI/006844.jpeg', '/content/MedNIST/CXR/006913.jpeg', '/content/MedNIST/CXR/007739.jpeg', '/content/MedNIST/AbdomenCT/004107.jpeg', '/content/MedNIST/ChestCT/000897.jpeg', '/content/MedNIST/BreastMRI/004246.jpeg', '/content/MedNIST/ChestCT/008259.jpeg', '/content/MedNIST/HeadCT/003500.jpeg', '/content/MedNIST/AbdomenCT/003267.jpeg', '/content/MedNIST/CXR/002661.jpeg', '/content/MedNIST/HeadCT/006794.jpeg', '/content/MedNIST/Hand/007942.jpeg', '/content/MedNIST/ChestCT/004384.jpeg', '/content/MedNIST/BreastMRI/007983.jpeg', '/content/MedNIST/BreastMRI/006652.jpeg', '/content/MedNIST/ChestCT/007343.jpeg', '/content/MedNIST/ChestCT/001935.jpeg', '/content/MedNIST/AbdomenCT/001161.jpeg', '/content/MedNIST/ChestCT/003684.jpeg', '/content/MedNIST/Hand/002583.jpeg', '/content/MedNIST/BreastMRI/001039.jpeg', '/content/MedNIST/HeadCT/004709.jpeg', '/content/MedNIST/Hand/004753.jpeg', '/content/MedNIST/Hand/005059.jpeg', '/content/MedNIST/HeadCT/009783.jpeg', '/content/MedNIST/HeadCT/008165.jpeg', '/content/MedNIST/BreastMRI/004662.jpeg', '/content/MedNIST/ChestCT/007381.jpeg', '/content/MedNIST/HeadCT/000832.jpeg', '/content/MedNIST/ChestCT/001037.jpeg', '/content/MedNIST/ChestCT/009912.jpeg', '/content/MedNIST/BreastMRI/004883.jpeg', '/content/MedNIST/BreastMRI/007360.jpeg', '/content/MedNIST/CXR/000627.jpeg', '/content/MedNIST/AbdomenCT/001409.jpeg', '/content/MedNIST/ChestCT/008361.jpeg', '/content/MedNIST/HeadCT/005215.jpeg', '/content/MedNIST/Hand/006228.jpeg', '/content/MedNIST/Hand/000125.jpeg', '/content/MedNIST/ChestCT/000942.jpeg', '/content/MedNIST/ChestCT/002612.jpeg', '/content/MedNIST/CXR/003129.jpeg', '/content/MedNIST/CXR/003544.jpeg', '/content/MedNIST/Hand/003524.jpeg', '/content/MedNIST/ChestCT/009802.jpeg', '/content/MedNIST/CXR/002103.jpeg', '/content/MedNIST/CXR/001940.jpeg', '/content/MedNIST/Hand/009369.jpeg', '/content/MedNIST/ChestCT/001970.jpeg', '/content/MedNIST/HeadCT/008770.jpeg', '/content/MedNIST/AbdomenCT/009429.jpeg', '/content/MedNIST/AbdomenCT/005375.jpeg', '/content/MedNIST/BreastMRI/006559.jpeg', '/content/MedNIST/HeadCT/009199.jpeg', '/content/MedNIST/ChestCT/005521.jpeg', '/content/MedNIST/HeadCT/003083.jpeg', '/content/MedNIST/HeadCT/008273.jpeg', '/content/MedNIST/HeadCT/005093.jpeg', '/content/MedNIST/ChestCT/009266.jpeg', '/content/MedNIST/ChestCT/007004.jpeg', '/content/MedNIST/BreastMRI/006309.jpeg', '/content/MedNIST/HeadCT/009043.jpeg', '/content/MedNIST/AbdomenCT/007783.jpeg', '/content/MedNIST/ChestCT/004363.jpeg', '/content/MedNIST/CXR/002488.jpeg', '/content/MedNIST/HeadCT/000165.jpeg', '/content/MedNIST/Hand/001545.jpeg', '/content/MedNIST/Hand/000589.jpeg', '/content/MedNIST/ChestCT/000051.jpeg', '/content/MedNIST/AbdomenCT/006144.jpeg', '/content/MedNIST/HeadCT/001501.jpeg', '/content/MedNIST/Hand/001816.jpeg', '/content/MedNIST/Hand/001751.jpeg', '/content/MedNIST/Hand/000850.jpeg', '/content/MedNIST/ChestCT/006004.jpeg', '/content/MedNIST/ChestCT/003598.jpeg', '/content/MedNIST/AbdomenCT/005679.jpeg', '/content/MedNIST/BreastMRI/003727.jpeg', '/content/MedNIST/HeadCT/006578.jpeg', '/content/MedNIST/BreastMRI/002272.jpeg', '/content/MedNIST/CXR/005367.jpeg', '/content/MedNIST/HeadCT/000084.jpeg', '/content/MedNIST/AbdomenCT/008765.jpeg', '/content/MedNIST/BreastMRI/008601.jpeg', '/content/MedNIST/AbdomenCT/008986.jpeg', '/content/MedNIST/ChestCT/007580.jpeg', '/content/MedNIST/HeadCT/008031.jpeg', '/content/MedNIST/CXR/009169.jpeg', '/content/MedNIST/CXR/004329.jpeg', '/content/MedNIST/AbdomenCT/004473.jpeg', '/content/MedNIST/AbdomenCT/008443.jpeg', '/content/MedNIST/CXR/006663.jpeg', '/content/MedNIST/ChestCT/009509.jpeg', '/content/MedNIST/ChestCT/009416.jpeg', '/content/MedNIST/ChestCT/006265.jpeg', '/content/MedNIST/ChestCT/005539.jpeg', '/content/MedNIST/BreastMRI/004112.jpeg', '/content/MedNIST/Hand/005299.jpeg', '/content/MedNIST/ChestCT/002880.jpeg', '/content/MedNIST/CXR/006549.jpeg', '/content/MedNIST/HeadCT/000698.jpeg', '/content/MedNIST/ChestCT/009335.jpeg', '/content/MedNIST/AbdomenCT/003155.jpeg', '/content/MedNIST/Hand/004723.jpeg', '/content/MedNIST/HeadCT/000894.jpeg', '/content/MedNIST/Hand/008213.jpeg', '/content/MedNIST/AbdomenCT/008792.jpeg', '/content/MedNIST/BreastMRI/005454.jpeg', '/content/MedNIST/ChestCT/000037.jpeg', '/content/MedNIST/BreastMRI/005341.jpeg', '/content/MedNIST/AbdomenCT/009801.jpeg', '/content/MedNIST/AbdomenCT/002838.jpeg', '/content/MedNIST/AbdomenCT/008419.jpeg', '/content/MedNIST/HeadCT/008837.jpeg', '/content/MedNIST/AbdomenCT/004570.jpeg', '/content/MedNIST/AbdomenCT/006851.jpeg', '/content/MedNIST/HeadCT/000173.jpeg', '/content/MedNIST/CXR/007586.jpeg', '/content/MedNIST/Hand/003426.jpeg', '/content/MedNIST/CXR/000445.jpeg', '/content/MedNIST/HeadCT/002385.jpeg', '/content/MedNIST/BreastMRI/000479.jpeg', '/content/MedNIST/HeadCT/006600.jpeg', '/content/MedNIST/Hand/003093.jpeg', '/content/MedNIST/AbdomenCT/003602.jpeg', '/content/MedNIST/Hand/008666.jpeg', '/content/MedNIST/AbdomenCT/001948.jpeg', '/content/MedNIST/BreastMRI/008899.jpeg', '/content/MedNIST/HeadCT/007080.jpeg', '/content/MedNIST/ChestCT/004588.jpeg', '/content/MedNIST/ChestCT/001014.jpeg', '/content/MedNIST/Hand/008541.jpeg', '/content/MedNIST/Hand/004435.jpeg', '/content/MedNIST/BreastMRI/003546.jpeg', '/content/MedNIST/CXR/008713.jpeg', '/content/MedNIST/HeadCT/009785.jpeg', '/content/MedNIST/Hand/002501.jpeg', '/content/MedNIST/HeadCT/006297.jpeg', '/content/MedNIST/Hand/004936.jpeg', '/content/MedNIST/HeadCT/009239.jpeg', '/content/MedNIST/ChestCT/004668.jpeg', '/content/MedNIST/AbdomenCT/009763.jpeg', '/content/MedNIST/HeadCT/003259.jpeg', '/content/MedNIST/Hand/009956.jpeg', '/content/MedNIST/ChestCT/008392.jpeg', '/content/MedNIST/ChestCT/006216.jpeg', '/content/MedNIST/Hand/000841.jpeg', '/content/MedNIST/AbdomenCT/003248.jpeg', '/content/MedNIST/Hand/000317.jpeg', '/content/MedNIST/AbdomenCT/008071.jpeg', '/content/MedNIST/AbdomenCT/002708.jpeg', '/content/MedNIST/CXR/000861.jpeg', '/content/MedNIST/HeadCT/000253.jpeg', '/content/MedNIST/HeadCT/002786.jpeg', '/content/MedNIST/CXR/003665.jpeg', '/content/MedNIST/Hand/004393.jpeg', '/content/MedNIST/HeadCT/000104.jpeg', '/content/MedNIST/HeadCT/003849.jpeg', '/content/MedNIST/ChestCT/000758.jpeg', '/content/MedNIST/ChestCT/008582.jpeg', '/content/MedNIST/HeadCT/000283.jpeg', '/content/MedNIST/AbdomenCT/003231.jpeg', '/content/MedNIST/BreastMRI/002382.jpeg', '/content/MedNIST/AbdomenCT/001679.jpeg', '/content/MedNIST/ChestCT/007353.jpeg', '/content/MedNIST/Hand/001878.jpeg', '/content/MedNIST/ChestCT/003241.jpeg', '/content/MedNIST/ChestCT/000527.jpeg', '/content/MedNIST/CXR/003051.jpeg', '/content/MedNIST/ChestCT/000142.jpeg', '/content/MedNIST/Hand/008655.jpeg', '/content/MedNIST/AbdomenCT/008734.jpeg', '/content/MedNIST/Hand/004903.jpeg', '/content/MedNIST/BreastMRI/002086.jpeg', '/content/MedNIST/ChestCT/003158.jpeg', '/content/MedNIST/Hand/009640.jpeg', '/content/MedNIST/Hand/004267.jpeg', '/content/MedNIST/Hand/000900.jpeg', '/content/MedNIST/HeadCT/009156.jpeg', '/content/MedNIST/AbdomenCT/002621.jpeg', '/content/MedNIST/Hand/007622.jpeg', '/content/MedNIST/HeadCT/006502.jpeg', '/content/MedNIST/Hand/001349.jpeg', '/content/MedNIST/Hand/004716.jpeg', '/content/MedNIST/Hand/001948.jpeg', '/content/MedNIST/BreastMRI/002718.jpeg', '/content/MedNIST/Hand/009616.jpeg', '/content/MedNIST/HeadCT/003038.jpeg', '/content/MedNIST/BreastMRI/001458.jpeg', '/content/MedNIST/CXR/001494.jpeg', '/content/MedNIST/BreastMRI/005946.jpeg', '/content/MedNIST/Hand/002812.jpeg', '/content/MedNIST/HeadCT/009064.jpeg', '/content/MedNIST/HeadCT/006897.jpeg', '/content/MedNIST/Hand/004598.jpeg', '/content/MedNIST/CXR/003235.jpeg', '/content/MedNIST/AbdomenCT/009192.jpeg', '/content/MedNIST/BreastMRI/008191.jpeg', '/content/MedNIST/AbdomenCT/006375.jpeg', '/content/MedNIST/CXR/001223.jpeg', '/content/MedNIST/ChestCT/002018.jpeg', '/content/MedNIST/BreastMRI/003566.jpeg', '/content/MedNIST/BreastMRI/007530.jpeg', '/content/MedNIST/HeadCT/005877.jpeg', '/content/MedNIST/Hand/004054.jpeg', '/content/MedNIST/CXR/007913.jpeg', '/content/MedNIST/ChestCT/006995.jpeg', '/content/MedNIST/Hand/009684.jpeg', '/content/MedNIST/HeadCT/001985.jpeg', '/content/MedNIST/BreastMRI/008446.jpeg', '/content/MedNIST/CXR/000432.jpeg', '/content/MedNIST/ChestCT/007221.jpeg', '/content/MedNIST/AbdomenCT/008392.jpeg', '/content/MedNIST/HeadCT/007136.jpeg', '/content/MedNIST/BreastMRI/001163.jpeg', '/content/MedNIST/HeadCT/003321.jpeg', '/content/MedNIST/BreastMRI/001506.jpeg', '/content/MedNIST/ChestCT/003514.jpeg', '/content/MedNIST/ChestCT/005035.jpeg', '/content/MedNIST/CXR/007648.jpeg', '/content/MedNIST/CXR/006204.jpeg', '/content/MedNIST/Hand/003362.jpeg', '/content/MedNIST/Hand/004994.jpeg', '/content/MedNIST/CXR/005992.jpeg', '/content/MedNIST/CXR/006458.jpeg', '/content/MedNIST/CXR/005029.jpeg', '/content/MedNIST/AbdomenCT/002228.jpeg', '/content/MedNIST/HeadCT/001615.jpeg', '/content/MedNIST/AbdomenCT/001999.jpeg', '/content/MedNIST/Hand/001581.jpeg', '/content/MedNIST/ChestCT/006080.jpeg', '/content/MedNIST/BreastMRI/007824.jpeg', '/content/MedNIST/BreastMRI/003008.jpeg', '/content/MedNIST/BreastMRI/001847.jpeg', '/content/MedNIST/AbdomenCT/009447.jpeg', '/content/MedNIST/HeadCT/002941.jpeg', '/content/MedNIST/BreastMRI/003844.jpeg', '/content/MedNIST/BreastMRI/006263.jpeg', '/content/MedNIST/ChestCT/000494.jpeg', '/content/MedNIST/HeadCT/008338.jpeg', '/content/MedNIST/Hand/006586.jpeg', '/content/MedNIST/HeadCT/009516.jpeg', '/content/MedNIST/ChestCT/005270.jpeg', '/content/MedNIST/HeadCT/003974.jpeg', '/content/MedNIST/AbdomenCT/003462.jpeg', '/content/MedNIST/AbdomenCT/005418.jpeg', '/content/MedNIST/AbdomenCT/004302.jpeg', '/content/MedNIST/CXR/001395.jpeg', '/content/MedNIST/HeadCT/007456.jpeg', '/content/MedNIST/CXR/003416.jpeg', '/content/MedNIST/BreastMRI/008247.jpeg', '/content/MedNIST/ChestCT/003752.jpeg', '/content/MedNIST/BreastMRI/003247.jpeg', '/content/MedNIST/CXR/001139.jpeg', '/content/MedNIST/ChestCT/000283.jpeg', '/content/MedNIST/HeadCT/007310.jpeg', '/content/MedNIST/AbdomenCT/008991.jpeg', '/content/MedNIST/CXR/008424.jpeg', '/content/MedNIST/CXR/005705.jpeg', '/content/MedNIST/BreastMRI/005930.jpeg', '/content/MedNIST/ChestCT/003983.jpeg', '/content/MedNIST/AbdomenCT/001549.jpeg', '/content/MedNIST/Hand/003477.jpeg', '/content/MedNIST/HeadCT/008995.jpeg', '/content/MedNIST/CXR/000378.jpeg', '/content/MedNIST/ChestCT/004611.jpeg', '/content/MedNIST/Hand/004462.jpeg', '/content/MedNIST/AbdomenCT/009418.jpeg', '/content/MedNIST/CXR/002050.jpeg', '/content/MedNIST/BreastMRI/008015.jpeg', '/content/MedNIST/BreastMRI/007787.jpeg', '/content/MedNIST/AbdomenCT/006927.jpeg', '/content/MedNIST/ChestCT/005120.jpeg', '/content/MedNIST/BreastMRI/001371.jpeg', '/content/MedNIST/Hand/009845.jpeg', '/content/MedNIST/HeadCT/003518.jpeg', '/content/MedNIST/Hand/000647.jpeg', '/content/MedNIST/AbdomenCT/001669.jpeg', '/content/MedNIST/BreastMRI/006750.jpeg', '/content/MedNIST/CXR/006244.jpeg', '/content/MedNIST/BreastMRI/007955.jpeg', '/content/MedNIST/BreastMRI/007028.jpeg', '/content/MedNIST/CXR/006500.jpeg', '/content/MedNIST/ChestCT/001916.jpeg', '/content/MedNIST/HeadCT/009817.jpeg', '/content/MedNIST/AbdomenCT/007888.jpeg', '/content/MedNIST/CXR/002768.jpeg', '/content/MedNIST/ChestCT/001772.jpeg', '/content/MedNIST/AbdomenCT/009286.jpeg', '/content/MedNIST/Hand/005366.jpeg', '/content/MedNIST/AbdomenCT/008092.jpeg', '/content/MedNIST/CXR/002075.jpeg', '/content/MedNIST/BreastMRI/005126.jpeg', '/content/MedNIST/BreastMRI/000450.jpeg', '/content/MedNIST/CXR/006257.jpeg', '/content/MedNIST/HeadCT/009652.jpeg', '/content/MedNIST/CXR/007622.jpeg', '/content/MedNIST/ChestCT/008535.jpeg', '/content/MedNIST/HeadCT/000839.jpeg', '/content/MedNIST/ChestCT/007077.jpeg', '/content/MedNIST/CXR/001778.jpeg', '/content/MedNIST/HeadCT/004571.jpeg', '/content/MedNIST/HeadCT/009657.jpeg', '/content/MedNIST/CXR/004842.jpeg', '/content/MedNIST/BreastMRI/001420.jpeg', '/content/MedNIST/ChestCT/003746.jpeg', '/content/MedNIST/AbdomenCT/006369.jpeg', '/content/MedNIST/Hand/005296.jpeg', '/content/MedNIST/BreastMRI/006017.jpeg', '/content/MedNIST/Hand/009380.jpeg', '/content/MedNIST/CXR/004463.jpeg', '/content/MedNIST/AbdomenCT/007265.jpeg', '/content/MedNIST/ChestCT/009679.jpeg', '/content/MedNIST/ChestCT/006136.jpeg', '/content/MedNIST/AbdomenCT/008488.jpeg', '/content/MedNIST/BreastMRI/000362.jpeg', '/content/MedNIST/HeadCT/006850.jpeg', '/content/MedNIST/AbdomenCT/008976.jpeg', '/content/MedNIST/ChestCT/001581.jpeg', '/content/MedNIST/HeadCT/007155.jpeg', '/content/MedNIST/Hand/005515.jpeg', '/content/MedNIST/HeadCT/002875.jpeg', '/content/MedNIST/HeadCT/006515.jpeg', '/content/MedNIST/BreastMRI/005047.jpeg', '/content/MedNIST/HeadCT/008941.jpeg', '/content/MedNIST/ChestCT/004617.jpeg', '/content/MedNIST/CXR/004968.jpeg', '/content/MedNIST/HeadCT/005156.jpeg', '/content/MedNIST/CXR/006209.jpeg', '/content/MedNIST/ChestCT/004400.jpeg', '/content/MedNIST/AbdomenCT/009550.jpeg', '/content/MedNIST/Hand/000783.jpeg', '/content/MedNIST/Hand/003235.jpeg', '/content/MedNIST/AbdomenCT/009982.jpeg', '/content/MedNIST/HeadCT/000826.jpeg', '/content/MedNIST/Hand/009563.jpeg', '/content/MedNIST/HeadCT/004028.jpeg', '/content/MedNIST/ChestCT/006939.jpeg', '/content/MedNIST/AbdomenCT/007762.jpeg', '/content/MedNIST/CXR/009666.jpeg', '/content/MedNIST/BreastMRI/006523.jpeg', '/content/MedNIST/HeadCT/003156.jpeg', '/content/MedNIST/ChestCT/008407.jpeg', '/content/MedNIST/HeadCT/006206.jpeg', '/content/MedNIST/AbdomenCT/009379.jpeg', '/content/MedNIST/CXR/007759.jpeg', '/content/MedNIST/ChestCT/004107.jpeg', '/content/MedNIST/AbdomenCT/008826.jpeg', '/content/MedNIST/Hand/009953.jpeg', '/content/MedNIST/Hand/006256.jpeg', '/content/MedNIST/ChestCT/006526.jpeg', '/content/MedNIST/BreastMRI/003937.jpeg', '/content/MedNIST/ChestCT/001762.jpeg', '/content/MedNIST/Hand/002204.jpeg', '/content/MedNIST/BreastMRI/006521.jpeg', '/content/MedNIST/AbdomenCT/005847.jpeg', '/content/MedNIST/HeadCT/003025.jpeg', '/content/MedNIST/HeadCT/007380.jpeg', '/content/MedNIST/ChestCT/007633.jpeg', '/content/MedNIST/CXR/003737.jpeg', '/content/MedNIST/HeadCT/009911.jpeg', '/content/MedNIST/Hand/006083.jpeg', '/content/MedNIST/AbdomenCT/006935.jpeg', '/content/MedNIST/ChestCT/001357.jpeg', '/content/MedNIST/CXR/000542.jpeg', '/content/MedNIST/ChestCT/003999.jpeg', '/content/MedNIST/CXR/000446.jpeg', '/content/MedNIST/HeadCT/006160.jpeg', '/content/MedNIST/BreastMRI/001004.jpeg', '/content/MedNIST/Hand/008139.jpeg', '/content/MedNIST/ChestCT/002946.jpeg', '/content/MedNIST/Hand/007284.jpeg', '/content/MedNIST/HeadCT/003587.jpeg', '/content/MedNIST/HeadCT/003108.jpeg', '/content/MedNIST/BreastMRI/002393.jpeg', '/content/MedNIST/CXR/007300.jpeg', '/content/MedNIST/ChestCT/005934.jpeg', '/content/MedNIST/BreastMRI/005373.jpeg', '/content/MedNIST/Hand/005796.jpeg', '/content/MedNIST/AbdomenCT/009422.jpeg', '/content/MedNIST/AbdomenCT/005564.jpeg', '/content/MedNIST/BreastMRI/001627.jpeg', '/content/MedNIST/CXR/006178.jpeg', '/content/MedNIST/Hand/008155.jpeg', '/content/MedNIST/ChestCT/001509.jpeg', '/content/MedNIST/AbdomenCT/006934.jpeg', '/content/MedNIST/ChestCT/006659.jpeg', '/content/MedNIST/CXR/001338.jpeg', '/content/MedNIST/AbdomenCT/009279.jpeg', '/content/MedNIST/ChestCT/008524.jpeg', '/content/MedNIST/HeadCT/004867.jpeg', '/content/MedNIST/HeadCT/000391.jpeg', '/content/MedNIST/Hand/000467.jpeg', '/content/MedNIST/HeadCT/006056.jpeg', '/content/MedNIST/HeadCT/001189.jpeg', '/content/MedNIST/HeadCT/006330.jpeg', '/content/MedNIST/ChestCT/002264.jpeg', '/content/MedNIST/CXR/004456.jpeg', '/content/MedNIST/BreastMRI/005404.jpeg', '/content/MedNIST/Hand/002652.jpeg', '/content/MedNIST/CXR/005009.jpeg', '/content/MedNIST/HeadCT/006779.jpeg', '/content/MedNIST/HeadCT/009871.jpeg', '/content/MedNIST/BreastMRI/004923.jpeg', '/content/MedNIST/CXR/003587.jpeg', '/content/MedNIST/CXR/002154.jpeg', '/content/MedNIST/AbdomenCT/003732.jpeg', '/content/MedNIST/AbdomenCT/006372.jpeg', '/content/MedNIST/CXR/000361.jpeg', '/content/MedNIST/Hand/006996.jpeg', '/content/MedNIST/HeadCT/007033.jpeg', '/content/MedNIST/AbdomenCT/000763.jpeg', '/content/MedNIST/AbdomenCT/009037.jpeg', '/content/MedNIST/Hand/001637.jpeg', '/content/MedNIST/CXR/007153.jpeg', '/content/MedNIST/AbdomenCT/004538.jpeg', '/content/MedNIST/HeadCT/000344.jpeg', '/content/MedNIST/Hand/003592.jpeg', '/content/MedNIST/Hand/000166.jpeg', '/content/MedNIST/Hand/005890.jpeg', '/content/MedNIST/AbdomenCT/002995.jpeg', '/content/MedNIST/Hand/001374.jpeg', '/content/MedNIST/BreastMRI/007282.jpeg', '/content/MedNIST/CXR/005479.jpeg', '/content/MedNIST/CXR/005238.jpeg', '/content/MedNIST/HeadCT/009572.jpeg', '/content/MedNIST/AbdomenCT/005376.jpeg', '/content/MedNIST/ChestCT/004914.jpeg', '/content/MedNIST/AbdomenCT/004111.jpeg', '/content/MedNIST/BreastMRI/007923.jpeg', '/content/MedNIST/HeadCT/002586.jpeg', '/content/MedNIST/HeadCT/009573.jpeg', '/content/MedNIST/HeadCT/003943.jpeg', '/content/MedNIST/HeadCT/004370.jpeg', '/content/MedNIST/AbdomenCT/007605.jpeg', '/content/MedNIST/Hand/008377.jpeg', '/content/MedNIST/HeadCT/008527.jpeg', '/content/MedNIST/AbdomenCT/003110.jpeg', '/content/MedNIST/BreastMRI/003980.jpeg', '/content/MedNIST/AbdomenCT/005387.jpeg', '/content/MedNIST/HeadCT/008702.jpeg', '/content/MedNIST/HeadCT/001767.jpeg', '/content/MedNIST/HeadCT/001592.jpeg', '/content/MedNIST/HeadCT/000958.jpeg', '/content/MedNIST/Hand/002723.jpeg', '/content/MedNIST/Hand/000844.jpeg', '/content/MedNIST/Hand/008612.jpeg', '/content/MedNIST/Hand/007114.jpeg', '/content/MedNIST/HeadCT/002087.jpeg', '/content/MedNIST/Hand/006107.jpeg', '/content/MedNIST/HeadCT/008313.jpeg', '/content/MedNIST/ChestCT/008409.jpeg', '/content/MedNIST/CXR/007254.jpeg', '/content/MedNIST/CXR/009827.jpeg', '/content/MedNIST/ChestCT/000989.jpeg', '/content/MedNIST/CXR/006163.jpeg', '/content/MedNIST/ChestCT/002701.jpeg', '/content/MedNIST/CXR/005062.jpeg', '/content/MedNIST/AbdomenCT/009638.jpeg', '/content/MedNIST/AbdomenCT/005914.jpeg', '/content/MedNIST/ChestCT/005914.jpeg', '/content/MedNIST/CXR/000851.jpeg', '/content/MedNIST/CXR/000304.jpeg', '/content/MedNIST/HeadCT/002695.jpeg', '/content/MedNIST/AbdomenCT/002061.jpeg', '/content/MedNIST/AbdomenCT/009934.jpeg', '/content/MedNIST/ChestCT/005354.jpeg', '/content/MedNIST/Hand/000481.jpeg', '/content/MedNIST/BreastMRI/000834.jpeg', '/content/MedNIST/ChestCT/000015.jpeg', '/content/MedNIST/CXR/000647.jpeg', '/content/MedNIST/CXR/005626.jpeg', '/content/MedNIST/AbdomenCT/008735.jpeg', '/content/MedNIST/ChestCT/002255.jpeg', '/content/MedNIST/HeadCT/001827.jpeg', '/content/MedNIST/AbdomenCT/001364.jpeg', '/content/MedNIST/Hand/001582.jpeg', '/content/MedNIST/Hand/001348.jpeg', '/content/MedNIST/CXR/001880.jpeg', '/content/MedNIST/HeadCT/000567.jpeg', '/content/MedNIST/HeadCT/008403.jpeg', '/content/MedNIST/HeadCT/008096.jpeg', '/content/MedNIST/ChestCT/004409.jpeg', '/content/MedNIST/HeadCT/002728.jpeg', '/content/MedNIST/CXR/006963.jpeg', '/content/MedNIST/ChestCT/004881.jpeg', '/content/MedNIST/BreastMRI/008046.jpeg', '/content/MedNIST/Hand/007414.jpeg', '/content/MedNIST/Hand/004781.jpeg', '/content/MedNIST/HeadCT/003094.jpeg', '/content/MedNIST/ChestCT/004106.jpeg', '/content/MedNIST/CXR/000069.jpeg', '/content/MedNIST/HeadCT/000649.jpeg', '/content/MedNIST/HeadCT/006691.jpeg', '/content/MedNIST/ChestCT/004653.jpeg', '/content/MedNIST/ChestCT/004188.jpeg', '/content/MedNIST/BreastMRI/008484.jpeg', '/content/MedNIST/CXR/009371.jpeg', '/content/MedNIST/AbdomenCT/004476.jpeg', '/content/MedNIST/HeadCT/005232.jpeg', '/content/MedNIST/Hand/000972.jpeg', '/content/MedNIST/CXR/006776.jpeg', '/content/MedNIST/CXR/005622.jpeg', '/content/MedNIST/BreastMRI/001383.jpeg', '/content/MedNIST/BreastMRI/004196.jpeg', '/content/MedNIST/AbdomenCT/005669.jpeg', '/content/MedNIST/BreastMRI/002752.jpeg', '/content/MedNIST/BreastMRI/002345.jpeg', '/content/MedNIST/HeadCT/005395.jpeg', '/content/MedNIST/ChestCT/003001.jpeg', '/content/MedNIST/HeadCT/000369.jpeg', '/content/MedNIST/HeadCT/003278.jpeg', '/content/MedNIST/AbdomenCT/005034.jpeg', '/content/MedNIST/BreastMRI/001218.jpeg', '/content/MedNIST/CXR/002373.jpeg', '/content/MedNIST/ChestCT/002627.jpeg', '/content/MedNIST/Hand/008338.jpeg', '/content/MedNIST/HeadCT/008102.jpeg', '/content/MedNIST/ChestCT/009209.jpeg', '/content/MedNIST/AbdomenCT/006458.jpeg', '/content/MedNIST/CXR/006446.jpeg', '/content/MedNIST/CXR/005204.jpeg', '/content/MedNIST/ChestCT/008723.jpeg', '/content/MedNIST/ChestCT/008115.jpeg', '/content/MedNIST/BreastMRI/005714.jpeg', '/content/MedNIST/Hand/007723.jpeg', '/content/MedNIST/ChestCT/009682.jpeg', '/content/MedNIST/CXR/002796.jpeg', '/content/MedNIST/CXR/006903.jpeg', '/content/MedNIST/HeadCT/007296.jpeg', '/content/MedNIST/ChestCT/006876.jpeg', '/content/MedNIST/BreastMRI/003385.jpeg', '/content/MedNIST/HeadCT/005945.jpeg', '/content/MedNIST/CXR/004468.jpeg', '/content/MedNIST/HeadCT/006662.jpeg', '/content/MedNIST/CXR/007366.jpeg', '/content/MedNIST/HeadCT/006102.jpeg', '/content/MedNIST/CXR/006512.jpeg', '/content/MedNIST/CXR/002126.jpeg', '/content/MedNIST/ChestCT/005627.jpeg', '/content/MedNIST/CXR/001788.jpeg', '/content/MedNIST/CXR/002880.jpeg', '/content/MedNIST/BreastMRI/000162.jpeg', '/content/MedNIST/ChestCT/007687.jpeg', '/content/MedNIST/BreastMRI/001972.jpeg', '/content/MedNIST/BreastMRI/007441.jpeg', '/content/MedNIST/Hand/006367.jpeg', '/content/MedNIST/ChestCT/000461.jpeg', '/content/MedNIST/HeadCT/003241.jpeg', '/content/MedNIST/Hand/001371.jpeg', '/content/MedNIST/AbdomenCT/009683.jpeg', '/content/MedNIST/CXR/008453.jpeg', '/content/MedNIST/BreastMRI/007799.jpeg', '/content/MedNIST/BreastMRI/000195.jpeg', '/content/MedNIST/AbdomenCT/006656.jpeg', '/content/MedNIST/BreastMRI/006134.jpeg', '/content/MedNIST/BreastMRI/004293.jpeg', '/content/MedNIST/Hand/005998.jpeg', '/content/MedNIST/Hand/002007.jpeg', '/content/MedNIST/Hand/001735.jpeg', '/content/MedNIST/AbdomenCT/009425.jpeg', '/content/MedNIST/CXR/009444.jpeg', '/content/MedNIST/Hand/001824.jpeg', '/content/MedNIST/HeadCT/004451.jpeg', '/content/MedNIST/AbdomenCT/006002.jpeg', '/content/MedNIST/CXR/008016.jpeg', '/content/MedNIST/CXR/004398.jpeg', '/content/MedNIST/Hand/003750.jpeg', '/content/MedNIST/Hand/003284.jpeg', '/content/MedNIST/AbdomenCT/005961.jpeg', '/content/MedNIST/CXR/003651.jpeg', '/content/MedNIST/HeadCT/001748.jpeg', '/content/MedNIST/CXR/008559.jpeg', '/content/MedNIST/BreastMRI/002970.jpeg', '/content/MedNIST/Hand/002944.jpeg', '/content/MedNIST/BreastMRI/008536.jpeg', '/content/MedNIST/ChestCT/000656.jpeg', '/content/MedNIST/CXR/001161.jpeg', '/content/MedNIST/BreastMRI/000948.jpeg', '/content/MedNIST/HeadCT/000016.jpeg', '/content/MedNIST/ChestCT/006030.jpeg', '/content/MedNIST/ChestCT/007084.jpeg', '/content/MedNIST/Hand/007728.jpeg', '/content/MedNIST/Hand/003049.jpeg', '/content/MedNIST/HeadCT/000064.jpeg', '/content/MedNIST/CXR/004855.jpeg', '/content/MedNIST/HeadCT/000650.jpeg', '/content/MedNIST/CXR/009450.jpeg', '/content/MedNIST/ChestCT/003366.jpeg', '/content/MedNIST/Hand/000955.jpeg', '/content/MedNIST/ChestCT/008951.jpeg', '/content/MedNIST/AbdomenCT/009137.jpeg', '/content/MedNIST/CXR/002915.jpeg', '/content/MedNIST/Hand/006709.jpeg', '/content/MedNIST/BreastMRI/004311.jpeg', '/content/MedNIST/AbdomenCT/005807.jpeg', '/content/MedNIST/AbdomenCT/001398.jpeg', '/content/MedNIST/HeadCT/006134.jpeg', '/content/MedNIST/BreastMRI/001411.jpeg', '/content/MedNIST/BreastMRI/005754.jpeg', '/content/MedNIST/ChestCT/004238.jpeg', '/content/MedNIST/Hand/001506.jpeg', '/content/MedNIST/AbdomenCT/000059.jpeg', '/content/MedNIST/ChestCT/003974.jpeg', '/content/MedNIST/ChestCT/007234.jpeg', '/content/MedNIST/ChestCT/006843.jpeg', '/content/MedNIST/Hand/000503.jpeg', '/content/MedNIST/CXR/000911.jpeg', '/content/MedNIST/HeadCT/003875.jpeg', '/content/MedNIST/Hand/001787.jpeg', '/content/MedNIST/BreastMRI/007565.jpeg', '/content/MedNIST/AbdomenCT/009850.jpeg', '/content/MedNIST/CXR/002834.jpeg', '/content/MedNIST/AbdomenCT/009594.jpeg', '/content/MedNIST/CXR/005670.jpeg', '/content/MedNIST/BreastMRI/001140.jpeg', '/content/MedNIST/AbdomenCT/005195.jpeg', '/content/MedNIST/HeadCT/006510.jpeg', '/content/MedNIST/HeadCT/000146.jpeg', '/content/MedNIST/Hand/006046.jpeg', '/content/MedNIST/AbdomenCT/002849.jpeg', '/content/MedNIST/AbdomenCT/007727.jpeg', '/content/MedNIST/ChestCT/007688.jpeg', '/content/MedNIST/HeadCT/002933.jpeg', '/content/MedNIST/BreastMRI/001451.jpeg', '/content/MedNIST/HeadCT/004429.jpeg', '/content/MedNIST/ChestCT/008243.jpeg', '/content/MedNIST/HeadCT/002285.jpeg', '/content/MedNIST/HeadCT/005773.jpeg', '/content/MedNIST/ChestCT/003556.jpeg', '/content/MedNIST/CXR/003492.jpeg', '/content/MedNIST/HeadCT/002956.jpeg', '/content/MedNIST/AbdomenCT/006786.jpeg', '/content/MedNIST/AbdomenCT/003364.jpeg', '/content/MedNIST/AbdomenCT/004201.jpeg', '/content/MedNIST/CXR/006711.jpeg', '/content/MedNIST/Hand/001010.jpeg', '/content/MedNIST/BreastMRI/001421.jpeg', '/content/MedNIST/CXR/002165.jpeg', '/content/MedNIST/ChestCT/007061.jpeg', '/content/MedNIST/Hand/001617.jpeg', '/content/MedNIST/ChestCT/005430.jpeg', '/content/MedNIST/ChestCT/004272.jpeg', '/content/MedNIST/BreastMRI/003227.jpeg', '/content/MedNIST/Hand/005052.jpeg', '/content/MedNIST/BreastMRI/007828.jpeg', '/content/MedNIST/AbdomenCT/004114.jpeg', '/content/MedNIST/ChestCT/008856.jpeg', '/content/MedNIST/BreastMRI/004181.jpeg', '/content/MedNIST/CXR/001293.jpeg', '/content/MedNIST/Hand/007785.jpeg', '/content/MedNIST/Hand/008282.jpeg', '/content/MedNIST/CXR/004551.jpeg', '/content/MedNIST/ChestCT/009240.jpeg', '/content/MedNIST/ChestCT/000788.jpeg', '/content/MedNIST/Hand/000118.jpeg', '/content/MedNIST/ChestCT/006010.jpeg', '/content/MedNIST/ChestCT/007925.jpeg', '/content/MedNIST/Hand/006448.jpeg', '/content/MedNIST/AbdomenCT/000497.jpeg', '/content/MedNIST/AbdomenCT/003115.jpeg', '/content/MedNIST/BreastMRI/001014.jpeg', '/content/MedNIST/Hand/005196.jpeg', '/content/MedNIST/Hand/009807.jpeg', '/content/MedNIST/HeadCT/004042.jpeg', '/content/MedNIST/CXR/009335.jpeg', '/content/MedNIST/HeadCT/005597.jpeg', '/content/MedNIST/BreastMRI/000660.jpeg', '/content/MedNIST/Hand/008202.jpeg', '/content/MedNIST/CXR/008577.jpeg', '/content/MedNIST/Hand/003379.jpeg', '/content/MedNIST/Hand/009964.jpeg', '/content/MedNIST/BreastMRI/005498.jpeg', '/content/MedNIST/AbdomenCT/004958.jpeg', '/content/MedNIST/CXR/009973.jpeg', '/content/MedNIST/HeadCT/005977.jpeg', '/content/MedNIST/Hand/003491.jpeg', '/content/MedNIST/Hand/001767.jpeg', '/content/MedNIST/CXR/006135.jpeg', '/content/MedNIST/BreastMRI/007977.jpeg', '/content/MedNIST/ChestCT/001857.jpeg', '/content/MedNIST/Hand/006319.jpeg', '/content/MedNIST/HeadCT/008878.jpeg', '/content/MedNIST/AbdomenCT/008220.jpeg', '/content/MedNIST/ChestCT/004113.jpeg', '/content/MedNIST/HeadCT/005673.jpeg', '/content/MedNIST/CXR/000261.jpeg', '/content/MedNIST/CXR/005883.jpeg', '/content/MedNIST/ChestCT/008196.jpeg', '/content/MedNIST/HeadCT/004545.jpeg', '/content/MedNIST/AbdomenCT/003016.jpeg', '/content/MedNIST/BreastMRI/005906.jpeg', '/content/MedNIST/BreastMRI/000250.jpeg', '/content/MedNIST/AbdomenCT/008144.jpeg', '/content/MedNIST/BreastMRI/004732.jpeg', '/content/MedNIST/ChestCT/004028.jpeg', '/content/MedNIST/HeadCT/005249.jpeg', '/content/MedNIST/Hand/003594.jpeg', '/content/MedNIST/AbdomenCT/009284.jpeg', '/content/MedNIST/ChestCT/002774.jpeg', '/content/MedNIST/BreastMRI/002682.jpeg', '/content/MedNIST/CXR/002025.jpeg', '/content/MedNIST/HeadCT/001509.jpeg', '/content/MedNIST/Hand/005066.jpeg', '/content/MedNIST/ChestCT/004377.jpeg', '/content/MedNIST/Hand/008067.jpeg', '/content/MedNIST/BreastMRI/003988.jpeg', '/content/MedNIST/HeadCT/000200.jpeg', '/content/MedNIST/ChestCT/007073.jpeg', '/content/MedNIST/HeadCT/002478.jpeg', '/content/MedNIST/ChestCT/001221.jpeg', '/content/MedNIST/BreastMRI/005768.jpeg', '/content/MedNIST/ChestCT/009104.jpeg', '/content/MedNIST/HeadCT/000195.jpeg', '/content/MedNIST/AbdomenCT/006949.jpeg', '/content/MedNIST/AbdomenCT/004661.jpeg', '/content/MedNIST/AbdomenCT/006615.jpeg', '/content/MedNIST/CXR/004974.jpeg', '/content/MedNIST/CXR/005153.jpeg', '/content/MedNIST/Hand/004978.jpeg', '/content/MedNIST/ChestCT/008869.jpeg', '/content/MedNIST/CXR/000586.jpeg', '/content/MedNIST/Hand/006969.jpeg', '/content/MedNIST/HeadCT/003160.jpeg', '/content/MedNIST/CXR/007490.jpeg', '/content/MedNIST/CXR/008813.jpeg', '/content/MedNIST/CXR/004235.jpeg', '/content/MedNIST/CXR/004907.jpeg', '/content/MedNIST/Hand/009387.jpeg', '/content/MedNIST/AbdomenCT/007490.jpeg', '/content/MedNIST/BreastMRI/002299.jpeg', '/content/MedNIST/Hand/008866.jpeg', '/content/MedNIST/ChestCT/006779.jpeg', '/content/MedNIST/BreastMRI/005195.jpeg', '/content/MedNIST/ChestCT/007311.jpeg', '/content/MedNIST/HeadCT/001766.jpeg', '/content/MedNIST/BreastMRI/003038.jpeg', '/content/MedNIST/BreastMRI/008345.jpeg', '/content/MedNIST/HeadCT/007498.jpeg', '/content/MedNIST/HeadCT/001074.jpeg', '/content/MedNIST/Hand/001599.jpeg', '/content/MedNIST/ChestCT/008980.jpeg', '/content/MedNIST/CXR/008373.jpeg', '/content/MedNIST/BreastMRI/006145.jpeg', '/content/MedNIST/HeadCT/008161.jpeg', '/content/MedNIST/CXR/002434.jpeg', '/content/MedNIST/Hand/003541.jpeg', '/content/MedNIST/BreastMRI/004793.jpeg', '/content/MedNIST/BreastMRI/008563.jpeg', '/content/MedNIST/CXR/003681.jpeg', '/content/MedNIST/HeadCT/005991.jpeg', '/content/MedNIST/HeadCT/007745.jpeg', '/content/MedNIST/CXR/004395.jpeg', '/content/MedNIST/HeadCT/008865.jpeg', '/content/MedNIST/BreastMRI/007414.jpeg', '/content/MedNIST/BreastMRI/001482.jpeg', '/content/MedNIST/HeadCT/003232.jpeg', '/content/MedNIST/AbdomenCT/008405.jpeg', '/content/MedNIST/CXR/005893.jpeg', '/content/MedNIST/AbdomenCT/004151.jpeg', '/content/MedNIST/HeadCT/000123.jpeg', '/content/MedNIST/ChestCT/003853.jpeg', '/content/MedNIST/Hand/006094.jpeg', '/content/MedNIST/ChestCT/002414.jpeg', '/content/MedNIST/ChestCT/007421.jpeg', '/content/MedNIST/BreastMRI/002793.jpeg', '/content/MedNIST/BreastMRI/001120.jpeg', '/content/MedNIST/ChestCT/008743.jpeg', '/content/MedNIST/HeadCT/003037.jpeg', '/content/MedNIST/HeadCT/007796.jpeg', '/content/MedNIST/ChestCT/005325.jpeg', '/content/MedNIST/ChestCT/005180.jpeg', '/content/MedNIST/HeadCT/001070.jpeg', '/content/MedNIST/Hand/004268.jpeg', '/content/MedNIST/HeadCT/002228.jpeg', '/content/MedNIST/CXR/000819.jpeg', '/content/MedNIST/BreastMRI/003071.jpeg', '/content/MedNIST/ChestCT/002390.jpeg', '/content/MedNIST/BreastMRI/008120.jpeg', '/content/MedNIST/HeadCT/002277.jpeg', '/content/MedNIST/Hand/004252.jpeg', '/content/MedNIST/HeadCT/004615.jpeg', '/content/MedNIST/Hand/004298.jpeg', '/content/MedNIST/CXR/001310.jpeg', '/content/MedNIST/Hand/002712.jpeg', '/content/MedNIST/Hand/004607.jpeg', '/content/MedNIST/AbdomenCT/001896.jpeg', '/content/MedNIST/AbdomenCT/006187.jpeg', '/content/MedNIST/AbdomenCT/003463.jpeg', '/content/MedNIST/CXR/003929.jpeg', '/content/MedNIST/BreastMRI/001198.jpeg', '/content/MedNIST/HeadCT/002282.jpeg', '/content/MedNIST/AbdomenCT/009985.jpeg', '/content/MedNIST/HeadCT/008627.jpeg', '/content/MedNIST/Hand/001443.jpeg', '/content/MedNIST/CXR/007496.jpeg', '/content/MedNIST/ChestCT/005660.jpeg', '/content/MedNIST/AbdomenCT/008846.jpeg', '/content/MedNIST/AbdomenCT/000880.jpeg', '/content/MedNIST/BreastMRI/006323.jpeg', '/content/MedNIST/ChestCT/001431.jpeg', '/content/MedNIST/ChestCT/007431.jpeg', '/content/MedNIST/Hand/009712.jpeg', '/content/MedNIST/AbdomenCT/007938.jpeg', '/content/MedNIST/CXR/006687.jpeg', '/content/MedNIST/CXR/005314.jpeg', '/content/MedNIST/HeadCT/005813.jpeg', '/content/MedNIST/CXR/008237.jpeg', '/content/MedNIST/AbdomenCT/009490.jpeg', '/content/MedNIST/ChestCT/007367.jpeg', '/content/MedNIST/ChestCT/004927.jpeg', '/content/MedNIST/CXR/006005.jpeg', '/content/MedNIST/AbdomenCT/002028.jpeg', '/content/MedNIST/AbdomenCT/009251.jpeg', '/content/MedNIST/ChestCT/001288.jpeg', '/content/MedNIST/BreastMRI/005269.jpeg', '/content/MedNIST/CXR/007389.jpeg', '/content/MedNIST/BreastMRI/004833.jpeg', '/content/MedNIST/CXR/006234.jpeg', '/content/MedNIST/BreastMRI/002474.jpeg', '/content/MedNIST/HeadCT/008189.jpeg', '/content/MedNIST/ChestCT/004252.jpeg', '/content/MedNIST/BreastMRI/007286.jpeg', '/content/MedNIST/ChestCT/008082.jpeg', '/content/MedNIST/HeadCT/000382.jpeg', '/content/MedNIST/Hand/008007.jpeg', '/content/MedNIST/ChestCT/004548.jpeg', '/content/MedNIST/HeadCT/008536.jpeg', '/content/MedNIST/Hand/005731.jpeg', '/content/MedNIST/AbdomenCT/004492.jpeg', '/content/MedNIST/CXR/004642.jpeg', '/content/MedNIST/ChestCT/000123.jpeg', '/content/MedNIST/Hand/009374.jpeg', '/content/MedNIST/CXR/009746.jpeg', '/content/MedNIST/BreastMRI/005188.jpeg', '/content/MedNIST/AbdomenCT/002327.jpeg', '/content/MedNIST/BreastMRI/008566.jpeg', '/content/MedNIST/Hand/004420.jpeg', '/content/MedNIST/BreastMRI/007860.jpeg', '/content/MedNIST/Hand/005933.jpeg', '/content/MedNIST/Hand/001641.jpeg', '/content/MedNIST/CXR/005268.jpeg', '/content/MedNIST/Hand/006977.jpeg', '/content/MedNIST/Hand/000597.jpeg', '/content/MedNIST/ChestCT/002110.jpeg', '/content/MedNIST/BreastMRI/001011.jpeg', '/content/MedNIST/Hand/005209.jpeg', '/content/MedNIST/AbdomenCT/005684.jpeg', '/content/MedNIST/Hand/007775.jpeg', '/content/MedNIST/CXR/000760.jpeg', '/content/MedNIST/AbdomenCT/006442.jpeg', '/content/MedNIST/AbdomenCT/007619.jpeg', '/content/MedNIST/Hand/003711.jpeg', '/content/MedNIST/BreastMRI/008304.jpeg', '/content/MedNIST/ChestCT/003167.jpeg', '/content/MedNIST/BreastMRI/000207.jpeg', '/content/MedNIST/CXR/006016.jpeg', '/content/MedNIST/BreastMRI/005894.jpeg', '/content/MedNIST/Hand/005352.jpeg', '/content/MedNIST/ChestCT/003543.jpeg', '/content/MedNIST/HeadCT/004622.jpeg', '/content/MedNIST/ChestCT/003114.jpeg', '/content/MedNIST/BreastMRI/003799.jpeg', '/content/MedNIST/CXR/002079.jpeg', '/content/MedNIST/AbdomenCT/003933.jpeg', '/content/MedNIST/ChestCT/002537.jpeg', '/content/MedNIST/ChestCT/002329.jpeg', '/content/MedNIST/BreastMRI/007194.jpeg', '/content/MedNIST/Hand/007615.jpeg', '/content/MedNIST/Hand/001385.jpeg', '/content/MedNIST/AbdomenCT/008563.jpeg', '/content/MedNIST/HeadCT/001045.jpeg', '/content/MedNIST/AbdomenCT/005753.jpeg', '/content/MedNIST/BreastMRI/007479.jpeg', '/content/MedNIST/ChestCT/004554.jpeg', '/content/MedNIST/ChestCT/007956.jpeg', '/content/MedNIST/CXR/003347.jpeg', '/content/MedNIST/CXR/002841.jpeg', '/content/MedNIST/ChestCT/009081.jpeg', '/content/MedNIST/Hand/009294.jpeg', '/content/MedNIST/Hand/004337.jpeg', '/content/MedNIST/CXR/006745.jpeg', '/content/MedNIST/Hand/005695.jpeg', '/content/MedNIST/BreastMRI/002442.jpeg', '/content/MedNIST/HeadCT/001771.jpeg', '/content/MedNIST/Hand/005176.jpeg', '/content/MedNIST/Hand/003217.jpeg', '/content/MedNIST/HeadCT/007048.jpeg', '/content/MedNIST/HeadCT/004735.jpeg', '/content/MedNIST/BreastMRI/000432.jpeg', '/content/MedNIST/Hand/009983.jpeg', '/content/MedNIST/BreastMRI/008271.jpeg', '/content/MedNIST/HeadCT/006235.jpeg', '/content/MedNIST/CXR/007504.jpeg', '/content/MedNIST/Hand/001501.jpeg', '/content/MedNIST/Hand/003005.jpeg', '/content/MedNIST/ChestCT/002106.jpeg', '/content/MedNIST/Hand/002834.jpeg', '/content/MedNIST/ChestCT/000389.jpeg', '/content/MedNIST/CXR/007766.jpeg', '/content/MedNIST/AbdomenCT/009502.jpeg', '/content/MedNIST/ChestCT/004042.jpeg', '/content/MedNIST/AbdomenCT/009190.jpeg', '/content/MedNIST/BreastMRI/001028.jpeg', '/content/MedNIST/BreastMRI/003457.jpeg', '/content/MedNIST/ChestCT/002960.jpeg', '/content/MedNIST/Hand/005736.jpeg', '/content/MedNIST/Hand/002516.jpeg', '/content/MedNIST/Hand/009492.jpeg', '/content/MedNIST/HeadCT/005005.jpeg', '/content/MedNIST/CXR/009805.jpeg', '/content/MedNIST/AbdomenCT/001174.jpeg', '/content/MedNIST/BreastMRI/008214.jpeg', '/content/MedNIST/HeadCT/001286.jpeg', '/content/MedNIST/Hand/005618.jpeg', '/content/MedNIST/AbdomenCT/000490.jpeg', '/content/MedNIST/HeadCT/000862.jpeg', '/content/MedNIST/AbdomenCT/002897.jpeg', '/content/MedNIST/HeadCT/009711.jpeg', '/content/MedNIST/CXR/005913.jpeg', '/content/MedNIST/AbdomenCT/005361.jpeg', '/content/MedNIST/BreastMRI/000963.jpeg', '/content/MedNIST/ChestCT/004707.jpeg', '/content/MedNIST/ChestCT/002477.jpeg', '/content/MedNIST/BreastMRI/000947.jpeg', '/content/MedNIST/AbdomenCT/002404.jpeg', '/content/MedNIST/ChestCT/008560.jpeg', '/content/MedNIST/CXR/001108.jpeg', '/content/MedNIST/CXR/002893.jpeg', '/content/MedNIST/AbdomenCT/007855.jpeg', '/content/MedNIST/CXR/001316.jpeg', '/content/MedNIST/ChestCT/008033.jpeg', '/content/MedNIST/HeadCT/002976.jpeg', '/content/MedNIST/CXR/009376.jpeg', '/content/MedNIST/HeadCT/008476.jpeg', '/content/MedNIST/ChestCT/009298.jpeg', '/content/MedNIST/HeadCT/007817.jpeg', '/content/MedNIST/CXR/005601.jpeg', '/content/MedNIST/CXR/003885.jpeg', '/content/MedNIST/ChestCT/004919.jpeg', '/content/MedNIST/HeadCT/009821.jpeg', '/content/MedNIST/ChestCT/006756.jpeg', '/content/MedNIST/AbdomenCT/004869.jpeg', '/content/MedNIST/AbdomenCT/005009.jpeg', '/content/MedNIST/Hand/006077.jpeg', '/content/MedNIST/BreastMRI/007317.jpeg', '/content/MedNIST/CXR/002350.jpeg', '/content/MedNIST/Hand/002697.jpeg', '/content/MedNIST/AbdomenCT/002402.jpeg', '/content/MedNIST/BreastMRI/000768.jpeg', '/content/MedNIST/AbdomenCT/002699.jpeg', '/content/MedNIST/Hand/002569.jpeg', '/content/MedNIST/BreastMRI/007470.jpeg', '/content/MedNIST/AbdomenCT/009573.jpeg', '/content/MedNIST/BreastMRI/003538.jpeg', '/content/MedNIST/HeadCT/009021.jpeg', '/content/MedNIST/ChestCT/008251.jpeg', '/content/MedNIST/AbdomenCT/007396.jpeg', '/content/MedNIST/BreastMRI/008824.jpeg', '/content/MedNIST/Hand/006425.jpeg', '/content/MedNIST/AbdomenCT/000986.jpeg', '/content/MedNIST/HeadCT/001064.jpeg', '/content/MedNIST/CXR/007612.jpeg', '/content/MedNIST/AbdomenCT/002617.jpeg', '/content/MedNIST/BreastMRI/004861.jpeg', '/content/MedNIST/CXR/008414.jpeg', '/content/MedNIST/BreastMRI/002246.jpeg', '/content/MedNIST/HeadCT/002440.jpeg', '/content/MedNIST/HeadCT/007590.jpeg', '/content/MedNIST/BreastMRI/002879.jpeg', '/content/MedNIST/Hand/005982.jpeg', '/content/MedNIST/CXR/005618.jpeg', '/content/MedNIST/CXR/005287.jpeg', '/content/MedNIST/Hand/003796.jpeg', '/content/MedNIST/BreastMRI/001396.jpeg', '/content/MedNIST/Hand/005342.jpeg', '/content/MedNIST/AbdomenCT/007929.jpeg', '/content/MedNIST/AbdomenCT/004712.jpeg', '/content/MedNIST/HeadCT/003965.jpeg', '/content/MedNIST/ChestCT/009277.jpeg', '/content/MedNIST/Hand/009954.jpeg', '/content/MedNIST/AbdomenCT/006939.jpeg', '/content/MedNIST/AbdomenCT/004940.jpeg', '/content/MedNIST/HeadCT/006544.jpeg', '/content/MedNIST/HeadCT/005740.jpeg', '/content/MedNIST/CXR/003663.jpeg', '/content/MedNIST/ChestCT/001642.jpeg', '/content/MedNIST/ChestCT/006329.jpeg', '/content/MedNIST/AbdomenCT/002333.jpeg', '/content/MedNIST/ChestCT/002328.jpeg', '/content/MedNIST/ChestCT/001996.jpeg', '/content/MedNIST/Hand/009978.jpeg', '/content/MedNIST/AbdomenCT/002201.jpeg', '/content/MedNIST/ChestCT/007539.jpeg', '/content/MedNIST/Hand/001435.jpeg', '/content/MedNIST/ChestCT/008003.jpeg', '/content/MedNIST/CXR/005852.jpeg', '/content/MedNIST/CXR/003231.jpeg', '/content/MedNIST/ChestCT/001341.jpeg', '/content/MedNIST/ChestCT/004348.jpeg', '/content/MedNIST/Hand/004294.jpeg', '/content/MedNIST/CXR/000375.jpeg', '/content/MedNIST/CXR/008961.jpeg', '/content/MedNIST/AbdomenCT/002920.jpeg', '/content/MedNIST/Hand/009618.jpeg', '/content/MedNIST/BreastMRI/008377.jpeg', '/content/MedNIST/CXR/006992.jpeg', '/content/MedNIST/CXR/009819.jpeg', '/content/MedNIST/CXR/009695.jpeg', '/content/MedNIST/HeadCT/005638.jpeg', '/content/MedNIST/Hand/002364.jpeg', '/content/MedNIST/Hand/001267.jpeg', '/content/MedNIST/HeadCT/007050.jpeg', '/content/MedNIST/BreastMRI/005151.jpeg', '/content/MedNIST/AbdomenCT/005626.jpeg', '/content/MedNIST/ChestCT/005751.jpeg', '/content/MedNIST/CXR/007623.jpeg', '/content/MedNIST/CXR/003560.jpeg', '/content/MedNIST/AbdomenCT/005915.jpeg', '/content/MedNIST/AbdomenCT/000848.jpeg', '/content/MedNIST/Hand/005082.jpeg', '/content/MedNIST/HeadCT/004114.jpeg', '/content/MedNIST/ChestCT/007571.jpeg', '/content/MedNIST/Hand/006720.jpeg', '/content/MedNIST/BreastMRI/003751.jpeg', '/content/MedNIST/BreastMRI/000917.jpeg', '/content/MedNIST/HeadCT/007582.jpeg', '/content/MedNIST/ChestCT/001547.jpeg', '/content/MedNIST/CXR/000579.jpeg', '/content/MedNIST/CXR/004833.jpeg', '/content/MedNIST/Hand/008734.jpeg', '/content/MedNIST/BreastMRI/006166.jpeg', '/content/MedNIST/ChestCT/005088.jpeg', '/content/MedNIST/AbdomenCT/004282.jpeg', '/content/MedNIST/CXR/002143.jpeg', '/content/MedNIST/BreastMRI/002013.jpeg', '/content/MedNIST/BreastMRI/008648.jpeg', '/content/MedNIST/AbdomenCT/007411.jpeg', '/content/MedNIST/Hand/004121.jpeg', '/content/MedNIST/BreastMRI/004708.jpeg', '/content/MedNIST/BreastMRI/007416.jpeg', '/content/MedNIST/BreastMRI/003321.jpeg', '/content/MedNIST/ChestCT/006725.jpeg', '/content/MedNIST/AbdomenCT/007877.jpeg', '/content/MedNIST/AbdomenCT/004586.jpeg', '/content/MedNIST/CXR/002102.jpeg', '/content/MedNIST/Hand/004517.jpeg', '/content/MedNIST/HeadCT/000446.jpeg', '/content/MedNIST/Hand/000697.jpeg', '/content/MedNIST/HeadCT/009105.jpeg', '/content/MedNIST/AbdomenCT/007287.jpeg', '/content/MedNIST/AbdomenCT/006837.jpeg', '/content/MedNIST/CXR/001270.jpeg', '/content/MedNIST/AbdomenCT/007864.jpeg', '/content/MedNIST/Hand/009517.jpeg', '/content/MedNIST/HeadCT/006767.jpeg', '/content/MedNIST/BreastMRI/006084.jpeg', '/content/MedNIST/CXR/009897.jpeg', '/content/MedNIST/BreastMRI/007281.jpeg', '/content/MedNIST/Hand/008080.jpeg', '/content/MedNIST/Hand/009758.jpeg', '/content/MedNIST/BreastMRI/006786.jpeg', '/content/MedNIST/BreastMRI/002724.jpeg', '/content/MedNIST/AbdomenCT/001786.jpeg', '/content/MedNIST/BreastMRI/006966.jpeg', '/content/MedNIST/ChestCT/009042.jpeg', '/content/MedNIST/AbdomenCT/004480.jpeg', '/content/MedNIST/AbdomenCT/005998.jpeg', '/content/MedNIST/ChestCT/000280.jpeg', '/content/MedNIST/Hand/003588.jpeg', '/content/MedNIST/ChestCT/003778.jpeg', '/content/MedNIST/ChestCT/000486.jpeg', '/content/MedNIST/CXR/002329.jpeg', '/content/MedNIST/Hand/005908.jpeg', '/content/MedNIST/AbdomenCT/003741.jpeg', '/content/MedNIST/CXR/008731.jpeg', '/content/MedNIST/ChestCT/008231.jpeg', '/content/MedNIST/HeadCT/009743.jpeg', '/content/MedNIST/AbdomenCT/007078.jpeg', '/content/MedNIST/BreastMRI/008485.jpeg', '/content/MedNIST/Hand/004317.jpeg', '/content/MedNIST/AbdomenCT/002745.jpeg', '/content/MedNIST/AbdomenCT/003622.jpeg', '/content/MedNIST/ChestCT/006772.jpeg', '/content/MedNIST/CXR/009765.jpeg', '/content/MedNIST/ChestCT/000556.jpeg', '/content/MedNIST/BreastMRI/007536.jpeg', '/content/MedNIST/BreastMRI/005538.jpeg', '/content/MedNIST/Hand/004615.jpeg', '/content/MedNIST/HeadCT/002707.jpeg', '/content/MedNIST/BreastMRI/000086.jpeg', '/content/MedNIST/AbdomenCT/005902.jpeg', '/content/MedNIST/Hand/009420.jpeg', '/content/MedNIST/AbdomenCT/000307.jpeg', '/content/MedNIST/ChestCT/005679.jpeg', '/content/MedNIST/Hand/001206.jpeg', '/content/MedNIST/BreastMRI/001845.jpeg', '/content/MedNIST/CXR/007031.jpeg', '/content/MedNIST/AbdomenCT/003467.jpeg', '/content/MedNIST/AbdomenCT/004937.jpeg', '/content/MedNIST/BreastMRI/001680.jpeg', '/content/MedNIST/BreastMRI/006928.jpeg', '/content/MedNIST/AbdomenCT/006109.jpeg', '/content/MedNIST/BreastMRI/008216.jpeg', '/content/MedNIST/CXR/000635.jpeg', '/content/MedNIST/Hand/008905.jpeg', '/content/MedNIST/AbdomenCT/001256.jpeg', '/content/MedNIST/BreastMRI/003269.jpeg', '/content/MedNIST/AbdomenCT/006921.jpeg', '/content/MedNIST/AbdomenCT/008398.jpeg', '/content/MedNIST/Hand/000716.jpeg', '/content/MedNIST/CXR/001933.jpeg', '/content/MedNIST/HeadCT/001783.jpeg', '/content/MedNIST/Hand/009226.jpeg', '/content/MedNIST/HeadCT/008398.jpeg', '/content/MedNIST/BreastMRI/007241.jpeg', '/content/MedNIST/Hand/002959.jpeg', '/content/MedNIST/AbdomenCT/000803.jpeg', '/content/MedNIST/BreastMRI/007527.jpeg', '/content/MedNIST/BreastMRI/000464.jpeg', '/content/MedNIST/ChestCT/002221.jpeg', '/content/MedNIST/AbdomenCT/001372.jpeg', '/content/MedNIST/HeadCT/009705.jpeg', '/content/MedNIST/CXR/001088.jpeg', '/content/MedNIST/AbdomenCT/005052.jpeg', '/content/MedNIST/ChestCT/008589.jpeg', '/content/MedNIST/ChestCT/000545.jpeg', '/content/MedNIST/BreastMRI/006405.jpeg', '/content/MedNIST/HeadCT/006109.jpeg', '/content/MedNIST/CXR/009762.jpeg', '/content/MedNIST/Hand/000111.jpeg', '/content/MedNIST/AbdomenCT/006335.jpeg', '/content/MedNIST/HeadCT/009773.jpeg', '/content/MedNIST/CXR/009710.jpeg', '/content/MedNIST/BreastMRI/002315.jpeg', '/content/MedNIST/CXR/008172.jpeg', '/content/MedNIST/Hand/008087.jpeg', '/content/MedNIST/HeadCT/000422.jpeg', '/content/MedNIST/BreastMRI/000698.jpeg', '/content/MedNIST/BreastMRI/006592.jpeg', '/content/MedNIST/AbdomenCT/001531.jpeg', '/content/MedNIST/CXR/008370.jpeg', '/content/MedNIST/BreastMRI/008744.jpeg', '/content/MedNIST/CXR/004006.jpeg', '/content/MedNIST/AbdomenCT/007261.jpeg', '/content/MedNIST/AbdomenCT/000862.jpeg', '/content/MedNIST/Hand/005433.jpeg', '/content/MedNIST/BreastMRI/006889.jpeg', '/content/MedNIST/Hand/003439.jpeg', '/content/MedNIST/ChestCT/000722.jpeg', '/content/MedNIST/HeadCT/002106.jpeg', '/content/MedNIST/AbdomenCT/007431.jpeg', '/content/MedNIST/BreastMRI/003102.jpeg', '/content/MedNIST/CXR/001837.jpeg', '/content/MedNIST/ChestCT/009996.jpeg', '/content/MedNIST/BreastMRI/000333.jpeg', '/content/MedNIST/AbdomenCT/005832.jpeg', '/content/MedNIST/HeadCT/005881.jpeg', '/content/MedNIST/ChestCT/005526.jpeg', '/content/MedNIST/CXR/004008.jpeg', '/content/MedNIST/AbdomenCT/001034.jpeg', '/content/MedNIST/ChestCT/008918.jpeg', '/content/MedNIST/CXR/000138.jpeg', '/content/MedNIST/AbdomenCT/007866.jpeg', '/content/MedNIST/Hand/004552.jpeg', '/content/MedNIST/HeadCT/001330.jpeg', '/content/MedNIST/Hand/001020.jpeg', '/content/MedNIST/HeadCT/000133.jpeg', '/content/MedNIST/CXR/001982.jpeg', '/content/MedNIST/AbdomenCT/003697.jpeg', '/content/MedNIST/Hand/004838.jpeg', '/content/MedNIST/BreastMRI/006357.jpeg', '/content/MedNIST/CXR/007379.jpeg', '/content/MedNIST/ChestCT/007390.jpeg', '/content/MedNIST/CXR/000915.jpeg', '/content/MedNIST/HeadCT/008024.jpeg', '/content/MedNIST/AbdomenCT/007373.jpeg', '/content/MedNIST/ChestCT/008715.jpeg', '/content/MedNIST/HeadCT/005047.jpeg', '/content/MedNIST/AbdomenCT/005349.jpeg', '/content/MedNIST/Hand/003629.jpeg', '/content/MedNIST/AbdomenCT/007846.jpeg', '/content/MedNIST/BreastMRI/008099.jpeg', '/content/MedNIST/CXR/004359.jpeg', '/content/MedNIST/BreastMRI/002709.jpeg', '/content/MedNIST/ChestCT/006099.jpeg', '/content/MedNIST/Hand/000759.jpeg', '/content/MedNIST/CXR/002930.jpeg', '/content/MedNIST/CXR/001515.jpeg', '/content/MedNIST/CXR/002584.jpeg', '/content/MedNIST/CXR/001964.jpeg', '/content/MedNIST/AbdomenCT/004020.jpeg', '/content/MedNIST/CXR/000534.jpeg', '/content/MedNIST/CXR/005699.jpeg', '/content/MedNIST/AbdomenCT/008344.jpeg', '/content/MedNIST/HeadCT/005850.jpeg', '/content/MedNIST/ChestCT/001524.jpeg', '/content/MedNIST/CXR/002162.jpeg', '/content/MedNIST/AbdomenCT/002249.jpeg', '/content/MedNIST/HeadCT/000963.jpeg', '/content/MedNIST/Hand/004094.jpeg', '/content/MedNIST/ChestCT/005044.jpeg', '/content/MedNIST/AbdomenCT/006992.jpeg', '/content/MedNIST/ChestCT/005506.jpeg', '/content/MedNIST/HeadCT/009058.jpeg', '/content/MedNIST/AbdomenCT/001322.jpeg', '/content/MedNIST/BreastMRI/005889.jpeg', '/content/MedNIST/CXR/009478.jpeg', '/content/MedNIST/CXR/006774.jpeg', '/content/MedNIST/Hand/007136.jpeg', '/content/MedNIST/HeadCT/001039.jpeg', '/content/MedNIST/BreastMRI/005483.jpeg', '/content/MedNIST/BreastMRI/000188.jpeg', '/content/MedNIST/Hand/005605.jpeg', '/content/MedNIST/Hand/004541.jpeg', '/content/MedNIST/BreastMRI/004823.jpeg', '/content/MedNIST/ChestCT/003487.jpeg', '/content/MedNIST/AbdomenCT/009635.jpeg', '/content/MedNIST/Hand/003050.jpeg', '/content/MedNIST/BreastMRI/007741.jpeg', '/content/MedNIST/Hand/006259.jpeg', '/content/MedNIST/ChestCT/007335.jpeg', '/content/MedNIST/Hand/001730.jpeg', '/content/MedNIST/Hand/006265.jpeg', '/content/MedNIST/Hand/006100.jpeg', '/content/MedNIST/HeadCT/004241.jpeg', '/content/MedNIST/ChestCT/001109.jpeg', '/content/MedNIST/AbdomenCT/001137.jpeg', '/content/MedNIST/HeadCT/009620.jpeg', '/content/MedNIST/Hand/004009.jpeg', '/content/MedNIST/Hand/006456.jpeg', '/content/MedNIST/AbdomenCT/000424.jpeg', '/content/MedNIST/ChestCT/006272.jpeg', '/content/MedNIST/BreastMRI/005574.jpeg', '/content/MedNIST/CXR/001079.jpeg', '/content/MedNIST/BreastMRI/008326.jpeg', '/content/MedNIST/BreastMRI/005238.jpeg', '/content/MedNIST/AbdomenCT/005074.jpeg', '/content/MedNIST/Hand/004738.jpeg', '/content/MedNIST/HeadCT/007699.jpeg', '/content/MedNIST/ChestCT/007629.jpeg', '/content/MedNIST/Hand/008011.jpeg', '/content/MedNIST/BreastMRI/006544.jpeg', '/content/MedNIST/AbdomenCT/008719.jpeg', '/content/MedNIST/Hand/006016.jpeg', '/content/MedNIST/Hand/001563.jpeg', '/content/MedNIST/HeadCT/003773.jpeg', '/content/MedNIST/AbdomenCT/005758.jpeg', '/content/MedNIST/CXR/007487.jpeg', '/content/MedNIST/BreastMRI/006397.jpeg', '/content/MedNIST/AbdomenCT/007126.jpeg', '/content/MedNIST/Hand/008445.jpeg', '/content/MedNIST/AbdomenCT/004872.jpeg', '/content/MedNIST/AbdomenCT/002016.jpeg', '/content/MedNIST/HeadCT/000460.jpeg', '/content/MedNIST/AbdomenCT/002824.jpeg', '/content/MedNIST/ChestCT/002217.jpeg', '/content/MedNIST/CXR/000014.jpeg', '/content/MedNIST/AbdomenCT/007641.jpeg', '/content/MedNIST/ChestCT/008030.jpeg', '/content/MedNIST/ChestCT/003600.jpeg', '/content/MedNIST/BreastMRI/001685.jpeg', '/content/MedNIST/BreastMRI/001047.jpeg', '/content/MedNIST/AbdomenCT/003604.jpeg', '/content/MedNIST/Hand/009497.jpeg', '/content/MedNIST/ChestCT/003452.jpeg', '/content/MedNIST/ChestCT/007739.jpeg', '/content/MedNIST/HeadCT/004162.jpeg', '/content/MedNIST/ChestCT/007664.jpeg', '/content/MedNIST/ChestCT/008590.jpeg', '/content/MedNIST/ChestCT/005299.jpeg', '/content/MedNIST/AbdomenCT/005109.jpeg', '/content/MedNIST/HeadCT/002107.jpeg', '/content/MedNIST/AbdomenCT/006142.jpeg', '/content/MedNIST/Hand/004600.jpeg', '/content/MedNIST/HeadCT/006926.jpeg', '/content/MedNIST/Hand/009825.jpeg', '/content/MedNIST/Hand/002885.jpeg', '/content/MedNIST/ChestCT/009943.jpeg', '/content/MedNIST/HeadCT/008680.jpeg', '/content/MedNIST/HeadCT/004694.jpeg', '/content/MedNIST/AbdomenCT/006666.jpeg', '/content/MedNIST/ChestCT/005885.jpeg', '/content/MedNIST/AbdomenCT/003265.jpeg', '/content/MedNIST/ChestCT/003176.jpeg', '/content/MedNIST/AbdomenCT/002125.jpeg', '/content/MedNIST/CXR/009140.jpeg', '/content/MedNIST/CXR/007419.jpeg', '/content/MedNIST/HeadCT/006585.jpeg', '/content/MedNIST/Hand/003874.jpeg', '/content/MedNIST/HeadCT/003734.jpeg', '/content/MedNIST/BreastMRI/008610.jpeg', '/content/MedNIST/ChestCT/001592.jpeg', '/content/MedNIST/Hand/006043.jpeg', '/content/MedNIST/AbdomenCT/005583.jpeg', '/content/MedNIST/Hand/005891.jpeg', '/content/MedNIST/BreastMRI/003731.jpeg', '/content/MedNIST/HeadCT/004355.jpeg', '/content/MedNIST/HeadCT/008400.jpeg', '/content/MedNIST/CXR/001696.jpeg', '/content/MedNIST/ChestCT/000474.jpeg', '/content/MedNIST/Hand/009283.jpeg', '/content/MedNIST/HeadCT/000501.jpeg', '/content/MedNIST/Hand/002256.jpeg', '/content/MedNIST/AbdomenCT/005469.jpeg', '/content/MedNIST/AbdomenCT/000463.jpeg', '/content/MedNIST/CXR/004723.jpeg', '/content/MedNIST/BreastMRI/007957.jpeg', '/content/MedNIST/HeadCT/003897.jpeg', '/content/MedNIST/ChestCT/008456.jpeg', '/content/MedNIST/BreastMRI/004448.jpeg', '/content/MedNIST/CXR/001565.jpeg', '/content/MedNIST/ChestCT/002993.jpeg', '/content/MedNIST/ChestCT/006602.jpeg', '/content/MedNIST/AbdomenCT/000017.jpeg', '/content/MedNIST/CXR/006602.jpeg', '/content/MedNIST/ChestCT/006458.jpeg', '/content/MedNIST/HeadCT/002534.jpeg', '/content/MedNIST/Hand/000885.jpeg', '/content/MedNIST/CXR/004598.jpeg', '/content/MedNIST/Hand/003483.jpeg', '/content/MedNIST/CXR/002981.jpeg', '/content/MedNIST/Hand/006836.jpeg', '/content/MedNIST/AbdomenCT/007646.jpeg', '/content/MedNIST/BreastMRI/005048.jpeg', '/content/MedNIST/CXR/002945.jpeg', '/content/MedNIST/BreastMRI/007494.jpeg', '/content/MedNIST/Hand/008899.jpeg', '/content/MedNIST/Hand/006808.jpeg', '/content/MedNIST/BreastMRI/006590.jpeg', '/content/MedNIST/BreastMRI/000826.jpeg', '/content/MedNIST/HeadCT/006436.jpeg', '/content/MedNIST/ChestCT/000406.jpeg', '/content/MedNIST/Hand/008434.jpeg', '/content/MedNIST/ChestCT/003478.jpeg', '/content/MedNIST/ChestCT/003671.jpeg', '/content/MedNIST/HeadCT/001799.jpeg', '/content/MedNIST/CXR/000940.jpeg', '/content/MedNIST/HeadCT/005944.jpeg', '/content/MedNIST/Hand/000872.jpeg', '/content/MedNIST/ChestCT/005695.jpeg', '/content/MedNIST/Hand/001481.jpeg', '/content/MedNIST/Hand/000775.jpeg', '/content/MedNIST/AbdomenCT/007203.jpeg', '/content/MedNIST/ChestCT/004078.jpeg', '/content/MedNIST/AbdomenCT/002666.jpeg', '/content/MedNIST/AbdomenCT/009001.jpeg', '/content/MedNIST/AbdomenCT/005044.jpeg', '/content/MedNIST/CXR/001330.jpeg', '/content/MedNIST/AbdomenCT/001790.jpeg', '/content/MedNIST/AbdomenCT/003272.jpeg', '/content/MedNIST/CXR/003413.jpeg', '/content/MedNIST/Hand/006029.jpeg', '/content/MedNIST/HeadCT/009731.jpeg', '/content/MedNIST/Hand/008031.jpeg', '/content/MedNIST/Hand/009646.jpeg', '/content/MedNIST/Hand/009489.jpeg', '/content/MedNIST/BreastMRI/007538.jpeg', '/content/MedNIST/AbdomenCT/008363.jpeg', '/content/MedNIST/HeadCT/000935.jpeg', '/content/MedNIST/AbdomenCT/002411.jpeg', '/content/MedNIST/AbdomenCT/001046.jpeg', '/content/MedNIST/HeadCT/009645.jpeg', '/content/MedNIST/ChestCT/001723.jpeg', '/content/MedNIST/Hand/006068.jpeg', '/content/MedNIST/HeadCT/007159.jpeg', '/content/MedNIST/HeadCT/005010.jpeg', '/content/MedNIST/Hand/004895.jpeg', '/content/MedNIST/Hand/003527.jpeg', '/content/MedNIST/ChestCT/000029.jpeg', '/content/MedNIST/AbdomenCT/006965.jpeg', '/content/MedNIST/AbdomenCT/007141.jpeg', '/content/MedNIST/Hand/009279.jpeg', '/content/MedNIST/AbdomenCT/008662.jpeg', '/content/MedNIST/CXR/000193.jpeg', '/content/MedNIST/Hand/003838.jpeg', '/content/MedNIST/ChestCT/008477.jpeg', '/content/MedNIST/Hand/002766.jpeg', '/content/MedNIST/BreastMRI/006203.jpeg', '/content/MedNIST/ChestCT/001166.jpeg', '/content/MedNIST/Hand/008190.jpeg', '/content/MedNIST/HeadCT/004863.jpeg', '/content/MedNIST/HeadCT/002453.jpeg', '/content/MedNIST/HeadCT/004792.jpeg', '/content/MedNIST/HeadCT/002649.jpeg', '/content/MedNIST/HeadCT/007832.jpeg', '/content/MedNIST/AbdomenCT/002783.jpeg', '/content/MedNIST/CXR/003713.jpeg', '/content/MedNIST/AbdomenCT/008294.jpeg', '/content/MedNIST/ChestCT/007708.jpeg', '/content/MedNIST/CXR/004009.jpeg', '/content/MedNIST/ChestCT/001619.jpeg', '/content/MedNIST/AbdomenCT/004258.jpeg', '/content/MedNIST/ChestCT/000638.jpeg', '/content/MedNIST/BreastMRI/008308.jpeg', '/content/MedNIST/CXR/003868.jpeg', '/content/MedNIST/AbdomenCT/009745.jpeg', '/content/MedNIST/AbdomenCT/004515.jpeg', '/content/MedNIST/Hand/005822.jpeg', '/content/MedNIST/ChestCT/001237.jpeg', '/content/MedNIST/BreastMRI/008868.jpeg', '/content/MedNIST/Hand/000448.jpeg', '/content/MedNIST/BreastMRI/002576.jpeg', '/content/MedNIST/Hand/007389.jpeg', '/content/MedNIST/CXR/005466.jpeg', '/content/MedNIST/CXR/005296.jpeg', '/content/MedNIST/AbdomenCT/003009.jpeg', '/content/MedNIST/HeadCT/005393.jpeg', '/content/MedNIST/ChestCT/004987.jpeg', '/content/MedNIST/CXR/006634.jpeg', '/content/MedNIST/Hand/005226.jpeg', '/content/MedNIST/CXR/001489.jpeg', '/content/MedNIST/CXR/006861.jpeg', '/content/MedNIST/HeadCT/005504.jpeg', '/content/MedNIST/Hand/003788.jpeg', '/content/MedNIST/HeadCT/003035.jpeg', '/content/MedNIST/CXR/003679.jpeg', '/content/MedNIST/ChestCT/001220.jpeg', '/content/MedNIST/AbdomenCT/001142.jpeg', '/content/MedNIST/CXR/004192.jpeg', '/content/MedNIST/BreastMRI/001045.jpeg', '/content/MedNIST/ChestCT/000074.jpeg', '/content/MedNIST/CXR/009968.jpeg', '/content/MedNIST/CXR/007673.jpeg', '/content/MedNIST/BreastMRI/006288.jpeg', '/content/MedNIST/AbdomenCT/001610.jpeg', '/content/MedNIST/HeadCT/003001.jpeg', '/content/MedNIST/AbdomenCT/005656.jpeg', '/content/MedNIST/AbdomenCT/003794.jpeg', '/content/MedNIST/CXR/000514.jpeg', '/content/MedNIST/BreastMRI/000233.jpeg', '/content/MedNIST/ChestCT/007912.jpeg', '/content/MedNIST/AbdomenCT/001164.jpeg', '/content/MedNIST/CXR/006434.jpeg', '/content/MedNIST/CXR/004089.jpeg', '/content/MedNIST/BreastMRI/002113.jpeg', '/content/MedNIST/Hand/007563.jpeg', '/content/MedNIST/BreastMRI/004012.jpeg', '/content/MedNIST/HeadCT/008875.jpeg', '/content/MedNIST/CXR/009925.jpeg', '/content/MedNIST/BreastMRI/008202.jpeg', '/content/MedNIST/HeadCT/007487.jpeg', '/content/MedNIST/BreastMRI/001242.jpeg', '/content/MedNIST/AbdomenCT/005634.jpeg', '/content/MedNIST/Hand/000379.jpeg', '/content/MedNIST/BreastMRI/004020.jpeg', '/content/MedNIST/HeadCT/002271.jpeg', '/content/MedNIST/BreastMRI/006734.jpeg', '/content/MedNIST/BreastMRI/007091.jpeg', '/content/MedNIST/Hand/007590.jpeg', '/content/MedNIST/AbdomenCT/001056.jpeg', '/content/MedNIST/CXR/003429.jpeg', '/content/MedNIST/Hand/006007.jpeg', '/content/MedNIST/ChestCT/000548.jpeg', '/content/MedNIST/ChestCT/007932.jpeg', '/content/MedNIST/AbdomenCT/002075.jpeg', '/content/MedNIST/HeadCT/000966.jpeg', '/content/MedNIST/AbdomenCT/005778.jpeg', '/content/MedNIST/HeadCT/009436.jpeg', '/content/MedNIST/BreastMRI/006012.jpeg', '/content/MedNIST/AbdomenCT/002851.jpeg', '/content/MedNIST/HeadCT/007433.jpeg', '/content/MedNIST/ChestCT/009489.jpeg', '/content/MedNIST/Hand/006595.jpeg', '/content/MedNIST/AbdomenCT/004692.jpeg', '/content/MedNIST/ChestCT/005316.jpeg', '/content/MedNIST/BreastMRI/003528.jpeg', '/content/MedNIST/ChestCT/008634.jpeg', '/content/MedNIST/HeadCT/008027.jpeg', '/content/MedNIST/AbdomenCT/005177.jpeg', '/content/MedNIST/HeadCT/006308.jpeg', '/content/MedNIST/Hand/008728.jpeg', '/content/MedNIST/ChestCT/004069.jpeg', '/content/MedNIST/BreastMRI/003177.jpeg', '/content/MedNIST/ChestCT/009127.jpeg', '/content/MedNIST/HeadCT/006709.jpeg', '/content/MedNIST/AbdomenCT/004721.jpeg', '/content/MedNIST/ChestCT/000097.jpeg', '/content/MedNIST/HeadCT/002514.jpeg', '/content/MedNIST/HeadCT/003370.jpeg', '/content/MedNIST/HeadCT/002123.jpeg', '/content/MedNIST/AbdomenCT/003176.jpeg', '/content/MedNIST/Hand/002200.jpeg', '/content/MedNIST/ChestCT/005313.jpeg', '/content/MedNIST/HeadCT/003520.jpeg', '/content/MedNIST/BreastMRI/006598.jpeg', '/content/MedNIST/CXR/004377.jpeg', '/content/MedNIST/BreastMRI/006376.jpeg', '/content/MedNIST/AbdomenCT/007912.jpeg', '/content/MedNIST/AbdomenCT/004479.jpeg', '/content/MedNIST/CXR/003483.jpeg', '/content/MedNIST/Hand/004594.jpeg', '/content/MedNIST/Hand/006216.jpeg', '/content/MedNIST/AbdomenCT/009610.jpeg', '/content/MedNIST/CXR/005503.jpeg', '/content/MedNIST/Hand/008044.jpeg', '/content/MedNIST/HeadCT/009686.jpeg', '/content/MedNIST/AbdomenCT/007025.jpeg', '/content/MedNIST/AbdomenCT/002022.jpeg', '/content/MedNIST/ChestCT/006493.jpeg', '/content/MedNIST/ChestCT/001866.jpeg', '/content/MedNIST/Hand/002713.jpeg', '/content/MedNIST/AbdomenCT/009107.jpeg', '/content/MedNIST/ChestCT/008842.jpeg', '/content/MedNIST/BreastMRI/003669.jpeg', '/content/MedNIST/ChestCT/005465.jpeg', '/content/MedNIST/HeadCT/002948.jpeg', '/content/MedNIST/AbdomenCT/004567.jpeg', '/content/MedNIST/Hand/006628.jpeg', '/content/MedNIST/HeadCT/001242.jpeg', '/content/MedNIST/BreastMRI/000961.jpeg', '/content/MedNIST/ChestCT/009257.jpeg', '/content/MedNIST/ChestCT/009693.jpeg', '/content/MedNIST/Hand/004076.jpeg', '/content/MedNIST/HeadCT/004587.jpeg', '/content/MedNIST/ChestCT/009471.jpeg', '/content/MedNIST/ChestCT/002730.jpeg', '/content/MedNIST/Hand/003636.jpeg', '/content/MedNIST/Hand/008373.jpeg', '/content/MedNIST/Hand/009066.jpeg', '/content/MedNIST/HeadCT/001769.jpeg', '/content/MedNIST/Hand/007154.jpeg', '/content/MedNIST/Hand/009982.jpeg', '/content/MedNIST/AbdomenCT/002045.jpeg', '/content/MedNIST/CXR/006643.jpeg', '/content/MedNIST/HeadCT/009842.jpeg', '/content/MedNIST/BreastMRI/005058.jpeg', '/content/MedNIST/Hand/009460.jpeg', '/content/MedNIST/AbdomenCT/003146.jpeg', '/content/MedNIST/Hand/008240.jpeg', '/content/MedNIST/AbdomenCT/008730.jpeg', '/content/MedNIST/AbdomenCT/008670.jpeg', '/content/MedNIST/HeadCT/004078.jpeg', '/content/MedNIST/Hand/004743.jpeg', '/content/MedNIST/BreastMRI/006048.jpeg', '/content/MedNIST/HeadCT/006301.jpeg', '/content/MedNIST/HeadCT/008081.jpeg', '/content/MedNIST/HeadCT/002898.jpeg', '/content/MedNIST/BreastMRI/007519.jpeg', '/content/MedNIST/ChestCT/007225.jpeg', '/content/MedNIST/ChestCT/005084.jpeg', '/content/MedNIST/BreastMRI/000569.jpeg', '/content/MedNIST/HeadCT/001375.jpeg', '/content/MedNIST/Hand/000802.jpeg', '/content/MedNIST/Hand/007262.jpeg', '/content/MedNIST/AbdomenCT/008006.jpeg', '/content/MedNIST/HeadCT/007642.jpeg', '/content/MedNIST/BreastMRI/007307.jpeg', '/content/MedNIST/CXR/001920.jpeg', '/content/MedNIST/AbdomenCT/007601.jpeg', '/content/MedNIST/BreastMRI/003046.jpeg', '/content/MedNIST/CXR/001593.jpeg', '/content/MedNIST/AbdomenCT/003305.jpeg', '/content/MedNIST/HeadCT/005409.jpeg', '/content/MedNIST/AbdomenCT/003702.jpeg', '/content/MedNIST/ChestCT/006190.jpeg', '/content/MedNIST/Hand/000046.jpeg', '/content/MedNIST/HeadCT/008256.jpeg', '/content/MedNIST/Hand/004518.jpeg', '/content/MedNIST/CXR/004524.jpeg', '/content/MedNIST/CXR/007702.jpeg', '/content/MedNIST/CXR/000733.jpeg', '/content/MedNIST/ChestCT/003388.jpeg', '/content/MedNIST/AbdomenCT/002604.jpeg', '/content/MedNIST/BreastMRI/001295.jpeg', '/content/MedNIST/BreastMRI/002461.jpeg', '/content/MedNIST/Hand/000347.jpeg', '/content/MedNIST/ChestCT/004541.jpeg', '/content/MedNIST/HeadCT/000444.jpeg', '/content/MedNIST/ChestCT/007576.jpeg', '/content/MedNIST/BreastMRI/003859.jpeg', '/content/MedNIST/HeadCT/008706.jpeg', '/content/MedNIST/BreastMRI/005455.jpeg', '/content/MedNIST/CXR/002956.jpeg', '/content/MedNIST/ChestCT/006855.jpeg', '/content/MedNIST/AbdomenCT/005510.jpeg', '/content/MedNIST/HeadCT/005190.jpeg', '/content/MedNIST/Hand/005359.jpeg', '/content/MedNIST/AbdomenCT/002996.jpeg', '/content/MedNIST/BreastMRI/006257.jpeg', '/content/MedNIST/HeadCT/005214.jpeg', '/content/MedNIST/AbdomenCT/002471.jpeg', '/content/MedNIST/HeadCT/004108.jpeg', '/content/MedNIST/HeadCT/003815.jpeg', '/content/MedNIST/AbdomenCT/002448.jpeg', '/content/MedNIST/AbdomenCT/004449.jpeg', '/content/MedNIST/Hand/000486.jpeg', '/content/MedNIST/ChestCT/001397.jpeg', '/content/MedNIST/Hand/000738.jpeg', '/content/MedNIST/ChestCT/003145.jpeg', '/content/MedNIST/Hand/008876.jpeg', '/content/MedNIST/Hand/008536.jpeg', '/content/MedNIST/CXR/001186.jpeg', '/content/MedNIST/BreastMRI/000101.jpeg', '/content/MedNIST/HeadCT/000493.jpeg', '/content/MedNIST/HeadCT/002242.jpeg', '/content/MedNIST/ChestCT/004845.jpeg', '/content/MedNIST/BreastMRI/006648.jpeg', '/content/MedNIST/AbdomenCT/005815.jpeg', '/content/MedNIST/HeadCT/007958.jpeg', '/content/MedNIST/AbdomenCT/009076.jpeg', '/content/MedNIST/AbdomenCT/007110.jpeg', '/content/MedNIST/CXR/001996.jpeg', '/content/MedNIST/HeadCT/003760.jpeg', '/content/MedNIST/AbdomenCT/000892.jpeg', '/content/MedNIST/HeadCT/009677.jpeg', '/content/MedNIST/Hand/008326.jpeg', '/content/MedNIST/ChestCT/002734.jpeg', '/content/MedNIST/AbdomenCT/007744.jpeg', '/content/MedNIST/HeadCT/001808.jpeg', '/content/MedNIST/ChestCT/008425.jpeg', '/content/MedNIST/AbdomenCT/000871.jpeg', '/content/MedNIST/CXR/000144.jpeg', '/content/MedNIST/BreastMRI/001419.jpeg', '/content/MedNIST/AbdomenCT/000237.jpeg', '/content/MedNIST/ChestCT/001418.jpeg', '/content/MedNIST/ChestCT/003970.jpeg', '/content/MedNIST/CXR/004428.jpeg', '/content/MedNIST/HeadCT/004065.jpeg', '/content/MedNIST/Hand/009223.jpeg', '/content/MedNIST/AbdomenCT/006703.jpeg', '/content/MedNIST/AbdomenCT/002234.jpeg', '/content/MedNIST/CXR/008037.jpeg', '/content/MedNIST/AbdomenCT/003263.jpeg', '/content/MedNIST/HeadCT/006512.jpeg', '/content/MedNIST/BreastMRI/001205.jpeg', '/content/MedNIST/BreastMRI/002830.jpeg', '/content/MedNIST/AbdomenCT/002245.jpeg', '/content/MedNIST/BreastMRI/005545.jpeg', '/content/MedNIST/CXR/002445.jpeg', '/content/MedNIST/CXR/004209.jpeg', '/content/MedNIST/AbdomenCT/007577.jpeg', '/content/MedNIST/CXR/002792.jpeg', '/content/MedNIST/BreastMRI/002256.jpeg', '/content/MedNIST/AbdomenCT/009156.jpeg', '/content/MedNIST/AbdomenCT/006914.jpeg', '/content/MedNIST/CXR/002089.jpeg', '/content/MedNIST/Hand/001089.jpeg', '/content/MedNIST/AbdomenCT/005708.jpeg', '/content/MedNIST/HeadCT/002161.jpeg', '/content/MedNIST/AbdomenCT/001764.jpeg', '/content/MedNIST/BreastMRI/007713.jpeg', '/content/MedNIST/AbdomenCT/001403.jpeg', '/content/MedNIST/ChestCT/001531.jpeg', '/content/MedNIST/HeadCT/005228.jpeg', '/content/MedNIST/BreastMRI/007077.jpeg', '/content/MedNIST/HeadCT/009721.jpeg', '/content/MedNIST/ChestCT/004640.jpeg', '/content/MedNIST/Hand/002417.jpeg', '/content/MedNIST/HeadCT/005279.jpeg', '/content/MedNIST/CXR/009942.jpeg', '/content/MedNIST/CXR/005444.jpeg', '/content/MedNIST/AbdomenCT/002001.jpeg', '/content/MedNIST/AbdomenCT/006930.jpeg', '/content/MedNIST/Hand/001212.jpeg', '/content/MedNIST/HeadCT/004202.jpeg', '/content/MedNIST/CXR/006048.jpeg', '/content/MedNIST/BreastMRI/003643.jpeg', '/content/MedNIST/ChestCT/008465.jpeg', '/content/MedNIST/AbdomenCT/000930.jpeg', '/content/MedNIST/Hand/003760.jpeg', '/content/MedNIST/ChestCT/001940.jpeg', '/content/MedNIST/CXR/000120.jpeg', '/content/MedNIST/AbdomenCT/005273.jpeg', '/content/MedNIST/ChestCT/005442.jpeg', '/content/MedNIST/AbdomenCT/004966.jpeg', '/content/MedNIST/CXR/000651.jpeg', '/content/MedNIST/ChestCT/005103.jpeg', '/content/MedNIST/HeadCT/001891.jpeg', '/content/MedNIST/ChestCT/002489.jpeg', '/content/MedNIST/AbdomenCT/004939.jpeg', '/content/MedNIST/ChestCT/009501.jpeg', '/content/MedNIST/HeadCT/004345.jpeg', '/content/MedNIST/BreastMRI/007578.jpeg', '/content/MedNIST/AbdomenCT/003244.jpeg', '/content/MedNIST/AbdomenCT/003769.jpeg', '/content/MedNIST/AbdomenCT/000157.jpeg', '/content/MedNIST/Hand/008837.jpeg', '/content/MedNIST/Hand/008932.jpeg', '/content/MedNIST/Hand/009378.jpeg', '/content/MedNIST/HeadCT/006630.jpeg', '/content/MedNIST/HeadCT/008325.jpeg', '/content/MedNIST/HeadCT/002187.jpeg', '/content/MedNIST/CXR/003407.jpeg', '/content/MedNIST/CXR/002753.jpeg', '/content/MedNIST/CXR/002007.jpeg', '/content/MedNIST/CXR/001754.jpeg', '/content/MedNIST/ChestCT/005265.jpeg', '/content/MedNIST/Hand/005321.jpeg', '/content/MedNIST/AbdomenCT/007807.jpeg', '/content/MedNIST/BreastMRI/002923.jpeg', '/content/MedNIST/ChestCT/005785.jpeg', '/content/MedNIST/ChestCT/004586.jpeg', '/content/MedNIST/BreastMRI/007695.jpeg', '/content/MedNIST/HeadCT/004258.jpeg', '/content/MedNIST/AbdomenCT/007307.jpeg', '/content/MedNIST/ChestCT/004460.jpeg', '/content/MedNIST/ChestCT/008478.jpeg', '/content/MedNIST/ChestCT/004946.jpeg', '/content/MedNIST/HeadCT/004147.jpeg', '/content/MedNIST/BreastMRI/001705.jpeg', '/content/MedNIST/Hand/004905.jpeg', '/content/MedNIST/BreastMRI/005299.jpeg', '/content/MedNIST/CXR/008609.jpeg', '/content/MedNIST/AbdomenCT/004435.jpeg', '/content/MedNIST/ChestCT/006045.jpeg', '/content/MedNIST/AbdomenCT/002248.jpeg', '/content/MedNIST/BreastMRI/008166.jpeg', '/content/MedNIST/HeadCT/000608.jpeg', '/content/MedNIST/Hand/008559.jpeg', '/content/MedNIST/Hand/005348.jpeg', '/content/MedNIST/BreastMRI/000108.jpeg', '/content/MedNIST/ChestCT/009336.jpeg', '/content/MedNIST/ChestCT/003250.jpeg', '/content/MedNIST/Hand/004639.jpeg', '/content/MedNIST/ChestCT/000400.jpeg', '/content/MedNIST/BreastMRI/003842.jpeg', '/content/MedNIST/ChestCT/002781.jpeg', '/content/MedNIST/Hand/007797.jpeg', '/content/MedNIST/AbdomenCT/006006.jpeg', '/content/MedNIST/ChestCT/008692.jpeg', '/content/MedNIST/AbdomenCT/000183.jpeg', '/content/MedNIST/Hand/007850.jpeg', '/content/MedNIST/BreastMRI/006260.jpeg', '/content/MedNIST/HeadCT/004784.jpeg', '/content/MedNIST/AbdomenCT/001676.jpeg', '/content/MedNIST/ChestCT/008969.jpeg', '/content/MedNIST/AbdomenCT/009512.jpeg', '/content/MedNIST/Hand/009024.jpeg', '/content/MedNIST/ChestCT/001899.jpeg', '/content/MedNIST/ChestCT/003810.jpeg', '/content/MedNIST/BreastMRI/000382.jpeg', '/content/MedNIST/ChestCT/007161.jpeg', '/content/MedNIST/Hand/001059.jpeg', '/content/MedNIST/CXR/009758.jpeg', '/content/MedNIST/ChestCT/000845.jpeg', '/content/MedNIST/Hand/008642.jpeg', '/content/MedNIST/AbdomenCT/008935.jpeg', '/content/MedNIST/HeadCT/003599.jpeg', '/content/MedNIST/CXR/009101.jpeg', '/content/MedNIST/CXR/001044.jpeg', '/content/MedNIST/HeadCT/004015.jpeg', '/content/MedNIST/HeadCT/001125.jpeg', '/content/MedNIST/CXR/005586.jpeg', '/content/MedNIST/Hand/005018.jpeg', '/content/MedNIST/Hand/009392.jpeg', '/content/MedNIST/HeadCT/009905.jpeg', '/content/MedNIST/BreastMRI/004620.jpeg', '/content/MedNIST/Hand/002464.jpeg', '/content/MedNIST/BreastMRI/004736.jpeg', '/content/MedNIST/CXR/003746.jpeg', '/content/MedNIST/HeadCT/001878.jpeg', '/content/MedNIST/AbdomenCT/009351.jpeg', '/content/MedNIST/CXR/005221.jpeg', '/content/MedNIST/AbdomenCT/001640.jpeg', '/content/MedNIST/ChestCT/002579.jpeg', '/content/MedNIST/AbdomenCT/008393.jpeg', '/content/MedNIST/Hand/003445.jpeg', '/content/MedNIST/HeadCT/000024.jpeg', '/content/MedNIST/ChestCT/005477.jpeg', '/content/MedNIST/HeadCT/002218.jpeg', '/content/MedNIST/BreastMRI/007474.jpeg', '/content/MedNIST/ChestCT/002359.jpeg', '/content/MedNIST/Hand/007333.jpeg', '/content/MedNIST/Hand/003947.jpeg', '/content/MedNIST/HeadCT/005822.jpeg', '/content/MedNIST/Hand/002984.jpeg', '/content/MedNIST/CXR/001632.jpeg', '/content/MedNIST/Hand/003341.jpeg', '/content/MedNIST/ChestCT/001972.jpeg', '/content/MedNIST/Hand/006173.jpeg', '/content/MedNIST/AbdomenCT/003740.jpeg', '/content/MedNIST/Hand/003432.jpeg', '/content/MedNIST/ChestCT/007045.jpeg', '/content/MedNIST/BreastMRI/007652.jpeg', '/content/MedNIST/Hand/006583.jpeg', '/content/MedNIST/HeadCT/000004.jpeg', '/content/MedNIST/HeadCT/002618.jpeg', '/content/MedNIST/AbdomenCT/003148.jpeg', '/content/MedNIST/CXR/002133.jpeg', '/content/MedNIST/AbdomenCT/009018.jpeg', '/content/MedNIST/AbdomenCT/001770.jpeg', '/content/MedNIST/ChestCT/004559.jpeg', '/content/MedNIST/CXR/005789.jpeg', '/content/MedNIST/HeadCT/004321.jpeg', '/content/MedNIST/CXR/006910.jpeg', '/content/MedNIST/BreastMRI/008063.jpeg', '/content/MedNIST/BreastMRI/006103.jpeg', '/content/MedNIST/Hand/001479.jpeg', '/content/MedNIST/ChestCT/006186.jpeg', '/content/MedNIST/HeadCT/005187.jpeg', '/content/MedNIST/HeadCT/004520.jpeg', '/content/MedNIST/ChestCT/005248.jpeg', '/content/MedNIST/HeadCT/005085.jpeg', '/content/MedNIST/BreastMRI/002498.jpeg', '/content/MedNIST/Hand/005029.jpeg', '/content/MedNIST/CXR/001537.jpeg', '/content/MedNIST/CXR/007918.jpeg', '/content/MedNIST/AbdomenCT/006843.jpeg', '/content/MedNIST/Hand/005183.jpeg', '/content/MedNIST/AbdomenCT/003270.jpeg', '/content/MedNIST/HeadCT/007054.jpeg', '/content/MedNIST/ChestCT/005502.jpeg', '/content/MedNIST/Hand/006943.jpeg', '/content/MedNIST/Hand/002783.jpeg', '/content/MedNIST/Hand/005959.jpeg', '/content/MedNIST/AbdomenCT/004915.jpeg', '/content/MedNIST/CXR/003657.jpeg', '/content/MedNIST/CXR/005794.jpeg', '/content/MedNIST/ChestCT/005370.jpeg', '/content/MedNIST/HeadCT/004779.jpeg', '/content/MedNIST/CXR/009964.jpeg', '/content/MedNIST/AbdomenCT/006041.jpeg', '/content/MedNIST/AbdomenCT/003271.jpeg', '/content/MedNIST/CXR/000156.jpeg', '/content/MedNIST/AbdomenCT/005913.jpeg', '/content/MedNIST/BreastMRI/003395.jpeg', '/content/MedNIST/ChestCT/003890.jpeg', '/content/MedNIST/CXR/007227.jpeg', '/content/MedNIST/HeadCT/000351.jpeg', '/content/MedNIST/CXR/004528.jpeg', '/content/MedNIST/Hand/003081.jpeg', '/content/MedNIST/HeadCT/008137.jpeg', '/content/MedNIST/ChestCT/002430.jpeg', '/content/MedNIST/BreastMRI/007054.jpeg', '/content/MedNIST/ChestCT/009362.jpeg', '/content/MedNIST/AbdomenCT/001816.jpeg', '/content/MedNIST/ChestCT/001562.jpeg', '/content/MedNIST/AbdomenCT/001500.jpeg', '/content/MedNIST/Hand/006840.jpeg', '/content/MedNIST/BreastMRI/007890.jpeg', '/content/MedNIST/HeadCT/007163.jpeg', '/content/MedNIST/AbdomenCT/006578.jpeg', '/content/MedNIST/AbdomenCT/002566.jpeg', '/content/MedNIST/CXR/001322.jpeg', '/content/MedNIST/CXR/001266.jpeg', '/content/MedNIST/ChestCT/009558.jpeg', '/content/MedNIST/Hand/004624.jpeg', '/content/MedNIST/HeadCT/000257.jpeg', '/content/MedNIST/ChestCT/003678.jpeg', '/content/MedNIST/ChestCT/007429.jpeg', '/content/MedNIST/CXR/004157.jpeg', '/content/MedNIST/CXR/001056.jpeg', '/content/MedNIST/BreastMRI/003781.jpeg', '/content/MedNIST/ChestCT/003916.jpeg', '/content/MedNIST/Hand/003417.jpeg', '/content/MedNIST/HeadCT/008962.jpeg', '/content/MedNIST/HeadCT/004511.jpeg', '/content/MedNIST/AbdomenCT/006438.jpeg', '/content/MedNIST/Hand/006611.jpeg', '/content/MedNIST/Hand/007291.jpeg', '/content/MedNIST/ChestCT/005937.jpeg', '/content/MedNIST/HeadCT/003776.jpeg', '/content/MedNIST/HeadCT/005885.jpeg', '/content/MedNIST/ChestCT/002198.jpeg', '/content/MedNIST/CXR/003775.jpeg', '/content/MedNIST/BreastMRI/008132.jpeg', '/content/MedNIST/Hand/007258.jpeg', '/content/MedNIST/BreastMRI/002235.jpeg', '/content/MedNIST/ChestCT/003215.jpeg', '/content/MedNIST/BreastMRI/001708.jpeg', '/content/MedNIST/CXR/003693.jpeg', '/content/MedNIST/HeadCT/006707.jpeg', '/content/MedNIST/AbdomenCT/008974.jpeg', '/content/MedNIST/BreastMRI/001650.jpeg', '/content/MedNIST/Hand/009020.jpeg', '/content/MedNIST/BreastMRI/008745.jpeg', '/content/MedNIST/ChestCT/001398.jpeg', '/content/MedNIST/AbdomenCT/004834.jpeg', '/content/MedNIST/BreastMRI/002741.jpeg', '/content/MedNIST/ChestCT/001233.jpeg', '/content/MedNIST/Hand/000103.jpeg', '/content/MedNIST/AbdomenCT/007893.jpeg', '/content/MedNIST/Hand/004809.jpeg', '/content/MedNIST/BreastMRI/004545.jpeg', '/content/MedNIST/Hand/000230.jpeg', '/content/MedNIST/CXR/006041.jpeg', '/content/MedNIST/AbdomenCT/008504.jpeg', '/content/MedNIST/BreastMRI/001882.jpeg', '/content/MedNIST/HeadCT/008014.jpeg', '/content/MedNIST/BreastMRI/003856.jpeg', '/content/MedNIST/HeadCT/005325.jpeg', '/content/MedNIST/Hand/002597.jpeg', '/content/MedNIST/Hand/008892.jpeg', '/content/MedNIST/AbdomenCT/001052.jpeg', '/content/MedNIST/HeadCT/002899.jpeg', '/content/MedNIST/HeadCT/004214.jpeg', '/content/MedNIST/CXR/001630.jpeg', '/content/MedNIST/ChestCT/003863.jpeg', '/content/MedNIST/BreastMRI/003380.jpeg', '/content/MedNIST/HeadCT/001147.jpeg', '/content/MedNIST/AbdomenCT/000374.jpeg', '/content/MedNIST/AbdomenCT/006527.jpeg', '/content/MedNIST/ChestCT/004801.jpeg', '/content/MedNIST/Hand/007047.jpeg', '/content/MedNIST/HeadCT/005301.jpeg', '/content/MedNIST/BreastMRI/002618.jpeg', '/content/MedNIST/AbdomenCT/000714.jpeg', '/content/MedNIST/HeadCT/007161.jpeg', '/content/MedNIST/ChestCT/003520.jpeg', '/content/MedNIST/Hand/002254.jpeg', '/content/MedNIST/CXR/001723.jpeg', '/content/MedNIST/AbdomenCT/006730.jpeg', '/content/MedNIST/ChestCT/004524.jpeg', '/content/MedNIST/ChestCT/008462.jpeg', '/content/MedNIST/CXR/009663.jpeg', '/content/MedNIST/HeadCT/009878.jpeg', '/content/MedNIST/BreastMRI/000010.jpeg', '/content/MedNIST/BreastMRI/000782.jpeg', '/content/MedNIST/BreastMRI/003172.jpeg', '/content/MedNIST/HeadCT/002993.jpeg', '/content/MedNIST/CXR/008195.jpeg', '/content/MedNIST/AbdomenCT/002229.jpeg', '/content/MedNIST/AbdomenCT/005443.jpeg', '/content/MedNIST/HeadCT/007679.jpeg', '/content/MedNIST/ChestCT/004065.jpeg', '/content/MedNIST/ChestCT/004705.jpeg', '/content/MedNIST/HeadCT/005642.jpeg', '/content/MedNIST/BreastMRI/002483.jpeg', '/content/MedNIST/AbdomenCT/006542.jpeg', '/content/MedNIST/CXR/004268.jpeg', '/content/MedNIST/CXR/008362.jpeg', '/content/MedNIST/HeadCT/005262.jpeg', '/content/MedNIST/CXR/006714.jpeg', '/content/MedNIST/AbdomenCT/003219.jpeg', '/content/MedNIST/BreastMRI/001874.jpeg', '/content/MedNIST/Hand/009709.jpeg', '/content/MedNIST/HeadCT/001765.jpeg', '/content/MedNIST/BreastMRI/005257.jpeg', '/content/MedNIST/AbdomenCT/006120.jpeg', '/content/MedNIST/AbdomenCT/001303.jpeg', '/content/MedNIST/HeadCT/004721.jpeg', '/content/MedNIST/HeadCT/009363.jpeg', '/content/MedNIST/ChestCT/005480.jpeg', '/content/MedNIST/Hand/000203.jpeg', '/content/MedNIST/BreastMRI/005026.jpeg', '/content/MedNIST/HeadCT/006147.jpeg', '/content/MedNIST/Hand/005721.jpeg', '/content/MedNIST/ChestCT/006452.jpeg', '/content/MedNIST/ChestCT/003401.jpeg', '/content/MedNIST/AbdomenCT/003029.jpeg', '/content/MedNIST/AbdomenCT/007914.jpeg', '/content/MedNIST/BreastMRI/005138.jpeg', '/content/MedNIST/CXR/009953.jpeg', '/content/MedNIST/ChestCT/001933.jpeg', '/content/MedNIST/HeadCT/004404.jpeg', '/content/MedNIST/HeadCT/000150.jpeg', '/content/MedNIST/BreastMRI/001966.jpeg', '/content/MedNIST/HeadCT/002559.jpeg', '/content/MedNIST/Hand/000856.jpeg', '/content/MedNIST/Hand/000278.jpeg', '/content/MedNIST/BreastMRI/003702.jpeg', '/content/MedNIST/CXR/000516.jpeg', '/content/MedNIST/AbdomenCT/009989.jpeg', '/content/MedNIST/ChestCT/002052.jpeg', '/content/MedNIST/AbdomenCT/000593.jpeg', '/content/MedNIST/CXR/006761.jpeg', '/content/MedNIST/HeadCT/008967.jpeg', '/content/MedNIST/CXR/002861.jpeg', '/content/MedNIST/CXR/002296.jpeg', '/content/MedNIST/CXR/001556.jpeg', '/content/MedNIST/CXR/002810.jpeg', '/content/MedNIST/AbdomenCT/008626.jpeg', '/content/MedNIST/AbdomenCT/002102.jpeg', '/content/MedNIST/ChestCT/002943.jpeg', '/content/MedNIST/CXR/008722.jpeg', '/content/MedNIST/AbdomenCT/001187.jpeg', '/content/MedNIST/BreastMRI/004606.jpeg', '/content/MedNIST/HeadCT/006418.jpeg', '/content/MedNIST/BreastMRI/008276.jpeg', '/content/MedNIST/HeadCT/001367.jpeg', '/content/MedNIST/BreastMRI/007501.jpeg', '/content/MedNIST/CXR/003395.jpeg', '/content/MedNIST/CXR/005988.jpeg', '/content/MedNIST/HeadCT/003262.jpeg', '/content/MedNIST/Hand/007816.jpeg', '/content/MedNIST/Hand/009890.jpeg', '/content/MedNIST/ChestCT/002428.jpeg', '/content/MedNIST/AbdomenCT/008000.jpeg', '/content/MedNIST/AbdomenCT/006955.jpeg', '/content/MedNIST/ChestCT/008401.jpeg', '/content/MedNIST/HeadCT/005599.jpeg', '/content/MedNIST/ChestCT/002304.jpeg', '/content/MedNIST/BreastMRI/007848.jpeg', '/content/MedNIST/ChestCT/002650.jpeg', '/content/MedNIST/AbdomenCT/005069.jpeg', '/content/MedNIST/BreastMRI/008816.jpeg', '/content/MedNIST/CXR/004700.jpeg', '/content/MedNIST/ChestCT/004728.jpeg', '/content/MedNIST/AbdomenCT/001634.jpeg', '/content/MedNIST/AbdomenCT/009869.jpeg', '/content/MedNIST/HeadCT/001306.jpeg', '/content/MedNIST/BreastMRI/000347.jpeg', '/content/MedNIST/CXR/002596.jpeg', '/content/MedNIST/ChestCT/003265.jpeg', '/content/MedNIST/HeadCT/002375.jpeg', '/content/MedNIST/ChestCT/005444.jpeg', '/content/MedNIST/ChestCT/003097.jpeg', '/content/MedNIST/HeadCT/000892.jpeg', '/content/MedNIST/ChestCT/005440.jpeg', '/content/MedNIST/ChestCT/005375.jpeg', '/content/MedNIST/BreastMRI/006536.jpeg', '/content/MedNIST/Hand/008913.jpeg', '/content/MedNIST/Hand/008787.jpeg', '/content/MedNIST/AbdomenCT/005019.jpeg', '/content/MedNIST/Hand/000032.jpeg', '/content/MedNIST/AbdomenCT/009703.jpeg', '/content/MedNIST/Hand/004217.jpeg', '/content/MedNIST/HeadCT/006125.jpeg', '/content/MedNIST/BreastMRI/003229.jpeg', '/content/MedNIST/ChestCT/008457.jpeg', '/content/MedNIST/HeadCT/002307.jpeg', '/content/MedNIST/Hand/007749.jpeg', '/content/MedNIST/ChestCT/001454.jpeg', '/content/MedNIST/Hand/002335.jpeg', '/content/MedNIST/ChestCT/007817.jpeg', '/content/MedNIST/CXR/000246.jpeg', '/content/MedNIST/CXR/003337.jpeg', '/content/MedNIST/HeadCT/003525.jpeg', '/content/MedNIST/AbdomenCT/006792.jpeg', '/content/MedNIST/Hand/003278.jpeg', '/content/MedNIST/Hand/003402.jpeg', '/content/MedNIST/HeadCT/003683.jpeg', '/content/MedNIST/Hand/005747.jpeg', '/content/MedNIST/ChestCT/005229.jpeg', '/content/MedNIST/BreastMRI/005111.jpeg', '/content/MedNIST/ChestCT/004912.jpeg', '/content/MedNIST/Hand/001064.jpeg', '/content/MedNIST/AbdomenCT/000751.jpeg', '/content/MedNIST/CXR/008220.jpeg', '/content/MedNIST/ChestCT/001263.jpeg', '/content/MedNIST/AbdomenCT/003868.jpeg', '/content/MedNIST/ChestCT/004666.jpeg', '/content/MedNIST/CXR/003017.jpeg', '/content/MedNIST/Hand/006884.jpeg', '/content/MedNIST/ChestCT/003427.jpeg', '/content/MedNIST/CXR/009275.jpeg', '/content/MedNIST/BreastMRI/000541.jpeg', '/content/MedNIST/BreastMRI/003535.jpeg', '/content/MedNIST/HeadCT/003360.jpeg', '/content/MedNIST/BreastMRI/008855.jpeg', '/content/MedNIST/AbdomenCT/009724.jpeg', '/content/MedNIST/AbdomenCT/009654.jpeg', '/content/MedNIST/Hand/000929.jpeg', '/content/MedNIST/HeadCT/002126.jpeg', '/content/MedNIST/AbdomenCT/002385.jpeg', '/content/MedNIST/Hand/005259.jpeg', '/content/MedNIST/ChestCT/005498.jpeg', '/content/MedNIST/AbdomenCT/003088.jpeg', '/content/MedNIST/BreastMRI/005706.jpeg', '/content/MedNIST/Hand/001766.jpeg', '/content/MedNIST/AbdomenCT/004633.jpeg', '/content/MedNIST/AbdomenCT/005738.jpeg', '/content/MedNIST/CXR/000565.jpeg', '/content/MedNIST/AbdomenCT/008257.jpeg', '/content/MedNIST/CXR/000928.jpeg', '/content/MedNIST/ChestCT/006619.jpeg', '/content/MedNIST/CXR/001667.jpeg', '/content/MedNIST/ChestCT/005899.jpeg', '/content/MedNIST/AbdomenCT/007532.jpeg', '/content/MedNIST/AbdomenCT/001800.jpeg', '/content/MedNIST/Hand/002586.jpeg', '/content/MedNIST/ChestCT/009904.jpeg', '/content/MedNIST/CXR/005634.jpeg', '/content/MedNIST/HeadCT/006169.jpeg', '/content/MedNIST/AbdomenCT/005567.jpeg', '/content/MedNIST/HeadCT/006844.jpeg', '/content/MedNIST/HeadCT/000853.jpeg', '/content/MedNIST/CXR/002692.jpeg', '/content/MedNIST/HeadCT/003593.jpeg', '/content/MedNIST/AbdomenCT/005721.jpeg', '/content/MedNIST/ChestCT/009244.jpeg', '/content/MedNIST/HeadCT/000180.jpeg', '/content/MedNIST/AbdomenCT/000635.jpeg', '/content/MedNIST/AbdomenCT/008084.jpeg', '/content/MedNIST/Hand/006028.jpeg', '/content/MedNIST/HeadCT/000633.jpeg', '/content/MedNIST/HeadCT/008537.jpeg', '/content/MedNIST/ChestCT/000644.jpeg', '/content/MedNIST/ChestCT/003432.jpeg', '/content/MedNIST/CXR/007429.jpeg', '/content/MedNIST/AbdomenCT/005222.jpeg', '/content/MedNIST/BreastMRI/006108.jpeg', '/content/MedNIST/AbdomenCT/008547.jpeg', '/content/MedNIST/AbdomenCT/007348.jpeg', '/content/MedNIST/HeadCT/007730.jpeg', '/content/MedNIST/HeadCT/004221.jpeg', '/content/MedNIST/HeadCT/008183.jpeg', '/content/MedNIST/Hand/007355.jpeg', '/content/MedNIST/CXR/009579.jpeg', '/content/MedNIST/AbdomenCT/003617.jpeg', '/content/MedNIST/BreastMRI/007978.jpeg', '/content/MedNIST/ChestCT/002718.jpeg', '/content/MedNIST/ChestCT/003287.jpeg', '/content/MedNIST/AbdomenCT/004192.jpeg', '/content/MedNIST/HeadCT/006466.jpeg', '/content/MedNIST/AbdomenCT/002893.jpeg', '/content/MedNIST/AbdomenCT/005563.jpeg', '/content/MedNIST/BreastMRI/004910.jpeg', '/content/MedNIST/ChestCT/004286.jpeg', '/content/MedNIST/Hand/002196.jpeg', '/content/MedNIST/BreastMRI/004014.jpeg', '/content/MedNIST/ChestCT/008079.jpeg', '/content/MedNIST/ChestCT/009473.jpeg', '/content/MedNIST/ChestCT/000605.jpeg', '/content/MedNIST/ChestCT/003429.jpeg', '/content/MedNIST/BreastMRI/002538.jpeg', '/content/MedNIST/Hand/009947.jpeg', '/content/MedNIST/HeadCT/000957.jpeg', '/content/MedNIST/Hand/008054.jpeg', '/content/MedNIST/Hand/006673.jpeg', '/content/MedNIST/HeadCT/004081.jpeg', '/content/MedNIST/BreastMRI/001625.jpeg', '/content/MedNIST/ChestCT/003270.jpeg', '/content/MedNIST/BreastMRI/008817.jpeg', '/content/MedNIST/CXR/002587.jpeg', '/content/MedNIST/BreastMRI/008318.jpeg', '/content/MedNIST/BreastMRI/008726.jpeg', '/content/MedNIST/AbdomenCT/007143.jpeg', '/content/MedNIST/ChestCT/009232.jpeg', '/content/MedNIST/BreastMRI/002354.jpeg', '/content/MedNIST/AbdomenCT/006021.jpeg', '/content/MedNIST/Hand/001418.jpeg', '/content/MedNIST/AbdomenCT/003032.jpeg', '/content/MedNIST/Hand/008974.jpeg', '/content/MedNIST/Hand/000468.jpeg', '/content/MedNIST/AbdomenCT/009169.jpeg', '/content/MedNIST/AbdomenCT/000890.jpeg', '/content/MedNIST/BreastMRI/002694.jpeg', '/content/MedNIST/BreastMRI/006927.jpeg', '/content/MedNIST/CXR/009256.jpeg', '/content/MedNIST/CXR/002301.jpeg', '/content/MedNIST/ChestCT/009566.jpeg', '/content/MedNIST/HeadCT/006813.jpeg', '/content/MedNIST/BreastMRI/004332.jpeg', '/content/MedNIST/BreastMRI/003074.jpeg', '/content/MedNIST/AbdomenCT/005925.jpeg', '/content/MedNIST/HeadCT/001167.jpeg', '/content/MedNIST/HeadCT/007589.jpeg', '/content/MedNIST/Hand/005279.jpeg', '/content/MedNIST/HeadCT/004356.jpeg', '/content/MedNIST/ChestCT/008874.jpeg', '/content/MedNIST/HeadCT/008703.jpeg', '/content/MedNIST/Hand/006089.jpeg', '/content/MedNIST/CXR/004740.jpeg', '/content/MedNIST/BreastMRI/008500.jpeg', '/content/MedNIST/Hand/005852.jpeg', '/content/MedNIST/HeadCT/004239.jpeg', '/content/MedNIST/CXR/003536.jpeg', '/content/MedNIST/BreastMRI/008547.jpeg', '/content/MedNIST/ChestCT/004380.jpeg', '/content/MedNIST/BreastMRI/005375.jpeg', '/content/MedNIST/AbdomenCT/007610.jpeg', '/content/MedNIST/BreastMRI/005952.jpeg', '/content/MedNIST/Hand/007009.jpeg', '/content/MedNIST/HeadCT/009249.jpeg', '/content/MedNIST/AbdomenCT/000681.jpeg', '/content/MedNIST/HeadCT/004958.jpeg', '/content/MedNIST/HeadCT/003350.jpeg', '/content/MedNIST/BreastMRI/001992.jpeg', '/content/MedNIST/Hand/004421.jpeg', '/content/MedNIST/Hand/006132.jpeg', '/content/MedNIST/AbdomenCT/006525.jpeg', '/content/MedNIST/ChestCT/001958.jpeg', '/content/MedNIST/Hand/001518.jpeg', '/content/MedNIST/AbdomenCT/002421.jpeg', '/content/MedNIST/CXR/002023.jpeg', '/content/MedNIST/ChestCT/001375.jpeg', '/content/MedNIST/ChestCT/003113.jpeg', '/content/MedNIST/CXR/006388.jpeg', '/content/MedNIST/HeadCT/000491.jpeg', '/content/MedNIST/AbdomenCT/005272.jpeg', '/content/MedNIST/BreastMRI/006524.jpeg', '/content/MedNIST/ChestCT/001264.jpeg', '/content/MedNIST/CXR/007444.jpeg', '/content/MedNIST/CXR/008169.jpeg', '/content/MedNIST/Hand/006681.jpeg', '/content/MedNIST/AbdomenCT/002396.jpeg', '/content/MedNIST/Hand/000033.jpeg', '/content/MedNIST/CXR/000013.jpeg', '/content/MedNIST/ChestCT/005192.jpeg', '/content/MedNIST/HeadCT/005652.jpeg', '/content/MedNIST/AbdomenCT/007561.jpeg', '/content/MedNIST/HeadCT/002245.jpeg', '/content/MedNIST/Hand/000650.jpeg', '/content/MedNIST/HeadCT/006853.jpeg', '/content/MedNIST/HeadCT/009018.jpeg', '/content/MedNIST/CXR/004062.jpeg', '/content/MedNIST/AbdomenCT/005987.jpeg', '/content/MedNIST/ChestCT/006098.jpeg', '/content/MedNIST/AbdomenCT/004855.jpeg', '/content/MedNIST/AbdomenCT/006877.jpeg', '/content/MedNIST/BreastMRI/006975.jpeg', '/content/MedNIST/BreastMRI/003871.jpeg', '/content/MedNIST/Hand/005585.jpeg', '/content/MedNIST/Hand/006649.jpeg', '/content/MedNIST/Hand/008342.jpeg', '/content/MedNIST/HeadCT/004754.jpeg', '/content/MedNIST/HeadCT/004316.jpeg', '/content/MedNIST/AbdomenCT/004895.jpeg', '/content/MedNIST/ChestCT/000631.jpeg', '/content/MedNIST/CXR/005713.jpeg', '/content/MedNIST/ChestCT/008238.jpeg', '/content/MedNIST/CXR/008250.jpeg', '/content/MedNIST/BreastMRI/001307.jpeg', '/content/MedNIST/HeadCT/004438.jpeg', '/content/MedNIST/AbdomenCT/004471.jpeg', '/content/MedNIST/AbdomenCT/006181.jpeg', '/content/MedNIST/ChestCT/007597.jpeg', '/content/MedNIST/CXR/008530.jpeg', '/content/MedNIST/Hand/002380.jpeg', '/content/MedNIST/AbdomenCT/008474.jpeg', '/content/MedNIST/Hand/000151.jpeg', '/content/MedNIST/ChestCT/004067.jpeg', '/content/MedNIST/ChestCT/009120.jpeg', '/content/MedNIST/HeadCT/000158.jpeg', '/content/MedNIST/Hand/001017.jpeg', '/content/MedNIST/Hand/009793.jpeg', '/content/MedNIST/HeadCT/000602.jpeg', '/content/MedNIST/AbdomenCT/009263.jpeg', '/content/MedNIST/BreastMRI/000658.jpeg', '/content/MedNIST/HeadCT/000607.jpeg', '/content/MedNIST/HeadCT/008153.jpeg', '/content/MedNIST/Hand/003590.jpeg', '/content/MedNIST/HeadCT/009406.jpeg', '/content/MedNIST/AbdomenCT/003907.jpeg', '/content/MedNIST/CXR/004741.jpeg', '/content/MedNIST/AbdomenCT/001941.jpeg', '/content/MedNIST/AbdomenCT/005823.jpeg', '/content/MedNIST/BreastMRI/003252.jpeg', '/content/MedNIST/AbdomenCT/002580.jpeg', '/content/MedNIST/Hand/009455.jpeg', '/content/MedNIST/AbdomenCT/006751.jpeg', '/content/MedNIST/BreastMRI/005486.jpeg', '/content/MedNIST/ChestCT/005799.jpeg', '/content/MedNIST/BreastMRI/003661.jpeg', '/content/MedNIST/ChestCT/009766.jpeg', '/content/MedNIST/AbdomenCT/006454.jpeg', '/content/MedNIST/AbdomenCT/007599.jpeg', '/content/MedNIST/AbdomenCT/003322.jpeg', '/content/MedNIST/HeadCT/007413.jpeg', '/content/MedNIST/AbdomenCT/000398.jpeg', '/content/MedNIST/Hand/006442.jpeg', '/content/MedNIST/AbdomenCT/007021.jpeg', '/content/MedNIST/HeadCT/001452.jpeg', '/content/MedNIST/Hand/000774.jpeg', '/content/MedNIST/HeadCT/000117.jpeg', '/content/MedNIST/BreastMRI/000744.jpeg', '/content/MedNIST/BreastMRI/005864.jpeg', '/content/MedNIST/HeadCT/008939.jpeg', '/content/MedNIST/ChestCT/009669.jpeg', '/content/MedNIST/ChestCT/002469.jpeg', '/content/MedNIST/Hand/005935.jpeg', '/content/MedNIST/BreastMRI/004197.jpeg', '/content/MedNIST/HeadCT/004006.jpeg', '/content/MedNIST/AbdomenCT/009751.jpeg', '/content/MedNIST/ChestCT/004299.jpeg', '/content/MedNIST/CXR/009239.jpeg', '/content/MedNIST/BreastMRI/000850.jpeg', '/content/MedNIST/CXR/004339.jpeg', '/content/MedNIST/ChestCT/000492.jpeg', '/content/MedNIST/CXR/004019.jpeg', '/content/MedNIST/HeadCT/007916.jpeg', '/content/MedNIST/ChestCT/000224.jpeg', '/content/MedNIST/CXR/009097.jpeg', '/content/MedNIST/Hand/004783.jpeg', '/content/MedNIST/ChestCT/002351.jpeg', '/content/MedNIST/HeadCT/009352.jpeg', '/content/MedNIST/ChestCT/006021.jpeg', '/content/MedNIST/BreastMRI/007688.jpeg', '/content/MedNIST/ChestCT/006408.jpeg', '/content/MedNIST/BreastMRI/002063.jpeg', '/content/MedNIST/BreastMRI/002644.jpeg', '/content/MedNIST/CXR/008522.jpeg', '/content/MedNIST/HeadCT/005358.jpeg', '/content/MedNIST/CXR/006012.jpeg', '/content/MedNIST/Hand/006027.jpeg', '/content/MedNIST/Hand/001509.jpeg', '/content/MedNIST/BreastMRI/000956.jpeg', '/content/MedNIST/HeadCT/002384.jpeg', '/content/MedNIST/ChestCT/004868.jpeg', '/content/MedNIST/CXR/005037.jpeg', '/content/MedNIST/ChestCT/007375.jpeg', '/content/MedNIST/Hand/001057.jpeg', '/content/MedNIST/HeadCT/006390.jpeg', '/content/MedNIST/ChestCT/001707.jpeg', '/content/MedNIST/ChestCT/000681.jpeg', '/content/MedNIST/HeadCT/004253.jpeg', '/content/MedNIST/AbdomenCT/005208.jpeg', '/content/MedNIST/AbdomenCT/006644.jpeg', '/content/MedNIST/Hand/004705.jpeg', '/content/MedNIST/BreastMRI/008534.jpeg', '/content/MedNIST/Hand/006946.jpeg', '/content/MedNIST/HeadCT/002331.jpeg', '/content/MedNIST/CXR/005563.jpeg', '/content/MedNIST/Hand/002995.jpeg', '/content/MedNIST/AbdomenCT/006164.jpeg', '/content/MedNIST/AbdomenCT/006443.jpeg', '/content/MedNIST/HeadCT/008597.jpeg', '/content/MedNIST/AbdomenCT/001731.jpeg', '/content/MedNIST/CXR/008466.jpeg', '/content/MedNIST/Hand/004687.jpeg', '/content/MedNIST/AbdomenCT/004318.jpeg', '/content/MedNIST/CXR/002842.jpeg', '/content/MedNIST/Hand/007598.jpeg', '/content/MedNIST/AbdomenCT/006936.jpeg', '/content/MedNIST/HeadCT/005650.jpeg', '/content/MedNIST/HeadCT/008224.jpeg', '/content/MedNIST/HeadCT/007250.jpeg', '/content/MedNIST/CXR/009922.jpeg', '/content/MedNIST/HeadCT/002301.jpeg', '/content/MedNIST/CXR/003194.jpeg', '/content/MedNIST/BreastMRI/002290.jpeg', '/content/MedNIST/CXR/006797.jpeg', '/content/MedNIST/AbdomenCT/003162.jpeg', '/content/MedNIST/HeadCT/001906.jpeg', '/content/MedNIST/HeadCT/003961.jpeg', '/content/MedNIST/Hand/001830.jpeg', '/content/MedNIST/BreastMRI/000131.jpeg', '/content/MedNIST/BreastMRI/008404.jpeg', '/content/MedNIST/HeadCT/007330.jpeg', '/content/MedNIST/ChestCT/005013.jpeg', '/content/MedNIST/ChestCT/003096.jpeg', '/content/MedNIST/ChestCT/007457.jpeg', '/content/MedNIST/ChestCT/009606.jpeg', '/content/MedNIST/BreastMRI/005487.jpeg', '/content/MedNIST/BreastMRI/005839.jpeg', '/content/MedNIST/HeadCT/007727.jpeg', '/content/MedNIST/Hand/000267.jpeg', '/content/MedNIST/ChestCT/002663.jpeg', '/content/MedNIST/HeadCT/001660.jpeg', '/content/MedNIST/Hand/003689.jpeg', '/content/MedNIST/Hand/003580.jpeg', '/content/MedNIST/BreastMRI/008362.jpeg', '/content/MedNIST/Hand/006849.jpeg', '/content/MedNIST/HeadCT/002969.jpeg', '/content/MedNIST/AbdomenCT/008060.jpeg', '/content/MedNIST/BreastMRI/005509.jpeg', '/content/MedNIST/ChestCT/004271.jpeg', '/content/MedNIST/CXR/009624.jpeg', '/content/MedNIST/AbdomenCT/001286.jpeg', '/content/MedNIST/AbdomenCT/005396.jpeg', '/content/MedNIST/Hand/007849.jpeg', '/content/MedNIST/Hand/007529.jpeg', '/content/MedNIST/ChestCT/001954.jpeg', '/content/MedNIST/HeadCT/007430.jpeg', '/content/MedNIST/CXR/004964.jpeg', '/content/MedNIST/ChestCT/006478.jpeg', '/content/MedNIST/Hand/005773.jpeg', '/content/MedNIST/AbdomenCT/000954.jpeg', '/content/MedNIST/ChestCT/006411.jpeg', '/content/MedNIST/CXR/003426.jpeg', '/content/MedNIST/ChestCT/000285.jpeg', '/content/MedNIST/CXR/006755.jpeg', '/content/MedNIST/HeadCT/008813.jpeg', '/content/MedNIST/BreastMRI/008608.jpeg', '/content/MedNIST/Hand/003621.jpeg', '/content/MedNIST/Hand/005663.jpeg', '/content/MedNIST/CXR/006885.jpeg', '/content/MedNIST/HeadCT/006306.jpeg', '/content/MedNIST/HeadCT/008125.jpeg', '/content/MedNIST/Hand/007688.jpeg', '/content/MedNIST/HeadCT/002754.jpeg', '/content/MedNIST/HeadCT/005471.jpeg', '/content/MedNIST/CXR/007748.jpeg', '/content/MedNIST/Hand/007641.jpeg', '/content/MedNIST/BreastMRI/004190.jpeg', '/content/MedNIST/Hand/009656.jpeg', '/content/MedNIST/Hand/004240.jpeg', '/content/MedNIST/HeadCT/004692.jpeg', '/content/MedNIST/AbdomenCT/007197.jpeg', '/content/MedNIST/CXR/005770.jpeg', '/content/MedNIST/HeadCT/005013.jpeg', '/content/MedNIST/Hand/002373.jpeg', '/content/MedNIST/AbdomenCT/007011.jpeg', '/content/MedNIST/AbdomenCT/006253.jpeg', '/content/MedNIST/ChestCT/003637.jpeg', '/content/MedNIST/AbdomenCT/005901.jpeg', '/content/MedNIST/AbdomenCT/009012.jpeg', '/content/MedNIST/Hand/008485.jpeg', '/content/MedNIST/ChestCT/006710.jpeg', '/content/MedNIST/ChestCT/002726.jpeg', '/content/MedNIST/Hand/005508.jpeg', '/content/MedNIST/Hand/009736.jpeg', '/content/MedNIST/Hand/005097.jpeg', '/content/MedNIST/Hand/007028.jpeg', '/content/MedNIST/ChestCT/007333.jpeg', '/content/MedNIST/CXR/004211.jpeg', '/content/MedNIST/CXR/006240.jpeg', '/content/MedNIST/HeadCT/001476.jpeg', '/content/MedNIST/CXR/005945.jpeg', '/content/MedNIST/CXR/000437.jpeg', '/content/MedNIST/HeadCT/002226.jpeg', '/content/MedNIST/CXR/007102.jpeg', '/content/MedNIST/CXR/005844.jpeg', '/content/MedNIST/Hand/005318.jpeg', '/content/MedNIST/HeadCT/004591.jpeg', '/content/MedNIST/HeadCT/004305.jpeg', '/content/MedNIST/ChestCT/006403.jpeg', '/content/MedNIST/HeadCT/006276.jpeg', '/content/MedNIST/BreastMRI/007243.jpeg', '/content/MedNIST/AbdomenCT/004555.jpeg', '/content/MedNIST/CXR/004549.jpeg', '/content/MedNIST/AbdomenCT/009269.jpeg', '/content/MedNIST/CXR/007090.jpeg', '/content/MedNIST/ChestCT/003511.jpeg', '/content/MedNIST/CXR/002840.jpeg', '/content/MedNIST/ChestCT/004233.jpeg', '/content/MedNIST/AbdomenCT/001385.jpeg', '/content/MedNIST/AbdomenCT/008927.jpeg', '/content/MedNIST/CXR/000297.jpeg', '/content/MedNIST/Hand/005255.jpeg', '/content/MedNIST/Hand/001056.jpeg', '/content/MedNIST/CXR/006195.jpeg', '/content/MedNIST/HeadCT/002085.jpeg', '/content/MedNIST/BreastMRI/006316.jpeg', '/content/MedNIST/Hand/003924.jpeg', '/content/MedNIST/HeadCT/008373.jpeg', '/content/MedNIST/AbdomenCT/004363.jpeg', '/content/MedNIST/ChestCT/002897.jpeg', '/content/MedNIST/BreastMRI/007182.jpeg', '/content/MedNIST/ChestCT/007550.jpeg', '/content/MedNIST/BreastMRI/003434.jpeg', '/content/MedNIST/Hand/004080.jpeg', '/content/MedNIST/HeadCT/004489.jpeg', '/content/MedNIST/HeadCT/000689.jpeg', '/content/MedNIST/BreastMRI/005969.jpeg', '/content/MedNIST/BreastMRI/002400.jpeg', '/content/MedNIST/ChestCT/007909.jpeg', '/content/MedNIST/AbdomenCT/006558.jpeg', '/content/MedNIST/ChestCT/004525.jpeg', '/content/MedNIST/BreastMRI/002247.jpeg', '/content/MedNIST/AbdomenCT/000245.jpeg', '/content/MedNIST/AbdomenCT/004346.jpeg', '/content/MedNIST/Hand/000761.jpeg', '/content/MedNIST/Hand/003239.jpeg', '/content/MedNIST/Hand/002095.jpeg', '/content/MedNIST/CXR/001166.jpeg', '/content/MedNIST/CXR/006233.jpeg', '/content/MedNIST/AbdomenCT/005054.jpeg', '/content/MedNIST/CXR/008147.jpeg', '/content/MedNIST/AbdomenCT/002359.jpeg', '/content/MedNIST/ChestCT/006094.jpeg', '/content/MedNIST/ChestCT/009845.jpeg', '/content/MedNIST/Hand/001971.jpeg', '/content/MedNIST/AbdomenCT/003315.jpeg', '/content/MedNIST/ChestCT/009769.jpeg', '/content/MedNIST/CXR/003404.jpeg', '/content/MedNIST/BreastMRI/008668.jpeg', '/content/MedNIST/HeadCT/008063.jpeg', '/content/MedNIST/BreastMRI/000257.jpeg', '/content/MedNIST/ChestCT/008568.jpeg', '/content/MedNIST/BreastMRI/008372.jpeg', '/content/MedNIST/Hand/001456.jpeg', '/content/MedNIST/ChestCT/000630.jpeg', '/content/MedNIST/BreastMRI/003576.jpeg', '/content/MedNIST/HeadCT/004082.jpeg', '/content/MedNIST/AbdomenCT/006943.jpeg', '/content/MedNIST/CXR/004478.jpeg', '/content/MedNIST/HeadCT/000701.jpeg', '/content/MedNIST/ChestCT/008820.jpeg', '/content/MedNIST/AbdomenCT/009457.jpeg', '/content/MedNIST/ChestCT/005933.jpeg', '/content/MedNIST/CXR/001087.jpeg', '/content/MedNIST/ChestCT/009004.jpeg', '/content/MedNIST/Hand/006530.jpeg', '/content/MedNIST/Hand/006899.jpeg', '/content/MedNIST/AbdomenCT/000544.jpeg', '/content/MedNIST/AbdomenCT/006364.jpeg', '/content/MedNIST/CXR/004322.jpeg', '/content/MedNIST/BreastMRI/006431.jpeg', '/content/MedNIST/HeadCT/007315.jpeg', '/content/MedNIST/CXR/005275.jpeg', '/content/MedNIST/Hand/002714.jpeg', '/content/MedNIST/CXR/009831.jpeg', '/content/MedNIST/CXR/001523.jpeg', '/content/MedNIST/CXR/007573.jpeg', '/content/MedNIST/ChestCT/004501.jpeg', '/content/MedNIST/HeadCT/005510.jpeg', '/content/MedNIST/ChestCT/000071.jpeg', '/content/MedNIST/CXR/002807.jpeg', '/content/MedNIST/AbdomenCT/006757.jpeg', '/content/MedNIST/AbdomenCT/004648.jpeg', '/content/MedNIST/CXR/009779.jpeg', '/content/MedNIST/HeadCT/007441.jpeg', '/content/MedNIST/HeadCT/000378.jpeg', '/content/MedNIST/BreastMRI/003691.jpeg', '/content/MedNIST/HeadCT/001418.jpeg', '/content/MedNIST/AbdomenCT/009154.jpeg', '/content/MedNIST/ChestCT/007209.jpeg', '/content/MedNIST/HeadCT/005892.jpeg', '/content/MedNIST/AbdomenCT/005022.jpeg', '/content/MedNIST/CXR/003798.jpeg', '/content/MedNIST/AbdomenCT/002063.jpeg', '/content/MedNIST/HeadCT/001424.jpeg', '/content/MedNIST/HeadCT/005439.jpeg', '/content/MedNIST/Hand/009490.jpeg', '/content/MedNIST/CXR/007547.jpeg', '/content/MedNIST/Hand/000141.jpeg', '/content/MedNIST/HeadCT/009496.jpeg', '/content/MedNIST/BreastMRI/003024.jpeg', '/content/MedNIST/ChestCT/004655.jpeg', '/content/MedNIST/ChestCT/003586.jpeg', '/content/MedNIST/Hand/005391.jpeg', '/content/MedNIST/ChestCT/003108.jpeg', '/content/MedNIST/ChestCT/008319.jpeg', '/content/MedNIST/CXR/003444.jpeg', '/content/MedNIST/ChestCT/004520.jpeg', '/content/MedNIST/HeadCT/005634.jpeg', '/content/MedNIST/HeadCT/001893.jpeg', '/content/MedNIST/AbdomenCT/001691.jpeg', '/content/MedNIST/AbdomenCT/000860.jpeg', '/content/MedNIST/CXR/000190.jpeg', '/content/MedNIST/Hand/006252.jpeg', '/content/MedNIST/CXR/001174.jpeg', '/content/MedNIST/ChestCT/002580.jpeg', '/content/MedNIST/CXR/007492.jpeg', '/content/MedNIST/BreastMRI/006111.jpeg', '/content/MedNIST/Hand/000110.jpeg', '/content/MedNIST/CXR/009328.jpeg', '/content/MedNIST/BreastMRI/008950.jpeg', '/content/MedNIST/Hand/006556.jpeg', '/content/MedNIST/AbdomenCT/003069.jpeg', '/content/MedNIST/ChestCT/008054.jpeg', '/content/MedNIST/Hand/008452.jpeg', '/content/MedNIST/CXR/003478.jpeg', '/content/MedNIST/BreastMRI/005143.jpeg', '/content/MedNIST/ChestCT/007306.jpeg', '/content/MedNIST/CXR/005632.jpeg', '/content/MedNIST/ChestCT/003042.jpeg', '/content/MedNIST/ChestCT/002921.jpeg', '/content/MedNIST/BreastMRI/007642.jpeg', '/content/MedNIST/AbdomenCT/006382.jpeg', '/content/MedNIST/BreastMRI/005156.jpeg', '/content/MedNIST/AbdomenCT/004176.jpeg', '/content/MedNIST/Hand/006513.jpeg', '/content/MedNIST/AbdomenCT/002877.jpeg', '/content/MedNIST/ChestCT/001770.jpeg', '/content/MedNIST/BreastMRI/001762.jpeg', '/content/MedNIST/CXR/001155.jpeg', '/content/MedNIST/ChestCT/004694.jpeg', '/content/MedNIST/HeadCT/001548.jpeg', '/content/MedNIST/ChestCT/005935.jpeg', '/content/MedNIST/Hand/001484.jpeg', '/content/MedNIST/CXR/008692.jpeg', '/content/MedNIST/CXR/009790.jpeg', '/content/MedNIST/HeadCT/000216.jpeg', '/content/MedNIST/BreastMRI/001611.jpeg', '/content/MedNIST/AbdomenCT/005334.jpeg', '/content/MedNIST/BreastMRI/006696.jpeg', '/content/MedNIST/AbdomenCT/003918.jpeg', '/content/MedNIST/AbdomenCT/004809.jpeg', '/content/MedNIST/AbdomenCT/002902.jpeg', '/content/MedNIST/Hand/006151.jpeg', '/content/MedNIST/HeadCT/009941.jpeg', '/content/MedNIST/Hand/003048.jpeg', '/content/MedNIST/ChestCT/001574.jpeg', '/content/MedNIST/ChestCT/001133.jpeg', '/content/MedNIST/BreastMRI/003507.jpeg', '/content/MedNIST/HeadCT/004156.jpeg', '/content/MedNIST/CXR/006747.jpeg', '/content/MedNIST/BreastMRI/002007.jpeg', '/content/MedNIST/BreastMRI/004045.jpeg', '/content/MedNIST/HeadCT/005206.jpeg', '/content/MedNIST/ChestCT/004573.jpeg', '/content/MedNIST/AbdomenCT/005176.jpeg', '/content/MedNIST/HeadCT/002219.jpeg', '/content/MedNIST/HeadCT/007302.jpeg', '/content/MedNIST/CXR/003762.jpeg', '/content/MedNIST/BreastMRI/004213.jpeg', '/content/MedNIST/CXR/009797.jpeg', '/content/MedNIST/CXR/007440.jpeg', '/content/MedNIST/AbdomenCT/007859.jpeg', '/content/MedNIST/BreastMRI/002174.jpeg', '/content/MedNIST/HeadCT/003415.jpeg', '/content/MedNIST/HeadCT/008534.jpeg', '/content/MedNIST/CXR/009222.jpeg', '/content/MedNIST/Hand/001573.jpeg', '/content/MedNIST/CXR/005218.jpeg', '/content/MedNIST/CXR/008527.jpeg', '/content/MedNIST/CXR/003199.jpeg', '/content/MedNIST/ChestCT/001779.jpeg', '/content/MedNIST/Hand/002817.jpeg', '/content/MedNIST/ChestCT/008757.jpeg', '/content/MedNIST/Hand/009140.jpeg', '/content/MedNIST/BreastMRI/008265.jpeg', '/content/MedNIST/HeadCT/004853.jpeg', '/content/MedNIST/AbdomenCT/000318.jpeg', '/content/MedNIST/Hand/001851.jpeg', '/content/MedNIST/CXR/009426.jpeg', '/content/MedNIST/ChestCT/008965.jpeg', '/content/MedNIST/ChestCT/002297.jpeg', '/content/MedNIST/Hand/006798.jpeg', '/content/MedNIST/Hand/008180.jpeg', '/content/MedNIST/HeadCT/003969.jpeg', '/content/MedNIST/ChestCT/006018.jpeg', '/content/MedNIST/ChestCT/001826.jpeg', '/content/MedNIST/AbdomenCT/003713.jpeg', '/content/MedNIST/BreastMRI/008036.jpeg', '/content/MedNIST/ChestCT/001192.jpeg', '/content/MedNIST/AbdomenCT/001863.jpeg', '/content/MedNIST/ChestCT/008504.jpeg', '/content/MedNIST/CXR/006024.jpeg', '/content/MedNIST/AbdomenCT/008997.jpeg', '/content/MedNIST/BreastMRI/005003.jpeg', '/content/MedNIST/HeadCT/005296.jpeg', '/content/MedNIST/HeadCT/009041.jpeg', '/content/MedNIST/AbdomenCT/005175.jpeg', '/content/MedNIST/Hand/006658.jpeg', '/content/MedNIST/BreastMRI/006386.jpeg', '/content/MedNIST/BreastMRI/008457.jpeg', '/content/MedNIST/HeadCT/007013.jpeg', '/content/MedNIST/HeadCT/000442.jpeg', '/content/MedNIST/BreastMRI/000017.jpeg', '/content/MedNIST/HeadCT/008686.jpeg', '/content/MedNIST/HeadCT/003072.jpeg', '/content/MedNIST/CXR/000698.jpeg', '/content/MedNIST/AbdomenCT/006624.jpeg', '/content/MedNIST/HeadCT/008549.jpeg', '/content/MedNIST/ChestCT/008763.jpeg', '/content/MedNIST/ChestCT/001279.jpeg', '/content/MedNIST/CXR/007092.jpeg', '/content/MedNIST/BreastMRI/005798.jpeg', '/content/MedNIST/BreastMRI/003312.jpeg', '/content/MedNIST/BreastMRI/006202.jpeg', '/content/MedNIST/CXR/006849.jpeg', '/content/MedNIST/CXR/003538.jpeg', '/content/MedNIST/ChestCT/003945.jpeg', '/content/MedNIST/HeadCT/004063.jpeg', '/content/MedNIST/ChestCT/004724.jpeg', '/content/MedNIST/Hand/007938.jpeg', '/content/MedNIST/CXR/001410.jpeg', '/content/MedNIST/HeadCT/003142.jpeg', '/content/MedNIST/CXR/009502.jpeg', '/content/MedNIST/AbdomenCT/009369.jpeg', '/content/MedNIST/CXR/008742.jpeg', '/content/MedNIST/HeadCT/008529.jpeg', '/content/MedNIST/Hand/000174.jpeg', '/content/MedNIST/Hand/008348.jpeg', '/content/MedNIST/AbdomenCT/009974.jpeg', '/content/MedNIST/CXR/007817.jpeg', '/content/MedNIST/CXR/003319.jpeg', '/content/MedNIST/CXR/002948.jpeg', '/content/MedNIST/Hand/009582.jpeg', '/content/MedNIST/AbdomenCT/004891.jpeg', '/content/MedNIST/Hand/005522.jpeg', '/content/MedNIST/BreastMRI/003679.jpeg', '/content/MedNIST/ChestCT/008974.jpeg', '/content/MedNIST/CXR/005516.jpeg', '/content/MedNIST/BreastMRI/004782.jpeg', '/content/MedNIST/AbdomenCT/005957.jpeg', '/content/MedNIST/Hand/006211.jpeg', '/content/MedNIST/ChestCT/000805.jpeg', '/content/MedNIST/ChestCT/001200.jpeg', '/content/MedNIST/HeadCT/000982.jpeg', '/content/MedNIST/Hand/003772.jpeg', '/content/MedNIST/Hand/004139.jpeg', '/content/MedNIST/ChestCT/005083.jpeg', '/content/MedNIST/BreastMRI/005260.jpeg', '/content/MedNIST/ChestCT/005118.jpeg', '/content/MedNIST/ChestCT/003524.jpeg', '/content/MedNIST/ChestCT/008557.jpeg', '/content/MedNIST/BreastMRI/002300.jpeg', '/content/MedNIST/AbdomenCT/001299.jpeg', '/content/MedNIST/BreastMRI/000802.jpeg', '/content/MedNIST/BreastMRI/005335.jpeg', '/content/MedNIST/AbdomenCT/003472.jpeg', '/content/MedNIST/CXR/005099.jpeg', '/content/MedNIST/AbdomenCT/003204.jpeg', '/content/MedNIST/AbdomenCT/004455.jpeg', '/content/MedNIST/CXR/002255.jpeg', '/content/MedNIST/CXR/009296.jpeg', '/content/MedNIST/ChestCT/003494.jpeg', '/content/MedNIST/CXR/000761.jpeg', '/content/MedNIST/HeadCT/005626.jpeg', '/content/MedNIST/BreastMRI/003500.jpeg', '/content/MedNIST/HeadCT/006432.jpeg', '/content/MedNIST/ChestCT/004136.jpeg', '/content/MedNIST/ChestCT/005398.jpeg', '/content/MedNIST/CXR/005582.jpeg', '/content/MedNIST/BreastMRI/003233.jpeg', '/content/MedNIST/HeadCT/003541.jpeg', '/content/MedNIST/ChestCT/002273.jpeg', '/content/MedNIST/HeadCT/001294.jpeg', '/content/MedNIST/AbdomenCT/009540.jpeg', '/content/MedNIST/ChestCT/004466.jpeg', '/content/MedNIST/AbdomenCT/005560.jpeg', '/content/MedNIST/HeadCT/000136.jpeg', '/content/MedNIST/BreastMRI/001106.jpeg', '/content/MedNIST/BreastMRI/003311.jpeg', '/content/MedNIST/ChestCT/008378.jpeg', '/content/MedNIST/CXR/001220.jpeg', '/content/MedNIST/Hand/002428.jpeg', '/content/MedNIST/BreastMRI/005504.jpeg', '/content/MedNIST/AbdomenCT/000232.jpeg', '/content/MedNIST/Hand/003243.jpeg', '/content/MedNIST/AbdomenCT/000689.jpeg', '/content/MedNIST/CXR/005562.jpeg', '/content/MedNIST/CXR/002503.jpeg', '/content/MedNIST/Hand/001909.jpeg', '/content/MedNIST/CXR/001000.jpeg', '/content/MedNIST/Hand/005970.jpeg', '/content/MedNIST/BreastMRI/005353.jpeg', '/content/MedNIST/BreastMRI/002738.jpeg', '/content/MedNIST/CXR/002493.jpeg', '/content/MedNIST/AbdomenCT/005362.jpeg', '/content/MedNIST/BreastMRI/008311.jpeg', '/content/MedNIST/CXR/005118.jpeg', '/content/MedNIST/Hand/008867.jpeg', '/content/MedNIST/CXR/006848.jpeg', '/content/MedNIST/ChestCT/001682.jpeg', '/content/MedNIST/ChestCT/007594.jpeg', '/content/MedNIST/BreastMRI/001493.jpeg', '/content/MedNIST/ChestCT/003707.jpeg', '/content/MedNIST/HeadCT/006527.jpeg', '/content/MedNIST/CXR/006698.jpeg', '/content/MedNIST/BreastMRI/000910.jpeg', '/content/MedNIST/ChestCT/008657.jpeg', '/content/MedNIST/ChestCT/003698.jpeg', '/content/MedNIST/CXR/002885.jpeg', '/content/MedNIST/ChestCT/000080.jpeg', '/content/MedNIST/HeadCT/004314.jpeg', '/content/MedNIST/CXR/005603.jpeg', '/content/MedNIST/Hand/009136.jpeg', '/content/MedNIST/CXR/001007.jpeg', '/content/MedNIST/CXR/004451.jpeg', '/content/MedNIST/BreastMRI/000454.jpeg', '/content/MedNIST/AbdomenCT/003124.jpeg', '/content/MedNIST/Hand/007662.jpeg', '/content/MedNIST/AbdomenCT/000988.jpeg', '/content/MedNIST/BreastMRI/006728.jpeg', '/content/MedNIST/CXR/006970.jpeg', '/content/MedNIST/Hand/008817.jpeg', '/content/MedNIST/ChestCT/000137.jpeg', '/content/MedNIST/AbdomenCT/002711.jpeg', '/content/MedNIST/ChestCT/003981.jpeg', '/content/MedNIST/CXR/007357.jpeg', '/content/MedNIST/ChestCT/002441.jpeg', '/content/MedNIST/Hand/004093.jpeg', '/content/MedNIST/Hand/002154.jpeg', '/content/MedNIST/ChestCT/009925.jpeg', '/content/MedNIST/ChestCT/001117.jpeg', '/content/MedNIST/ChestCT/001476.jpeg', '/content/MedNIST/CXR/003246.jpeg', '/content/MedNIST/ChestCT/005238.jpeg', '/content/MedNIST/BreastMRI/002588.jpeg', '/content/MedNIST/HeadCT/005513.jpeg', '/content/MedNIST/ChestCT/002401.jpeg', '/content/MedNIST/ChestCT/001646.jpeg', '/content/MedNIST/AbdomenCT/002459.jpeg', '/content/MedNIST/HeadCT/006883.jpeg', '/content/MedNIST/AbdomenCT/006039.jpeg', '/content/MedNIST/ChestCT/003191.jpeg', '/content/MedNIST/ChestCT/001580.jpeg', '/content/MedNIST/BreastMRI/003068.jpeg', '/content/MedNIST/AbdomenCT/000311.jpeg', '/content/MedNIST/BreastMRI/004873.jpeg', '/content/MedNIST/BreastMRI/002397.jpeg', '/content/MedNIST/Hand/004230.jpeg', '/content/MedNIST/Hand/000713.jpeg', '/content/MedNIST/HeadCT/005377.jpeg', '/content/MedNIST/Hand/001410.jpeg', '/content/MedNIST/CXR/001574.jpeg', '/content/MedNIST/Hand/003575.jpeg', '/content/MedNIST/CXR/002336.jpeg', '/content/MedNIST/CXR/007453.jpeg', '/content/MedNIST/AbdomenCT/009893.jpeg', '/content/MedNIST/BreastMRI/000422.jpeg', '/content/MedNIST/CXR/000354.jpeg', '/content/MedNIST/HeadCT/001653.jpeg', '/content/MedNIST/Hand/000531.jpeg', '/content/MedNIST/ChestCT/008567.jpeg', '/content/MedNIST/BreastMRI/003757.jpeg', '/content/MedNIST/BreastMRI/002632.jpeg', '/content/MedNIST/ChestCT/000699.jpeg', '/content/MedNIST/HeadCT/003840.jpeg', '/content/MedNIST/AbdomenCT/004298.jpeg', '/content/MedNIST/HeadCT/009237.jpeg', '/content/MedNIST/ChestCT/004783.jpeg', '/content/MedNIST/ChestCT/005795.jpeg', '/content/MedNIST/ChestCT/006925.jpeg', '/content/MedNIST/BreastMRI/003763.jpeg', '/content/MedNIST/HeadCT/001284.jpeg', '/content/MedNIST/HeadCT/008586.jpeg', '/content/MedNIST/BreastMRI/000642.jpeg', '/content/MedNIST/BreastMRI/004455.jpeg', '/content/MedNIST/Hand/002670.jpeg', '/content/MedNIST/ChestCT/008330.jpeg', '/content/MedNIST/HeadCT/009444.jpeg', '/content/MedNIST/BreastMRI/002372.jpeg', '/content/MedNIST/Hand/002775.jpeg', '/content/MedNIST/CXR/000030.jpeg', '/content/MedNIST/HeadCT/007060.jpeg', '/content/MedNIST/ChestCT/000314.jpeg', '/content/MedNIST/HeadCT/003534.jpeg', '/content/MedNIST/HeadCT/007331.jpeg', '/content/MedNIST/CXR/008765.jpeg', '/content/MedNIST/CXR/001829.jpeg', '/content/MedNIST/HeadCT/009100.jpeg', '/content/MedNIST/BreastMRI/003430.jpeg', '/content/MedNIST/CXR/004568.jpeg', '/content/MedNIST/CXR/002746.jpeg', '/content/MedNIST/HeadCT/008297.jpeg', '/content/MedNIST/BreastMRI/001831.jpeg', '/content/MedNIST/BreastMRI/005547.jpeg', '/content/MedNIST/ChestCT/002392.jpeg', '/content/MedNIST/ChestCT/000157.jpeg', '/content/MedNIST/Hand/008605.jpeg', '/content/MedNIST/AbdomenCT/002233.jpeg', '/content/MedNIST/BreastMRI/004423.jpeg', '/content/MedNIST/HeadCT/009347.jpeg', '/content/MedNIST/ChestCT/008195.jpeg', '/content/MedNIST/HeadCT/002217.jpeg', '/content/MedNIST/Hand/003216.jpeg', '/content/MedNIST/Hand/005791.jpeg', '/content/MedNIST/Hand/000848.jpeg', '/content/MedNIST/ChestCT/008057.jpeg', '/content/MedNIST/HeadCT/005692.jpeg', '/content/MedNIST/CXR/002612.jpeg', '/content/MedNIST/CXR/000795.jpeg', '/content/MedNIST/BreastMRI/001471.jpeg', '/content/MedNIST/AbdomenCT/004925.jpeg', '/content/MedNIST/Hand/003800.jpeg', '/content/MedNIST/Hand/002360.jpeg', '/content/MedNIST/Hand/003486.jpeg', '/content/MedNIST/AbdomenCT/001459.jpeg', '/content/MedNIST/CXR/007159.jpeg', '/content/MedNIST/HeadCT/007009.jpeg', '/content/MedNIST/BreastMRI/006293.jpeg', '/content/MedNIST/HeadCT/005746.jpeg', '/content/MedNIST/AbdomenCT/002635.jpeg', '/content/MedNIST/ChestCT/004015.jpeg', '/content/MedNIST/CXR/003293.jpeg', '/content/MedNIST/AbdomenCT/000712.jpeg', '/content/MedNIST/Hand/008004.jpeg', '/content/MedNIST/ChestCT/003315.jpeg', '/content/MedNIST/ChestCT/009485.jpeg', '/content/MedNIST/ChestCT/002527.jpeg', '/content/MedNIST/CXR/006943.jpeg', '/content/MedNIST/Hand/001621.jpeg', '/content/MedNIST/ChestCT/004411.jpeg', '/content/MedNIST/ChestCT/000524.jpeg', '/content/MedNIST/Hand/001569.jpeg', '/content/MedNIST/CXR/002226.jpeg', '/content/MedNIST/ChestCT/005164.jpeg', '/content/MedNIST/HeadCT/004027.jpeg', '/content/MedNIST/Hand/000439.jpeg', '/content/MedNIST/CXR/009338.jpeg', '/content/MedNIST/HeadCT/007893.jpeg', '/content/MedNIST/ChestCT/007330.jpeg', '/content/MedNIST/CXR/002643.jpeg', '/content/MedNIST/Hand/006062.jpeg', '/content/MedNIST/CXR/006693.jpeg', '/content/MedNIST/BreastMRI/004312.jpeg', '/content/MedNIST/CXR/004425.jpeg', '/content/MedNIST/Hand/005526.jpeg', '/content/MedNIST/HeadCT/006597.jpeg', '/content/MedNIST/CXR/007671.jpeg', '/content/MedNIST/AbdomenCT/003426.jpeg', '/content/MedNIST/AbdomenCT/000280.jpeg', '/content/MedNIST/BreastMRI/006123.jpeg', '/content/MedNIST/AbdomenCT/009134.jpeg', '/content/MedNIST/BreastMRI/002592.jpeg', '/content/MedNIST/ChestCT/001516.jpeg', '/content/MedNIST/Hand/007407.jpeg', '/content/MedNIST/BreastMRI/004081.jpeg', '/content/MedNIST/BreastMRI/003388.jpeg', '/content/MedNIST/BreastMRI/006834.jpeg', '/content/MedNIST/BreastMRI/002534.jpeg', '/content/MedNIST/Hand/006076.jpeg', '/content/MedNIST/AbdomenCT/005445.jpeg', '/content/MedNIST/AbdomenCT/006876.jpeg', '/content/MedNIST/Hand/004065.jpeg', '/content/MedNIST/ChestCT/002074.jpeg', '/content/MedNIST/AbdomenCT/008805.jpeg', '/content/MedNIST/CXR/003439.jpeg', '/content/MedNIST/BreastMRI/000562.jpeg', '/content/MedNIST/Hand/006208.jpeg', '/content/MedNIST/HeadCT/007731.jpeg', '/content/MedNIST/AbdomenCT/008828.jpeg', '/content/MedNIST/Hand/009496.jpeg', '/content/MedNIST/HeadCT/008253.jpeg', '/content/MedNIST/CXR/003192.jpeg', '/content/MedNIST/HeadCT/006406.jpeg', '/content/MedNIST/HeadCT/004899.jpeg', '/content/MedNIST/AbdomenCT/001407.jpeg', '/content/MedNIST/HeadCT/002924.jpeg', '/content/MedNIST/Hand/006781.jpeg', '/content/MedNIST/AbdomenCT/003286.jpeg', '/content/MedNIST/AbdomenCT/004679.jpeg', '/content/MedNIST/Hand/007591.jpeg', '/content/MedNIST/AbdomenCT/007205.jpeg', '/content/MedNIST/ChestCT/008402.jpeg', '/content/MedNIST/ChestCT/000383.jpeg', '/content/MedNIST/AbdomenCT/009547.jpeg', '/content/MedNIST/HeadCT/002472.jpeg', '/content/MedNIST/ChestCT/006534.jpeg', '/content/MedNIST/Hand/006987.jpeg', '/content/MedNIST/ChestCT/004677.jpeg', '/content/MedNIST/HeadCT/008439.jpeg', '/content/MedNIST/HeadCT/001405.jpeg', '/content/MedNIST/BreastMRI/007271.jpeg', '/content/MedNIST/CXR/003270.jpeg', '/content/MedNIST/CXR/002630.jpeg', '/content/MedNIST/CXR/009526.jpeg', '/content/MedNIST/HeadCT/003158.jpeg', '/content/MedNIST/CXR/006589.jpeg', '/content/MedNIST/ChestCT/002004.jpeg', '/content/MedNIST/ChestCT/001501.jpeg', '/content/MedNIST/BreastMRI/005295.jpeg', '/content/MedNIST/BreastMRI/007056.jpeg', '/content/MedNIST/CXR/008751.jpeg', '/content/MedNIST/HeadCT/006647.jpeg', '/content/MedNIST/AbdomenCT/009198.jpeg', '/content/MedNIST/CXR/005762.jpeg', '/content/MedNIST/HeadCT/003048.jpeg', '/content/MedNIST/ChestCT/009361.jpeg', '/content/MedNIST/Hand/003691.jpeg', '/content/MedNIST/ChestCT/006857.jpeg', '/content/MedNIST/CXR/006832.jpeg', '/content/MedNIST/Hand/005951.jpeg', '/content/MedNIST/Hand/002381.jpeg', '/content/MedNIST/ChestCT/001475.jpeg', '/content/MedNIST/CXR/005823.jpeg', '/content/MedNIST/ChestCT/009132.jpeg', '/content/MedNIST/Hand/009542.jpeg', '/content/MedNIST/AbdomenCT/003430.jpeg', '/content/MedNIST/Hand/009160.jpeg', '/content/MedNIST/HeadCT/006331.jpeg', '/content/MedNIST/BreastMRI/004769.jpeg', '/content/MedNIST/Hand/009836.jpeg', '/content/MedNIST/Hand/008415.jpeg', '/content/MedNIST/HeadCT/008772.jpeg', '/content/MedNIST/Hand/004289.jpeg', '/content/MedNIST/ChestCT/000346.jpeg', '/content/MedNIST/HeadCT/008933.jpeg', '/content/MedNIST/CXR/002895.jpeg', '/content/MedNIST/ChestCT/006232.jpeg', '/content/MedNIST/HeadCT/000980.jpeg', '/content/MedNIST/AbdomenCT/006972.jpeg', '/content/MedNIST/HeadCT/008756.jpeg', '/content/MedNIST/HeadCT/004541.jpeg', '/content/MedNIST/HeadCT/004291.jpeg', '/content/MedNIST/BreastMRI/001446.jpeg', '/content/MedNIST/AbdomenCT/007604.jpeg', '/content/MedNIST/CXR/002391.jpeg', '/content/MedNIST/HeadCT/000403.jpeg', '/content/MedNIST/HeadCT/005237.jpeg', '/content/MedNIST/Hand/005647.jpeg', '/content/MedNIST/BreastMRI/008512.jpeg', '/content/MedNIST/BreastMRI/007570.jpeg', '/content/MedNIST/BreastMRI/002943.jpeg', '/content/MedNIST/Hand/008246.jpeg', '/content/MedNIST/CXR/004136.jpeg', '/content/MedNIST/BreastMRI/003863.jpeg', '/content/MedNIST/Hand/003313.jpeg', '/content/MedNIST/BreastMRI/003663.jpeg', '/content/MedNIST/HeadCT/005161.jpeg', '/content/MedNIST/ChestCT/009885.jpeg', '/content/MedNIST/BreastMRI/004559.jpeg', '/content/MedNIST/ChestCT/005621.jpeg', '/content/MedNIST/Hand/005774.jpeg', '/content/MedNIST/Hand/007070.jpeg', '/content/MedNIST/CXR/001986.jpeg', '/content/MedNIST/ChestCT/007724.jpeg', '/content/MedNIST/CXR/005787.jpeg', '/content/MedNIST/ChestCT/005155.jpeg', '/content/MedNIST/AbdomenCT/004669.jpeg', '/content/MedNIST/ChestCT/003440.jpeg', '/content/MedNIST/ChestCT/001861.jpeg', '/content/MedNIST/HeadCT/002740.jpeg', '/content/MedNIST/CXR/000430.jpeg', '/content/MedNIST/CXR/001304.jpeg', '/content/MedNIST/ChestCT/006424.jpeg', '/content/MedNIST/BreastMRI/004306.jpeg', '/content/MedNIST/ChestCT/009020.jpeg', '/content/MedNIST/Hand/002040.jpeg', '/content/MedNIST/HeadCT/002026.jpeg', '/content/MedNIST/AbdomenCT/007755.jpeg', '/content/MedNIST/BreastMRI/005528.jpeg', '/content/MedNIST/HeadCT/000903.jpeg', '/content/MedNIST/AbdomenCT/001937.jpeg', '/content/MedNIST/Hand/006687.jpeg', '/content/MedNIST/ChestCT/007442.jpeg', '/content/MedNIST/HeadCT/003530.jpeg', '/content/MedNIST/BreastMRI/000785.jpeg', '/content/MedNIST/ChestCT/002493.jpeg', '/content/MedNIST/AbdomenCT/005770.jpeg', '/content/MedNIST/ChestCT/002129.jpeg', '/content/MedNIST/AbdomenCT/008248.jpeg', '/content/MedNIST/CXR/006119.jpeg', '/content/MedNIST/AbdomenCT/005827.jpeg', '/content/MedNIST/AbdomenCT/007718.jpeg', '/content/MedNIST/CXR/006978.jpeg', '/content/MedNIST/HeadCT/009924.jpeg', '/content/MedNIST/AbdomenCT/004636.jpeg', '/content/MedNIST/HeadCT/002621.jpeg', '/content/MedNIST/Hand/009574.jpeg', '/content/MedNIST/AbdomenCT/001914.jpeg', '/content/MedNIST/AbdomenCT/003832.jpeg', '/content/MedNIST/HeadCT/000062.jpeg', '/content/MedNIST/HeadCT/000395.jpeg', '/content/MedNIST/BreastMRI/001724.jpeg', '/content/MedNIST/CXR/001204.jpeg', '/content/MedNIST/AbdomenCT/006933.jpeg', '/content/MedNIST/AbdomenCT/009417.jpeg', '/content/MedNIST/AbdomenCT/008185.jpeg', '/content/MedNIST/CXR/000180.jpeg', '/content/MedNIST/HeadCT/009427.jpeg', '/content/MedNIST/HeadCT/008725.jpeg', '/content/MedNIST/Hand/001775.jpeg', '/content/MedNIST/ChestCT/006568.jpeg', '/content/MedNIST/BreastMRI/000104.jpeg', '/content/MedNIST/AbdomenCT/004532.jpeg', '/content/MedNIST/CXR/004005.jpeg', '/content/MedNIST/ChestCT/003002.jpeg', '/content/MedNIST/Hand/000116.jpeg', '/content/MedNIST/BreastMRI/006678.jpeg', '/content/MedNIST/Hand/000553.jpeg', '/content/MedNIST/CXR/006332.jpeg', '/content/MedNIST/HeadCT/004502.jpeg', '/content/MedNIST/ChestCT/009824.jpeg', '/content/MedNIST/CXR/005628.jpeg', '/content/MedNIST/Hand/007383.jpeg', '/content/MedNIST/Hand/005767.jpeg', '/content/MedNIST/AbdomenCT/003612.jpeg', '/content/MedNIST/CXR/005441.jpeg', '/content/MedNIST/Hand/002557.jpeg', '/content/MedNIST/CXR/001184.jpeg', '/content/MedNIST/HeadCT/000812.jpeg', '/content/MedNIST/Hand/009990.jpeg', '/content/MedNIST/Hand/000419.jpeg', '/content/MedNIST/Hand/001957.jpeg', '/content/MedNIST/ChestCT/007741.jpeg', '/content/MedNIST/Hand/005215.jpeg', '/content/MedNIST/BreastMRI/007332.jpeg', '/content/MedNIST/BreastMRI/008945.jpeg', '/content/MedNIST/BreastMRI/007224.jpeg', '/content/MedNIST/AbdomenCT/004815.jpeg', '/content/MedNIST/HeadCT/000808.jpeg', '/content/MedNIST/Hand/006239.jpeg', '/content/MedNIST/CXR/004871.jpeg', '/content/MedNIST/BreastMRI/008240.jpeg', '/content/MedNIST/HeadCT/005873.jpeg', '/content/MedNIST/BreastMRI/006815.jpeg', '/content/MedNIST/BreastMRI/007508.jpeg', '/content/MedNIST/Hand/007130.jpeg', '/content/MedNIST/ChestCT/001565.jpeg', '/content/MedNIST/AbdomenCT/008896.jpeg', '/content/MedNIST/HeadCT/007420.jpeg', '/content/MedNIST/HeadCT/000058.jpeg', '/content/MedNIST/ChestCT/003768.jpeg', '/content/MedNIST/AbdomenCT/000072.jpeg', '/content/MedNIST/BreastMRI/006039.jpeg', '/content/MedNIST/ChestCT/002462.jpeg', '/content/MedNIST/CXR/003589.jpeg', '/content/MedNIST/HeadCT/000740.jpeg', '/content/MedNIST/HeadCT/007015.jpeg', '/content/MedNIST/Hand/007737.jpeg', '/content/MedNIST/ChestCT/009106.jpeg', '/content/MedNIST/HeadCT/001042.jpeg', '/content/MedNIST/Hand/000458.jpeg', '/content/MedNIST/CXR/006162.jpeg', '/content/MedNIST/ChestCT/003098.jpeg', '/content/MedNIST/Hand/000017.jpeg', '/content/MedNIST/Hand/003718.jpeg', '/content/MedNIST/AbdomenCT/005359.jpeg', '/content/MedNIST/BreastMRI/003660.jpeg', '/content/MedNIST/CXR/008817.jpeg', '/content/MedNIST/HeadCT/003904.jpeg', '/content/MedNIST/AbdomenCT/005023.jpeg', '/content/MedNIST/CXR/006403.jpeg', '/content/MedNIST/ChestCT/005014.jpeg', '/content/MedNIST/AbdomenCT/009933.jpeg', '/content/MedNIST/CXR/000295.jpeg', '/content/MedNIST/BreastMRI/005536.jpeg', '/content/MedNIST/BreastMRI/002074.jpeg', '/content/MedNIST/HeadCT/009757.jpeg', '/content/MedNIST/AbdomenCT/009230.jpeg', '/content/MedNIST/ChestCT/007179.jpeg', '/content/MedNIST/CXR/003327.jpeg', '/content/MedNIST/BreastMRI/002002.jpeg', '/content/MedNIST/AbdomenCT/005682.jpeg', '/content/MedNIST/BreastMRI/004645.jpeg', '/content/MedNIST/ChestCT/009623.jpeg', '/content/MedNIST/AbdomenCT/007521.jpeg', '/content/MedNIST/CXR/002442.jpeg', '/content/MedNIST/CXR/002848.jpeg', '/content/MedNIST/CXR/001526.jpeg', '/content/MedNIST/CXR/007107.jpeg', '/content/MedNIST/CXR/007713.jpeg', '/content/MedNIST/ChestCT/005623.jpeg', '/content/MedNIST/HeadCT/000476.jpeg', '/content/MedNIST/BreastMRI/004738.jpeg', '/content/MedNIST/CXR/001325.jpeg', '/content/MedNIST/AbdomenCT/003429.jpeg', '/content/MedNIST/BreastMRI/005817.jpeg', '/content/MedNIST/BreastMRI/004165.jpeg', '/content/MedNIST/BreastMRI/006520.jpeg', '/content/MedNIST/ChestCT/004822.jpeg', '/content/MedNIST/BreastMRI/007253.jpeg', '/content/MedNIST/HeadCT/007374.jpeg', '/content/MedNIST/CXR/008245.jpeg', '/content/MedNIST/AbdomenCT/003815.jpeg', '/content/MedNIST/ChestCT/009454.jpeg', '/content/MedNIST/AbdomenCT/008503.jpeg', '/content/MedNIST/AbdomenCT/008394.jpeg', '/content/MedNIST/AbdomenCT/004944.jpeg', '/content/MedNIST/CXR/008843.jpeg', '/content/MedNIST/HeadCT/000708.jpeg', '/content/MedNIST/CXR/009594.jpeg', '/content/MedNIST/AbdomenCT/007310.jpeg', '/content/MedNIST/Hand/008367.jpeg', '/content/MedNIST/ChestCT/005603.jpeg', '/content/MedNIST/ChestCT/009111.jpeg', '/content/MedNIST/ChestCT/006457.jpeg', '/content/MedNIST/AbdomenCT/007712.jpeg', '/content/MedNIST/CXR/008512.jpeg', '/content/MedNIST/Hand/003041.jpeg', '/content/MedNIST/BreastMRI/005652.jpeg', '/content/MedNIST/HeadCT/008322.jpeg', '/content/MedNIST/BreastMRI/005337.jpeg', '/content/MedNIST/AbdomenCT/009742.jpeg', '/content/MedNIST/CXR/003883.jpeg', '/content/MedNIST/ChestCT/001675.jpeg', '/content/MedNIST/HeadCT/006421.jpeg', '/content/MedNIST/ChestCT/009620.jpeg', '/content/MedNIST/HeadCT/003620.jpeg', '/content/MedNIST/ChestCT/006208.jpeg', '/content/MedNIST/CXR/002428.jpeg', '/content/MedNIST/ChestCT/007861.jpeg', '/content/MedNIST/HeadCT/008681.jpeg', '/content/MedNIST/BreastMRI/008687.jpeg', '/content/MedNIST/CXR/000110.jpeg', '/content/MedNIST/HeadCT/008542.jpeg', '/content/MedNIST/BreastMRI/004904.jpeg', '/content/MedNIST/CXR/006764.jpeg', '/content/MedNIST/HeadCT/009102.jpeg', '/content/MedNIST/HeadCT/003901.jpeg', '/content/MedNIST/BreastMRI/005589.jpeg', '/content/MedNIST/AbdomenCT/008648.jpeg', '/content/MedNIST/Hand/007898.jpeg', '/content/MedNIST/HeadCT/004797.jpeg', '/content/MedNIST/ChestCT/005220.jpeg', '/content/MedNIST/HeadCT/007664.jpeg', '/content/MedNIST/AbdomenCT/006816.jpeg', '/content/MedNIST/BreastMRI/008939.jpeg', '/content/MedNIST/ChestCT/001446.jpeg', '/content/MedNIST/BreastMRI/003086.jpeg', '/content/MedNIST/ChestCT/000996.jpeg', '/content/MedNIST/BreastMRI/000683.jpeg', '/content/MedNIST/Hand/005544.jpeg', '/content/MedNIST/CXR/003348.jpeg', '/content/MedNIST/Hand/001422.jpeg', '/content/MedNIST/HeadCT/007687.jpeg', '/content/MedNIST/Hand/001260.jpeg', '/content/MedNIST/CXR/003360.jpeg', '/content/MedNIST/Hand/002012.jpeg', '/content/MedNIST/HeadCT/005226.jpeg', '/content/MedNIST/Hand/007986.jpeg', '/content/MedNIST/Hand/002404.jpeg', '/content/MedNIST/ChestCT/001791.jpeg', '/content/MedNIST/ChestCT/000593.jpeg', '/content/MedNIST/CXR/007800.jpeg', '/content/MedNIST/Hand/005675.jpeg', '/content/MedNIST/ChestCT/008042.jpeg', '/content/MedNIST/AbdomenCT/005356.jpeg', '/content/MedNIST/BreastMRI/006865.jpeg', '/content/MedNIST/AbdomenCT/009966.jpeg', '/content/MedNIST/AbdomenCT/004802.jpeg', '/content/MedNIST/CXR/003574.jpeg', '/content/MedNIST/ChestCT/005394.jpeg', '/content/MedNIST/AbdomenCT/004263.jpeg', '/content/MedNIST/Hand/008820.jpeg', '/content/MedNIST/AbdomenCT/008205.jpeg', '/content/MedNIST/Hand/003853.jpeg', '/content/MedNIST/CXR/001331.jpeg', '/content/MedNIST/HeadCT/009816.jpeg', '/content/MedNIST/Hand/007882.jpeg', '/content/MedNIST/BreastMRI/006271.jpeg', '/content/MedNIST/ChestCT/002598.jpeg', '/content/MedNIST/CXR/009076.jpeg', '/content/MedNIST/AbdomenCT/007952.jpeg', '/content/MedNIST/ChestCT/000719.jpeg', '/content/MedNIST/Hand/002560.jpeg', '/content/MedNIST/ChestCT/000155.jpeg', '/content/MedNIST/HeadCT/008248.jpeg', '/content/MedNIST/Hand/006737.jpeg', '/content/MedNIST/AbdomenCT/005424.jpeg', '/content/MedNIST/CXR/003669.jpeg', '/content/MedNIST/BreastMRI/006174.jpeg', '/content/MedNIST/CXR/004228.jpeg', '/content/MedNIST/CXR/002216.jpeg', '/content/MedNIST/ChestCT/007891.jpeg', '/content/MedNIST/CXR/006889.jpeg', '/content/MedNIST/ChestCT/005117.jpeg', '/content/MedNIST/AbdomenCT/006684.jpeg', '/content/MedNIST/HeadCT/002169.jpeg', '/content/MedNIST/BreastMRI/008663.jpeg', '/content/MedNIST/Hand/001705.jpeg', '/content/MedNIST/ChestCT/000490.jpeg', '/content/MedNIST/AbdomenCT/005460.jpeg', '/content/MedNIST/CXR/006836.jpeg', '/content/MedNIST/CXR/001699.jpeg', '/content/MedNIST/AbdomenCT/009147.jpeg', '/content/MedNIST/BreastMRI/001926.jpeg', '/content/MedNIST/CXR/001076.jpeg', '/content/MedNIST/BreastMRI/008552.jpeg', '/content/MedNIST/Hand/003114.jpeg', '/content/MedNIST/HeadCT/001180.jpeg', '/content/MedNIST/ChestCT/009572.jpeg', '/content/MedNIST/Hand/002688.jpeg', '/content/MedNIST/Hand/008231.jpeg', '/content/MedNIST/CXR/002380.jpeg', '/content/MedNIST/HeadCT/006909.jpeg', '/content/MedNIST/Hand/008551.jpeg', '/content/MedNIST/HeadCT/009836.jpeg', '/content/MedNIST/AbdomenCT/005889.jpeg', '/content/MedNIST/Hand/006400.jpeg', '/content/MedNIST/HeadCT/005018.jpeg', '/content/MedNIST/BreastMRI/006054.jpeg', '/content/MedNIST/AbdomenCT/005214.jpeg', '/content/MedNIST/AbdomenCT/003931.jpeg', '/content/MedNIST/Hand/008380.jpeg', '/content/MedNIST/CXR/007215.jpeg', '/content/MedNIST/Hand/008956.jpeg', '/content/MedNIST/AbdomenCT/000939.jpeg', '/content/MedNIST/AbdomenCT/002515.jpeg', '/content/MedNIST/Hand/009516.jpeg', '/content/MedNIST/Hand/007533.jpeg', '/content/MedNIST/ChestCT/005309.jpeg', '/content/MedNIST/BreastMRI/002339.jpeg', '/content/MedNIST/ChestCT/006350.jpeg', '/content/MedNIST/BreastMRI/006893.jpeg', '/content/MedNIST/HeadCT/006024.jpeg', '/content/MedNIST/HeadCT/004112.jpeg', '/content/MedNIST/BreastMRI/003266.jpeg', '/content/MedNIST/CXR/000185.jpeg', '/content/MedNIST/ChestCT/004764.jpeg', '/content/MedNIST/HeadCT/001372.jpeg', '/content/MedNIST/ChestCT/008986.jpeg', '/content/MedNIST/ChestCT/005761.jpeg', '/content/MedNIST/CXR/002088.jpeg', '/content/MedNIST/ChestCT/008646.jpeg', '/content/MedNIST/BreastMRI/008373.jpeg', '/content/MedNIST/BreastMRI/007629.jpeg', '/content/MedNIST/Hand/000070.jpeg', '/content/MedNIST/HeadCT/009027.jpeg', '/content/MedNIST/CXR/006989.jpeg', '/content/MedNIST/AbdomenCT/009416.jpeg', '/content/MedNIST/AbdomenCT/001692.jpeg', '/content/MedNIST/Hand/008432.jpeg', '/content/MedNIST/ChestCT/004004.jpeg', '/content/MedNIST/HeadCT/006123.jpeg', '/content/MedNIST/CXR/008047.jpeg', '/content/MedNIST/ChestCT/002431.jpeg', '/content/MedNIST/HeadCT/006710.jpeg', '/content/MedNIST/Hand/005602.jpeg', '/content/MedNIST/AbdomenCT/004920.jpeg', '/content/MedNIST/ChestCT/008671.jpeg', '/content/MedNIST/ChestCT/006988.jpeg', '/content/MedNIST/HeadCT/006859.jpeg', '/content/MedNIST/AbdomenCT/006560.jpeg', '/content/MedNIST/HeadCT/005058.jpeg', '/content/MedNIST/ChestCT/008809.jpeg', '/content/MedNIST/BreastMRI/001264.jpeg', '/content/MedNIST/ChestCT/001948.jpeg', '/content/MedNIST/BreastMRI/005597.jpeg', '/content/MedNIST/Hand/006566.jpeg', '/content/MedNIST/ChestCT/002249.jpeg', '/content/MedNIST/ChestCT/005982.jpeg', '/content/MedNIST/CXR/007469.jpeg', '/content/MedNIST/HeadCT/002297.jpeg', '/content/MedNIST/AbdomenCT/001319.jpeg', '/content/MedNIST/BreastMRI/007069.jpeg', '/content/MedNIST/ChestCT/003212.jpeg', '/content/MedNIST/AbdomenCT/004835.jpeg', '/content/MedNIST/ChestCT/001099.jpeg', '/content/MedNIST/CXR/009763.jpeg', '/content/MedNIST/AbdomenCT/007677.jpeg', '/content/MedNIST/Hand/004879.jpeg', '/content/MedNIST/HeadCT/008964.jpeg', '/content/MedNIST/BreastMRI/003861.jpeg', '/content/MedNIST/ChestCT/008583.jpeg', '/content/MedNIST/ChestCT/001442.jpeg', '/content/MedNIST/AbdomenCT/007647.jpeg', '/content/MedNIST/ChestCT/001806.jpeg', '/content/MedNIST/HeadCT/007049.jpeg', '/content/MedNIST/HeadCT/006742.jpeg', '/content/MedNIST/HeadCT/008590.jpeg', '/content/MedNIST/Hand/007530.jpeg', '/content/MedNIST/Hand/000618.jpeg', '/content/MedNIST/BreastMRI/007667.jpeg', '/content/MedNIST/Hand/009012.jpeg', '/content/MedNIST/BreastMRI/000150.jpeg', '/content/MedNIST/ChestCT/003800.jpeg', '/content/MedNIST/BreastMRI/002047.jpeg', '/content/MedNIST/AbdomenCT/008640.jpeg', '/content/MedNIST/HeadCT/006249.jpeg', '/content/MedNIST/HeadCT/001527.jpeg', '/content/MedNIST/HeadCT/007632.jpeg', '/content/MedNIST/CXR/000764.jpeg', '/content/MedNIST/Hand/000592.jpeg', '/content/MedNIST/ChestCT/009862.jpeg', '/content/MedNIST/BreastMRI/004427.jpeg', '/content/MedNIST/ChestCT/008801.jpeg', '/content/MedNIST/CXR/007765.jpeg', '/content/MedNIST/BreastMRI/004947.jpeg', '/content/MedNIST/HeadCT/009864.jpeg', '/content/MedNIST/Hand/007687.jpeg', '/content/MedNIST/BreastMRI/002305.jpeg', '/content/MedNIST/ChestCT/005766.jpeg', '/content/MedNIST/CXR/001049.jpeg', '/content/MedNIST/AbdomenCT/005555.jpeg', '/content/MedNIST/HeadCT/000271.jpeg', '/content/MedNIST/CXR/001806.jpeg', '/content/MedNIST/ChestCT/008783.jpeg', '/content/MedNIST/HeadCT/001266.jpeg', '/content/MedNIST/CXR/003809.jpeg', '/content/MedNIST/AbdomenCT/006847.jpeg', '/content/MedNIST/BreastMRI/007643.jpeg', '/content/MedNIST/BreastMRI/002161.jpeg', '/content/MedNIST/CXR/003517.jpeg', '/content/MedNIST/Hand/001547.jpeg', '/content/MedNIST/CXR/009622.jpeg', '/content/MedNIST/CXR/000187.jpeg', '/content/MedNIST/BreastMRI/000284.jpeg', '/content/MedNIST/CXR/008399.jpeg', '/content/MedNIST/Hand/008317.jpeg', '/content/MedNIST/BreastMRI/007662.jpeg', '/content/MedNIST/CXR/006652.jpeg', '/content/MedNIST/Hand/008870.jpeg', '/content/MedNIST/ChestCT/005701.jpeg', '/content/MedNIST/AbdomenCT/003318.jpeg', '/content/MedNIST/Hand/009801.jpeg', '/content/MedNIST/ChestCT/002373.jpeg', '/content/MedNIST/Hand/007278.jpeg', '/content/MedNIST/ChestCT/007621.jpeg', '/content/MedNIST/BreastMRI/005533.jpeg', '/content/MedNIST/ChestCT/008213.jpeg', '/content/MedNIST/AbdomenCT/001541.jpeg', '/content/MedNIST/CXR/009230.jpeg', '/content/MedNIST/AbdomenCT/002133.jpeg', '/content/MedNIST/AbdomenCT/004724.jpeg', '/content/MedNIST/HeadCT/003619.jpeg', '/content/MedNIST/Hand/004349.jpeg', '/content/MedNIST/HeadCT/008778.jpeg', '/content/MedNIST/HeadCT/003463.jpeg', '/content/MedNIST/BreastMRI/003565.jpeg', '/content/MedNIST/AbdomenCT/000630.jpeg', '/content/MedNIST/BreastMRI/008635.jpeg', '/content/MedNIST/AbdomenCT/006748.jpeg', '/content/MedNIST/Hand/002357.jpeg', '/content/MedNIST/ChestCT/009716.jpeg', '/content/MedNIST/AbdomenCT/006752.jpeg', '/content/MedNIST/Hand/006859.jpeg', '/content/MedNIST/ChestCT/001956.jpeg', '/content/MedNIST/ChestCT/008656.jpeg', '/content/MedNIST/ChestCT/008586.jpeg', '/content/MedNIST/BreastMRI/004872.jpeg', '/content/MedNIST/ChestCT/001961.jpeg', '/content/MedNIST/Hand/001991.jpeg', '/content/MedNIST/HeadCT/008491.jpeg', '/content/MedNIST/Hand/003967.jpeg', '/content/MedNIST/AbdomenCT/007427.jpeg', '/content/MedNIST/Hand/006125.jpeg', '/content/MedNIST/Hand/004041.jpeg', '/content/MedNIST/ChestCT/008055.jpeg', '/content/MedNIST/HeadCT/006623.jpeg', '/content/MedNIST/HeadCT/009259.jpeg', '/content/MedNIST/Hand/000777.jpeg', '/content/MedNIST/ChestCT/002836.jpeg', '/content/MedNIST/ChestCT/004542.jpeg', '/content/MedNIST/BreastMRI/003598.jpeg', '/content/MedNIST/HeadCT/000716.jpeg', '/content/MedNIST/BreastMRI/002220.jpeg', '/content/MedNIST/Hand/008272.jpeg', '/content/MedNIST/CXR/000661.jpeg', '/content/MedNIST/ChestCT/000678.jpeg', '/content/MedNIST/BreastMRI/003629.jpeg', '/content/MedNIST/HeadCT/001096.jpeg', '/content/MedNIST/BreastMRI/006641.jpeg', '/content/MedNIST/BreastMRI/003223.jpeg', '/content/MedNIST/AbdomenCT/003796.jpeg', '/content/MedNIST/ChestCT/008572.jpeg', '/content/MedNIST/BreastMRI/000736.jpeg', '/content/MedNIST/BreastMRI/004530.jpeg', '/content/MedNIST/HeadCT/002167.jpeg', '/content/MedNIST/HeadCT/006233.jpeg', '/content/MedNIST/AbdomenCT/007384.jpeg', '/content/MedNIST/ChestCT/000345.jpeg', '/content/MedNIST/HeadCT/001692.jpeg', '/content/MedNIST/AbdomenCT/007728.jpeg', '/content/MedNIST/BreastMRI/003951.jpeg', '/content/MedNIST/ChestCT/003654.jpeg', '/content/MedNIST/CXR/008735.jpeg', '/content/MedNIST/HeadCT/002278.jpeg', '/content/MedNIST/HeadCT/001049.jpeg', '/content/MedNIST/BreastMRI/008938.jpeg', '/content/MedNIST/ChestCT/000063.jpeg', '/content/MedNIST/CXR/001022.jpeg', '/content/MedNIST/HeadCT/002353.jpeg', '/content/MedNIST/AbdomenCT/005094.jpeg', '/content/MedNIST/ChestCT/006760.jpeg', '/content/MedNIST/AbdomenCT/002885.jpeg', '/content/MedNIST/ChestCT/003026.jpeg', '/content/MedNIST/CXR/000971.jpeg', '/content/MedNIST/ChestCT/001455.jpeg', '/content/MedNIST/BreastMRI/005723.jpeg', '/content/MedNIST/BreastMRI/007675.jpeg', '/content/MedNIST/Hand/005582.jpeg', '/content/MedNIST/CXR/003555.jpeg', '/content/MedNIST/CXR/002628.jpeg', '/content/MedNIST/ChestCT/002984.jpeg', '/content/MedNIST/BreastMRI/005493.jpeg', '/content/MedNIST/Hand/005566.jpeg', '/content/MedNIST/Hand/000923.jpeg', '/content/MedNIST/AbdomenCT/006489.jpeg', '/content/MedNIST/ChestCT/008901.jpeg', '/content/MedNIST/AbdomenCT/002740.jpeg', '/content/MedNIST/AbdomenCT/002487.jpeg', '/content/MedNIST/Hand/008069.jpeg', '/content/MedNIST/CXR/003286.jpeg', '/content/MedNIST/HeadCT/005423.jpeg', '/content/MedNIST/CXR/007256.jpeg', '/content/MedNIST/BreastMRI/005539.jpeg', '/content/MedNIST/BreastMRI/000677.jpeg', '/content/MedNIST/AbdomenCT/003700.jpeg', '/content/MedNIST/ChestCT/009017.jpeg', '/content/MedNIST/BreastMRI/006990.jpeg', '/content/MedNIST/Hand/001030.jpeg', '/content/MedNIST/ChestCT/002809.jpeg', '/content/MedNIST/BreastMRI/004132.jpeg', '/content/MedNIST/ChestCT/005009.jpeg', '/content/MedNIST/BreastMRI/008167.jpeg', '/content/MedNIST/CXR/006664.jpeg', '/content/MedNIST/AbdomenCT/007382.jpeg', '/content/MedNIST/CXR/000723.jpeg', '/content/MedNIST/BreastMRI/004795.jpeg', '/content/MedNIST/Hand/008660.jpeg', '/content/MedNIST/ChestCT/005147.jpeg', '/content/MedNIST/CXR/007376.jpeg', '/content/MedNIST/CXR/008894.jpeg', '/content/MedNIST/Hand/006232.jpeg', '/content/MedNIST/CXR/009319.jpeg', '/content/MedNIST/HeadCT/002855.jpeg', '/content/MedNIST/AbdomenCT/006761.jpeg', '/content/MedNIST/AbdomenCT/004611.jpeg', '/content/MedNIST/ChestCT/000201.jpeg', '/content/MedNIST/BreastMRI/008420.jpeg', '/content/MedNIST/BreastMRI/003868.jpeg', '/content/MedNIST/ChestCT/000187.jpeg', '/content/MedNIST/ChestCT/005019.jpeg', '/content/MedNIST/ChestCT/006881.jpeg', '/content/MedNIST/HeadCT/008129.jpeg', '/content/MedNIST/HeadCT/001696.jpeg', '/content/MedNIST/Hand/009833.jpeg', '/content/MedNIST/ChestCT/003252.jpeg', '/content/MedNIST/HeadCT/007184.jpeg', '/content/MedNIST/Hand/008070.jpeg', '/content/MedNIST/Hand/007569.jpeg', '/content/MedNIST/ChestCT/006795.jpeg', '/content/MedNIST/AbdomenCT/005944.jpeg', '/content/MedNIST/BreastMRI/004703.jpeg', '/content/MedNIST/ChestCT/005918.jpeg', '/content/MedNIST/CXR/003978.jpeg', '/content/MedNIST/HeadCT/007168.jpeg', '/content/MedNIST/AbdomenCT/003564.jpeg', '/content/MedNIST/ChestCT/004975.jpeg', '/content/MedNIST/ChestCT/003023.jpeg', '/content/MedNIST/ChestCT/007964.jpeg', '/content/MedNIST/BreastMRI/003179.jpeg', '/content/MedNIST/CXR/006886.jpeg', '/content/MedNIST/CXR/007939.jpeg', '/content/MedNIST/HeadCT/008120.jpeg', '/content/MedNIST/AbdomenCT/008023.jpeg', '/content/MedNIST/AbdomenCT/002739.jpeg', '/content/MedNIST/CXR/003489.jpeg', '/content/MedNIST/BreastMRI/007551.jpeg', '/content/MedNIST/HeadCT/004023.jpeg', '/content/MedNIST/Hand/004739.jpeg', '/content/MedNIST/CXR/000265.jpeg', '/content/MedNIST/CXR/009052.jpeg', '/content/MedNIST/HeadCT/009480.jpeg', '/content/MedNIST/Hand/002291.jpeg', '/content/MedNIST/CXR/000359.jpeg', '/content/MedNIST/ChestCT/009951.jpeg', '/content/MedNIST/HeadCT/005324.jpeg', '/content/MedNIST/ChestCT/003448.jpeg', '/content/MedNIST/BreastMRI/000938.jpeg', '/content/MedNIST/Hand/005240.jpeg', '/content/MedNIST/BreastMRI/001843.jpeg', '/content/MedNIST/AbdomenCT/008728.jpeg', '/content/MedNIST/Hand/004731.jpeg', '/content/MedNIST/Hand/001597.jpeg', '/content/MedNIST/CXR/000838.jpeg', '/content/MedNIST/AbdomenCT/007719.jpeg', '/content/MedNIST/BreastMRI/004741.jpeg', '/content/MedNIST/Hand/004613.jpeg', '/content/MedNIST/HeadCT/002225.jpeg', '/content/MedNIST/CXR/002725.jpeg', '/content/MedNIST/Hand/000093.jpeg', '/content/MedNIST/ChestCT/009237.jpeg', '/content/MedNIST/AbdomenCT/003887.jpeg', '/content/MedNIST/HeadCT/005110.jpeg', '/content/MedNIST/HeadCT/004203.jpeg', '/content/MedNIST/Hand/007246.jpeg', '/content/MedNIST/ChestCT/009380.jpeg', '/content/MedNIST/AbdomenCT/001526.jpeg', '/content/MedNIST/ChestCT/007400.jpeg', '/content/MedNIST/BreastMRI/001001.jpeg', '/content/MedNIST/HeadCT/004152.jpeg', '/content/MedNIST/CXR/004804.jpeg', '/content/MedNIST/BreastMRI/002426.jpeg', '/content/MedNIST/BreastMRI/005302.jpeg', '/content/MedNIST/BreastMRI/007782.jpeg', '/content/MedNIST/Hand/002339.jpeg', '/content/MedNIST/HeadCT/006601.jpeg', '/content/MedNIST/Hand/006294.jpeg', '/content/MedNIST/AbdomenCT/007792.jpeg', '/content/MedNIST/ChestCT/009484.jpeg', '/content/MedNIST/CXR/005838.jpeg', '/content/MedNIST/Hand/002064.jpeg', '/content/MedNIST/CXR/005220.jpeg', '/content/MedNIST/BreastMRI/002977.jpeg', '/content/MedNIST/AbdomenCT/003945.jpeg', '/content/MedNIST/ChestCT/002822.jpeg', '/content/MedNIST/HeadCT/009123.jpeg', '/content/MedNIST/Hand/003142.jpeg', '/content/MedNIST/Hand/005360.jpeg', '/content/MedNIST/AbdomenCT/001700.jpeg', '/content/MedNIST/CXR/002179.jpeg', '/content/MedNIST/BreastMRI/001577.jpeg', '/content/MedNIST/HeadCT/005989.jpeg', '/content/MedNIST/HeadCT/000845.jpeg', '/content/MedNIST/ChestCT/000021.jpeg', '/content/MedNIST/HeadCT/008613.jpeg', '/content/MedNIST/HeadCT/009591.jpeg', '/content/MedNIST/Hand/001508.jpeg', '/content/MedNIST/HeadCT/008922.jpeg', '/content/MedNIST/AbdomenCT/004316.jpeg', '/content/MedNIST/HeadCT/003680.jpeg', '/content/MedNIST/ChestCT/003614.jpeg', '/content/MedNIST/ChestCT/001010.jpeg', '/content/MedNIST/BreastMRI/005022.jpeg', '/content/MedNIST/AbdomenCT/009026.jpeg', '/content/MedNIST/ChestCT/008762.jpeg', '/content/MedNIST/BreastMRI/008224.jpeg', '/content/MedNIST/ChestCT/001489.jpeg', '/content/MedNIST/AbdomenCT/000916.jpeg', '/content/MedNIST/Hand/007958.jpeg', '/content/MedNIST/AbdomenCT/000413.jpeg', '/content/MedNIST/HeadCT/002039.jpeg', '/content/MedNIST/CXR/007111.jpeg', '/content/MedNIST/HeadCT/008045.jpeg', '/content/MedNIST/ChestCT/007679.jpeg', '/content/MedNIST/BreastMRI/002124.jpeg', '/content/MedNIST/ChestCT/005391.jpeg', '/content/MedNIST/BreastMRI/003573.jpeg', '/content/MedNIST/HeadCT/007239.jpeg', '/content/MedNIST/Hand/008197.jpeg', '/content/MedNIST/Hand/000339.jpeg', '/content/MedNIST/BreastMRI/007908.jpeg', '/content/MedNIST/ChestCT/002884.jpeg', '/content/MedNIST/BreastMRI/008504.jpeg', '/content/MedNIST/CXR/002653.jpeg', '/content/MedNIST/ChestCT/009804.jpeg', '/content/MedNIST/HeadCT/005805.jpeg', '/content/MedNIST/CXR/004487.jpeg', '/content/MedNIST/HeadCT/007466.jpeg', '/content/MedNIST/Hand/002371.jpeg', '/content/MedNIST/BreastMRI/006410.jpeg', '/content/MedNIST/BreastMRI/004585.jpeg', '/content/MedNIST/ChestCT/003203.jpeg', '/content/MedNIST/ChestCT/001686.jpeg', '/content/MedNIST/CXR/001538.jpeg', '/content/MedNIST/AbdomenCT/002354.jpeg', '/content/MedNIST/Hand/009676.jpeg', '/content/MedNIST/Hand/002641.jpeg', '/content/MedNIST/AbdomenCT/003393.jpeg', '/content/MedNIST/Hand/005294.jpeg', '/content/MedNIST/CXR/007032.jpeg', '/content/MedNIST/Hand/007661.jpeg', '/content/MedNIST/BreastMRI/001121.jpeg', '/content/MedNIST/ChestCT/005095.jpeg', '/content/MedNIST/BreastMRI/006240.jpeg', '/content/MedNIST/HeadCT/007043.jpeg', '/content/MedNIST/BreastMRI/006161.jpeg', '/content/MedNIST/CXR/009254.jpeg', '/content/MedNIST/ChestCT/000623.jpeg', '/content/MedNIST/BreastMRI/001277.jpeg', '/content/MedNIST/Hand/004066.jpeg', '/content/MedNIST/HeadCT/007186.jpeg', '/content/MedNIST/BreastMRI/008589.jpeg', '/content/MedNIST/ChestCT/002380.jpeg', '/content/MedNIST/AbdomenCT/003015.jpeg', '/content/MedNIST/ChestCT/000125.jpeg', '/content/MedNIST/Hand/004211.jpeg', '/content/MedNIST/CXR/002407.jpeg', '/content/MedNIST/ChestCT/001325.jpeg', '/content/MedNIST/CXR/001459.jpeg', '/content/MedNIST/CXR/006063.jpeg', '/content/MedNIST/Hand/007483.jpeg', '/content/MedNIST/ChestCT/001259.jpeg', '/content/MedNIST/CXR/006373.jpeg', '/content/MedNIST/ChestCT/006870.jpeg', '/content/MedNIST/AbdomenCT/004557.jpeg', '/content/MedNIST/AbdomenCT/002191.jpeg', '/content/MedNIST/HeadCT/005801.jpeg', '/content/MedNIST/AbdomenCT/006467.jpeg', '/content/MedNIST/AbdomenCT/005768.jpeg', '/content/MedNIST/AbdomenCT/004501.jpeg', '/content/MedNIST/AbdomenCT/008345.jpeg', '/content/MedNIST/AbdomenCT/005816.jpeg', '/content/MedNIST/ChestCT/001754.jpeg', '/content/MedNIST/HeadCT/004508.jpeg', '/content/MedNIST/Hand/009722.jpeg', '/content/MedNIST/HeadCT/006298.jpeg', '/content/MedNIST/Hand/009573.jpeg', '/content/MedNIST/Hand/000266.jpeg', '/content/MedNIST/Hand/000248.jpeg', '/content/MedNIST/CXR/007401.jpeg', '/content/MedNIST/BreastMRI/000546.jpeg', '/content/MedNIST/AbdomenCT/007242.jpeg', '/content/MedNIST/CXR/003752.jpeg', '/content/MedNIST/CXR/001912.jpeg', '/content/MedNIST/CXR/000173.jpeg', '/content/MedNIST/HeadCT/001583.jpeg', '/content/MedNIST/CXR/001111.jpeg', '/content/MedNIST/CXR/007566.jpeg', '/content/MedNIST/BreastMRI/007885.jpeg', '/content/MedNIST/BreastMRI/004622.jpeg', '/content/MedNIST/AbdomenCT/003820.jpeg', '/content/MedNIST/HeadCT/006166.jpeg', '/content/MedNIST/BreastMRI/003841.jpeg', '/content/MedNIST/Hand/003088.jpeg', '/content/MedNIST/CXR/002830.jpeg', '/content/MedNIST/AbdomenCT/000671.jpeg', '/content/MedNIST/ChestCT/002216.jpeg', '/content/MedNIST/CXR/009882.jpeg', '/content/MedNIST/ChestCT/000552.jpeg', '/content/MedNIST/BreastMRI/007429.jpeg', '/content/MedNIST/AbdomenCT/009848.jpeg', '/content/MedNIST/BreastMRI/006213.jpeg', '/content/MedNIST/BreastMRI/001559.jpeg', '/content/MedNIST/HeadCT/000728.jpeg', '/content/MedNIST/HeadCT/008497.jpeg', '/content/MedNIST/ChestCT/003032.jpeg', '/content/MedNIST/CXR/008996.jpeg', '/content/MedNIST/HeadCT/002999.jpeg', '/content/MedNIST/BreastMRI/006069.jpeg', '/content/MedNIST/CXR/001762.jpeg', '/content/MedNIST/HeadCT/007422.jpeg', '/content/MedNIST/AbdomenCT/006985.jpeg', '/content/MedNIST/AbdomenCT/007453.jpeg', '/content/MedNIST/BreastMRI/000396.jpeg', '/content/MedNIST/Hand/005531.jpeg', '/content/MedNIST/CXR/003387.jpeg', '/content/MedNIST/HeadCT/001648.jpeg', '/content/MedNIST/AbdomenCT/003365.jpeg', '/content/MedNIST/ChestCT/007547.jpeg', '/content/MedNIST/ChestCT/000030.jpeg', '/content/MedNIST/AbdomenCT/006207.jpeg', '/content/MedNIST/ChestCT/009965.jpeg', '/content/MedNIST/CXR/007049.jpeg', '/content/MedNIST/BreastMRI/004740.jpeg', '/content/MedNIST/Hand/006042.jpeg', '/content/MedNIST/AbdomenCT/000805.jpeg', '/content/MedNIST/BreastMRI/005008.jpeg', '/content/MedNIST/HeadCT/000683.jpeg', '/content/MedNIST/AbdomenCT/008232.jpeg', '/content/MedNIST/HeadCT/006170.jpeg', '/content/MedNIST/AbdomenCT/005407.jpeg', '/content/MedNIST/HeadCT/006272.jpeg', '/content/MedNIST/BreastMRI/008819.jpeg', '/content/MedNIST/HeadCT/001228.jpeg', '/content/MedNIST/CXR/001847.jpeg', '/content/MedNIST/Hand/003442.jpeg', '/content/MedNIST/BreastMRI/005720.jpeg', '/content/MedNIST/HeadCT/008512.jpeg', '/content/MedNIST/HeadCT/002848.jpeg', '/content/MedNIST/BreastMRI/001356.jpeg', '/content/MedNIST/AbdomenCT/005182.jpeg', '/content/MedNIST/HeadCT/002638.jpeg', '/content/MedNIST/Hand/002427.jpeg', '/content/MedNIST/HeadCT/006774.jpeg', '/content/MedNIST/AbdomenCT/008749.jpeg', '/content/MedNIST/BreastMRI/000791.jpeg', '/content/MedNIST/CXR/000653.jpeg', '/content/MedNIST/CXR/001159.jpeg', '/content/MedNIST/BreastMRI/001052.jpeg', '/content/MedNIST/ChestCT/005559.jpeg', '/content/MedNIST/HeadCT/005128.jpeg', '/content/MedNIST/BreastMRI/001581.jpeg', '/content/MedNIST/AbdomenCT/007413.jpeg', '/content/MedNIST/HeadCT/006763.jpeg', '/content/MedNIST/AbdomenCT/003683.jpeg', '/content/MedNIST/Hand/006963.jpeg', '/content/MedNIST/AbdomenCT/002037.jpeg', '/content/MedNIST/AbdomenCT/008158.jpeg', '/content/MedNIST/BreastMRI/007323.jpeg', '/content/MedNIST/ChestCT/008500.jpeg', '/content/MedNIST/AbdomenCT/001572.jpeg', '/content/MedNIST/ChestCT/009955.jpeg', '/content/MedNIST/ChestCT/009225.jpeg', '/content/MedNIST/ChestCT/007670.jpeg', '/content/MedNIST/Hand/007191.jpeg', '/content/MedNIST/ChestCT/004721.jpeg', '/content/MedNIST/ChestCT/006605.jpeg', '/content/MedNIST/CXR/004073.jpeg', '/content/MedNIST/HeadCT/008460.jpeg', '/content/MedNIST/ChestCT/002851.jpeg', '/content/MedNIST/BreastMRI/003930.jpeg', '/content/MedNIST/Hand/009606.jpeg', '/content/MedNIST/CXR/006809.jpeg', '/content/MedNIST/Hand/006759.jpeg', '/content/MedNIST/CXR/004519.jpeg', '/content/MedNIST/Hand/009864.jpeg', '/content/MedNIST/HeadCT/008078.jpeg', '/content/MedNIST/Hand/004176.jpeg', '/content/MedNIST/HeadCT/000222.jpeg', '/content/MedNIST/BreastMRI/005494.jpeg', '/content/MedNIST/CXR/005451.jpeg', '/content/MedNIST/HeadCT/008122.jpeg', '/content/MedNIST/Hand/003408.jpeg', '/content/MedNIST/AbdomenCT/008998.jpeg', '/content/MedNIST/HeadCT/005481.jpeg', '/content/MedNIST/BreastMRI/000508.jpeg', '/content/MedNIST/BreastMRI/001785.jpeg', '/content/MedNIST/ChestCT/006131.jpeg', '/content/MedNIST/CXR/005827.jpeg', '/content/MedNIST/CXR/005683.jpeg', '/content/MedNIST/ChestCT/006785.jpeg', '/content/MedNIST/Hand/004221.jpeg', '/content/MedNIST/ChestCT/006576.jpeg', '/content/MedNIST/BreastMRI/002800.jpeg', '/content/MedNIST/BreastMRI/005544.jpeg', '/content/MedNIST/BreastMRI/001515.jpeg', '/content/MedNIST/Hand/002846.jpeg', '/content/MedNIST/HeadCT/008718.jpeg', '/content/MedNIST/AbdomenCT/006511.jpeg', '/content/MedNIST/CXR/000827.jpeg', '/content/MedNIST/ChestCT/009982.jpeg', '/content/MedNIST/AbdomenCT/009098.jpeg', '/content/MedNIST/AbdomenCT/005343.jpeg', '/content/MedNIST/BreastMRI/005845.jpeg', '/content/MedNIST/ChestCT/005998.jpeg', '/content/MedNIST/BreastMRI/008298.jpeg', '/content/MedNIST/AbdomenCT/002709.jpeg', '/content/MedNIST/BreastMRI/004634.jpeg', '/content/MedNIST/CXR/008104.jpeg', '/content/MedNIST/ChestCT/004703.jpeg', '/content/MedNIST/CXR/001194.jpeg', '/content/MedNIST/BreastMRI/002439.jpeg', '/content/MedNIST/AbdomenCT/006767.jpeg', '/content/MedNIST/HeadCT/007123.jpeg', '/content/MedNIST/AbdomenCT/008014.jpeg', '/content/MedNIST/Hand/001601.jpeg', '/content/MedNIST/Hand/005630.jpeg', '/content/MedNIST/BreastMRI/004187.jpeg', '/content/MedNIST/HeadCT/004565.jpeg', '/content/MedNIST/AbdomenCT/009681.jpeg', '/content/MedNIST/Hand/006307.jpeg', '/content/MedNIST/CXR/006637.jpeg', '/content/MedNIST/BreastMRI/007171.jpeg', '/content/MedNIST/ChestCT/001697.jpeg', '/content/MedNIST/CXR/005130.jpeg', '/content/MedNIST/ChestCT/000640.jpeg', '/content/MedNIST/BreastMRI/006007.jpeg', '/content/MedNIST/Hand/006580.jpeg', '/content/MedNIST/AbdomenCT/000567.jpeg', '/content/MedNIST/Hand/003767.jpeg', '/content/MedNIST/BreastMRI/004358.jpeg', '/content/MedNIST/AbdomenCT/000791.jpeg', '/content/MedNIST/ChestCT/007137.jpeg', '/content/MedNIST/BreastMRI/003527.jpeg', '/content/MedNIST/Hand/005860.jpeg', '/content/MedNIST/CXR/000927.jpeg', '/content/MedNIST/Hand/007570.jpeg', '/content/MedNIST/BreastMRI/006153.jpeg', '/content/MedNIST/Hand/006871.jpeg', '/content/MedNIST/ChestCT/003465.jpeg', '/content/MedNIST/ChestCT/009159.jpeg', '/content/MedNIST/Hand/005192.jpeg', '/content/MedNIST/CXR/006846.jpeg', '/content/MedNIST/AbdomenCT/004311.jpeg', '/content/MedNIST/HeadCT/009277.jpeg', '/content/MedNIST/Hand/003159.jpeg', '/content/MedNIST/AbdomenCT/004292.jpeg', '/content/MedNIST/AbdomenCT/002321.jpeg', '/content/MedNIST/BreastMRI/008412.jpeg', '/content/MedNIST/ChestCT/002035.jpeg', '/content/MedNIST/BreastMRI/000419.jpeg', '/content/MedNIST/AbdomenCT/003145.jpeg', '/content/MedNIST/BreastMRI/003443.jpeg', '/content/MedNIST/CXR/009550.jpeg', '/content/MedNIST/CXR/008005.jpeg', '/content/MedNIST/Hand/001839.jpeg', '/content/MedNIST/ChestCT/009448.jpeg', '/content/MedNIST/Hand/002998.jpeg', '/content/MedNIST/Hand/009031.jpeg', '/content/MedNIST/ChestCT/002817.jpeg', '/content/MedNIST/Hand/008526.jpeg', '/content/MedNIST/AbdomenCT/002204.jpeg', '/content/MedNIST/Hand/006116.jpeg', '/content/MedNIST/CXR/006879.jpeg', '/content/MedNIST/Hand/003801.jpeg', '/content/MedNIST/AbdomenCT/001812.jpeg', '/content/MedNIST/CXR/008709.jpeg', '/content/MedNIST/HeadCT/007508.jpeg', '/content/MedNIST/AbdomenCT/009827.jpeg', '/content/MedNIST/BreastMRI/001735.jpeg', '/content/MedNIST/AbdomenCT/002929.jpeg', '/content/MedNIST/AbdomenCT/000488.jpeg', '/content/MedNIST/BreastMRI/008470.jpeg', '/content/MedNIST/ChestCT/001534.jpeg', '/content/MedNIST/HeadCT/005310.jpeg', '/content/MedNIST/HeadCT/005022.jpeg', '/content/MedNIST/Hand/009419.jpeg', '/content/MedNIST/CXR/002619.jpeg', '/content/MedNIST/ChestCT/001340.jpeg', '/content/MedNIST/HeadCT/009565.jpeg', '/content/MedNIST/CXR/004625.jpeg', '/content/MedNIST/Hand/002230.jpeg', '/content/MedNIST/Hand/001238.jpeg', '/content/MedNIST/ChestCT/003623.jpeg', '/content/MedNIST/Hand/002120.jpeg', '/content/MedNIST/ChestCT/004212.jpeg', '/content/MedNIST/AbdomenCT/008080.jpeg', '/content/MedNIST/AbdomenCT/004083.jpeg', '/content/MedNIST/HeadCT/002554.jpeg', '/content/MedNIST/Hand/007543.jpeg', '/content/MedNIST/Hand/004495.jpeg', '/content/MedNIST/AbdomenCT/007824.jpeg', '/content/MedNIST/BreastMRI/000344.jpeg', '/content/MedNIST/AbdomenCT/008868.jpeg', '/content/MedNIST/ChestCT/009651.jpeg', '/content/MedNIST/AbdomenCT/009390.jpeg', '/content/MedNIST/ChestCT/001212.jpeg', '/content/MedNIST/BreastMRI/000185.jpeg', '/content/MedNIST/AbdomenCT/007763.jpeg', '/content/MedNIST/HeadCT/000021.jpeg', '/content/MedNIST/Hand/003428.jpeg', '/content/MedNIST/ChestCT/004048.jpeg', '/content/MedNIST/HeadCT/006871.jpeg', '/content/MedNIST/CXR/001669.jpeg', '/content/MedNIST/ChestCT/009210.jpeg', '/content/MedNIST/HeadCT/006310.jpeg', '/content/MedNIST/BreastMRI/007313.jpeg', '/content/MedNIST/HeadCT/008814.jpeg', '/content/MedNIST/AbdomenCT/002108.jpeg', '/content/MedNIST/ChestCT/005892.jpeg', '/content/MedNIST/AbdomenCT/002796.jpeg', '/content/MedNIST/CXR/001367.jpeg', '/content/MedNIST/HeadCT/002938.jpeg', '/content/MedNIST/BreastMRI/008450.jpeg', '/content/MedNIST/Hand/009310.jpeg', '/content/MedNIST/ChestCT/006459.jpeg', '/content/MedNIST/CXR/002517.jpeg', '/content/MedNIST/CXR/000135.jpeg', '/content/MedNIST/CXR/005578.jpeg', '/content/MedNIST/CXR/008975.jpeg', '/content/MedNIST/BreastMRI/003929.jpeg', '/content/MedNIST/HeadCT/001872.jpeg', '/content/MedNIST/Hand/006691.jpeg', '/content/MedNIST/CXR/005004.jpeg', '/content/MedNIST/ChestCT/009698.jpeg', '/content/MedNIST/AbdomenCT/001379.jpeg', '/content/MedNIST/CXR/004355.jpeg', '/content/MedNIST/HeadCT/003756.jpeg', '/content/MedNIST/Hand/005718.jpeg', '/content/MedNIST/BreastMRI/006528.jpeg', '/content/MedNIST/CXR/007807.jpeg', '/content/MedNIST/HeadCT/003496.jpeg', '/content/MedNIST/CXR/003939.jpeg', '/content/MedNIST/Hand/003447.jpeg', '/content/MedNIST/CXR/007128.jpeg', '/content/MedNIST/HeadCT/001642.jpeg', '/content/MedNIST/ChestCT/007779.jpeg', '/content/MedNIST/BreastMRI/004248.jpeg', '/content/MedNIST/Hand/007573.jpeg', '/content/MedNIST/Hand/004030.jpeg', '/content/MedNIST/ChestCT/006247.jpeg', '/content/MedNIST/ChestCT/001251.jpeg', '/content/MedNIST/Hand/004877.jpeg', '/content/MedNIST/BreastMRI/008918.jpeg', '/content/MedNIST/BreastMRI/002897.jpeg', '/content/MedNIST/ChestCT/008190.jpeg', '/content/MedNIST/Hand/005711.jpeg', '/content/MedNIST/Hand/004483.jpeg', '/content/MedNIST/HeadCT/006912.jpeg', '/content/MedNIST/Hand/003744.jpeg', '/content/MedNIST/AbdomenCT/004170.jpeg', '/content/MedNIST/Hand/001963.jpeg', '/content/MedNIST/HeadCT/003377.jpeg', '/content/MedNIST/Hand/008542.jpeg', '/content/MedNIST/ChestCT/000017.jpeg', '/content/MedNIST/HeadCT/003626.jpeg', '/content/MedNIST/CXR/007879.jpeg', '/content/MedNIST/HeadCT/008020.jpeg', '/content/MedNIST/CXR/009637.jpeg', '/content/MedNIST/CXR/002977.jpeg', '/content/MedNIST/Hand/002069.jpeg', '/content/MedNIST/CXR/003765.jpeg', '/content/MedNIST/Hand/002861.jpeg', '/content/MedNIST/Hand/002315.jpeg', '/content/MedNIST/Hand/001245.jpeg', '/content/MedNIST/BreastMRI/002578.jpeg', '/content/MedNIST/ChestCT/003604.jpeg', '/content/MedNIST/CXR/009736.jpeg', '/content/MedNIST/ChestCT/003597.jpeg', '/content/MedNIST/CXR/004634.jpeg', '/content/MedNIST/CXR/004995.jpeg', '/content/MedNIST/HeadCT/002608.jpeg', '/content/MedNIST/BreastMRI/005197.jpeg', '/content/MedNIST/BreastMRI/001144.jpeg', '/content/MedNIST/BreastMRI/008799.jpeg', '/content/MedNIST/Hand/005803.jpeg', '/content/MedNIST/CXR/000687.jpeg', '/content/MedNIST/Hand/009749.jpeg', '/content/MedNIST/HeadCT/001788.jpeg', '/content/MedNIST/ChestCT/004828.jpeg', '/content/MedNIST/HeadCT/006133.jpeg', '/content/MedNIST/CXR/008359.jpeg', '/content/MedNIST/HeadCT/005419.jpeg', '/content/MedNIST/CXR/007008.jpeg', '/content/MedNIST/ChestCT/009896.jpeg', '/content/MedNIST/AbdomenCT/005773.jpeg', '/content/MedNIST/CXR/009674.jpeg', '/content/MedNIST/BreastMRI/007744.jpeg', '/content/MedNIST/HeadCT/001777.jpeg', '/content/MedNIST/CXR/002414.jpeg', '/content/MedNIST/BreastMRI/004094.jpeg', '/content/MedNIST/Hand/008993.jpeg', '/content/MedNIST/BreastMRI/004839.jpeg', '/content/MedNIST/Hand/000515.jpeg', '/content/MedNIST/ChestCT/000067.jpeg', '/content/MedNIST/HeadCT/006676.jpeg', '/content/MedNIST/HeadCT/000326.jpeg', '/content/MedNIST/HeadCT/000713.jpeg', '/content/MedNIST/CXR/003511.jpeg', '/content/MedNIST/Hand/007401.jpeg', '/content/MedNIST/AbdomenCT/005737.jpeg', '/content/MedNIST/CXR/002629.jpeg', '/content/MedNIST/AbdomenCT/005814.jpeg', '/content/MedNIST/BreastMRI/006171.jpeg', '/content/MedNIST/HeadCT/003769.jpeg', '/content/MedNIST/Hand/005560.jpeg', '/content/MedNIST/AbdomenCT/007703.jpeg', '/content/MedNIST/AbdomenCT/002695.jpeg', '/content/MedNIST/CXR/002351.jpeg', '/content/MedNIST/Hand/008122.jpeg', '/content/MedNIST/ChestCT/009580.jpeg', '/content/MedNIST/BreastMRI/005637.jpeg', '/content/MedNIST/BreastMRI/006650.jpeg', '/content/MedNIST/BreastMRI/006104.jpeg', '/content/MedNIST/CXR/005754.jpeg', '/content/MedNIST/AbdomenCT/000921.jpeg', '/content/MedNIST/HeadCT/008785.jpeg', '/content/MedNIST/CXR/009091.jpeg', '/content/MedNIST/ChestCT/003593.jpeg', '/content/MedNIST/CXR/003639.jpeg', '/content/MedNIST/Hand/004088.jpeg', '/content/MedNIST/Hand/008305.jpeg', '/content/MedNIST/CXR/006509.jpeg', '/content/MedNIST/CXR/000832.jpeg', '/content/MedNIST/Hand/006906.jpeg', '/content/MedNIST/Hand/003926.jpeg', '/content/MedNIST/Hand/008441.jpeg', '/content/MedNIST/HeadCT/009768.jpeg', '/content/MedNIST/BreastMRI/001066.jpeg', '/content/MedNIST/CXR/004820.jpeg', '/content/MedNIST/AbdomenCT/003185.jpeg', '/content/MedNIST/BreastMRI/002011.jpeg', '/content/MedNIST/HeadCT/007488.jpeg', '/content/MedNIST/ChestCT/008305.jpeg', '/content/MedNIST/Hand/009116.jpeg', '/content/MedNIST/Hand/006575.jpeg', '/content/MedNIST/CXR/005298.jpeg', '/content/MedNIST/Hand/001196.jpeg', '/content/MedNIST/AbdomenCT/005029.jpeg', '/content/MedNIST/Hand/002989.jpeg', '/content/MedNIST/HeadCT/003506.jpeg', '/content/MedNIST/AbdomenCT/006094.jpeg', '/content/MedNIST/ChestCT/008577.jpeg', '/content/MedNIST/CXR/009823.jpeg', '/content/MedNIST/HeadCT/002052.jpeg', '/content/MedNIST/Hand/003910.jpeg', '/content/MedNIST/BreastMRI/005428.jpeg', '/content/MedNIST/Hand/005971.jpeg', '/content/MedNIST/CXR/009545.jpeg', '/content/MedNIST/Hand/004892.jpeg', '/content/MedNIST/BreastMRI/003847.jpeg', '/content/MedNIST/CXR/006552.jpeg', '/content/MedNIST/HeadCT/004705.jpeg', '/content/MedNIST/HeadCT/003040.jpeg', '/content/MedNIST/HeadCT/002321.jpeg', '/content/MedNIST/CXR/000765.jpeg', '/content/MedNIST/Hand/004431.jpeg', '/content/MedNIST/ChestCT/004268.jpeg', '/content/MedNIST/AbdomenCT/001022.jpeg', '/content/MedNIST/AbdomenCT/003357.jpeg', '/content/MedNIST/BreastMRI/008717.jpeg', '/content/MedNIST/HeadCT/001391.jpeg', '/content/MedNIST/HeadCT/004542.jpeg', '/content/MedNIST/ChestCT/003985.jpeg', '/content/MedNIST/CXR/009127.jpeg', '/content/MedNIST/ChestCT/000413.jpeg', '/content/MedNIST/Hand/007102.jpeg', '/content/MedNIST/CXR/007345.jpeg', '/content/MedNIST/Hand/008297.jpeg', '/content/MedNIST/AbdomenCT/005031.jpeg', '/content/MedNIST/Hand/004844.jpeg', '/content/MedNIST/ChestCT/009935.jpeg', '/content/MedNIST/HeadCT/002462.jpeg', '/content/MedNIST/Hand/000418.jpeg', '/content/MedNIST/ChestCT/003942.jpeg', '/content/MedNIST/CXR/009032.jpeg', '/content/MedNIST/BreastMRI/004487.jpeg', '/content/MedNIST/HeadCT/009923.jpeg', '/content/MedNIST/BreastMRI/001152.jpeg', '/content/MedNIST/Hand/006704.jpeg', '/content/MedNIST/AbdomenCT/002565.jpeg', '/content/MedNIST/AbdomenCT/005113.jpeg', '/content/MedNIST/ChestCT/002116.jpeg', '/content/MedNIST/HeadCT/000688.jpeg', '/content/MedNIST/AbdomenCT/009813.jpeg', '/content/MedNIST/HeadCT/005747.jpeg', '/content/MedNIST/ChestCT/005861.jpeg', '/content/MedNIST/Hand/006715.jpeg', '/content/MedNIST/BreastMRI/005198.jpeg', '/content/MedNIST/CXR/008611.jpeg', '/content/MedNIST/AbdomenCT/003645.jpeg', '/content/MedNIST/ChestCT/002894.jpeg', '/content/MedNIST/Hand/002935.jpeg', '/content/MedNIST/AbdomenCT/004645.jpeg', '/content/MedNIST/Hand/007536.jpeg', '/content/MedNIST/Hand/007227.jpeg', '/content/MedNIST/AbdomenCT/009983.jpeg', '/content/MedNIST/BreastMRI/001562.jpeg', '/content/MedNIST/CXR/003271.jpeg', '/content/MedNIST/ChestCT/000582.jpeg', '/content/MedNIST/CXR/007898.jpeg', '/content/MedNIST/BreastMRI/000897.jpeg', '/content/MedNIST/ChestCT/003403.jpeg', '/content/MedNIST/BreastMRI/000012.jpeg', '/content/MedNIST/ChestCT/004648.jpeg', '/content/MedNIST/BreastMRI/007505.jpeg', '/content/MedNIST/Hand/004897.jpeg', '/content/MedNIST/BreastMRI/004642.jpeg', '/content/MedNIST/HeadCT/003538.jpeg', '/content/MedNIST/HeadCT/004819.jpeg', '/content/MedNIST/HeadCT/001969.jpeg', '/content/MedNIST/ChestCT/009173.jpeg', '/content/MedNIST/ChestCT/003226.jpeg', '/content/MedNIST/ChestCT/006178.jpeg', '/content/MedNIST/AbdomenCT/003358.jpeg', '/content/MedNIST/Hand/001380.jpeg', '/content/MedNIST/AbdomenCT/003673.jpeg', '/content/MedNIST/HeadCT/005421.jpeg', '/content/MedNIST/AbdomenCT/000475.jpeg', '/content/MedNIST/Hand/002400.jpeg', '/content/MedNIST/BreastMRI/000097.jpeg', '/content/MedNIST/HeadCT/003399.jpeg', '/content/MedNIST/Hand/005081.jpeg', '/content/MedNIST/CXR/000797.jpeg', '/content/MedNIST/Hand/007381.jpeg', '/content/MedNIST/Hand/002785.jpeg', '/content/MedNIST/ChestCT/001746.jpeg', '/content/MedNIST/Hand/009190.jpeg', '/content/MedNIST/BreastMRI/007237.jpeg', '/content/MedNIST/HeadCT/003542.jpeg', '/content/MedNIST/BreastMRI/004934.jpeg', '/content/MedNIST/CXR/005768.jpeg', '/content/MedNIST/AbdomenCT/007970.jpeg', '/content/MedNIST/Hand/009244.jpeg', '/content/MedNIST/HeadCT/003436.jpeg', '/content/MedNIST/BreastMRI/006437.jpeg', '/content/MedNIST/Hand/001178.jpeg', '/content/MedNIST/AbdomenCT/002427.jpeg', '/content/MedNIST/BreastMRI/007539.jpeg', '/content/MedNIST/AbdomenCT/001658.jpeg', '/content/MedNIST/Hand/001806.jpeg', '/content/MedNIST/ChestCT/002866.jpeg', '/content/MedNIST/Hand/003508.jpeg', '/content/MedNIST/CXR/002626.jpeg', '/content/MedNIST/Hand/006659.jpeg', '/content/MedNIST/AbdomenCT/003550.jpeg', '/content/MedNIST/AbdomenCT/006677.jpeg', '/content/MedNIST/CXR/003991.jpeg', '/content/MedNIST/CXR/001951.jpeg', '/content/MedNIST/ChestCT/002259.jpeg', '/content/MedNIST/CXR/001248.jpeg', '/content/MedNIST/Hand/006193.jpeg', '/content/MedNIST/AbdomenCT/002337.jpeg', '/content/MedNIST/HeadCT/003008.jpeg', '/content/MedNIST/CXR/006553.jpeg', '/content/MedNIST/Hand/006004.jpeg', '/content/MedNIST/CXR/005045.jpeg', '/content/MedNIST/ChestCT/005403.jpeg', '/content/MedNIST/HeadCT/002764.jpeg', '/content/MedNIST/BreastMRI/002591.jpeg', '/content/MedNIST/CXR/009100.jpeg', '/content/MedNIST/HeadCT/005290.jpeg', '/content/MedNIST/CXR/008067.jpeg', '/content/MedNIST/ChestCT/007031.jpeg', '/content/MedNIST/Hand/005093.jpeg', '/content/MedNIST/AbdomenCT/003464.jpeg', '/content/MedNIST/BreastMRI/007251.jpeg', '/content/MedNIST/CXR/007151.jpeg', '/content/MedNIST/ChestCT/004274.jpeg', '/content/MedNIST/HeadCT/005364.jpeg', '/content/MedNIST/AbdomenCT/006324.jpeg', '/content/MedNIST/HeadCT/002834.jpeg', '/content/MedNIST/ChestCT/008400.jpeg', '/content/MedNIST/CXR/001381.jpeg', '/content/MedNIST/BreastMRI/004483.jpeg', '/content/MedNIST/AbdomenCT/001039.jpeg', '/content/MedNIST/BreastMRI/005360.jpeg', '/content/MedNIST/ChestCT/006766.jpeg', '/content/MedNIST/ChestCT/009455.jpeg', '/content/MedNIST/CXR/003804.jpeg', '/content/MedNIST/BreastMRI/006094.jpeg', '/content/MedNIST/HeadCT/009555.jpeg', '/content/MedNIST/BreastMRI/000483.jpeg', '/content/MedNIST/BreastMRI/001316.jpeg', '/content/MedNIST/BreastMRI/006821.jpeg', '/content/MedNIST/BreastMRI/007328.jpeg', '/content/MedNIST/AbdomenCT/002511.jpeg', '/content/MedNIST/AbdomenCT/004030.jpeg', '/content/MedNIST/HeadCT/006151.jpeg', '/content/MedNIST/BreastMRI/008268.jpeg', '/content/MedNIST/CXR/005105.jpeg', '/content/MedNIST/ChestCT/009187.jpeg', '/content/MedNIST/ChestCT/000053.jpeg', '/content/MedNIST/HeadCT/004977.jpeg', '/content/MedNIST/ChestCT/002685.jpeg', '/content/MedNIST/Hand/007540.jpeg', '/content/MedNIST/BreastMRI/004815.jpeg', '/content/MedNIST/BreastMRI/006913.jpeg', '/content/MedNIST/AbdomenCT/003049.jpeg', '/content/MedNIST/HeadCT/005710.jpeg', '/content/MedNIST/Hand/004275.jpeg', '/content/MedNIST/ChestCT/003995.jpeg', '/content/MedNIST/Hand/001351.jpeg', '/content/MedNIST/CXR/000834.jpeg', '/content/MedNIST/CXR/006542.jpeg', '/content/MedNIST/ChestCT/002911.jpeg', '/content/MedNIST/BreastMRI/003849.jpeg', '/content/MedNIST/HeadCT/003677.jpeg', '/content/MedNIST/CXR/008161.jpeg', '/content/MedNIST/BreastMRI/006475.jpeg', '/content/MedNIST/Hand/000114.jpeg', '/content/MedNIST/ChestCT/006570.jpeg', '/content/MedNIST/AbdomenCT/005489.jpeg', '/content/MedNIST/Hand/007926.jpeg', '/content/MedNIST/CXR/004098.jpeg', '/content/MedNIST/ChestCT/007784.jpeg', '/content/MedNIST/ChestCT/000733.jpeg', '/content/MedNIST/Hand/001044.jpeg', '/content/MedNIST/AbdomenCT/002156.jpeg', '/content/MedNIST/AbdomenCT/006556.jpeg', '/content/MedNIST/BreastMRI/005200.jpeg', '/content/MedNIST/Hand/009088.jpeg', '/content/MedNIST/AbdomenCT/003909.jpeg', '/content/MedNIST/Hand/008836.jpeg', '/content/MedNIST/BreastMRI/004031.jpeg', '/content/MedNIST/ChestCT/002406.jpeg', '/content/MedNIST/BreastMRI/001760.jpeg', '/content/MedNIST/Hand/008355.jpeg', '/content/MedNIST/AbdomenCT/001450.jpeg', '/content/MedNIST/BreastMRI/008019.jpeg', '/content/MedNIST/HeadCT/008636.jpeg', '/content/MedNIST/ChestCT/001818.jpeg', '/content/MedNIST/ChestCT/008988.jpeg', '/content/MedNIST/HeadCT/007151.jpeg', '/content/MedNIST/BreastMRI/007548.jpeg', '/content/MedNIST/CXR/007909.jpeg', '/content/MedNIST/BreastMRI/005132.jpeg', '/content/MedNIST/ChestCT/005895.jpeg', '/content/MedNIST/BreastMRI/006743.jpeg', '/content/MedNIST/BreastMRI/002082.jpeg', '/content/MedNIST/HeadCT/008150.jpeg', '/content/MedNIST/ChestCT/006166.jpeg', '/content/MedNIST/Hand/000322.jpeg', '/content/MedNIST/CXR/002383.jpeg', '/content/MedNIST/ChestCT/004287.jpeg', '/content/MedNIST/Hand/005660.jpeg', '/content/MedNIST/Hand/008267.jpeg', '/content/MedNIST/ChestCT/005796.jpeg', '/content/MedNIST/ChestCT/008369.jpeg', '/content/MedNIST/BreastMRI/002546.jpeg', '/content/MedNIST/BreastMRI/000393.jpeg', '/content/MedNIST/AbdomenCT/009652.jpeg', '/content/MedNIST/CXR/008567.jpeg', '/content/MedNIST/AbdomenCT/007494.jpeg', '/content/MedNIST/CXR/008430.jpeg', '/content/MedNIST/AbdomenCT/006769.jpeg', '/content/MedNIST/ChestCT/001374.jpeg', '/content/MedNIST/CXR/006982.jpeg', '/content/MedNIST/CXR/000387.jpeg', '/content/MedNIST/BreastMRI/003346.jpeg', '/content/MedNIST/Hand/007256.jpeg', '/content/MedNIST/AbdomenCT/000338.jpeg', '/content/MedNIST/BreastMRI/006241.jpeg', '/content/MedNIST/BreastMRI/008395.jpeg', '/content/MedNIST/Hand/006706.jpeg', '/content/MedNIST/BreastMRI/000798.jpeg', '/content/MedNIST/AbdomenCT/005645.jpeg', '/content/MedNIST/CXR/007564.jpeg', '/content/MedNIST/ChestCT/009652.jpeg', '/content/MedNIST/CXR/005273.jpeg', '/content/MedNIST/Hand/006486.jpeg', '/content/MedNIST/Hand/008958.jpeg', '/content/MedNIST/ChestCT/000794.jpeg', '/content/MedNIST/CXR/009236.jpeg', '/content/MedNIST/HeadCT/003474.jpeg', '/content/MedNIST/HeadCT/000512.jpeg', '/content/MedNIST/Hand/000098.jpeg', '/content/MedNIST/Hand/002988.jpeg', '/content/MedNIST/Hand/009257.jpeg', '/content/MedNIST/Hand/003410.jpeg', '/content/MedNIST/AbdomenCT/006231.jpeg', '/content/MedNIST/HeadCT/006822.jpeg', '/content/MedNIST/AbdomenCT/008389.jpeg', '/content/MedNIST/AbdomenCT/000274.jpeg', '/content/MedNIST/Hand/004087.jpeg', '/content/MedNIST/AbdomenCT/008903.jpeg', '/content/MedNIST/CXR/008816.jpeg', '/content/MedNIST/ChestCT/002305.jpeg', '/content/MedNIST/CXR/002104.jpeg', '/content/MedNIST/ChestCT/003804.jpeg', '/content/MedNIST/BreastMRI/001679.jpeg', '/content/MedNIST/CXR/005614.jpeg', '/content/MedNIST/HeadCT/002961.jpeg', '/content/MedNIST/CXR/008916.jpeg', '/content/MedNIST/Hand/006052.jpeg', '/content/MedNIST/AbdomenCT/009596.jpeg', '/content/MedNIST/BreastMRI/001668.jpeg', '/content/MedNIST/CXR/006212.jpeg', '/content/MedNIST/BreastMRI/002587.jpeg', '/content/MedNIST/BreastMRI/003928.jpeg', '/content/MedNIST/Hand/001916.jpeg', '/content/MedNIST/Hand/007860.jpeg', '/content/MedNIST/Hand/004660.jpeg', '/content/MedNIST/BreastMRI/004764.jpeg', '/content/MedNIST/HeadCT/009311.jpeg', '/content/MedNIST/AbdomenCT/008946.jpeg', '/content/MedNIST/CXR/006121.jpeg', '/content/MedNIST/AbdomenCT/004215.jpeg', '/content/MedNIST/BreastMRI/004834.jpeg', '/content/MedNIST/Hand/007053.jpeg', '/content/MedNIST/CXR/003158.jpeg', '/content/MedNIST/AbdomenCT/009524.jpeg', '/content/MedNIST/HeadCT/002017.jpeg', '/content/MedNIST/HeadCT/001995.jpeg', '/content/MedNIST/Hand/006767.jpeg', '/content/MedNIST/HeadCT/004686.jpeg', '/content/MedNIST/Hand/002117.jpeg', '/content/MedNIST/HeadCT/006552.jpeg', '/content/MedNIST/Hand/001818.jpeg', '/content/MedNIST/CXR/005294.jpeg', '/content/MedNIST/Hand/006163.jpeg', '/content/MedNIST/BreastMRI/000288.jpeg', '/content/MedNIST/Hand/007800.jpeg', '/content/MedNIST/HeadCT/006444.jpeg', '/content/MedNIST/AbdomenCT/005420.jpeg', '/content/MedNIST/Hand/003136.jpeg', '/content/MedNIST/BreastMRI/000641.jpeg', '/content/MedNIST/CXR/003818.jpeg', '/content/MedNIST/Hand/003248.jpeg', '/content/MedNIST/BreastMRI/000168.jpeg', '/content/MedNIST/HeadCT/008066.jpeg', '/content/MedNIST/Hand/005753.jpeg', '/content/MedNIST/CXR/006537.jpeg', '/content/MedNIST/BreastMRI/000678.jpeg', '/content/MedNIST/CXR/004590.jpeg', '/content/MedNIST/AbdomenCT/006084.jpeg', '/content/MedNIST/Hand/001656.jpeg', '/content/MedNIST/Hand/001624.jpeg', '/content/MedNIST/Hand/003601.jpeg', '/content/MedNIST/BreastMRI/002773.jpeg', '/content/MedNIST/BreastMRI/006763.jpeg', '/content/MedNIST/AbdomenCT/000470.jpeg', '/content/MedNIST/CXR/006691.jpeg', '/content/MedNIST/HeadCT/005925.jpeg', '/content/MedNIST/BreastMRI/003887.jpeg', '/content/MedNIST/AbdomenCT/001229.jpeg', '/content/MedNIST/ChestCT/004851.jpeg', '/content/MedNIST/HeadCT/009234.jpeg', '/content/MedNIST/Hand/004245.jpeg', '/content/MedNIST/BreastMRI/003295.jpeg', '/content/MedNIST/CXR/002734.jpeg', '/content/MedNIST/CXR/009757.jpeg', '/content/MedNIST/ChestCT/009897.jpeg', '/content/MedNIST/Hand/008634.jpeg', '/content/MedNIST/CXR/004588.jpeg', '/content/MedNIST/BreastMRI/007245.jpeg', '/content/MedNIST/BreastMRI/006906.jpeg', '/content/MedNIST/CXR/002674.jpeg', '/content/MedNIST/CXR/009958.jpeg', '/content/MedNIST/ChestCT/006858.jpeg', '/content/MedNIST/HeadCT/008728.jpeg', '/content/MedNIST/CXR/007541.jpeg', '/content/MedNIST/HeadCT/001251.jpeg', '/content/MedNIST/HeadCT/004749.jpeg', '/content/MedNIST/ChestCT/006269.jpeg', '/content/MedNIST/BreastMRI/007331.jpeg', '/content/MedNIST/HeadCT/009213.jpeg', '/content/MedNIST/CXR/005072.jpeg', '/content/MedNIST/HeadCT/006141.jpeg', '/content/MedNIST/HeadCT/006836.jpeg', '/content/MedNIST/HeadCT/009387.jpeg', '/content/MedNIST/HeadCT/005601.jpeg', '/content/MedNIST/AbdomenCT/008136.jpeg', '/content/MedNIST/BreastMRI/004669.jpeg', '/content/MedNIST/BreastMRI/001912.jpeg', '/content/MedNIST/Hand/009662.jpeg', '/content/MedNIST/CXR/000772.jpeg', '/content/MedNIST/BreastMRI/001119.jpeg', '/content/MedNIST/HeadCT/003870.jpeg', '/content/MedNIST/HeadCT/002159.jpeg', '/content/MedNIST/CXR/005743.jpeg', '/content/MedNIST/AbdomenCT/002521.jpeg', '/content/MedNIST/CXR/007417.jpeg', '/content/MedNIST/CXR/006896.jpeg', '/content/MedNIST/Hand/001566.jpeg', '/content/MedNIST/CXR/007651.jpeg', '/content/MedNIST/CXR/009440.jpeg', '/content/MedNIST/Hand/001591.jpeg', '/content/MedNIST/Hand/006009.jpeg', '/content/MedNIST/AbdomenCT/003188.jpeg', '/content/MedNIST/ChestCT/001122.jpeg', '/content/MedNIST/CXR/003937.jpeg', '/content/MedNIST/Hand/006670.jpeg', '/content/MedNIST/ChestCT/003013.jpeg', '/content/MedNIST/AbdomenCT/006368.jpeg', '/content/MedNIST/CXR/005826.jpeg', '/content/MedNIST/BreastMRI/003834.jpeg', '/content/MedNIST/Hand/002968.jpeg', '/content/MedNIST/AbdomenCT/000597.jpeg', '/content/MedNIST/CXR/001994.jpeg', '/content/MedNIST/BreastMRI/006499.jpeg', '/content/MedNIST/CXR/004512.jpeg', '/content/MedNIST/BreastMRI/006495.jpeg', '/content/MedNIST/CXR/002323.jpeg', '/content/MedNIST/Hand/004880.jpeg', '/content/MedNIST/AbdomenCT/009195.jpeg', '/content/MedNIST/HeadCT/000867.jpeg', '/content/MedNIST/Hand/007575.jpeg', '/content/MedNIST/HeadCT/009282.jpeg', '/content/MedNIST/AbdomenCT/009662.jpeg', '/content/MedNIST/ChestCT/000009.jpeg', '/content/MedNIST/Hand/004050.jpeg', '/content/MedNIST/HeadCT/005701.jpeg', '/content/MedNIST/CXR/002499.jpeg', '/content/MedNIST/HeadCT/006042.jpeg', '/content/MedNIST/BreastMRI/000758.jpeg', '/content/MedNIST/CXR/004640.jpeg', '/content/MedNIST/HeadCT/001363.jpeg', '/content/MedNIST/AbdomenCT/009877.jpeg', '/content/MedNIST/CXR/001589.jpeg', '/content/MedNIST/HeadCT/004413.jpeg', '/content/MedNIST/AbdomenCT/004823.jpeg', '/content/MedNIST/CXR/002835.jpeg', '/content/MedNIST/ChestCT/000422.jpeg', '/content/MedNIST/HeadCT/007007.jpeg', '/content/MedNIST/HeadCT/000003.jpeg', '/content/MedNIST/AbdomenCT/007295.jpeg', '/content/MedNIST/ChestCT/008653.jpeg', '/content/MedNIST/CXR/008263.jpeg', '/content/MedNIST/Hand/006496.jpeg', '/content/MedNIST/HeadCT/008303.jpeg', '/content/MedNIST/HeadCT/007223.jpeg', '/content/MedNIST/HeadCT/002417.jpeg', '/content/MedNIST/BreastMRI/000900.jpeg', '/content/MedNIST/ChestCT/001294.jpeg', '/content/MedNIST/Hand/005014.jpeg', '/content/MedNIST/AbdomenCT/005092.jpeg', '/content/MedNIST/Hand/008793.jpeg', '/content/MedNIST/Hand/001357.jpeg', '/content/MedNIST/AbdomenCT/005515.jpeg', '/content/MedNIST/BreastMRI/000268.jpeg', '/content/MedNIST/Hand/007727.jpeg', '/content/MedNIST/Hand/008328.jpeg', '/content/MedNIST/CXR/004837.jpeg', '/content/MedNIST/BreastMRI/000585.jpeg', '/content/MedNIST/HeadCT/008159.jpeg', '/content/MedNIST/ChestCT/006968.jpeg', '/content/MedNIST/HeadCT/006365.jpeg', '/content/MedNIST/AbdomenCT/008917.jpeg', '/content/MedNIST/Hand/009128.jpeg', '/content/MedNIST/BreastMRI/007615.jpeg', '/content/MedNIST/AbdomenCT/008417.jpeg', '/content/MedNIST/ChestCT/003348.jpeg', '/content/MedNIST/ChestCT/007582.jpeg', '/content/MedNIST/CXR/005492.jpeg', '/content/MedNIST/BreastMRI/003016.jpeg', '/content/MedNIST/CXR/002461.jpeg', '/content/MedNIST/CXR/004745.jpeg', '/content/MedNIST/ChestCT/005685.jpeg', '/content/MedNIST/Hand/006765.jpeg', '/content/MedNIST/AbdomenCT/008642.jpeg', '/content/MedNIST/AbdomenCT/000521.jpeg', '/content/MedNIST/BreastMRI/006095.jpeg', '/content/MedNIST/AbdomenCT/005845.jpeg', '/content/MedNIST/Hand/005197.jpeg', '/content/MedNIST/CXR/002513.jpeg', '/content/MedNIST/BreastMRI/000205.jpeg', '/content/MedNIST/BreastMRI/003926.jpeg', '/content/MedNIST/ChestCT/001825.jpeg', '/content/MedNIST/CXR/003990.jpeg', '/content/MedNIST/Hand/000414.jpeg', '/content/MedNIST/BreastMRI/003497.jpeg', '/content/MedNIST/BreastMRI/005479.jpeg', '/content/MedNIST/ChestCT/003496.jpeg', '/content/MedNIST/AbdomenCT/004162.jpeg', '/content/MedNIST/ChestCT/000401.jpeg', '/content/MedNIST/CXR/001625.jpeg', '/content/MedNIST/AbdomenCT/007360.jpeg', '/content/MedNIST/CXR/008246.jpeg', '/content/MedNIST/ChestCT/003280.jpeg', '/content/MedNIST/ChestCT/003296.jpeg', '/content/MedNIST/Hand/009428.jpeg', '/content/MedNIST/Hand/003699.jpeg', '/content/MedNIST/Hand/003301.jpeg', '/content/MedNIST/BreastMRI/006768.jpeg', '/content/MedNIST/CXR/003823.jpeg', '/content/MedNIST/Hand/006515.jpeg', '/content/MedNIST/Hand/000239.jpeg', '/content/MedNIST/CXR/007952.jpeg', '/content/MedNIST/CXR/003451.jpeg', '/content/MedNIST/AbdomenCT/009730.jpeg', '/content/MedNIST/BreastMRI/004381.jpeg', '/content/MedNIST/HeadCT/009066.jpeg', '/content/MedNIST/CXR/000670.jpeg', '/content/MedNIST/AbdomenCT/004366.jpeg', '/content/MedNIST/AbdomenCT/004773.jpeg', '/content/MedNIST/CXR/007682.jpeg', '/content/MedNIST/ChestCT/001858.jpeg', '/content/MedNIST/Hand/006815.jpeg', '/content/MedNIST/AbdomenCT/008520.jpeg', '/content/MedNIST/CXR/000231.jpeg', '/content/MedNIST/BreastMRI/003089.jpeg', '/content/MedNIST/CXR/008743.jpeg', '/content/MedNIST/Hand/006022.jpeg', '/content/MedNIST/BreastMRI/001476.jpeg', '/content/MedNIST/ChestCT/006282.jpeg', '/content/MedNIST/CXR/004780.jpeg', '/content/MedNIST/ChestCT/002119.jpeg', '/content/MedNIST/AbdomenCT/004372.jpeg', '/content/MedNIST/CXR/007996.jpeg', '/content/MedNIST/CXR/007272.jpeg', '/content/MedNIST/Hand/000836.jpeg', '/content/MedNIST/ChestCT/003048.jpeg', '/content/MedNIST/Hand/007058.jpeg', '/content/MedNIST/AbdomenCT/003287.jpeg', '/content/MedNIST/HeadCT/006525.jpeg', '/content/MedNIST/BreastMRI/008718.jpeg', '/content/MedNIST/ChestCT/004549.jpeg', '/content/MedNIST/CXR/001286.jpeg', '/content/MedNIST/BreastMRI/008327.jpeg', '/content/MedNIST/CXR/003567.jpeg', '/content/MedNIST/ChestCT/000531.jpeg', '/content/MedNIST/BreastMRI/007379.jpeg', '/content/MedNIST/BreastMRI/003648.jpeg', '/content/MedNIST/AbdomenCT/000931.jpeg', '/content/MedNIST/Hand/003768.jpeg', '/content/MedNIST/HeadCT/003494.jpeg', '/content/MedNIST/ChestCT/004105.jpeg', '/content/MedNIST/ChestCT/000720.jpeg', '/content/MedNIST/AbdomenCT/003692.jpeg', '/content/MedNIST/ChestCT/000409.jpeg', '/content/MedNIST/CXR/002756.jpeg', '/content/MedNIST/ChestCT/006944.jpeg', '/content/MedNIST/AbdomenCT/005879.jpeg', '/content/MedNIST/CXR/008588.jpeg', '/content/MedNIST/Hand/007279.jpeg', '/content/MedNIST/ChestCT/004428.jpeg', '/content/MedNIST/AbdomenCT/004379.jpeg', '/content/MedNIST/Hand/001781.jpeg', '/content/MedNIST/BreastMRI/003478.jpeg', '/content/MedNIST/AbdomenCT/008143.jpeg', '/content/MedNIST/Hand/007783.jpeg', '/content/MedNIST/HeadCT/004677.jpeg', '/content/MedNIST/Hand/006011.jpeg', '/content/MedNIST/AbdomenCT/009749.jpeg', '/content/MedNIST/AbdomenCT/005297.jpeg', '/content/MedNIST/ChestCT/002079.jpeg', '/content/MedNIST/BreastMRI/004948.jpeg', '/content/MedNIST/HeadCT/003453.jpeg', '/content/MedNIST/ChestCT/007239.jpeg', '/content/MedNIST/AbdomenCT/007238.jpeg', '/content/MedNIST/ChestCT/001980.jpeg', '/content/MedNIST/CXR/006685.jpeg', '/content/MedNIST/HeadCT/007127.jpeg', '/content/MedNIST/AbdomenCT/006926.jpeg', '/content/MedNIST/AbdomenCT/007754.jpeg', '/content/MedNIST/CXR/007524.jpeg', '/content/MedNIST/ChestCT/009230.jpeg', '/content/MedNIST/Hand/003514.jpeg', '/content/MedNIST/Hand/009225.jpeg', '/content/MedNIST/ChestCT/007176.jpeg', '/content/MedNIST/CXR/001492.jpeg', '/content/MedNIST/AbdomenCT/009065.jpeg', '/content/MedNIST/BreastMRI/007797.jpeg', '/content/MedNIST/CXR/005414.jpeg', '/content/MedNIST/CXR/007511.jpeg', '/content/MedNIST/CXR/002416.jpeg', '/content/MedNIST/AbdomenCT/001802.jpeg', '/content/MedNIST/HeadCT/000908.jpeg', '/content/MedNIST/ChestCT/007569.jpeg', '/content/MedNIST/BreastMRI/005279.jpeg', '/content/MedNIST/Hand/005667.jpeg', '/content/MedNIST/Hand/000910.jpeg', '/content/MedNIST/AbdomenCT/001763.jpeg', '/content/MedNIST/HeadCT/001679.jpeg', '/content/MedNIST/ChestCT/000235.jpeg', '/content/MedNIST/ChestCT/001322.jpeg', '/content/MedNIST/CXR/001813.jpeg', '/content/MedNIST/ChestCT/000544.jpeg', '/content/MedNIST/BreastMRI/001520.jpeg', '/content/MedNIST/BreastMRI/007775.jpeg', '/content/MedNIST/Hand/009524.jpeg', '/content/MedNIST/CXR/004237.jpeg', '/content/MedNIST/CXR/003894.jpeg', '/content/MedNIST/BreastMRI/002041.jpeg', '/content/MedNIST/AbdomenCT/000491.jpeg', '/content/MedNIST/Hand/007148.jpeg', '/content/MedNIST/Hand/001535.jpeg', '/content/MedNIST/HeadCT/005651.jpeg', '/content/MedNIST/Hand/004728.jpeg', '/content/MedNIST/CXR/006215.jpeg', '/content/MedNIST/HeadCT/001162.jpeg', '/content/MedNIST/BreastMRI/007800.jpeg', '/content/MedNIST/AbdomenCT/005041.jpeg', '/content/MedNIST/Hand/000707.jpeg', '/content/MedNIST/Hand/008682.jpeg', '/content/MedNIST/CXR/007059.jpeg', '/content/MedNIST/BreastMRI/002836.jpeg', '/content/MedNIST/HeadCT/008318.jpeg', '/content/MedNIST/AbdomenCT/001396.jpeg', '/content/MedNIST/BreastMRI/005860.jpeg', '/content/MedNIST/CXR/002261.jpeg', '/content/MedNIST/ChestCT/002395.jpeg', '/content/MedNIST/Hand/000340.jpeg', '/content/MedNIST/CXR/000649.jpeg', '/content/MedNIST/CXR/004420.jpeg', '/content/MedNIST/AbdomenCT/004082.jpeg', '/content/MedNIST/BreastMRI/003489.jpeg', '/content/MedNIST/CXR/007045.jpeg', '/content/MedNIST/CXR/005860.jpeg', '/content/MedNIST/AbdomenCT/004695.jpeg', '/content/MedNIST/CXR/009932.jpeg', '/content/MedNIST/AbdomenCT/000417.jpeg', '/content/MedNIST/AbdomenCT/009000.jpeg', '/content/MedNIST/HeadCT/001090.jpeg', '/content/MedNIST/BreastMRI/006371.jpeg', '/content/MedNIST/Hand/008664.jpeg', '/content/MedNIST/BreastMRI/004105.jpeg', '/content/MedNIST/HeadCT/005962.jpeg', '/content/MedNIST/CXR/001197.jpeg', '/content/MedNIST/HeadCT/009439.jpeg', '/content/MedNIST/HeadCT/007448.jpeg', '/content/MedNIST/Hand/004081.jpeg', '/content/MedNIST/HeadCT/000500.jpeg', '/content/MedNIST/ChestCT/003840.jpeg', '/content/MedNIST/CXR/004257.jpeg', '/content/MedNIST/Hand/004933.jpeg', '/content/MedNIST/AbdomenCT/003587.jpeg', '/content/MedNIST/CXR/002262.jpeg', '/content/MedNIST/ChestCT/002950.jpeg', '/content/MedNIST/HeadCT/000295.jpeg', '/content/MedNIST/HeadCT/004525.jpeg', '/content/MedNIST/HeadCT/005082.jpeg', '/content/MedNIST/ChestCT/000287.jpeg', '/content/MedNIST/CXR/006684.jpeg', '/content/MedNIST/HeadCT/009348.jpeg', '/content/MedNIST/Hand/004227.jpeg', '/content/MedNIST/ChestCT/005143.jpeg', '/content/MedNIST/HeadCT/007345.jpeg', '/content/MedNIST/AbdomenCT/004123.jpeg', '/content/MedNIST/AbdomenCT/008650.jpeg', '/content/MedNIST/CXR/009568.jpeg', '/content/MedNIST/Hand/002228.jpeg', '/content/MedNIST/ChestCT/006825.jpeg', '/content/MedNIST/CXR/003171.jpeg', '/content/MedNIST/AbdomenCT/001162.jpeg', '/content/MedNIST/CXR/006827.jpeg', '/content/MedNIST/Hand/002726.jpeg', '/content/MedNIST/AbdomenCT/005943.jpeg', '/content/MedNIST/Hand/009252.jpeg', '/content/MedNIST/Hand/003773.jpeg', '/content/MedNIST/ChestCT/006743.jpeg', '/content/MedNIST/ChestCT/004502.jpeg', '/content/MedNIST/AbdomenCT/009505.jpeg', '/content/MedNIST/ChestCT/002336.jpeg', '/content/MedNIST/ChestCT/001309.jpeg', '/content/MedNIST/HeadCT/000067.jpeg', '/content/MedNIST/HeadCT/000000.jpeg', '/content/MedNIST/HeadCT/003537.jpeg', '/content/MedNIST/CXR/005173.jpeg', '/content/MedNIST/HeadCT/006002.jpeg', '/content/MedNIST/AbdomenCT/002071.jpeg', '/content/MedNIST/Hand/005650.jpeg', '/content/MedNIST/AbdomenCT/005184.jpeg', '/content/MedNIST/HeadCT/007174.jpeg', '/content/MedNIST/AbdomenCT/001729.jpeg', '/content/MedNIST/HeadCT/008561.jpeg', '/content/MedNIST/Hand/001352.jpeg', '/content/MedNIST/ChestCT/000846.jpeg', '/content/MedNIST/CXR/004738.jpeg', '/content/MedNIST/HeadCT/002743.jpeg', '/content/MedNIST/Hand/004278.jpeg', '/content/MedNIST/Hand/006338.jpeg', '/content/MedNIST/ChestCT/001594.jpeg', '/content/MedNIST/CXR/007066.jpeg', '/content/MedNIST/ChestCT/003754.jpeg', '/content/MedNIST/AbdomenCT/009901.jpeg', '/content/MedNIST/CXR/008036.jpeg', '/content/MedNIST/CXR/001149.jpeg', '/content/MedNIST/BreastMRI/003807.jpeg', '/content/MedNIST/AbdomenCT/009576.jpeg', '/content/MedNIST/BreastMRI/005877.jpeg', '/content/MedNIST/Hand/008907.jpeg', '/content/MedNIST/CXR/005066.jpeg', '/content/MedNIST/AbdomenCT/005355.jpeg', '/content/MedNIST/CXR/006818.jpeg', '/content/MedNIST/HeadCT/009610.jpeg', '/content/MedNIST/Hand/004132.jpeg', '/content/MedNIST/Hand/006853.jpeg', '/content/MedNIST/CXR/000197.jpeg', '/content/MedNIST/AbdomenCT/007522.jpeg', '/content/MedNIST/AbdomenCT/002219.jpeg', '/content/MedNIST/ChestCT/000435.jpeg', '/content/MedNIST/CXR/007458.jpeg', '/content/MedNIST/Hand/008933.jpeg', '/content/MedNIST/Hand/008334.jpeg', '/content/MedNIST/HeadCT/004387.jpeg', '/content/MedNIST/AbdomenCT/007417.jpeg', '/content/MedNIST/CXR/005480.jpeg', '/content/MedNIST/ChestCT/004353.jpeg', '/content/MedNIST/HeadCT/007268.jpeg', '/content/MedNIST/AbdomenCT/005891.jpeg', '/content/MedNIST/Hand/006483.jpeg', '/content/MedNIST/CXR/007977.jpeg', '/content/MedNIST/HeadCT/006278.jpeg', '/content/MedNIST/AbdomenCT/009845.jpeg', '/content/MedNIST/Hand/008696.jpeg', '/content/MedNIST/HeadCT/006012.jpeg', '/content/MedNIST/ChestCT/004303.jpeg', '/content/MedNIST/Hand/005446.jpeg', '/content/MedNIST/ChestCT/000549.jpeg', '/content/MedNIST/Hand/008404.jpeg', '/content/MedNIST/ChestCT/006768.jpeg', '/content/MedNIST/ChestCT/003624.jpeg', '/content/MedNIST/Hand/007998.jpeg', '/content/MedNIST/BreastMRI/003394.jpeg', '/content/MedNIST/Hand/007742.jpeg', '/content/MedNIST/ChestCT/006492.jpeg', '/content/MedNIST/CXR/000585.jpeg', '/content/MedNIST/ChestCT/000917.jpeg', '/content/MedNIST/HeadCT/009330.jpeg', '/content/MedNIST/CXR/001163.jpeg', '/content/MedNIST/BreastMRI/003421.jpeg', '/content/MedNIST/AbdomenCT/001950.jpeg', '/content/MedNIST/AbdomenCT/005423.jpeg', '/content/MedNIST/HeadCT/004905.jpeg', '/content/MedNIST/BreastMRI/007356.jpeg', '/content/MedNIST/AbdomenCT/000377.jpeg', '/content/MedNIST/CXR/006186.jpeg', '/content/MedNIST/Hand/000265.jpeg', '/content/MedNIST/HeadCT/005046.jpeg', '/content/MedNIST/BreastMRI/003998.jpeg', '/content/MedNIST/BreastMRI/007338.jpeg', '/content/MedNIST/BreastMRI/004119.jpeg', '/content/MedNIST/CXR/000385.jpeg', '/content/MedNIST/Hand/009214.jpeg', '/content/MedNIST/Hand/004126.jpeg', '/content/MedNIST/AbdomenCT/001529.jpeg', '/content/MedNIST/BreastMRI/002521.jpeg', '/content/MedNIST/BreastMRI/007739.jpeg', '/content/MedNIST/BreastMRI/008115.jpeg', '/content/MedNIST/HeadCT/008734.jpeg', '/content/MedNIST/Hand/008818.jpeg', '/content/MedNIST/AbdomenCT/004523.jpeg', '/content/MedNIST/HeadCT/002062.jpeg', '/content/MedNIST/AbdomenCT/001794.jpeg', '/content/MedNIST/AbdomenCT/007505.jpeg', '/content/MedNIST/Hand/002814.jpeg', '/content/MedNIST/Hand/008407.jpeg', '/content/MedNIST/BreastMRI/001253.jpeg', '/content/MedNIST/CXR/004387.jpeg', '/content/MedNIST/HeadCT/004771.jpeg', '/content/MedNIST/BreastMRI/006167.jpeg', '/content/MedNIST/BreastMRI/000178.jpeg', '/content/MedNIST/HeadCT/003942.jpeg', '/content/MedNIST/CXR/005462.jpeg', '/content/MedNIST/BreastMRI/005712.jpeg', '/content/MedNIST/ChestCT/006074.jpeg', '/content/MedNIST/CXR/002375.jpeg', '/content/MedNIST/ChestCT/007042.jpeg', '/content/MedNIST/Hand/004133.jpeg', '/content/MedNIST/HeadCT/009631.jpeg', '/content/MedNIST/AbdomenCT/002778.jpeg', '/content/MedNIST/HeadCT/003309.jpeg', '/content/MedNIST/Hand/000811.jpeg', '/content/MedNIST/Hand/001258.jpeg', '/content/MedNIST/CXR/004928.jpeg', '/content/MedNIST/Hand/004642.jpeg', '/content/MedNIST/AbdomenCT/004739.jpeg', '/content/MedNIST/HeadCT/001329.jpeg', '/content/MedNIST/CXR/005982.jpeg', '/content/MedNIST/HeadCT/002913.jpeg', '/content/MedNIST/Hand/001485.jpeg', '/content/MedNIST/AbdomenCT/007236.jpeg', '/content/MedNIST/BreastMRI/003684.jpeg', '/content/MedNIST/Hand/004645.jpeg', '/content/MedNIST/CXR/009870.jpeg', '/content/MedNIST/HeadCT/000599.jpeg', '/content/MedNIST/Hand/003487.jpeg', '/content/MedNIST/BreastMRI/007807.jpeg', '/content/MedNIST/CXR/000787.jpeg', '/content/MedNIST/Hand/002081.jpeg', '/content/MedNIST/CXR/008837.jpeg', '/content/MedNIST/AbdomenCT/000312.jpeg', '/content/MedNIST/ChestCT/002941.jpeg', '/content/MedNIST/CXR/006625.jpeg', '/content/MedNIST/ChestCT/003843.jpeg', '/content/MedNIST/CXR/004760.jpeg', '/content/MedNIST/HeadCT/008724.jpeg', '/content/MedNIST/Hand/009631.jpeg', '/content/MedNIST/Hand/004900.jpeg', '/content/MedNIST/ChestCT/007260.jpeg', '/content/MedNIST/Hand/005941.jpeg', '/content/MedNIST/BreastMRI/006600.jpeg', '/content/MedNIST/AbdomenCT/000576.jpeg', '/content/MedNIST/ChestCT/006434.jpeg', '/content/MedNIST/ChestCT/001645.jpeg', '/content/MedNIST/AbdomenCT/006150.jpeg', '/content/MedNIST/ChestCT/004985.jpeg', '/content/MedNIST/HeadCT/001321.jpeg', '/content/MedNIST/Hand/004178.jpeg', '/content/MedNIST/AbdomenCT/006906.jpeg', '/content/MedNIST/BreastMRI/000120.jpeg', '/content/MedNIST/AbdomenCT/005046.jpeg', '/content/MedNIST/ChestCT/000478.jpeg', '/content/MedNIST/Hand/006458.jpeg', '/content/MedNIST/AbdomenCT/002067.jpeg', '/content/MedNIST/HeadCT/006661.jpeg', '/content/MedNIST/HeadCT/004107.jpeg', '/content/MedNIST/CXR/001802.jpeg', '/content/MedNIST/BreastMRI/007255.jpeg', '/content/MedNIST/AbdomenCT/008229.jpeg', '/content/MedNIST/CXR/008272.jpeg', '/content/MedNIST/HeadCT/008905.jpeg', '/content/MedNIST/AbdomenCT/004402.jpeg', '/content/MedNIST/AbdomenCT/007056.jpeg', '/content/MedNIST/AbdomenCT/003410.jpeg', '/content/MedNIST/HeadCT/008085.jpeg', '/content/MedNIST/HeadCT/004406.jpeg', '/content/MedNIST/CXR/007638.jpeg', '/content/MedNIST/Hand/003045.jpeg', '/content/MedNIST/ChestCT/002065.jpeg', '/content/MedNIST/AbdomenCT/009084.jpeg', '/content/MedNIST/AbdomenCT/008180.jpeg', '/content/MedNIST/Hand/005806.jpeg', '/content/MedNIST/ChestCT/007181.jpeg', '/content/MedNIST/Hand/001747.jpeg', '/content/MedNIST/HeadCT/008330.jpeg', '/content/MedNIST/CXR/003120.jpeg', '/content/MedNIST/CXR/008679.jpeg', '/content/MedNIST/AbdomenCT/001675.jpeg', '/content/MedNIST/Hand/007344.jpeg', '/content/MedNIST/AbdomenCT/002268.jpeg', '/content/MedNIST/AbdomenCT/008113.jpeg', '/content/MedNIST/ChestCT/001545.jpeg', '/content/MedNIST/ChestCT/004396.jpeg', '/content/MedNIST/HeadCT/005402.jpeg', '/content/MedNIST/BreastMRI/008756.jpeg', '/content/MedNIST/ChestCT/006003.jpeg', '/content/MedNIST/Hand/006280.jpeg', '/content/MedNIST/AbdomenCT/001266.jpeg', '/content/MedNIST/CXR/002167.jpeg', '/content/MedNIST/AbdomenCT/007233.jpeg', '/content/MedNIST/BreastMRI/007752.jpeg', '/content/MedNIST/AbdomenCT/008882.jpeg', '/content/MedNIST/Hand/002044.jpeg', '/content/MedNIST/HeadCT/001856.jpeg', '/content/MedNIST/BreastMRI/000893.jpeg', '/content/MedNIST/AbdomenCT/000133.jpeg', '/content/MedNIST/Hand/006204.jpeg', '/content/MedNIST/AbdomenCT/000483.jpeg', '/content/MedNIST/HeadCT/000748.jpeg', '/content/MedNIST/CXR/004538.jpeg', '/content/MedNIST/BreastMRI/007242.jpeg', '/content/MedNIST/ChestCT/002310.jpeg', '/content/MedNIST/BreastMRI/008415.jpeg', '/content/MedNIST/HeadCT/008114.jpeg', '/content/MedNIST/BreastMRI/000604.jpeg', '/content/MedNIST/CXR/004443.jpeg', '/content/MedNIST/Hand/002638.jpeg', '/content/MedNIST/Hand/007298.jpeg', '/content/MedNIST/Hand/007238.jpeg', '/content/MedNIST/HeadCT/007485.jpeg', '/content/MedNIST/HeadCT/004499.jpeg', '/content/MedNIST/BreastMRI/001819.jpeg', '/content/MedNIST/HeadCT/006108.jpeg', '/content/MedNIST/AbdomenCT/004419.jpeg', '/content/MedNIST/Hand/005793.jpeg', '/content/MedNIST/CXR/001602.jpeg', '/content/MedNIST/ChestCT/001331.jpeg', '/content/MedNIST/AbdomenCT/007209.jpeg', '/content/MedNIST/BreastMRI/006484.jpeg', '/content/MedNIST/Hand/005241.jpeg', '/content/MedNIST/BreastMRI/003588.jpeg', '/content/MedNIST/HeadCT/003362.jpeg', '/content/MedNIST/AbdomenCT/000428.jpeg', '/content/MedNIST/Hand/002626.jpeg', '/content/MedNIST/ChestCT/002864.jpeg', '/content/MedNIST/ChestCT/000922.jpeg', '/content/MedNIST/ChestCT/007028.jpeg', '/content/MedNIST/AbdomenCT/009450.jpeg', '/content/MedNIST/Hand/002425.jpeg', '/content/MedNIST/BreastMRI/001285.jpeg', '/content/MedNIST/CXR/009752.jpeg', '/content/MedNIST/HeadCT/000956.jpeg', '/content/MedNIST/HeadCT/002654.jpeg', '/content/MedNIST/ChestCT/009396.jpeg', '/content/MedNIST/ChestCT/007728.jpeg', '/content/MedNIST/BreastMRI/001642.jpeg', '/content/MedNIST/CXR/002785.jpeg', '/content/MedNIST/HeadCT/009601.jpeg', '/content/MedNIST/BreastMRI/007081.jpeg', '/content/MedNIST/AbdomenCT/000722.jpeg', '/content/MedNIST/HeadCT/000054.jpeg', '/content/MedNIST/Hand/002986.jpeg', '/content/MedNIST/Hand/003550.jpeg', '/content/MedNIST/ChestCT/003967.jpeg', '/content/MedNIST/ChestCT/005017.jpeg', '/content/MedNIST/AbdomenCT/003240.jpeg', '/content/MedNIST/BreastMRI/003243.jpeg', '/content/MedNIST/Hand/002781.jpeg', '/content/MedNIST/ChestCT/004289.jpeg', '/content/MedNIST/HeadCT/005751.jpeg', '/content/MedNIST/ChestCT/006769.jpeg', '/content/MedNIST/HeadCT/003966.jpeg', '/content/MedNIST/AbdomenCT/001429.jpeg', '/content/MedNIST/AbdomenCT/008587.jpeg', '/content/MedNIST/AbdomenCT/008041.jpeg', '/content/MedNIST/Hand/002091.jpeg', '/content/MedNIST/HeadCT/000269.jpeg', '/content/MedNIST/CXR/001856.jpeg', '/content/MedNIST/ChestCT/008109.jpeg', '/content/MedNIST/Hand/004983.jpeg', '/content/MedNIST/Hand/008141.jpeg', '/content/MedNIST/BreastMRI/008430.jpeg', '/content/MedNIST/ChestCT/002182.jpeg', '/content/MedNIST/HeadCT/006573.jpeg', '/content/MedNIST/Hand/002160.jpeg', '/content/MedNIST/CXR/008656.jpeg', '/content/MedNIST/AbdomenCT/002775.jpeg', '/content/MedNIST/CXR/006442.jpeg', '/content/MedNIST/Hand/007776.jpeg', '/content/MedNIST/ChestCT/001493.jpeg', '/content/MedNIST/Hand/005600.jpeg', '/content/MedNIST/CXR/009466.jpeg', '/content/MedNIST/BreastMRI/003974.jpeg', '/content/MedNIST/Hand/005766.jpeg', '/content/MedNIST/Hand/003214.jpeg', '/content/MedNIST/CXR/008879.jpeg', '/content/MedNIST/AbdomenCT/007052.jpeg', '/content/MedNIST/CXR/003814.jpeg', '/content/MedNIST/CXR/000991.jpeg', '/content/MedNIST/AbdomenCT/007254.jpeg', '/content/MedNIST/ChestCT/003829.jpeg', '/content/MedNIST/Hand/008160.jpeg', '/content/MedNIST/AbdomenCT/000591.jpeg', '/content/MedNIST/ChestCT/001161.jpeg', '/content/MedNIST/HeadCT/007960.jpeg', '/content/MedNIST/HeadCT/001706.jpeg', '/content/MedNIST/HeadCT/005736.jpeg', '/content/MedNIST/Hand/008815.jpeg', '/content/MedNIST/BreastMRI/001605.jpeg', '/content/MedNIST/CXR/009800.jpeg', '/content/MedNIST/HeadCT/006531.jpeg', '/content/MedNIST/HeadCT/001838.jpeg', '/content/MedNIST/ChestCT/005061.jpeg', '/content/MedNIST/CXR/009804.jpeg', '/content/MedNIST/CXR/009258.jpeg', '/content/MedNIST/Hand/007415.jpeg', '/content/MedNIST/HeadCT/000944.jpeg', '/content/MedNIST/ChestCT/007083.jpeg', '/content/MedNIST/BreastMRI/002871.jpeg', '/content/MedNIST/BreastMRI/008607.jpeg', '/content/MedNIST/CXR/001297.jpeg', '/content/MedNIST/BreastMRI/003741.jpeg', '/content/MedNIST/AbdomenCT/002101.jpeg', '/content/MedNIST/ChestCT/006784.jpeg', '/content/MedNIST/Hand/000613.jpeg', '/content/MedNIST/AbdomenCT/008881.jpeg', '/content/MedNIST/HeadCT/009770.jpeg', '/content/MedNIST/ChestCT/008527.jpeg', '/content/MedNIST/CXR/007781.jpeg', '/content/MedNIST/CXR/002789.jpeg', '/content/MedNIST/AbdomenCT/007098.jpeg', '/content/MedNIST/HeadCT/001415.jpeg', '/content/MedNIST/BreastMRI/008749.jpeg', '/content/MedNIST/CXR/005356.jpeg', '/content/MedNIST/ChestCT/004696.jpeg', '/content/MedNIST/ChestCT/004152.jpeg', '/content/MedNIST/ChestCT/009192.jpeg', '/content/MedNIST/ChestCT/000869.jpeg', '/content/MedNIST/HeadCT/001218.jpeg', '/content/MedNIST/CXR/008298.jpeg', '/content/MedNIST/CXR/000010.jpeg', '/content/MedNIST/HeadCT/006901.jpeg', '/content/MedNIST/ChestCT/007241.jpeg', '/content/MedNIST/Hand/006978.jpeg', '/content/MedNIST/Hand/005248.jpeg', '/content/MedNIST/AbdomenCT/005270.jpeg', '/content/MedNIST/CXR/002092.jpeg', '/content/MedNIST/Hand/008159.jpeg', '/content/MedNIST/ChestCT/006954.jpeg', '/content/MedNIST/HeadCT/002109.jpeg', '/content/MedNIST/CXR/007125.jpeg', '/content/MedNIST/CXR/000801.jpeg', '/content/MedNIST/Hand/003237.jpeg', '/content/MedNIST/CXR/006264.jpeg', '/content/MedNIST/Hand/007669.jpeg', '/content/MedNIST/CXR/007480.jpeg', '/content/MedNIST/CXR/001840.jpeg', '/content/MedNIST/CXR/007141.jpeg', '/content/MedNIST/HeadCT/002425.jpeg', '/content/MedNIST/Hand/009657.jpeg', '/content/MedNIST/Hand/004822.jpeg', '/content/MedNIST/HeadCT/006410.jpeg', '/content/MedNIST/CXR/002632.jpeg', '/content/MedNIST/CXR/000893.jpeg', '/content/MedNIST/Hand/000257.jpeg', '/content/MedNIST/HeadCT/005526.jpeg', '/content/MedNIST/AbdomenCT/007769.jpeg', '/content/MedNIST/Hand/000232.jpeg', '/content/MedNIST/AbdomenCT/008292.jpeg', '/content/MedNIST/AbdomenCT/004822.jpeg', '/content/MedNIST/AbdomenCT/001371.jpeg', '/content/MedNIST/HeadCT/006028.jpeg', '/content/MedNIST/HeadCT/001401.jpeg', '/content/MedNIST/AbdomenCT/004205.jpeg', '/content/MedNIST/CXR/001446.jpeg', '/content/MedNIST/AbdomenCT/003814.jpeg', '/content/MedNIST/HeadCT/007102.jpeg', '/content/MedNIST/HeadCT/009190.jpeg', '/content/MedNIST/Hand/001888.jpeg', '/content/MedNIST/Hand/001817.jpeg', '/content/MedNIST/HeadCT/009988.jpeg', '/content/MedNIST/CXR/006673.jpeg', '/content/MedNIST/Hand/007697.jpeg', '/content/MedNIST/CXR/004609.jpeg', '/content/MedNIST/ChestCT/002313.jpeg', '/content/MedNIST/CXR/000236.jpeg', '/content/MedNIST/BreastMRI/000323.jpeg', '/content/MedNIST/BreastMRI/004863.jpeg', '/content/MedNIST/AbdomenCT/000759.jpeg', '/content/MedNIST/ChestCT/005097.jpeg', '/content/MedNIST/CXR/002940.jpeg', '/content/MedNIST/HeadCT/003802.jpeg', '/content/MedNIST/BreastMRI/004788.jpeg', '/content/MedNIST/AbdomenCT/000016.jpeg', '/content/MedNIST/BreastMRI/008698.jpeg', '/content/MedNIST/AbdomenCT/005791.jpeg', '/content/MedNIST/BreastMRI/003541.jpeg', '/content/MedNIST/CXR/007664.jpeg', '/content/MedNIST/ChestCT/007115.jpeg', '/content/MedNIST/AbdomenCT/001977.jpeg', '/content/MedNIST/AbdomenCT/002025.jpeg', '/content/MedNIST/HeadCT/003623.jpeg', '/content/MedNIST/ChestCT/008643.jpeg', '/content/MedNIST/ChestCT/001782.jpeg', '/content/MedNIST/Hand/004757.jpeg', '/content/MedNIST/AbdomenCT/009334.jpeg', '/content/MedNIST/Hand/008142.jpeg', '/content/MedNIST/CXR/008650.jpeg', '/content/MedNIST/CXR/008222.jpeg', '/content/MedNIST/AbdomenCT/009007.jpeg', '/content/MedNIST/HeadCT/008521.jpeg', '/content/MedNIST/HeadCT/002373.jpeg', '/content/MedNIST/Hand/008076.jpeg', '/content/MedNIST/HeadCT/001482.jpeg', '/content/MedNIST/Hand/007562.jpeg', '/content/MedNIST/HeadCT/003058.jpeg', '/content/MedNIST/CXR/009023.jpeg', '/content/MedNIST/BreastMRI/000756.jpeg', '/content/MedNIST/AbdomenCT/004820.jpeg', '/content/MedNIST/AbdomenCT/003021.jpeg', '/content/MedNIST/ChestCT/005433.jpeg', '/content/MedNIST/CXR/005428.jpeg', '/content/MedNIST/CXR/009600.jpeg', '/content/MedNIST/Hand/009273.jpeg', '/content/MedNIST/AbdomenCT/001850.jpeg', '/content/MedNIST/Hand/001980.jpeg', '/content/MedNIST/HeadCT/006620.jpeg', '/content/MedNIST/ChestCT/003589.jpeg', '/content/MedNIST/ChestCT/009217.jpeg', '/content/MedNIST/CXR/004801.jpeg', '/content/MedNIST/CXR/000816.jpeg', '/content/MedNIST/ChestCT/007230.jpeg', '/content/MedNIST/CXR/005308.jpeg', '/content/MedNIST/BreastMRI/001896.jpeg', '/content/MedNIST/CXR/009080.jpeg', '/content/MedNIST/HeadCT/008028.jpeg', '/content/MedNIST/HeadCT/002047.jpeg', '/content/MedNIST/AbdomenCT/000262.jpeg', '/content/MedNIST/BreastMRI/004548.jpeg', '/content/MedNIST/AbdomenCT/006174.jpeg', '/content/MedNIST/CXR/001118.jpeg', '/content/MedNIST/Hand/003332.jpeg', '/content/MedNIST/BreastMRI/005186.jpeg', '/content/MedNIST/ChestCT/001908.jpeg', '/content/MedNIST/AbdomenCT/004996.jpeg', '/content/MedNIST/ChestCT/000695.jpeg', '/content/MedNIST/Hand/006110.jpeg', '/content/MedNIST/Hand/009042.jpeg', '/content/MedNIST/AbdomenCT/000884.jpeg', '/content/MedNIST/AbdomenCT/003454.jpeg', '/content/MedNIST/CXR/006899.jpeg', '/content/MedNIST/BreastMRI/004866.jpeg', '/content/MedNIST/Hand/005538.jpeg', '/content/MedNIST/CXR/007931.jpeg', '/content/MedNIST/HeadCT/009843.jpeg', '/content/MedNIST/HeadCT/004590.jpeg', '/content/MedNIST/AbdomenCT/005284.jpeg', '/content/MedNIST/BreastMRI/005090.jpeg', '/content/MedNIST/HeadCT/008488.jpeg', '/content/MedNIST/Hand/005637.jpeg', '/content/MedNIST/Hand/002604.jpeg', '/content/MedNIST/CXR/009481.jpeg', '/content/MedNIST/HeadCT/005189.jpeg', '/content/MedNIST/BreastMRI/005235.jpeg', '/content/MedNIST/BreastMRI/003510.jpeg', '/content/MedNIST/BreastMRI/007368.jpeg', '/content/MedNIST/AbdomenCT/009155.jpeg', '/content/MedNIST/AbdomenCT/003076.jpeg', '/content/MedNIST/CXR/001660.jpeg', '/content/MedNIST/BreastMRI/003518.jpeg', '/content/MedNIST/Hand/001065.jpeg', '/content/MedNIST/HeadCT/003440.jpeg', '/content/MedNIST/AbdomenCT/009181.jpeg', '/content/MedNIST/BreastMRI/002680.jpeg', '/content/MedNIST/HeadCT/009395.jpeg', '/content/MedNIST/CXR/002144.jpeg', '/content/MedNIST/CXR/006303.jpeg', '/content/MedNIST/CXR/008091.jpeg', '/content/MedNIST/Hand/003536.jpeg', '/content/MedNIST/Hand/002617.jpeg', '/content/MedNIST/Hand/007163.jpeg', '/content/MedNIST/Hand/000942.jpeg', '/content/MedNIST/Hand/005171.jpeg', '/content/MedNIST/ChestCT/004745.jpeg', '/content/MedNIST/ChestCT/003473.jpeg', '/content/MedNIST/BreastMRI/007613.jpeg', '/content/MedNIST/ChestCT/008036.jpeg', '/content/MedNIST/HeadCT/009664.jpeg', '/content/MedNIST/ChestCT/005787.jpeg', '/content/MedNIST/ChestCT/005320.jpeg', '/content/MedNIST/BreastMRI/007633.jpeg', '/content/MedNIST/AbdomenCT/007391.jpeg', '/content/MedNIST/ChestCT/001629.jpeg', '/content/MedNIST/AbdomenCT/008237.jpeg', '/content/MedNIST/BreastMRI/000784.jpeg', '/content/MedNIST/Hand/009082.jpeg', '/content/MedNIST/CXR/000466.jpeg', '/content/MedNIST/CXR/007507.jpeg', '/content/MedNIST/AbdomenCT/001230.jpeg', '/content/MedNIST/AbdomenCT/002466.jpeg', '/content/MedNIST/CXR/000898.jpeg', '/content/MedNIST/BreastMRI/003825.jpeg', '/content/MedNIST/ChestCT/000032.jpeg', '/content/MedNIST/BreastMRI/007047.jpeg', '/content/MedNIST/ChestCT/008025.jpeg', '/content/MedNIST/Hand/003818.jpeg', '/content/MedNIST/Hand/007456.jpeg', '/content/MedNIST/Hand/003715.jpeg', '/content/MedNIST/Hand/004383.jpeg', '/content/MedNIST/HeadCT/002439.jpeg', '/content/MedNIST/CXR/002229.jpeg', '/content/MedNIST/AbdomenCT/000419.jpeg', '/content/MedNIST/ChestCT/001502.jpeg', '/content/MedNIST/BreastMRI/000943.jpeg', '/content/MedNIST/AbdomenCT/003126.jpeg', '/content/MedNIST/AbdomenCT/003121.jpeg', '/content/MedNIST/Hand/001966.jpeg', '/content/MedNIST/AbdomenCT/003986.jpeg', '/content/MedNIST/BreastMRI/005336.jpeg', '/content/MedNIST/HeadCT/003503.jpeg', '/content/MedNIST/HeadCT/006143.jpeg', '/content/MedNIST/CXR/003346.jpeg', '/content/MedNIST/HeadCT/004560.jpeg', '/content/MedNIST/ChestCT/001538.jpeg', '/content/MedNIST/AbdomenCT/001799.jpeg', '/content/MedNIST/AbdomenCT/007668.jpeg', '/content/MedNIST/Hand/003738.jpeg', '/content/MedNIST/HeadCT/001161.jpeg', '/content/MedNIST/BreastMRI/008387.jpeg', '/content/MedNIST/CXR/005168.jpeg', '/content/MedNIST/BreastMRI/003820.jpeg', '/content/MedNIST/ChestCT/001265.jpeg', '/content/MedNIST/ChestCT/009052.jpeg', '/content/MedNIST/ChestCT/009033.jpeg', '/content/MedNIST/HeadCT/004426.jpeg', '/content/MedNIST/Hand/001965.jpeg', '/content/MedNIST/ChestCT/009981.jpeg', '/content/MedNIST/CXR/002526.jpeg', '/content/MedNIST/HeadCT/002874.jpeg', '/content/MedNIST/Hand/002047.jpeg', '/content/MedNIST/CXR/006636.jpeg', '/content/MedNIST/Hand/001956.jpeg', '/content/MedNIST/ChestCT/004397.jpeg', '/content/MedNIST/BreastMRI/002818.jpeg', '/content/MedNIST/HeadCT/000023.jpeg', '/content/MedNIST/CXR/000000.jpeg', '/content/MedNIST/AbdomenCT/003334.jpeg', '/content/MedNIST/Hand/003086.jpeg', '/content/MedNIST/AbdomenCT/002087.jpeg', '/content/MedNIST/CXR/008114.jpeg', '/content/MedNIST/Hand/000529.jpeg', '/content/MedNIST/HeadCT/001219.jpeg', '/content/MedNIST/BreastMRI/004261.jpeg', '/content/MedNIST/CXR/004571.jpeg', '/content/MedNIST/CXR/005504.jpeg', '/content/MedNIST/Hand/008359.jpeg', '/content/MedNIST/CXR/006081.jpeg', '/content/MedNIST/AbdomenCT/004678.jpeg', '/content/MedNIST/AbdomenCT/000934.jpeg', '/content/MedNIST/HeadCT/006586.jpeg', '/content/MedNIST/CXR/007311.jpeg', '/content/MedNIST/AbdomenCT/008842.jpeg', '/content/MedNIST/ChestCT/001896.jpeg', '/content/MedNIST/CXR/000758.jpeg', '/content/MedNIST/BreastMRI/005836.jpeg', '/content/MedNIST/HeadCT/001739.jpeg', '/content/MedNIST/Hand/006711.jpeg', '/content/MedNIST/CXR/007129.jpeg', '/content/MedNIST/HeadCT/009504.jpeg', '/content/MedNIST/Hand/000626.jpeg', '/content/MedNIST/AbdomenCT/004062.jpeg', '/content/MedNIST/CXR/005767.jpeg', '/content/MedNIST/CXR/006645.jpeg', '/content/MedNIST/BreastMRI/002975.jpeg', '/content/MedNIST/BreastMRI/005383.jpeg', '/content/MedNIST/AbdomenCT/003096.jpeg', '/content/MedNIST/HeadCT/000009.jpeg', '/content/MedNIST/Hand/008919.jpeg', '/content/MedNIST/AbdomenCT/005432.jpeg', '/content/MedNIST/BreastMRI/005846.jpeg', '/content/MedNIST/BreastMRI/006454.jpeg', '/content/MedNIST/CXR/004576.jpeg', '/content/MedNIST/ChestCT/009076.jpeg', '/content/MedNIST/CXR/003704.jpeg', '/content/MedNIST/BreastMRI/005942.jpeg', '/content/MedNIST/ChestCT/002922.jpeg', '/content/MedNIST/AbdomenCT/006344.jpeg', '/content/MedNIST/HeadCT/006582.jpeg', '/content/MedNIST/HeadCT/006604.jpeg', '/content/MedNIST/ChestCT/009363.jpeg', '/content/MedNIST/ChestCT/007544.jpeg', '/content/MedNIST/ChestCT/002367.jpeg', '/content/MedNIST/Hand/007653.jpeg', '/content/MedNIST/HeadCT/007942.jpeg', '/content/MedNIST/CXR/005071.jpeg', '/content/MedNIST/AbdomenCT/006902.jpeg', '/content/MedNIST/CXR/008629.jpeg', '/content/MedNIST/CXR/002086.jpeg', '/content/MedNIST/AbdomenCT/000481.jpeg', '/content/MedNIST/ChestCT/007377.jpeg', '/content/MedNIST/HeadCT/008980.jpeg', '/content/MedNIST/ChestCT/006731.jpeg', '/content/MedNIST/CXR/009813.jpeg', '/content/MedNIST/Hand/004441.jpeg', '/content/MedNIST/AbdomenCT/007404.jpeg', '/content/MedNIST/AbdomenCT/009444.jpeg', '/content/MedNIST/HeadCT/003109.jpeg', '/content/MedNIST/BreastMRI/002464.jpeg', '/content/MedNIST/ChestCT/008614.jpeg', '/content/MedNIST/Hand/008877.jpeg', '/content/MedNIST/AbdomenCT/005625.jpeg', '/content/MedNIST/Hand/009280.jpeg', '/content/MedNIST/Hand/009598.jpeg', '/content/MedNIST/BreastMRI/007299.jpeg', '/content/MedNIST/Hand/001704.jpeg', '/content/MedNIST/Hand/006202.jpeg', '/content/MedNIST/BreastMRI/005608.jpeg', '/content/MedNIST/HeadCT/006581.jpeg', '/content/MedNIST/CXR/004054.jpeg', '/content/MedNIST/ChestCT/005468.jpeg', '/content/MedNIST/HeadCT/003856.jpeg', '/content/MedNIST/AbdomenCT/005566.jpeg', '/content/MedNIST/Hand/007487.jpeg', '/content/MedNIST/Hand/001344.jpeg', '/content/MedNIST/ChestCT/002244.jpeg', '/content/MedNIST/CXR/004728.jpeg', '/content/MedNIST/ChestCT/000770.jpeg', '/content/MedNIST/BreastMRI/004862.jpeg', '/content/MedNIST/HeadCT/000737.jpeg', '/content/MedNIST/AbdomenCT/002909.jpeg', '/content/MedNIST/HeadCT/000247.jpeg', '/content/MedNIST/HeadCT/006413.jpeg', '/content/MedNIST/CXR/006603.jpeg', '/content/MedNIST/Hand/004584.jpeg', '/content/MedNIST/HeadCT/005527.jpeg', '/content/MedNIST/HeadCT/009000.jpeg', '/content/MedNIST/ChestCT/002542.jpeg', '/content/MedNIST/ChestCT/004577.jpeg', '/content/MedNIST/AbdomenCT/007439.jpeg', '/content/MedNIST/CXR/005312.jpeg', '/content/MedNIST/CXR/000689.jpeg', '/content/MedNIST/CXR/009966.jpeg', '/content/MedNIST/Hand/007107.jpeg', '/content/MedNIST/AbdomenCT/000532.jpeg', '/content/MedNIST/ChestCT/005098.jpeg', '/content/MedNIST/CXR/009484.jpeg', '/content/MedNIST/HeadCT/004481.jpeg', '/content/MedNIST/HeadCT/008145.jpeg', '/content/MedNIST/CXR/006284.jpeg', '/content/MedNIST/CXR/007533.jpeg', '/content/MedNIST/CXR/009858.jpeg', '/content/MedNIST/Hand/008805.jpeg', '/content/MedNIST/BreastMRI/001536.jpeg', '/content/MedNIST/ChestCT/006095.jpeg', '/content/MedNIST/HeadCT/000537.jpeg', '/content/MedNIST/AbdomenCT/003914.jpeg', '/content/MedNIST/HeadCT/008331.jpeg', '/content/MedNIST/HeadCT/006465.jpeg', '/content/MedNIST/BreastMRI/006960.jpeg', '/content/MedNIST/CXR/000751.jpeg', '/content/MedNIST/ChestCT/008835.jpeg', '/content/MedNIST/Hand/001616.jpeg', '/content/MedNIST/AbdomenCT/003478.jpeg', '/content/MedNIST/ChestCT/001586.jpeg', '/content/MedNIST/ChestCT/003542.jpeg', '/content/MedNIST/Hand/009891.jpeg', '/content/MedNIST/ChestCT/007555.jpeg', '/content/MedNIST/ChestCT/004031.jpeg', '/content/MedNIST/HeadCT/007593.jpeg', '/content/MedNIST/Hand/007196.jpeg', '/content/MedNIST/Hand/000501.jpeg', '/content/MedNIST/AbdomenCT/009572.jpeg', '/content/MedNIST/ChestCT/009319.jpeg', '/content/MedNIST/AbdomenCT/006701.jpeg', '/content/MedNIST/Hand/008746.jpeg', '/content/MedNIST/HeadCT/005938.jpeg', '/content/MedNIST/ChestCT/007559.jpeg', '/content/MedNIST/Hand/004011.jpeg', '/content/MedNIST/CXR/001592.jpeg', '/content/MedNIST/AbdomenCT/002338.jpeg', '/content/MedNIST/AbdomenCT/003140.jpeg', '/content/MedNIST/CXR/001058.jpeg', '/content/MedNIST/Hand/006993.jpeg', '/content/MedNIST/HeadCT/006910.jpeg', '/content/MedNIST/Hand/002234.jpeg', '/content/MedNIST/BreastMRI/002105.jpeg', '/content/MedNIST/Hand/007934.jpeg', '/content/MedNIST/AbdomenCT/007057.jpeg', '/content/MedNIST/BreastMRI/002189.jpeg', '/content/MedNIST/BreastMRI/000439.jpeg', '/content/MedNIST/ChestCT/006695.jpeg', '/content/MedNIST/Hand/002733.jpeg', '/content/MedNIST/Hand/001890.jpeg', '/content/MedNIST/BreastMRI/002467.jpeg', '/content/MedNIST/AbdomenCT/005221.jpeg', '/content/MedNIST/Hand/007911.jpeg', '/content/MedNIST/BreastMRI/008528.jpeg', '/content/MedNIST/AbdomenCT/000754.jpeg', '/content/MedNIST/AbdomenCT/006029.jpeg', '/content/MedNIST/Hand/001649.jpeg', '/content/MedNIST/ChestCT/009884.jpeg', '/content/MedNIST/AbdomenCT/008207.jpeg', '/content/MedNIST/BreastMRI/000906.jpeg', '/content/MedNIST/BreastMRI/000431.jpeg', '/content/MedNIST/AbdomenCT/006448.jpeg', '/content/MedNIST/AbdomenCT/000913.jpeg', '/content/MedNIST/CXR/009334.jpeg', '/content/MedNIST/CXR/002152.jpeg', '/content/MedNIST/AbdomenCT/008300.jpeg', '/content/MedNIST/HeadCT/000692.jpeg', '/content/MedNIST/Hand/008555.jpeg', '/content/MedNIST/CXR/009383.jpeg', '/content/MedNIST/AbdomenCT/009277.jpeg', '/content/MedNIST/BreastMRI/006311.jpeg', '/content/MedNIST/CXR/004133.jpeg', '/content/MedNIST/HeadCT/004807.jpeg', '/content/MedNIST/AbdomenCT/004459.jpeg', '/content/MedNIST/BreastMRI/005484.jpeg', '/content/MedNIST/ChestCT/006227.jpeg', '/content/MedNIST/CXR/008913.jpeg', '/content/MedNIST/ChestCT/001307.jpeg', '/content/MedNIST/ChestCT/009999.jpeg', '/content/MedNIST/Hand/006597.jpeg', '/content/MedNIST/HeadCT/006918.jpeg', '/content/MedNIST/ChestCT/008860.jpeg', '/content/MedNIST/AbdomenCT/006215.jpeg', '/content/MedNIST/AbdomenCT/003012.jpeg', '/content/MedNIST/ChestCT/006655.jpeg', '/content/MedNIST/ChestCT/000212.jpeg', '/content/MedNIST/AbdomenCT/007083.jpeg', '/content/MedNIST/CXR/008068.jpeg', '/content/MedNIST/AbdomenCT/008045.jpeg', '/content/MedNIST/HeadCT/009075.jpeg', '/content/MedNIST/CXR/003523.jpeg', '/content/MedNIST/CXR/003946.jpeg', '/content/MedNIST/ChestCT/009941.jpeg', '/content/MedNIST/HeadCT/006770.jpeg', '/content/MedNIST/ChestCT/004862.jpeg', '/content/MedNIST/Hand/007323.jpeg', '/content/MedNIST/HeadCT/006879.jpeg', '/content/MedNIST/BreastMRI/000831.jpeg', '/content/MedNIST/Hand/007241.jpeg', '/content/MedNIST/Hand/005471.jpeg', '/content/MedNIST/AbdomenCT/001715.jpeg', '/content/MedNIST/HeadCT/008848.jpeg', '/content/MedNIST/Hand/006860.jpeg', '/content/MedNIST/BreastMRI/000697.jpeg', '/content/MedNIST/Hand/005448.jpeg', '/content/MedNIST/BreastMRI/003210.jpeg', '/content/MedNIST/ChestCT/008468.jpeg', '/content/MedNIST/CXR/003711.jpeg', '/content/MedNIST/AbdomenCT/000937.jpeg', '/content/MedNIST/CXR/003550.jpeg', '/content/MedNIST/CXR/000982.jpeg', '/content/MedNIST/CXR/008489.jpeg', '/content/MedNIST/AbdomenCT/003827.jpeg', '/content/MedNIST/ChestCT/002134.jpeg', '/content/MedNIST/Hand/003537.jpeg', '/content/MedNIST/ChestCT/007472.jpeg', '/content/MedNIST/CXR/008764.jpeg', '/content/MedNIST/Hand/008470.jpeg', '/content/MedNIST/AbdomenCT/000480.jpeg', '/content/MedNIST/Hand/003776.jpeg', '/content/MedNIST/ChestCT/003792.jpeg', '/content/MedNIST/HeadCT/009522.jpeg', '/content/MedNIST/CXR/003788.jpeg', '/content/MedNIST/AbdomenCT/003592.jpeg', '/content/MedNIST/HeadCT/001518.jpeg', '/content/MedNIST/CXR/005370.jpeg', '/content/MedNIST/CXR/001100.jpeg', '/content/MedNIST/BreastMRI/000547.jpeg', '/content/MedNIST/Hand/009867.jpeg', '/content/MedNIST/AbdomenCT/003994.jpeg', '/content/MedNIST/AbdomenCT/005370.jpeg', '/content/MedNIST/ChestCT/008474.jpeg', '/content/MedNIST/BreastMRI/006670.jpeg', '/content/MedNIST/BreastMRI/000050.jpeg', '/content/MedNIST/CXR/000965.jpeg', '/content/MedNIST/ChestCT/001114.jpeg', '/content/MedNIST/AbdomenCT/006237.jpeg', '/content/MedNIST/AbdomenCT/007256.jpeg', '/content/MedNIST/BreastMRI/004801.jpeg', '/content/MedNIST/ChestCT/000832.jpeg', '/content/MedNIST/CXR/009441.jpeg', '/content/MedNIST/ChestCT/006072.jpeg', '/content/MedNIST/Hand/009403.jpeg', '/content/MedNIST/ChestCT/000680.jpeg', '/content/MedNIST/HeadCT/001603.jpeg', '/content/MedNIST/Hand/001928.jpeg', '/content/MedNIST/Hand/004446.jpeg', '/content/MedNIST/HeadCT/007252.jpeg', '/content/MedNIST/HeadCT/002633.jpeg', '/content/MedNIST/CXR/007433.jpeg', '/content/MedNIST/AbdomenCT/008407.jpeg', '/content/MedNIST/CXR/004090.jpeg', '/content/MedNIST/AbdomenCT/005588.jpeg', '/content/MedNIST/CXR/001794.jpeg', '/content/MedNIST/BreastMRI/000602.jpeg', '/content/MedNIST/Hand/002490.jpeg', '/content/MedNIST/Hand/000782.jpeg', '/content/MedNIST/Hand/004962.jpeg', '/content/MedNIST/HeadCT/009529.jpeg', '/content/MedNIST/AbdomenCT/005317.jpeg', '/content/MedNIST/Hand/002184.jpeg', '/content/MedNIST/ChestCT/002674.jpeg', '/content/MedNIST/ChestCT/002295.jpeg', '/content/MedNIST/CXR/009767.jpeg', '/content/MedNIST/BreastMRI/006068.jpeg', '/content/MedNIST/BreastMRI/007930.jpeg', '/content/MedNIST/AbdomenCT/003862.jpeg', '/content/MedNIST/CXR/003890.jpeg', '/content/MedNIST/AbdomenCT/007199.jpeg', '/content/MedNIST/BreastMRI/003571.jpeg', '/content/MedNIST/ChestCT/001270.jpeg', '/content/MedNIST/AbdomenCT/004129.jpeg', '/content/MedNIST/HeadCT/007850.jpeg', '/content/MedNIST/Hand/008212.jpeg', '/content/MedNIST/ChestCT/009938.jpeg', '/content/MedNIST/ChestCT/004478.jpeg', '/content/MedNIST/ChestCT/001864.jpeg', '/content/MedNIST/ChestCT/000705.jpeg', '/content/MedNIST/ChestCT/007789.jpeg', '/content/MedNIST/CXR/003230.jpeg', '/content/MedNIST/AbdomenCT/002344.jpeg', '/content/MedNIST/ChestCT/005112.jpeg', '/content/MedNIST/AbdomenCT/006236.jpeg', '/content/MedNIST/CXR/001042.jpeg', '/content/MedNIST/Hand/003456.jpeg', '/content/MedNIST/CXR/009532.jpeg', '/content/MedNIST/AbdomenCT/003679.jpeg', '/content/MedNIST/Hand/000470.jpeg', '/content/MedNIST/BreastMRI/005848.jpeg', '/content/MedNIST/CXR/003300.jpeg', '/content/MedNIST/HeadCT/005433.jpeg', '/content/MedNIST/ChestCT/004550.jpeg', '/content/MedNIST/AbdomenCT/009066.jpeg', '/content/MedNIST/ChestCT/003103.jpeg', '/content/MedNIST/HeadCT/003126.jpeg', '/content/MedNIST/CXR/006558.jpeg', '/content/MedNIST/AbdomenCT/001417.jpeg', '/content/MedNIST/Hand/001970.jpeg', '/content/MedNIST/ChestCT/006983.jpeg', '/content/MedNIST/BreastMRI/004282.jpeg', '/content/MedNIST/BreastMRI/006712.jpeg', '/content/MedNIST/Hand/003292.jpeg', '/content/MedNIST/HeadCT/008777.jpeg', '/content/MedNIST/ChestCT/003755.jpeg', '/content/MedNIST/AbdomenCT/000119.jpeg', '/content/MedNIST/ChestCT/005482.jpeg', '/content/MedNIST/CXR/004678.jpeg', '/content/MedNIST/ChestCT/009894.jpeg', '/content/MedNIST/AbdomenCT/007583.jpeg', '/content/MedNIST/CXR/009457.jpeg', '/content/MedNIST/AbdomenCT/005395.jpeg', '/content/MedNIST/Hand/000139.jpeg', '/content/MedNIST/HeadCT/000121.jpeg', '/content/MedNIST/AbdomenCT/000156.jpeg', '/content/MedNIST/ChestCT/003657.jpeg', '/content/MedNIST/CXR/007172.jpeg', '/content/MedNIST/ChestCT/006828.jpeg', '/content/MedNIST/ChestCT/006752.jpeg', '/content/MedNIST/CXR/005255.jpeg', '/content/MedNIST/Hand/007747.jpeg', '/content/MedNIST/BreastMRI/006996.jpeg', '/content/MedNIST/BreastMRI/007677.jpeg', '/content/MedNIST/ChestCT/005964.jpeg', '/content/MedNIST/ChestCT/002686.jpeg', '/content/MedNIST/AbdomenCT/001150.jpeg', '/content/MedNIST/HeadCT/008877.jpeg']\n"
          ]
        }
      ]
    },
    {
      "cell_type": "markdown",
      "metadata": {
        "id": "WhVNyKSiNmLK"
      },
      "source": [
        "## Define MONAI transforms, Dataset and Dataloader to pre-process data"
      ]
    },
    {
      "cell_type": "code",
      "execution_count": 12,
      "metadata": {
        "id": "sJHzJePoNmLK"
      },
      "outputs": [],
      "source": [
        "train_transforms = Compose(\n",
        "    [\n",
        "        LoadImage(image_only=True),\n",
        "        EnsureChannelFirst(),\n",
        "        ScaleIntensity(),\n",
        "        RandRotate(range_x=np.pi / 12, prob=0.5, keep_size=True),\n",
        "        RandFlip(spatial_axis=0, prob=0.5),\n",
        "        RandZoom(min_zoom=0.9, max_zoom=1.1, prob=0.5),\n",
        "    ]\n",
        ")\n",
        "\n",
        "val_transforms = Compose([LoadImage(image_only=True), EnsureChannelFirst(), ScaleIntensity()])\n",
        "\n",
        "y_pred_trans = Compose([Activations(softmax=True)])\n",
        "y_trans = Compose([AsDiscrete(to_onehot=num_class)])"
      ]
    },
    {
      "cell_type": "code",
      "execution_count": 13,
      "metadata": {
        "id": "bJFQOKzeNmLK",
        "outputId": "c88c2cd8-b422-42cc-bc6b-a94987f86f95",
        "colab": {
          "base_uri": "https://localhost:8080/"
        }
      },
      "outputs": [
        {
          "output_type": "stream",
          "name": "stderr",
          "text": [
            "/usr/local/lib/python3.10/dist-packages/torch/utils/data/dataloader.py:560: UserWarning: This DataLoader will create 10 worker processes in total. Our suggested max number of worker in current system is 2, which is smaller than what this DataLoader is going to create. Please be aware that excessive worker creation might get DataLoader running slow or even freeze, lower the worker number to avoid potential slowness/freeze if necessary.\n",
            "  warnings.warn(_create_warning_msg(\n"
          ]
        }
      ],
      "source": [
        "class MedNISTDataset(torch.utils.data.Dataset):\n",
        "    def __init__(self, image_files, labels, transforms):\n",
        "        self.image_files = image_files\n",
        "        self.labels = labels\n",
        "        self.transforms = transforms\n",
        "\n",
        "    def __len__(self):\n",
        "        return len(self.image_files)\n",
        "\n",
        "    def __getitem__(self, index):\n",
        "        return self.transforms(self.image_files[index]), self.labels[index], self.image_files[index]\n",
        "\n",
        "\n",
        "train_ds = MedNISTDataset(train_x, train_y, train_transforms)\n",
        "train_loader = DataLoader(train_ds, batch_size=300, shuffle=True, num_workers=10)\n",
        "\n",
        "val_ds = MedNISTDataset(val_x, val_y, val_transforms)\n",
        "val_loader = DataLoader(val_ds, batch_size=300, num_workers=10)\n",
        "\n",
        "test_ds = MedNISTDataset(test_x, test_y, val_transforms)\n",
        "test_loader = DataLoader(test_ds, batch_size=300, num_workers=10)"
      ]
    },
    {
      "cell_type": "markdown",
      "metadata": {
        "id": "A1JynE3PNmLK"
      },
      "source": [
        "## Define network and optimizer\n",
        "\n",
        "1. Set learning rate for how much the model is updated per batch.\n",
        "1. Set total epoch number, as we have shuffle and random transforms, so the training data of every epoch is different.  \n",
        "And as this is just a get start tutorial, let's just train 4 epochs.  \n",
        "If train 10 epochs, the model can achieve 100% accuracy on test dataset.\n",
        "1. Use DenseNet from MONAI and move to GPU devide, this DenseNet can support both 2D and 3D classification tasks.\n",
        "1. Use Adam optimizer."
      ]
    },
    {
      "cell_type": "code",
      "execution_count": 14,
      "metadata": {
        "id": "jnRuqLa-NmLL"
      },
      "outputs": [],
      "source": [
        "device = torch.device(\"cuda\" if torch.cuda.is_available() else \"cpu\")\n",
        "model = DenseNet121(spatial_dims=2, in_channels=1, out_channels=num_class, growth_rate=16).to(device)\n",
        "# model = ResNet(spatial_dims=2, in_channels=1, out_channels=num_class).to(device)\n",
        "loss_function = torch.nn.CrossEntropyLoss()\n",
        "optimizer = torch.optim.Adam(model.parameters(), 1e-5)\n",
        "max_epochs = 4\n",
        "val_interval = 1\n",
        "auc_metric = ROCAUCMetric()"
      ]
    },
    {
      "cell_type": "markdown",
      "metadata": {
        "id": "hNQMAW5aNmLL"
      },
      "source": [
        "## Model training\n",
        "\n",
        "Execute a typical PyTorch training that run epoch loop and step loop, and do validation after every epoch.  \n",
        "Will save the model weights to file if got best validation accuracy."
      ]
    },
    {
      "cell_type": "code",
      "execution_count": 17,
      "metadata": {
        "tags": [],
        "id": "GnZq8RGHNmLL",
        "outputId": "ae1b31c4-af11-434e-e76f-d879e85aa5ea",
        "colab": {
          "base_uri": "https://localhost:8080/"
        }
      },
      "outputs": [
        {
          "output_type": "stream",
          "name": "stdout",
          "text": [
            "----------\n",
            "epoch 1/4\n",
            "1/157, train_loss: 1.8429\n",
            "2/157, train_loss: 1.8085\n",
            "3/157, train_loss: 1.8100\n",
            "4/157, train_loss: 1.7991\n",
            "5/157, train_loss: 1.8123\n",
            "6/157, train_loss: 1.7817\n",
            "7/157, train_loss: 1.7660\n",
            "8/157, train_loss: 1.7795\n",
            "9/157, train_loss: 1.7613\n",
            "10/157, train_loss: 1.7379\n",
            "11/157, train_loss: 1.7148\n",
            "12/157, train_loss: 1.7178\n",
            "13/157, train_loss: 1.6998\n",
            "14/157, train_loss: 1.7050\n",
            "15/157, train_loss: 1.6764\n",
            "16/157, train_loss: 1.6641\n",
            "17/157, train_loss: 1.6417\n",
            "18/157, train_loss: 1.6370\n",
            "19/157, train_loss: 1.6760\n",
            "20/157, train_loss: 1.6664\n",
            "21/157, train_loss: 1.6368\n",
            "22/157, train_loss: 1.6258\n",
            "23/157, train_loss: 1.6337\n",
            "24/157, train_loss: 1.6267\n",
            "25/157, train_loss: 1.5836\n",
            "26/157, train_loss: 1.5694\n",
            "27/157, train_loss: 1.5775\n",
            "28/157, train_loss: 1.5418\n",
            "29/157, train_loss: 1.5634\n",
            "30/157, train_loss: 1.5470\n",
            "31/157, train_loss: 1.5290\n",
            "32/157, train_loss: 1.5214\n",
            "33/157, train_loss: 1.5380\n",
            "34/157, train_loss: 1.4805\n",
            "35/157, train_loss: 1.5009\n",
            "36/157, train_loss: 1.4971\n",
            "37/157, train_loss: 1.4555\n",
            "38/157, train_loss: 1.5321\n",
            "39/157, train_loss: 1.4942\n",
            "40/157, train_loss: 1.4622\n",
            "41/157, train_loss: 1.4339\n",
            "42/157, train_loss: 1.4197\n",
            "43/157, train_loss: 1.4131\n",
            "44/157, train_loss: 1.4033\n",
            "45/157, train_loss: 1.4250\n",
            "46/157, train_loss: 1.3973\n",
            "47/157, train_loss: 1.3830\n",
            "48/157, train_loss: 1.3597\n",
            "49/157, train_loss: 1.3543\n",
            "50/157, train_loss: 1.3780\n",
            "51/157, train_loss: 1.3348\n",
            "52/157, train_loss: 1.3499\n",
            "53/157, train_loss: 1.3264\n",
            "54/157, train_loss: 1.3049\n",
            "55/157, train_loss: 1.3547\n",
            "56/157, train_loss: 1.3594\n",
            "57/157, train_loss: 1.2872\n",
            "58/157, train_loss: 1.2812\n",
            "59/157, train_loss: 1.2783\n",
            "60/157, train_loss: 1.2783\n",
            "61/157, train_loss: 1.2646\n",
            "62/157, train_loss: 1.2751\n",
            "63/157, train_loss: 1.2741\n",
            "64/157, train_loss: 1.2281\n",
            "65/157, train_loss: 1.2024\n",
            "66/157, train_loss: 1.2281\n",
            "67/157, train_loss: 1.2547\n",
            "68/157, train_loss: 1.2000\n",
            "69/157, train_loss: 1.2005\n",
            "70/157, train_loss: 1.2007\n",
            "71/157, train_loss: 1.1908\n",
            "72/157, train_loss: 1.1897\n",
            "73/157, train_loss: 1.1743\n",
            "74/157, train_loss: 1.1992\n",
            "75/157, train_loss: 1.1724\n",
            "76/157, train_loss: 1.1368\n",
            "77/157, train_loss: 1.1434\n",
            "78/157, train_loss: 1.1593\n",
            "79/157, train_loss: 1.1249\n",
            "80/157, train_loss: 1.1813\n",
            "81/157, train_loss: 1.1807\n",
            "82/157, train_loss: 1.1030\n",
            "83/157, train_loss: 1.1150\n",
            "84/157, train_loss: 1.1592\n",
            "85/157, train_loss: 1.1192\n",
            "86/157, train_loss: 1.0574\n",
            "87/157, train_loss: 1.1006\n",
            "88/157, train_loss: 1.0638\n",
            "89/157, train_loss: 1.0538\n",
            "90/157, train_loss: 1.0894\n",
            "91/157, train_loss: 1.0641\n",
            "92/157, train_loss: 1.0676\n",
            "93/157, train_loss: 1.0513\n",
            "94/157, train_loss: 1.0348\n",
            "95/157, train_loss: 1.0244\n",
            "96/157, train_loss: 1.0323\n",
            "97/157, train_loss: 1.0475\n",
            "98/157, train_loss: 0.9931\n",
            "99/157, train_loss: 0.9957\n",
            "100/157, train_loss: 0.9885\n",
            "101/157, train_loss: 0.9887\n",
            "102/157, train_loss: 1.0262\n",
            "103/157, train_loss: 0.9681\n",
            "104/157, train_loss: 0.9698\n",
            "105/157, train_loss: 0.9973\n",
            "106/157, train_loss: 1.0100\n",
            "107/157, train_loss: 0.9350\n",
            "108/157, train_loss: 0.9512\n",
            "109/157, train_loss: 0.9462\n",
            "110/157, train_loss: 0.9456\n",
            "111/157, train_loss: 0.9834\n",
            "112/157, train_loss: 0.9020\n",
            "113/157, train_loss: 0.9227\n",
            "114/157, train_loss: 0.9172\n",
            "115/157, train_loss: 0.8842\n",
            "116/157, train_loss: 0.9547\n",
            "117/157, train_loss: 0.8900\n",
            "118/157, train_loss: 0.9321\n",
            "119/157, train_loss: 0.8959\n",
            "120/157, train_loss: 0.8805\n",
            "121/157, train_loss: 0.9574\n",
            "122/157, train_loss: 0.8683\n",
            "123/157, train_loss: 0.9082\n",
            "124/157, train_loss: 0.8754\n",
            "125/157, train_loss: 0.8453\n",
            "126/157, train_loss: 0.8755\n",
            "127/157, train_loss: 0.8391\n",
            "128/157, train_loss: 0.8582\n",
            "129/157, train_loss: 0.8961\n",
            "130/157, train_loss: 0.8680\n",
            "131/157, train_loss: 0.8029\n",
            "132/157, train_loss: 0.7965\n",
            "133/157, train_loss: 0.7999\n",
            "134/157, train_loss: 0.8024\n",
            "135/157, train_loss: 0.8588\n",
            "136/157, train_loss: 0.8081\n",
            "137/157, train_loss: 0.8147\n",
            "138/157, train_loss: 0.7845\n",
            "139/157, train_loss: 0.7931\n",
            "140/157, train_loss: 0.8116\n",
            "141/157, train_loss: 0.7656\n",
            "142/157, train_loss: 0.7843\n",
            "143/157, train_loss: 0.7930\n",
            "144/157, train_loss: 0.8093\n",
            "145/157, train_loss: 0.7259\n",
            "146/157, train_loss: 0.7834\n",
            "147/157, train_loss: 0.7657\n",
            "148/157, train_loss: 0.7585\n",
            "149/157, train_loss: 0.7599\n",
            "150/157, train_loss: 0.7426\n",
            "151/157, train_loss: 0.7717\n",
            "152/157, train_loss: 0.7637\n",
            "153/157, train_loss: 0.7356\n",
            "154/157, train_loss: 0.7520\n",
            "155/157, train_loss: 0.7479\n",
            "156/157, train_loss: 0.7351\n",
            "157/157, train_loss: 0.7447\n",
            "158/157, train_loss: 0.7281\n",
            "epoch 1 average loss: 1.1868\n",
            "saved new best metric model\n",
            "current epoch: 1 current AUC: 0.9915 current accuracy: 0.9310 best AUC: 0.9915 at epoch: 1\n",
            "----------\n",
            "epoch 2/4\n",
            "1/157, train_loss: 0.7025\n",
            "2/157, train_loss: 0.6837\n",
            "3/157, train_loss: 0.7275\n",
            "4/157, train_loss: 0.6955\n",
            "5/157, train_loss: 0.7442\n",
            "6/157, train_loss: 0.6617\n",
            "7/157, train_loss: 0.7099\n",
            "8/157, train_loss: 0.6922\n",
            "9/157, train_loss: 0.6938\n",
            "10/157, train_loss: 0.6914\n",
            "11/157, train_loss: 0.6633\n",
            "12/157, train_loss: 0.6882\n",
            "13/157, train_loss: 0.6534\n",
            "14/157, train_loss: 0.6444\n",
            "15/157, train_loss: 0.6694\n",
            "16/157, train_loss: 0.6227\n",
            "17/157, train_loss: 0.6352\n",
            "18/157, train_loss: 0.6679\n",
            "19/157, train_loss: 0.6549\n",
            "20/157, train_loss: 0.6659\n",
            "21/157, train_loss: 0.5991\n",
            "22/157, train_loss: 0.6212\n",
            "23/157, train_loss: 0.5975\n",
            "24/157, train_loss: 0.5970\n",
            "25/157, train_loss: 0.6400\n",
            "26/157, train_loss: 0.6237\n",
            "27/157, train_loss: 0.6277\n",
            "28/157, train_loss: 0.5900\n",
            "29/157, train_loss: 0.6159\n",
            "30/157, train_loss: 0.5785\n",
            "31/157, train_loss: 0.5645\n",
            "32/157, train_loss: 0.6155\n",
            "33/157, train_loss: 0.5975\n",
            "34/157, train_loss: 0.5874\n",
            "35/157, train_loss: 0.5853\n",
            "36/157, train_loss: 0.5992\n",
            "37/157, train_loss: 0.5641\n",
            "38/157, train_loss: 0.6078\n",
            "39/157, train_loss: 0.5735\n",
            "40/157, train_loss: 0.5584\n",
            "41/157, train_loss: 0.5713\n",
            "42/157, train_loss: 0.5973\n",
            "43/157, train_loss: 0.5284\n",
            "44/157, train_loss: 0.5374\n",
            "45/157, train_loss: 0.5144\n",
            "46/157, train_loss: 0.5469\n",
            "47/157, train_loss: 0.5362\n",
            "48/157, train_loss: 0.5169\n",
            "49/157, train_loss: 0.5321\n",
            "50/157, train_loss: 0.5495\n",
            "51/157, train_loss: 0.5344\n",
            "52/157, train_loss: 0.5558\n",
            "53/157, train_loss: 0.5218\n",
            "54/157, train_loss: 0.5486\n",
            "55/157, train_loss: 0.5330\n",
            "56/157, train_loss: 0.4884\n",
            "57/157, train_loss: 0.5574\n",
            "58/157, train_loss: 0.5162\n",
            "59/157, train_loss: 0.5118\n",
            "60/157, train_loss: 0.5277\n",
            "61/157, train_loss: 0.4854\n",
            "62/157, train_loss: 0.4873\n",
            "63/157, train_loss: 0.4770\n",
            "64/157, train_loss: 0.4884\n",
            "65/157, train_loss: 0.4884\n",
            "66/157, train_loss: 0.4837\n",
            "67/157, train_loss: 0.5106\n",
            "68/157, train_loss: 0.4616\n",
            "69/157, train_loss: 0.5327\n",
            "70/157, train_loss: 0.4735\n",
            "71/157, train_loss: 0.4601\n",
            "72/157, train_loss: 0.4722\n",
            "73/157, train_loss: 0.4926\n",
            "74/157, train_loss: 0.4866\n",
            "75/157, train_loss: 0.4809\n",
            "76/157, train_loss: 0.4388\n",
            "77/157, train_loss: 0.4575\n",
            "78/157, train_loss: 0.4444\n",
            "79/157, train_loss: 0.4333\n",
            "80/157, train_loss: 0.4819\n",
            "81/157, train_loss: 0.4635\n",
            "82/157, train_loss: 0.4649\n",
            "83/157, train_loss: 0.4736\n",
            "84/157, train_loss: 0.4572\n",
            "85/157, train_loss: 0.4638\n",
            "86/157, train_loss: 0.4418\n",
            "87/157, train_loss: 0.4382\n",
            "88/157, train_loss: 0.4387\n",
            "89/157, train_loss: 0.4835\n",
            "90/157, train_loss: 0.4247\n",
            "91/157, train_loss: 0.4425\n",
            "92/157, train_loss: 0.4394\n",
            "93/157, train_loss: 0.4399\n",
            "94/157, train_loss: 0.4268\n",
            "95/157, train_loss: 0.3940\n",
            "96/157, train_loss: 0.4012\n",
            "97/157, train_loss: 0.4496\n",
            "98/157, train_loss: 0.4223\n",
            "99/157, train_loss: 0.4247\n",
            "100/157, train_loss: 0.3898\n",
            "101/157, train_loss: 0.4107\n",
            "102/157, train_loss: 0.4143\n",
            "103/157, train_loss: 0.3922\n",
            "104/157, train_loss: 0.4059\n",
            "105/157, train_loss: 0.4033\n",
            "106/157, train_loss: 0.3969\n",
            "107/157, train_loss: 0.4407\n",
            "108/157, train_loss: 0.4221\n",
            "109/157, train_loss: 0.3845\n",
            "110/157, train_loss: 0.3784\n",
            "111/157, train_loss: 0.3586\n",
            "112/157, train_loss: 0.3966\n",
            "113/157, train_loss: 0.3549\n",
            "114/157, train_loss: 0.4268\n",
            "115/157, train_loss: 0.3536\n",
            "116/157, train_loss: 0.3904\n",
            "117/157, train_loss: 0.3895\n",
            "118/157, train_loss: 0.4376\n",
            "119/157, train_loss: 0.3814\n",
            "120/157, train_loss: 0.4150\n",
            "121/157, train_loss: 0.3474\n",
            "122/157, train_loss: 0.3828\n",
            "123/157, train_loss: 0.3643\n",
            "124/157, train_loss: 0.3736\n",
            "125/157, train_loss: 0.3699\n",
            "126/157, train_loss: 0.4113\n",
            "127/157, train_loss: 0.3328\n",
            "128/157, train_loss: 0.3518\n",
            "129/157, train_loss: 0.3290\n",
            "130/157, train_loss: 0.3577\n",
            "131/157, train_loss: 0.3396\n",
            "132/157, train_loss: 0.3816\n",
            "133/157, train_loss: 0.3452\n",
            "134/157, train_loss: 0.3416\n",
            "135/157, train_loss: 0.3702\n",
            "136/157, train_loss: 0.3555\n",
            "137/157, train_loss: 0.3653\n",
            "138/157, train_loss: 0.3100\n",
            "139/157, train_loss: 0.3489\n",
            "140/157, train_loss: 0.3370\n",
            "141/157, train_loss: 0.3306\n",
            "142/157, train_loss: 0.3403\n",
            "143/157, train_loss: 0.3474\n",
            "144/157, train_loss: 0.3512\n",
            "145/157, train_loss: 0.3418\n",
            "146/157, train_loss: 0.3211\n",
            "147/157, train_loss: 0.3183\n",
            "148/157, train_loss: 0.3553\n",
            "149/157, train_loss: 0.3408\n",
            "150/157, train_loss: 0.3264\n",
            "151/157, train_loss: 0.3332\n",
            "152/157, train_loss: 0.3319\n",
            "153/157, train_loss: 0.3479\n",
            "154/157, train_loss: 0.3380\n",
            "155/157, train_loss: 0.3505\n",
            "156/157, train_loss: 0.3098\n",
            "157/157, train_loss: 0.3332\n",
            "158/157, train_loss: 0.3246\n",
            "epoch 2 average loss: 0.4789\n",
            "saved new best metric model\n",
            "current epoch: 2 current AUC: 0.9978 current accuracy: 0.9634 best AUC: 0.9978 at epoch: 2\n",
            "----------\n",
            "epoch 3/4\n",
            "1/157, train_loss: 0.3228\n",
            "2/157, train_loss: 0.2943\n",
            "3/157, train_loss: 0.3243\n",
            "4/157, train_loss: 0.3465\n",
            "5/157, train_loss: 0.3224\n",
            "6/157, train_loss: 0.3101\n",
            "7/157, train_loss: 0.3027\n",
            "8/157, train_loss: 0.3248\n",
            "9/157, train_loss: 0.3123\n",
            "10/157, train_loss: 0.3178\n",
            "11/157, train_loss: 0.3137\n",
            "12/157, train_loss: 0.3145\n",
            "13/157, train_loss: 0.2834\n",
            "14/157, train_loss: 0.2761\n",
            "15/157, train_loss: 0.2994\n",
            "16/157, train_loss: 0.3418\n",
            "17/157, train_loss: 0.2907\n",
            "18/157, train_loss: 0.3038\n",
            "19/157, train_loss: 0.3112\n",
            "20/157, train_loss: 0.2735\n",
            "21/157, train_loss: 0.2826\n",
            "22/157, train_loss: 0.2988\n",
            "23/157, train_loss: 0.2673\n",
            "24/157, train_loss: 0.3019\n",
            "25/157, train_loss: 0.2748\n",
            "26/157, train_loss: 0.2699\n",
            "27/157, train_loss: 0.2932\n",
            "28/157, train_loss: 0.2673\n",
            "29/157, train_loss: 0.2567\n",
            "30/157, train_loss: 0.2976\n",
            "31/157, train_loss: 0.2787\n",
            "32/157, train_loss: 0.3092\n",
            "33/157, train_loss: 0.2688\n",
            "34/157, train_loss: 0.2525\n",
            "35/157, train_loss: 0.2778\n",
            "36/157, train_loss: 0.2825\n",
            "37/157, train_loss: 0.2832\n",
            "38/157, train_loss: 0.2940\n",
            "39/157, train_loss: 0.2718\n",
            "40/157, train_loss: 0.2836\n",
            "41/157, train_loss: 0.2363\n",
            "42/157, train_loss: 0.2599\n",
            "43/157, train_loss: 0.2901\n",
            "44/157, train_loss: 0.2561\n",
            "45/157, train_loss: 0.2632\n",
            "46/157, train_loss: 0.3070\n",
            "47/157, train_loss: 0.2564\n",
            "48/157, train_loss: 0.2469\n",
            "49/157, train_loss: 0.2751\n",
            "50/157, train_loss: 0.2740\n",
            "51/157, train_loss: 0.2338\n",
            "52/157, train_loss: 0.2587\n",
            "53/157, train_loss: 0.2492\n",
            "54/157, train_loss: 0.2408\n",
            "55/157, train_loss: 0.2719\n",
            "56/157, train_loss: 0.2588\n",
            "57/157, train_loss: 0.2474\n",
            "58/157, train_loss: 0.2409\n",
            "59/157, train_loss: 0.2593\n",
            "60/157, train_loss: 0.2709\n",
            "61/157, train_loss: 0.2340\n",
            "62/157, train_loss: 0.2567\n",
            "63/157, train_loss: 0.2756\n",
            "64/157, train_loss: 0.2459\n",
            "65/157, train_loss: 0.2405\n",
            "66/157, train_loss: 0.2477\n",
            "67/157, train_loss: 0.2583\n",
            "68/157, train_loss: 0.2372\n",
            "69/157, train_loss: 0.2405\n",
            "70/157, train_loss: 0.2506\n",
            "71/157, train_loss: 0.2221\n",
            "72/157, train_loss: 0.2603\n",
            "73/157, train_loss: 0.2436\n",
            "74/157, train_loss: 0.2359\n",
            "75/157, train_loss: 0.2433\n",
            "76/157, train_loss: 0.2299\n",
            "77/157, train_loss: 0.2211\n",
            "78/157, train_loss: 0.2195\n",
            "79/157, train_loss: 0.2027\n",
            "80/157, train_loss: 0.2577\n",
            "81/157, train_loss: 0.2205\n",
            "82/157, train_loss: 0.2085\n",
            "83/157, train_loss: 0.2393\n",
            "84/157, train_loss: 0.2386\n",
            "85/157, train_loss: 0.2519\n",
            "86/157, train_loss: 0.2318\n",
            "87/157, train_loss: 0.2354\n",
            "88/157, train_loss: 0.2449\n",
            "89/157, train_loss: 0.2241\n",
            "90/157, train_loss: 0.2269\n",
            "91/157, train_loss: 0.1954\n",
            "92/157, train_loss: 0.1971\n",
            "93/157, train_loss: 0.2050\n",
            "94/157, train_loss: 0.2189\n",
            "95/157, train_loss: 0.2264\n",
            "96/157, train_loss: 0.2180\n",
            "97/157, train_loss: 0.2313\n",
            "98/157, train_loss: 0.2256\n",
            "99/157, train_loss: 0.1917\n",
            "100/157, train_loss: 0.1980\n",
            "101/157, train_loss: 0.1977\n",
            "102/157, train_loss: 0.2187\n",
            "103/157, train_loss: 0.2142\n",
            "104/157, train_loss: 0.2185\n",
            "105/157, train_loss: 0.2036\n",
            "106/157, train_loss: 0.2178\n",
            "107/157, train_loss: 0.2132\n",
            "108/157, train_loss: 0.2145\n",
            "109/157, train_loss: 0.1894\n",
            "110/157, train_loss: 0.2173\n",
            "111/157, train_loss: 0.2207\n",
            "112/157, train_loss: 0.2108\n",
            "113/157, train_loss: 0.2105\n",
            "114/157, train_loss: 0.2043\n",
            "115/157, train_loss: 0.2051\n",
            "116/157, train_loss: 0.1806\n",
            "117/157, train_loss: 0.2161\n",
            "118/157, train_loss: 0.2346\n",
            "119/157, train_loss: 0.1911\n",
            "120/157, train_loss: 0.1889\n",
            "121/157, train_loss: 0.1940\n",
            "122/157, train_loss: 0.1960\n",
            "123/157, train_loss: 0.2283\n",
            "124/157, train_loss: 0.2026\n",
            "125/157, train_loss: 0.1956\n",
            "126/157, train_loss: 0.1765\n",
            "127/157, train_loss: 0.1930\n",
            "128/157, train_loss: 0.2072\n",
            "129/157, train_loss: 0.1972\n",
            "130/157, train_loss: 0.1961\n",
            "131/157, train_loss: 0.1937\n",
            "132/157, train_loss: 0.2181\n",
            "133/157, train_loss: 0.1876\n",
            "134/157, train_loss: 0.1659\n",
            "135/157, train_loss: 0.1893\n",
            "136/157, train_loss: 0.1858\n",
            "137/157, train_loss: 0.1676\n",
            "138/157, train_loss: 0.1965\n",
            "139/157, train_loss: 0.1989\n",
            "140/157, train_loss: 0.1863\n",
            "141/157, train_loss: 0.1872\n",
            "142/157, train_loss: 0.1847\n",
            "143/157, train_loss: 0.2109\n",
            "144/157, train_loss: 0.1922\n",
            "145/157, train_loss: 0.1884\n",
            "146/157, train_loss: 0.1704\n",
            "147/157, train_loss: 0.2006\n",
            "148/157, train_loss: 0.1733\n",
            "149/157, train_loss: 0.1876\n",
            "150/157, train_loss: 0.1942\n",
            "151/157, train_loss: 0.1812\n",
            "152/157, train_loss: 0.1877\n",
            "153/157, train_loss: 0.1991\n",
            "154/157, train_loss: 0.1967\n",
            "155/157, train_loss: 0.1785\n",
            "156/157, train_loss: 0.1752\n",
            "157/157, train_loss: 0.1726\n",
            "158/157, train_loss: 0.1552\n",
            "epoch 3 average loss: 0.2381\n",
            "saved new best metric model\n",
            "current epoch: 3 current AUC: 0.9993 current accuracy: 0.9785 best AUC: 0.9993 at epoch: 3\n",
            "----------\n",
            "epoch 4/4\n",
            "1/157, train_loss: 0.1580\n",
            "2/157, train_loss: 0.1738\n",
            "3/157, train_loss: 0.1738\n",
            "4/157, train_loss: 0.1628\n",
            "5/157, train_loss: 0.1806\n",
            "6/157, train_loss: 0.1664\n",
            "7/157, train_loss: 0.1824\n",
            "8/157, train_loss: 0.1665\n",
            "9/157, train_loss: 0.1785\n",
            "10/157, train_loss: 0.1937\n",
            "11/157, train_loss: 0.1750\n",
            "12/157, train_loss: 0.1507\n",
            "13/157, train_loss: 0.2091\n",
            "14/157, train_loss: 0.1540\n",
            "15/157, train_loss: 0.1659\n",
            "16/157, train_loss: 0.1734\n",
            "17/157, train_loss: 0.1726\n",
            "18/157, train_loss: 0.1877\n",
            "19/157, train_loss: 0.1910\n",
            "20/157, train_loss: 0.1622\n",
            "21/157, train_loss: 0.1487\n",
            "22/157, train_loss: 0.1647\n",
            "23/157, train_loss: 0.1642\n",
            "24/157, train_loss: 0.1778\n",
            "25/157, train_loss: 0.1635\n",
            "26/157, train_loss: 0.1548\n",
            "27/157, train_loss: 0.1601\n",
            "28/157, train_loss: 0.1829\n",
            "29/157, train_loss: 0.1678\n",
            "30/157, train_loss: 0.1596\n",
            "31/157, train_loss: 0.1738\n",
            "32/157, train_loss: 0.1500\n",
            "33/157, train_loss: 0.1918\n",
            "34/157, train_loss: 0.1644\n",
            "35/157, train_loss: 0.1578\n",
            "36/157, train_loss: 0.1500\n",
            "37/157, train_loss: 0.1514\n",
            "38/157, train_loss: 0.1731\n",
            "39/157, train_loss: 0.1569\n",
            "40/157, train_loss: 0.1616\n",
            "41/157, train_loss: 0.1570\n",
            "42/157, train_loss: 0.1461\n",
            "43/157, train_loss: 0.1607\n",
            "44/157, train_loss: 0.1522\n",
            "45/157, train_loss: 0.1500\n",
            "46/157, train_loss: 0.1538\n",
            "47/157, train_loss: 0.1697\n",
            "48/157, train_loss: 0.1929\n",
            "49/157, train_loss: 0.1382\n",
            "50/157, train_loss: 0.1289\n",
            "51/157, train_loss: 0.1440\n",
            "52/157, train_loss: 0.1553\n",
            "53/157, train_loss: 0.1564\n",
            "54/157, train_loss: 0.1622\n",
            "55/157, train_loss: 0.1491\n",
            "56/157, train_loss: 0.1765\n",
            "57/157, train_loss: 0.1630\n",
            "58/157, train_loss: 0.1590\n",
            "59/157, train_loss: 0.1463\n",
            "60/157, train_loss: 0.1902\n",
            "61/157, train_loss: 0.1296\n",
            "62/157, train_loss: 0.1804\n",
            "63/157, train_loss: 0.1614\n",
            "64/157, train_loss: 0.1548\n",
            "65/157, train_loss: 0.1438\n",
            "66/157, train_loss: 0.1305\n",
            "67/157, train_loss: 0.1503\n",
            "68/157, train_loss: 0.1288\n",
            "69/157, train_loss: 0.1597\n",
            "70/157, train_loss: 0.1440\n",
            "71/157, train_loss: 0.1467\n",
            "72/157, train_loss: 0.1393\n",
            "73/157, train_loss: 0.1317\n",
            "74/157, train_loss: 0.1559\n",
            "75/157, train_loss: 0.1320\n",
            "76/157, train_loss: 0.1330\n",
            "77/157, train_loss: 0.1388\n",
            "78/157, train_loss: 0.1619\n",
            "79/157, train_loss: 0.1382\n",
            "80/157, train_loss: 0.1436\n",
            "81/157, train_loss: 0.1691\n",
            "82/157, train_loss: 0.1530\n",
            "83/157, train_loss: 0.1306\n",
            "84/157, train_loss: 0.1523\n",
            "85/157, train_loss: 0.1238\n",
            "86/157, train_loss: 0.1367\n",
            "87/157, train_loss: 0.1528\n",
            "88/157, train_loss: 0.1456\n",
            "89/157, train_loss: 0.1453\n",
            "90/157, train_loss: 0.1366\n",
            "91/157, train_loss: 0.1292\n",
            "92/157, train_loss: 0.1579\n",
            "93/157, train_loss: 0.1089\n",
            "94/157, train_loss: 0.1358\n",
            "95/157, train_loss: 0.1255\n",
            "96/157, train_loss: 0.1528\n",
            "97/157, train_loss: 0.1358\n",
            "98/157, train_loss: 0.1257\n",
            "99/157, train_loss: 0.1343\n",
            "100/157, train_loss: 0.1430\n",
            "101/157, train_loss: 0.1188\n",
            "102/157, train_loss: 0.1347\n",
            "103/157, train_loss: 0.1206\n",
            "104/157, train_loss: 0.1242\n",
            "105/157, train_loss: 0.1422\n",
            "106/157, train_loss: 0.1089\n",
            "107/157, train_loss: 0.1189\n",
            "108/157, train_loss: 0.1340\n",
            "109/157, train_loss: 0.1334\n",
            "110/157, train_loss: 0.1427\n",
            "111/157, train_loss: 0.1706\n",
            "112/157, train_loss: 0.1164\n",
            "113/157, train_loss: 0.1236\n",
            "114/157, train_loss: 0.1318\n",
            "115/157, train_loss: 0.1292\n",
            "116/157, train_loss: 0.1140\n",
            "117/157, train_loss: 0.1409\n",
            "118/157, train_loss: 0.1404\n",
            "119/157, train_loss: 0.1549\n",
            "120/157, train_loss: 0.1291\n",
            "121/157, train_loss: 0.1426\n",
            "122/157, train_loss: 0.1335\n",
            "123/157, train_loss: 0.1554\n",
            "124/157, train_loss: 0.1320\n",
            "125/157, train_loss: 0.1154\n",
            "126/157, train_loss: 0.1341\n",
            "127/157, train_loss: 0.1346\n",
            "128/157, train_loss: 0.1165\n",
            "129/157, train_loss: 0.1255\n",
            "130/157, train_loss: 0.1452\n",
            "131/157, train_loss: 0.1185\n",
            "132/157, train_loss: 0.1362\n",
            "133/157, train_loss: 0.1186\n",
            "134/157, train_loss: 0.1211\n",
            "135/157, train_loss: 0.1216\n",
            "136/157, train_loss: 0.1419\n",
            "137/157, train_loss: 0.1375\n",
            "138/157, train_loss: 0.1374\n",
            "139/157, train_loss: 0.1123\n",
            "140/157, train_loss: 0.1128\n",
            "141/157, train_loss: 0.1305\n",
            "142/157, train_loss: 0.1139\n",
            "143/157, train_loss: 0.1172\n",
            "144/157, train_loss: 0.1199\n",
            "145/157, train_loss: 0.1151\n",
            "146/157, train_loss: 0.1404\n",
            "147/157, train_loss: 0.1117\n",
            "148/157, train_loss: 0.1062\n",
            "149/157, train_loss: 0.1094\n",
            "150/157, train_loss: 0.1328\n",
            "151/157, train_loss: 0.1142\n",
            "152/157, train_loss: 0.1248\n",
            "153/157, train_loss: 0.1143\n",
            "154/157, train_loss: 0.1306\n",
            "155/157, train_loss: 0.1001\n",
            "156/157, train_loss: 0.1263\n",
            "157/157, train_loss: 0.1217\n",
            "158/157, train_loss: 0.1371\n",
            "epoch 4 average loss: 0.1455\n",
            "saved new best metric model\n",
            "current epoch: 4 current AUC: 0.9997 current accuracy: 0.9846 best AUC: 0.9997 at epoch: 4\n",
            "train completed, best_metric: 0.9997 at epoch: 4\n"
          ]
        }
      ],
      "source": [
        "best_metric = -1\n",
        "best_metric_epoch = -1\n",
        "epoch_loss_values = []\n",
        "metric_values = []\n",
        "\n",
        "for epoch in range(max_epochs):\n",
        "    print(\"-\" * 10)\n",
        "    print(f\"epoch {epoch + 1}/{max_epochs}\")\n",
        "    model.train()\n",
        "    epoch_loss = 0\n",
        "    step = 0\n",
        "    for batch_data in train_loader:\n",
        "        step += 1\n",
        "        inputs, labels = batch_data[0].to(device), batch_data[1].to(device)\n",
        "        optimizer.zero_grad()\n",
        "        outputs = model(inputs)\n",
        "        loss = loss_function(outputs, labels)\n",
        "        loss.backward()\n",
        "        optimizer.step()\n",
        "        epoch_loss += loss.item()\n",
        "        print(f\"{step}/{len(train_ds) // train_loader.batch_size}, \" f\"train_loss: {loss.item():.4f}\")\n",
        "        epoch_len = len(train_ds) // train_loader.batch_size\n",
        "    epoch_loss /= step\n",
        "    epoch_loss_values.append(epoch_loss)\n",
        "    print(f\"epoch {epoch + 1} average loss: {epoch_loss:.4f}\")\n",
        "\n",
        "    if (epoch + 1) % val_interval == 0:\n",
        "        model.eval()\n",
        "        with torch.no_grad():\n",
        "            y_pred = torch.tensor([], dtype=torch.float32, device=device)\n",
        "            y = torch.tensor([], dtype=torch.long, device=device)\n",
        "            for val_data in val_loader:\n",
        "                val_images, val_labels = (\n",
        "                    val_data[0].to(device),\n",
        "                    val_data[1].to(device),\n",
        "                )\n",
        "                y_pred = torch.cat([y_pred, model(val_images)], dim=0)\n",
        "                y = torch.cat([y, val_labels], dim=0)\n",
        "            y_onehot = [y_trans(i) for i in decollate_batch(y, detach=False)]\n",
        "            y_pred_act = [y_pred_trans(i) for i in decollate_batch(y_pred)]\n",
        "            auc_metric(y_pred_act, y_onehot)\n",
        "            result = auc_metric.aggregate()\n",
        "            auc_metric.reset()\n",
        "            del y_pred_act, y_onehot\n",
        "            metric_values.append(result)\n",
        "            acc_value = torch.eq(y_pred.argmax(dim=1), y)\n",
        "            acc_metric = acc_value.sum().item() / len(acc_value)\n",
        "            if result > best_metric:\n",
        "                best_metric = result\n",
        "                best_metric_epoch = epoch + 1\n",
        "                torch.save(model.state_dict(), os.path.join(root_dir, \"best_metric_model.pth\"))\n",
        "                print(\"saved new best metric model\")\n",
        "            print(\n",
        "                f\"current epoch: {epoch + 1} current AUC: {result:.4f}\"\n",
        "                f\" current accuracy: {acc_metric:.4f}\"\n",
        "                f\" best AUC: {best_metric:.4f}\"\n",
        "                f\" at epoch: {best_metric_epoch}\"\n",
        "            )\n",
        "\n",
        "print(f\"train completed, best_metric: {best_metric:.4f} \" f\"at epoch: {best_metric_epoch}\")"
      ]
    },
    {
      "cell_type": "markdown",
      "metadata": {
        "id": "vU2-zMZkNmLL"
      },
      "source": [
        "## Plot the loss and metric"
      ]
    },
    {
      "cell_type": "code",
      "execution_count": 18,
      "metadata": {
        "id": "lCt5WeGbNmLL",
        "outputId": "92822719-7143-4b56-876c-46e9688320d3",
        "colab": {
          "base_uri": "https://localhost:8080/",
          "height": 564
        }
      },
      "outputs": [
        {
          "output_type": "display_data",
          "data": {
            "text/plain": [
              "<Figure size 1200x600 with 2 Axes>"
            ],
            "image/png": "[encoded data removed]"
          },
          "metadata": {}
        }
      ],
      "source": [
        "plt.figure(\"train\", (12, 6))\n",
        "plt.subplot(1, 2, 1)\n",
        "plt.title(\"Epoch Average Loss\")\n",
        "x = [i + 1 for i in range(len(epoch_loss_values))]\n",
        "y = epoch_loss_values\n",
        "plt.xlabel(\"epoch\")\n",
        "plt.plot(x, y)\n",
        "plt.subplot(1, 2, 2)\n",
        "plt.title(\"Val AUC\")\n",
        "x = [val_interval * (i + 1) for i in range(len(metric_values))]\n",
        "y = metric_values\n",
        "plt.xlabel(\"epoch\")\n",
        "plt.plot(x, y)\n",
        "plt.show()"
      ]
    },
    {
      "cell_type": "markdown",
      "metadata": {
        "id": "LHVssie5NmLL"
      },
      "source": [
        "## Evaluate the model on test dataset\n",
        "\n",
        "After training and validation, we already got the best model on validation test.  \n",
        "We need to evaluate the model on test dataset to check whether it's robust and not over-fitting.  \n",
        "We'll use these predictions to generate a classification report."
      ]
    },
    {
      "cell_type": "code",
      "execution_count": 19,
      "metadata": {
        "id": "QI_bJo4fNmLL"
      },
      "outputs": [],
      "source": [
        "model.load_state_dict(torch.load(os.path.join(root_dir, \"best_metric_model.pth\")))\n",
        "model.eval()\n",
        "y_true = []\n",
        "y_pred = []\n",
        "with torch.no_grad():\n",
        "  for test_data in test_loader:\n",
        "        test_images, test_labels = (\n",
        "            test_data[0].to(device),\n",
        "            test_data[1].to(device),\n",
        "        )\n",
        "        pred = model(test_images).argmax(dim=1)\n",
        "        for i in range(len(pred)):\n",
        "            y_true.append(test_labels[i].item())\n",
        "            y_pred.append(pred[i].item())"
      ]
    },
    {
      "cell_type": "code",
      "execution_count": 20,
      "metadata": {
        "tags": [],
        "id": "DnIZYDrGNmLL",
        "outputId": "cff7ae09-17f1-4462-ce18-f16272343d4a",
        "colab": {
          "base_uri": "https://localhost:8080/"
        }
      },
      "outputs": [
        {
          "output_type": "stream",
          "name": "stdout",
          "text": [
            "              precision    recall  f1-score   support\n",
            "\n",
            "   AbdomenCT     0.9727    0.9678    0.9703       995\n",
            "   BreastMRI     0.9819    0.9841    0.9830       880\n",
            "         CXR     0.9979    0.9888    0.9934       982\n",
            "     ChestCT     0.9826    1.0000    0.9912      1014\n",
            "        Hand     0.9895    0.9885    0.9890      1048\n",
            "      HeadCT     0.9732    0.9682    0.9707       976\n",
            "\n",
            "    accuracy                         0.9830      5895\n",
            "   macro avg     0.9830    0.9829    0.9829      5895\n",
            "weighted avg     0.9830    0.9830    0.9830      5895\n",
            "\n"
          ]
        }
      ],
      "source": [
        "print(classification_report(y_true, y_pred, target_names=class_names, digits=4))"
      ]
    },
    {
      "cell_type": "markdown",
      "source": [
        "# Save Experiment Data on GDrive"
      ],
      "metadata": {
        "id": "kOC1xmM6Wrv9"
      }
    },
    {
      "cell_type": "code",
      "source": [
        "dataset_name = 'MedNIST'\n",
        "model_name = \"DenseNet121\"\n",
        "\n",
        "# param_str = \"\"\n",
        "param_str = \"growth_rate:16\""
      ],
      "metadata": {
        "id": "GSyJZy3uKFT1"
      },
      "execution_count": 15,
      "outputs": []
    },
    {
      "cell_type": "code",
      "source": [
        "experiment_save_root = save_root / dataset_name / model_name"
      ],
      "metadata": {
        "id": "hWubGHqQDfQB"
      },
      "execution_count": 16,
      "outputs": []
    },
    {
      "cell_type": "markdown",
      "source": [
        "Save trained model"
      ],
      "metadata": {
        "id": "VMlMX5QrC78r"
      }
    },
    {
      "cell_type": "code",
      "source": [
        "import shutil\n",
        "\n",
        "# Define the source and destination paths\n",
        "src_path = str(os.path.join(root_dir, \"best_metric_model.pth\"))\n",
        "\n",
        "dst_path = experiment_save_root / f\"best_metric_model({param_str}).pth\"\n",
        "dst_path.parent.mkdir(parents=True, exist_ok=True)\n",
        "\n",
        "print(src_path)\n",
        "print(dst_path)\n",
        "# Copy the file to the destination\n",
        "shutil.copy(src_path, str(dst_path))"
      ],
      "metadata": {
        "colab": {
          "base_uri": "https://localhost:8080/",
          "height": 397
        },
        "id": "kmCF7QlkWzol",
        "outputId": "afcf2c57-7cc1-4bf3-fc60-86f2fa3dbf52"
      },
      "execution_count": 17,
      "outputs": [
        {
          "output_type": "stream",
          "name": "stdout",
          "text": [
            "/content/best_metric_model.pth\n",
            "/content/gdrive/MyDrive/starCAManim/MedNIST/DenseNet121/best_metric_model(growth_rate:16).pth\n"
          ]
        },
        {
          "output_type": "error",
          "ename": "FileNotFoundError",
          "evalue": "ignored",
          "traceback": [
            "\u001b[0;31m---------------------------------------------------------------------------\u001b[0m",
            "\u001b[0;31mFileNotFoundError\u001b[0m                         Traceback (most recent call last)",
            "\u001b[0;32m<ipython-input-17-6500a5975118>\u001b[0m in \u001b[0;36m<cell line: 12>\u001b[0;34m()\u001b[0m\n\u001b[1;32m     10\u001b[0m \u001b[0mprint\u001b[0m\u001b[0;34m(\u001b[0m\u001b[0mdst_path\u001b[0m\u001b[0;34m)\u001b[0m\u001b[0;34m\u001b[0m\u001b[0;34m\u001b[0m\u001b[0m\n\u001b[1;32m     11\u001b[0m \u001b[0;31m# Copy the file to the destination\u001b[0m\u001b[0;34m\u001b[0m\u001b[0;34m\u001b[0m\u001b[0m\n\u001b[0;32m---> 12\u001b[0;31m \u001b[0mshutil\u001b[0m\u001b[0;34m.\u001b[0m\u001b[0mcopy\u001b[0m\u001b[0;34m(\u001b[0m\u001b[0msrc_path\u001b[0m\u001b[0;34m,\u001b[0m \u001b[0mstr\u001b[0m\u001b[0;34m(\u001b[0m\u001b[0mdst_path\u001b[0m\u001b[0;34m)\u001b[0m\u001b[0;34m)\u001b[0m\u001b[0;34m\u001b[0m\u001b[0;34m\u001b[0m\u001b[0m\n\u001b[0m",
            "\u001b[0;32m/usr/lib/python3.10/shutil.py\u001b[0m in \u001b[0;36mcopy\u001b[0;34m(src, dst, follow_symlinks)\u001b[0m\n\u001b[1;32m    415\u001b[0m     \u001b[0;32mif\u001b[0m \u001b[0mos\u001b[0m\u001b[0;34m.\u001b[0m\u001b[0mpath\u001b[0m\u001b[0;34m.\u001b[0m\u001b[0misdir\u001b[0m\u001b[0;34m(\u001b[0m\u001b[0mdst\u001b[0m\u001b[0;34m)\u001b[0m\u001b[0;34m:\u001b[0m\u001b[0;34m\u001b[0m\u001b[0;34m\u001b[0m\u001b[0m\n\u001b[1;32m    416\u001b[0m         \u001b[0mdst\u001b[0m \u001b[0;34m=\u001b[0m \u001b[0mos\u001b[0m\u001b[0;34m.\u001b[0m\u001b[0mpath\u001b[0m\u001b[0;34m.\u001b[0m\u001b[0mjoin\u001b[0m\u001b[0;34m(\u001b[0m\u001b[0mdst\u001b[0m\u001b[0;34m,\u001b[0m \u001b[0mos\u001b[0m\u001b[0;34m.\u001b[0m\u001b[0mpath\u001b[0m\u001b[0;34m.\u001b[0m\u001b[0mbasename\u001b[0m\u001b[0;34m(\u001b[0m\u001b[0msrc\u001b[0m\u001b[0;34m)\u001b[0m\u001b[0;34m)\u001b[0m\u001b[0;34m\u001b[0m\u001b[0;34m\u001b[0m\u001b[0m\n\u001b[0;32m--> 417\u001b[0;31m     \u001b[0mcopyfile\u001b[0m\u001b[0;34m(\u001b[0m\u001b[0msrc\u001b[0m\u001b[0;34m,\u001b[0m \u001b[0mdst\u001b[0m\u001b[0;34m,\u001b[0m \u001b[0mfollow_symlinks\u001b[0m\u001b[0;34m=\u001b[0m\u001b[0mfollow_symlinks\u001b[0m\u001b[0;34m)\u001b[0m\u001b[0;34m\u001b[0m\u001b[0;34m\u001b[0m\u001b[0m\n\u001b[0m\u001b[1;32m    418\u001b[0m     \u001b[0mcopymode\u001b[0m\u001b[0;34m(\u001b[0m\u001b[0msrc\u001b[0m\u001b[0;34m,\u001b[0m \u001b[0mdst\u001b[0m\u001b[0;34m,\u001b[0m \u001b[0mfollow_symlinks\u001b[0m\u001b[0;34m=\u001b[0m\u001b[0mfollow_symlinks\u001b[0m\u001b[0;34m)\u001b[0m\u001b[0;34m\u001b[0m\u001b[0;34m\u001b[0m\u001b[0m\n\u001b[1;32m    419\u001b[0m     \u001b[0;32mreturn\u001b[0m \u001b[0mdst\u001b[0m\u001b[0;34m\u001b[0m\u001b[0;34m\u001b[0m\u001b[0m\n",
            "\u001b[0;32m/usr/lib/python3.10/shutil.py\u001b[0m in \u001b[0;36mcopyfile\u001b[0;34m(src, dst, follow_symlinks)\u001b[0m\n\u001b[1;32m    252\u001b[0m         \u001b[0mos\u001b[0m\u001b[0;34m.\u001b[0m\u001b[0msymlink\u001b[0m\u001b[0;34m(\u001b[0m\u001b[0mos\u001b[0m\u001b[0;34m.\u001b[0m\u001b[0mreadlink\u001b[0m\u001b[0;34m(\u001b[0m\u001b[0msrc\u001b[0m\u001b[0;34m)\u001b[0m\u001b[0;34m,\u001b[0m \u001b[0mdst\u001b[0m\u001b[0;34m)\u001b[0m\u001b[0;34m\u001b[0m\u001b[0;34m\u001b[0m\u001b[0m\n\u001b[1;32m    253\u001b[0m     \u001b[0;32melse\u001b[0m\u001b[0;34m:\u001b[0m\u001b[0;34m\u001b[0m\u001b[0;34m\u001b[0m\u001b[0m\n\u001b[0;32m--> 254\u001b[0;31m         \u001b[0;32mwith\u001b[0m \u001b[0mopen\u001b[0m\u001b[0;34m(\u001b[0m\u001b[0msrc\u001b[0m\u001b[0;34m,\u001b[0m \u001b[0;34m'rb'\u001b[0m\u001b[0;34m)\u001b[0m \u001b[0;32mas\u001b[0m \u001b[0mfsrc\u001b[0m\u001b[0;34m:\u001b[0m\u001b[0;34m\u001b[0m\u001b[0;34m\u001b[0m\u001b[0m\n\u001b[0m\u001b[1;32m    255\u001b[0m             \u001b[0;32mtry\u001b[0m\u001b[0;34m:\u001b[0m\u001b[0;34m\u001b[0m\u001b[0;34m\u001b[0m\u001b[0m\n\u001b[1;32m    256\u001b[0m                 \u001b[0;32mwith\u001b[0m \u001b[0mopen\u001b[0m\u001b[0;34m(\u001b[0m\u001b[0mdst\u001b[0m\u001b[0;34m,\u001b[0m \u001b[0;34m'wb'\u001b[0m\u001b[0;34m)\u001b[0m \u001b[0;32mas\u001b[0m \u001b[0mfdst\u001b[0m\u001b[0;34m:\u001b[0m\u001b[0;34m\u001b[0m\u001b[0;34m\u001b[0m\u001b[0m\n",
            "\u001b[0;31mFileNotFoundError\u001b[0m: [Errno 2] No such file or directory: '/content/best_metric_model.pth'"
          ]
        }
      ]
    },
    {
      "cell_type": "markdown",
      "source": [
        "save data loaders\n",
        "\n",
        "\n",
        "this preserves the datasplits"
      ],
      "metadata": {
        "id": "z8q2OriPC9p7"
      }
    },
    {
      "cell_type": "code",
      "source": [
        "import pickle\n",
        "\n",
        "# Save the data loaders to pickle files\n",
        "with open(experiment_save_root / 'train_loader.pkl', 'wb') as f:\n",
        "    pickle.dump(train_loader, f)\n",
        "\n",
        "with open(experiment_save_root / 'val_loader.pkl', 'wb') as f:\n",
        "    pickle.dump(val_loader, f)\n",
        "\n",
        "with open(experiment_save_root / 'test_loader.pkl', 'wb') as f:\n",
        "    pickle.dump(test_loader, f)\n",
        "\n"
      ],
      "metadata": {
        "id": "DZ1uJCQzC3sL"
      },
      "execution_count": 18,
      "outputs": []
    },
    {
      "cell_type": "markdown",
      "source": [
        "# CAManim"
      ],
      "metadata": {
        "id": "olwGKpBHWHyH"
      }
    },
    {
      "cell_type": "markdown",
      "source": [
        "## Environment setup"
      ],
      "metadata": {
        "id": "IeXTvHOTWMxP"
      }
    },
    {
      "cell_type": "code",
      "source": [
        "!pwd"
      ],
      "metadata": {
        "colab": {
          "base_uri": "https://localhost:8080/"
        },
        "id": "iz8Xy-XFMrcr",
        "outputId": "8570ec0c-5632-4da0-a07d-0ad106729055"
      },
      "execution_count": 19,
      "outputs": [
        {
          "output_type": "stream",
          "name": "stdout",
          "text": [
            "/content\n"
          ]
        }
      ]
    },
    {
      "cell_type": "code",
      "source": [
        "!ffmpeg -version"
      ],
      "metadata": {
        "colab": {
          "base_uri": "https://localhost:8080/"
        },
        "id": "L4qytLcnWjb1",
        "outputId": "c4081cb5-6238-4aa2-99bb-147f0ddc09aa"
      },
      "execution_count": 20,
      "outputs": [
        {
          "output_type": "stream",
          "name": "stdout",
          "text": [
            "ffmpeg version 4.4.2-0ubuntu0.22.04.1 Copyright (c) 2000-2021 the FFmpeg developers\n",
            "built with gcc 11 (Ubuntu 11.2.0-19ubuntu1)\n",
            "configuration: --prefix=/usr --extra-version=0ubuntu0.22.04.1 --toolchain=hardened --libdir=/usr/lib/x86_64-linux-gnu --incdir=/usr/include/x86_64-linux-gnu --arch=amd64 --enable-gpl --disable-stripping --enable-gnutls --enable-ladspa --enable-libaom --enable-libass --enable-libbluray --enable-libbs2b --enable-libcaca --enable-libcdio --enable-libcodec2 --enable-libdav1d --enable-libflite --enable-libfontconfig --enable-libfreetype --enable-libfribidi --enable-libgme --enable-libgsm --enable-libjack --enable-libmp3lame --enable-libmysofa --enable-libopenjpeg --enable-libopenmpt --enable-libopus --enable-libpulse --enable-librabbitmq --enable-librubberband --enable-libshine --enable-libsnappy --enable-libsoxr --enable-libspeex --enable-libsrt --enable-libssh --enable-libtheora --enable-libtwolame --enable-libvidstab --enable-libvorbis --enable-libvpx --enable-libwebp --enable-libx265 --enable-libxml2 --enable-libxvid --enable-libzimg --enable-libzmq --enable-libzvbi --enable-lv2 --enable-omx --enable-openal --enable-opencl --enable-opengl --enable-sdl2 --enable-pocketsphinx --enable-librsvg --enable-libmfx --enable-libdc1394 --enable-libdrm --enable-libiec61883 --enable-chromaprint --enable-frei0r --enable-libx264 --enable-shared\n",
            "libavutil      56. 70.100 / 56. 70.100\n",
            "libavcodec     58.134.100 / 58.134.100\n",
            "libavformat    58. 76.100 / 58. 76.100\n",
            "libavdevice    58. 13.100 / 58. 13.100\n",
            "libavfilter     7.110.100 /  7.110.100\n",
            "libswscale      5.  9.100 /  5.  9.100\n",
            "libswresample   3.  9.100 /  3.  9.100\n",
            "libpostproc    55.  9.100 / 55.  9.100\n"
          ]
        }
      ]
    },
    {
      "cell_type": "code",
      "source": [
        "!pip install memory_profiler\n",
        "%load_ext memory_profiler"
      ],
      "metadata": {
        "colab": {
          "base_uri": "https://localhost:8080/"
        },
        "id": "AA6Q1xxeMtKa",
        "outputId": "76d98ef3-f056-493b-ea46-bc4de873f892"
      },
      "execution_count": 21,
      "outputs": [
        {
          "output_type": "stream",
          "name": "stdout",
          "text": [
            "Collecting memory_profiler\n",
            "  Downloading memory_profiler-0.61.0-py3-none-any.whl (31 kB)\n",
            "Requirement already satisfied: psutil in /usr/local/lib/python3.10/dist-packages (from memory_profiler) (5.9.5)\n",
            "Installing collected packages: memory_profiler\n",
            "Successfully installed memory_profiler-0.61.0\n"
          ]
        }
      ]
    },
    {
      "cell_type": "markdown",
      "source": [
        "Install CAManim repo"
      ],
      "metadata": {
        "id": "vu3gKYW-MxdE"
      }
    },
    {
      "cell_type": "code",
      "source": [
        "!git clone https://github.com/OMNI-ML/pytorch-grad-cam-anim.git\n",
        "!ls\n",
        "\n",
        "# the % command makes the cd last beyond this cell / line\n",
        "%cd pytorch-grad-cam-anim\n",
        "\n",
        "# switch branch\n",
        "!git checkout adapt-basecam-to-support-cam_anim\n",
        "!ls"
      ],
      "metadata": {
        "colab": {
          "base_uri": "https://localhost:8080/"
        },
        "id": "0FbJsETfeiIo",
        "outputId": "366f5e80-08f6-411c-a3ee-a26b0abaa9e3"
      },
      "execution_count": 22,
      "outputs": [
        {
          "output_type": "stream",
          "name": "stdout",
          "text": [
            "Cloning into 'pytorch-grad-cam-anim'...\n",
            "remote: Enumerating objects: 4654, done.\u001b[K\n",
            "remote: Counting objects: 100% (3628/3628), done.\u001b[K\n",
            "remote: Compressing objects: 100% (351/351), done.\u001b[K\n",
            "remote: Total 4654 (delta 3038), reused 3572 (delta 2984), pack-reused 1026\u001b[K\n",
            "Receiving objects: 100% (4654/4654), 1.07 GiB | 37.70 MiB/s, done.\n",
            "Resolving deltas: 100% (3604/3604), done.\n",
            "gdrive\tMedNIST  MedNIST.tar.gz  pytorch-grad-cam-anim\tsample_data\n",
            "/content/pytorch-grad-cam-anim\n",
            "Branch 'adapt-basecam-to-support-cam_anim' set up to track remote branch 'adapt-basecam-to-support-cam_anim' from 'origin'.\n",
            "Switched to a new branch 'adapt-basecam-to-support-cam_anim'\n",
            "_CAManim_animating_end2end_activation_maps.ipynb  requirements_CAManim.txt\n",
            "cam.py\t\t\t\t\t\t  requirements.txt\n",
            "examples\t\t\t\t\t  setup.cfg\n",
            "LICENSE\t\t\t\t\t\t  setup.py\n",
            "pyproject.toml\t\t\t\t\t  tests\n",
            "pytorch_grad_cam\t\t\t\t  tutorials\n",
            "README.md\t\t\t\t\t  usage_examples\n"
          ]
        }
      ]
    },
    {
      "cell_type": "code",
      "source": [
        "!git log --oneline --max-count=10 # --reverse"
      ],
      "metadata": {
        "colab": {
          "base_uri": "https://localhost:8080/"
        },
        "id": "R-An-q6pWT67",
        "outputId": "43a21d0c-ca3a-48e6-c6cc-4caa8303a912"
      },
      "execution_count": 23,
      "outputs": [
        {
          "output_type": "stream",
          "name": "stdout",
          "text": [
            "\u001b[33mc69a6b4\u001b[m\u001b[33m (\u001b[m\u001b[1;36mHEAD -> \u001b[m\u001b[1;32madapt-basecam-to-support-cam_anim\u001b[m\u001b[33m, \u001b[m\u001b[1;31morigin/adapt-basecam-to-support-cam_anim\u001b[m\u001b[33m)\u001b[m added garbage collections to help RAM usage\n",
            "\u001b[33m3421f3e\u001b[m Merge branch 'adapt-basecam-to-support-cam_anim' of https://github.com/OMNI-ML/pytorch-grad-cam-anim into adapt-basecam-to-support-cam_anim\n",
            "\u001b[33m8cd9887\u001b[m implemented memory offloading to reduce RAM\n",
            "\u001b[33m3bf5a0c\u001b[m Created using Colaboratory\n",
            "\u001b[33m2dec3b2\u001b[m added additional print statements to confirm normalization\n",
            "\u001b[33m34f6631\u001b[m fixed bug related to video naming\n",
            "\u001b[33mf97ed28\u001b[m resaved notebook\n",
            "\u001b[33m45ec5b7\u001b[m started local/repo notebook for CAManim\n",
            "\u001b[33m79dbfc3\u001b[m changed _ffmpeg methods to use subprocess instead\n",
            "\u001b[33mff9ffb4\u001b[m fixed bug related to folder not created\n"
          ]
        }
      ]
    },
    {
      "cell_type": "code",
      "source": [
        "# !python setup.py install - avoid this\n",
        "!pip install .\n",
        "!pip install -r requirements_CAManim.txt\n",
        "# !pip install ffmpeg-python"
      ],
      "metadata": {
        "colab": {
          "base_uri": "https://localhost:8080/",
          "height": 1000
        },
        "id": "_n6GA5jUWRsy",
        "outputId": "f69a382c-faa8-4326-c086-b5e02f1b99c3"
      },
      "execution_count": 24,
      "outputs": [
        {
          "output_type": "stream",
          "name": "stdout",
          "text": [
            "Processing /content/pytorch-grad-cam-anim\n",
            "  Installing build dependencies ... \u001b[?25l\u001b[?25hdone\n",
            "  Getting requirements to build wheel ... \u001b[?25l\u001b[?25hdone\n",
            "  Preparing metadata (pyproject.toml) ... \u001b[?25l\u001b[?25hdone\n",
            "Requirement already satisfied: numpy in /usr/local/lib/python3.10/dist-packages (from grad-cam==1.4.6) (1.23.5)\n",
            "Requirement already satisfied: Pillow in /usr/local/lib/python3.10/dist-packages (from grad-cam==1.4.6) (9.4.0)\n",
            "Requirement already satisfied: torch>=1.7.1 in /usr/local/lib/python3.10/dist-packages (from grad-cam==1.4.6) (2.0.1+cu118)\n",
            "Requirement already satisfied: torchvision>=0.8.2 in /usr/local/lib/python3.10/dist-packages (from grad-cam==1.4.6) (0.15.2+cu118)\n",
            "Collecting ttach (from grad-cam==1.4.6)\n",
            "  Downloading ttach-0.0.3-py3-none-any.whl (9.8 kB)\n",
            "Requirement already satisfied: tqdm in /usr/local/lib/python3.10/dist-packages (from grad-cam==1.4.6) (4.66.1)\n",
            "Requirement already satisfied: opencv-python in /usr/local/lib/python3.10/dist-packages (from grad-cam==1.4.6) (4.8.0.76)\n",
            "Requirement already satisfied: matplotlib in /usr/local/lib/python3.10/dist-packages (from grad-cam==1.4.6) (3.7.1)\n",
            "Requirement already satisfied: scikit-learn in /usr/local/lib/python3.10/dist-packages (from grad-cam==1.4.6) (1.2.2)\n",
            "Requirement already satisfied: filelock in /usr/local/lib/python3.10/dist-packages (from torch>=1.7.1->grad-cam==1.4.6) (3.12.4)\n",
            "Requirement already satisfied: typing-extensions in /usr/local/lib/python3.10/dist-packages (from torch>=1.7.1->grad-cam==1.4.6) (4.5.0)\n",
            "Requirement already satisfied: sympy in /usr/local/lib/python3.10/dist-packages (from torch>=1.7.1->grad-cam==1.4.6) (1.12)\n",
            "Requirement already satisfied: networkx in /usr/local/lib/python3.10/dist-packages (from torch>=1.7.1->grad-cam==1.4.6) (3.1)\n",
            "Requirement already satisfied: jinja2 in /usr/local/lib/python3.10/dist-packages (from torch>=1.7.1->grad-cam==1.4.6) (3.1.2)\n",
            "Requirement already satisfied: triton==2.0.0 in /usr/local/lib/python3.10/dist-packages (from torch>=1.7.1->grad-cam==1.4.6) (2.0.0)\n",
            "Requirement already satisfied: cmake in /usr/local/lib/python3.10/dist-packages (from triton==2.0.0->torch>=1.7.1->grad-cam==1.4.6) (3.27.5)\n",
            "Requirement already satisfied: lit in /usr/local/lib/python3.10/dist-packages (from triton==2.0.0->torch>=1.7.1->grad-cam==1.4.6) (17.0.1)\n",
            "Requirement already satisfied: requests in /usr/local/lib/python3.10/dist-packages (from torchvision>=0.8.2->grad-cam==1.4.6) (2.31.0)\n",
            "Requirement already satisfied: contourpy>=1.0.1 in /usr/local/lib/python3.10/dist-packages (from matplotlib->grad-cam==1.4.6) (1.1.1)\n",
            "Requirement already satisfied: cycler>=0.10 in /usr/local/lib/python3.10/dist-packages (from matplotlib->grad-cam==1.4.6) (0.12.0)\n",
            "Requirement already satisfied: fonttools>=4.22.0 in /usr/local/lib/python3.10/dist-packages (from matplotlib->grad-cam==1.4.6) (4.43.0)\n",
            "Requirement already satisfied: kiwisolver>=1.0.1 in /usr/local/lib/python3.10/dist-packages (from matplotlib->grad-cam==1.4.6) (1.4.5)\n",
            "Requirement already satisfied: packaging>=20.0 in /usr/local/lib/python3.10/dist-packages (from matplotlib->grad-cam==1.4.6) (23.1)\n",
            "Requirement already satisfied: pyparsing>=2.3.1 in /usr/local/lib/python3.10/dist-packages (from matplotlib->grad-cam==1.4.6) (3.1.1)\n",
            "Requirement already satisfied: python-dateutil>=2.7 in /usr/local/lib/python3.10/dist-packages (from matplotlib->grad-cam==1.4.6) (2.8.2)\n",
            "Requirement already satisfied: scipy>=1.3.2 in /usr/local/lib/python3.10/dist-packages (from scikit-learn->grad-cam==1.4.6) (1.11.3)\n",
            "Requirement already satisfied: joblib>=1.1.1 in /usr/local/lib/python3.10/dist-packages (from scikit-learn->grad-cam==1.4.6) (1.3.2)\n",
            "Requirement already satisfied: threadpoolctl>=2.0.0 in /usr/local/lib/python3.10/dist-packages (from scikit-learn->grad-cam==1.4.6) (3.2.0)\n",
            "Requirement already satisfied: six>=1.5 in /usr/local/lib/python3.10/dist-packages (from python-dateutil>=2.7->matplotlib->grad-cam==1.4.6) (1.16.0)\n",
            "Requirement already satisfied: MarkupSafe>=2.0 in /usr/local/lib/python3.10/dist-packages (from jinja2->torch>=1.7.1->grad-cam==1.4.6) (2.1.3)\n",
            "Requirement already satisfied: charset-normalizer<4,>=2 in /usr/local/lib/python3.10/dist-packages (from requests->torchvision>=0.8.2->grad-cam==1.4.6) (3.2.0)\n",
            "Requirement already satisfied: idna<4,>=2.5 in /usr/local/lib/python3.10/dist-packages (from requests->torchvision>=0.8.2->grad-cam==1.4.6) (3.4)\n",
            "Requirement already satisfied: urllib3<3,>=1.21.1 in /usr/local/lib/python3.10/dist-packages (from requests->torchvision>=0.8.2->grad-cam==1.4.6) (2.0.5)\n",
            "Requirement already satisfied: certifi>=2017.4.17 in /usr/local/lib/python3.10/dist-packages (from requests->torchvision>=0.8.2->grad-cam==1.4.6) (2023.7.22)\n",
            "Requirement already satisfied: mpmath>=0.19 in /usr/local/lib/python3.10/dist-packages (from sympy->torch>=1.7.1->grad-cam==1.4.6) (1.3.0)\n",
            "Building wheels for collected packages: grad-cam\n",
            "  Building wheel for grad-cam (pyproject.toml) ... \u001b[?25l\u001b[?25hdone\n",
            "  Created wheel for grad-cam: filename=grad_cam-1.4.6-py3-none-any.whl size=44596 sha256=13f633de26914b7cfc6303c4a09eaef79bff66b0808289725a6d154fb4a28b01\n",
            "  Stored in directory: /root/.cache/pip/wheels/5e/e9/6a/e6fc4e1d28c7938e9ff20505457d082d0fb87579dfe1f61668\n",
            "Successfully built grad-cam\n",
            "Installing collected packages: ttach, grad-cam\n",
            "Successfully installed grad-cam-1.4.6 ttach-0.0.3\n",
            "Collecting monai[fire] (from -r requirements_CAManim.txt (line 1))\n",
            "  Downloading monai-1.2.0-202306081546-py3-none-any.whl (1.3 MB)\n",
            "\u001b[2K     \u001b[90m━━━━━━━━━━━━━━━━━━━━━━━━━━━━━━━━━━━━━━━━\u001b[0m \u001b[32m1.3/1.3 MB\u001b[0m \u001b[31m8.0 MB/s\u001b[0m eta \u001b[36m0:00:00\u001b[0m\n",
            "\u001b[?25hRequirement already satisfied: torch in /usr/local/lib/python3.10/dist-packages (from -r requirements_CAManim.txt (line 2)) (2.0.1+cu118)\n",
            "Collecting ffmpeg-python (from -r requirements_CAManim.txt (line 3))\n",
            "  Downloading ffmpeg_python-0.2.0-py3-none-any.whl (25 kB)\n",
            "Requirement already satisfied: memory_profiler in /usr/local/lib/python3.10/dist-packages (from -r requirements_CAManim.txt (line 4)) (0.61.0)\n",
            "Requirement already satisfied: numpy>=1.20 in /usr/local/lib/python3.10/dist-packages (from monai[fire]->-r requirements_CAManim.txt (line 1)) (1.23.5)\n",
            "Collecting fire (from monai[fire]->-r requirements_CAManim.txt (line 1))\n",
            "  Downloading fire-0.5.0.tar.gz (88 kB)\n",
            "\u001b[2K     \u001b[90m━━━━━━━━━━━━━━━━━━━━━━━━━━━━━━━━━━━━━━━━\u001b[0m \u001b[32m88.3/88.3 kB\u001b[0m \u001b[31m8.5 MB/s\u001b[0m eta \u001b[36m0:00:00\u001b[0m\n",
            "\u001b[?25h  Preparing metadata (setup.py) ... \u001b[?25l\u001b[?25hdone\n",
            "Requirement already satisfied: filelock in /usr/local/lib/python3.10/dist-packages (from torch->-r requirements_CAManim.txt (line 2)) (3.12.4)\n",
            "Requirement already satisfied: typing-extensions in /usr/local/lib/python3.10/dist-packages (from torch->-r requirements_CAManim.txt (line 2)) (4.5.0)\n",
            "Requirement already satisfied: sympy in /usr/local/lib/python3.10/dist-packages (from torch->-r requirements_CAManim.txt (line 2)) (1.12)\n",
            "Requirement already satisfied: networkx in /usr/local/lib/python3.10/dist-packages (from torch->-r requirements_CAManim.txt (line 2)) (3.1)\n",
            "Requirement already satisfied: jinja2 in /usr/local/lib/python3.10/dist-packages (from torch->-r requirements_CAManim.txt (line 2)) (3.1.2)\n",
            "Requirement already satisfied: triton==2.0.0 in /usr/local/lib/python3.10/dist-packages (from torch->-r requirements_CAManim.txt (line 2)) (2.0.0)\n",
            "Requirement already satisfied: cmake in /usr/local/lib/python3.10/dist-packages (from triton==2.0.0->torch->-r requirements_CAManim.txt (line 2)) (3.27.5)\n",
            "Requirement already satisfied: lit in /usr/local/lib/python3.10/dist-packages (from triton==2.0.0->torch->-r requirements_CAManim.txt (line 2)) (17.0.1)\n",
            "Requirement already satisfied: future in /usr/local/lib/python3.10/dist-packages (from ffmpeg-python->-r requirements_CAManim.txt (line 3)) (0.18.3)\n",
            "Requirement already satisfied: psutil in /usr/local/lib/python3.10/dist-packages (from memory_profiler->-r requirements_CAManim.txt (line 4)) (5.9.5)\n",
            "Requirement already satisfied: six in /usr/local/lib/python3.10/dist-packages (from fire->monai[fire]->-r requirements_CAManim.txt (line 1)) (1.16.0)\n",
            "Requirement already satisfied: termcolor in /usr/local/lib/python3.10/dist-packages (from fire->monai[fire]->-r requirements_CAManim.txt (line 1)) (2.3.0)\n",
            "Requirement already satisfied: MarkupSafe>=2.0 in /usr/local/lib/python3.10/dist-packages (from jinja2->torch->-r requirements_CAManim.txt (line 2)) (2.1.3)\n",
            "Requirement already satisfied: mpmath>=0.19 in /usr/local/lib/python3.10/dist-packages (from sympy->torch->-r requirements_CAManim.txt (line 2)) (1.3.0)\n",
            "Building wheels for collected packages: fire\n",
            "  Building wheel for fire (setup.py) ... \u001b[?25l\u001b[?25hdone\n",
            "  Created wheel for fire: filename=fire-0.5.0-py2.py3-none-any.whl size=116934 sha256=50a9becd945f3d695b4f0b218bf56dcc21284a050a3b630978bc7bd54ebcf155\n",
            "  Stored in directory: /root/.cache/pip/wheels/90/d4/f7/9404e5db0116bd4d43e5666eaa3e70ab53723e1e3ea40c9a95\n",
            "Successfully built fire\n",
            "Installing collected packages: fire, ffmpeg-python, monai\n",
            "Successfully installed ffmpeg-python-0.2.0 fire-0.5.0 monai-1.2.0\n"
          ]
        },
        {
          "output_type": "display_data",
          "data": {
            "application/vnd.colab-display-data+json": {
              "pip_warning": {
                "packages": [
                  "monai"
                ]
              }
            }
          },
          "metadata": {}
        }
      ]
    },
    {
      "cell_type": "markdown",
      "source": [
        "Imports"
      ],
      "metadata": {
        "id": "T7UK1fZJNBju"
      }
    },
    {
      "cell_type": "code",
      "source": [
        "import pandas as pd\n",
        "import json\n",
        "import pickle\n",
        "import torch"
      ],
      "metadata": {
        "id": "E5TnYCBucMcv"
      },
      "execution_count": 25,
      "outputs": []
    },
    {
      "cell_type": "markdown",
      "source": [
        "## Define CAMs list"
      ],
      "metadata": {
        "id": "3VrieyM6Zdno"
      }
    },
    {
      "cell_type": "code",
      "source": [
        "# from pytorch_grad_cam import GradCAM, GradCAMPlusPlus, EigenGradCAM, AblationCAM, RandomCAM\n",
        "from pytorch_grad_cam import EigenCAM, \\\n",
        "                              EigenGradCAM, \\\n",
        "                              FullGrad, \\\n",
        "                              GradCAM, \\\n",
        "                              GradCAMElementWise, \\\n",
        "                              GradCAMPlusPlus, \\\n",
        "                              HiResCAM, \\\n",
        "                              LayerCAM, \\\n",
        "                              RandomCAM, \\\n",
        "                              ScoreCAM, \\\n",
        "                              XGradCAM, \\\n",
        "                              AblationCAM\n",
        "\n",
        "\n",
        "cams_list = [#'AblationCAM', # ran out of RAM\n",
        "            # 'GradCAM',\n",
        "            'HiResCAM',\n",
        "            'GradCAMElementWise',\n",
        "            'GradCAMPlusPlus',\n",
        "            'EigenCAM', # done\n",
        "            #'EigenGradCAM', # Skipped all layers for AlexNet; figure out\n",
        "            'RandomCAM',\n",
        "            'LayerCAM',\n",
        "             'XGradCAM',\n",
        "             #'FullGrad', # Skipped all layers for DenseNet161; figure out\n",
        "             #'ScoreCAM', # ran out of RAM\n",
        "             ]"
      ],
      "metadata": {
        "id": "y9Pp1kMSZhxU"
      },
      "execution_count": 26,
      "outputs": []
    },
    {
      "cell_type": "code",
      "source": [
        "# cams_list = ['AblationCAM']#['HiResCAM']#['GradCAM']"
      ],
      "metadata": {
        "id": "jUcre3iibJ_0"
      },
      "execution_count": 27,
      "outputs": []
    },
    {
      "cell_type": "markdown",
      "source": [
        "## Load Image"
      ],
      "metadata": {
        "id": "evu_9h_7ZdVF"
      }
    },
    {
      "cell_type": "code",
      "source": [
        "class MedNISTDataset(torch.utils.data.Dataset):\n",
        "    def __init__(self, image_files, labels, transforms):\n",
        "        self.image_files = image_files\n",
        "        self.labels = labels\n",
        "        self.transforms = transforms\n",
        "\n",
        "    def __len__(self):\n",
        "        return len(self.image_files)\n",
        "\n",
        "    def __getitem__(self, index):\n",
        "        return self.transforms(self.image_files[index]), self.labels[index], self.image_files[index]"
      ],
      "metadata": {
        "id": "fBrwF0bC85MV"
      },
      "execution_count": 28,
      "outputs": []
    },
    {
      "cell_type": "code",
      "source": [
        "# Load the data loaders from the pickle files\n",
        "with open(experiment_save_root / 'train_loader.pkl', 'rb') as f:\n",
        "    train_loader = pickle.load(f)\n",
        "\n",
        "with open(experiment_save_root / 'val_loader.pkl', 'rb') as f:\n",
        "    val_loader = pickle.load(f)\n",
        "\n",
        "with open(experiment_save_root / 'test_loader.pkl', 'rb') as f:\n",
        "    test_loader = pickle.load(f)"
      ],
      "metadata": {
        "id": "p03sPIBQD2tj"
      },
      "execution_count": 29,
      "outputs": []
    },
    {
      "cell_type": "code",
      "source": [
        "\n",
        "y_true = []\n",
        "y_pred = []\n",
        "#with torch.no_grad():\n",
        "found = False\n",
        "for test_data in test_loader:\n",
        "    test_images, test_labels, test_paths = (\n",
        "        test_data[0].to(device),\n",
        "        test_data[1].to(device),\n",
        "        test_data[2]\n",
        "    )\n",
        "\n",
        "    for img_id, img_path in enumerate(test_paths):\n",
        "\n",
        "      # if \"/content/MedNIST/Hand/008908.jpeg\" == img_path:\n",
        "      if \"Hand\" in img_path:# and \"008908\" in img_path:\n",
        "        found = True\n",
        "        break\n",
        "      # if \"Hand\" in img_path:\n",
        "      #   found = True\n",
        "      #   break\n",
        "\n",
        "    if found:\n",
        "      break\n",
        "\n",
        "\n",
        "# img_id = 2\n",
        "\n",
        "# \"/content/MedNIST/Hand/008908.jpeg\"\n",
        "\n",
        "#target_layers = get_target_layers(model)\n",
        "input_tensor = torch.unsqueeze(test_images[img_id], 0)\n",
        "input_tensor.requires_grad_(True)\n",
        "img = np.array(PIL.Image.open(test_paths[img_id]))\n",
        "img = np.expand_dims((np.float32(img) / 255), axis=2)\n",
        "print(img.shape)\n",
        "print(test_paths[img_id])"
      ],
      "metadata": {
        "id": "whNZgZ7Ubv7u",
        "outputId": "a0f2d4bc-e598-4402-e69b-28d6bd9f0c23",
        "colab": {
          "base_uri": "https://localhost:8080/"
        }
      },
      "execution_count": 30,
      "outputs": [
        {
          "output_type": "stream",
          "name": "stdout",
          "text": [
            "(64, 64, 1)\n",
            "/content/MedNIST/Hand/000133.jpeg\n"
          ]
        }
      ]
    },
    {
      "cell_type": "markdown",
      "source": [
        "## Load Models Dictionary"
      ],
      "metadata": {
        "id": "Gymbn-2-Z5S1"
      }
    },
    {
      "cell_type": "code",
      "source": [
        "dataset_name = 'MedNIST'\n",
        "model_name = \"DenseNet121\"\n",
        "# param_str = \"\"\n",
        "param_str = \"growth_rate:16\"\n",
        "\n",
        "# experiment_save_root = save_root / dataset_name / model_name\n",
        "model_path = str(save_root / dataset_name / model_name / f\"best_metric_model({param_str}).pth\")\n",
        "model.load_state_dict(torch.load(model_path, map_location=torch.device('cpu')))\n",
        "model.eval()\n",
        "# model_name = 'MedNet'\n",
        "\n",
        "models_dict = {\n",
        "                f\"{dataset_name}_{model_name}({param_str})\": model\n",
        "              }"
      ],
      "metadata": {
        "id": "yFhKPir_Z9il"
      },
      "execution_count": 31,
      "outputs": []
    },
    {
      "cell_type": "markdown",
      "source": [
        "### visualize model parameters"
      ],
      "metadata": {
        "id": "sAN0sHP2a9iH"
      }
    },
    {
      "cell_type": "code",
      "source": [
        "model_key = list(models_dict.keys())[0] # pick first model in dictionary\n",
        "print(model_key)\n",
        "\n",
        "model = models_dict[model_key]\n",
        "layers = [layer for layer, what_is_this in model.named_modules()]\n",
        "print(len(layers))\n",
        "parameters = [p for p in model.parameters()]# if p.requires_grad]\n",
        "len(parameters)"
      ],
      "metadata": {
        "colab": {
          "base_uri": "https://localhost:8080/"
        },
        "id": "4zZ8eZ2xa83u",
        "outputId": "833fcd86-0c8d-4fdc-d16a-9a45e47d97d4"
      },
      "execution_count": 32,
      "outputs": [
        {
          "output_type": "stream",
          "name": "stdout",
          "text": [
            "MedNIST_DenseNet121(growth_rate:16)\n",
            "495\n"
          ]
        },
        {
          "output_type": "execute_result",
          "data": {
            "text/plain": [
              "364"
            ]
          },
          "metadata": {},
          "execution_count": 32
        }
      ]
    },
    {
      "cell_type": "code",
      "source": [
        "running_sum = 0\n",
        "\n",
        "total_params = sum(p.numel() for p in model.parameters() if p.requires_grad)\n",
        "\n",
        "for layer_name, layer_module in model.named_modules():\n",
        "\n",
        "  # print(\"-\"*6 + layer_name + \"-\"*6)\n",
        "  # print(type(layer_name))\n",
        "  # print(type(layer_module))\n",
        "  # layer_parameters = [parameters = [p for p in model.parameters()]# if p.requires_grad]]\n",
        "  n_layer_params = sum(p.numel() for p in layer_module.parameters() if p.requires_grad)\n",
        "  running_sum += n_layer_params\n",
        "\n",
        "print(running_sum)\n",
        "print(total_params)"
      ],
      "metadata": {
        "colab": {
          "base_uri": "https://localhost:8080/"
        },
        "id": "hEpwPgZra95Q",
        "outputId": "762dbac7-cf01-4984-b847-2cd4f573ef89"
      },
      "execution_count": 33,
      "outputs": [
        {
          "output_type": "stream",
          "name": "stdout",
          "text": [
            "10515890\n",
            "1818646\n"
          ]
        }
      ]
    },
    {
      "cell_type": "markdown",
      "source": [
        "## CAManim Loop"
      ],
      "metadata": {
        "id": "r_0az7sdZq3a"
      }
    },
    {
      "cell_type": "markdown",
      "source": [
        "### utils"
      ],
      "metadata": {
        "id": "dCBAbOkabZIV"
      }
    },
    {
      "cell_type": "code",
      "source": [
        "import gc\n",
        "gc.enable()\n",
        "print(gc.collect())\n",
        "print(pd.DataFrame.from_records(gc.get_stats()))"
      ],
      "metadata": {
        "colab": {
          "base_uri": "https://localhost:8080/"
        },
        "id": "1QN6CgJhbrKB",
        "outputId": "0dc9a96d-79da-4296-da78-9a720fe5b930"
      },
      "execution_count": 34,
      "outputs": [
        {
          "output_type": "stream",
          "name": "stdout",
          "text": [
            "27417\n",
            "   collections  collected  uncollectable\n",
            "0         1848       7719              0\n",
            "1          167       2327              0\n",
            "2           11      27624              0\n"
          ]
        }
      ]
    },
    {
      "cell_type": "code",
      "source": [
        "def get_target_layers(model):\n",
        "  \"\"\"\n",
        "  target_layers doesn't matter for cam_anim (since we loop through all the layers),\n",
        "  but it is needed for initializing the GradCAM object.\n",
        "  This method returns the last layer (that is viable as a target i.e. iterable) of the model.\n",
        "\n",
        "  \"\"\"\n",
        "\n",
        "\n",
        "  target_layers = []\n",
        "  for _, layer_module in model.named_modules():\n",
        "    # print(_)\n",
        "    if _ == \"features.Mixed_7c.branch_pool.conv\":\n",
        "      target_layers.append(layer_module)\n",
        "    # https://stackoverflow.com/questions/1952464/in-python-how-do-i-determine-if-an-object-is-iterable\n",
        "    try:\n",
        "      some_object_iterator = iter(layer_module)\n",
        "      if type(layer_module)!=str:\n",
        "        target_layers.append(layer_module)\n",
        "\n",
        "    except TypeError as te:\n",
        "      pass\n",
        "      # print(some_object, 'is not iterable')\n",
        "  # target_layers = target_layers[-2]\n",
        "  print(target_layers[-1])\n",
        "  return [target_layers[-1]]"
      ],
      "metadata": {
        "id": "uQE4aSPebgJD"
      },
      "execution_count": 35,
      "outputs": []
    },
    {
      "cell_type": "markdown",
      "source": [
        "### loop"
      ],
      "metadata": {
        "id": "8VePZH6jbczG"
      }
    },
    {
      "cell_type": "code",
      "source": [
        "n_models = len(models_dict.keys())\n",
        "n_cams = len(cams_list)\n",
        "\n",
        "print(f\"{n_models} X {n_cams} = {n_models*n_cams} iterations\")"
      ],
      "metadata": {
        "colab": {
          "base_uri": "https://localhost:8080/"
        },
        "id": "EkMDmhRjqVaL",
        "outputId": "bcf68924-6264-46bb-db66-11548fc90ea9"
      },
      "execution_count": 36,
      "outputs": [
        {
          "output_type": "stream",
          "name": "stdout",
          "text": [
            "1 X 7 = 7 iterations\n"
          ]
        }
      ]
    },
    {
      "cell_type": "code",
      "source": [
        "metrics_records = []\n",
        "for model_name, model in models_dict.items():\n",
        "\n",
        "  print(\"=\"*33 + model_name + \"=\"*33)\n",
        "\n",
        "  outdir = save_root / model_name\n",
        "  outdir.mkdir(exist_ok=True, parents= True)\n",
        "\n",
        "  target_layers = get_target_layers(model)\n",
        "  # target_layers = [\"features.Mixed_7c.branch_pool.conv\"]\n",
        "\n",
        "  for cam_name in cams_list:\n",
        "    print(\"-\"*33 + cam_name + \"-\"*33)\n",
        "\n",
        "    frames_dir = outdir / cam_name\n",
        "    frames_dir.mkdir(exist_ok=True, parents= True)\n",
        "    metrics = {\"model_name\": model_name, \"CAM Name\": cam_name, \"error\": None}\n",
        "    try:\n",
        "      cam = globals()[cam_name](model=model, target_layers=target_layers, use_cuda=False)\n",
        "      metrics_update = cam.cam_anim(img,\n",
        "                                    input_tensor,\n",
        "                                    frame_rate=24,\n",
        "                                    norm_type='both',\n",
        "                                    keep_frames=True,\n",
        "                                    tmp_dir=str(frames_dir),\n",
        "                                    output_fname=str(outdir / f\"{cam_name}_anim.mp4\"))\n",
        "\n",
        "      metrics.update(metrics_update)\n",
        "      del cam\n",
        "      gc.collect()\n",
        "      print(pd.DataFrame.from_records(gc.get_stats()))\n",
        "      print(f\"{cam_name} Finished\")\n",
        "\n",
        "\n",
        "    except Exception as ex:\n",
        "      metrics.update({\"error\": str(ex)})\n",
        "      print(ex)\n",
        "      print(\"Continuing to the next CAM\")\n",
        "      raise ex\n",
        "\n",
        "    metrics_records.append(metrics)\n",
        "\n",
        "    with open(str(outdir / f\"metrics_logs.json\"), \"w\") as outfile:\n",
        "      json.dump(metrics_records, outfile, indent=4)"
      ],
      "metadata": {
        "colab": {
          "base_uri": "https://localhost:8080/"
        },
        "id": "z8pkH_yccTdi",
        "outputId": "2738b460-1af3-478a-de86-79fa9327aee6"
      },
      "execution_count": null,
      "outputs": [
        {
          "output_type": "stream",
          "name": "stdout",
          "text": [
            "=================================MedNIST_DenseNet121(growth_rate:16)=================================\n",
            "Sequential(\n",
            "  (relu): ReLU(inplace=True)\n",
            "  (pool): AdaptiveAvgPool2d(output_size=1)\n",
            "  (flatten): Flatten(start_dim=1, end_dim=-1)\n",
            "  (out): Linear(in_features=516, out_features=6, bias=True)\n",
            ")\n",
            "---------------------------------HiResCAM---------------------------------\n",
            "/content/gdrive/MyDrive/starCAManim/MedNIST_DenseNet121(growth_rate:16)/HiResCAM/\n"
          ]
        },
        {
          "output_type": "stream",
          "name": "stderr",
          "text": [
            "Model Layer Loop - features:   0%|          | 0/495 [00:00<?, ?it/s]"
          ]
        },
        {
          "output_type": "stream",
          "name": "stdout",
          "text": [
            "skipping \n",
            "'DenseNet121' object has no attribute ''\n"
          ]
        },
        {
          "output_type": "stream",
          "name": "stderr",
          "text": [
            "Model Layer Loop - features.conv0:   0%|          | 2/495 [00:14<1:00:48,  7.40s/it]"
          ]
        },
        {
          "output_type": "stream",
          "name": "stdout",
          "text": [
            "skipping features\n",
            "unsupported operand type(s) for *: 'NoneType' and 'float'\n"
          ]
        },
        {
          "output_type": "stream",
          "name": "stderr",
          "text": [
            "Model Layer Loop - features.norm0:   1%|          | 3/495 [00:16<41:04,  5.01s/it]"
          ]
        },
        {
          "output_type": "stream",
          "name": "stdout",
          "text": [
            "0\n"
          ]
        },
        {
          "output_type": "stream",
          "name": "stderr",
          "text": [
            "Model Layer Loop - features.relu0:   1%|          | 4/495 [00:16<27:09,  3.32s/it]"
          ]
        },
        {
          "output_type": "stream",
          "name": "stdout",
          "text": [
            "skipping features.norm0\n",
            "unsupported operand type(s) for *: 'NoneType' and 'float'\n"
          ]
        },
        {
          "output_type": "stream",
          "name": "stderr",
          "text": [
            "Model Layer Loop - features.pool0:   1%|          | 5/495 [00:18<22:09,  2.71s/it]"
          ]
        },
        {
          "output_type": "stream",
          "name": "stdout",
          "text": [
            "0\n"
          ]
        },
        {
          "output_type": "stream",
          "name": "stderr",
          "text": [
            "Model Layer Loop - features.denseblock1:   1%|          | 6/495 [00:20<19:35,  2.40s/it]"
          ]
        },
        {
          "output_type": "stream",
          "name": "stdout",
          "text": [
            "0\n"
          ]
        },
        {
          "output_type": "stream",
          "name": "stderr",
          "text": [
            "Model Layer Loop - features.denseblock1.denselayer1:   1%|▏         | 7/495 [00:22<18:05,  2.22s/it]"
          ]
        },
        {
          "output_type": "stream",
          "name": "stdout",
          "text": [
            "0\n"
          ]
        },
        {
          "output_type": "stream",
          "name": "stderr",
          "text": [
            "Model Layer Loop - features.denseblock1.denselayer1.layers:   2%|▏         | 8/495 [00:25<21:36,  2.66s/it]"
          ]
        },
        {
          "output_type": "stream",
          "name": "stdout",
          "text": [
            "0\n"
          ]
        },
        {
          "output_type": "stream",
          "name": "stderr",
          "text": [
            "Model Layer Loop - features.denseblock1.denselayer1.layers.norm1:   2%|▏         | 9/495 [00:29<24:45,  3.06s/it]"
          ]
        },
        {
          "output_type": "stream",
          "name": "stdout",
          "text": [
            "0\n"
          ]
        },
        {
          "output_type": "stream",
          "name": "stderr",
          "text": [
            "Model Layer Loop - features.denseblock1.denselayer1.layers.relu1:   2%|▏         | 10/495 [00:30<18:46,  2.32s/it]"
          ]
        },
        {
          "output_type": "stream",
          "name": "stdout",
          "text": [
            "skipping features.denseblock1.denselayer1.layers.norm1\n",
            "unsupported operand type(s) for *: 'NoneType' and 'float'\n"
          ]
        },
        {
          "output_type": "stream",
          "name": "stderr",
          "text": [
            "Model Layer Loop - features.denseblock1.denselayer1.layers.conv1:   2%|▏         | 11/495 [00:32<18:56,  2.35s/it]"
          ]
        },
        {
          "output_type": "stream",
          "name": "stdout",
          "text": [
            "0\n"
          ]
        },
        {
          "output_type": "stream",
          "name": "stderr",
          "text": [
            "Model Layer Loop - features.denseblock1.denselayer1.layers.norm2:   2%|▏         | 12/495 [00:35<18:39,  2.32s/it]"
          ]
        },
        {
          "output_type": "stream",
          "name": "stdout",
          "text": [
            "0\n"
          ]
        },
        {
          "output_type": "stream",
          "name": "stderr",
          "text": [
            "Model Layer Loop - features.denseblock1.denselayer1.layers.relu2:   3%|▎         | 13/495 [00:35<14:10,  1.76s/it]"
          ]
        },
        {
          "output_type": "stream",
          "name": "stdout",
          "text": [
            "skipping features.denseblock1.denselayer1.layers.norm2\n",
            "unsupported operand type(s) for *: 'NoneType' and 'float'\n"
          ]
        },
        {
          "output_type": "stream",
          "name": "stderr",
          "text": [
            "Model Layer Loop - features.denseblock1.denselayer1.layers.conv2:   3%|▎         | 14/495 [00:37<15:32,  1.94s/it]"
          ]
        },
        {
          "output_type": "stream",
          "name": "stdout",
          "text": [
            "0\n"
          ]
        },
        {
          "output_type": "stream",
          "name": "stderr",
          "text": [
            "Model Layer Loop - features.denseblock1.denselayer2:   3%|▎         | 15/495 [00:40<16:12,  2.03s/it]"
          ]
        },
        {
          "output_type": "stream",
          "name": "stdout",
          "text": [
            "0\n"
          ]
        },
        {
          "output_type": "stream",
          "name": "stderr",
          "text": [
            "Model Layer Loop - features.denseblock1.denselayer2.layers:   3%|▎         | 16/495 [00:43<20:05,  2.52s/it]"
          ]
        },
        {
          "output_type": "stream",
          "name": "stdout",
          "text": [
            "0\n"
          ]
        },
        {
          "output_type": "stream",
          "name": "stderr",
          "text": [
            "Model Layer Loop - features.denseblock1.denselayer2.layers.norm1:   3%|▎         | 17/495 [00:46<20:04,  2.52s/it]"
          ]
        },
        {
          "output_type": "stream",
          "name": "stdout",
          "text": [
            "0\n"
          ]
        },
        {
          "output_type": "stream",
          "name": "stderr",
          "text": [
            "Model Layer Loop - features.denseblock1.denselayer2.layers.relu1:   4%|▎         | 18/495 [00:46<14:47,  1.86s/it]"
          ]
        },
        {
          "output_type": "stream",
          "name": "stdout",
          "text": [
            "skipping features.denseblock1.denselayer2.layers.norm1\n",
            "unsupported operand type(s) for *: 'NoneType' and 'float'\n"
          ]
        },
        {
          "output_type": "stream",
          "name": "stderr",
          "text": [
            "Model Layer Loop - features.denseblock1.denselayer2.layers.conv1:   4%|▍         | 19/495 [00:47<12:38,  1.59s/it]"
          ]
        },
        {
          "output_type": "stream",
          "name": "stdout",
          "text": [
            "0\n"
          ]
        },
        {
          "output_type": "stream",
          "name": "stderr",
          "text": [
            "Model Layer Loop - features.denseblock1.denselayer2.layers.norm2:   4%|▍         | 20/495 [00:48<11:44,  1.48s/it]"
          ]
        },
        {
          "output_type": "stream",
          "name": "stdout",
          "text": [
            "0\n"
          ]
        },
        {
          "output_type": "stream",
          "name": "stderr",
          "text": [
            "Model Layer Loop - features.denseblock1.denselayer2.layers.relu2:   4%|▍         | 21/495 [00:49<09:10,  1.16s/it]"
          ]
        },
        {
          "output_type": "stream",
          "name": "stdout",
          "text": [
            "skipping features.denseblock1.denselayer2.layers.norm2\n",
            "unsupported operand type(s) for *: 'NoneType' and 'float'\n"
          ]
        },
        {
          "output_type": "stream",
          "name": "stderr",
          "text": [
            "Model Layer Loop - features.denseblock1.denselayer2.layers.conv2:   4%|▍         | 22/495 [00:50<08:43,  1.11s/it]"
          ]
        },
        {
          "output_type": "stream",
          "name": "stdout",
          "text": [
            "0\n"
          ]
        },
        {
          "output_type": "stream",
          "name": "stderr",
          "text": [
            "Model Layer Loop - features.denseblock1.denselayer3:   5%|▍         | 23/495 [00:51<08:48,  1.12s/it]"
          ]
        },
        {
          "output_type": "stream",
          "name": "stdout",
          "text": [
            "0\n"
          ]
        },
        {
          "output_type": "stream",
          "name": "stderr",
          "text": [
            "Model Layer Loop - features.denseblock1.denselayer3.layers:   5%|▍         | 24/495 [00:52<08:20,  1.06s/it]"
          ]
        },
        {
          "output_type": "stream",
          "name": "stdout",
          "text": [
            "0\n"
          ]
        },
        {
          "output_type": "stream",
          "name": "stderr",
          "text": [
            "Model Layer Loop - features.denseblock1.denselayer3.layers.relu1:   5%|▌         | 26/495 [00:53<05:27,  1.43it/s]"
          ]
        },
        {
          "output_type": "stream",
          "name": "stdout",
          "text": [
            "0\n",
            "skipping features.denseblock1.denselayer3.layers.norm1\n",
            "unsupported operand type(s) for *: 'NoneType' and 'float'\n"
          ]
        },
        {
          "output_type": "stream",
          "name": "stderr",
          "text": [
            "Model Layer Loop - features.denseblock1.denselayer3.layers.conv1:   5%|▌         | 27/495 [00:53<05:07,  1.52it/s]"
          ]
        },
        {
          "output_type": "stream",
          "name": "stdout",
          "text": [
            "0\n"
          ]
        },
        {
          "output_type": "stream",
          "name": "stderr",
          "text": [
            "Model Layer Loop - features.denseblock1.denselayer3.layers.relu2:   6%|▌         | 29/495 [00:54<04:39,  1.67it/s]"
          ]
        },
        {
          "output_type": "stream",
          "name": "stdout",
          "text": [
            "0\n",
            "skipping features.denseblock1.denselayer3.layers.norm2\n",
            "unsupported operand type(s) for *: 'NoneType' and 'float'\n"
          ]
        },
        {
          "output_type": "stream",
          "name": "stderr",
          "text": [
            "Model Layer Loop - features.denseblock1.denselayer3.layers.conv2:   6%|▌         | 30/495 [00:55<05:48,  1.33it/s]"
          ]
        },
        {
          "output_type": "stream",
          "name": "stdout",
          "text": [
            "0\n"
          ]
        },
        {
          "output_type": "stream",
          "name": "stderr",
          "text": [
            "Model Layer Loop - features.denseblock1.denselayer4:   6%|▋         | 31/495 [00:57<07:19,  1.06it/s]"
          ]
        },
        {
          "output_type": "stream",
          "name": "stdout",
          "text": [
            "0\n"
          ]
        },
        {
          "output_type": "stream",
          "name": "stderr",
          "text": [
            "Model Layer Loop - features.denseblock1.denselayer4.layers:   6%|▋         | 32/495 [00:58<07:02,  1.10it/s]"
          ]
        },
        {
          "output_type": "stream",
          "name": "stdout",
          "text": [
            "0\n"
          ]
        },
        {
          "output_type": "stream",
          "name": "stderr",
          "text": [
            "Model Layer Loop - features.denseblock1.denselayer4.layers.relu1:   7%|▋         | 34/495 [00:58<04:28,  1.71it/s]"
          ]
        },
        {
          "output_type": "stream",
          "name": "stdout",
          "text": [
            "0\n",
            "skipping features.denseblock1.denselayer4.layers.norm1\n",
            "unsupported operand type(s) for *: 'NoneType' and 'float'\n"
          ]
        },
        {
          "output_type": "stream",
          "name": "stderr",
          "text": [
            "Model Layer Loop - features.denseblock1.denselayer4.layers.conv1:   7%|▋         | 35/495 [00:59<04:14,  1.81it/s]"
          ]
        },
        {
          "output_type": "stream",
          "name": "stdout",
          "text": [
            "0\n"
          ]
        },
        {
          "output_type": "stream",
          "name": "stderr",
          "text": [
            "Model Layer Loop - features.denseblock1.denselayer4.layers.relu2:   7%|▋         | 37/495 [00:59<03:09,  2.42it/s]"
          ]
        },
        {
          "output_type": "stream",
          "name": "stdout",
          "text": [
            "0\n",
            "skipping features.denseblock1.denselayer4.layers.norm2\n",
            "unsupported operand type(s) for *: 'NoneType' and 'float'\n"
          ]
        },
        {
          "output_type": "stream",
          "name": "stderr",
          "text": [
            "Model Layer Loop - features.denseblock1.denselayer4.layers.conv2:   8%|▊         | 38/495 [01:00<03:20,  2.28it/s]"
          ]
        },
        {
          "output_type": "stream",
          "name": "stdout",
          "text": [
            "0\n"
          ]
        },
        {
          "output_type": "stream",
          "name": "stderr",
          "text": [
            "Model Layer Loop - features.denseblock1.denselayer5:   8%|▊         | 39/495 [01:00<03:21,  2.27it/s]"
          ]
        },
        {
          "output_type": "stream",
          "name": "stdout",
          "text": [
            "0\n"
          ]
        },
        {
          "output_type": "stream",
          "name": "stderr",
          "text": [
            "Model Layer Loop - features.denseblock1.denselayer5.layers:   8%|▊         | 40/495 [01:01<03:12,  2.36it/s]"
          ]
        },
        {
          "output_type": "stream",
          "name": "stdout",
          "text": [
            "0\n"
          ]
        },
        {
          "output_type": "stream",
          "name": "stderr",
          "text": [
            "Model Layer Loop - features.denseblock1.denselayer5.layers.relu1:   8%|▊         | 42/495 [01:01<02:23,  3.16it/s]"
          ]
        },
        {
          "output_type": "stream",
          "name": "stdout",
          "text": [
            "0\n",
            "skipping features.denseblock1.denselayer5.layers.norm1\n",
            "unsupported operand type(s) for *: 'NoneType' and 'float'\n"
          ]
        },
        {
          "output_type": "stream",
          "name": "stderr",
          "text": [
            "Model Layer Loop - features.denseblock1.denselayer5.layers.conv1:   9%|▊         | 43/495 [01:02<02:30,  3.01it/s]"
          ]
        },
        {
          "output_type": "stream",
          "name": "stdout",
          "text": [
            "0\n"
          ]
        },
        {
          "output_type": "stream",
          "name": "stderr",
          "text": [
            "Model Layer Loop - features.denseblock1.denselayer5.layers.relu2:   9%|▉         | 45/495 [01:02<02:03,  3.66it/s]"
          ]
        },
        {
          "output_type": "stream",
          "name": "stdout",
          "text": [
            "0\n",
            "skipping features.denseblock1.denselayer5.layers.norm2\n",
            "unsupported operand type(s) for *: 'NoneType' and 'float'\n"
          ]
        },
        {
          "output_type": "stream",
          "name": "stderr",
          "text": [
            "Model Layer Loop - features.denseblock1.denselayer5.layers.conv2:   9%|▉         | 46/495 [01:02<02:17,  3.27it/s]"
          ]
        },
        {
          "output_type": "stream",
          "name": "stdout",
          "text": [
            "0\n"
          ]
        },
        {
          "output_type": "stream",
          "name": "stderr",
          "text": [
            "Model Layer Loop - features.denseblock1.denselayer6:   9%|▉         | 47/495 [01:03<02:26,  3.05it/s]"
          ]
        },
        {
          "output_type": "stream",
          "name": "stdout",
          "text": [
            "0\n"
          ]
        },
        {
          "output_type": "stream",
          "name": "stderr",
          "text": [
            "Model Layer Loop - features.denseblock1.denselayer6.layers:  10%|▉         | 48/495 [01:03<02:32,  2.93it/s]"
          ]
        },
        {
          "output_type": "stream",
          "name": "stdout",
          "text": [
            "0\n"
          ]
        },
        {
          "output_type": "stream",
          "name": "stderr",
          "text": [
            "Model Layer Loop - features.denseblock1.denselayer6.layers.relu1:  10%|█         | 50/495 [01:04<02:07,  3.49it/s]"
          ]
        },
        {
          "output_type": "stream",
          "name": "stdout",
          "text": [
            "0\n",
            "skipping features.denseblock1.denselayer6.layers.norm1\n",
            "unsupported operand type(s) for *: 'NoneType' and 'float'\n"
          ]
        },
        {
          "output_type": "stream",
          "name": "stderr",
          "text": [
            "Model Layer Loop - features.denseblock1.denselayer6.layers.conv1:  10%|█         | 51/495 [01:04<02:28,  2.99it/s]"
          ]
        },
        {
          "output_type": "stream",
          "name": "stdout",
          "text": [
            "0\n"
          ]
        },
        {
          "output_type": "stream",
          "name": "stderr",
          "text": [
            "Model Layer Loop - features.denseblock1.denselayer6.layers.relu2:  11%|█         | 52/495 [01:05<02:31,  2.92it/s]"
          ]
        },
        {
          "output_type": "stream",
          "name": "stdout",
          "text": [
            "0\n",
            "skipping features.denseblock1.denselayer6.layers.norm2\n",
            "unsupported operand type(s) for *: 'NoneType' and 'float'\n"
          ]
        },
        {
          "output_type": "stream",
          "name": "stderr",
          "text": [
            "Model Layer Loop - features.denseblock1.denselayer6.layers.conv2:  11%|█         | 54/495 [01:05<02:09,  3.40it/s]"
          ]
        },
        {
          "output_type": "stream",
          "name": "stdout",
          "text": [
            "0\n"
          ]
        },
        {
          "output_type": "stream",
          "name": "stderr",
          "text": [
            "Model Layer Loop - features.transition1:  11%|█         | 55/495 [01:05<02:17,  3.19it/s]"
          ]
        },
        {
          "output_type": "stream",
          "name": "stdout",
          "text": [
            "0\n"
          ]
        },
        {
          "output_type": "stream",
          "name": "stderr",
          "text": [
            "Model Layer Loop - features.transition1.relu:  11%|█▏        | 56/495 [01:06<02:23,  3.05it/s]"
          ]
        },
        {
          "output_type": "stream",
          "name": "stdout",
          "text": [
            "0\n",
            "skipping features.transition1.norm\n",
            "unsupported operand type(s) for *: 'NoneType' and 'float'\n"
          ]
        },
        {
          "output_type": "stream",
          "name": "stderr",
          "text": [
            "Model Layer Loop - features.transition1.conv:  12%|█▏        | 58/495 [01:06<02:03,  3.53it/s]"
          ]
        },
        {
          "output_type": "stream",
          "name": "stdout",
          "text": [
            "0\n"
          ]
        },
        {
          "output_type": "stream",
          "name": "stderr",
          "text": [
            "Model Layer Loop - features.transition1.pool:  12%|█▏        | 59/495 [01:07<02:12,  3.29it/s]"
          ]
        },
        {
          "output_type": "stream",
          "name": "stdout",
          "text": [
            "0\n"
          ]
        },
        {
          "output_type": "stream",
          "name": "stderr",
          "text": [
            "Model Layer Loop - features.denseblock2:  12%|█▏        | 60/495 [01:07<02:19,  3.11it/s]"
          ]
        },
        {
          "output_type": "stream",
          "name": "stdout",
          "text": [
            "0\n"
          ]
        },
        {
          "output_type": "stream",
          "name": "stderr",
          "text": [
            "Model Layer Loop - features.denseblock2.denselayer1:  12%|█▏        | 61/495 [01:07<02:23,  3.02it/s]"
          ]
        },
        {
          "output_type": "stream",
          "name": "stdout",
          "text": [
            "0\n"
          ]
        },
        {
          "output_type": "stream",
          "name": "stderr",
          "text": [
            "Model Layer Loop - features.denseblock2.denselayer1.layers:  13%|█▎        | 62/495 [01:08<02:27,  2.94it/s]"
          ]
        },
        {
          "output_type": "stream",
          "name": "stdout",
          "text": [
            "0\n"
          ]
        },
        {
          "output_type": "stream",
          "name": "stderr",
          "text": [
            "Model Layer Loop - features.denseblock2.denselayer1.layers.relu1:  13%|█▎        | 63/495 [01:08<02:29,  2.88it/s]"
          ]
        },
        {
          "output_type": "stream",
          "name": "stdout",
          "text": [
            "0\n",
            "skipping features.denseblock2.denselayer1.layers.norm1\n",
            "unsupported operand type(s) for *: 'NoneType' and 'float'\n"
          ]
        },
        {
          "output_type": "stream",
          "name": "stderr",
          "text": [
            "Model Layer Loop - features.denseblock2.denselayer1.layers.conv1:  13%|█▎        | 65/495 [01:08<02:06,  3.40it/s]"
          ]
        },
        {
          "output_type": "stream",
          "name": "stdout",
          "text": [
            "0\n"
          ]
        },
        {
          "output_type": "stream",
          "name": "stderr",
          "text": [
            "Model Layer Loop - features.denseblock2.denselayer1.layers.relu2:  13%|█▎        | 66/495 [01:09<02:12,  3.24it/s]"
          ]
        },
        {
          "output_type": "stream",
          "name": "stdout",
          "text": [
            "0\n",
            "skipping features.denseblock2.denselayer1.layers.norm2\n",
            "unsupported operand type(s) for *: 'NoneType' and 'float'\n"
          ]
        },
        {
          "output_type": "stream",
          "name": "stderr",
          "text": [
            "Model Layer Loop - features.denseblock2.denselayer1.layers.conv2:  14%|█▎        | 68/495 [01:09<01:59,  3.57it/s]"
          ]
        },
        {
          "output_type": "stream",
          "name": "stdout",
          "text": [
            "0\n"
          ]
        },
        {
          "output_type": "stream",
          "name": "stderr",
          "text": [
            "Model Layer Loop - features.denseblock2.denselayer2:  14%|█▍        | 69/495 [01:10<02:09,  3.29it/s]"
          ]
        },
        {
          "output_type": "stream",
          "name": "stdout",
          "text": [
            "0\n"
          ]
        },
        {
          "output_type": "stream",
          "name": "stderr",
          "text": [
            "Model Layer Loop - features.denseblock2.denselayer2.layers:  14%|█▍        | 70/495 [01:10<02:17,  3.09it/s]"
          ]
        },
        {
          "output_type": "stream",
          "name": "stdout",
          "text": [
            "0\n"
          ]
        },
        {
          "output_type": "stream",
          "name": "stderr",
          "text": [
            "Model Layer Loop - features.denseblock2.denselayer2.layers.relu1:  15%|█▍        | 72/495 [01:11<02:06,  3.35it/s]"
          ]
        },
        {
          "output_type": "stream",
          "name": "stdout",
          "text": [
            "0\n",
            "skipping features.denseblock2.denselayer2.layers.norm1\n",
            "unsupported operand type(s) for *: 'NoneType' and 'float'\n"
          ]
        },
        {
          "output_type": "stream",
          "name": "stderr",
          "text": [
            "Model Layer Loop - features.denseblock2.denselayer2.layers.conv1:  15%|█▍        | 73/495 [01:11<02:28,  2.85it/s]"
          ]
        },
        {
          "output_type": "stream",
          "name": "stdout",
          "text": [
            "0\n"
          ]
        },
        {
          "output_type": "stream",
          "name": "stderr",
          "text": [
            "Model Layer Loop - features.denseblock2.denselayer2.layers.relu2:  15%|█▌        | 75/495 [01:12<02:11,  3.19it/s]"
          ]
        },
        {
          "output_type": "stream",
          "name": "stdout",
          "text": [
            "0\n",
            "skipping features.denseblock2.denselayer2.layers.norm2\n",
            "unsupported operand type(s) for *: 'NoneType' and 'float'\n"
          ]
        },
        {
          "output_type": "stream",
          "name": "stderr",
          "text": [
            "Model Layer Loop - features.denseblock2.denselayer2.layers.conv2:  15%|█▌        | 76/495 [01:12<02:30,  2.79it/s]"
          ]
        },
        {
          "output_type": "stream",
          "name": "stdout",
          "text": [
            "0\n"
          ]
        },
        {
          "output_type": "stream",
          "name": "stderr",
          "text": [
            "Model Layer Loop - features.denseblock2.denselayer3:  16%|█▌        | 77/495 [01:13<02:47,  2.50it/s]"
          ]
        },
        {
          "output_type": "stream",
          "name": "stdout",
          "text": [
            "0\n"
          ]
        },
        {
          "output_type": "stream",
          "name": "stderr",
          "text": [
            "Model Layer Loop - features.denseblock2.denselayer3.layers:  16%|█▌        | 78/495 [01:13<02:55,  2.38it/s]"
          ]
        },
        {
          "output_type": "stream",
          "name": "stdout",
          "text": [
            "0\n"
          ]
        },
        {
          "output_type": "stream",
          "name": "stderr",
          "text": [
            "Model Layer Loop - features.denseblock2.denselayer3.layers.relu1:  16%|█▌        | 80/495 [01:14<02:25,  2.85it/s]"
          ]
        },
        {
          "output_type": "stream",
          "name": "stdout",
          "text": [
            "0\n",
            "skipping features.denseblock2.denselayer3.layers.norm1\n",
            "unsupported operand type(s) for *: 'NoneType' and 'float'\n"
          ]
        },
        {
          "output_type": "stream",
          "name": "stderr",
          "text": [
            "Model Layer Loop - features.denseblock2.denselayer3.layers.conv1:  16%|█▋        | 81/495 [01:14<02:46,  2.49it/s]"
          ]
        },
        {
          "output_type": "stream",
          "name": "stdout",
          "text": [
            "0\n"
          ]
        },
        {
          "output_type": "stream",
          "name": "stderr",
          "text": [
            "Model Layer Loop - features.denseblock2.denselayer3.layers.relu2:  17%|█▋        | 83/495 [01:15<02:12,  3.11it/s]"
          ]
        },
        {
          "output_type": "stream",
          "name": "stdout",
          "text": [
            "0\n",
            "skipping features.denseblock2.denselayer3.layers.norm2\n",
            "unsupported operand type(s) for *: 'NoneType' and 'float'\n"
          ]
        },
        {
          "output_type": "stream",
          "name": "stderr",
          "text": [
            "Model Layer Loop - features.denseblock2.denselayer3.layers.conv2:  17%|█▋        | 84/495 [01:15<02:20,  2.93it/s]"
          ]
        },
        {
          "output_type": "stream",
          "name": "stdout",
          "text": [
            "0\n"
          ]
        },
        {
          "output_type": "stream",
          "name": "stderr",
          "text": [
            "Model Layer Loop - features.denseblock2.denselayer4:  17%|█▋        | 85/495 [01:16<02:26,  2.80it/s]"
          ]
        },
        {
          "output_type": "stream",
          "name": "stdout",
          "text": [
            "0\n"
          ]
        },
        {
          "output_type": "stream",
          "name": "stderr",
          "text": [
            "Model Layer Loop - features.denseblock2.denselayer4.layers:  17%|█▋        | 86/495 [01:16<02:28,  2.76it/s]"
          ]
        },
        {
          "output_type": "stream",
          "name": "stdout",
          "text": [
            "0\n"
          ]
        },
        {
          "output_type": "stream",
          "name": "stderr",
          "text": [
            "Model Layer Loop - features.denseblock2.denselayer4.layers.relu1:  18%|█▊        | 87/495 [01:16<02:29,  2.72it/s]"
          ]
        },
        {
          "output_type": "stream",
          "name": "stdout",
          "text": [
            "0\n",
            "skipping features.denseblock2.denselayer4.layers.norm1\n",
            "unsupported operand type(s) for *: 'NoneType' and 'float'\n"
          ]
        },
        {
          "output_type": "stream",
          "name": "stderr",
          "text": [
            "Model Layer Loop - features.denseblock2.denselayer4.layers.conv1:  18%|█▊        | 89/495 [01:17<02:04,  3.27it/s]"
          ]
        },
        {
          "output_type": "stream",
          "name": "stdout",
          "text": [
            "0\n"
          ]
        },
        {
          "output_type": "stream",
          "name": "stderr",
          "text": [
            "Model Layer Loop - features.denseblock2.denselayer4.layers.relu2:  18%|█▊        | 91/495 [01:17<01:47,  3.75it/s]"
          ]
        },
        {
          "output_type": "stream",
          "name": "stdout",
          "text": [
            "0\n",
            "skipping features.denseblock2.denselayer4.layers.norm2\n",
            "unsupported operand type(s) for *: 'NoneType' and 'float'\n"
          ]
        },
        {
          "output_type": "stream",
          "name": "stderr",
          "text": [
            "Model Layer Loop - features.denseblock2.denselayer4.layers.conv2:  19%|█▊        | 92/495 [01:18<02:01,  3.32it/s]"
          ]
        },
        {
          "output_type": "stream",
          "name": "stdout",
          "text": [
            "0\n"
          ]
        },
        {
          "output_type": "stream",
          "name": "stderr",
          "text": [
            "Model Layer Loop - features.denseblock2.denselayer5:  19%|█▉        | 93/495 [01:18<02:10,  3.09it/s]"
          ]
        },
        {
          "output_type": "stream",
          "name": "stdout",
          "text": [
            "0\n"
          ]
        },
        {
          "output_type": "stream",
          "name": "stderr",
          "text": [
            "Model Layer Loop - features.denseblock2.denselayer5.layers:  19%|█▉        | 94/495 [01:19<02:16,  2.93it/s]"
          ]
        },
        {
          "output_type": "stream",
          "name": "stdout",
          "text": [
            "0\n"
          ]
        },
        {
          "output_type": "stream",
          "name": "stderr",
          "text": [
            "Model Layer Loop - features.denseblock2.denselayer5.layers.relu1:  19%|█▉        | 96/495 [01:19<01:52,  3.56it/s]"
          ]
        },
        {
          "output_type": "stream",
          "name": "stdout",
          "text": [
            "0\n",
            "skipping features.denseblock2.denselayer5.layers.norm1\n",
            "unsupported operand type(s) for *: 'NoneType' and 'float'\n"
          ]
        },
        {
          "output_type": "stream",
          "name": "stderr",
          "text": [
            "Model Layer Loop - features.denseblock2.denselayer5.layers.conv1:  20%|█▉        | 97/495 [01:19<02:03,  3.21it/s]"
          ]
        },
        {
          "output_type": "stream",
          "name": "stdout",
          "text": [
            "0\n"
          ]
        },
        {
          "output_type": "stream",
          "name": "stderr",
          "text": [
            "Model Layer Loop - features.denseblock2.denselayer5.layers.relu2:  20%|██        | 99/495 [01:20<01:45,  3.74it/s]"
          ]
        },
        {
          "output_type": "stream",
          "name": "stdout",
          "text": [
            "0\n",
            "skipping features.denseblock2.denselayer5.layers.norm2\n",
            "unsupported operand type(s) for *: 'NoneType' and 'float'\n"
          ]
        },
        {
          "output_type": "stream",
          "name": "stderr",
          "text": [
            "Model Layer Loop - features.denseblock2.denselayer5.layers.conv2:  20%|██        | 100/495 [01:20<01:58,  3.32it/s]"
          ]
        },
        {
          "output_type": "stream",
          "name": "stdout",
          "text": [
            "0\n"
          ]
        },
        {
          "output_type": "stream",
          "name": "stderr",
          "text": [
            "Model Layer Loop - features.denseblock2.denselayer6:  20%|██        | 101/495 [01:21<02:08,  3.07it/s]"
          ]
        },
        {
          "output_type": "stream",
          "name": "stdout",
          "text": [
            "0\n"
          ]
        },
        {
          "output_type": "stream",
          "name": "stderr",
          "text": [
            "Model Layer Loop - features.denseblock2.denselayer6.layers:  21%|██        | 102/495 [01:21<02:15,  2.90it/s]"
          ]
        },
        {
          "output_type": "stream",
          "name": "stdout",
          "text": [
            "0\n"
          ]
        },
        {
          "output_type": "stream",
          "name": "stderr",
          "text": [
            "Model Layer Loop - features.denseblock2.denselayer6.layers.relu1:  21%|██        | 103/495 [01:22<02:20,  2.79it/s]"
          ]
        },
        {
          "output_type": "stream",
          "name": "stdout",
          "text": [
            "0\n",
            "skipping features.denseblock2.denselayer6.layers.norm1\n",
            "unsupported operand type(s) for *: 'NoneType' and 'float'\n"
          ]
        },
        {
          "output_type": "stream",
          "name": "stderr",
          "text": [
            "Model Layer Loop - features.denseblock2.denselayer6.layers.conv1:  21%|██        | 105/495 [01:22<01:58,  3.29it/s]"
          ]
        },
        {
          "output_type": "stream",
          "name": "stdout",
          "text": [
            "0\n"
          ]
        },
        {
          "output_type": "stream",
          "name": "stderr",
          "text": [
            "Model Layer Loop - features.denseblock2.denselayer6.layers.relu2:  22%|██▏       | 107/495 [01:22<01:43,  3.74it/s]"
          ]
        },
        {
          "output_type": "stream",
          "name": "stdout",
          "text": [
            "0\n",
            "skipping features.denseblock2.denselayer6.layers.norm2\n",
            "unsupported operand type(s) for *: 'NoneType' and 'float'\n"
          ]
        },
        {
          "output_type": "stream",
          "name": "stderr",
          "text": [
            "Model Layer Loop - features.denseblock2.denselayer6.layers.conv2:  22%|██▏       | 108/495 [01:23<01:56,  3.32it/s]"
          ]
        },
        {
          "output_type": "stream",
          "name": "stdout",
          "text": [
            "0\n"
          ]
        },
        {
          "output_type": "stream",
          "name": "stderr",
          "text": [
            "Model Layer Loop - features.denseblock2.denselayer7:  22%|██▏       | 109/495 [01:23<02:08,  3.01it/s]"
          ]
        },
        {
          "output_type": "stream",
          "name": "stdout",
          "text": [
            "0\n"
          ]
        },
        {
          "output_type": "stream",
          "name": "stderr",
          "text": [
            "Model Layer Loop - features.denseblock2.denselayer7.layers:  22%|██▏       | 110/495 [01:24<02:14,  2.86it/s]"
          ]
        },
        {
          "output_type": "stream",
          "name": "stdout",
          "text": [
            "0\n"
          ]
        },
        {
          "output_type": "stream",
          "name": "stderr",
          "text": [
            "Model Layer Loop - features.denseblock2.denselayer7.layers.relu1:  23%|██▎       | 112/495 [01:24<01:49,  3.51it/s]"
          ]
        },
        {
          "output_type": "stream",
          "name": "stdout",
          "text": [
            "0\n",
            "skipping features.denseblock2.denselayer7.layers.norm1\n",
            "unsupported operand type(s) for *: 'NoneType' and 'float'\n"
          ]
        },
        {
          "output_type": "stream",
          "name": "stderr",
          "text": [
            "Model Layer Loop - features.denseblock2.denselayer7.layers.conv1:  23%|██▎       | 113/495 [01:24<02:01,  3.14it/s]"
          ]
        },
        {
          "output_type": "stream",
          "name": "stdout",
          "text": [
            "0\n"
          ]
        },
        {
          "output_type": "stream",
          "name": "stderr",
          "text": [
            "Model Layer Loop - features.denseblock2.denselayer7.layers.relu2:  23%|██▎       | 115/495 [01:25<01:53,  3.34it/s]"
          ]
        },
        {
          "output_type": "stream",
          "name": "stdout",
          "text": [
            "0\n",
            "skipping features.denseblock2.denselayer7.layers.norm2\n",
            "unsupported operand type(s) for *: 'NoneType' and 'float'\n"
          ]
        },
        {
          "output_type": "stream",
          "name": "stderr",
          "text": [
            "Model Layer Loop - features.denseblock2.denselayer7.layers.conv2:  23%|██▎       | 116/495 [01:26<02:16,  2.78it/s]"
          ]
        },
        {
          "output_type": "stream",
          "name": "stdout",
          "text": [
            "0\n"
          ]
        },
        {
          "output_type": "stream",
          "name": "stderr",
          "text": [
            "Model Layer Loop - features.denseblock2.denselayer8:  24%|██▎       | 117/495 [01:26<02:30,  2.51it/s]"
          ]
        },
        {
          "output_type": "stream",
          "name": "stdout",
          "text": [
            "0\n"
          ]
        },
        {
          "output_type": "stream",
          "name": "stderr",
          "text": [
            "Model Layer Loop - features.denseblock2.denselayer8.layers:  24%|██▍       | 118/495 [01:27<03:03,  2.05it/s]"
          ]
        },
        {
          "output_type": "stream",
          "name": "stdout",
          "text": [
            "0\n"
          ]
        },
        {
          "output_type": "stream",
          "name": "stderr",
          "text": [
            "Model Layer Loop - features.denseblock2.denselayer8.layers.relu1:  24%|██▍       | 120/495 [01:27<02:24,  2.59it/s]"
          ]
        },
        {
          "output_type": "stream",
          "name": "stdout",
          "text": [
            "0\n",
            "skipping features.denseblock2.denselayer8.layers.norm1\n",
            "unsupported operand type(s) for *: 'NoneType' and 'float'\n"
          ]
        },
        {
          "output_type": "stream",
          "name": "stderr",
          "text": [
            "Model Layer Loop - features.denseblock2.denselayer8.layers.conv1:  24%|██▍       | 121/495 [01:28<02:38,  2.36it/s]"
          ]
        },
        {
          "output_type": "stream",
          "name": "stdout",
          "text": [
            "0\n"
          ]
        },
        {
          "output_type": "stream",
          "name": "stderr",
          "text": [
            "Model Layer Loop - features.denseblock2.denselayer8.layers.relu2:  25%|██▍       | 123/495 [01:29<02:14,  2.78it/s]"
          ]
        },
        {
          "output_type": "stream",
          "name": "stdout",
          "text": [
            "0\n",
            "skipping features.denseblock2.denselayer8.layers.norm2\n",
            "unsupported operand type(s) for *: 'NoneType' and 'float'\n"
          ]
        },
        {
          "output_type": "stream",
          "name": "stderr",
          "text": [
            "Model Layer Loop - features.denseblock2.denselayer8.layers.conv2:  25%|██▌       | 124/495 [01:29<02:25,  2.55it/s]"
          ]
        },
        {
          "output_type": "stream",
          "name": "stdout",
          "text": [
            "0\n"
          ]
        },
        {
          "output_type": "stream",
          "name": "stderr",
          "text": [
            "Model Layer Loop - features.denseblock2.denselayer9:  25%|██▌       | 125/495 [01:29<02:24,  2.56it/s]"
          ]
        },
        {
          "output_type": "stream",
          "name": "stdout",
          "text": [
            "0\n"
          ]
        },
        {
          "output_type": "stream",
          "name": "stderr",
          "text": [
            "Model Layer Loop - features.denseblock2.denselayer9.layers:  25%|██▌       | 126/495 [01:30<02:23,  2.56it/s]"
          ]
        },
        {
          "output_type": "stream",
          "name": "stdout",
          "text": [
            "0\n"
          ]
        },
        {
          "output_type": "stream",
          "name": "stderr",
          "text": [
            "Model Layer Loop - features.denseblock2.denselayer9.layers.relu1:  26%|██▌       | 128/495 [01:30<01:52,  3.28it/s]"
          ]
        },
        {
          "output_type": "stream",
          "name": "stdout",
          "text": [
            "0\n",
            "skipping features.denseblock2.denselayer9.layers.norm1\n",
            "unsupported operand type(s) for *: 'NoneType' and 'float'\n"
          ]
        },
        {
          "output_type": "stream",
          "name": "stderr",
          "text": [
            "Model Layer Loop - features.denseblock2.denselayer9.layers.conv1:  26%|██▌       | 129/495 [01:31<02:01,  3.01it/s]"
          ]
        },
        {
          "output_type": "stream",
          "name": "stdout",
          "text": [
            "0\n"
          ]
        },
        {
          "output_type": "stream",
          "name": "stderr",
          "text": [
            "Model Layer Loop - features.denseblock2.denselayer9.layers.relu2:  26%|██▋       | 131/495 [01:31<01:40,  3.63it/s]"
          ]
        },
        {
          "output_type": "stream",
          "name": "stdout",
          "text": [
            "0\n",
            "skipping features.denseblock2.denselayer9.layers.norm2\n",
            "unsupported operand type(s) for *: 'NoneType' and 'float'\n"
          ]
        },
        {
          "output_type": "stream",
          "name": "stderr",
          "text": [
            "Model Layer Loop - features.denseblock2.denselayer9.layers.conv2:  27%|██▋       | 132/495 [01:32<01:52,  3.23it/s]"
          ]
        },
        {
          "output_type": "stream",
          "name": "stdout",
          "text": [
            "0\n"
          ]
        },
        {
          "output_type": "stream",
          "name": "stderr",
          "text": [
            "Model Layer Loop - features.denseblock2.denselayer10:  27%|██▋       | 133/495 [01:32<02:01,  2.98it/s]"
          ]
        },
        {
          "output_type": "stream",
          "name": "stdout",
          "text": [
            "0\n"
          ]
        },
        {
          "output_type": "stream",
          "name": "stderr",
          "text": [
            "Model Layer Loop - features.denseblock2.denselayer10.layers:  27%|██▋       | 134/495 [01:32<02:06,  2.86it/s]"
          ]
        },
        {
          "output_type": "stream",
          "name": "stdout",
          "text": [
            "0\n"
          ]
        },
        {
          "output_type": "stream",
          "name": "stderr",
          "text": [
            "Model Layer Loop - features.denseblock2.denselayer10.layers.relu1:  27%|██▋       | 136/495 [01:33<01:41,  3.54it/s]"
          ]
        },
        {
          "output_type": "stream",
          "name": "stdout",
          "text": [
            "0\n",
            "skipping features.denseblock2.denselayer10.layers.norm1\n",
            "unsupported operand type(s) for *: 'NoneType' and 'float'\n"
          ]
        },
        {
          "output_type": "stream",
          "name": "stderr",
          "text": [
            "Model Layer Loop - features.denseblock2.denselayer10.layers.conv1:  28%|██▊       | 137/495 [01:33<01:53,  3.17it/s]"
          ]
        },
        {
          "output_type": "stream",
          "name": "stdout",
          "text": [
            "0\n"
          ]
        },
        {
          "output_type": "stream",
          "name": "stderr",
          "text": [
            "Model Layer Loop - features.denseblock2.denselayer10.layers.relu2:  28%|██▊       | 139/495 [01:34<01:35,  3.73it/s]"
          ]
        },
        {
          "output_type": "stream",
          "name": "stdout",
          "text": [
            "0\n",
            "skipping features.denseblock2.denselayer10.layers.norm2\n",
            "unsupported operand type(s) for *: 'NoneType' and 'float'\n"
          ]
        },
        {
          "output_type": "stream",
          "name": "stderr",
          "text": [
            "Model Layer Loop - features.denseblock2.denselayer10.layers.conv2:  28%|██▊       | 140/495 [01:34<01:48,  3.28it/s]"
          ]
        },
        {
          "output_type": "stream",
          "name": "stdout",
          "text": [
            "0\n"
          ]
        },
        {
          "output_type": "stream",
          "name": "stderr",
          "text": [
            "Model Layer Loop - features.denseblock2.denselayer11:  28%|██▊       | 141/495 [01:35<01:57,  3.02it/s]"
          ]
        },
        {
          "output_type": "stream",
          "name": "stdout",
          "text": [
            "0\n"
          ]
        },
        {
          "output_type": "stream",
          "name": "stderr",
          "text": [
            "Model Layer Loop - features.denseblock2.denselayer11.layers:  29%|██▊       | 142/495 [01:35<02:05,  2.81it/s]"
          ]
        },
        {
          "output_type": "stream",
          "name": "stdout",
          "text": [
            "0\n"
          ]
        },
        {
          "output_type": "stream",
          "name": "stderr",
          "text": [
            "Model Layer Loop - features.denseblock2.denselayer11.layers.relu1:  29%|██▉       | 144/495 [01:36<01:43,  3.39it/s]"
          ]
        },
        {
          "output_type": "stream",
          "name": "stdout",
          "text": [
            "0\n",
            "skipping features.denseblock2.denselayer11.layers.norm1\n",
            "unsupported operand type(s) for *: 'NoneType' and 'float'\n"
          ]
        },
        {
          "output_type": "stream",
          "name": "stderr",
          "text": [
            "Model Layer Loop - features.denseblock2.denselayer11.layers.conv1:  29%|██▉       | 145/495 [01:36<01:54,  3.06it/s]"
          ]
        },
        {
          "output_type": "stream",
          "name": "stdout",
          "text": [
            "0\n"
          ]
        },
        {
          "output_type": "stream",
          "name": "stderr",
          "text": [
            "Model Layer Loop - features.denseblock2.denselayer11.layers.relu2:  29%|██▉       | 146/495 [01:36<02:01,  2.87it/s]"
          ]
        },
        {
          "output_type": "stream",
          "name": "stdout",
          "text": [
            "0\n",
            "skipping features.denseblock2.denselayer11.layers.norm2\n",
            "unsupported operand type(s) for *: 'NoneType' and 'float'\n"
          ]
        },
        {
          "output_type": "stream",
          "name": "stderr",
          "text": [
            "Model Layer Loop - features.denseblock2.denselayer11.layers.conv2:  30%|██▉       | 148/495 [01:37<01:43,  3.34it/s]"
          ]
        },
        {
          "output_type": "stream",
          "name": "stdout",
          "text": [
            "0\n"
          ]
        },
        {
          "output_type": "stream",
          "name": "stderr",
          "text": [
            "Model Layer Loop - features.denseblock2.denselayer12:  30%|███       | 149/495 [01:37<01:51,  3.10it/s]"
          ]
        },
        {
          "output_type": "stream",
          "name": "stdout",
          "text": [
            "0\n"
          ]
        },
        {
          "output_type": "stream",
          "name": "stderr",
          "text": [
            "Model Layer Loop - features.denseblock2.denselayer12.layers:  30%|███       | 150/495 [01:38<01:57,  2.93it/s]"
          ]
        },
        {
          "output_type": "stream",
          "name": "stdout",
          "text": [
            "0\n"
          ]
        },
        {
          "output_type": "stream",
          "name": "stderr",
          "text": [
            "Model Layer Loop - features.denseblock2.denselayer12.layers.relu1:  31%|███       | 152/495 [01:38<01:37,  3.51it/s]"
          ]
        },
        {
          "output_type": "stream",
          "name": "stdout",
          "text": [
            "0\n",
            "skipping features.denseblock2.denselayer12.layers.norm1\n",
            "unsupported operand type(s) for *: 'NoneType' and 'float'\n"
          ]
        },
        {
          "output_type": "stream",
          "name": "stderr",
          "text": [
            "Model Layer Loop - features.denseblock2.denselayer12.layers.conv1:  31%|███       | 153/495 [01:38<01:48,  3.14it/s]"
          ]
        },
        {
          "output_type": "stream",
          "name": "stdout",
          "text": [
            "0\n"
          ]
        },
        {
          "output_type": "stream",
          "name": "stderr",
          "text": [
            "Model Layer Loop - features.denseblock2.denselayer12.layers.relu2:  31%|███▏      | 155/495 [01:39<01:37,  3.49it/s]"
          ]
        },
        {
          "output_type": "stream",
          "name": "stdout",
          "text": [
            "0\n",
            "skipping features.denseblock2.denselayer12.layers.norm2\n",
            "unsupported operand type(s) for *: 'NoneType' and 'float'\n"
          ]
        },
        {
          "output_type": "stream",
          "name": "stderr",
          "text": [
            "Model Layer Loop - features.denseblock2.denselayer12.layers.conv2:  32%|███▏      | 156/495 [01:40<01:57,  2.89it/s]"
          ]
        },
        {
          "output_type": "stream",
          "name": "stdout",
          "text": [
            "0\n"
          ]
        },
        {
          "output_type": "stream",
          "name": "stderr",
          "text": [
            "Model Layer Loop - features.transition2:  32%|███▏      | 157/495 [01:40<02:15,  2.49it/s]"
          ]
        },
        {
          "output_type": "stream",
          "name": "stdout",
          "text": [
            "0\n"
          ]
        },
        {
          "output_type": "stream",
          "name": "stderr",
          "text": [
            "Model Layer Loop - features.transition2.relu:  32%|███▏      | 159/495 [01:41<01:59,  2.82it/s]"
          ]
        },
        {
          "output_type": "stream",
          "name": "stdout",
          "text": [
            "0\n",
            "skipping features.transition2.norm\n",
            "unsupported operand type(s) for *: 'NoneType' and 'float'\n"
          ]
        },
        {
          "output_type": "stream",
          "name": "stderr",
          "text": [
            "Model Layer Loop - features.transition2.conv:  32%|███▏      | 160/495 [01:41<02:15,  2.48it/s]"
          ]
        },
        {
          "output_type": "stream",
          "name": "stdout",
          "text": [
            "0\n"
          ]
        },
        {
          "output_type": "stream",
          "name": "stderr",
          "text": [
            "Model Layer Loop - features.transition2.pool:  33%|███▎      | 161/495 [01:42<02:24,  2.31it/s]"
          ]
        },
        {
          "output_type": "stream",
          "name": "stdout",
          "text": [
            "0\n"
          ]
        },
        {
          "output_type": "stream",
          "name": "stderr",
          "text": [
            "Model Layer Loop - features.denseblock3:  33%|███▎      | 162/495 [01:42<02:32,  2.18it/s]"
          ]
        },
        {
          "output_type": "stream",
          "name": "stdout",
          "text": [
            "0\n"
          ]
        },
        {
          "output_type": "stream",
          "name": "stderr",
          "text": [
            "Model Layer Loop - features.denseblock3.denselayer1:  33%|███▎      | 163/495 [01:43<02:41,  2.05it/s]"
          ]
        },
        {
          "output_type": "stream",
          "name": "stdout",
          "text": [
            "0\n"
          ]
        },
        {
          "output_type": "stream",
          "name": "stderr",
          "text": [
            "Model Layer Loop - features.denseblock3.denselayer1.layers:  33%|███▎      | 164/495 [01:43<02:45,  2.01it/s]"
          ]
        },
        {
          "output_type": "stream",
          "name": "stdout",
          "text": [
            "0\n"
          ]
        },
        {
          "output_type": "stream",
          "name": "stderr",
          "text": [
            "Model Layer Loop - features.denseblock3.denselayer1.layers.relu1:  34%|███▎      | 166/495 [01:44<01:58,  2.78it/s]"
          ]
        },
        {
          "output_type": "stream",
          "name": "stdout",
          "text": [
            "0\n",
            "skipping features.denseblock3.denselayer1.layers.norm1\n",
            "unsupported operand type(s) for *: 'NoneType' and 'float'\n"
          ]
        },
        {
          "output_type": "stream",
          "name": "stderr",
          "text": [
            "Model Layer Loop - features.denseblock3.denselayer1.layers.conv1:  34%|███▎      | 167/495 [01:44<02:02,  2.68it/s]"
          ]
        },
        {
          "output_type": "stream",
          "name": "stdout",
          "text": [
            "0\n"
          ]
        },
        {
          "output_type": "stream",
          "name": "stderr",
          "text": [
            "Model Layer Loop - features.denseblock3.denselayer1.layers.relu2:  34%|███▍      | 169/495 [01:45<01:36,  3.37it/s]"
          ]
        },
        {
          "output_type": "stream",
          "name": "stdout",
          "text": [
            "0\n",
            "skipping features.denseblock3.denselayer1.layers.norm2\n",
            "unsupported operand type(s) for *: 'NoneType' and 'float'\n"
          ]
        },
        {
          "output_type": "stream",
          "name": "stderr",
          "text": [
            "Model Layer Loop - features.denseblock3.denselayer1.layers.conv2:  34%|███▍      | 170/495 [01:45<01:47,  3.01it/s]"
          ]
        },
        {
          "output_type": "stream",
          "name": "stdout",
          "text": [
            "0\n"
          ]
        },
        {
          "output_type": "stream",
          "name": "stderr",
          "text": [
            "Model Layer Loop - features.denseblock3.denselayer2:  35%|███▍      | 171/495 [01:46<01:55,  2.79it/s]"
          ]
        },
        {
          "output_type": "stream",
          "name": "stdout",
          "text": [
            "0\n"
          ]
        },
        {
          "output_type": "stream",
          "name": "stderr",
          "text": [
            "Model Layer Loop - features.denseblock3.denselayer2.layers:  35%|███▍      | 172/495 [01:46<01:58,  2.72it/s]"
          ]
        },
        {
          "output_type": "stream",
          "name": "stdout",
          "text": [
            "0\n"
          ]
        },
        {
          "output_type": "stream",
          "name": "stderr",
          "text": [
            "Model Layer Loop - features.denseblock3.denselayer2.layers.relu1:  35%|███▌      | 174/495 [01:47<01:36,  3.34it/s]"
          ]
        },
        {
          "output_type": "stream",
          "name": "stdout",
          "text": [
            "0\n",
            "skipping features.denseblock3.denselayer2.layers.norm1\n",
            "unsupported operand type(s) for *: 'NoneType' and 'float'\n"
          ]
        },
        {
          "output_type": "stream",
          "name": "stderr",
          "text": [
            "Model Layer Loop - features.denseblock3.denselayer2.layers.conv1:  35%|███▌      | 175/495 [01:47<01:45,  3.02it/s]"
          ]
        },
        {
          "output_type": "stream",
          "name": "stdout",
          "text": [
            "0\n"
          ]
        },
        {
          "output_type": "stream",
          "name": "stderr",
          "text": [
            "Model Layer Loop - features.denseblock3.denselayer2.layers.relu2:  36%|███▌      | 177/495 [01:47<01:29,  3.57it/s]"
          ]
        },
        {
          "output_type": "stream",
          "name": "stdout",
          "text": [
            "0\n",
            "skipping features.denseblock3.denselayer2.layers.norm2\n",
            "unsupported operand type(s) for *: 'NoneType' and 'float'\n"
          ]
        },
        {
          "output_type": "stream",
          "name": "stderr",
          "text": [
            "Model Layer Loop - features.denseblock3.denselayer2.layers.conv2:  36%|███▌      | 178/495 [01:48<01:41,  3.12it/s]"
          ]
        },
        {
          "output_type": "stream",
          "name": "stdout",
          "text": [
            "0\n"
          ]
        },
        {
          "output_type": "stream",
          "name": "stderr",
          "text": [
            "Model Layer Loop - features.denseblock3.denselayer3:  36%|███▌      | 179/495 [01:48<01:48,  2.91it/s]"
          ]
        },
        {
          "output_type": "stream",
          "name": "stdout",
          "text": [
            "0\n"
          ]
        },
        {
          "output_type": "stream",
          "name": "stderr",
          "text": [
            "Model Layer Loop - features.denseblock3.denselayer3.layers:  36%|███▋      | 180/495 [01:49<01:55,  2.73it/s]"
          ]
        },
        {
          "output_type": "stream",
          "name": "stdout",
          "text": [
            "0\n"
          ]
        },
        {
          "output_type": "stream",
          "name": "stderr",
          "text": [
            "Model Layer Loop - features.denseblock3.denselayer3.layers.relu1:  37%|███▋      | 182/495 [01:49<01:33,  3.34it/s]"
          ]
        },
        {
          "output_type": "stream",
          "name": "stdout",
          "text": [
            "0\n",
            "skipping features.denseblock3.denselayer3.layers.norm1\n",
            "unsupported operand type(s) for *: 'NoneType' and 'float'\n"
          ]
        },
        {
          "output_type": "stream",
          "name": "stderr",
          "text": [
            "Model Layer Loop - features.denseblock3.denselayer3.layers.conv1:  37%|███▋      | 183/495 [01:50<01:50,  2.81it/s]"
          ]
        },
        {
          "output_type": "stream",
          "name": "stdout",
          "text": [
            "0\n"
          ]
        },
        {
          "output_type": "stream",
          "name": "stderr",
          "text": [
            "Model Layer Loop - features.denseblock3.denselayer3.layers.relu2:  37%|███▋      | 185/495 [01:50<01:30,  3.44it/s]"
          ]
        },
        {
          "output_type": "stream",
          "name": "stdout",
          "text": [
            "0\n",
            "skipping features.denseblock3.denselayer3.layers.norm2\n",
            "unsupported operand type(s) for *: 'NoneType' and 'float'\n"
          ]
        },
        {
          "output_type": "stream",
          "name": "stderr",
          "text": [
            "Model Layer Loop - features.denseblock3.denselayer3.layers.conv2:  38%|███▊      | 186/495 [01:51<01:41,  3.06it/s]"
          ]
        },
        {
          "output_type": "stream",
          "name": "stdout",
          "text": [
            "0\n"
          ]
        },
        {
          "output_type": "stream",
          "name": "stderr",
          "text": [
            "Model Layer Loop - features.denseblock3.denselayer4:  38%|███▊      | 187/495 [01:51<01:46,  2.88it/s]"
          ]
        },
        {
          "output_type": "stream",
          "name": "stdout",
          "text": [
            "0\n"
          ]
        },
        {
          "output_type": "stream",
          "name": "stderr",
          "text": [
            "Model Layer Loop - features.denseblock3.denselayer4.layers:  38%|███▊      | 188/495 [01:51<01:50,  2.77it/s]"
          ]
        },
        {
          "output_type": "stream",
          "name": "stdout",
          "text": [
            "0\n"
          ]
        },
        {
          "output_type": "stream",
          "name": "stderr",
          "text": [
            "Model Layer Loop - features.denseblock3.denselayer4.layers.relu1:  38%|███▊      | 190/495 [01:52<01:32,  3.31it/s]"
          ]
        },
        {
          "output_type": "stream",
          "name": "stdout",
          "text": [
            "0\n",
            "skipping features.denseblock3.denselayer4.layers.norm1\n",
            "unsupported operand type(s) for *: 'NoneType' and 'float'\n"
          ]
        },
        {
          "output_type": "stream",
          "name": "stderr",
          "text": [
            "Model Layer Loop - features.denseblock3.denselayer4.layers.conv1:  39%|███▊      | 191/495 [01:52<01:39,  3.06it/s]"
          ]
        },
        {
          "output_type": "stream",
          "name": "stdout",
          "text": [
            "0\n"
          ]
        },
        {
          "output_type": "stream",
          "name": "stderr",
          "text": [
            "Model Layer Loop - features.denseblock3.denselayer4.layers.relu2:  39%|███▉      | 192/495 [01:53<01:44,  2.90it/s]"
          ]
        },
        {
          "output_type": "stream",
          "name": "stdout",
          "text": [
            "0\n",
            "skipping features.denseblock3.denselayer4.layers.norm2\n",
            "unsupported operand type(s) for *: 'NoneType' and 'float'\n"
          ]
        },
        {
          "output_type": "stream",
          "name": "stderr",
          "text": [
            "Model Layer Loop - features.denseblock3.denselayer4.layers.conv2:  39%|███▉      | 194/495 [01:53<01:31,  3.29it/s]"
          ]
        },
        {
          "output_type": "stream",
          "name": "stdout",
          "text": [
            "0\n"
          ]
        },
        {
          "output_type": "stream",
          "name": "stderr",
          "text": [
            "Model Layer Loop - features.denseblock3.denselayer5:  39%|███▉      | 195/495 [01:54<01:43,  2.90it/s]"
          ]
        },
        {
          "output_type": "stream",
          "name": "stdout",
          "text": [
            "0\n"
          ]
        },
        {
          "output_type": "stream",
          "name": "stderr",
          "text": [
            "Model Layer Loop - features.denseblock3.denselayer5.layers:  40%|███▉      | 196/495 [01:54<01:55,  2.58it/s]"
          ]
        },
        {
          "output_type": "stream",
          "name": "stdout",
          "text": [
            "0\n"
          ]
        },
        {
          "output_type": "stream",
          "name": "stderr",
          "text": [
            "Model Layer Loop - features.denseblock3.denselayer5.layers.relu1:  40%|████      | 198/495 [01:55<01:44,  2.85it/s]"
          ]
        },
        {
          "output_type": "stream",
          "name": "stdout",
          "text": [
            "0\n",
            "skipping features.denseblock3.denselayer5.layers.norm1\n",
            "unsupported operand type(s) for *: 'NoneType' and 'float'\n"
          ]
        },
        {
          "output_type": "stream",
          "name": "stderr",
          "text": [
            "Model Layer Loop - features.denseblock3.denselayer5.layers.conv1:  40%|████      | 199/495 [01:55<02:07,  2.33it/s]"
          ]
        },
        {
          "output_type": "stream",
          "name": "stdout",
          "text": [
            "0\n"
          ]
        },
        {
          "output_type": "stream",
          "name": "stderr",
          "text": [
            "Model Layer Loop - features.denseblock3.denselayer5.layers.norm2:  40%|████      | 200/495 [01:56<02:22,  2.08it/s]"
          ]
        },
        {
          "output_type": "stream",
          "name": "stdout",
          "text": [
            "0\n"
          ]
        },
        {
          "output_type": "stream",
          "name": "stderr",
          "text": [
            "Model Layer Loop - features.denseblock3.denselayer5.layers.relu2:  41%|████      | 201/495 [01:56<01:58,  2.48it/s]"
          ]
        },
        {
          "output_type": "stream",
          "name": "stdout",
          "text": [
            "skipping features.denseblock3.denselayer5.layers.norm2\n",
            "unsupported operand type(s) for *: 'NoneType' and 'float'\n"
          ]
        },
        {
          "output_type": "stream",
          "name": "stderr",
          "text": [
            "Model Layer Loop - features.denseblock3.denselayer6:  41%|████      | 203/495 [01:57<02:15,  2.16it/s]"
          ]
        },
        {
          "output_type": "stream",
          "name": "stdout",
          "text": [
            "0\n",
            "0\n"
          ]
        },
        {
          "output_type": "stream",
          "name": "stderr",
          "text": [
            "Model Layer Loop - features.denseblock3.denselayer6.layers:  41%|████      | 204/495 [01:58<02:19,  2.08it/s]"
          ]
        },
        {
          "output_type": "stream",
          "name": "stdout",
          "text": [
            "0\n"
          ]
        },
        {
          "output_type": "stream",
          "name": "stderr",
          "text": [
            "Model Layer Loop - features.denseblock3.denselayer6.layers.relu1:  42%|████▏     | 206/495 [01:59<01:49,  2.65it/s]"
          ]
        },
        {
          "output_type": "stream",
          "name": "stdout",
          "text": [
            "0\n",
            "skipping features.denseblock3.denselayer6.layers.norm1\n",
            "unsupported operand type(s) for *: 'NoneType' and 'float'\n"
          ]
        },
        {
          "output_type": "stream",
          "name": "stderr",
          "text": [
            "Model Layer Loop - features.denseblock3.denselayer6.layers.conv1:  42%|████▏     | 207/495 [01:59<01:51,  2.59it/s]"
          ]
        },
        {
          "output_type": "stream",
          "name": "stdout",
          "text": [
            "0\n"
          ]
        },
        {
          "output_type": "stream",
          "name": "stderr",
          "text": [
            "Model Layer Loop - features.denseblock3.denselayer6.layers.relu2:  42%|████▏     | 209/495 [01:59<01:28,  3.25it/s]"
          ]
        },
        {
          "output_type": "stream",
          "name": "stdout",
          "text": [
            "0\n",
            "skipping features.denseblock3.denselayer6.layers.norm2\n",
            "unsupported operand type(s) for *: 'NoneType' and 'float'\n"
          ]
        },
        {
          "output_type": "stream",
          "name": "stderr",
          "text": [
            "Model Layer Loop - features.denseblock3.denselayer6.layers.conv2:  42%|████▏     | 210/495 [02:00<01:36,  2.95it/s]"
          ]
        },
        {
          "output_type": "stream",
          "name": "stdout",
          "text": [
            "0\n"
          ]
        },
        {
          "output_type": "stream",
          "name": "stderr",
          "text": [
            "Model Layer Loop - features.denseblock3.denselayer7:  43%|████▎     | 211/495 [02:00<01:44,  2.72it/s]"
          ]
        },
        {
          "output_type": "stream",
          "name": "stdout",
          "text": [
            "0\n"
          ]
        },
        {
          "output_type": "stream",
          "name": "stderr",
          "text": [
            "Model Layer Loop - features.denseblock3.denselayer7.layers:  43%|████▎     | 212/495 [02:01<01:47,  2.63it/s]"
          ]
        },
        {
          "output_type": "stream",
          "name": "stdout",
          "text": [
            "0\n"
          ]
        },
        {
          "output_type": "stream",
          "name": "stderr",
          "text": [
            "Model Layer Loop - features.denseblock3.denselayer7.layers.relu1:  43%|████▎     | 214/495 [02:01<01:26,  3.26it/s]"
          ]
        },
        {
          "output_type": "stream",
          "name": "stdout",
          "text": [
            "0\n",
            "skipping features.denseblock3.denselayer7.layers.norm1\n",
            "unsupported operand type(s) for *: 'NoneType' and 'float'\n"
          ]
        },
        {
          "output_type": "stream",
          "name": "stderr",
          "text": [
            "Model Layer Loop - features.denseblock3.denselayer7.layers.conv1:  43%|████▎     | 215/495 [02:02<01:34,  2.97it/s]"
          ]
        },
        {
          "output_type": "stream",
          "name": "stdout",
          "text": [
            "0\n"
          ]
        },
        {
          "output_type": "stream",
          "name": "stderr",
          "text": [
            "Model Layer Loop - features.denseblock3.denselayer7.layers.relu2:  44%|████▍     | 217/495 [02:02<01:19,  3.49it/s]"
          ]
        },
        {
          "output_type": "stream",
          "name": "stdout",
          "text": [
            "0\n",
            "skipping features.denseblock3.denselayer7.layers.norm2\n",
            "unsupported operand type(s) for *: 'NoneType' and 'float'\n"
          ]
        },
        {
          "output_type": "stream",
          "name": "stderr",
          "text": [
            "Model Layer Loop - features.denseblock3.denselayer7.layers.conv2:  44%|████▍     | 218/495 [02:03<01:29,  3.09it/s]"
          ]
        },
        {
          "output_type": "stream",
          "name": "stdout",
          "text": [
            "0\n"
          ]
        },
        {
          "output_type": "stream",
          "name": "stderr",
          "text": [
            "Model Layer Loop - features.denseblock3.denselayer8:  44%|████▍     | 219/495 [02:03<01:35,  2.90it/s]"
          ]
        },
        {
          "output_type": "stream",
          "name": "stdout",
          "text": [
            "0\n"
          ]
        },
        {
          "output_type": "stream",
          "name": "stderr",
          "text": [
            "Model Layer Loop - features.denseblock3.denselayer8.layers:  44%|████▍     | 220/495 [02:03<01:40,  2.74it/s]"
          ]
        },
        {
          "output_type": "stream",
          "name": "stdout",
          "text": [
            "0\n"
          ]
        },
        {
          "output_type": "stream",
          "name": "stderr",
          "text": [
            "Model Layer Loop - features.denseblock3.denselayer8.layers.relu1:  45%|████▍     | 222/495 [02:04<01:21,  3.34it/s]"
          ]
        },
        {
          "output_type": "stream",
          "name": "stdout",
          "text": [
            "0\n",
            "skipping features.denseblock3.denselayer8.layers.norm1\n",
            "unsupported operand type(s) for *: 'NoneType' and 'float'\n"
          ]
        },
        {
          "output_type": "stream",
          "name": "stderr",
          "text": [
            "Model Layer Loop - features.denseblock3.denselayer8.layers.conv1:  45%|████▌     | 223/495 [02:04<01:31,  2.98it/s]"
          ]
        },
        {
          "output_type": "stream",
          "name": "stdout",
          "text": [
            "0\n"
          ]
        },
        {
          "output_type": "stream",
          "name": "stderr",
          "text": [
            "Model Layer Loop - features.denseblock3.denselayer8.layers.relu2:  45%|████▌     | 225/495 [02:05<01:16,  3.52it/s]"
          ]
        },
        {
          "output_type": "stream",
          "name": "stdout",
          "text": [
            "0\n",
            "skipping features.denseblock3.denselayer8.layers.norm2\n",
            "unsupported operand type(s) for *: 'NoneType' and 'float'\n"
          ]
        },
        {
          "output_type": "stream",
          "name": "stderr",
          "text": [
            "Model Layer Loop - features.denseblock3.denselayer8.layers.conv2:  46%|████▌     | 226/495 [02:05<01:26,  3.11it/s]"
          ]
        },
        {
          "output_type": "stream",
          "name": "stdout",
          "text": [
            "0\n"
          ]
        },
        {
          "output_type": "stream",
          "name": "stderr",
          "text": [
            "Model Layer Loop - features.denseblock3.denselayer9:  46%|████▌     | 227/495 [02:06<01:35,  2.80it/s]"
          ]
        },
        {
          "output_type": "stream",
          "name": "stdout",
          "text": [
            "0\n"
          ]
        },
        {
          "output_type": "stream",
          "name": "stderr",
          "text": [
            "Model Layer Loop - features.denseblock3.denselayer9.layers:  46%|████▌     | 228/495 [02:06<01:41,  2.62it/s]"
          ]
        },
        {
          "output_type": "stream",
          "name": "stdout",
          "text": [
            "0\n"
          ]
        },
        {
          "output_type": "stream",
          "name": "stderr",
          "text": [
            "Model Layer Loop - features.denseblock3.denselayer9.layers.relu1:  46%|████▋     | 230/495 [02:07<01:22,  3.23it/s]"
          ]
        },
        {
          "output_type": "stream",
          "name": "stdout",
          "text": [
            "0\n",
            "skipping features.denseblock3.denselayer9.layers.norm1\n",
            "unsupported operand type(s) for *: 'NoneType' and 'float'\n"
          ]
        },
        {
          "output_type": "stream",
          "name": "stderr",
          "text": [
            "Model Layer Loop - features.denseblock3.denselayer9.layers.conv1:  47%|████▋     | 231/495 [02:07<01:31,  2.87it/s]"
          ]
        },
        {
          "output_type": "stream",
          "name": "stdout",
          "text": [
            "0\n"
          ]
        },
        {
          "output_type": "stream",
          "name": "stderr",
          "text": [
            "Model Layer Loop - features.denseblock3.denselayer9.layers.relu2:  47%|████▋     | 233/495 [02:08<01:18,  3.35it/s]"
          ]
        },
        {
          "output_type": "stream",
          "name": "stdout",
          "text": [
            "0\n",
            "skipping features.denseblock3.denselayer9.layers.norm2\n",
            "unsupported operand type(s) for *: 'NoneType' and 'float'\n"
          ]
        },
        {
          "output_type": "stream",
          "name": "stderr",
          "text": [
            "Model Layer Loop - features.denseblock3.denselayer9.layers.conv2:  47%|████▋     | 234/495 [02:08<01:27,  2.97it/s]"
          ]
        },
        {
          "output_type": "stream",
          "name": "stdout",
          "text": [
            "0\n"
          ]
        },
        {
          "output_type": "stream",
          "name": "stderr",
          "text": [
            "Model Layer Loop - features.denseblock3.denselayer10:  47%|████▋     | 235/495 [02:09<01:39,  2.61it/s]"
          ]
        },
        {
          "output_type": "stream",
          "name": "stdout",
          "text": [
            "0\n"
          ]
        },
        {
          "output_type": "stream",
          "name": "stderr",
          "text": [
            "Model Layer Loop - features.denseblock3.denselayer10.layers:  48%|████▊     | 236/495 [02:09<01:52,  2.30it/s]"
          ]
        },
        {
          "output_type": "stream",
          "name": "stdout",
          "text": [
            "0\n"
          ]
        },
        {
          "output_type": "stream",
          "name": "stderr",
          "text": [
            "Model Layer Loop - features.denseblock3.denselayer10.layers.relu1:  48%|████▊     | 238/495 [02:10<01:36,  2.66it/s]"
          ]
        },
        {
          "output_type": "stream",
          "name": "stdout",
          "text": [
            "0\n",
            "skipping features.denseblock3.denselayer10.layers.norm1\n",
            "unsupported operand type(s) for *: 'NoneType' and 'float'\n"
          ]
        },
        {
          "output_type": "stream",
          "name": "stderr",
          "text": [
            "Model Layer Loop - features.denseblock3.denselayer10.layers.conv1:  48%|████▊     | 239/495 [02:10<01:53,  2.26it/s]"
          ]
        },
        {
          "output_type": "stream",
          "name": "stdout",
          "text": [
            "0\n"
          ]
        },
        {
          "output_type": "stream",
          "name": "stderr",
          "text": [
            "Model Layer Loop - features.denseblock3.denselayer10.layers.relu2:  49%|████▊     | 241/495 [02:11<01:36,  2.63it/s]"
          ]
        },
        {
          "output_type": "stream",
          "name": "stdout",
          "text": [
            "0\n",
            "skipping features.denseblock3.denselayer10.layers.norm2\n",
            "unsupported operand type(s) for *: 'NoneType' and 'float'\n"
          ]
        },
        {
          "output_type": "stream",
          "name": "stderr",
          "text": [
            "Model Layer Loop - features.denseblock3.denselayer10.layers.conv2:  49%|████▉     | 242/495 [02:12<01:49,  2.31it/s]"
          ]
        },
        {
          "output_type": "stream",
          "name": "stdout",
          "text": [
            "0\n"
          ]
        },
        {
          "output_type": "stream",
          "name": "stderr",
          "text": [
            "Model Layer Loop - features.denseblock3.denselayer11:  49%|████▉     | 243/495 [02:12<01:56,  2.17it/s]"
          ]
        },
        {
          "output_type": "stream",
          "name": "stdout",
          "text": [
            "0\n"
          ]
        },
        {
          "output_type": "stream",
          "name": "stderr",
          "text": [
            "Model Layer Loop - features.denseblock3.denselayer11.layers:  49%|████▉     | 244/495 [02:13<02:36,  1.60it/s]"
          ]
        },
        {
          "output_type": "stream",
          "name": "stdout",
          "text": [
            "0\n"
          ]
        },
        {
          "output_type": "stream",
          "name": "stderr",
          "text": [
            "Model Layer Loop - features.denseblock3.denselayer11.layers.norm1:  49%|████▉     | 245/495 [02:14<02:21,  1.77it/s]"
          ]
        },
        {
          "output_type": "stream",
          "name": "stdout",
          "text": [
            "0\n"
          ]
        },
        {
          "output_type": "stream",
          "name": "stderr",
          "text": [
            "Model Layer Loop - features.denseblock3.denselayer11.layers.relu1:  50%|████▉     | 246/495 [02:14<02:02,  2.03it/s]"
          ]
        },
        {
          "output_type": "stream",
          "name": "stdout",
          "text": [
            "skipping features.denseblock3.denselayer11.layers.norm1\n",
            "unsupported operand type(s) for *: 'NoneType' and 'float'\n"
          ]
        },
        {
          "output_type": "stream",
          "name": "stderr",
          "text": [
            "Model Layer Loop - features.denseblock3.denselayer11.layers.conv1:  50%|████▉     | 247/495 [02:15<02:07,  1.95it/s]"
          ]
        },
        {
          "output_type": "stream",
          "name": "stdout",
          "text": [
            "0\n"
          ]
        },
        {
          "output_type": "stream",
          "name": "stderr",
          "text": [
            "Model Layer Loop - features.denseblock3.denselayer11.layers.relu2:  50%|█████     | 249/495 [02:15<01:47,  2.29it/s]"
          ]
        },
        {
          "output_type": "stream",
          "name": "stdout",
          "text": [
            "0\n",
            "skipping features.denseblock3.denselayer11.layers.norm2\n",
            "unsupported operand type(s) for *: 'NoneType' and 'float'\n"
          ]
        },
        {
          "output_type": "stream",
          "name": "stderr",
          "text": [
            "Model Layer Loop - features.denseblock3.denselayer11.layers.conv2:  51%|█████     | 250/495 [02:16<01:48,  2.25it/s]"
          ]
        },
        {
          "output_type": "stream",
          "name": "stdout",
          "text": [
            "0\n"
          ]
        },
        {
          "output_type": "stream",
          "name": "stderr",
          "text": [
            "Model Layer Loop - features.denseblock3.denselayer12:  51%|█████     | 251/495 [02:16<01:46,  2.30it/s]"
          ]
        },
        {
          "output_type": "stream",
          "name": "stdout",
          "text": [
            "0\n"
          ]
        },
        {
          "output_type": "stream",
          "name": "stderr",
          "text": [
            "Model Layer Loop - features.denseblock3.denselayer12.layers:  51%|█████     | 252/495 [02:17<01:44,  2.33it/s]"
          ]
        },
        {
          "output_type": "stream",
          "name": "stdout",
          "text": [
            "0\n"
          ]
        },
        {
          "output_type": "stream",
          "name": "stderr",
          "text": [
            "Model Layer Loop - features.denseblock3.denselayer12.layers.relu1:  51%|█████▏    | 254/495 [02:17<01:20,  3.01it/s]"
          ]
        },
        {
          "output_type": "stream",
          "name": "stdout",
          "text": [
            "0\n",
            "skipping features.denseblock3.denselayer12.layers.norm1\n",
            "unsupported operand type(s) for *: 'NoneType' and 'float'\n"
          ]
        },
        {
          "output_type": "stream",
          "name": "stderr",
          "text": [
            "Model Layer Loop - features.denseblock3.denselayer12.layers.conv1:  52%|█████▏    | 255/495 [02:18<01:25,  2.81it/s]"
          ]
        },
        {
          "output_type": "stream",
          "name": "stdout",
          "text": [
            "0\n"
          ]
        },
        {
          "output_type": "stream",
          "name": "stderr",
          "text": [
            "Model Layer Loop - features.denseblock3.denselayer12.layers.relu2:  52%|█████▏    | 257/495 [02:18<01:10,  3.36it/s]"
          ]
        },
        {
          "output_type": "stream",
          "name": "stdout",
          "text": [
            "0\n",
            "skipping features.denseblock3.denselayer12.layers.norm2\n",
            "unsupported operand type(s) for *: 'NoneType' and 'float'\n"
          ]
        },
        {
          "output_type": "stream",
          "name": "stderr",
          "text": [
            "Model Layer Loop - features.denseblock3.denselayer12.layers.conv2:  52%|█████▏    | 258/495 [02:19<01:18,  3.00it/s]"
          ]
        },
        {
          "output_type": "stream",
          "name": "stdout",
          "text": [
            "0\n"
          ]
        },
        {
          "output_type": "stream",
          "name": "stderr",
          "text": [
            "Model Layer Loop - features.denseblock3.denselayer13:  52%|█████▏    | 259/495 [02:19<01:23,  2.84it/s]"
          ]
        },
        {
          "output_type": "stream",
          "name": "stdout",
          "text": [
            "0\n"
          ]
        },
        {
          "output_type": "stream",
          "name": "stderr",
          "text": [
            "Model Layer Loop - features.denseblock3.denselayer13.layers:  53%|█████▎    | 260/495 [02:19<01:27,  2.70it/s]"
          ]
        },
        {
          "output_type": "stream",
          "name": "stdout",
          "text": [
            "0\n"
          ]
        },
        {
          "output_type": "stream",
          "name": "stderr",
          "text": [
            "Model Layer Loop - features.denseblock3.denselayer13.layers.relu1:  53%|█████▎    | 262/495 [02:20<01:10,  3.31it/s]"
          ]
        },
        {
          "output_type": "stream",
          "name": "stdout",
          "text": [
            "0\n",
            "skipping features.denseblock3.denselayer13.layers.norm1\n",
            "unsupported operand type(s) for *: 'NoneType' and 'float'\n"
          ]
        },
        {
          "output_type": "stream",
          "name": "stderr",
          "text": [
            "Model Layer Loop - features.denseblock3.denselayer13.layers.conv1:  53%|█████▎    | 263/495 [02:20<01:18,  2.94it/s]"
          ]
        },
        {
          "output_type": "stream",
          "name": "stdout",
          "text": [
            "0\n"
          ]
        },
        {
          "output_type": "stream",
          "name": "stderr",
          "text": [
            "Model Layer Loop - features.denseblock3.denselayer13.layers.relu2:  54%|█████▎    | 265/495 [02:21<01:06,  3.46it/s]"
          ]
        },
        {
          "output_type": "stream",
          "name": "stdout",
          "text": [
            "0\n",
            "skipping features.denseblock3.denselayer13.layers.norm2\n",
            "unsupported operand type(s) for *: 'NoneType' and 'float'\n"
          ]
        },
        {
          "output_type": "stream",
          "name": "stderr",
          "text": [
            "Model Layer Loop - features.denseblock3.denselayer13.layers.conv2:  54%|█████▎    | 266/495 [02:21<01:14,  3.09it/s]"
          ]
        },
        {
          "output_type": "stream",
          "name": "stdout",
          "text": [
            "0\n"
          ]
        },
        {
          "output_type": "stream",
          "name": "stderr",
          "text": [
            "Model Layer Loop - features.denseblock3.denselayer14:  54%|█████▍    | 267/495 [02:22<01:20,  2.85it/s]"
          ]
        },
        {
          "output_type": "stream",
          "name": "stdout",
          "text": [
            "0\n"
          ]
        },
        {
          "output_type": "stream",
          "name": "stderr",
          "text": [
            "Model Layer Loop - features.denseblock3.denselayer14.layers:  54%|█████▍    | 268/495 [02:22<01:23,  2.70it/s]"
          ]
        },
        {
          "output_type": "stream",
          "name": "stdout",
          "text": [
            "0\n"
          ]
        },
        {
          "output_type": "stream",
          "name": "stderr",
          "text": [
            "Model Layer Loop - features.denseblock3.denselayer14.layers.relu1:  55%|█████▍    | 270/495 [02:23<01:08,  3.28it/s]"
          ]
        },
        {
          "output_type": "stream",
          "name": "stdout",
          "text": [
            "0\n",
            "skipping features.denseblock3.denselayer14.layers.norm1\n",
            "unsupported operand type(s) for *: 'NoneType' and 'float'\n"
          ]
        },
        {
          "output_type": "stream",
          "name": "stderr",
          "text": [
            "Model Layer Loop - features.denseblock3.denselayer14.layers.conv1:  55%|█████▍    | 271/495 [02:23<01:15,  2.96it/s]"
          ]
        },
        {
          "output_type": "stream",
          "name": "stdout",
          "text": [
            "0\n"
          ]
        },
        {
          "output_type": "stream",
          "name": "stderr",
          "text": [
            "Model Layer Loop - features.denseblock3.denselayer14.layers.relu2:  55%|█████▌    | 273/495 [02:24<01:13,  3.00it/s]"
          ]
        },
        {
          "output_type": "stream",
          "name": "stdout",
          "text": [
            "0\n",
            "skipping features.denseblock3.denselayer14.layers.norm2\n",
            "unsupported operand type(s) for *: 'NoneType' and 'float'\n"
          ]
        },
        {
          "output_type": "stream",
          "name": "stderr",
          "text": [
            "Model Layer Loop - features.denseblock3.denselayer14.layers.conv2:  55%|█████▌    | 274/495 [02:24<01:28,  2.50it/s]"
          ]
        },
        {
          "output_type": "stream",
          "name": "stdout",
          "text": [
            "0\n"
          ]
        },
        {
          "output_type": "stream",
          "name": "stderr",
          "text": [
            "Model Layer Loop - features.denseblock3.denselayer15:  56%|█████▌    | 275/495 [02:25<01:35,  2.30it/s]"
          ]
        },
        {
          "output_type": "stream",
          "name": "stdout",
          "text": [
            "0\n"
          ]
        },
        {
          "output_type": "stream",
          "name": "stderr",
          "text": [
            "Model Layer Loop - features.denseblock3.denselayer15.layers:  56%|█████▌    | 276/495 [02:25<01:40,  2.17it/s]"
          ]
        },
        {
          "output_type": "stream",
          "name": "stdout",
          "text": [
            "0\n"
          ]
        },
        {
          "output_type": "stream",
          "name": "stderr",
          "text": [
            "Model Layer Loop - features.denseblock3.denselayer15.layers.relu1:  56%|█████▌    | 278/495 [02:26<01:23,  2.59it/s]"
          ]
        },
        {
          "output_type": "stream",
          "name": "stdout",
          "text": [
            "0\n",
            "skipping features.denseblock3.denselayer15.layers.norm1\n",
            "unsupported operand type(s) for *: 'NoneType' and 'float'\n"
          ]
        },
        {
          "output_type": "stream",
          "name": "stderr",
          "text": [
            "Model Layer Loop - features.denseblock3.denselayer15.layers.conv1:  56%|█████▋    | 279/495 [02:27<01:33,  2.30it/s]"
          ]
        },
        {
          "output_type": "stream",
          "name": "stdout",
          "text": [
            "0\n"
          ]
        },
        {
          "output_type": "stream",
          "name": "stderr",
          "text": [
            "Model Layer Loop - features.denseblock3.denselayer15.layers.relu2:  57%|█████▋    | 281/495 [02:27<01:21,  2.62it/s]"
          ]
        },
        {
          "output_type": "stream",
          "name": "stdout",
          "text": [
            "0\n",
            "skipping features.denseblock3.denselayer15.layers.norm2\n",
            "unsupported operand type(s) for *: 'NoneType' and 'float'\n"
          ]
        },
        {
          "output_type": "stream",
          "name": "stderr",
          "text": [
            "Model Layer Loop - features.denseblock3.denselayer15.layers.conv2:  57%|█████▋    | 282/495 [02:28<01:28,  2.42it/s]"
          ]
        },
        {
          "output_type": "stream",
          "name": "stdout",
          "text": [
            "0\n"
          ]
        },
        {
          "output_type": "stream",
          "name": "stderr",
          "text": [
            "Model Layer Loop - features.denseblock3.denselayer16:  57%|█████▋    | 283/495 [02:28<01:28,  2.41it/s]"
          ]
        },
        {
          "output_type": "stream",
          "name": "stdout",
          "text": [
            "0\n"
          ]
        },
        {
          "output_type": "stream",
          "name": "stderr",
          "text": [
            "Model Layer Loop - features.denseblock3.denselayer16.layers:  57%|█████▋    | 284/495 [02:29<01:28,  2.38it/s]"
          ]
        },
        {
          "output_type": "stream",
          "name": "stdout",
          "text": [
            "0\n"
          ]
        },
        {
          "output_type": "stream",
          "name": "stderr",
          "text": [
            "Model Layer Loop - features.denseblock3.denselayer16.layers.relu1:  58%|█████▊    | 286/495 [02:29<01:08,  3.04it/s]"
          ]
        },
        {
          "output_type": "stream",
          "name": "stdout",
          "text": [
            "0\n",
            "skipping features.denseblock3.denselayer16.layers.norm1\n",
            "unsupported operand type(s) for *: 'NoneType' and 'float'\n"
          ]
        },
        {
          "output_type": "stream",
          "name": "stderr",
          "text": [
            "Model Layer Loop - features.denseblock3.denselayer16.layers.conv1:  58%|█████▊    | 287/495 [02:30<01:13,  2.82it/s]"
          ]
        },
        {
          "output_type": "stream",
          "name": "stdout",
          "text": [
            "0\n"
          ]
        },
        {
          "output_type": "stream",
          "name": "stderr",
          "text": [
            "Model Layer Loop - features.denseblock3.denselayer16.layers.relu2:  58%|█████▊    | 289/495 [02:30<01:01,  3.35it/s]"
          ]
        },
        {
          "output_type": "stream",
          "name": "stdout",
          "text": [
            "0\n",
            "skipping features.denseblock3.denselayer16.layers.norm2\n",
            "unsupported operand type(s) for *: 'NoneType' and 'float'\n"
          ]
        },
        {
          "output_type": "stream",
          "name": "stderr",
          "text": [
            "Model Layer Loop - features.denseblock3.denselayer16.layers.conv2:  59%|█████▊    | 290/495 [02:31<01:08,  2.98it/s]"
          ]
        },
        {
          "output_type": "stream",
          "name": "stdout",
          "text": [
            "0\n"
          ]
        },
        {
          "output_type": "stream",
          "name": "stderr",
          "text": [
            "Model Layer Loop - features.denseblock3.denselayer17.layers:  59%|█████▉    | 292/495 [02:31<01:17,  2.62it/s]"
          ]
        },
        {
          "output_type": "stream",
          "name": "stdout",
          "text": [
            "0\n",
            "0\n"
          ]
        },
        {
          "output_type": "stream",
          "name": "stderr",
          "text": [
            "Model Layer Loop - features.denseblock3.denselayer17.layers.relu1:  59%|█████▉    | 294/495 [02:32<01:02,  3.19it/s]"
          ]
        },
        {
          "output_type": "stream",
          "name": "stdout",
          "text": [
            "0\n",
            "skipping features.denseblock3.denselayer17.layers.norm1\n",
            "unsupported operand type(s) for *: 'NoneType' and 'float'\n"
          ]
        },
        {
          "output_type": "stream",
          "name": "stderr",
          "text": [
            "Model Layer Loop - features.denseblock3.denselayer17.layers.conv1:  60%|█████▉    | 295/495 [02:32<01:09,  2.88it/s]"
          ]
        },
        {
          "output_type": "stream",
          "name": "stdout",
          "text": [
            "0\n"
          ]
        },
        {
          "output_type": "stream",
          "name": "stderr",
          "text": [
            "Model Layer Loop - features.denseblock3.denselayer17.layers.relu2:  60%|██████    | 297/495 [02:33<00:58,  3.41it/s]"
          ]
        },
        {
          "output_type": "stream",
          "name": "stdout",
          "text": [
            "0\n",
            "skipping features.denseblock3.denselayer17.layers.norm2\n",
            "unsupported operand type(s) for *: 'NoneType' and 'float'\n"
          ]
        },
        {
          "output_type": "stream",
          "name": "stderr",
          "text": [
            "Model Layer Loop - features.denseblock3.denselayer17.layers.conv2:  60%|██████    | 298/495 [02:33<01:05,  3.01it/s]"
          ]
        },
        {
          "output_type": "stream",
          "name": "stdout",
          "text": [
            "0\n"
          ]
        },
        {
          "output_type": "stream",
          "name": "stderr",
          "text": [
            "Model Layer Loop - features.denseblock3.denselayer18.layers:  61%|██████    | 300/495 [02:34<01:13,  2.66it/s]"
          ]
        },
        {
          "output_type": "stream",
          "name": "stdout",
          "text": [
            "0\n",
            "0\n"
          ]
        },
        {
          "output_type": "stream",
          "name": "stderr",
          "text": [
            "Model Layer Loop - features.denseblock3.denselayer18.layers.relu1:  61%|██████    | 302/495 [02:35<00:59,  3.26it/s]"
          ]
        },
        {
          "output_type": "stream",
          "name": "stdout",
          "text": [
            "0\n",
            "skipping features.denseblock3.denselayer18.layers.norm1\n",
            "unsupported operand type(s) for *: 'NoneType' and 'float'\n"
          ]
        },
        {
          "output_type": "stream",
          "name": "stderr",
          "text": [
            "Model Layer Loop - features.denseblock3.denselayer18.layers.conv1:  61%|██████    | 303/495 [02:35<01:05,  2.91it/s]"
          ]
        },
        {
          "output_type": "stream",
          "name": "stdout",
          "text": [
            "0\n"
          ]
        },
        {
          "output_type": "stream",
          "name": "stderr",
          "text": [
            "Model Layer Loop - features.denseblock3.denselayer18.layers.relu2:  62%|██████▏   | 305/495 [02:36<00:55,  3.40it/s]"
          ]
        },
        {
          "output_type": "stream",
          "name": "stdout",
          "text": [
            "0\n",
            "skipping features.denseblock3.denselayer18.layers.norm2\n",
            "unsupported operand type(s) for *: 'NoneType' and 'float'\n"
          ]
        },
        {
          "output_type": "stream",
          "name": "stderr",
          "text": [
            "Model Layer Loop - features.denseblock3.denselayer18.layers.conv2:  62%|██████▏   | 306/495 [02:36<01:04,  2.95it/s]"
          ]
        },
        {
          "output_type": "stream",
          "name": "stdout",
          "text": [
            "0\n"
          ]
        },
        {
          "output_type": "stream",
          "name": "stderr",
          "text": [
            "Model Layer Loop - features.denseblock3.denselayer19:  62%|██████▏   | 307/495 [02:37<01:08,  2.74it/s]"
          ]
        },
        {
          "output_type": "stream",
          "name": "stdout",
          "text": [
            "0\n"
          ]
        },
        {
          "output_type": "stream",
          "name": "stderr",
          "text": [
            "Model Layer Loop - features.denseblock3.denselayer19.layers:  62%|██████▏   | 308/495 [02:37<01:11,  2.60it/s]"
          ]
        },
        {
          "output_type": "stream",
          "name": "stdout",
          "text": [
            "0\n"
          ]
        },
        {
          "output_type": "stream",
          "name": "stderr",
          "text": [
            "Model Layer Loop - features.denseblock3.denselayer19.layers.relu1:  63%|██████▎   | 310/495 [02:38<00:57,  3.20it/s]"
          ]
        },
        {
          "output_type": "stream",
          "name": "stdout",
          "text": [
            "0\n",
            "skipping features.denseblock3.denselayer19.layers.norm1\n",
            "unsupported operand type(s) for *: 'NoneType' and 'float'\n"
          ]
        },
        {
          "output_type": "stream",
          "name": "stderr",
          "text": [
            "Model Layer Loop - features.denseblock3.denselayer19.layers.conv1:  63%|██████▎   | 311/495 [02:38<01:12,  2.54it/s]"
          ]
        },
        {
          "output_type": "stream",
          "name": "stdout",
          "text": [
            "0\n"
          ]
        },
        {
          "output_type": "stream",
          "name": "stderr",
          "text": [
            "Model Layer Loop - features.denseblock3.denselayer19.layers.relu2:  63%|██████▎   | 313/495 [02:39<01:03,  2.86it/s]"
          ]
        },
        {
          "output_type": "stream",
          "name": "stdout",
          "text": [
            "0\n",
            "skipping features.denseblock3.denselayer19.layers.norm2\n",
            "unsupported operand type(s) for *: 'NoneType' and 'float'\n"
          ]
        },
        {
          "output_type": "stream",
          "name": "stderr",
          "text": [
            "Model Layer Loop - features.denseblock3.denselayer19.layers.conv2:  63%|██████▎   | 314/495 [02:39<01:14,  2.43it/s]"
          ]
        },
        {
          "output_type": "stream",
          "name": "stdout",
          "text": [
            "0\n"
          ]
        },
        {
          "output_type": "stream",
          "name": "stderr",
          "text": [
            "Model Layer Loop - features.denseblock3.denselayer20:  64%|██████▎   | 315/495 [02:40<01:20,  2.24it/s]"
          ]
        },
        {
          "output_type": "stream",
          "name": "stdout",
          "text": [
            "0\n"
          ]
        },
        {
          "output_type": "stream",
          "name": "stderr",
          "text": [
            "Model Layer Loop - features.denseblock3.denselayer20.layers:  64%|██████▍   | 316/495 [02:40<01:24,  2.12it/s]"
          ]
        },
        {
          "output_type": "stream",
          "name": "stdout",
          "text": [
            "0\n"
          ]
        },
        {
          "output_type": "stream",
          "name": "stderr",
          "text": [
            "Model Layer Loop - features.denseblock3.denselayer20.layers.norm1:  64%|██████▍   | 317/495 [02:42<02:14,  1.33it/s]"
          ]
        },
        {
          "output_type": "stream",
          "name": "stdout",
          "text": [
            "0\n"
          ]
        },
        {
          "output_type": "stream",
          "name": "stderr",
          "text": [
            "Model Layer Loop - features.denseblock3.denselayer20.layers.relu1:  64%|██████▍   | 318/495 [02:42<01:50,  1.60it/s]"
          ]
        },
        {
          "output_type": "stream",
          "name": "stdout",
          "text": [
            "skipping features.denseblock3.denselayer20.layers.norm1\n",
            "unsupported operand type(s) for *: 'NoneType' and 'float'\n"
          ]
        },
        {
          "output_type": "stream",
          "name": "stderr",
          "text": [
            "Model Layer Loop - features.denseblock3.denselayer20.layers.conv1:  64%|██████▍   | 319/495 [02:43<01:42,  1.71it/s]"
          ]
        },
        {
          "output_type": "stream",
          "name": "stdout",
          "text": [
            "0\n"
          ]
        },
        {
          "output_type": "stream",
          "name": "stderr",
          "text": [
            "Model Layer Loop - features.denseblock3.denselayer20.layers.relu2:  65%|██████▍   | 321/495 [02:43<01:11,  2.44it/s]"
          ]
        },
        {
          "output_type": "stream",
          "name": "stdout",
          "text": [
            "0\n",
            "skipping features.denseblock3.denselayer20.layers.norm2\n",
            "unsupported operand type(s) for *: 'NoneType' and 'float'\n"
          ]
        },
        {
          "output_type": "stream",
          "name": "stderr",
          "text": [
            "Model Layer Loop - features.denseblock3.denselayer20.layers.conv2:  65%|██████▌   | 322/495 [02:44<01:12,  2.39it/s]"
          ]
        },
        {
          "output_type": "stream",
          "name": "stdout",
          "text": [
            "0\n"
          ]
        },
        {
          "output_type": "stream",
          "name": "stderr",
          "text": [
            "Model Layer Loop - features.denseblock3.denselayer21:  65%|██████▌   | 323/495 [02:44<01:12,  2.37it/s]"
          ]
        },
        {
          "output_type": "stream",
          "name": "stdout",
          "text": [
            "0\n"
          ]
        },
        {
          "output_type": "stream",
          "name": "stderr",
          "text": [
            "Model Layer Loop - features.denseblock3.denselayer21.layers:  65%|██████▌   | 324/495 [02:45<01:12,  2.36it/s]"
          ]
        },
        {
          "output_type": "stream",
          "name": "stdout",
          "text": [
            "0\n"
          ]
        },
        {
          "output_type": "stream",
          "name": "stderr",
          "text": [
            "Model Layer Loop - features.denseblock3.denselayer21.layers.relu1:  66%|██████▌   | 326/495 [02:45<00:55,  3.03it/s]"
          ]
        },
        {
          "output_type": "stream",
          "name": "stdout",
          "text": [
            "0\n",
            "skipping features.denseblock3.denselayer21.layers.norm1\n",
            "unsupported operand type(s) for *: 'NoneType' and 'float'\n"
          ]
        },
        {
          "output_type": "stream",
          "name": "stderr",
          "text": [
            "Model Layer Loop - features.denseblock3.denselayer21.layers.conv1:  66%|██████▌   | 327/495 [02:45<01:00,  2.77it/s]"
          ]
        },
        {
          "output_type": "stream",
          "name": "stdout",
          "text": [
            "0\n"
          ]
        },
        {
          "output_type": "stream",
          "name": "stderr",
          "text": [
            "Model Layer Loop - features.denseblock3.denselayer21.layers.relu2:  66%|██████▋   | 329/495 [02:46<00:50,  3.28it/s]"
          ]
        },
        {
          "output_type": "stream",
          "name": "stdout",
          "text": [
            "0\n",
            "skipping features.denseblock3.denselayer21.layers.norm2\n",
            "unsupported operand type(s) for *: 'NoneType' and 'float'\n"
          ]
        },
        {
          "output_type": "stream",
          "name": "stderr",
          "text": [
            "Model Layer Loop - features.denseblock3.denselayer21.layers.conv2:  67%|██████▋   | 330/495 [02:46<00:57,  2.87it/s]"
          ]
        },
        {
          "output_type": "stream",
          "name": "stdout",
          "text": [
            "0\n"
          ]
        },
        {
          "output_type": "stream",
          "name": "stderr",
          "text": [
            "Model Layer Loop - features.denseblock3.denselayer22:  67%|██████▋   | 331/495 [02:47<01:00,  2.70it/s]"
          ]
        },
        {
          "output_type": "stream",
          "name": "stdout",
          "text": [
            "0\n"
          ]
        },
        {
          "output_type": "stream",
          "name": "stderr",
          "text": [
            "Model Layer Loop - features.denseblock3.denselayer22.layers:  67%|██████▋   | 332/495 [02:47<01:05,  2.50it/s]"
          ]
        },
        {
          "output_type": "stream",
          "name": "stdout",
          "text": [
            "0\n"
          ]
        },
        {
          "output_type": "stream",
          "name": "stderr",
          "text": [
            "Model Layer Loop - features.denseblock3.denselayer22.layers.relu1:  67%|██████▋   | 334/495 [02:48<00:51,  3.10it/s]"
          ]
        },
        {
          "output_type": "stream",
          "name": "stdout",
          "text": [
            "0\n",
            "skipping features.denseblock3.denselayer22.layers.norm1\n",
            "unsupported operand type(s) for *: 'NoneType' and 'float'\n"
          ]
        },
        {
          "output_type": "stream",
          "name": "stderr",
          "text": [
            "Model Layer Loop - features.denseblock3.denselayer22.layers.conv1:  68%|██████▊   | 335/495 [02:48<00:57,  2.79it/s]"
          ]
        },
        {
          "output_type": "stream",
          "name": "stdout",
          "text": [
            "0\n"
          ]
        },
        {
          "output_type": "stream",
          "name": "stderr",
          "text": [
            "Model Layer Loop - features.denseblock3.denselayer22.layers.relu2:  68%|██████▊   | 337/495 [02:49<00:47,  3.32it/s]"
          ]
        },
        {
          "output_type": "stream",
          "name": "stdout",
          "text": [
            "0\n",
            "skipping features.denseblock3.denselayer22.layers.norm2\n",
            "unsupported operand type(s) for *: 'NoneType' and 'float'\n"
          ]
        },
        {
          "output_type": "stream",
          "name": "stderr",
          "text": [
            "Model Layer Loop - features.denseblock3.denselayer22.layers.conv2:  68%|██████▊   | 338/495 [02:49<00:53,  2.95it/s]"
          ]
        },
        {
          "output_type": "stream",
          "name": "stdout",
          "text": [
            "0\n"
          ]
        },
        {
          "output_type": "stream",
          "name": "stderr",
          "text": [
            "Model Layer Loop - features.denseblock3.denselayer23:  68%|██████▊   | 339/495 [02:50<00:57,  2.73it/s]"
          ]
        },
        {
          "output_type": "stream",
          "name": "stdout",
          "text": [
            "0\n"
          ]
        },
        {
          "output_type": "stream",
          "name": "stderr",
          "text": [
            "Model Layer Loop - features.denseblock3.denselayer23.layers:  69%|██████▊   | 340/495 [02:50<00:59,  2.61it/s]"
          ]
        },
        {
          "output_type": "stream",
          "name": "stdout",
          "text": [
            "0\n"
          ]
        },
        {
          "output_type": "stream",
          "name": "stderr",
          "text": [
            "Model Layer Loop - features.denseblock3.denselayer23.layers.norm1:  69%|██████▉   | 341/495 [02:51<01:21,  1.90it/s]"
          ]
        },
        {
          "output_type": "stream",
          "name": "stdout",
          "text": [
            "0\n"
          ]
        },
        {
          "output_type": "stream",
          "name": "stderr",
          "text": [
            "Model Layer Loop - features.denseblock3.denselayer23.layers.relu1:  69%|██████▉   | 342/495 [02:51<01:06,  2.29it/s]"
          ]
        },
        {
          "output_type": "stream",
          "name": "stdout",
          "text": [
            "skipping features.denseblock3.denselayer23.layers.norm1\n",
            "unsupported operand type(s) for *: 'NoneType' and 'float'\n"
          ]
        },
        {
          "output_type": "stream",
          "name": "stderr",
          "text": [
            "Model Layer Loop - features.denseblock3.denselayer23.layers.conv1:  69%|██████▉   | 343/495 [02:52<01:06,  2.28it/s]"
          ]
        },
        {
          "output_type": "stream",
          "name": "stdout",
          "text": [
            "0\n"
          ]
        },
        {
          "output_type": "stream",
          "name": "stderr",
          "text": [
            "Model Layer Loop - features.denseblock3.denselayer23.layers.relu2:  70%|██████▉   | 345/495 [02:53<01:11,  2.09it/s]"
          ]
        },
        {
          "output_type": "stream",
          "name": "stdout",
          "text": [
            "0\n",
            "skipping features.denseblock3.denselayer23.layers.norm2\n",
            "unsupported operand type(s) for *: 'NoneType' and 'float'\n"
          ]
        },
        {
          "output_type": "stream",
          "name": "stderr",
          "text": [
            "Model Layer Loop - features.denseblock3.denselayer23.layers.conv2:  70%|██████▉   | 346/495 [02:53<01:14,  2.00it/s]"
          ]
        },
        {
          "output_type": "stream",
          "name": "stdout",
          "text": [
            "0\n"
          ]
        },
        {
          "output_type": "stream",
          "name": "stderr",
          "text": [
            "Model Layer Loop - features.denseblock3.denselayer24:  70%|███████   | 347/495 [02:54<01:16,  1.93it/s]"
          ]
        },
        {
          "output_type": "stream",
          "name": "stdout",
          "text": [
            "0\n"
          ]
        },
        {
          "output_type": "stream",
          "name": "stderr",
          "text": [
            "Model Layer Loop - features.denseblock3.denselayer24.layers:  70%|███████   | 348/495 [02:55<01:16,  1.91it/s]"
          ]
        },
        {
          "output_type": "stream",
          "name": "stdout",
          "text": [
            "0\n"
          ]
        },
        {
          "output_type": "stream",
          "name": "stderr",
          "text": [
            "Model Layer Loop - features.denseblock3.denselayer24.layers.relu1:  71%|███████   | 350/495 [02:55<00:59,  2.42it/s]"
          ]
        },
        {
          "output_type": "stream",
          "name": "stdout",
          "text": [
            "0\n",
            "skipping features.denseblock3.denselayer24.layers.norm1\n",
            "unsupported operand type(s) for *: 'NoneType' and 'float'\n"
          ]
        },
        {
          "output_type": "stream",
          "name": "stderr",
          "text": [
            "Model Layer Loop - features.denseblock3.denselayer24.layers.conv1:  71%|███████   | 351/495 [02:56<01:09,  2.07it/s]"
          ]
        },
        {
          "output_type": "stream",
          "name": "stdout",
          "text": [
            "0\n"
          ]
        },
        {
          "output_type": "stream",
          "name": "stderr",
          "text": [
            "Model Layer Loop - features.denseblock3.denselayer24.layers.relu2:  71%|███████▏  | 353/495 [02:57<01:00,  2.34it/s]"
          ]
        },
        {
          "output_type": "stream",
          "name": "stdout",
          "text": [
            "0\n",
            "skipping features.denseblock3.denselayer24.layers.norm2\n",
            "unsupported operand type(s) for *: 'NoneType' and 'float'\n"
          ]
        },
        {
          "output_type": "stream",
          "name": "stderr",
          "text": [
            "Model Layer Loop - features.denseblock3.denselayer24.layers.conv2:  72%|███████▏  | 354/495 [02:57<01:10,  1.99it/s]"
          ]
        },
        {
          "output_type": "stream",
          "name": "stdout",
          "text": [
            "0\n"
          ]
        },
        {
          "output_type": "stream",
          "name": "stderr",
          "text": [
            "Model Layer Loop - features.transition3:  72%|███████▏  | 355/495 [02:58<01:21,  1.71it/s]"
          ]
        },
        {
          "output_type": "stream",
          "name": "stdout",
          "text": [
            "0\n"
          ]
        },
        {
          "output_type": "stream",
          "name": "stderr",
          "text": [
            "Model Layer Loop - features.transition3.relu:  72%|███████▏  | 357/495 [02:59<01:04,  2.13it/s]"
          ]
        },
        {
          "output_type": "stream",
          "name": "stdout",
          "text": [
            "0\n",
            "skipping features.transition3.norm\n",
            "unsupported operand type(s) for *: 'NoneType' and 'float'\n"
          ]
        },
        {
          "output_type": "stream",
          "name": "stderr",
          "text": [
            "Model Layer Loop - features.transition3.conv:  72%|███████▏  | 358/495 [03:00<01:07,  2.02it/s]"
          ]
        },
        {
          "output_type": "stream",
          "name": "stdout",
          "text": [
            "0\n"
          ]
        },
        {
          "output_type": "stream",
          "name": "stderr",
          "text": [
            "Model Layer Loop - features.transition3.pool:  73%|███████▎  | 359/495 [03:00<01:10,  1.93it/s]"
          ]
        },
        {
          "output_type": "stream",
          "name": "stdout",
          "text": [
            "0\n"
          ]
        },
        {
          "output_type": "stream",
          "name": "stderr",
          "text": [
            "Model Layer Loop - features.denseblock4:  73%|███████▎  | 360/495 [03:01<01:12,  1.86it/s]"
          ]
        },
        {
          "output_type": "stream",
          "name": "stdout",
          "text": [
            "0\n"
          ]
        },
        {
          "output_type": "stream",
          "name": "stderr",
          "text": [
            "Model Layer Loop - features.denseblock4.denselayer1:  73%|███████▎  | 361/495 [03:01<01:13,  1.83it/s]"
          ]
        },
        {
          "output_type": "stream",
          "name": "stdout",
          "text": [
            "0\n"
          ]
        },
        {
          "output_type": "stream",
          "name": "stderr",
          "text": [
            "Model Layer Loop - features.denseblock4.denselayer1.layers:  73%|███████▎  | 362/495 [03:02<01:07,  1.96it/s]"
          ]
        },
        {
          "output_type": "stream",
          "name": "stdout",
          "text": [
            "0\n"
          ]
        },
        {
          "output_type": "stream",
          "name": "stderr",
          "text": [
            "Model Layer Loop - features.denseblock4.denselayer1.layers.relu1:  74%|███████▎  | 364/495 [03:02<00:49,  2.65it/s]"
          ]
        },
        {
          "output_type": "stream",
          "name": "stdout",
          "text": [
            "0\n",
            "skipping features.denseblock4.denselayer1.layers.norm1\n",
            "unsupported operand type(s) for *: 'NoneType' and 'float'\n"
          ]
        },
        {
          "output_type": "stream",
          "name": "stderr",
          "text": [
            "Model Layer Loop - features.denseblock4.denselayer1.layers.conv1:  74%|███████▎  | 365/495 [03:03<00:51,  2.54it/s]"
          ]
        },
        {
          "output_type": "stream",
          "name": "stdout",
          "text": [
            "0\n"
          ]
        },
        {
          "output_type": "stream",
          "name": "stderr",
          "text": [
            "Model Layer Loop - features.denseblock4.denselayer1.layers.relu2:  74%|███████▍  | 367/495 [03:03<00:41,  3.09it/s]"
          ]
        },
        {
          "output_type": "stream",
          "name": "stdout",
          "text": [
            "0\n",
            "skipping features.denseblock4.denselayer1.layers.norm2\n",
            "unsupported operand type(s) for *: 'NoneType' and 'float'\n"
          ]
        },
        {
          "output_type": "stream",
          "name": "stderr",
          "text": [
            "Model Layer Loop - features.denseblock4.denselayer1.layers.conv2:  74%|███████▍  | 368/495 [03:04<00:46,  2.75it/s]"
          ]
        },
        {
          "output_type": "stream",
          "name": "stdout",
          "text": [
            "0\n"
          ]
        },
        {
          "output_type": "stream",
          "name": "stderr",
          "text": [
            "Model Layer Loop - features.denseblock4.denselayer2:  75%|███████▍  | 369/495 [03:04<00:48,  2.58it/s]"
          ]
        },
        {
          "output_type": "stream",
          "name": "stdout",
          "text": [
            "0\n"
          ]
        },
        {
          "output_type": "stream",
          "name": "stderr",
          "text": [
            "Model Layer Loop - features.denseblock4.denselayer2.layers:  75%|███████▍  | 370/495 [03:05<00:50,  2.48it/s]"
          ]
        },
        {
          "output_type": "stream",
          "name": "stdout",
          "text": [
            "0\n"
          ]
        },
        {
          "output_type": "stream",
          "name": "stderr",
          "text": [
            "Model Layer Loop - features.denseblock4.denselayer2.layers.relu1:  75%|███████▌  | 372/495 [03:05<00:40,  3.07it/s]"
          ]
        },
        {
          "output_type": "stream",
          "name": "stdout",
          "text": [
            "0\n",
            "skipping features.denseblock4.denselayer2.layers.norm1\n",
            "unsupported operand type(s) for *: 'NoneType' and 'float'\n"
          ]
        },
        {
          "output_type": "stream",
          "name": "stderr",
          "text": [
            "Model Layer Loop - features.denseblock4.denselayer2.layers.conv1:  75%|███████▌  | 373/495 [03:06<00:44,  2.77it/s]"
          ]
        },
        {
          "output_type": "stream",
          "name": "stdout",
          "text": [
            "0\n"
          ]
        },
        {
          "output_type": "stream",
          "name": "stderr",
          "text": [
            "Model Layer Loop - features.denseblock4.denselayer2.layers.relu2:  76%|███████▌  | 375/495 [03:06<00:36,  3.26it/s]"
          ]
        },
        {
          "output_type": "stream",
          "name": "stdout",
          "text": [
            "0\n",
            "skipping features.denseblock4.denselayer2.layers.norm2\n",
            "unsupported operand type(s) for *: 'NoneType' and 'float'\n"
          ]
        },
        {
          "output_type": "stream",
          "name": "stderr",
          "text": [
            "Model Layer Loop - features.denseblock4.denselayer2.layers.conv2:  76%|███████▌  | 376/495 [03:07<00:41,  2.87it/s]"
          ]
        },
        {
          "output_type": "stream",
          "name": "stdout",
          "text": [
            "0\n"
          ]
        },
        {
          "output_type": "stream",
          "name": "stderr",
          "text": [
            "Model Layer Loop - features.denseblock4.denselayer3:  76%|███████▌  | 377/495 [03:07<00:44,  2.68it/s]"
          ]
        },
        {
          "output_type": "stream",
          "name": "stdout",
          "text": [
            "0\n"
          ]
        },
        {
          "output_type": "stream",
          "name": "stderr",
          "text": [
            "Model Layer Loop - features.denseblock4.denselayer3.layers:  76%|███████▋  | 378/495 [03:07<00:46,  2.52it/s]"
          ]
        },
        {
          "output_type": "stream",
          "name": "stdout",
          "text": [
            "0\n"
          ]
        },
        {
          "output_type": "stream",
          "name": "stderr",
          "text": [
            "Model Layer Loop - features.denseblock4.denselayer3.layers.relu1:  77%|███████▋  | 380/495 [03:08<00:36,  3.12it/s]"
          ]
        },
        {
          "output_type": "stream",
          "name": "stdout",
          "text": [
            "0\n",
            "skipping features.denseblock4.denselayer3.layers.norm1\n",
            "unsupported operand type(s) for *: 'NoneType' and 'float'\n"
          ]
        },
        {
          "output_type": "stream",
          "name": "stderr",
          "text": [
            "Model Layer Loop - features.denseblock4.denselayer3.layers.conv1:  77%|███████▋  | 381/495 [03:08<00:40,  2.79it/s]"
          ]
        },
        {
          "output_type": "stream",
          "name": "stdout",
          "text": [
            "0\n"
          ]
        },
        {
          "output_type": "stream",
          "name": "stderr",
          "text": [
            "Model Layer Loop - features.denseblock4.denselayer3.layers.norm2:  77%|███████▋  | 383/495 [03:09<00:38,  2.90it/s]"
          ]
        },
        {
          "output_type": "stream",
          "name": "stdout",
          "text": [
            "0\n",
            "skipping features.denseblock4.denselayer3.layers.norm2\n",
            "unsupported operand type(s) for *: 'NoneType' and 'float'\n"
          ]
        },
        {
          "output_type": "stream",
          "name": "stderr",
          "text": [
            "Model Layer Loop - features.denseblock4.denselayer3.layers.conv2:  78%|███████▊  | 384/495 [03:10<00:45,  2.44it/s]"
          ]
        },
        {
          "output_type": "stream",
          "name": "stdout",
          "text": [
            "0\n"
          ]
        },
        {
          "output_type": "stream",
          "name": "stderr",
          "text": [
            "Model Layer Loop - features.denseblock4.denselayer4:  78%|███████▊  | 385/495 [03:10<00:51,  2.15it/s]"
          ]
        },
        {
          "output_type": "stream",
          "name": "stdout",
          "text": [
            "0\n"
          ]
        },
        {
          "output_type": "stream",
          "name": "stderr",
          "text": [
            "Model Layer Loop - features.denseblock4.denselayer4.layers:  78%|███████▊  | 386/495 [03:11<00:53,  2.02it/s]"
          ]
        },
        {
          "output_type": "stream",
          "name": "stdout",
          "text": [
            "0\n"
          ]
        },
        {
          "output_type": "stream",
          "name": "stderr",
          "text": [
            "Model Layer Loop - features.denseblock4.denselayer4.layers.relu1:  78%|███████▊  | 388/495 [03:12<00:44,  2.42it/s]"
          ]
        },
        {
          "output_type": "stream",
          "name": "stdout",
          "text": [
            "0\n",
            "skipping features.denseblock4.denselayer4.layers.norm1\n",
            "unsupported operand type(s) for *: 'NoneType' and 'float'\n"
          ]
        },
        {
          "output_type": "stream",
          "name": "stderr",
          "text": [
            "Model Layer Loop - features.denseblock4.denselayer4.layers.conv1:  79%|███████▊  | 389/495 [03:12<00:48,  2.16it/s]"
          ]
        },
        {
          "output_type": "stream",
          "name": "stdout",
          "text": [
            "0\n"
          ]
        },
        {
          "output_type": "stream",
          "name": "stderr",
          "text": [
            "Model Layer Loop - features.denseblock4.denselayer4.layers.relu2:  79%|███████▉  | 391/495 [03:13<00:41,  2.53it/s]"
          ]
        },
        {
          "output_type": "stream",
          "name": "stdout",
          "text": [
            "0\n",
            "skipping features.denseblock4.denselayer4.layers.norm2\n",
            "unsupported operand type(s) for *: 'NoneType' and 'float'\n"
          ]
        },
        {
          "output_type": "stream",
          "name": "stderr",
          "text": [
            "Model Layer Loop - features.denseblock4.denselayer4.layers.conv2:  79%|███████▉  | 392/495 [03:13<00:44,  2.34it/s]"
          ]
        },
        {
          "output_type": "stream",
          "name": "stdout",
          "text": [
            "0\n"
          ]
        },
        {
          "output_type": "stream",
          "name": "stderr",
          "text": [
            "Model Layer Loop - features.denseblock4.denselayer5:  79%|███████▉  | 393/495 [03:14<00:43,  2.33it/s]"
          ]
        },
        {
          "output_type": "stream",
          "name": "stdout",
          "text": [
            "0\n"
          ]
        },
        {
          "output_type": "stream",
          "name": "stderr",
          "text": [
            "Model Layer Loop - features.denseblock4.denselayer5.layers:  80%|███████▉  | 394/495 [03:14<00:43,  2.31it/s]"
          ]
        },
        {
          "output_type": "stream",
          "name": "stdout",
          "text": [
            "0\n"
          ]
        },
        {
          "output_type": "stream",
          "name": "stderr",
          "text": [
            "Model Layer Loop - features.denseblock4.denselayer5.layers.relu1:  80%|████████  | 396/495 [03:15<00:34,  2.86it/s]"
          ]
        },
        {
          "output_type": "stream",
          "name": "stdout",
          "text": [
            "0\n",
            "skipping features.denseblock4.denselayer5.layers.norm1\n",
            "unsupported operand type(s) for *: 'NoneType' and 'float'\n"
          ]
        },
        {
          "output_type": "stream",
          "name": "stderr",
          "text": [
            "Model Layer Loop - features.denseblock4.denselayer5.layers.conv1:  80%|████████  | 397/495 [03:15<00:37,  2.62it/s]"
          ]
        },
        {
          "output_type": "stream",
          "name": "stdout",
          "text": [
            "0\n"
          ]
        },
        {
          "output_type": "stream",
          "name": "stderr",
          "text": [
            "Model Layer Loop - features.denseblock4.denselayer5.layers.relu2:  81%|████████  | 399/495 [03:16<00:30,  3.15it/s]"
          ]
        },
        {
          "output_type": "stream",
          "name": "stdout",
          "text": [
            "0\n",
            "skipping features.denseblock4.denselayer5.layers.norm2\n",
            "unsupported operand type(s) for *: 'NoneType' and 'float'\n"
          ]
        },
        {
          "output_type": "stream",
          "name": "stderr",
          "text": [
            "Model Layer Loop - features.denseblock4.denselayer5.layers.conv2:  81%|████████  | 400/495 [03:16<00:34,  2.76it/s]"
          ]
        },
        {
          "output_type": "stream",
          "name": "stdout",
          "text": [
            "0\n"
          ]
        },
        {
          "output_type": "stream",
          "name": "stderr",
          "text": [
            "Model Layer Loop - features.denseblock4.denselayer6:  81%|████████  | 401/495 [03:17<00:37,  2.52it/s]"
          ]
        },
        {
          "output_type": "stream",
          "name": "stdout",
          "text": [
            "0\n"
          ]
        },
        {
          "output_type": "stream",
          "name": "stderr",
          "text": [
            "Model Layer Loop - features.denseblock4.denselayer6.layers:  81%|████████  | 402/495 [03:17<00:38,  2.42it/s]"
          ]
        },
        {
          "output_type": "stream",
          "name": "stdout",
          "text": [
            "0\n"
          ]
        },
        {
          "output_type": "stream",
          "name": "stderr",
          "text": [
            "Model Layer Loop - features.denseblock4.denselayer6.layers.relu1:  82%|████████▏ | 404/495 [03:18<00:30,  3.00it/s]"
          ]
        },
        {
          "output_type": "stream",
          "name": "stdout",
          "text": [
            "0\n",
            "skipping features.denseblock4.denselayer6.layers.norm1\n",
            "unsupported operand type(s) for *: 'NoneType' and 'float'\n"
          ]
        },
        {
          "output_type": "stream",
          "name": "stderr",
          "text": [
            "Model Layer Loop - features.denseblock4.denselayer6.layers.conv1:  82%|████████▏ | 405/495 [03:18<00:33,  2.69it/s]"
          ]
        },
        {
          "output_type": "stream",
          "name": "stdout",
          "text": [
            "0\n"
          ]
        },
        {
          "output_type": "stream",
          "name": "stderr",
          "text": [
            "Model Layer Loop - features.denseblock4.denselayer6.layers.relu2:  82%|████████▏ | 407/495 [03:19<00:27,  3.17it/s]"
          ]
        },
        {
          "output_type": "stream",
          "name": "stdout",
          "text": [
            "0\n",
            "skipping features.denseblock4.denselayer6.layers.norm2\n",
            "unsupported operand type(s) for *: 'NoneType' and 'float'\n"
          ]
        },
        {
          "output_type": "stream",
          "name": "stderr",
          "text": [
            "Model Layer Loop - features.denseblock4.denselayer6.layers.conv2:  82%|████████▏ | 408/495 [03:19<00:30,  2.82it/s]"
          ]
        },
        {
          "output_type": "stream",
          "name": "stdout",
          "text": [
            "0\n"
          ]
        },
        {
          "output_type": "stream",
          "name": "stderr",
          "text": [
            "Model Layer Loop - features.denseblock4.denselayer7:  83%|████████▎ | 409/495 [03:20<00:33,  2.57it/s]"
          ]
        },
        {
          "output_type": "stream",
          "name": "stdout",
          "text": [
            "0\n"
          ]
        },
        {
          "output_type": "stream",
          "name": "stderr",
          "text": [
            "Model Layer Loop - features.denseblock4.denselayer7.layers:  83%|████████▎ | 410/495 [03:20<00:35,  2.40it/s]"
          ]
        },
        {
          "output_type": "stream",
          "name": "stdout",
          "text": [
            "0\n"
          ]
        },
        {
          "output_type": "stream",
          "name": "stderr",
          "text": [
            "Model Layer Loop - features.denseblock4.denselayer7.layers.relu1:  83%|████████▎ | 412/495 [03:21<00:28,  2.93it/s]"
          ]
        },
        {
          "output_type": "stream",
          "name": "stdout",
          "text": [
            "0\n",
            "skipping features.denseblock4.denselayer7.layers.norm1\n",
            "unsupported operand type(s) for *: 'NoneType' and 'float'\n"
          ]
        },
        {
          "output_type": "stream",
          "name": "stderr",
          "text": [
            "Model Layer Loop - features.denseblock4.denselayer7.layers.conv1:  83%|████████▎ | 413/495 [03:21<00:31,  2.62it/s]"
          ]
        },
        {
          "output_type": "stream",
          "name": "stdout",
          "text": [
            "0\n"
          ]
        },
        {
          "output_type": "stream",
          "name": "stderr",
          "text": [
            "Model Layer Loop - features.denseblock4.denselayer7.layers.relu2:  84%|████████▍ | 415/495 [03:22<00:25,  3.08it/s]"
          ]
        },
        {
          "output_type": "stream",
          "name": "stdout",
          "text": [
            "0\n",
            "skipping features.denseblock4.denselayer7.layers.norm2\n",
            "unsupported operand type(s) for *: 'NoneType' and 'float'\n"
          ]
        },
        {
          "output_type": "stream",
          "name": "stderr",
          "text": [
            "Model Layer Loop - features.denseblock4.denselayer7.layers.conv2:  84%|████████▍ | 416/495 [03:23<00:29,  2.70it/s]"
          ]
        },
        {
          "output_type": "stream",
          "name": "stdout",
          "text": [
            "0\n"
          ]
        },
        {
          "output_type": "stream",
          "name": "stderr",
          "text": [
            "Model Layer Loop - features.denseblock4.denselayer8:  84%|████████▍ | 417/495 [03:23<00:31,  2.51it/s]"
          ]
        },
        {
          "output_type": "stream",
          "name": "stdout",
          "text": [
            "0\n"
          ]
        },
        {
          "output_type": "stream",
          "name": "stderr",
          "text": [
            "Model Layer Loop - features.denseblock4.denselayer8.layers:  84%|████████▍ | 418/495 [03:24<00:34,  2.23it/s]"
          ]
        },
        {
          "output_type": "stream",
          "name": "stdout",
          "text": [
            "0\n"
          ]
        },
        {
          "output_type": "stream",
          "name": "stderr",
          "text": [
            "Model Layer Loop - features.denseblock4.denselayer8.layers.relu1:  85%|████████▍ | 420/495 [03:24<00:29,  2.56it/s]"
          ]
        },
        {
          "output_type": "stream",
          "name": "stdout",
          "text": [
            "0\n",
            "skipping features.denseblock4.denselayer8.layers.norm1\n",
            "unsupported operand type(s) for *: 'NoneType' and 'float'\n"
          ]
        },
        {
          "output_type": "stream",
          "name": "stderr",
          "text": [
            "Model Layer Loop - features.denseblock4.denselayer8.layers.conv1:  85%|████████▌ | 421/495 [03:25<00:33,  2.19it/s]"
          ]
        },
        {
          "output_type": "stream",
          "name": "stdout",
          "text": [
            "0\n"
          ]
        },
        {
          "output_type": "stream",
          "name": "stderr",
          "text": [
            "Model Layer Loop - features.denseblock4.denselayer8.layers.relu2:  85%|████████▌ | 423/495 [03:26<00:28,  2.51it/s]"
          ]
        },
        {
          "output_type": "stream",
          "name": "stdout",
          "text": [
            "0\n",
            "skipping features.denseblock4.denselayer8.layers.norm2\n",
            "unsupported operand type(s) for *: 'NoneType' and 'float'\n"
          ]
        },
        {
          "output_type": "stream",
          "name": "stderr",
          "text": [
            "Model Layer Loop - features.denseblock4.denselayer8.layers.conv2:  86%|████████▌ | 424/495 [03:26<00:32,  2.17it/s]"
          ]
        },
        {
          "output_type": "stream",
          "name": "stdout",
          "text": [
            "0\n"
          ]
        },
        {
          "output_type": "stream",
          "name": "stderr",
          "text": [
            "Model Layer Loop - features.denseblock4.denselayer9:  86%|████████▌ | 425/495 [03:27<00:35,  1.99it/s]"
          ]
        },
        {
          "output_type": "stream",
          "name": "stdout",
          "text": [
            "0\n"
          ]
        },
        {
          "output_type": "stream",
          "name": "stderr",
          "text": [
            "Model Layer Loop - features.denseblock4.denselayer9.layers:  86%|████████▌ | 426/495 [03:27<00:37,  1.84it/s]"
          ]
        },
        {
          "output_type": "stream",
          "name": "stdout",
          "text": [
            "0\n"
          ]
        },
        {
          "output_type": "stream",
          "name": "stderr",
          "text": [
            "Model Layer Loop - features.denseblock4.denselayer9.layers.relu1:  86%|████████▋ | 428/495 [03:28<00:27,  2.40it/s]"
          ]
        },
        {
          "output_type": "stream",
          "name": "stdout",
          "text": [
            "0\n",
            "skipping features.denseblock4.denselayer9.layers.norm1\n",
            "unsupported operand type(s) for *: 'NoneType' and 'float'\n"
          ]
        },
        {
          "output_type": "stream",
          "name": "stderr",
          "text": [
            "Model Layer Loop - features.denseblock4.denselayer9.layers.conv1:  87%|████████▋ | 429/495 [03:29<00:28,  2.32it/s]"
          ]
        },
        {
          "output_type": "stream",
          "name": "stdout",
          "text": [
            "0\n"
          ]
        },
        {
          "output_type": "stream",
          "name": "stderr",
          "text": [
            "Model Layer Loop - features.denseblock4.denselayer9.layers.relu2:  87%|████████▋ | 431/495 [03:29<00:22,  2.87it/s]"
          ]
        },
        {
          "output_type": "stream",
          "name": "stdout",
          "text": [
            "0\n",
            "skipping features.denseblock4.denselayer9.layers.norm2\n",
            "unsupported operand type(s) for *: 'NoneType' and 'float'\n"
          ]
        },
        {
          "output_type": "stream",
          "name": "stderr",
          "text": [
            "Model Layer Loop - features.denseblock4.denselayer9.layers.conv2:  87%|████████▋ | 432/495 [03:30<00:24,  2.56it/s]"
          ]
        },
        {
          "output_type": "stream",
          "name": "stdout",
          "text": [
            "0\n"
          ]
        },
        {
          "output_type": "stream",
          "name": "stderr",
          "text": [
            "Model Layer Loop - features.denseblock4.denselayer10:  87%|████████▋ | 433/495 [03:30<00:25,  2.44it/s]"
          ]
        },
        {
          "output_type": "stream",
          "name": "stdout",
          "text": [
            "0\n"
          ]
        },
        {
          "output_type": "stream",
          "name": "stderr",
          "text": [
            "Model Layer Loop - features.denseblock4.denselayer10.layers:  88%|████████▊ | 434/495 [03:31<00:25,  2.39it/s]"
          ]
        },
        {
          "output_type": "stream",
          "name": "stdout",
          "text": [
            "0\n"
          ]
        },
        {
          "output_type": "stream",
          "name": "stderr",
          "text": [
            "Model Layer Loop - features.denseblock4.denselayer10.layers.relu1:  88%|████████▊ | 436/495 [03:31<00:20,  2.93it/s]"
          ]
        },
        {
          "output_type": "stream",
          "name": "stdout",
          "text": [
            "0\n",
            "skipping features.denseblock4.denselayer10.layers.norm1\n",
            "unsupported operand type(s) for *: 'NoneType' and 'float'\n"
          ]
        },
        {
          "output_type": "stream",
          "name": "stderr",
          "text": [
            "Model Layer Loop - features.denseblock4.denselayer10.layers.conv1:  88%|████████▊ | 437/495 [03:32<00:21,  2.71it/s]"
          ]
        },
        {
          "output_type": "stream",
          "name": "stdout",
          "text": [
            "0\n"
          ]
        },
        {
          "output_type": "stream",
          "name": "stderr",
          "text": [
            "Model Layer Loop - features.denseblock4.denselayer10.layers.relu2:  89%|████████▊ | 439/495 [03:32<00:17,  3.16it/s]"
          ]
        },
        {
          "output_type": "stream",
          "name": "stdout",
          "text": [
            "0\n",
            "skipping features.denseblock4.denselayer10.layers.norm2\n",
            "unsupported operand type(s) for *: 'NoneType' and 'float'\n"
          ]
        },
        {
          "output_type": "stream",
          "name": "stderr",
          "text": [
            "Model Layer Loop - features.denseblock4.denselayer10.layers.conv2:  89%|████████▉ | 440/495 [03:33<00:19,  2.81it/s]"
          ]
        },
        {
          "output_type": "stream",
          "name": "stdout",
          "text": [
            "0\n"
          ]
        },
        {
          "output_type": "stream",
          "name": "stderr",
          "text": [
            "Model Layer Loop - features.denseblock4.denselayer11:  89%|████████▉ | 441/495 [03:33<00:20,  2.62it/s]"
          ]
        },
        {
          "output_type": "stream",
          "name": "stdout",
          "text": [
            "0\n"
          ]
        },
        {
          "output_type": "stream",
          "name": "stderr",
          "text": [
            "Model Layer Loop - features.denseblock4.denselayer11.layers:  89%|████████▉ | 442/495 [03:34<00:21,  2.51it/s]"
          ]
        },
        {
          "output_type": "stream",
          "name": "stdout",
          "text": [
            "0\n"
          ]
        },
        {
          "output_type": "stream",
          "name": "stderr",
          "text": [
            "Model Layer Loop - features.denseblock4.denselayer11.layers.relu1:  90%|████████▉ | 444/495 [03:34<00:16,  3.01it/s]"
          ]
        },
        {
          "output_type": "stream",
          "name": "stdout",
          "text": [
            "0\n",
            "skipping features.denseblock4.denselayer11.layers.norm1\n",
            "unsupported operand type(s) for *: 'NoneType' and 'float'\n"
          ]
        },
        {
          "output_type": "stream",
          "name": "stderr",
          "text": [
            "Model Layer Loop - features.denseblock4.denselayer11.layers.conv1:  90%|████████▉ | 445/495 [03:35<00:18,  2.76it/s]"
          ]
        },
        {
          "output_type": "stream",
          "name": "stdout",
          "text": [
            "0\n"
          ]
        },
        {
          "output_type": "stream",
          "name": "stderr",
          "text": [
            "Model Layer Loop - features.denseblock4.denselayer11.layers.relu2:  90%|█████████ | 447/495 [03:35<00:14,  3.24it/s]"
          ]
        },
        {
          "output_type": "stream",
          "name": "stdout",
          "text": [
            "0\n",
            "skipping features.denseblock4.denselayer11.layers.norm2\n",
            "unsupported operand type(s) for *: 'NoneType' and 'float'\n"
          ]
        },
        {
          "output_type": "stream",
          "name": "stderr",
          "text": [
            "Model Layer Loop - features.denseblock4.denselayer11.layers.conv2:  91%|█████████ | 448/495 [03:36<00:16,  2.87it/s]"
          ]
        },
        {
          "output_type": "stream",
          "name": "stdout",
          "text": [
            "0\n"
          ]
        },
        {
          "output_type": "stream",
          "name": "stderr",
          "text": [
            "Model Layer Loop - features.denseblock4.denselayer12:  91%|█████████ | 449/495 [03:36<00:17,  2.64it/s]"
          ]
        },
        {
          "output_type": "stream",
          "name": "stdout",
          "text": [
            "0\n"
          ]
        },
        {
          "output_type": "stream",
          "name": "stderr",
          "text": [
            "Model Layer Loop - features.denseblock4.denselayer12.layers:  91%|█████████ | 450/495 [03:36<00:17,  2.52it/s]"
          ]
        },
        {
          "output_type": "stream",
          "name": "stdout",
          "text": [
            "0\n"
          ]
        },
        {
          "output_type": "stream",
          "name": "stderr",
          "text": [
            "Model Layer Loop - features.denseblock4.denselayer12.layers.relu1:  91%|█████████▏| 452/495 [03:37<00:14,  3.05it/s]"
          ]
        },
        {
          "output_type": "stream",
          "name": "stdout",
          "text": [
            "0\n",
            "skipping features.denseblock4.denselayer12.layers.norm1\n",
            "unsupported operand type(s) for *: 'NoneType' and 'float'\n"
          ]
        },
        {
          "output_type": "stream",
          "name": "stderr",
          "text": [
            "Model Layer Loop - features.denseblock4.denselayer12.layers.conv1:  92%|█████████▏| 453/495 [03:38<00:15,  2.73it/s]"
          ]
        },
        {
          "output_type": "stream",
          "name": "stdout",
          "text": [
            "0\n"
          ]
        },
        {
          "output_type": "stream",
          "name": "stderr",
          "text": [
            "Model Layer Loop - features.denseblock4.denselayer12.layers.relu2:  92%|█████████▏| 455/495 [03:38<00:13,  2.97it/s]"
          ]
        },
        {
          "output_type": "stream",
          "name": "stdout",
          "text": [
            "0\n",
            "skipping features.denseblock4.denselayer12.layers.norm2\n",
            "unsupported operand type(s) for *: 'NoneType' and 'float'\n"
          ]
        },
        {
          "output_type": "stream",
          "name": "stderr",
          "text": [
            "Model Layer Loop - features.denseblock4.denselayer12.layers.conv2:  92%|█████████▏| 456/495 [03:39<00:15,  2.52it/s]"
          ]
        },
        {
          "output_type": "stream",
          "name": "stdout",
          "text": [
            "0\n"
          ]
        },
        {
          "output_type": "stream",
          "name": "stderr",
          "text": [
            "Model Layer Loop - features.denseblock4.denselayer13:  92%|█████████▏| 457/495 [03:39<00:17,  2.20it/s]"
          ]
        },
        {
          "output_type": "stream",
          "name": "stdout",
          "text": [
            "0\n"
          ]
        },
        {
          "output_type": "stream",
          "name": "stderr",
          "text": [
            "Model Layer Loop - features.denseblock4.denselayer13.layers:  93%|█████████▎| 458/495 [03:40<00:17,  2.07it/s]"
          ]
        },
        {
          "output_type": "stream",
          "name": "stdout",
          "text": [
            "0\n"
          ]
        },
        {
          "output_type": "stream",
          "name": "stderr",
          "text": [
            "Model Layer Loop - features.denseblock4.denselayer13.layers.relu1:  93%|█████████▎| 460/495 [03:41<00:14,  2.43it/s]"
          ]
        },
        {
          "output_type": "stream",
          "name": "stdout",
          "text": [
            "0\n",
            "skipping features.denseblock4.denselayer13.layers.norm1\n",
            "unsupported operand type(s) for *: 'NoneType' and 'float'\n"
          ]
        },
        {
          "output_type": "stream",
          "name": "stderr",
          "text": [
            "Model Layer Loop - features.denseblock4.denselayer13.layers.conv1:  93%|█████████▎| 461/495 [03:41<00:16,  2.11it/s]"
          ]
        },
        {
          "output_type": "stream",
          "name": "stdout",
          "text": [
            "0\n"
          ]
        },
        {
          "output_type": "stream",
          "name": "stderr",
          "text": [
            "Model Layer Loop - features.denseblock4.denselayer13.layers.relu2:  94%|█████████▎| 463/495 [03:42<00:12,  2.52it/s]"
          ]
        },
        {
          "output_type": "stream",
          "name": "stdout",
          "text": [
            "0\n",
            "skipping features.denseblock4.denselayer13.layers.norm2\n",
            "unsupported operand type(s) for *: 'NoneType' and 'float'\n"
          ]
        },
        {
          "output_type": "stream",
          "name": "stderr",
          "text": [
            "Model Layer Loop - features.denseblock4.denselayer13.layers.conv2:  94%|█████████▎| 464/495 [03:42<00:12,  2.42it/s]"
          ]
        },
        {
          "output_type": "stream",
          "name": "stdout",
          "text": [
            "0\n"
          ]
        },
        {
          "output_type": "stream",
          "name": "stderr",
          "text": [
            "Model Layer Loop - features.denseblock4.denselayer14:  94%|█████████▍| 465/495 [03:43<00:12,  2.36it/s]"
          ]
        },
        {
          "output_type": "stream",
          "name": "stdout",
          "text": [
            "0\n"
          ]
        },
        {
          "output_type": "stream",
          "name": "stderr",
          "text": [
            "Model Layer Loop - features.denseblock4.denselayer14.layers:  94%|█████████▍| 466/495 [03:43<00:12,  2.30it/s]"
          ]
        },
        {
          "output_type": "stream",
          "name": "stdout",
          "text": [
            "0\n"
          ]
        },
        {
          "output_type": "stream",
          "name": "stderr",
          "text": [
            "Model Layer Loop - features.denseblock4.denselayer14.layers.relu1:  95%|█████████▍| 468/495 [03:44<00:09,  2.92it/s]"
          ]
        },
        {
          "output_type": "stream",
          "name": "stdout",
          "text": [
            "0\n",
            "skipping features.denseblock4.denselayer14.layers.norm1\n",
            "unsupported operand type(s) for *: 'NoneType' and 'float'\n"
          ]
        },
        {
          "output_type": "stream",
          "name": "stderr",
          "text": [
            "Model Layer Loop - features.denseblock4.denselayer14.layers.conv1:  95%|█████████▍| 469/495 [03:44<00:09,  2.67it/s]"
          ]
        },
        {
          "output_type": "stream",
          "name": "stdout",
          "text": [
            "0\n"
          ]
        },
        {
          "output_type": "stream",
          "name": "stderr",
          "text": [
            "Model Layer Loop - features.denseblock4.denselayer14.layers.relu2:  95%|█████████▌| 471/495 [03:45<00:07,  3.17it/s]"
          ]
        },
        {
          "output_type": "stream",
          "name": "stdout",
          "text": [
            "0\n",
            "skipping features.denseblock4.denselayer14.layers.norm2\n",
            "unsupported operand type(s) for *: 'NoneType' and 'float'\n"
          ]
        },
        {
          "output_type": "stream",
          "name": "stderr",
          "text": [
            "Model Layer Loop - features.denseblock4.denselayer14.layers.conv2:  95%|█████████▌| 472/495 [03:45<00:08,  2.73it/s]"
          ]
        },
        {
          "output_type": "stream",
          "name": "stdout",
          "text": [
            "0\n"
          ]
        },
        {
          "output_type": "stream",
          "name": "stderr",
          "text": [
            "Model Layer Loop - features.denseblock4.denselayer15:  96%|█████████▌| 473/495 [03:46<00:08,  2.53it/s]"
          ]
        },
        {
          "output_type": "stream",
          "name": "stdout",
          "text": [
            "0\n"
          ]
        },
        {
          "output_type": "stream",
          "name": "stderr",
          "text": [
            "Model Layer Loop - features.denseblock4.denselayer15.layers:  96%|█████████▌| 474/495 [03:46<00:08,  2.41it/s]"
          ]
        },
        {
          "output_type": "stream",
          "name": "stdout",
          "text": [
            "0\n"
          ]
        },
        {
          "output_type": "stream",
          "name": "stderr",
          "text": [
            "Model Layer Loop - features.denseblock4.denselayer15.layers.relu1:  96%|█████████▌| 476/495 [03:47<00:06,  2.98it/s]"
          ]
        },
        {
          "output_type": "stream",
          "name": "stdout",
          "text": [
            "0\n",
            "skipping features.denseblock4.denselayer15.layers.norm1\n",
            "unsupported operand type(s) for *: 'NoneType' and 'float'\n"
          ]
        },
        {
          "output_type": "stream",
          "name": "stderr",
          "text": [
            "Model Layer Loop - features.denseblock4.denselayer15.layers.conv1:  96%|█████████▋| 477/495 [03:47<00:06,  2.63it/s]"
          ]
        },
        {
          "output_type": "stream",
          "name": "stdout",
          "text": [
            "0\n"
          ]
        },
        {
          "output_type": "stream",
          "name": "stderr",
          "text": [
            "Model Layer Loop - features.denseblock4.denselayer15.layers.relu2:  97%|█████████▋| 479/495 [03:48<00:05,  3.15it/s]"
          ]
        },
        {
          "output_type": "stream",
          "name": "stdout",
          "text": [
            "0\n",
            "skipping features.denseblock4.denselayer15.layers.norm2\n",
            "unsupported operand type(s) for *: 'NoneType' and 'float'\n"
          ]
        },
        {
          "output_type": "stream",
          "name": "stderr",
          "text": [
            "Model Layer Loop - features.denseblock4.denselayer15.layers.conv2:  97%|█████████▋| 480/495 [03:48<00:05,  2.75it/s]"
          ]
        },
        {
          "output_type": "stream",
          "name": "stdout",
          "text": [
            "0\n"
          ]
        },
        {
          "output_type": "stream",
          "name": "stderr",
          "text": [
            "Model Layer Loop - features.denseblock4.denselayer16:  97%|█████████▋| 481/495 [03:49<00:05,  2.56it/s]"
          ]
        },
        {
          "output_type": "stream",
          "name": "stdout",
          "text": [
            "0\n"
          ]
        },
        {
          "output_type": "stream",
          "name": "stderr",
          "text": [
            "Model Layer Loop - features.denseblock4.denselayer16.layers:  97%|█████████▋| 482/495 [03:49<00:05,  2.42it/s]"
          ]
        },
        {
          "output_type": "stream",
          "name": "stdout",
          "text": [
            "0\n"
          ]
        },
        {
          "output_type": "stream",
          "name": "stderr",
          "text": [
            "Model Layer Loop - features.denseblock4.denselayer16.layers.relu1:  98%|█████████▊| 484/495 [03:50<00:03,  2.99it/s]"
          ]
        },
        {
          "output_type": "stream",
          "name": "stdout",
          "text": [
            "0\n",
            "skipping features.denseblock4.denselayer16.layers.norm1\n",
            "unsupported operand type(s) for *: 'NoneType' and 'float'\n"
          ]
        },
        {
          "output_type": "stream",
          "name": "stderr",
          "text": [
            "Model Layer Loop - features.denseblock4.denselayer16.layers.conv1:  98%|█████████▊| 485/495 [03:50<00:03,  2.67it/s]"
          ]
        },
        {
          "output_type": "stream",
          "name": "stdout",
          "text": [
            "0\n"
          ]
        },
        {
          "output_type": "stream",
          "name": "stderr",
          "text": [
            "Model Layer Loop - features.denseblock4.denselayer16.layers.relu2:  98%|█████████▊| 487/495 [03:51<00:02,  3.17it/s]"
          ]
        },
        {
          "output_type": "stream",
          "name": "stdout",
          "text": [
            "0\n",
            "skipping features.denseblock4.denselayer16.layers.norm2\n",
            "unsupported operand type(s) for *: 'NoneType' and 'float'\n"
          ]
        },
        {
          "output_type": "stream",
          "name": "stderr",
          "text": [
            "Model Layer Loop - features.denseblock4.denselayer16.layers.conv2:  99%|█████████▊| 488/495 [03:51<00:02,  2.79it/s]"
          ]
        },
        {
          "output_type": "stream",
          "name": "stdout",
          "text": [
            "0\n"
          ]
        },
        {
          "output_type": "stream",
          "name": "stderr",
          "text": [
            "Model Layer Loop - class_layers:  99%|█████████▉| 490/495 [03:52<00:01,  3.07it/s]"
          ]
        },
        {
          "output_type": "stream",
          "name": "stdout",
          "text": [
            "0\n",
            "skipping features.norm5\n",
            "unsupported operand type(s) for *: 'NoneType' and 'float'\n"
          ]
        },
        {
          "output_type": "stream",
          "name": "stderr",
          "text": [
            "Model Layer Loop - class_layers.relu:  99%|█████████▉| 491/495 [03:53<00:01,  2.30it/s]"
          ]
        },
        {
          "output_type": "stream",
          "name": "stdout",
          "text": [
            "0\n"
          ]
        },
        {
          "output_type": "stream",
          "name": "stderr",
          "text": [
            "Model Layer Loop - class_layers.pool:  99%|█████████▉| 492/495 [03:53<00:01,  2.07it/s]"
          ]
        },
        {
          "output_type": "stream",
          "name": "stdout",
          "text": [
            "0\n"
          ]
        },
        {
          "output_type": "stream",
          "name": "stderr",
          "text": [
            "Model Layer Loop - class_layers.flatten: 100%|█████████▉| 493/495 [03:54<00:01,  1.93it/s]"
          ]
        },
        {
          "output_type": "stream",
          "name": "stdout",
          "text": [
            "0\n"
          ]
        },
        {
          "output_type": "stream",
          "name": "stderr",
          "text": [
            "Model Layer Loop - class_layers.out: 100%|█████████▉| 494/495 [03:55<00:00,  1.87it/s]"
          ]
        },
        {
          "output_type": "stream",
          "name": "stdout",
          "text": [
            "0\n"
          ]
        },
        {
          "output_type": "stream",
          "name": "stderr",
          "text": [
            "Model Layer Loop - class_layers.out: 100%|██████████| 495/495 [03:55<00:00,  2.10it/s]"
          ]
        },
        {
          "output_type": "stream",
          "name": "stdout",
          "text": [
            "0\n"
          ]
        },
        {
          "output_type": "stream",
          "name": "stderr",
          "text": [
            "\n"
          ]
        },
        {
          "output_type": "stream",
          "name": "stdout",
          "text": [
            "layer 000000 normalization\n",
            "layer 000000 max: 0.9999997615814209\n",
            "layer 000000 min: 0.0\n",
            "global max: 0.9999998807907104\n",
            "global min: 0.0\n",
            "layer 000001 normalization\n",
            "layer 000001 max: 0.9999997615814209\n",
            "layer 000001 min: 0.0\n",
            "global max: 0.9999998807907104\n",
            "global min: 0.0\n",
            "layer 000002 normalization\n",
            "layer 000002 max: 0.9999998807907104\n",
            "layer 000002 min: 0.0\n",
            "global max: 0.9999998807907104\n",
            "global min: 0.0\n",
            "layer 000003 normalization\n",
            "layer 000003 max: 0.9999998807907104\n",
            "layer 000003 min: 0.0\n",
            "global max: 0.9999998807907104\n",
            "global min: 0.0\n",
            "layer 000004 normalization\n",
            "layer 000004 max: 0.9999998807907104\n",
            "layer 000004 min: 0.0\n",
            "global max: 0.9999998807907104\n",
            "global min: 0.0\n",
            "layer 000005 normalization\n",
            "layer 000005 max: 0.9999998807907104\n",
            "layer 000005 min: 0.0\n",
            "global max: 0.9999998807907104\n",
            "global min: 0.0\n",
            "layer 000006 normalization\n",
            "layer 000006 max: 0.9999998807907104\n",
            "layer 000006 min: 0.0\n",
            "global max: 0.9999998807907104\n",
            "global min: 0.0\n",
            "layer 000007 normalization\n",
            "layer 000007 max: 0.9999998807907104\n",
            "layer 000007 min: 0.0\n",
            "global max: 0.9999998807907104\n",
            "global min: 0.0\n",
            "layer 000008 normalization\n",
            "layer 000008 max: 0.9999998807907104\n",
            "layer 000008 min: 0.0\n",
            "global max: 0.9999998807907104\n",
            "global min: 0.0\n",
            "layer 000009 normalization\n",
            "layer 000009 max: 0.9999998807907104\n",
            "layer 000009 min: 0.0\n",
            "global max: 0.9999998807907104\n",
            "global min: 0.0\n",
            "layer 000010 normalization\n",
            "layer 000010 max: 0.9999998807907104\n",
            "layer 000010 min: 0.0\n",
            "global max: 0.9999998807907104\n",
            "global min: 0.0\n",
            "layer 000011 normalization\n",
            "layer 000011 max: 0.9999998807907104\n",
            "layer 000011 min: 0.0\n",
            "global max: 0.9999998807907104\n",
            "global min: 0.0\n",
            "layer 000012 normalization\n",
            "layer 000012 max: 0.9999998807907104\n",
            "layer 000012 min: 0.0\n",
            "global max: 0.9999998807907104\n",
            "global min: 0.0\n",
            "layer 000013 normalization\n",
            "layer 000013 max: 0.9999998807907104\n",
            "layer 000013 min: 0.0\n",
            "global max: 0.9999998807907104\n",
            "global min: 0.0\n",
            "layer 000014 normalization\n",
            "layer 000014 max: 0.9999998807907104\n",
            "layer 000014 min: 0.0\n",
            "global max: 0.9999998807907104\n",
            "global min: 0.0\n",
            "layer 000015 normalization\n",
            "layer 000015 max: 0.9999998807907104\n",
            "layer 000015 min: 0.0\n",
            "global max: 0.9999998807907104\n",
            "global min: 0.0\n",
            "layer 000016 normalization\n",
            "layer 000016 max: 0.9999998807907104\n",
            "layer 000016 min: 0.0\n",
            "global max: 0.9999998807907104\n",
            "global min: 0.0\n",
            "layer 000017 normalization\n",
            "layer 000017 max: 0.9999998807907104\n",
            "layer 000017 min: 0.0\n",
            "global max: 0.9999998807907104\n",
            "global min: 0.0\n",
            "layer 000018 normalization\n",
            "layer 000018 max: 0.9999998807907104\n",
            "layer 000018 min: 0.0\n",
            "global max: 0.9999998807907104\n",
            "global min: 0.0\n",
            "layer 000019 normalization\n",
            "layer 000019 max: 0.9999998807907104\n",
            "layer 000019 min: 0.0\n",
            "global max: 0.9999998807907104\n",
            "global min: 0.0\n",
            "layer 000020 normalization\n",
            "layer 000020 max: 0.9999998807907104\n",
            "layer 000020 min: 0.0\n",
            "global max: 0.9999998807907104\n",
            "global min: 0.0\n",
            "layer 000021 normalization\n",
            "layer 000021 max: 0.9999998807907104\n",
            "layer 000021 min: 0.0\n",
            "global max: 0.9999998807907104\n",
            "global min: 0.0\n",
            "layer 000022 normalization\n",
            "layer 000022 max: 0.9999998807907104\n",
            "layer 000022 min: 0.0\n",
            "global max: 0.9999998807907104\n",
            "global min: 0.0\n",
            "layer 000023 normalization\n",
            "layer 000023 max: 0.9999998807907104\n",
            "layer 000023 min: 0.0\n",
            "global max: 0.9999998807907104\n",
            "global min: 0.0\n",
            "layer 000024 normalization\n",
            "layer 000024 max: 0.9999998807907104\n",
            "layer 000024 min: 0.0\n",
            "global max: 0.9999998807907104\n",
            "global min: 0.0\n",
            "layer 000025 normalization\n",
            "layer 000025 max: 0.9999998807907104\n",
            "layer 000025 min: 0.0\n",
            "global max: 0.9999998807907104\n",
            "global min: 0.0\n",
            "layer 000026 normalization\n",
            "layer 000026 max: 0.9999998807907104\n",
            "layer 000026 min: 0.0\n",
            "global max: 0.9999998807907104\n",
            "global min: 0.0\n",
            "layer 000027 normalization\n",
            "layer 000027 max: 0.9999998807907104\n",
            "layer 000027 min: 0.0\n",
            "global max: 0.9999998807907104\n",
            "global min: 0.0\n",
            "layer 000028 normalization\n",
            "layer 000028 max: 0.9999998807907104\n",
            "layer 000028 min: 0.0\n",
            "global max: 0.9999998807907104\n",
            "global min: 0.0\n",
            "layer 000029 normalization\n",
            "layer 000029 max: 0.9999998807907104\n",
            "layer 000029 min: 0.0\n",
            "global max: 0.9999998807907104\n",
            "global min: 0.0\n",
            "layer 000030 normalization\n",
            "layer 000030 max: 0.9999998807907104\n",
            "layer 000030 min: 0.0\n",
            "global max: 0.9999998807907104\n",
            "global min: 0.0\n",
            "layer 000031 normalization\n",
            "layer 000031 max: 0.9999998807907104\n",
            "layer 000031 min: 0.0\n",
            "global max: 0.9999998807907104\n",
            "global min: 0.0\n",
            "layer 000032 normalization\n",
            "layer 000032 max: 0.9999998807907104\n",
            "layer 000032 min: 0.0\n",
            "global max: 0.9999998807907104\n",
            "global min: 0.0\n",
            "layer 000033 normalization\n",
            "layer 000033 max: 0.9999998807907104\n",
            "layer 000033 min: 0.0\n",
            "global max: 0.9999998807907104\n",
            "global min: 0.0\n",
            "layer 000034 normalization\n",
            "layer 000034 max: 0.9999998807907104\n",
            "layer 000034 min: 0.0\n",
            "global max: 0.9999998807907104\n",
            "global min: 0.0\n",
            "layer 000035 normalization\n",
            "layer 000035 max: 0.9999998807907104\n",
            "layer 000035 min: 0.0\n",
            "global max: 0.9999998807907104\n",
            "global min: 0.0\n",
            "layer 000036 normalization\n",
            "layer 000036 max: 0.9999998807907104\n",
            "layer 000036 min: 0.0\n",
            "global max: 0.9999998807907104\n",
            "global min: 0.0\n",
            "layer 000037 normalization\n",
            "layer 000037 max: 0.9999998807907104\n",
            "layer 000037 min: 0.0\n",
            "global max: 0.9999998807907104\n",
            "global min: 0.0\n",
            "layer 000038 normalization\n",
            "layer 000038 max: 0.9999998807907104\n",
            "layer 000038 min: 0.0\n",
            "global max: 0.9999998807907104\n",
            "global min: 0.0\n",
            "layer 000039 normalization\n",
            "layer 000039 max: 0.9999998807907104\n",
            "layer 000039 min: 0.0\n",
            "global max: 0.9999998807907104\n",
            "global min: 0.0\n",
            "layer 000040 normalization\n",
            "layer 000040 max: 0.9999998807907104\n",
            "layer 000040 min: 0.0\n",
            "global max: 0.9999998807907104\n",
            "global min: 0.0\n",
            "layer 000041 normalization\n",
            "layer 000041 max: 0.9999998807907104\n",
            "layer 000041 min: 0.0\n",
            "global max: 0.9999998807907104\n",
            "global min: 0.0\n",
            "layer 000042 normalization\n",
            "layer 000042 max: 0.9999998807907104\n",
            "layer 000042 min: 0.0\n",
            "global max: 0.9999998807907104\n",
            "global min: 0.0\n",
            "layer 000043 normalization\n",
            "layer 000043 max: 0.9999998807907104\n",
            "layer 000043 min: 0.0\n",
            "global max: 0.9999998807907104\n",
            "global min: 0.0\n",
            "layer 000044 normalization\n",
            "layer 000044 max: 0.9999998807907104\n",
            "layer 000044 min: 0.0\n",
            "global max: 0.9999998807907104\n",
            "global min: 0.0\n",
            "layer 000045 normalization\n",
            "layer 000045 max: 0.9999998807907104\n",
            "layer 000045 min: 0.0\n",
            "global max: 0.9999998807907104\n",
            "global min: 0.0\n",
            "layer 000046 normalization\n",
            "layer 000046 max: 0.9999998807907104\n",
            "layer 000046 min: 0.0\n",
            "global max: 0.9999998807907104\n",
            "global min: 0.0\n",
            "layer 000047 normalization\n",
            "layer 000047 max: 0.9999998807907104\n",
            "layer 000047 min: 0.0\n",
            "global max: 0.9999998807907104\n",
            "global min: 0.0\n",
            "layer 000048 normalization\n",
            "layer 000048 max: 0.9999998807907104\n",
            "layer 000048 min: 0.0\n",
            "global max: 0.9999998807907104\n",
            "global min: 0.0\n",
            "layer 000049 normalization\n",
            "layer 000049 max: 0.9999998807907104\n",
            "layer 000049 min: 0.0\n",
            "global max: 0.9999998807907104\n",
            "global min: 0.0\n",
            "layer 000050 normalization\n",
            "layer 000050 max: 0.9999998807907104\n",
            "layer 000050 min: 0.0\n",
            "global max: 0.9999998807907104\n",
            "global min: 0.0\n",
            "layer 000051 normalization\n",
            "layer 000051 max: 0.9999998807907104\n",
            "layer 000051 min: 0.0\n",
            "global max: 0.9999998807907104\n",
            "global min: 0.0\n",
            "layer 000052 normalization\n",
            "layer 000052 max: 0.9999998807907104\n",
            "layer 000052 min: 0.0\n",
            "global max: 0.9999998807907104\n",
            "global min: 0.0\n",
            "layer 000053 normalization\n",
            "layer 000053 max: 0.9999998807907104\n",
            "layer 000053 min: 0.0\n",
            "global max: 0.9999998807907104\n",
            "global min: 0.0\n",
            "layer 000054 normalization\n",
            "layer 000054 max: 0.9999998807907104\n",
            "layer 000054 min: 0.0\n",
            "global max: 0.9999998807907104\n",
            "global min: 0.0\n",
            "layer 000055 normalization\n",
            "layer 000055 max: 0.9999998807907104\n",
            "layer 000055 min: 0.0\n",
            "global max: 0.9999998807907104\n",
            "global min: 0.0\n",
            "layer 000056 normalization\n",
            "layer 000056 max: 0.9999998807907104\n",
            "layer 000056 min: 0.0\n",
            "global max: 0.9999998807907104\n",
            "global min: 0.0\n",
            "layer 000057 normalization\n",
            "layer 000057 max: 0.9999998807907104\n",
            "layer 000057 min: 0.0\n",
            "global max: 0.9999998807907104\n",
            "global min: 0.0\n",
            "layer 000058 normalization\n",
            "layer 000058 max: 0.9999998807907104\n",
            "layer 000058 min: 0.0\n",
            "global max: 0.9999998807907104\n",
            "global min: 0.0\n",
            "layer 000059 normalization\n",
            "layer 000059 max: 0.9999998807907104\n",
            "layer 000059 min: 0.0\n",
            "global max: 0.9999998807907104\n",
            "global min: 0.0\n",
            "layer 000060 normalization\n",
            "layer 000060 max: 0.9999998807907104\n",
            "layer 000060 min: 0.0\n",
            "global max: 0.9999998807907104\n",
            "global min: 0.0\n",
            "layer 000061 normalization\n",
            "layer 000061 max: 0.9999998807907104\n",
            "layer 000061 min: 0.0\n",
            "global max: 0.9999998807907104\n",
            "global min: 0.0\n",
            "layer 000062 normalization\n",
            "layer 000062 max: 0.9999998807907104\n",
            "layer 000062 min: 0.0\n",
            "global max: 0.9999998807907104\n",
            "global min: 0.0\n",
            "layer 000063 normalization\n",
            "layer 000063 max: 0.9999998807907104\n",
            "layer 000063 min: 0.0\n",
            "global max: 0.9999998807907104\n",
            "global min: 0.0\n",
            "layer 000064 normalization\n",
            "layer 000064 max: 0.9999998807907104\n",
            "layer 000064 min: 0.0\n",
            "global max: 0.9999998807907104\n",
            "global min: 0.0\n",
            "layer 000065 normalization\n",
            "layer 000065 max: 0.9999998807907104\n",
            "layer 000065 min: 0.0\n",
            "global max: 0.9999998807907104\n",
            "global min: 0.0\n",
            "layer 000066 normalization\n",
            "layer 000066 max: 0.9999998807907104\n",
            "layer 000066 min: 0.0\n",
            "global max: 0.9999998807907104\n",
            "global min: 0.0\n",
            "layer 000067 normalization\n",
            "layer 000067 max: 0.9999998807907104\n",
            "layer 000067 min: 0.0\n",
            "global max: 0.9999998807907104\n",
            "global min: 0.0\n",
            "layer 000068 normalization\n",
            "layer 000068 max: 0.9999998807907104\n",
            "layer 000068 min: 0.0\n",
            "global max: 0.9999998807907104\n",
            "global min: 0.0\n",
            "layer 000069 normalization\n",
            "layer 000069 max: 0.9999998807907104\n",
            "layer 000069 min: 0.0\n",
            "global max: 0.9999998807907104\n",
            "global min: 0.0\n",
            "layer 000070 normalization\n",
            "layer 000070 max: 0.9999998807907104\n",
            "layer 000070 min: 0.0\n",
            "global max: 0.9999998807907104\n",
            "global min: 0.0\n",
            "layer 000071 normalization\n",
            "layer 000071 max: 0.9999998807907104\n",
            "layer 000071 min: 0.0\n",
            "global max: 0.9999998807907104\n",
            "global min: 0.0\n",
            "layer 000072 normalization\n",
            "layer 000072 max: 0.9999998807907104\n",
            "layer 000072 min: 0.0\n",
            "global max: 0.9999998807907104\n",
            "global min: 0.0\n",
            "layer 000073 normalization\n",
            "layer 000073 max: 0.9999998807907104\n",
            "layer 000073 min: 0.0\n",
            "global max: 0.9999998807907104\n",
            "global min: 0.0\n",
            "layer 000074 normalization\n",
            "layer 000074 max: 0.9999998807907104\n",
            "layer 000074 min: 0.0\n",
            "global max: 0.9999998807907104\n",
            "global min: 0.0\n",
            "layer 000075 normalization\n",
            "layer 000075 max: 0.9999998807907104\n",
            "layer 000075 min: 0.0\n",
            "global max: 0.9999998807907104\n",
            "global min: 0.0\n",
            "layer 000076 normalization\n",
            "layer 000076 max: 0.9999998807907104\n",
            "layer 000076 min: 0.0\n",
            "global max: 0.9999998807907104\n",
            "global min: 0.0\n",
            "layer 000077 normalization\n",
            "layer 000077 max: 0.9999998807907104\n",
            "layer 000077 min: 0.0\n",
            "global max: 0.9999998807907104\n",
            "global min: 0.0\n",
            "layer 000078 normalization\n",
            "layer 000078 max: 0.9999998807907104\n",
            "layer 000078 min: 0.0\n",
            "global max: 0.9999998807907104\n",
            "global min: 0.0\n",
            "layer 000079 normalization\n",
            "layer 000079 max: 0.9999998807907104\n",
            "layer 000079 min: 0.0\n",
            "global max: 0.9999998807907104\n",
            "global min: 0.0\n",
            "layer 000080 normalization\n",
            "layer 000080 max: 0.9999998807907104\n",
            "layer 000080 min: 0.0\n",
            "global max: 0.9999998807907104\n",
            "global min: 0.0\n",
            "layer 000081 normalization\n",
            "layer 000081 max: 0.9999998807907104\n",
            "layer 000081 min: 0.0\n",
            "global max: 0.9999998807907104\n",
            "global min: 0.0\n",
            "layer 000082 normalization\n",
            "layer 000082 max: 0.9999998807907104\n",
            "layer 000082 min: 0.0\n",
            "global max: 0.9999998807907104\n",
            "global min: 0.0\n",
            "layer 000083 normalization\n",
            "layer 000083 max: 0.9999998807907104\n",
            "layer 000083 min: 0.0\n",
            "global max: 0.9999998807907104\n",
            "global min: 0.0\n",
            "layer 000084 normalization\n",
            "layer 000084 max: 0.9999998807907104\n",
            "layer 000084 min: 0.0\n",
            "global max: 0.9999998807907104\n",
            "global min: 0.0\n",
            "layer 000085 normalization\n",
            "layer 000085 max: 0.9999998807907104\n",
            "layer 000085 min: 0.0\n",
            "global max: 0.9999998807907104\n",
            "global min: 0.0\n",
            "layer 000086 normalization\n",
            "layer 000086 max: 0.9999998807907104\n",
            "layer 000086 min: 0.0\n",
            "global max: 0.9999998807907104\n",
            "global min: 0.0\n",
            "layer 000087 normalization\n",
            "layer 000087 max: 0.9999998807907104\n",
            "layer 000087 min: 0.0\n",
            "global max: 0.9999998807907104\n",
            "global min: 0.0\n",
            "layer 000088 normalization\n",
            "layer 000088 max: 0.9999998807907104\n",
            "layer 000088 min: 0.0\n",
            "global max: 0.9999998807907104\n",
            "global min: 0.0\n",
            "layer 000089 normalization\n",
            "layer 000089 max: 0.9999998807907104\n",
            "layer 000089 min: 0.0\n",
            "global max: 0.9999998807907104\n",
            "global min: 0.0\n",
            "layer 000090 normalization\n",
            "layer 000090 max: 0.9999998807907104\n",
            "layer 000090 min: 0.0\n",
            "global max: 0.9999998807907104\n",
            "global min: 0.0\n",
            "layer 000091 normalization\n",
            "layer 000091 max: 0.9999998807907104\n",
            "layer 000091 min: 0.0\n",
            "global max: 0.9999998807907104\n",
            "global min: 0.0\n",
            "layer 000092 normalization\n",
            "layer 000092 max: 0.9999998807907104\n",
            "layer 000092 min: 0.0\n",
            "global max: 0.9999998807907104\n",
            "global min: 0.0\n",
            "layer 000093 normalization\n",
            "layer 000093 max: 0.9999998807907104\n",
            "layer 000093 min: 0.0\n",
            "global max: 0.9999998807907104\n",
            "global min: 0.0\n",
            "layer 000094 normalization\n",
            "layer 000094 max: 0.9999998807907104\n",
            "layer 000094 min: 0.0\n",
            "global max: 0.9999998807907104\n",
            "global min: 0.0\n",
            "layer 000095 normalization\n",
            "layer 000095 max: 0.9999998807907104\n",
            "layer 000095 min: 0.0\n",
            "global max: 0.9999998807907104\n",
            "global min: 0.0\n",
            "layer 000096 normalization\n",
            "layer 000096 max: 0.9999998807907104\n",
            "layer 000096 min: 0.0\n",
            "global max: 0.9999998807907104\n",
            "global min: 0.0\n",
            "layer 000097 normalization\n",
            "layer 000097 max: 0.9999998807907104\n",
            "layer 000097 min: 0.0\n",
            "global max: 0.9999998807907104\n",
            "global min: 0.0\n",
            "layer 000098 normalization\n",
            "layer 000098 max: 0.9999998807907104\n",
            "layer 000098 min: 0.0\n",
            "global max: 0.9999998807907104\n",
            "global min: 0.0\n",
            "layer 000099 normalization\n",
            "layer 000099 max: 0.9999998807907104\n",
            "layer 000099 min: 0.0\n",
            "global max: 0.9999998807907104\n",
            "global min: 0.0\n",
            "layer 000100 normalization\n",
            "layer 000100 max: 0.9999998807907104\n",
            "layer 000100 min: 0.0\n",
            "global max: 0.9999998807907104\n",
            "global min: 0.0\n",
            "layer 000101 normalization\n",
            "layer 000101 max: 0.9999998807907104\n",
            "layer 000101 min: 0.0\n",
            "global max: 0.9999998807907104\n",
            "global min: 0.0\n",
            "layer 000102 normalization\n",
            "layer 000102 max: 0.9999998807907104\n",
            "layer 000102 min: 0.0\n",
            "global max: 0.9999998807907104\n",
            "global min: 0.0\n",
            "layer 000103 normalization\n",
            "layer 000103 max: 0.9999998807907104\n",
            "layer 000103 min: 0.0\n",
            "global max: 0.9999998807907104\n",
            "global min: 0.0\n",
            "layer 000104 normalization\n",
            "layer 000104 max: 0.9999998807907104\n",
            "layer 000104 min: 0.0\n",
            "global max: 0.9999998807907104\n",
            "global min: 0.0\n",
            "layer 000105 normalization\n",
            "layer 000105 max: 0.9999998807907104\n",
            "layer 000105 min: 0.0\n",
            "global max: 0.9999998807907104\n",
            "global min: 0.0\n",
            "layer 000106 normalization\n",
            "layer 000106 max: 0.9999998807907104\n",
            "layer 000106 min: 0.0\n",
            "global max: 0.9999998807907104\n",
            "global min: 0.0\n",
            "layer 000107 normalization\n",
            "layer 000107 max: 0.9999998807907104\n",
            "layer 000107 min: 0.0\n",
            "global max: 0.9999998807907104\n",
            "global min: 0.0\n",
            "layer 000108 normalization\n",
            "layer 000108 max: 0.9999998807907104\n",
            "layer 000108 min: 0.0\n",
            "global max: 0.9999998807907104\n",
            "global min: 0.0\n",
            "layer 000109 normalization\n",
            "layer 000109 max: 0.9999998807907104\n",
            "layer 000109 min: 0.0\n",
            "global max: 0.9999998807907104\n",
            "global min: 0.0\n",
            "layer 000110 normalization\n",
            "layer 000110 max: 0.9999998807907104\n",
            "layer 000110 min: 0.0\n",
            "global max: 0.9999998807907104\n",
            "global min: 0.0\n",
            "layer 000111 normalization\n",
            "layer 000111 max: 0.9999998807907104\n",
            "layer 000111 min: 0.0\n",
            "global max: 0.9999998807907104\n",
            "global min: 0.0\n",
            "layer 000112 normalization\n",
            "layer 000112 max: 0.9999998807907104\n",
            "layer 000112 min: 0.0\n",
            "global max: 0.9999998807907104\n",
            "global min: 0.0\n",
            "layer 000113 normalization\n",
            "layer 000113 max: 0.9999998807907104\n",
            "layer 000113 min: 0.0\n",
            "global max: 0.9999998807907104\n",
            "global min: 0.0\n",
            "layer 000114 normalization\n",
            "layer 000114 max: 0.9999998807907104\n",
            "layer 000114 min: 0.0\n",
            "global max: 0.9999998807907104\n",
            "global min: 0.0\n",
            "layer 000115 normalization\n",
            "layer 000115 max: 0.9999998807907104\n",
            "layer 000115 min: 0.0\n",
            "global max: 0.9999998807907104\n",
            "global min: 0.0\n",
            "layer 000116 normalization\n",
            "layer 000116 max: 0.9999998807907104\n",
            "layer 000116 min: 0.0\n",
            "global max: 0.9999998807907104\n",
            "global min: 0.0\n",
            "layer 000117 normalization\n",
            "layer 000117 max: 0.9999998807907104\n",
            "layer 000117 min: 0.0\n",
            "global max: 0.9999998807907104\n",
            "global min: 0.0\n",
            "layer 000118 normalization\n",
            "layer 000118 max: 0.9999998807907104\n",
            "layer 000118 min: 0.0\n",
            "global max: 0.9999998807907104\n",
            "global min: 0.0\n",
            "layer 000119 normalization\n",
            "layer 000119 max: 0.9999998807907104\n",
            "layer 000119 min: 0.0\n",
            "global max: 0.9999998807907104\n",
            "global min: 0.0\n",
            "layer 000120 normalization\n",
            "layer 000120 max: 0.9999998807907104\n",
            "layer 000120 min: 0.0\n",
            "global max: 0.9999998807907104\n",
            "global min: 0.0\n",
            "layer 000121 normalization\n",
            "layer 000121 max: 0.9999998807907104\n",
            "layer 000121 min: 0.0\n",
            "global max: 0.9999998807907104\n",
            "global min: 0.0\n",
            "layer 000122 normalization\n",
            "layer 000122 max: 0.9999998807907104\n",
            "layer 000122 min: 0.0\n",
            "global max: 0.9999998807907104\n",
            "global min: 0.0\n",
            "layer 000123 normalization\n",
            "layer 000123 max: 0.9999998807907104\n",
            "layer 000123 min: 0.0\n",
            "global max: 0.9999998807907104\n",
            "global min: 0.0\n",
            "layer 000124 normalization\n",
            "layer 000124 max: 0.9999998807907104\n",
            "layer 000124 min: 0.0\n",
            "global max: 0.9999998807907104\n",
            "global min: 0.0\n",
            "layer 000125 normalization\n",
            "layer 000125 max: 0.9999998807907104\n",
            "layer 000125 min: 0.0\n",
            "global max: 0.9999998807907104\n",
            "global min: 0.0\n",
            "layer 000126 normalization\n",
            "layer 000126 max: 0.9999998807907104\n",
            "layer 000126 min: 0.0\n",
            "global max: 0.9999998807907104\n",
            "global min: 0.0\n",
            "layer 000127 normalization\n",
            "layer 000127 max: 0.9999998807907104\n",
            "layer 000127 min: 0.0\n",
            "global max: 0.9999998807907104\n",
            "global min: 0.0\n",
            "layer 000128 normalization\n",
            "layer 000128 max: 0.9999998807907104\n",
            "layer 000128 min: 0.0\n",
            "global max: 0.9999998807907104\n",
            "global min: 0.0\n",
            "layer 000129 normalization\n",
            "layer 000129 max: 0.9999998807907104\n",
            "layer 000129 min: 0.0\n",
            "global max: 0.9999998807907104\n",
            "global min: 0.0\n",
            "layer 000130 normalization\n",
            "layer 000130 max: 0.9999998807907104\n",
            "layer 000130 min: 0.0\n",
            "global max: 0.9999998807907104\n",
            "global min: 0.0\n",
            "layer 000131 normalization\n",
            "layer 000131 max: 0.9999998807907104\n",
            "layer 000131 min: 0.0\n",
            "global max: 0.9999998807907104\n",
            "global min: 0.0\n",
            "layer 000132 normalization\n",
            "layer 000132 max: 0.9999998807907104\n",
            "layer 000132 min: 0.0\n",
            "global max: 0.9999998807907104\n",
            "global min: 0.0\n",
            "layer 000133 normalization\n",
            "layer 000133 max: 0.9999998807907104\n",
            "layer 000133 min: 0.0\n",
            "global max: 0.9999998807907104\n",
            "global min: 0.0\n",
            "layer 000134 normalization\n",
            "layer 000134 max: 0.9999998807907104\n",
            "layer 000134 min: 0.0\n",
            "global max: 0.9999998807907104\n",
            "global min: 0.0\n",
            "layer 000135 normalization\n",
            "layer 000135 max: 0.9999998807907104\n",
            "layer 000135 min: 0.0\n",
            "global max: 0.9999998807907104\n",
            "global min: 0.0\n",
            "layer 000136 normalization\n",
            "layer 000136 max: 0.9999998807907104\n",
            "layer 000136 min: 0.0\n",
            "global max: 0.9999998807907104\n",
            "global min: 0.0\n",
            "layer 000137 normalization\n",
            "layer 000137 max: 0.9999998807907104\n",
            "layer 000137 min: 0.0\n",
            "global max: 0.9999998807907104\n",
            "global min: 0.0\n",
            "layer 000138 normalization\n",
            "layer 000138 max: 0.9999998807907104\n",
            "layer 000138 min: 0.0\n",
            "global max: 0.9999998807907104\n",
            "global min: 0.0\n",
            "layer 000139 normalization\n",
            "layer 000139 max: 0.9999998807907104\n",
            "layer 000139 min: 0.0\n",
            "global max: 0.9999998807907104\n",
            "global min: 0.0\n",
            "layer 000140 normalization\n",
            "layer 000140 max: 0.9999998807907104\n",
            "layer 000140 min: 0.0\n",
            "global max: 0.9999998807907104\n",
            "global min: 0.0\n",
            "layer 000141 normalization\n",
            "layer 000141 max: 0.9999998807907104\n",
            "layer 000141 min: 0.0\n",
            "global max: 0.9999998807907104\n",
            "global min: 0.0\n",
            "layer 000142 normalization\n",
            "layer 000142 max: 0.9999998807907104\n",
            "layer 000142 min: 0.0\n",
            "global max: 0.9999998807907104\n",
            "global min: 0.0\n",
            "layer 000143 normalization\n",
            "layer 000143 max: 0.9999998807907104\n",
            "layer 000143 min: 0.0\n",
            "global max: 0.9999998807907104\n",
            "global min: 0.0\n",
            "layer 000144 normalization\n",
            "layer 000144 max: 0.9999998807907104\n",
            "layer 000144 min: 0.0\n",
            "global max: 0.9999998807907104\n",
            "global min: 0.0\n",
            "layer 000145 normalization\n",
            "layer 000145 max: 0.9999998807907104\n",
            "layer 000145 min: 0.0\n",
            "global max: 0.9999998807907104\n",
            "global min: 0.0\n",
            "layer 000146 normalization\n",
            "layer 000146 max: 0.9999998807907104\n",
            "layer 000146 min: 0.0\n",
            "global max: 0.9999998807907104\n",
            "global min: 0.0\n",
            "layer 000147 normalization\n",
            "layer 000147 max: 0.9999998807907104\n",
            "layer 000147 min: 0.0\n",
            "global max: 0.9999998807907104\n",
            "global min: 0.0\n",
            "layer 000148 normalization\n",
            "layer 000148 max: 0.9999998807907104\n",
            "layer 000148 min: 0.0\n",
            "global max: 0.9999998807907104\n",
            "global min: 0.0\n",
            "layer 000149 normalization\n",
            "layer 000149 max: 0.9999998807907104\n",
            "layer 000149 min: 0.0\n",
            "global max: 0.9999998807907104\n",
            "global min: 0.0\n",
            "layer 000150 normalization\n",
            "layer 000150 max: 0.9999998807907104\n",
            "layer 000150 min: 0.0\n",
            "global max: 0.9999998807907104\n",
            "global min: 0.0\n",
            "layer 000151 normalization\n",
            "layer 000151 max: 0.9999998807907104\n",
            "layer 000151 min: 0.0\n",
            "global max: 0.9999998807907104\n",
            "global min: 0.0\n",
            "layer 000152 normalization\n",
            "layer 000152 max: 0.9999998807907104\n",
            "layer 000152 min: 0.0\n",
            "global max: 0.9999998807907104\n",
            "global min: 0.0\n",
            "layer 000153 normalization\n",
            "layer 000153 max: 0.9999998807907104\n",
            "layer 000153 min: 0.0\n",
            "global max: 0.9999998807907104\n",
            "global min: 0.0\n",
            "layer 000154 normalization\n",
            "layer 000154 max: 0.9999998807907104\n",
            "layer 000154 min: 0.0\n",
            "global max: 0.9999998807907104\n",
            "global min: 0.0\n",
            "layer 000155 normalization\n",
            "layer 000155 max: 0.9999998807907104\n",
            "layer 000155 min: 0.0\n",
            "global max: 0.9999998807907104\n",
            "global min: 0.0\n",
            "layer 000156 normalization\n",
            "layer 000156 max: 0.9999998807907104\n",
            "layer 000156 min: 0.0\n",
            "global max: 0.9999998807907104\n",
            "global min: 0.0\n",
            "layer 000157 normalization\n",
            "layer 000157 max: 0.9999998807907104\n",
            "layer 000157 min: 0.0\n",
            "global max: 0.9999998807907104\n",
            "global min: 0.0\n",
            "layer 000158 normalization\n",
            "layer 000158 max: 0.9999998807907104\n",
            "layer 000158 min: 0.0\n",
            "global max: 0.9999998807907104\n",
            "global min: 0.0\n",
            "layer 000159 normalization\n",
            "layer 000159 max: 0.9999998807907104\n",
            "layer 000159 min: 0.0\n",
            "global max: 0.9999998807907104\n",
            "global min: 0.0\n",
            "layer 000160 normalization\n",
            "layer 000160 max: 0.9999998807907104\n",
            "layer 000160 min: 0.0\n",
            "global max: 0.9999998807907104\n",
            "global min: 0.0\n",
            "layer 000161 normalization\n",
            "layer 000161 max: 0.9999998807907104\n",
            "layer 000161 min: 0.0\n",
            "global max: 0.9999998807907104\n",
            "global min: 0.0\n",
            "layer 000162 normalization\n",
            "layer 000162 max: 0.9999998807907104\n",
            "layer 000162 min: 0.0\n",
            "global max: 0.9999998807907104\n",
            "global min: 0.0\n",
            "layer 000163 normalization\n",
            "layer 000163 max: 0.9999998807907104\n",
            "layer 000163 min: 0.0\n",
            "global max: 0.9999998807907104\n",
            "global min: 0.0\n",
            "layer 000164 normalization\n",
            "layer 000164 max: 0.9999998807907104\n",
            "layer 000164 min: 0.0\n",
            "global max: 0.9999998807907104\n",
            "global min: 0.0\n",
            "layer 000165 normalization\n",
            "layer 000165 max: 0.9999998807907104\n",
            "layer 000165 min: 0.0\n",
            "global max: 0.9999998807907104\n",
            "global min: 0.0\n",
            "layer 000166 normalization\n",
            "layer 000166 max: 0.9999998807907104\n",
            "layer 000166 min: 0.0\n",
            "global max: 0.9999998807907104\n",
            "global min: 0.0\n",
            "layer 000167 normalization\n",
            "layer 000167 max: 0.9999998807907104\n",
            "layer 000167 min: 0.0\n",
            "global max: 0.9999998807907104\n",
            "global min: 0.0\n",
            "layer 000168 normalization\n",
            "layer 000168 max: 0.9999998807907104\n",
            "layer 000168 min: 0.0\n",
            "global max: 0.9999998807907104\n",
            "global min: 0.0\n",
            "layer 000169 normalization\n",
            "layer 000169 max: 0.9999998807907104\n",
            "layer 000169 min: 0.0\n",
            "global max: 0.9999998807907104\n",
            "global min: 0.0\n",
            "layer 000170 normalization\n",
            "layer 000170 max: 0.9999998807907104\n",
            "layer 000170 min: 0.0\n",
            "global max: 0.9999998807907104\n",
            "global min: 0.0\n",
            "layer 000171 normalization\n",
            "layer 000171 max: 0.9999998807907104\n",
            "layer 000171 min: 0.0\n",
            "global max: 0.9999998807907104\n",
            "global min: 0.0\n",
            "layer 000172 normalization\n",
            "layer 000172 max: 0.9999998807907104\n",
            "layer 000172 min: 0.0\n",
            "global max: 0.9999998807907104\n",
            "global min: 0.0\n",
            "layer 000173 normalization\n",
            "layer 000173 max: 0.9999998807907104\n",
            "layer 000173 min: 0.0\n",
            "global max: 0.9999998807907104\n",
            "global min: 0.0\n",
            "layer 000174 normalization\n",
            "layer 000174 max: 0.9999998807907104\n",
            "layer 000174 min: 0.0\n",
            "global max: 0.9999998807907104\n",
            "global min: 0.0\n",
            "layer 000175 normalization\n",
            "layer 000175 max: 0.9999998807907104\n",
            "layer 000175 min: 0.0\n",
            "global max: 0.9999998807907104\n",
            "global min: 0.0\n",
            "layer 000176 normalization\n",
            "layer 000176 max: 0.9999998807907104\n",
            "layer 000176 min: 0.0\n",
            "global max: 0.9999998807907104\n",
            "global min: 0.0\n",
            "layer 000177 normalization\n",
            "layer 000177 max: 0.9999998807907104\n",
            "layer 000177 min: 0.0\n",
            "global max: 0.9999998807907104\n",
            "global min: 0.0\n",
            "layer 000178 normalization\n",
            "layer 000178 max: 0.9999998807907104\n",
            "layer 000178 min: 0.0\n",
            "global max: 0.9999998807907104\n",
            "global min: 0.0\n",
            "layer 000179 normalization\n",
            "layer 000179 max: 0.9999998807907104\n",
            "layer 000179 min: 0.0\n",
            "global max: 0.9999998807907104\n",
            "global min: 0.0\n",
            "layer 000180 normalization\n",
            "layer 000180 max: 0.9999998807907104\n",
            "layer 000180 min: 0.0\n",
            "global max: 0.9999998807907104\n",
            "global min: 0.0\n",
            "layer 000181 normalization\n",
            "layer 000181 max: 0.9999998807907104\n",
            "layer 000181 min: 0.0\n",
            "global max: 0.9999998807907104\n",
            "global min: 0.0\n",
            "layer 000182 normalization\n",
            "layer 000182 max: 0.9999998807907104\n",
            "layer 000182 min: 0.0\n",
            "global max: 0.9999998807907104\n",
            "global min: 0.0\n",
            "layer 000183 normalization\n",
            "layer 000183 max: 0.9999998807907104\n",
            "layer 000183 min: 0.0\n",
            "global max: 0.9999998807907104\n",
            "global min: 0.0\n",
            "layer 000184 normalization\n",
            "layer 000184 max: 0.9999998807907104\n",
            "layer 000184 min: 0.0\n",
            "global max: 0.9999998807907104\n",
            "global min: 0.0\n",
            "layer 000185 normalization\n",
            "layer 000185 max: 0.9999998807907104\n",
            "layer 000185 min: 0.0\n",
            "global max: 0.9999998807907104\n",
            "global min: 0.0\n",
            "layer 000186 normalization\n",
            "layer 000186 max: 0.9999998807907104\n",
            "layer 000186 min: 0.0\n",
            "global max: 0.9999998807907104\n",
            "global min: 0.0\n",
            "layer 000187 normalization\n",
            "layer 000187 max: 0.9999998807907104\n",
            "layer 000187 min: 0.0\n",
            "global max: 0.9999998807907104\n",
            "global min: 0.0\n",
            "layer 000188 normalization\n",
            "layer 000188 max: 0.9999998807907104\n",
            "layer 000188 min: 0.0\n",
            "global max: 0.9999998807907104\n",
            "global min: 0.0\n",
            "layer 000189 normalization\n",
            "layer 000189 max: 0.9999998807907104\n",
            "layer 000189 min: 0.0\n",
            "global max: 0.9999998807907104\n",
            "global min: 0.0\n",
            "layer 000190 normalization\n",
            "layer 000190 max: 0.9999998807907104\n",
            "layer 000190 min: 0.0\n",
            "global max: 0.9999998807907104\n",
            "global min: 0.0\n",
            "layer 000191 normalization\n",
            "layer 000191 max: 0.9999998807907104\n",
            "layer 000191 min: 0.0\n",
            "global max: 0.9999998807907104\n",
            "global min: 0.0\n",
            "layer 000192 normalization\n",
            "layer 000192 max: 0.9999998807907104\n",
            "layer 000192 min: 0.0\n",
            "global max: 0.9999998807907104\n",
            "global min: 0.0\n",
            "layer 000193 normalization\n",
            "layer 000193 max: 0.9999998807907104\n",
            "layer 000193 min: 0.0\n",
            "global max: 0.9999998807907104\n",
            "global min: 0.0\n",
            "layer 000194 normalization\n",
            "layer 000194 max: 0.9999998807907104\n",
            "layer 000194 min: 0.0\n",
            "global max: 0.9999998807907104\n",
            "global min: 0.0\n",
            "layer 000195 normalization\n",
            "layer 000195 max: 0.9999998807907104\n",
            "layer 000195 min: 0.0\n",
            "global max: 0.9999998807907104\n",
            "global min: 0.0\n",
            "layer 000196 normalization\n",
            "layer 000196 max: 0.9999998807907104\n",
            "layer 000196 min: 0.0\n",
            "global max: 0.9999998807907104\n",
            "global min: 0.0\n",
            "layer 000197 normalization\n",
            "layer 000197 max: 0.9999998807907104\n",
            "layer 000197 min: 0.0\n",
            "global max: 0.9999998807907104\n",
            "global min: 0.0\n",
            "layer 000198 normalization\n",
            "layer 000198 max: 0.9999998807907104\n",
            "layer 000198 min: 0.0\n",
            "global max: 0.9999998807907104\n",
            "global min: 0.0\n",
            "layer 000199 normalization\n",
            "layer 000199 max: 0.9999998807907104\n",
            "layer 000199 min: 0.0\n",
            "global max: 0.9999998807907104\n",
            "global min: 0.0\n",
            "layer 000200 normalization\n",
            "layer 000200 max: 0.9999998807907104\n",
            "layer 000200 min: 0.0\n",
            "global max: 0.9999998807907104\n",
            "global min: 0.0\n",
            "layer 000201 normalization\n",
            "layer 000201 max: 0.9999998807907104\n",
            "layer 000201 min: 0.0\n",
            "global max: 0.9999998807907104\n",
            "global min: 0.0\n",
            "layer 000202 normalization\n",
            "layer 000202 max: 0.9999998807907104\n",
            "layer 000202 min: 0.0\n",
            "global max: 0.9999998807907104\n",
            "global min: 0.0\n",
            "layer 000203 normalization\n",
            "layer 000203 max: 0.9999998807907104\n",
            "layer 000203 min: 0.0\n",
            "global max: 0.9999998807907104\n",
            "global min: 0.0\n",
            "layer 000204 normalization\n",
            "layer 000204 max: 0.9999998807907104\n",
            "layer 000204 min: 0.0\n",
            "global max: 0.9999998807907104\n",
            "global min: 0.0\n",
            "layer 000205 normalization\n",
            "layer 000205 max: 0.9999998807907104\n",
            "layer 000205 min: 0.0\n",
            "global max: 0.9999998807907104\n",
            "global min: 0.0\n",
            "layer 000206 normalization\n",
            "layer 000206 max: 0.9999998807907104\n",
            "layer 000206 min: 0.0\n",
            "global max: 0.9999998807907104\n",
            "global min: 0.0\n",
            "layer 000207 normalization\n",
            "layer 000207 max: 0.9999998807907104\n",
            "layer 000207 min: 0.0\n",
            "global max: 0.9999998807907104\n",
            "global min: 0.0\n",
            "layer 000208 normalization\n",
            "layer 000208 max: 0.9999998807907104\n",
            "layer 000208 min: 0.0\n",
            "global max: 0.9999998807907104\n",
            "global min: 0.0\n",
            "layer 000209 normalization\n",
            "layer 000209 max: 0.9999998807907104\n",
            "layer 000209 min: 0.0\n",
            "global max: 0.9999998807907104\n",
            "global min: 0.0\n",
            "layer 000210 normalization\n",
            "layer 000210 max: 0.9999998807907104\n",
            "layer 000210 min: 0.0\n",
            "global max: 0.9999998807907104\n",
            "global min: 0.0\n",
            "layer 000211 normalization\n",
            "layer 000211 max: 0.9999998807907104\n",
            "layer 000211 min: 0.0\n",
            "global max: 0.9999998807907104\n",
            "global min: 0.0\n",
            "layer 000212 normalization\n",
            "layer 000212 max: 0.9999998807907104\n",
            "layer 000212 min: 0.0\n",
            "global max: 0.9999998807907104\n",
            "global min: 0.0\n",
            "layer 000213 normalization\n",
            "layer 000213 max: 0.9999998807907104\n",
            "layer 000213 min: 0.0\n",
            "global max: 0.9999998807907104\n",
            "global min: 0.0\n",
            "layer 000214 normalization\n",
            "layer 000214 max: 0.9999998807907104\n",
            "layer 000214 min: 0.0\n",
            "global max: 0.9999998807907104\n",
            "global min: 0.0\n",
            "layer 000215 normalization\n",
            "layer 000215 max: 0.9999998807907104\n",
            "layer 000215 min: 0.0\n",
            "global max: 0.9999998807907104\n",
            "global min: 0.0\n",
            "layer 000216 normalization\n",
            "layer 000216 max: 0.9999998807907104\n",
            "layer 000216 min: 0.0\n",
            "global max: 0.9999998807907104\n",
            "global min: 0.0\n",
            "layer 000217 normalization\n",
            "layer 000217 max: 0.9999998807907104\n",
            "layer 000217 min: 0.0\n",
            "global max: 0.9999998807907104\n",
            "global min: 0.0\n",
            "layer 000218 normalization\n",
            "layer 000218 max: 0.9999998807907104\n",
            "layer 000218 min: 0.0\n",
            "global max: 0.9999998807907104\n",
            "global min: 0.0\n",
            "layer 000219 normalization\n",
            "layer 000219 max: 0.9999998807907104\n",
            "layer 000219 min: 0.0\n",
            "global max: 0.9999998807907104\n",
            "global min: 0.0\n",
            "layer 000220 normalization\n",
            "layer 000220 max: 0.9999998807907104\n",
            "layer 000220 min: 0.0\n",
            "global max: 0.9999998807907104\n",
            "global min: 0.0\n",
            "layer 000221 normalization\n",
            "layer 000221 max: 0.9999998807907104\n",
            "layer 000221 min: 0.0\n",
            "global max: 0.9999998807907104\n",
            "global min: 0.0\n",
            "layer 000222 normalization\n",
            "layer 000222 max: 0.9999998807907104\n",
            "layer 000222 min: 0.0\n",
            "global max: 0.9999998807907104\n",
            "global min: 0.0\n",
            "layer 000223 normalization\n",
            "layer 000223 max: 0.9999998807907104\n",
            "layer 000223 min: 0.0\n",
            "global max: 0.9999998807907104\n",
            "global min: 0.0\n",
            "layer 000224 normalization\n",
            "layer 000224 max: 0.9999998807907104\n",
            "layer 000224 min: 0.0\n",
            "global max: 0.9999998807907104\n",
            "global min: 0.0\n",
            "layer 000225 normalization\n",
            "layer 000225 max: 0.9999998807907104\n",
            "layer 000225 min: 0.0\n",
            "global max: 0.9999998807907104\n",
            "global min: 0.0\n",
            "layer 000226 normalization\n",
            "layer 000226 max: 0.9999998807907104\n",
            "layer 000226 min: 0.0\n",
            "global max: 0.9999998807907104\n",
            "global min: 0.0\n",
            "layer 000227 normalization\n",
            "layer 000227 max: 0.9999998807907104\n",
            "layer 000227 min: 0.0\n",
            "global max: 0.9999998807907104\n",
            "global min: 0.0\n",
            "layer 000228 normalization\n",
            "layer 000228 max: 0.9999998807907104\n",
            "layer 000228 min: 0.0\n",
            "global max: 0.9999998807907104\n",
            "global min: 0.0\n",
            "layer 000229 normalization\n",
            "layer 000229 max: 0.9999998807907104\n",
            "layer 000229 min: 0.0\n",
            "global max: 0.9999998807907104\n",
            "global min: 0.0\n",
            "layer 000230 normalization\n",
            "layer 000230 max: 0.9999998807907104\n",
            "layer 000230 min: 0.0\n",
            "global max: 0.9999998807907104\n",
            "global min: 0.0\n",
            "layer 000231 normalization\n",
            "layer 000231 max: 0.9999998807907104\n",
            "layer 000231 min: 0.0\n",
            "global max: 0.9999998807907104\n",
            "global min: 0.0\n",
            "layer 000232 normalization\n",
            "layer 000232 max: 0.9999998807907104\n",
            "layer 000232 min: 0.0\n",
            "global max: 0.9999998807907104\n",
            "global min: 0.0\n",
            "layer 000233 normalization\n",
            "layer 000233 max: 0.9999998807907104\n",
            "layer 000233 min: 0.0\n",
            "global max: 0.9999998807907104\n",
            "global min: 0.0\n",
            "layer 000234 normalization\n",
            "layer 000234 max: 0.9999998807907104\n",
            "layer 000234 min: 0.0\n",
            "global max: 0.9999998807907104\n",
            "global min: 0.0\n",
            "layer 000235 normalization\n",
            "layer 000235 max: 0.9999998807907104\n",
            "layer 000235 min: 0.0\n",
            "global max: 0.9999998807907104\n",
            "global min: 0.0\n",
            "layer 000236 normalization\n",
            "layer 000236 max: 0.9999998807907104\n",
            "layer 000236 min: 0.0\n",
            "global max: 0.9999998807907104\n",
            "global min: 0.0\n",
            "layer 000237 normalization\n",
            "layer 000237 max: 0.9999998807907104\n",
            "layer 000237 min: 0.0\n",
            "global max: 0.9999998807907104\n",
            "global min: 0.0\n",
            "layer 000238 normalization\n",
            "layer 000238 max: 0.9999998807907104\n",
            "layer 000238 min: 0.0\n",
            "global max: 0.9999998807907104\n",
            "global min: 0.0\n",
            "layer 000239 normalization\n",
            "layer 000239 max: 0.9999998807907104\n",
            "layer 000239 min: 0.0\n",
            "global max: 0.9999998807907104\n",
            "global min: 0.0\n",
            "layer 000240 normalization\n",
            "layer 000240 max: 0.9999998807907104\n",
            "layer 000240 min: 0.0\n",
            "global max: 0.9999998807907104\n",
            "global min: 0.0\n",
            "layer 000241 normalization\n",
            "layer 000241 max: 0.9999998807907104\n",
            "layer 000241 min: 0.0\n",
            "global max: 0.9999998807907104\n",
            "global min: 0.0\n",
            "layer 000242 normalization\n",
            "layer 000242 max: 0.9999998807907104\n",
            "layer 000242 min: 0.0\n",
            "global max: 0.9999998807907104\n",
            "global min: 0.0\n",
            "layer 000243 normalization\n",
            "layer 000243 max: 0.9999998807907104\n",
            "layer 000243 min: 0.0\n",
            "global max: 0.9999998807907104\n",
            "global min: 0.0\n",
            "layer 000244 normalization\n",
            "layer 000244 max: 0.9999998807907104\n",
            "layer 000244 min: 0.0\n",
            "global max: 0.9999998807907104\n",
            "global min: 0.0\n",
            "layer 000245 normalization\n",
            "layer 000245 max: 0.9999998807907104\n",
            "layer 000245 min: 0.0\n",
            "global max: 0.9999998807907104\n",
            "global min: 0.0\n",
            "layer 000246 normalization\n",
            "layer 000246 max: 0.9999998807907104\n",
            "layer 000246 min: 0.0\n",
            "global max: 0.9999998807907104\n",
            "global min: 0.0\n",
            "layer 000247 normalization\n",
            "layer 000247 max: 0.9999998807907104\n",
            "layer 000247 min: 0.0\n",
            "global max: 0.9999998807907104\n",
            "global min: 0.0\n",
            "layer 000248 normalization\n",
            "layer 000248 max: 0.9999998807907104\n",
            "layer 000248 min: 0.0\n",
            "global max: 0.9999998807907104\n",
            "global min: 0.0\n",
            "layer 000249 normalization\n",
            "layer 000249 max: 0.9999998807907104\n",
            "layer 000249 min: 0.0\n",
            "global max: 0.9999998807907104\n",
            "global min: 0.0\n",
            "layer 000250 normalization\n",
            "layer 000250 max: 0.9999998807907104\n",
            "layer 000250 min: 0.0\n",
            "global max: 0.9999998807907104\n",
            "global min: 0.0\n",
            "layer 000251 normalization\n",
            "layer 000251 max: 0.9999998807907104\n",
            "layer 000251 min: 0.0\n",
            "global max: 0.9999998807907104\n",
            "global min: 0.0\n",
            "layer 000252 normalization\n",
            "layer 000252 max: 0.9999998807907104\n",
            "layer 000252 min: 0.0\n",
            "global max: 0.9999998807907104\n",
            "global min: 0.0\n",
            "layer 000253 normalization\n",
            "layer 000253 max: 0.9999998807907104\n",
            "layer 000253 min: 0.0\n",
            "global max: 0.9999998807907104\n",
            "global min: 0.0\n",
            "layer 000254 normalization\n",
            "layer 000254 max: 0.9999998807907104\n",
            "layer 000254 min: 0.0\n",
            "global max: 0.9999998807907104\n",
            "global min: 0.0\n",
            "layer 000255 normalization\n",
            "layer 000255 max: 0.9999998807907104\n",
            "layer 000255 min: 0.0\n",
            "global max: 0.9999998807907104\n",
            "global min: 0.0\n",
            "layer 000256 normalization\n",
            "layer 000256 max: 0.9999998807907104\n",
            "layer 000256 min: 0.0\n",
            "global max: 0.9999998807907104\n",
            "global min: 0.0\n",
            "layer 000257 normalization\n",
            "layer 000257 max: 0.9999998807907104\n",
            "layer 000257 min: 0.0\n",
            "global max: 0.9999998807907104\n",
            "global min: 0.0\n",
            "layer 000258 normalization\n",
            "layer 000258 max: 0.9999998807907104\n",
            "layer 000258 min: 0.0\n",
            "global max: 0.9999998807907104\n",
            "global min: 0.0\n",
            "layer 000259 normalization\n",
            "layer 000259 max: 0.9999998807907104\n",
            "layer 000259 min: 0.0\n",
            "global max: 0.9999998807907104\n",
            "global min: 0.0\n",
            "layer 000260 normalization\n",
            "layer 000260 max: 0.9999998807907104\n",
            "layer 000260 min: 0.0\n",
            "global max: 0.9999998807907104\n",
            "global min: 0.0\n",
            "layer 000261 normalization\n",
            "layer 000261 max: 0.9999998807907104\n",
            "layer 000261 min: 0.0\n",
            "global max: 0.9999998807907104\n",
            "global min: 0.0\n",
            "layer 000262 normalization\n",
            "layer 000262 max: 0.9999998807907104\n",
            "layer 000262 min: 0.0\n",
            "global max: 0.9999998807907104\n",
            "global min: 0.0\n",
            "layer 000263 normalization\n",
            "layer 000263 max: 0.9999998807907104\n",
            "layer 000263 min: 0.0\n",
            "global max: 0.9999998807907104\n",
            "global min: 0.0\n",
            "layer 000264 normalization\n",
            "layer 000264 max: 0.9999998807907104\n",
            "layer 000264 min: 0.0\n",
            "global max: 0.9999998807907104\n",
            "global min: 0.0\n",
            "layer 000265 normalization\n",
            "layer 000265 max: 0.9999998807907104\n",
            "layer 000265 min: 0.0\n",
            "global max: 0.9999998807907104\n",
            "global min: 0.0\n",
            "layer 000266 normalization\n",
            "layer 000266 max: 0.9999998807907104\n",
            "layer 000266 min: 0.0\n",
            "global max: 0.9999998807907104\n",
            "global min: 0.0\n",
            "layer 000267 normalization\n",
            "layer 000267 max: 0.9999998807907104\n",
            "layer 000267 min: 0.0\n",
            "global max: 0.9999998807907104\n",
            "global min: 0.0\n",
            "layer 000268 normalization\n",
            "layer 000268 max: 0.9999998807907104\n",
            "layer 000268 min: 0.0\n",
            "global max: 0.9999998807907104\n",
            "global min: 0.0\n",
            "layer 000269 normalization\n",
            "layer 000269 max: 0.9999998807907104\n",
            "layer 000269 min: 0.0\n",
            "global max: 0.9999998807907104\n",
            "global min: 0.0\n",
            "layer 000270 normalization\n",
            "layer 000270 max: 0.9999998807907104\n",
            "layer 000270 min: 0.0\n",
            "global max: 0.9999998807907104\n",
            "global min: 0.0\n",
            "layer 000271 normalization\n",
            "layer 000271 max: 0.9999998807907104\n",
            "layer 000271 min: 0.0\n",
            "global max: 0.9999998807907104\n",
            "global min: 0.0\n",
            "layer 000272 normalization\n",
            "layer 000272 max: 0.9999998807907104\n",
            "layer 000272 min: 0.0\n",
            "global max: 0.9999998807907104\n",
            "global min: 0.0\n",
            "layer 000273 normalization\n",
            "layer 000273 max: 0.9999998807907104\n",
            "layer 000273 min: 0.0\n",
            "global max: 0.9999998807907104\n",
            "global min: 0.0\n",
            "layer 000274 normalization\n",
            "layer 000274 max: 0.9999998807907104\n",
            "layer 000274 min: 0.0\n",
            "global max: 0.9999998807907104\n",
            "global min: 0.0\n",
            "layer 000275 normalization\n",
            "layer 000275 max: 0.9999998807907104\n",
            "layer 000275 min: 0.0\n",
            "global max: 0.9999998807907104\n",
            "global min: 0.0\n",
            "layer 000276 normalization\n",
            "layer 000276 max: 0.9999998807907104\n",
            "layer 000276 min: 0.0\n",
            "global max: 0.9999998807907104\n",
            "global min: 0.0\n",
            "layer 000277 normalization\n",
            "layer 000277 max: 0.9999998807907104\n",
            "layer 000277 min: 0.0\n",
            "global max: 0.9999998807907104\n",
            "global min: 0.0\n",
            "layer 000278 normalization\n",
            "layer 000278 max: 0.9999998807907104\n",
            "layer 000278 min: 0.0\n",
            "global max: 0.9999998807907104\n",
            "global min: 0.0\n",
            "layer 000279 normalization\n",
            "layer 000279 max: 0.9999998807907104\n",
            "layer 000279 min: 0.0\n",
            "global max: 0.9999998807907104\n",
            "global min: 0.0\n",
            "layer 000280 normalization\n",
            "layer 000280 max: 0.9999998807907104\n",
            "layer 000280 min: 0.0\n",
            "global max: 0.9999998807907104\n",
            "global min: 0.0\n",
            "layer 000281 normalization\n",
            "layer 000281 max: 0.9999998807907104\n",
            "layer 000281 min: 0.0\n",
            "global max: 0.9999998807907104\n",
            "global min: 0.0\n",
            "layer 000282 normalization\n",
            "layer 000282 max: 0.9999998807907104\n",
            "layer 000282 min: 0.0\n",
            "global max: 0.9999998807907104\n",
            "global min: 0.0\n",
            "layer 000283 normalization\n",
            "layer 000283 max: 0.9999998807907104\n",
            "layer 000283 min: 0.0\n",
            "global max: 0.9999998807907104\n",
            "global min: 0.0\n",
            "layer 000284 normalization\n",
            "layer 000284 max: 0.9999998807907104\n",
            "layer 000284 min: 0.0\n",
            "global max: 0.9999998807907104\n",
            "global min: 0.0\n",
            "layer 000285 normalization\n",
            "layer 000285 max: 0.9999998807907104\n",
            "layer 000285 min: 0.0\n",
            "global max: 0.9999998807907104\n",
            "global min: 0.0\n",
            "layer 000286 normalization\n",
            "layer 000286 max: 0.9999998807907104\n",
            "layer 000286 min: 0.0\n",
            "global max: 0.9999998807907104\n",
            "global min: 0.0\n",
            "layer 000287 normalization\n",
            "layer 000287 max: 0.9999998807907104\n",
            "layer 000287 min: 0.0\n",
            "global max: 0.9999998807907104\n",
            "global min: 0.0\n",
            "layer 000288 normalization\n",
            "layer 000288 max: 0.9999998807907104\n",
            "layer 000288 min: 0.0\n",
            "global max: 0.9999998807907104\n",
            "global min: 0.0\n",
            "layer 000289 normalization\n",
            "layer 000289 max: 0.9999998807907104\n",
            "layer 000289 min: 0.0\n",
            "global max: 0.9999998807907104\n",
            "global min: 0.0\n",
            "layer 000290 normalization\n",
            "layer 000290 max: 0.9999998807907104\n",
            "layer 000290 min: 0.0\n",
            "global max: 0.9999998807907104\n",
            "global min: 0.0\n",
            "layer 000291 normalization\n",
            "layer 000291 max: 0.9999998807907104\n",
            "layer 000291 min: 0.0\n",
            "global max: 0.9999998807907104\n",
            "global min: 0.0\n",
            "layer 000292 normalization\n",
            "layer 000292 max: 0.9999998807907104\n",
            "layer 000292 min: 0.0\n",
            "global max: 0.9999998807907104\n",
            "global min: 0.0\n",
            "layer 000293 normalization\n",
            "layer 000293 max: 0.9999998807907104\n",
            "layer 000293 min: 0.0\n",
            "global max: 0.9999998807907104\n",
            "global min: 0.0\n",
            "layer 000294 normalization\n",
            "layer 000294 max: 0.9999998807907104\n",
            "layer 000294 min: 0.0\n",
            "global max: 0.9999998807907104\n",
            "global min: 0.0\n",
            "layer 000295 normalization\n",
            "layer 000295 max: 0.9999998807907104\n",
            "layer 000295 min: 0.0\n",
            "global max: 0.9999998807907104\n",
            "global min: 0.0\n",
            "layer 000296 normalization\n",
            "layer 000296 max: 0.9999998807907104\n",
            "layer 000296 min: 0.0\n",
            "global max: 0.9999998807907104\n",
            "global min: 0.0\n",
            "layer 000297 normalization\n",
            "layer 000297 max: 0.9999998807907104\n",
            "layer 000297 min: 0.0\n",
            "global max: 0.9999998807907104\n",
            "global min: 0.0\n",
            "layer 000298 normalization\n",
            "layer 000298 max: 0.9999998807907104\n",
            "layer 000298 min: 0.0\n",
            "global max: 0.9999998807907104\n",
            "global min: 0.0\n",
            "layer 000299 normalization\n",
            "layer 000299 max: 0.9999998807907104\n",
            "layer 000299 min: 0.0\n",
            "global max: 0.9999998807907104\n",
            "global min: 0.0\n",
            "layer 000300 normalization\n",
            "layer 000300 max: 0.9999998807907104\n",
            "layer 000300 min: 0.0\n",
            "global max: 0.9999998807907104\n",
            "global min: 0.0\n",
            "layer 000301 normalization\n",
            "layer 000301 max: 0.9999998807907104\n",
            "layer 000301 min: 0.0\n",
            "global max: 0.9999998807907104\n",
            "global min: 0.0\n",
            "layer 000302 normalization\n",
            "layer 000302 max: 0.9999998807907104\n",
            "layer 000302 min: 0.0\n",
            "global max: 0.9999998807907104\n",
            "global min: 0.0\n",
            "layer 000303 normalization\n",
            "layer 000303 max: 0.9999998807907104\n",
            "layer 000303 min: 0.0\n",
            "global max: 0.9999998807907104\n",
            "global min: 0.0\n",
            "layer 000304 normalization\n",
            "layer 000304 max: 0.9999998807907104\n",
            "layer 000304 min: 0.0\n",
            "global max: 0.9999998807907104\n",
            "global min: 0.0\n",
            "layer 000305 normalization\n",
            "layer 000305 max: 0.9999998807907104\n",
            "layer 000305 min: 0.0\n",
            "global max: 0.9999998807907104\n",
            "global min: 0.0\n",
            "layer 000306 normalization\n",
            "layer 000306 max: 0.9999998807907104\n",
            "layer 000306 min: 0.0\n",
            "global max: 0.9999998807907104\n",
            "global min: 0.0\n",
            "layer 000307 normalization\n",
            "layer 000307 max: 0.9999998807907104\n",
            "layer 000307 min: 0.0\n",
            "global max: 0.9999998807907104\n",
            "global min: 0.0\n",
            "layer 000308 normalization\n",
            "layer 000308 max: 0.9999998807907104\n",
            "layer 000308 min: 0.0\n",
            "global max: 0.9999998807907104\n",
            "global min: 0.0\n",
            "layer 000309 normalization\n",
            "layer 000309 max: 0.9999998807907104\n",
            "layer 000309 min: 0.0\n",
            "global max: 0.9999998807907104\n",
            "global min: 0.0\n",
            "layer 000310 normalization\n",
            "layer 000310 max: 0.9999998807907104\n",
            "layer 000310 min: 0.0\n",
            "global max: 0.9999998807907104\n",
            "global min: 0.0\n",
            "layer 000311 normalization\n",
            "layer 000311 max: 0.9999998807907104\n",
            "layer 000311 min: 0.0\n",
            "global max: 0.9999998807907104\n",
            "global min: 0.0\n",
            "layer 000312 normalization\n",
            "layer 000312 max: 0.9999998807907104\n",
            "layer 000312 min: 0.0\n",
            "global max: 0.9999998807907104\n",
            "global min: 0.0\n",
            "layer 000313 normalization\n",
            "layer 000313 max: 0.9999998807907104\n",
            "layer 000313 min: 0.0\n",
            "global max: 0.9999998807907104\n",
            "global min: 0.0\n",
            "layer 000314 normalization\n",
            "layer 000314 max: 0.9999998807907104\n",
            "layer 000314 min: 0.0\n",
            "global max: 0.9999998807907104\n",
            "global min: 0.0\n",
            "layer 000315 normalization\n",
            "layer 000315 max: 0.9999998807907104\n",
            "layer 000315 min: 0.0\n",
            "global max: 0.9999998807907104\n",
            "global min: 0.0\n",
            "layer 000316 normalization\n",
            "layer 000316 max: 0.9999998807907104\n",
            "layer 000316 min: 0.0\n",
            "global max: 0.9999998807907104\n",
            "global min: 0.0\n",
            "layer 000317 normalization\n",
            "layer 000317 max: 0.9999998807907104\n",
            "layer 000317 min: 0.0\n",
            "global max: 0.9999998807907104\n",
            "global min: 0.0\n",
            "layer 000318 normalization\n",
            "layer 000318 max: 0.9999998807907104\n",
            "layer 000318 min: 0.0\n",
            "global max: 0.9999998807907104\n",
            "global min: 0.0\n",
            "layer 000319 normalization\n",
            "layer 000319 max: 0.9999998807907104\n",
            "layer 000319 min: 0.0\n",
            "global max: 0.9999998807907104\n",
            "global min: 0.0\n",
            "layer 000320 normalization\n",
            "layer 000320 max: 0.9999998807907104\n",
            "layer 000320 min: 0.0\n",
            "global max: 0.9999998807907104\n",
            "global min: 0.0\n",
            "layer 000321 normalization\n",
            "layer 000321 max: 0.9999998807907104\n",
            "layer 000321 min: 0.0\n",
            "global max: 0.9999998807907104\n",
            "global min: 0.0\n",
            "layer 000322 normalization\n",
            "layer 000322 max: 0.9999998807907104\n",
            "layer 000322 min: 0.0\n",
            "global max: 0.9999998807907104\n",
            "global min: 0.0\n",
            "layer 000323 normalization\n",
            "layer 000323 max: 0.9999998807907104\n",
            "layer 000323 min: 0.0\n",
            "global max: 0.9999998807907104\n",
            "global min: 0.0\n",
            "layer 000324 normalization\n",
            "layer 000324 max: 0.9999998807907104\n",
            "layer 000324 min: 0.0\n",
            "global max: 0.9999998807907104\n",
            "global min: 0.0\n",
            "layer 000325 normalization\n",
            "layer 000325 max: 0.9999998807907104\n",
            "layer 000325 min: 0.0\n",
            "global max: 0.9999998807907104\n",
            "global min: 0.0\n",
            "layer 000326 normalization\n",
            "layer 000326 max: 0.9999998807907104\n",
            "layer 000326 min: 0.0\n",
            "global max: 0.9999998807907104\n",
            "global min: 0.0\n",
            "layer 000327 normalization\n",
            "layer 000327 max: 0.9999998807907104\n",
            "layer 000327 min: 0.0\n",
            "global max: 0.9999998807907104\n",
            "global min: 0.0\n",
            "layer 000328 normalization\n",
            "layer 000328 max: 0.9999998807907104\n",
            "layer 000328 min: 0.0\n",
            "global max: 0.9999998807907104\n",
            "global min: 0.0\n",
            "layer 000329 normalization\n",
            "layer 000329 max: 0.9999998807907104\n",
            "layer 000329 min: 0.0\n",
            "global max: 0.9999998807907104\n",
            "global min: 0.0\n",
            "layer 000330 normalization\n",
            "layer 000330 max: 0.9999998807907104\n",
            "layer 000330 min: 0.0\n",
            "global max: 0.9999998807907104\n",
            "global min: 0.0\n",
            "layer 000331 normalization\n",
            "layer 000331 max: 0.9999998807907104\n",
            "layer 000331 min: 0.0\n",
            "global max: 0.9999998807907104\n",
            "global min: 0.0\n",
            "layer 000332 normalization\n",
            "layer 000332 max: 0.9999998807907104\n",
            "layer 000332 min: 0.0\n",
            "global max: 0.9999998807907104\n",
            "global min: 0.0\n",
            "layer 000333 normalization\n",
            "layer 000333 max: 0.9999998807907104\n",
            "layer 000333 min: 0.0\n",
            "global max: 0.9999998807907104\n",
            "global min: 0.0\n",
            "layer 000334 normalization\n",
            "layer 000334 max: 0.9999998807907104\n",
            "layer 000334 min: 0.0\n",
            "global max: 0.9999998807907104\n",
            "global min: 0.0\n",
            "layer 000335 normalization\n",
            "layer 000335 max: 0.9999998807907104\n",
            "layer 000335 min: 0.0\n",
            "global max: 0.9999998807907104\n",
            "global min: 0.0\n",
            "layer 000336 normalization\n",
            "layer 000336 max: 0.9999998807907104\n",
            "layer 000336 min: 0.0\n",
            "global max: 0.9999998807907104\n",
            "global min: 0.0\n",
            "layer 000337 normalization\n",
            "layer 000337 max: 0.9999998807907104\n",
            "layer 000337 min: 0.0\n",
            "global max: 0.9999998807907104\n",
            "global min: 0.0\n",
            "layer 000338 normalization\n",
            "layer 000338 max: 0.9999998807907104\n",
            "layer 000338 min: 0.0\n",
            "global max: 0.9999998807907104\n",
            "global min: 0.0\n",
            "layer 000339 normalization\n",
            "layer 000339 max: 0.9999998807907104\n",
            "layer 000339 min: 0.0\n",
            "global max: 0.9999998807907104\n",
            "global min: 0.0\n",
            "layer 000340 normalization\n",
            "layer 000340 max: 0.9999998807907104\n",
            "layer 000340 min: 0.0\n",
            "global max: 0.9999998807907104\n",
            "global min: 0.0\n",
            "layer 000341 normalization\n",
            "layer 000341 max: 0.9999998807907104\n",
            "layer 000341 min: 0.0\n",
            "global max: 0.9999998807907104\n",
            "global min: 0.0\n",
            "layer 000342 normalization\n",
            "layer 000342 max: 0.9999998807907104\n",
            "layer 000342 min: 0.0\n",
            "global max: 0.9999998807907104\n",
            "global min: 0.0\n",
            "layer 000343 normalization\n",
            "layer 000343 max: 0.9999998807907104\n",
            "layer 000343 min: 0.0\n",
            "global max: 0.9999998807907104\n",
            "global min: 0.0\n",
            "layer 000344 normalization\n",
            "layer 000344 max: 0.9999998807907104\n",
            "layer 000344 min: 0.0\n",
            "global max: 0.9999998807907104\n",
            "global min: 0.0\n",
            "layer 000345 normalization\n",
            "layer 000345 max: 0.9999998807907104\n",
            "layer 000345 min: 0.0\n",
            "global max: 0.9999998807907104\n",
            "global min: 0.0\n",
            "layer 000346 normalization\n",
            "layer 000346 max: 0.9999998807907104\n",
            "layer 000346 min: 0.0\n",
            "global max: 0.9999998807907104\n",
            "global min: 0.0\n",
            "layer 000347 normalization\n",
            "layer 000347 max: 0.9999998807907104\n",
            "layer 000347 min: 0.0\n",
            "global max: 0.9999998807907104\n",
            "global min: 0.0\n",
            "layer 000348 normalization\n",
            "layer 000348 max: 0.9999998807907104\n",
            "layer 000348 min: 0.0\n",
            "global max: 0.9999998807907104\n",
            "global min: 0.0\n",
            "layer 000349 normalization\n",
            "layer 000349 max: 0.9999998807907104\n",
            "layer 000349 min: 0.0\n",
            "global max: 0.9999998807907104\n",
            "global min: 0.0\n",
            "layer 000350 normalization\n",
            "layer 000350 max: 0.9999998807907104\n",
            "layer 000350 min: 0.0\n",
            "global max: 0.9999998807907104\n",
            "global min: 0.0\n",
            "layer 000351 normalization\n",
            "layer 000351 max: 0.9999998807907104\n",
            "layer 000351 min: 0.0\n",
            "global max: 0.9999998807907104\n",
            "global min: 0.0\n",
            "layer 000352 normalization\n",
            "layer 000352 max: 0.9999998807907104\n",
            "layer 000352 min: 0.0\n",
            "global max: 0.9999998807907104\n",
            "global min: 0.0\n",
            "layer 000353 normalization\n",
            "layer 000353 max: 0.9999998807907104\n",
            "layer 000353 min: 0.0\n",
            "global max: 0.9999998807907104\n",
            "global min: 0.0\n",
            "layer 000354 normalization\n",
            "layer 000354 max: 0.9999998807907104\n",
            "layer 000354 min: 0.0\n",
            "global max: 0.9999998807907104\n",
            "global min: 0.0\n",
            "layer 000355 normalization\n",
            "layer 000355 max: 0.9999998807907104\n",
            "layer 000355 min: 0.0\n",
            "global max: 0.9999998807907104\n",
            "global min: 0.0\n",
            "layer 000356 normalization\n",
            "layer 000356 max: 0.9999998807907104\n",
            "layer 000356 min: 0.0\n",
            "global max: 0.9999998807907104\n",
            "global min: 0.0\n",
            "layer 000357 normalization\n",
            "layer 000357 max: 0.9999998807907104\n",
            "layer 000357 min: 0.0\n",
            "global max: 0.9999998807907104\n",
            "global min: 0.0\n",
            "layer 000358 normalization\n",
            "layer 000358 max: 0.9999998807907104\n",
            "layer 000358 min: 0.0\n",
            "global max: 0.9999998807907104\n",
            "global min: 0.0\n",
            "layer 000359 normalization\n",
            "layer 000359 max: 0.9999998807907104\n",
            "layer 000359 min: 0.0\n",
            "global max: 0.9999998807907104\n",
            "global min: 0.0\n",
            "layer 000360 normalization\n",
            "layer 000360 max: 0.9999998807907104\n",
            "layer 000360 min: 0.0\n",
            "global max: 0.9999998807907104\n",
            "global min: 0.0\n",
            "layer 000361 normalization\n",
            "layer 000361 max: 0.9999998807907104\n",
            "layer 000361 min: 0.0\n",
            "global max: 0.9999998807907104\n",
            "global min: 0.0\n",
            "layer 000362 normalization\n",
            "layer 000362 max: 0.9999998807907104\n",
            "layer 000362 min: 0.0\n",
            "global max: 0.9999998807907104\n",
            "global min: 0.0\n",
            "layer 000363 normalization\n",
            "layer 000363 max: 0.9999998807907104\n",
            "layer 000363 min: 0.0\n",
            "global max: 0.9999998807907104\n",
            "global min: 0.0\n",
            "layer 000364 normalization\n",
            "layer 000364 max: 0.9999998807907104\n",
            "layer 000364 min: 0.0\n",
            "global max: 0.9999998807907104\n",
            "global min: 0.0\n",
            "layer 000365 normalization\n",
            "layer 000365 max: 0.9999998807907104\n",
            "layer 000365 min: 0.0\n",
            "global max: 0.9999998807907104\n",
            "global min: 0.0\n",
            "layer 000366 normalization\n",
            "layer 000366 max: 0.9999998807907104\n",
            "layer 000366 min: 0.0\n",
            "global max: 0.9999998807907104\n",
            "global min: 0.0\n",
            "layer 000367 normalization\n",
            "layer 000367 max: 0.0\n",
            "layer 000367 min: 0.0\n",
            "global max: 0.9999998807907104\n",
            "global min: 0.0\n"
          ]
        },
        {
          "output_type": "stream",
          "name": "stderr",
          "text": [
            "/content/pytorch-grad-cam-anim/pytorch_grad_cam/base_cam.py:219: RuntimeWarning: invalid value encountered in divide\n",
            "  layer_cam = (cam - np.min(cam)) / (np.max(cam) - np.min(cam))\n"
          ]
        },
        {
          "output_type": "stream",
          "name": "stdout",
          "text": [
            "layer 000368 normalization\n",
            "layer 000368 max: 0.9999998807907104\n",
            "layer 000368 min: 0.0\n",
            "global max: 0.9999998807907104\n",
            "global min: 0.0\n",
            "layer 000369 normalization\n",
            "layer 000369 max: 0.0\n",
            "layer 000369 min: 0.0\n",
            "global max: 0.9999998807907104\n",
            "global min: 0.0\n",
            "layer 000370 normalization\n",
            "layer 000370 max: 0.0\n",
            "layer 000370 min: 0.0\n",
            "global max: 0.9999998807907104\n",
            "global min: 0.0\n",
            "layer 000371 normalization\n",
            "layer 000371 max: 0.0\n",
            "layer 000371 min: 0.0\n",
            "global max: 0.9999998807907104\n",
            "global min: 0.0\n",
            "Generating video with pngs from:\n",
            " /content/gdrive/MyDrive/starCAManim/MedNIST_DenseNet121(growth_rate:16)/HiResCAM/global\n",
            "\n",
            "ffmpeg version 4.4.2-0ubuntu0.22.04.1 Copyright (c) 2000-2021 the FFmpeg developers\n",
            "  built with gcc 11 (Ubuntu 11.2.0-19ubuntu1)\n",
            "  configuration: --prefix=/usr --extra-version=0ubuntu0.22.04.1 --toolchain=hardened --libdir=/usr/lib/x86_64-linux-gnu --incdir=/usr/include/x86_64-linux-gnu --arch=amd64 --enable-gpl --disable-stripping --enable-gnutls --enable-ladspa --enable-libaom --enable-libass --enable-libbluray --enable-libbs2b --enable-libcaca --enable-libcdio --enable-libcodec2 --enable-libdav1d --enable-libflite --enable-libfontconfig --enable-libfreetype --enable-libfribidi --enable-libgme --enable-libgsm --enable-libjack --enable-libmp3lame --enable-libmysofa --enable-libopenjpeg --enable-libopenmpt --enable-libopus --enable-libpulse --enable-librabbitmq --enable-librubberband --enable-libshine --enable-libsnappy --enable-libsoxr --enable-libspeex --enable-libsrt --enable-libssh --enable-libtheora --enable-libtwolame --enable-libvidstab --enable-libvorbis --enable-libvpx --enable-libwebp --enable-libx265 --enable-libxml2 --enable-libxvid --enable-libzimg --enable-libzmq --enable-libzvbi --enable-lv2 --enable-omx --enable-openal --enable-opencl --enable-opengl --enable-sdl2 --enable-pocketsphinx --enable-librsvg --enable-libmfx --enable-libdc1394 --enable-libdrm --enable-libiec61883 --enable-chromaprint --enable-frei0r --enable-libx264 --enable-shared\n",
            "  libavutil      56. 70.100 / 56. 70.100\n",
            "  libavcodec     58.134.100 / 58.134.100\n",
            "  libavformat    58. 76.100 / 58. 76.100\n",
            "  libavdevice    58. 13.100 / 58. 13.100\n",
            "  libavfilter     7.110.100 /  7.110.100\n",
            "  libswscale      5.  9.100 /  5.  9.100\n",
            "  libswresample   3.  9.100 /  3.  9.100\n",
            "  libpostproc    55.  9.100 / 55.  9.100\n",
            "Input #0, image2, from '/content/gdrive/MyDrive/starCAManim/MedNIST_DenseNet121(growth_rate:16)/HiResCAM/global/*.png':\n",
            "  Duration: 00:00:15.50, start: 0.000000, bitrate: N/A\n",
            "  Stream #0:0: Video: png, rgba(pc), 640x480 [SAR 3937:3937 DAR 4:3], 24 fps, 24 tbr, 24 tbn, 24 tbc\n",
            "File '/content/gdrive/MyDrive/starCAManim/MedNIST_DenseNet121(growth_rate:16)/HiResCAM_anim_global.mp4' already exists. Overwrite? [y/N] Not overwriting - exiting\n",
            "\n",
            "Generating video with pngs from:\n",
            " /content/gdrive/MyDrive/starCAManim/MedNIST_DenseNet121(growth_rate:16)/HiResCAM/layer\n",
            "\n",
            "ffmpeg version 4.4.2-0ubuntu0.22.04.1 Copyright (c) 2000-2021 the FFmpeg developers\n",
            "  built with gcc 11 (Ubuntu 11.2.0-19ubuntu1)\n",
            "  configuration: --prefix=/usr --extra-version=0ubuntu0.22.04.1 --toolchain=hardened --libdir=/usr/lib/x86_64-linux-gnu --incdir=/usr/include/x86_64-linux-gnu --arch=amd64 --enable-gpl --disable-stripping --enable-gnutls --enable-ladspa --enable-libaom --enable-libass --enable-libbluray --enable-libbs2b --enable-libcaca --enable-libcdio --enable-libcodec2 --enable-libdav1d --enable-libflite --enable-libfontconfig --enable-libfreetype --enable-libfribidi --enable-libgme --enable-libgsm --enable-libjack --enable-libmp3lame --enable-libmysofa --enable-libopenjpeg --enable-libopenmpt --enable-libopus --enable-libpulse --enable-librabbitmq --enable-librubberband --enable-libshine --enable-libsnappy --enable-libsoxr --enable-libspeex --enable-libsrt --enable-libssh --enable-libtheora --enable-libtwolame --enable-libvidstab --enable-libvorbis --enable-libvpx --enable-libwebp --enable-libx265 --enable-libxml2 --enable-libxvid --enable-libzimg --enable-libzmq --enable-libzvbi --enable-lv2 --enable-omx --enable-openal --enable-opencl --enable-opengl --enable-sdl2 --enable-pocketsphinx --enable-librsvg --enable-libmfx --enable-libdc1394 --enable-libdrm --enable-libiec61883 --enable-chromaprint --enable-frei0r --enable-libx264 --enable-shared\n",
            "  libavutil      56. 70.100 / 56. 70.100\n",
            "  libavcodec     58.134.100 / 58.134.100\n",
            "  libavformat    58. 76.100 / 58. 76.100\n",
            "  libavdevice    58. 13.100 / 58. 13.100\n",
            "  libavfilter     7.110.100 /  7.110.100\n",
            "  libswscale      5.  9.100 /  5.  9.100\n",
            "  libswresample   3.  9.100 /  3.  9.100\n",
            "  libpostproc    55.  9.100 / 55.  9.100\n",
            "Input #0, image2, from '/content/gdrive/MyDrive/starCAManim/MedNIST_DenseNet121(growth_rate:16)/HiResCAM/layer/*.png':\n",
            "  Duration: 00:00:15.50, start: 0.000000, bitrate: N/A\n",
            "  Stream #0:0: Video: png, rgba(pc), 640x480 [SAR 3937:3937 DAR 4:3], 24 fps, 24 tbr, 24 tbn, 24 tbc\n",
            "File '/content/gdrive/MyDrive/starCAManim/MedNIST_DenseNet121(growth_rate:16)/HiResCAM_anim_layer.mp4' already exists. Overwrite? [y/N] Not overwriting - exiting\n",
            "\n",
            "   collections  collected  uncollectable\n",
            "0         7811     267613              0\n",
            "1          573      51317              0\n",
            "2          390      30310              0\n",
            "HiResCAM Finished\n",
            "---------------------------------GradCAMElementWise---------------------------------\n",
            "/content/gdrive/MyDrive/starCAManim/MedNIST_DenseNet121(growth_rate:16)/GradCAMElementWise/\n"
          ]
        },
        {
          "output_type": "stream",
          "name": "stderr",
          "text": [
            "Model Layer Loop - features.conv0:   0%|          | 2/495 [00:00<00:29, 16.53it/s]"
          ]
        },
        {
          "output_type": "stream",
          "name": "stdout",
          "text": [
            "skipping \n",
            "'DenseNet121' object has no attribute ''\n",
            "skipping features\n",
            "unsupported operand type(s) for *: 'NoneType' and 'float'\n"
          ]
        },
        {
          "output_type": "stream",
          "name": "stderr",
          "text": [
            "Model Layer Loop - features.relu0:   1%|          | 4/495 [00:01<04:06,  1.99it/s]"
          ]
        },
        {
          "output_type": "stream",
          "name": "stdout",
          "text": [
            "0\n",
            "skipping features.norm0\n",
            "unsupported operand type(s) for *: 'NoneType' and 'float'\n"
          ]
        },
        {
          "output_type": "stream",
          "name": "stderr",
          "text": [
            "Model Layer Loop - features.pool0:   1%|          | 5/495 [00:03<06:13,  1.31it/s]"
          ]
        },
        {
          "output_type": "stream",
          "name": "stdout",
          "text": [
            "0\n"
          ]
        },
        {
          "output_type": "stream",
          "name": "stderr",
          "text": [
            "Model Layer Loop - features.denseblock1:   1%|          | 6/495 [00:04<08:23,  1.03s/it]"
          ]
        },
        {
          "output_type": "stream",
          "name": "stdout",
          "text": [
            "0\n"
          ]
        },
        {
          "output_type": "stream",
          "name": "stderr",
          "text": [
            "Model Layer Loop - features.denseblock1.denselayer1:   1%|▏         | 7/495 [00:06<10:08,  1.25s/it]"
          ]
        },
        {
          "output_type": "stream",
          "name": "stdout",
          "text": [
            "0\n"
          ]
        },
        {
          "output_type": "stream",
          "name": "stderr",
          "text": [
            "Model Layer Loop - features.denseblock1.denselayer1.layers:   2%|▏         | 8/495 [00:08<10:38,  1.31s/it]"
          ]
        },
        {
          "output_type": "stream",
          "name": "stdout",
          "text": [
            "0\n"
          ]
        },
        {
          "output_type": "stream",
          "name": "stderr",
          "text": [
            "Model Layer Loop - features.denseblock1.denselayer1.layers.relu1:   2%|▏         | 10/495 [00:09<08:12,  1.01s/it]"
          ]
        },
        {
          "output_type": "stream",
          "name": "stdout",
          "text": [
            "0\n",
            "skipping features.denseblock1.denselayer1.layers.norm1\n",
            "unsupported operand type(s) for *: 'NoneType' and 'float'\n"
          ]
        },
        {
          "output_type": "stream",
          "name": "stderr",
          "text": [
            "Model Layer Loop - features.denseblock1.denselayer1.layers.conv1:   2%|▏         | 11/495 [00:11<09:46,  1.21s/it]"
          ]
        },
        {
          "output_type": "stream",
          "name": "stdout",
          "text": [
            "0\n"
          ]
        },
        {
          "output_type": "stream",
          "name": "stderr",
          "text": [
            "Model Layer Loop - features.denseblock1.denselayer1.layers.relu2:   3%|▎         | 13/495 [00:13<08:09,  1.02s/it]"
          ]
        },
        {
          "output_type": "stream",
          "name": "stdout",
          "text": [
            "0\n",
            "skipping features.denseblock1.denselayer1.layers.norm2\n",
            "unsupported operand type(s) for *: 'NoneType' and 'float'\n"
          ]
        },
        {
          "output_type": "stream",
          "name": "stderr",
          "text": [
            "Model Layer Loop - features.denseblock1.denselayer1.layers.conv2:   3%|▎         | 14/495 [00:14<09:42,  1.21s/it]"
          ]
        },
        {
          "output_type": "stream",
          "name": "stdout",
          "text": [
            "0\n"
          ]
        },
        {
          "output_type": "stream",
          "name": "stderr",
          "text": [
            "Model Layer Loop - features.denseblock1.denselayer2:   3%|▎         | 15/495 [00:16<10:48,  1.35s/it]"
          ]
        },
        {
          "output_type": "stream",
          "name": "stdout",
          "text": [
            "0\n"
          ]
        },
        {
          "output_type": "stream",
          "name": "stderr",
          "text": [
            "Model Layer Loop - features.denseblock1.denselayer2.layers:   3%|▎         | 16/495 [00:18<12:59,  1.63s/it]"
          ]
        },
        {
          "output_type": "stream",
          "name": "stdout",
          "text": [
            "0\n"
          ]
        },
        {
          "output_type": "stream",
          "name": "stderr",
          "text": [
            "Model Layer Loop - features.denseblock1.denselayer2.layers.norm1:   3%|▎         | 17/495 [00:21<14:01,  1.76s/it]"
          ]
        },
        {
          "output_type": "stream",
          "name": "stdout",
          "text": [
            "0\n"
          ]
        },
        {
          "output_type": "stream",
          "name": "stderr",
          "text": [
            "Model Layer Loop - features.denseblock1.denselayer2.layers.relu1:   4%|▎         | 18/495 [00:21<10:21,  1.30s/it]"
          ]
        },
        {
          "output_type": "stream",
          "name": "stdout",
          "text": [
            "skipping features.denseblock1.denselayer2.layers.norm1\n",
            "unsupported operand type(s) for *: 'NoneType' and 'float'\n"
          ]
        },
        {
          "output_type": "stream",
          "name": "stderr",
          "text": [
            "Model Layer Loop - features.denseblock1.denselayer2.layers.conv1:   4%|▍         | 19/495 [00:23<11:54,  1.50s/it]"
          ]
        },
        {
          "output_type": "stream",
          "name": "stdout",
          "text": [
            "0\n"
          ]
        },
        {
          "output_type": "stream",
          "name": "stderr",
          "text": [
            "Model Layer Loop - features.denseblock1.denselayer2.layers.relu2:   4%|▍         | 21/495 [00:24<08:54,  1.13s/it]"
          ]
        },
        {
          "output_type": "stream",
          "name": "stdout",
          "text": [
            "0\n",
            "skipping features.denseblock1.denselayer2.layers.norm2\n",
            "unsupported operand type(s) for *: 'NoneType' and 'float'\n"
          ]
        },
        {
          "output_type": "stream",
          "name": "stderr",
          "text": [
            "Model Layer Loop - features.denseblock1.denselayer2.layers.conv2:   4%|▍         | 22/495 [00:26<09:34,  1.21s/it]"
          ]
        },
        {
          "output_type": "stream",
          "name": "stdout",
          "text": [
            "0\n"
          ]
        },
        {
          "output_type": "stream",
          "name": "stderr",
          "text": [
            "Model Layer Loop - features.denseblock1.denselayer3:   5%|▍         | 23/495 [00:27<09:51,  1.25s/it]"
          ]
        },
        {
          "output_type": "stream",
          "name": "stdout",
          "text": [
            "0\n"
          ]
        },
        {
          "output_type": "stream",
          "name": "stderr",
          "text": [
            "Model Layer Loop - features.denseblock1.denselayer3.layers:   5%|▍         | 24/495 [00:29<10:08,  1.29s/it]"
          ]
        },
        {
          "output_type": "stream",
          "name": "stdout",
          "text": [
            "0\n"
          ]
        },
        {
          "output_type": "stream",
          "name": "stderr",
          "text": [
            "Model Layer Loop - features.denseblock1.denselayer3.layers.relu1:   5%|▌         | 26/495 [00:30<07:28,  1.04it/s]"
          ]
        },
        {
          "output_type": "stream",
          "name": "stdout",
          "text": [
            "0\n",
            "skipping features.denseblock1.denselayer3.layers.norm1\n",
            "unsupported operand type(s) for *: 'NoneType' and 'float'\n"
          ]
        },
        {
          "output_type": "stream",
          "name": "stderr",
          "text": [
            "Model Layer Loop - features.denseblock1.denselayer3.layers.conv1:   5%|▌         | 27/495 [00:31<08:24,  1.08s/it]"
          ]
        },
        {
          "output_type": "stream",
          "name": "stdout",
          "text": [
            "0\n"
          ]
        },
        {
          "output_type": "stream",
          "name": "stderr",
          "text": [
            "Model Layer Loop - features.denseblock1.denselayer3.layers.relu2:   6%|▌         | 29/495 [00:33<07:09,  1.09it/s]"
          ]
        },
        {
          "output_type": "stream",
          "name": "stdout",
          "text": [
            "0\n",
            "skipping features.denseblock1.denselayer3.layers.norm2\n",
            "unsupported operand type(s) for *: 'NoneType' and 'float'\n"
          ]
        },
        {
          "output_type": "stream",
          "name": "stderr",
          "text": [
            "Model Layer Loop - features.denseblock1.denselayer3.layers.conv2:   6%|▌         | 30/495 [00:35<08:56,  1.15s/it]"
          ]
        },
        {
          "output_type": "stream",
          "name": "stdout",
          "text": [
            "0\n"
          ]
        },
        {
          "output_type": "stream",
          "name": "stderr",
          "text": [
            "Model Layer Loop - features.denseblock1.denselayer4:   6%|▋         | 31/495 [00:37<09:57,  1.29s/it]"
          ]
        },
        {
          "output_type": "stream",
          "name": "stdout",
          "text": [
            "0\n"
          ]
        },
        {
          "output_type": "stream",
          "name": "stderr",
          "text": [
            "Model Layer Loop - features.denseblock1.denselayer4.layers:   6%|▋         | 32/495 [00:38<10:10,  1.32s/it]"
          ]
        },
        {
          "output_type": "stream",
          "name": "stdout",
          "text": [
            "0\n"
          ]
        },
        {
          "output_type": "stream",
          "name": "stderr",
          "text": [
            "Model Layer Loop - features.denseblock1.denselayer4.layers.relu1:   7%|▋         | 34/495 [00:40<07:33,  1.02it/s]"
          ]
        },
        {
          "output_type": "stream",
          "name": "stdout",
          "text": [
            "0\n",
            "skipping features.denseblock1.denselayer4.layers.norm1\n",
            "unsupported operand type(s) for *: 'NoneType' and 'float'\n"
          ]
        },
        {
          "output_type": "stream",
          "name": "stderr",
          "text": [
            "Model Layer Loop - features.denseblock1.denselayer4.layers.conv1:   7%|▋         | 35/495 [00:41<08:30,  1.11s/it]"
          ]
        },
        {
          "output_type": "stream",
          "name": "stdout",
          "text": [
            "0\n"
          ]
        },
        {
          "output_type": "stream",
          "name": "stderr",
          "text": [
            "Model Layer Loop - features.denseblock1.denselayer4.layers.relu2:   7%|▋         | 37/495 [00:43<07:16,  1.05it/s]"
          ]
        },
        {
          "output_type": "stream",
          "name": "stdout",
          "text": [
            "0\n",
            "skipping features.denseblock1.denselayer4.layers.norm2\n",
            "unsupported operand type(s) for *: 'NoneType' and 'float'\n"
          ]
        },
        {
          "output_type": "stream",
          "name": "stderr",
          "text": [
            "Model Layer Loop - features.denseblock1.denselayer4.layers.conv2:   8%|▊         | 38/495 [00:45<09:39,  1.27s/it]"
          ]
        },
        {
          "output_type": "stream",
          "name": "stdout",
          "text": [
            "0\n"
          ]
        },
        {
          "output_type": "stream",
          "name": "stderr",
          "text": [
            "Model Layer Loop - features.denseblock1.denselayer5.layers:   8%|▊         | 40/495 [00:48<10:57,  1.44s/it]"
          ]
        },
        {
          "output_type": "stream",
          "name": "stdout",
          "text": [
            "0\n",
            "0\n"
          ]
        },
        {
          "output_type": "stream",
          "name": "stderr",
          "text": [
            "Model Layer Loop - features.denseblock1.denselayer5.layers.relu1:   8%|▊         | 42/495 [00:50<08:32,  1.13s/it]"
          ]
        },
        {
          "output_type": "stream",
          "name": "stdout",
          "text": [
            "0\n",
            "skipping features.denseblock1.denselayer5.layers.norm1\n",
            "unsupported operand type(s) for *: 'NoneType' and 'float'\n"
          ]
        },
        {
          "output_type": "stream",
          "name": "stderr",
          "text": [
            "Model Layer Loop - features.denseblock1.denselayer5.layers.conv1:   9%|▊         | 43/495 [00:51<09:07,  1.21s/it]"
          ]
        },
        {
          "output_type": "stream",
          "name": "stdout",
          "text": [
            "0\n"
          ]
        },
        {
          "output_type": "stream",
          "name": "stderr",
          "text": [
            "Model Layer Loop - features.denseblock1.denselayer5.layers.relu2:   9%|▉         | 45/495 [00:53<06:58,  1.08it/s]"
          ]
        },
        {
          "output_type": "stream",
          "name": "stdout",
          "text": [
            "0\n",
            "skipping features.denseblock1.denselayer5.layers.norm2\n",
            "unsupported operand type(s) for *: 'NoneType' and 'float'\n"
          ]
        },
        {
          "output_type": "stream",
          "name": "stderr",
          "text": [
            "Model Layer Loop - features.denseblock1.denselayer5.layers.conv2:   9%|▉         | 46/495 [00:54<08:00,  1.07s/it]"
          ]
        },
        {
          "output_type": "stream",
          "name": "stdout",
          "text": [
            "0\n"
          ]
        },
        {
          "output_type": "stream",
          "name": "stderr",
          "text": [
            "Model Layer Loop - features.denseblock1.denselayer6:   9%|▉         | 47/495 [00:56<08:42,  1.17s/it]"
          ]
        },
        {
          "output_type": "stream",
          "name": "stdout",
          "text": [
            "0\n"
          ]
        },
        {
          "output_type": "stream",
          "name": "stderr",
          "text": [
            "Model Layer Loop - features.denseblock1.denselayer6.layers:  10%|▉         | 48/495 [00:57<09:09,  1.23s/it]"
          ]
        },
        {
          "output_type": "stream",
          "name": "stdout",
          "text": [
            "0\n"
          ]
        },
        {
          "output_type": "stream",
          "name": "stderr",
          "text": [
            "Model Layer Loop - features.denseblock1.denselayer6.layers.relu1:  10%|█         | 50/495 [00:59<06:58,  1.06it/s]"
          ]
        },
        {
          "output_type": "stream",
          "name": "stdout",
          "text": [
            "0\n",
            "skipping features.denseblock1.denselayer6.layers.norm1\n",
            "unsupported operand type(s) for *: 'NoneType' and 'float'\n"
          ]
        },
        {
          "output_type": "stream",
          "name": "stderr",
          "text": [
            "Model Layer Loop - features.denseblock1.denselayer6.layers.conv1:  10%|█         | 51/495 [01:00<07:59,  1.08s/it]"
          ]
        },
        {
          "output_type": "stream",
          "name": "stdout",
          "text": [
            "0\n"
          ]
        },
        {
          "output_type": "stream",
          "name": "stderr",
          "text": [
            "Model Layer Loop - features.denseblock1.denselayer6.layers.relu2:  11%|█         | 53/495 [01:02<06:56,  1.06it/s]"
          ]
        },
        {
          "output_type": "stream",
          "name": "stdout",
          "text": [
            "0\n",
            "skipping features.denseblock1.denselayer6.layers.norm2\n",
            "unsupported operand type(s) for *: 'NoneType' and 'float'\n"
          ]
        },
        {
          "output_type": "stream",
          "name": "stderr",
          "text": [
            "Model Layer Loop - features.denseblock1.denselayer6.layers.conv2:  11%|█         | 54/495 [01:04<08:44,  1.19s/it]"
          ]
        },
        {
          "output_type": "stream",
          "name": "stdout",
          "text": [
            "0\n"
          ]
        },
        {
          "output_type": "stream",
          "name": "stderr",
          "text": [
            "Model Layer Loop - features.transition1:  11%|█         | 55/495 [01:05<09:19,  1.27s/it]"
          ]
        },
        {
          "output_type": "stream",
          "name": "stdout",
          "text": [
            "0\n"
          ]
        },
        {
          "output_type": "stream",
          "name": "stderr",
          "text": [
            "Model Layer Loop - features.transition1.relu:  12%|█▏        | 57/495 [01:07<06:57,  1.05it/s]"
          ]
        },
        {
          "output_type": "stream",
          "name": "stdout",
          "text": [
            "0\n",
            "skipping features.transition1.norm\n",
            "unsupported operand type(s) for *: 'NoneType' and 'float'\n"
          ]
        },
        {
          "output_type": "stream",
          "name": "stderr",
          "text": [
            "Model Layer Loop - features.transition1.conv:  12%|█▏        | 58/495 [01:08<07:54,  1.09s/it]"
          ]
        },
        {
          "output_type": "stream",
          "name": "stdout",
          "text": [
            "0\n"
          ]
        },
        {
          "output_type": "stream",
          "name": "stderr",
          "text": [
            "Model Layer Loop - features.denseblock2:  12%|█▏        | 60/495 [01:11<09:01,  1.24s/it]"
          ]
        },
        {
          "output_type": "stream",
          "name": "stdout",
          "text": [
            "0\n",
            "0\n"
          ]
        },
        {
          "output_type": "stream",
          "name": "stderr",
          "text": [
            "Model Layer Loop - features.denseblock2.denselayer1:  12%|█▏        | 61/495 [01:12<09:19,  1.29s/it]"
          ]
        },
        {
          "output_type": "stream",
          "name": "stdout",
          "text": [
            "0\n"
          ]
        },
        {
          "output_type": "stream",
          "name": "stderr",
          "text": [
            "Model Layer Loop - features.denseblock2.denselayer1.layers:  13%|█▎        | 62/495 [01:14<09:32,  1.32s/it]"
          ]
        },
        {
          "output_type": "stream",
          "name": "stdout",
          "text": [
            "0\n"
          ]
        },
        {
          "output_type": "stream",
          "name": "stderr",
          "text": [
            "Model Layer Loop - features.denseblock2.denselayer1.layers.relu1:  13%|█▎        | 64/495 [01:15<07:33,  1.05s/it]"
          ]
        },
        {
          "output_type": "stream",
          "name": "stdout",
          "text": [
            "0\n",
            "skipping features.denseblock2.denselayer1.layers.norm1\n",
            "unsupported operand type(s) for *: 'NoneType' and 'float'\n"
          ]
        },
        {
          "output_type": "stream",
          "name": "stderr",
          "text": [
            "Model Layer Loop - features.denseblock2.denselayer1.layers.conv1:  13%|█▎        | 65/495 [01:17<08:52,  1.24s/it]"
          ]
        },
        {
          "output_type": "stream",
          "name": "stdout",
          "text": [
            "0\n"
          ]
        },
        {
          "output_type": "stream",
          "name": "stderr",
          "text": [
            "Model Layer Loop - features.denseblock2.denselayer1.layers.relu2:  14%|█▎        | 67/495 [01:19<07:04,  1.01it/s]"
          ]
        },
        {
          "output_type": "stream",
          "name": "stdout",
          "text": [
            "0\n",
            "skipping features.denseblock2.denselayer1.layers.norm2\n",
            "unsupported operand type(s) for *: 'NoneType' and 'float'\n"
          ]
        },
        {
          "output_type": "stream",
          "name": "stderr",
          "text": [
            "Model Layer Loop - features.denseblock2.denselayer1.layers.conv2:  14%|█▎        | 68/495 [01:20<07:58,  1.12s/it]"
          ]
        },
        {
          "output_type": "stream",
          "name": "stdout",
          "text": [
            "0\n"
          ]
        },
        {
          "output_type": "stream",
          "name": "stderr",
          "text": [
            "Model Layer Loop - features.denseblock2.denselayer2:  14%|█▍        | 69/495 [01:22<08:29,  1.20s/it]"
          ]
        },
        {
          "output_type": "stream",
          "name": "stdout",
          "text": [
            "0\n"
          ]
        },
        {
          "output_type": "stream",
          "name": "stderr",
          "text": [
            "Model Layer Loop - features.denseblock2.denselayer2.layers:  14%|█▍        | 70/495 [01:23<08:57,  1.26s/it]"
          ]
        },
        {
          "output_type": "stream",
          "name": "stdout",
          "text": [
            "0\n"
          ]
        },
        {
          "output_type": "stream",
          "name": "stderr",
          "text": [
            "Model Layer Loop - features.denseblock2.denselayer2.layers.relu1:  15%|█▍        | 72/495 [01:25<06:44,  1.05it/s]"
          ]
        },
        {
          "output_type": "stream",
          "name": "stdout",
          "text": [
            "0\n",
            "skipping features.denseblock2.denselayer2.layers.norm1\n",
            "unsupported operand type(s) for *: 'NoneType' and 'float'\n"
          ]
        },
        {
          "output_type": "stream",
          "name": "stderr",
          "text": [
            "Model Layer Loop - features.denseblock2.denselayer2.layers.conv1:  15%|█▍        | 73/495 [01:26<07:39,  1.09s/it]"
          ]
        },
        {
          "output_type": "stream",
          "name": "stdout",
          "text": [
            "0\n"
          ]
        },
        {
          "output_type": "stream",
          "name": "stderr",
          "text": [
            "Model Layer Loop - features.denseblock2.denselayer2.layers.relu2:  15%|█▌        | 75/495 [01:28<06:06,  1.15it/s]"
          ]
        },
        {
          "output_type": "stream",
          "name": "stdout",
          "text": [
            "0\n",
            "skipping features.denseblock2.denselayer2.layers.norm2\n",
            "unsupported operand type(s) for *: 'NoneType' and 'float'\n"
          ]
        },
        {
          "output_type": "stream",
          "name": "stderr",
          "text": [
            "Model Layer Loop - features.denseblock2.denselayer2.layers.conv2:  15%|█▌        | 76/495 [01:29<07:53,  1.13s/it]"
          ]
        },
        {
          "output_type": "stream",
          "name": "stdout",
          "text": [
            "0\n"
          ]
        },
        {
          "output_type": "stream",
          "name": "stderr",
          "text": [
            "Model Layer Loop - features.denseblock2.denselayer3:  16%|█▌        | 77/495 [01:31<09:03,  1.30s/it]"
          ]
        },
        {
          "output_type": "stream",
          "name": "stdout",
          "text": [
            "0\n"
          ]
        },
        {
          "output_type": "stream",
          "name": "stderr",
          "text": [
            "Model Layer Loop - features.denseblock2.denselayer3.layers:  16%|█▌        | 78/495 [01:33<09:42,  1.40s/it]"
          ]
        },
        {
          "output_type": "stream",
          "name": "stdout",
          "text": [
            "0\n"
          ]
        },
        {
          "output_type": "stream",
          "name": "stderr",
          "text": [
            "Model Layer Loop - features.denseblock2.denselayer3.layers.relu1:  16%|█▌        | 80/495 [01:34<07:05,  1.02s/it]"
          ]
        },
        {
          "output_type": "stream",
          "name": "stdout",
          "text": [
            "0\n",
            "skipping features.denseblock2.denselayer3.layers.norm1\n",
            "unsupported operand type(s) for *: 'NoneType' and 'float'\n"
          ]
        },
        {
          "output_type": "stream",
          "name": "stderr",
          "text": [
            "Model Layer Loop - features.denseblock2.denselayer3.layers.conv1:  16%|█▋        | 81/495 [01:36<07:50,  1.14s/it]"
          ]
        },
        {
          "output_type": "stream",
          "name": "stdout",
          "text": [
            "0\n"
          ]
        },
        {
          "output_type": "stream",
          "name": "stderr",
          "text": [
            "Model Layer Loop - features.denseblock2.denselayer3.layers.relu2:  17%|█▋        | 83/495 [01:37<06:09,  1.11it/s]"
          ]
        },
        {
          "output_type": "stream",
          "name": "stdout",
          "text": [
            "0\n",
            "skipping features.denseblock2.denselayer3.layers.norm2\n",
            "unsupported operand type(s) for *: 'NoneType' and 'float'\n"
          ]
        },
        {
          "output_type": "stream",
          "name": "stderr",
          "text": [
            "Model Layer Loop - features.denseblock2.denselayer3.layers.conv2:  17%|█▋        | 84/495 [01:39<07:11,  1.05s/it]"
          ]
        },
        {
          "output_type": "stream",
          "name": "stdout",
          "text": [
            "0\n"
          ]
        },
        {
          "output_type": "stream",
          "name": "stderr",
          "text": [
            "Model Layer Loop - features.denseblock2.denselayer4:  17%|█▋        | 85/495 [01:40<08:00,  1.17s/it]"
          ]
        },
        {
          "output_type": "stream",
          "name": "stdout",
          "text": [
            "0\n"
          ]
        },
        {
          "output_type": "stream",
          "name": "stderr",
          "text": [
            "Model Layer Loop - features.denseblock2.denselayer4.layers:  17%|█▋        | 86/495 [01:41<08:28,  1.24s/it]"
          ]
        },
        {
          "output_type": "stream",
          "name": "stdout",
          "text": [
            "0\n"
          ]
        },
        {
          "output_type": "stream",
          "name": "stderr",
          "text": [
            "Model Layer Loop - features.denseblock2.denselayer4.layers.norm1:  18%|█▊        | 87/495 [01:43<09:14,  1.36s/it]"
          ]
        },
        {
          "output_type": "stream",
          "name": "stdout",
          "text": [
            "0\n"
          ]
        },
        {
          "output_type": "stream",
          "name": "stderr",
          "text": [
            "Model Layer Loop - features.denseblock2.denselayer4.layers.relu1:  18%|█▊        | 88/495 [01:43<06:55,  1.02s/it]"
          ]
        },
        {
          "output_type": "stream",
          "name": "stdout",
          "text": [
            "skipping features.denseblock2.denselayer4.layers.norm1\n",
            "unsupported operand type(s) for *: 'NoneType' and 'float'\n"
          ]
        },
        {
          "output_type": "stream",
          "name": "stderr",
          "text": [
            "Model Layer Loop - features.denseblock2.denselayer4.layers.conv1:  18%|█▊        | 89/495 [01:45<08:18,  1.23s/it]"
          ]
        },
        {
          "output_type": "stream",
          "name": "stdout",
          "text": [
            "0\n"
          ]
        },
        {
          "output_type": "stream",
          "name": "stderr",
          "text": [
            "Model Layer Loop - features.denseblock2.denselayer4.layers.relu2:  18%|█▊        | 91/495 [01:47<06:36,  1.02it/s]"
          ]
        },
        {
          "output_type": "stream",
          "name": "stdout",
          "text": [
            "0\n",
            "skipping features.denseblock2.denselayer4.layers.norm2\n",
            "unsupported operand type(s) for *: 'NoneType' and 'float'\n"
          ]
        },
        {
          "output_type": "stream",
          "name": "stderr",
          "text": [
            "Model Layer Loop - features.denseblock2.denselayer4.layers.conv2:  19%|█▊        | 92/495 [01:48<07:29,  1.12s/it]"
          ]
        },
        {
          "output_type": "stream",
          "name": "stdout",
          "text": [
            "0\n"
          ]
        },
        {
          "output_type": "stream",
          "name": "stderr",
          "text": [
            "Model Layer Loop - features.denseblock2.denselayer5:  19%|█▉        | 93/495 [01:50<08:04,  1.21s/it]"
          ]
        },
        {
          "output_type": "stream",
          "name": "stdout",
          "text": [
            "0\n"
          ]
        },
        {
          "output_type": "stream",
          "name": "stderr",
          "text": [
            "Model Layer Loop - features.denseblock2.denselayer5.layers:  19%|█▉        | 94/495 [01:51<08:28,  1.27s/it]"
          ]
        },
        {
          "output_type": "stream",
          "name": "stdout",
          "text": [
            "0\n"
          ]
        },
        {
          "output_type": "stream",
          "name": "stderr",
          "text": [
            "Model Layer Loop - features.denseblock2.denselayer5.layers.relu1:  19%|█▉        | 96/495 [01:53<06:23,  1.04it/s]"
          ]
        },
        {
          "output_type": "stream",
          "name": "stdout",
          "text": [
            "0\n",
            "skipping features.denseblock2.denselayer5.layers.norm1\n",
            "unsupported operand type(s) for *: 'NoneType' and 'float'\n"
          ]
        },
        {
          "output_type": "stream",
          "name": "stderr",
          "text": [
            "Model Layer Loop - features.denseblock2.denselayer5.layers.conv1:  20%|█▉        | 97/495 [01:54<07:17,  1.10s/it]"
          ]
        },
        {
          "output_type": "stream",
          "name": "stdout",
          "text": [
            "0\n"
          ]
        },
        {
          "output_type": "stream",
          "name": "stderr",
          "text": [
            "Model Layer Loop - features.denseblock2.denselayer5.layers.relu2:  20%|██        | 99/495 [01:56<05:44,  1.15it/s]"
          ]
        },
        {
          "output_type": "stream",
          "name": "stdout",
          "text": [
            "0\n",
            "skipping features.denseblock2.denselayer5.layers.norm2\n",
            "unsupported operand type(s) for *: 'NoneType' and 'float'\n"
          ]
        },
        {
          "output_type": "stream",
          "name": "stderr",
          "text": [
            "Model Layer Loop - features.denseblock2.denselayer5.layers.conv2:  20%|██        | 100/495 [01:57<07:16,  1.11s/it]"
          ]
        },
        {
          "output_type": "stream",
          "name": "stdout",
          "text": [
            "0\n"
          ]
        },
        {
          "output_type": "stream",
          "name": "stderr",
          "text": [
            "Model Layer Loop - features.denseblock2.denselayer6:  20%|██        | 101/495 [01:59<08:32,  1.30s/it]"
          ]
        },
        {
          "output_type": "stream",
          "name": "stdout",
          "text": [
            "0\n"
          ]
        },
        {
          "output_type": "stream",
          "name": "stderr",
          "text": [
            "Model Layer Loop - features.denseblock2.denselayer6.layers:  21%|██        | 102/495 [02:01<09:16,  1.42s/it]"
          ]
        },
        {
          "output_type": "stream",
          "name": "stdout",
          "text": [
            "0\n"
          ]
        },
        {
          "output_type": "stream",
          "name": "stderr",
          "text": [
            "Model Layer Loop - features.denseblock2.denselayer6.layers.relu1:  21%|██        | 104/495 [02:02<06:41,  1.03s/it]"
          ]
        },
        {
          "output_type": "stream",
          "name": "stdout",
          "text": [
            "0\n",
            "skipping features.denseblock2.denselayer6.layers.norm1\n",
            "unsupported operand type(s) for *: 'NoneType' and 'float'\n"
          ]
        },
        {
          "output_type": "stream",
          "name": "stderr",
          "text": [
            "Model Layer Loop - features.denseblock2.denselayer6.layers.conv1:  21%|██        | 105/495 [02:04<07:29,  1.15s/it]"
          ]
        },
        {
          "output_type": "stream",
          "name": "stdout",
          "text": [
            "0\n"
          ]
        },
        {
          "output_type": "stream",
          "name": "stderr",
          "text": [
            "Model Layer Loop - features.denseblock2.denselayer6.layers.relu2:  22%|██▏       | 107/495 [02:05<05:51,  1.10it/s]"
          ]
        },
        {
          "output_type": "stream",
          "name": "stdout",
          "text": [
            "0\n",
            "skipping features.denseblock2.denselayer6.layers.norm2\n",
            "unsupported operand type(s) for *: 'NoneType' and 'float'\n"
          ]
        },
        {
          "output_type": "stream",
          "name": "stderr",
          "text": [
            "Model Layer Loop - features.denseblock2.denselayer6.layers.conv2:  22%|██▏       | 108/495 [02:07<06:48,  1.05s/it]"
          ]
        },
        {
          "output_type": "stream",
          "name": "stdout",
          "text": [
            "0\n"
          ]
        },
        {
          "output_type": "stream",
          "name": "stderr",
          "text": [
            "Model Layer Loop - features.denseblock2.denselayer7:  22%|██▏       | 109/495 [02:08<07:26,  1.16s/it]"
          ]
        },
        {
          "output_type": "stream",
          "name": "stdout",
          "text": [
            "0\n"
          ]
        },
        {
          "output_type": "stream",
          "name": "stderr",
          "text": [
            "Model Layer Loop - features.denseblock2.denselayer7.layers:  22%|██▏       | 110/495 [02:09<07:56,  1.24s/it]"
          ]
        },
        {
          "output_type": "stream",
          "name": "stdout",
          "text": [
            "0\n"
          ]
        },
        {
          "output_type": "stream",
          "name": "stderr",
          "text": [
            "Model Layer Loop - features.denseblock2.denselayer7.layers.relu1:  23%|██▎       | 112/495 [02:11<06:27,  1.01s/it]"
          ]
        },
        {
          "output_type": "stream",
          "name": "stdout",
          "text": [
            "0\n",
            "skipping features.denseblock2.denselayer7.layers.norm1\n",
            "unsupported operand type(s) for *: 'NoneType' and 'float'\n"
          ]
        },
        {
          "output_type": "stream",
          "name": "stderr",
          "text": [
            "Model Layer Loop - features.denseblock2.denselayer7.layers.conv1:  23%|██▎       | 113/495 [02:13<07:51,  1.23s/it]"
          ]
        },
        {
          "output_type": "stream",
          "name": "stdout",
          "text": [
            "0\n"
          ]
        },
        {
          "output_type": "stream",
          "name": "stderr",
          "text": [
            "Model Layer Loop - features.denseblock2.denselayer7.layers.relu2:  23%|██▎       | 115/495 [02:15<06:18,  1.00it/s]"
          ]
        },
        {
          "output_type": "stream",
          "name": "stdout",
          "text": [
            "0\n",
            "skipping features.denseblock2.denselayer7.layers.norm2\n",
            "unsupported operand type(s) for *: 'NoneType' and 'float'\n"
          ]
        },
        {
          "output_type": "stream",
          "name": "stderr",
          "text": [
            "Model Layer Loop - features.denseblock2.denselayer7.layers.conv2:  23%|██▎       | 116/495 [02:16<07:06,  1.12s/it]"
          ]
        },
        {
          "output_type": "stream",
          "name": "stdout",
          "text": [
            "0\n"
          ]
        },
        {
          "output_type": "stream",
          "name": "stderr",
          "text": [
            "Model Layer Loop - features.denseblock2.denselayer8:  24%|██▎       | 117/495 [02:18<07:36,  1.21s/it]"
          ]
        },
        {
          "output_type": "stream",
          "name": "stdout",
          "text": [
            "0\n"
          ]
        },
        {
          "output_type": "stream",
          "name": "stderr",
          "text": [
            "Model Layer Loop - features.denseblock2.denselayer8.layers:  24%|██▍       | 118/495 [02:19<07:59,  1.27s/it]"
          ]
        },
        {
          "output_type": "stream",
          "name": "stdout",
          "text": [
            "0\n"
          ]
        },
        {
          "output_type": "stream",
          "name": "stderr",
          "text": [
            "Model Layer Loop - features.denseblock2.denselayer8.layers.relu1:  24%|██▍       | 120/495 [02:21<06:00,  1.04it/s]"
          ]
        },
        {
          "output_type": "stream",
          "name": "stdout",
          "text": [
            "0\n",
            "skipping features.denseblock2.denselayer8.layers.norm1\n",
            "unsupported operand type(s) for *: 'NoneType' and 'float'\n"
          ]
        },
        {
          "output_type": "stream",
          "name": "stderr",
          "text": [
            "Model Layer Loop - features.denseblock2.denselayer8.layers.conv1:  24%|██▍       | 121/495 [02:22<06:50,  1.10s/it]"
          ]
        },
        {
          "output_type": "stream",
          "name": "stdout",
          "text": [
            "0\n"
          ]
        },
        {
          "output_type": "stream",
          "name": "stderr",
          "text": [
            "Model Layer Loop - features.denseblock2.denselayer8.layers.relu2:  25%|██▍       | 123/495 [02:24<05:27,  1.14it/s]"
          ]
        },
        {
          "output_type": "stream",
          "name": "stdout",
          "text": [
            "0\n",
            "skipping features.denseblock2.denselayer8.layers.norm2\n",
            "unsupported operand type(s) for *: 'NoneType' and 'float'\n"
          ]
        },
        {
          "output_type": "stream",
          "name": "stderr",
          "text": [
            "Model Layer Loop - features.denseblock2.denselayer8.layers.conv2:  25%|██▌       | 124/495 [02:25<07:04,  1.14s/it]"
          ]
        },
        {
          "output_type": "stream",
          "name": "stdout",
          "text": [
            "0\n"
          ]
        },
        {
          "output_type": "stream",
          "name": "stderr",
          "text": [
            "Model Layer Loop - features.denseblock2.denselayer9.layers:  25%|██▌       | 126/495 [02:29<08:50,  1.44s/it]"
          ]
        },
        {
          "output_type": "stream",
          "name": "stdout",
          "text": [
            "0\n",
            "0\n"
          ]
        },
        {
          "output_type": "stream",
          "name": "stderr",
          "text": [
            "Model Layer Loop - features.denseblock2.denselayer9.layers.norm1:  26%|██▌       | 127/495 [02:31<09:31,  1.55s/it]"
          ]
        },
        {
          "output_type": "stream",
          "name": "stdout",
          "text": [
            "0\n"
          ]
        },
        {
          "output_type": "stream",
          "name": "stderr",
          "text": [
            "Model Layer Loop - features.denseblock2.denselayer9.layers.relu1:  26%|██▌       | 128/495 [02:31<07:02,  1.15s/it]"
          ]
        },
        {
          "output_type": "stream",
          "name": "stdout",
          "text": [
            "skipping features.denseblock2.denselayer9.layers.norm1\n",
            "unsupported operand type(s) for *: 'NoneType' and 'float'\n"
          ]
        },
        {
          "output_type": "stream",
          "name": "stderr",
          "text": [
            "Model Layer Loop - features.denseblock2.denselayer9.layers.conv1:  26%|██▌       | 129/495 [02:33<08:18,  1.36s/it]"
          ]
        },
        {
          "output_type": "stream",
          "name": "stdout",
          "text": [
            "0\n"
          ]
        },
        {
          "output_type": "stream",
          "name": "stderr",
          "text": [
            "Model Layer Loop - features.denseblock2.denselayer9.layers.norm2:  26%|██▋       | 130/495 [02:35<09:15,  1.52s/it]"
          ]
        },
        {
          "output_type": "stream",
          "name": "stdout",
          "text": [
            "0\n"
          ]
        },
        {
          "output_type": "stream",
          "name": "stderr",
          "text": [
            "Model Layer Loop - features.denseblock2.denselayer9.layers.relu2:  26%|██▋       | 131/495 [02:35<06:57,  1.15s/it]"
          ]
        },
        {
          "output_type": "stream",
          "name": "stdout",
          "text": [
            "skipping features.denseblock2.denselayer9.layers.norm2\n",
            "unsupported operand type(s) for *: 'NoneType' and 'float'\n"
          ]
        },
        {
          "output_type": "stream",
          "name": "stderr",
          "text": [
            "Model Layer Loop - features.denseblock2.denselayer9.layers.conv2:  27%|██▋       | 132/495 [02:37<08:19,  1.38s/it]"
          ]
        },
        {
          "output_type": "stream",
          "name": "stdout",
          "text": [
            "0\n"
          ]
        },
        {
          "output_type": "stream",
          "name": "stderr",
          "text": [
            "Model Layer Loop - features.denseblock2.denselayer10.layers:  27%|██▋       | 134/495 [02:41<11:07,  1.85s/it]"
          ]
        },
        {
          "output_type": "stream",
          "name": "stdout",
          "text": [
            "0\n",
            "0\n"
          ]
        },
        {
          "output_type": "stream",
          "name": "stderr",
          "text": [
            "Model Layer Loop - features.denseblock2.denselayer10.layers.relu1:  27%|██▋       | 136/495 [02:43<08:11,  1.37s/it]"
          ]
        },
        {
          "output_type": "stream",
          "name": "stdout",
          "text": [
            "0\n",
            "skipping features.denseblock2.denselayer10.layers.norm1\n",
            "unsupported operand type(s) for *: 'NoneType' and 'float'\n"
          ]
        },
        {
          "output_type": "stream",
          "name": "stderr",
          "text": [
            "Model Layer Loop - features.denseblock2.denselayer10.layers.conv1:  28%|██▊       | 137/495 [02:45<08:17,  1.39s/it]"
          ]
        },
        {
          "output_type": "stream",
          "name": "stdout",
          "text": [
            "0\n"
          ]
        },
        {
          "output_type": "stream",
          "name": "stderr",
          "text": [
            "Model Layer Loop - features.denseblock2.denselayer10.layers.relu2:  28%|██▊       | 139/495 [02:46<06:07,  1.03s/it]"
          ]
        },
        {
          "output_type": "stream",
          "name": "stdout",
          "text": [
            "0\n",
            "skipping features.denseblock2.denselayer10.layers.norm2\n",
            "unsupported operand type(s) for *: 'NoneType' and 'float'\n"
          ]
        },
        {
          "output_type": "stream",
          "name": "stderr",
          "text": [
            "Model Layer Loop - features.denseblock2.denselayer10.layers.conv2:  28%|██▊       | 140/495 [02:48<06:48,  1.15s/it]"
          ]
        },
        {
          "output_type": "stream",
          "name": "stdout",
          "text": [
            "0\n"
          ]
        },
        {
          "output_type": "stream",
          "name": "stderr",
          "text": [
            "Model Layer Loop - features.denseblock2.denselayer11:  28%|██▊       | 141/495 [02:49<07:16,  1.23s/it]"
          ]
        },
        {
          "output_type": "stream",
          "name": "stdout",
          "text": [
            "0\n"
          ]
        },
        {
          "output_type": "stream",
          "name": "stderr",
          "text": [
            "Model Layer Loop - features.denseblock2.denselayer11.layers:  29%|██▊       | 142/495 [02:51<07:36,  1.29s/it]"
          ]
        },
        {
          "output_type": "stream",
          "name": "stdout",
          "text": [
            "0\n"
          ]
        },
        {
          "output_type": "stream",
          "name": "stderr",
          "text": [
            "Model Layer Loop - features.denseblock2.denselayer11.layers.relu1:  29%|██▉       | 144/495 [02:52<05:45,  1.02it/s]"
          ]
        },
        {
          "output_type": "stream",
          "name": "stdout",
          "text": [
            "0\n",
            "skipping features.denseblock2.denselayer11.layers.norm1\n",
            "unsupported operand type(s) for *: 'NoneType' and 'float'\n"
          ]
        },
        {
          "output_type": "stream",
          "name": "stderr",
          "text": [
            "Model Layer Loop - features.denseblock2.denselayer11.layers.conv1:  29%|██▉       | 145/495 [02:54<07:05,  1.22s/it]"
          ]
        },
        {
          "output_type": "stream",
          "name": "stdout",
          "text": [
            "0\n"
          ]
        },
        {
          "output_type": "stream",
          "name": "stderr",
          "text": [
            "Model Layer Loop - features.denseblock2.denselayer11.layers.norm2:  29%|██▉       | 146/495 [02:56<08:02,  1.38s/it]"
          ]
        },
        {
          "output_type": "stream",
          "name": "stdout",
          "text": [
            "0\n"
          ]
        },
        {
          "output_type": "stream",
          "name": "stderr",
          "text": [
            "Model Layer Loop - features.denseblock2.denselayer11.layers.relu2:  30%|██▉       | 147/495 [02:56<05:59,  1.03s/it]"
          ]
        },
        {
          "output_type": "stream",
          "name": "stdout",
          "text": [
            "skipping features.denseblock2.denselayer11.layers.norm2\n",
            "unsupported operand type(s) for *: 'NoneType' and 'float'\n"
          ]
        },
        {
          "output_type": "stream",
          "name": "stderr",
          "text": [
            "Model Layer Loop - features.denseblock2.denselayer11.layers.conv2:  30%|██▉       | 148/495 [02:58<06:47,  1.17s/it]"
          ]
        },
        {
          "output_type": "stream",
          "name": "stdout",
          "text": [
            "0\n"
          ]
        },
        {
          "output_type": "stream",
          "name": "stderr",
          "text": [
            "Model Layer Loop - features.denseblock2.denselayer12:  30%|███       | 149/495 [02:59<07:10,  1.24s/it]"
          ]
        },
        {
          "output_type": "stream",
          "name": "stdout",
          "text": [
            "0\n"
          ]
        },
        {
          "output_type": "stream",
          "name": "stderr",
          "text": [
            "Model Layer Loop - features.denseblock2.denselayer12.layers:  30%|███       | 150/495 [03:00<07:24,  1.29s/it]"
          ]
        },
        {
          "output_type": "stream",
          "name": "stdout",
          "text": [
            "0\n"
          ]
        },
        {
          "output_type": "stream",
          "name": "stderr",
          "text": [
            "Model Layer Loop - features.denseblock2.denselayer12.layers.relu1:  31%|███       | 152/495 [03:02<05:32,  1.03it/s]"
          ]
        },
        {
          "output_type": "stream",
          "name": "stdout",
          "text": [
            "0\n",
            "skipping features.denseblock2.denselayer12.layers.norm1\n",
            "unsupported operand type(s) for *: 'NoneType' and 'float'\n"
          ]
        },
        {
          "output_type": "stream",
          "name": "stderr",
          "text": [
            "Model Layer Loop - features.denseblock2.denselayer12.layers.conv1:  31%|███       | 153/495 [03:03<06:14,  1.10s/it]"
          ]
        },
        {
          "output_type": "stream",
          "name": "stdout",
          "text": [
            "0\n"
          ]
        },
        {
          "output_type": "stream",
          "name": "stderr",
          "text": [
            "Model Layer Loop - features.denseblock2.denselayer12.layers.relu2:  31%|███▏      | 155/495 [03:05<04:55,  1.15it/s]"
          ]
        },
        {
          "output_type": "stream",
          "name": "stdout",
          "text": [
            "0\n",
            "skipping features.denseblock2.denselayer12.layers.norm2\n",
            "unsupported operand type(s) for *: 'NoneType' and 'float'\n"
          ]
        },
        {
          "output_type": "stream",
          "name": "stderr",
          "text": [
            "Model Layer Loop - features.denseblock2.denselayer12.layers.conv2:  32%|███▏      | 156/495 [03:06<05:51,  1.04s/it]"
          ]
        },
        {
          "output_type": "stream",
          "name": "stdout",
          "text": [
            "0\n"
          ]
        },
        {
          "output_type": "stream",
          "name": "stderr",
          "text": [
            "Model Layer Loop - features.transition2:  32%|███▏      | 157/495 [03:08<07:00,  1.24s/it]"
          ]
        },
        {
          "output_type": "stream",
          "name": "stdout",
          "text": [
            "0\n"
          ]
        },
        {
          "output_type": "stream",
          "name": "stderr",
          "text": [
            "Model Layer Loop - features.transition2.norm:  32%|███▏      | 159/495 [03:10<05:50,  1.04s/it]"
          ]
        },
        {
          "output_type": "stream",
          "name": "stdout",
          "text": [
            "0\n",
            "skipping features.transition2.norm\n",
            "unsupported operand type(s) for *: 'NoneType' and 'float'\n"
          ]
        },
        {
          "output_type": "stream",
          "name": "stderr",
          "text": [
            "Model Layer Loop - features.transition2.conv:  32%|███▏      | 160/495 [03:12<06:39,  1.19s/it]"
          ]
        },
        {
          "output_type": "stream",
          "name": "stdout",
          "text": [
            "0\n"
          ]
        },
        {
          "output_type": "stream",
          "name": "stderr",
          "text": [
            "Model Layer Loop - features.transition2.pool:  33%|███▎      | 161/495 [03:13<07:01,  1.26s/it]"
          ]
        },
        {
          "output_type": "stream",
          "name": "stdout",
          "text": [
            "0\n"
          ]
        },
        {
          "output_type": "stream",
          "name": "stderr",
          "text": [
            "Model Layer Loop - features.denseblock3:  33%|███▎      | 162/495 [03:14<07:16,  1.31s/it]"
          ]
        },
        {
          "output_type": "stream",
          "name": "stdout",
          "text": [
            "0\n"
          ]
        },
        {
          "output_type": "stream",
          "name": "stderr",
          "text": [
            "Model Layer Loop - features.denseblock3.denselayer1:  33%|███▎      | 163/495 [03:16<07:24,  1.34s/it]"
          ]
        },
        {
          "output_type": "stream",
          "name": "stdout",
          "text": [
            "0\n"
          ]
        },
        {
          "output_type": "stream",
          "name": "stderr",
          "text": [
            "Model Layer Loop - features.denseblock3.denselayer1.layers:  33%|███▎      | 164/495 [03:17<07:31,  1.36s/it]"
          ]
        },
        {
          "output_type": "stream",
          "name": "stdout",
          "text": [
            "0\n"
          ]
        },
        {
          "output_type": "stream",
          "name": "stderr",
          "text": [
            "Model Layer Loop - features.denseblock3.denselayer1.layers.relu1:  34%|███▎      | 166/495 [03:19<05:31,  1.01s/it]"
          ]
        },
        {
          "output_type": "stream",
          "name": "stdout",
          "text": [
            "0\n",
            "skipping features.denseblock3.denselayer1.layers.norm1\n",
            "unsupported operand type(s) for *: 'NoneType' and 'float'\n"
          ]
        },
        {
          "output_type": "stream",
          "name": "stderr",
          "text": [
            "Model Layer Loop - features.denseblock3.denselayer1.layers.conv1:  34%|███▎      | 167/495 [03:20<06:12,  1.14s/it]"
          ]
        },
        {
          "output_type": "stream",
          "name": "stdout",
          "text": [
            "0\n"
          ]
        },
        {
          "output_type": "stream",
          "name": "stderr",
          "text": [
            "Model Layer Loop - features.denseblock3.denselayer1.layers.relu2:  34%|███▍      | 169/495 [03:22<05:17,  1.03it/s]"
          ]
        },
        {
          "output_type": "stream",
          "name": "stdout",
          "text": [
            "0\n",
            "skipping features.denseblock3.denselayer1.layers.norm2\n",
            "unsupported operand type(s) for *: 'NoneType' and 'float'\n"
          ]
        },
        {
          "output_type": "stream",
          "name": "stderr",
          "text": [
            "Model Layer Loop - features.denseblock3.denselayer1.layers.conv2:  34%|███▍      | 170/495 [03:24<06:36,  1.22s/it]"
          ]
        },
        {
          "output_type": "stream",
          "name": "stdout",
          "text": [
            "0\n"
          ]
        },
        {
          "output_type": "stream",
          "name": "stderr",
          "text": [
            "Model Layer Loop - features.denseblock3.denselayer2:  35%|███▍      | 171/495 [03:25<07:11,  1.33s/it]"
          ]
        },
        {
          "output_type": "stream",
          "name": "stdout",
          "text": [
            "0\n"
          ]
        },
        {
          "output_type": "stream",
          "name": "stderr",
          "text": [
            "Model Layer Loop - features.denseblock3.denselayer2.layers:  35%|███▍      | 172/495 [03:27<07:20,  1.36s/it]"
          ]
        },
        {
          "output_type": "stream",
          "name": "stdout",
          "text": [
            "0\n"
          ]
        },
        {
          "output_type": "stream",
          "name": "stderr",
          "text": [
            "Model Layer Loop - features.denseblock3.denselayer2.layers.relu1:  35%|███▌      | 174/495 [03:28<05:24,  1.01s/it]"
          ]
        },
        {
          "output_type": "stream",
          "name": "stdout",
          "text": [
            "0\n",
            "skipping features.denseblock3.denselayer2.layers.norm1\n",
            "unsupported operand type(s) for *: 'NoneType' and 'float'\n"
          ]
        },
        {
          "output_type": "stream",
          "name": "stderr",
          "text": [
            "Model Layer Loop - features.denseblock3.denselayer2.layers.conv1:  35%|███▌      | 175/495 [03:30<06:03,  1.14s/it]"
          ]
        },
        {
          "output_type": "stream",
          "name": "stdout",
          "text": [
            "0\n"
          ]
        },
        {
          "output_type": "stream",
          "name": "stderr",
          "text": [
            "Model Layer Loop - features.denseblock3.denselayer2.layers.relu2:  36%|███▌      | 177/495 [03:31<04:45,  1.11it/s]"
          ]
        },
        {
          "output_type": "stream",
          "name": "stdout",
          "text": [
            "0\n",
            "skipping features.denseblock3.denselayer2.layers.norm2\n",
            "unsupported operand type(s) for *: 'NoneType' and 'float'\n"
          ]
        },
        {
          "output_type": "stream",
          "name": "stderr",
          "text": [
            "Model Layer Loop - features.denseblock3.denselayer2.layers.conv2:  36%|███▌      | 178/495 [03:33<05:33,  1.05s/it]"
          ]
        },
        {
          "output_type": "stream",
          "name": "stdout",
          "text": [
            "0\n"
          ]
        },
        {
          "output_type": "stream",
          "name": "stderr",
          "text": [
            "Model Layer Loop - features.denseblock3.denselayer3:  36%|███▌      | 179/495 [03:34<06:07,  1.16s/it]"
          ]
        },
        {
          "output_type": "stream",
          "name": "stdout",
          "text": [
            "0\n"
          ]
        },
        {
          "output_type": "stream",
          "name": "stderr",
          "text": [
            "Model Layer Loop - features.denseblock3.denselayer3.layers:  36%|███▋      | 180/495 [03:36<06:57,  1.33s/it]"
          ]
        },
        {
          "output_type": "stream",
          "name": "stdout",
          "text": [
            "0\n"
          ]
        },
        {
          "output_type": "stream",
          "name": "stderr",
          "text": [
            "Model Layer Loop - features.denseblock3.denselayer3.layers.norm1:  37%|███▋      | 181/495 [03:38<07:36,  1.45s/it]"
          ]
        },
        {
          "output_type": "stream",
          "name": "stdout",
          "text": [
            "0\n"
          ]
        },
        {
          "output_type": "stream",
          "name": "stderr",
          "text": [
            "Model Layer Loop - features.denseblock3.denselayer3.layers.relu1:  37%|███▋      | 182/495 [03:38<05:40,  1.09s/it]"
          ]
        },
        {
          "output_type": "stream",
          "name": "stdout",
          "text": [
            "skipping features.denseblock3.denselayer3.layers.norm1\n",
            "unsupported operand type(s) for *: 'NoneType' and 'float'\n"
          ]
        },
        {
          "output_type": "stream",
          "name": "stderr",
          "text": [
            "Model Layer Loop - features.denseblock3.denselayer3.layers.conv1:  37%|███▋      | 183/495 [03:40<06:24,  1.23s/it]"
          ]
        },
        {
          "output_type": "stream",
          "name": "stdout",
          "text": [
            "0\n"
          ]
        },
        {
          "output_type": "stream",
          "name": "stderr",
          "text": [
            "Model Layer Loop - features.denseblock3.denselayer3.layers.relu2:  37%|███▋      | 185/495 [03:41<04:51,  1.06it/s]"
          ]
        },
        {
          "output_type": "stream",
          "name": "stdout",
          "text": [
            "0\n",
            "skipping features.denseblock3.denselayer3.layers.norm2\n",
            "unsupported operand type(s) for *: 'NoneType' and 'float'\n"
          ]
        },
        {
          "output_type": "stream",
          "name": "stderr",
          "text": [
            "Model Layer Loop - features.denseblock3.denselayer3.layers.conv2:  38%|███▊      | 186/495 [03:43<05:34,  1.08s/it]"
          ]
        },
        {
          "output_type": "stream",
          "name": "stdout",
          "text": [
            "0\n"
          ]
        },
        {
          "output_type": "stream",
          "name": "stderr",
          "text": [
            "Model Layer Loop - features.denseblock3.denselayer4:  38%|███▊      | 187/495 [03:44<06:04,  1.18s/it]"
          ]
        },
        {
          "output_type": "stream",
          "name": "stdout",
          "text": [
            "0\n"
          ]
        },
        {
          "output_type": "stream",
          "name": "stderr",
          "text": [
            "Model Layer Loop - features.denseblock3.denselayer4.layers:  38%|███▊      | 188/495 [03:45<06:24,  1.25s/it]"
          ]
        },
        {
          "output_type": "stream",
          "name": "stdout",
          "text": [
            "0\n"
          ]
        },
        {
          "output_type": "stream",
          "name": "stderr",
          "text": [
            "Model Layer Loop - features.denseblock3.denselayer4.layers.relu1:  38%|███▊      | 190/495 [03:47<04:53,  1.04it/s]"
          ]
        },
        {
          "output_type": "stream",
          "name": "stdout",
          "text": [
            "0\n",
            "skipping features.denseblock3.denselayer4.layers.norm1\n",
            "unsupported operand type(s) for *: 'NoneType' and 'float'\n"
          ]
        },
        {
          "output_type": "stream",
          "name": "stderr",
          "text": [
            "Model Layer Loop - features.denseblock3.denselayer4.layers.conv1:  39%|███▊      | 191/495 [03:48<05:35,  1.10s/it]"
          ]
        },
        {
          "output_type": "stream",
          "name": "stdout",
          "text": [
            "0\n"
          ]
        },
        {
          "output_type": "stream",
          "name": "stderr",
          "text": [
            "Model Layer Loop - features.denseblock3.denselayer4.layers.norm2:  39%|███▉      | 192/495 [03:50<06:32,  1.30s/it]"
          ]
        },
        {
          "output_type": "stream",
          "name": "stdout",
          "text": [
            "0\n"
          ]
        },
        {
          "output_type": "stream",
          "name": "stderr",
          "text": [
            "Model Layer Loop - features.denseblock3.denselayer4.layers.relu2:  39%|███▉      | 193/495 [03:50<04:53,  1.03it/s]"
          ]
        },
        {
          "output_type": "stream",
          "name": "stdout",
          "text": [
            "skipping features.denseblock3.denselayer4.layers.norm2\n",
            "unsupported operand type(s) for *: 'NoneType' and 'float'\n"
          ]
        },
        {
          "output_type": "stream",
          "name": "stderr",
          "text": [
            "Model Layer Loop - features.denseblock3.denselayer4.layers.conv2:  39%|███▉      | 194/495 [03:52<06:04,  1.21s/it]"
          ]
        },
        {
          "output_type": "stream",
          "name": "stdout",
          "text": [
            "0\n"
          ]
        },
        {
          "output_type": "stream",
          "name": "stderr",
          "text": [
            "Model Layer Loop - features.denseblock3.denselayer5:  39%|███▉      | 195/495 [03:54<06:35,  1.32s/it]"
          ]
        },
        {
          "output_type": "stream",
          "name": "stdout",
          "text": [
            "0\n"
          ]
        },
        {
          "output_type": "stream",
          "name": "stderr",
          "text": [
            "Model Layer Loop - features.denseblock3.denselayer5.layers:  40%|███▉      | 196/495 [03:55<06:44,  1.35s/it]"
          ]
        },
        {
          "output_type": "stream",
          "name": "stdout",
          "text": [
            "0\n"
          ]
        },
        {
          "output_type": "stream",
          "name": "stderr",
          "text": [
            "Model Layer Loop - features.denseblock3.denselayer5.layers.relu1:  40%|████      | 198/495 [03:57<04:58,  1.01s/it]"
          ]
        },
        {
          "output_type": "stream",
          "name": "stdout",
          "text": [
            "0\n",
            "skipping features.denseblock3.denselayer5.layers.norm1\n",
            "unsupported operand type(s) for *: 'NoneType' and 'float'\n"
          ]
        },
        {
          "output_type": "stream",
          "name": "stderr",
          "text": [
            "Model Layer Loop - features.denseblock3.denselayer5.layers.conv1:  40%|████      | 199/495 [03:58<05:35,  1.13s/it]"
          ]
        },
        {
          "output_type": "stream",
          "name": "stdout",
          "text": [
            "0\n"
          ]
        },
        {
          "output_type": "stream",
          "name": "stderr",
          "text": [
            "Model Layer Loop - features.denseblock3.denselayer5.layers.relu2:  41%|████      | 201/495 [04:00<04:24,  1.11it/s]"
          ]
        },
        {
          "output_type": "stream",
          "name": "stdout",
          "text": [
            "0\n",
            "skipping features.denseblock3.denselayer5.layers.norm2\n",
            "unsupported operand type(s) for *: 'NoneType' and 'float'\n"
          ]
        },
        {
          "output_type": "stream",
          "name": "stderr",
          "text": [
            "Model Layer Loop - features.denseblock3.denselayer5.layers.conv2:  41%|████      | 202/495 [04:01<05:09,  1.06s/it]"
          ]
        },
        {
          "output_type": "stream",
          "name": "stdout",
          "text": [
            "0\n"
          ]
        },
        {
          "output_type": "stream",
          "name": "stderr",
          "text": [
            "Model Layer Loop - features.denseblock3.denselayer6:  41%|████      | 203/495 [04:03<05:43,  1.18s/it]"
          ]
        },
        {
          "output_type": "stream",
          "name": "stdout",
          "text": [
            "0\n"
          ]
        },
        {
          "output_type": "stream",
          "name": "stderr",
          "text": [
            "Model Layer Loop - features.denseblock3.denselayer6.layers:  41%|████      | 204/495 [04:04<06:35,  1.36s/it]"
          ]
        },
        {
          "output_type": "stream",
          "name": "stdout",
          "text": [
            "0\n"
          ]
        },
        {
          "output_type": "stream",
          "name": "stderr",
          "text": [
            "Model Layer Loop - features.denseblock3.denselayer6.layers.relu1:  42%|████▏     | 206/495 [04:06<05:18,  1.10s/it]"
          ]
        },
        {
          "output_type": "stream",
          "name": "stdout",
          "text": [
            "0\n",
            "skipping features.denseblock3.denselayer6.layers.norm1\n",
            "unsupported operand type(s) for *: 'NoneType' and 'float'\n"
          ]
        },
        {
          "output_type": "stream",
          "name": "stderr",
          "text": [
            "Model Layer Loop - features.denseblock3.denselayer6.layers.conv1:  42%|████▏     | 207/495 [04:08<05:51,  1.22s/it]"
          ]
        },
        {
          "output_type": "stream",
          "name": "stdout",
          "text": [
            "0\n"
          ]
        },
        {
          "output_type": "stream",
          "name": "stderr",
          "text": [
            "Model Layer Loop - features.denseblock3.denselayer6.layers.relu2:  42%|████▏     | 209/495 [04:09<04:29,  1.06it/s]"
          ]
        },
        {
          "output_type": "stream",
          "name": "stdout",
          "text": [
            "0\n",
            "skipping features.denseblock3.denselayer6.layers.norm2\n",
            "unsupported operand type(s) for *: 'NoneType' and 'float'\n"
          ]
        },
        {
          "output_type": "stream",
          "name": "stderr",
          "text": [
            "Model Layer Loop - features.denseblock3.denselayer6.layers.conv2:  42%|████▏     | 210/495 [04:11<05:10,  1.09s/it]"
          ]
        },
        {
          "output_type": "stream",
          "name": "stdout",
          "text": [
            "0\n"
          ]
        },
        {
          "output_type": "stream",
          "name": "stderr",
          "text": [
            "Model Layer Loop - features.denseblock3.denselayer7:  43%|████▎     | 211/495 [04:12<05:36,  1.19s/it]"
          ]
        },
        {
          "output_type": "stream",
          "name": "stdout",
          "text": [
            "0\n"
          ]
        },
        {
          "output_type": "stream",
          "name": "stderr",
          "text": [
            "Model Layer Loop - features.denseblock3.denselayer7.layers:  43%|████▎     | 212/495 [04:14<05:58,  1.27s/it]"
          ]
        },
        {
          "output_type": "stream",
          "name": "stdout",
          "text": [
            "0\n"
          ]
        },
        {
          "output_type": "stream",
          "name": "stderr",
          "text": [
            "Model Layer Loop - features.denseblock3.denselayer7.layers.relu1:  43%|████▎     | 214/495 [04:15<04:34,  1.02it/s]"
          ]
        },
        {
          "output_type": "stream",
          "name": "stdout",
          "text": [
            "0\n",
            "skipping features.denseblock3.denselayer7.layers.norm1\n",
            "unsupported operand type(s) for *: 'NoneType' and 'float'\n"
          ]
        },
        {
          "output_type": "stream",
          "name": "stderr",
          "text": [
            "Model Layer Loop - features.denseblock3.denselayer7.layers.conv1:  43%|████▎     | 215/495 [04:17<05:17,  1.13s/it]"
          ]
        },
        {
          "output_type": "stream",
          "name": "stdout",
          "text": [
            "0\n"
          ]
        },
        {
          "output_type": "stream",
          "name": "stderr",
          "text": [
            "Model Layer Loop - features.denseblock3.denselayer7.layers.norm2:  44%|████▍     | 217/495 [04:19<04:38,  1.00s/it]"
          ]
        },
        {
          "output_type": "stream",
          "name": "stdout",
          "text": [
            "0\n",
            "skipping features.denseblock3.denselayer7.layers.norm2\n",
            "unsupported operand type(s) for *: 'NoneType' and 'float'\n"
          ]
        },
        {
          "output_type": "stream",
          "name": "stderr",
          "text": [
            "Model Layer Loop - features.denseblock3.denselayer7.layers.conv2:  44%|████▍     | 218/495 [04:21<05:54,  1.28s/it]"
          ]
        },
        {
          "output_type": "stream",
          "name": "stdout",
          "text": [
            "0\n"
          ]
        },
        {
          "output_type": "stream",
          "name": "stderr",
          "text": [
            "Model Layer Loop - features.denseblock3.denselayer8:  44%|████▍     | 219/495 [04:22<06:08,  1.33s/it]"
          ]
        },
        {
          "output_type": "stream",
          "name": "stdout",
          "text": [
            "0\n"
          ]
        },
        {
          "output_type": "stream",
          "name": "stderr",
          "text": [
            "Model Layer Loop - features.denseblock3.denselayer8.layers:  44%|████▍     | 220/495 [04:24<06:20,  1.38s/it]"
          ]
        },
        {
          "output_type": "stream",
          "name": "stdout",
          "text": [
            "0\n"
          ]
        },
        {
          "output_type": "stream",
          "name": "stderr",
          "text": [
            "Model Layer Loop - features.denseblock3.denselayer8.layers.relu1:  45%|████▍     | 222/495 [04:25<04:39,  1.02s/it]"
          ]
        },
        {
          "output_type": "stream",
          "name": "stdout",
          "text": [
            "0\n",
            "skipping features.denseblock3.denselayer8.layers.norm1\n",
            "unsupported operand type(s) for *: 'NoneType' and 'float'\n"
          ]
        },
        {
          "output_type": "stream",
          "name": "stderr",
          "text": [
            "Model Layer Loop - features.denseblock3.denselayer8.layers.conv1:  45%|████▌     | 223/495 [04:27<05:13,  1.15s/it]"
          ]
        },
        {
          "output_type": "stream",
          "name": "stdout",
          "text": [
            "0\n"
          ]
        },
        {
          "output_type": "stream",
          "name": "stderr",
          "text": [
            "Model Layer Loop - features.denseblock3.denselayer8.layers.relu2:  45%|████▌     | 225/495 [04:28<04:06,  1.10it/s]"
          ]
        },
        {
          "output_type": "stream",
          "name": "stdout",
          "text": [
            "0\n",
            "skipping features.denseblock3.denselayer8.layers.norm2\n",
            "unsupported operand type(s) for *: 'NoneType' and 'float'\n"
          ]
        },
        {
          "output_type": "stream",
          "name": "stderr",
          "text": [
            "Model Layer Loop - features.denseblock3.denselayer8.layers.conv2:  46%|████▌     | 226/495 [04:30<04:51,  1.08s/it]"
          ]
        },
        {
          "output_type": "stream",
          "name": "stdout",
          "text": [
            "0\n"
          ]
        },
        {
          "output_type": "stream",
          "name": "stderr",
          "text": [
            "Model Layer Loop - features.denseblock3.denselayer9:  46%|████▌     | 227/495 [04:32<05:31,  1.24s/it]"
          ]
        },
        {
          "output_type": "stream",
          "name": "stdout",
          "text": [
            "0\n"
          ]
        },
        {
          "output_type": "stream",
          "name": "stderr",
          "text": [
            "Model Layer Loop - features.denseblock3.denselayer9.layers:  46%|████▌     | 228/495 [04:33<06:23,  1.44s/it]"
          ]
        },
        {
          "output_type": "stream",
          "name": "stdout",
          "text": [
            "0\n"
          ]
        },
        {
          "output_type": "stream",
          "name": "stderr",
          "text": [
            "Model Layer Loop - features.denseblock3.denselayer9.layers.norm1:  46%|████▋     | 229/495 [04:35<07:04,  1.59s/it]"
          ]
        },
        {
          "output_type": "stream",
          "name": "stdout",
          "text": [
            "0\n"
          ]
        },
        {
          "output_type": "stream",
          "name": "stderr",
          "text": [
            "Model Layer Loop - features.denseblock3.denselayer9.layers.relu1:  46%|████▋     | 230/495 [04:36<05:12,  1.18s/it]"
          ]
        },
        {
          "output_type": "stream",
          "name": "stdout",
          "text": [
            "skipping features.denseblock3.denselayer9.layers.norm1\n",
            "unsupported operand type(s) for *: 'NoneType' and 'float'\n"
          ]
        },
        {
          "output_type": "stream",
          "name": "stderr",
          "text": [
            "Model Layer Loop - features.denseblock3.denselayer9.layers.conv1:  47%|████▋     | 231/495 [04:38<06:21,  1.44s/it]"
          ]
        },
        {
          "output_type": "stream",
          "name": "stdout",
          "text": [
            "0\n"
          ]
        },
        {
          "output_type": "stream",
          "name": "stderr",
          "text": [
            "Model Layer Loop - features.denseblock3.denselayer9.layers.relu2:  47%|████▋     | 233/495 [04:39<04:48,  1.10s/it]"
          ]
        },
        {
          "output_type": "stream",
          "name": "stdout",
          "text": [
            "0\n",
            "skipping features.denseblock3.denselayer9.layers.norm2\n",
            "unsupported operand type(s) for *: 'NoneType' and 'float'\n"
          ]
        },
        {
          "output_type": "stream",
          "name": "stderr",
          "text": [
            "Model Layer Loop - features.denseblock3.denselayer9.layers.conv2:  47%|████▋     | 234/495 [04:41<05:15,  1.21s/it]"
          ]
        },
        {
          "output_type": "stream",
          "name": "stdout",
          "text": [
            "0\n"
          ]
        },
        {
          "output_type": "stream",
          "name": "stderr",
          "text": [
            "Model Layer Loop - features.denseblock3.denselayer10:  47%|████▋     | 235/495 [04:42<05:34,  1.29s/it]"
          ]
        },
        {
          "output_type": "stream",
          "name": "stdout",
          "text": [
            "0\n"
          ]
        },
        {
          "output_type": "stream",
          "name": "stderr",
          "text": [
            "Model Layer Loop - features.denseblock3.denselayer10.layers:  48%|████▊     | 236/495 [04:44<05:47,  1.34s/it]"
          ]
        },
        {
          "output_type": "stream",
          "name": "stdout",
          "text": [
            "0\n"
          ]
        },
        {
          "output_type": "stream",
          "name": "stderr",
          "text": [
            "Model Layer Loop - features.denseblock3.denselayer10.layers.norm1:  48%|████▊     | 237/495 [04:45<06:06,  1.42s/it]"
          ]
        },
        {
          "output_type": "stream",
          "name": "stdout",
          "text": [
            "0\n"
          ]
        },
        {
          "output_type": "stream",
          "name": "stderr",
          "text": [
            "Model Layer Loop - features.denseblock3.denselayer10.layers.relu1:  48%|████▊     | 238/495 [04:46<04:31,  1.06s/it]"
          ]
        },
        {
          "output_type": "stream",
          "name": "stdout",
          "text": [
            "skipping features.denseblock3.denselayer10.layers.norm1\n",
            "unsupported operand type(s) for *: 'NoneType' and 'float'\n"
          ]
        },
        {
          "output_type": "stream",
          "name": "stderr",
          "text": [
            "Model Layer Loop - features.denseblock3.denselayer10.layers.conv1:  48%|████▊     | 239/495 [04:48<05:46,  1.35s/it]"
          ]
        },
        {
          "output_type": "stream",
          "name": "stdout",
          "text": [
            "0\n"
          ]
        },
        {
          "output_type": "stream",
          "name": "stderr",
          "text": [
            "Model Layer Loop - features.denseblock3.denselayer10.layers.norm2:  48%|████▊     | 240/495 [04:50<07:28,  1.76s/it]"
          ]
        },
        {
          "output_type": "stream",
          "name": "stdout",
          "text": [
            "0\n"
          ]
        },
        {
          "output_type": "stream",
          "name": "stderr",
          "text": [
            "Model Layer Loop - features.denseblock3.denselayer10.layers.relu2:  49%|████▊     | 241/495 [04:51<05:36,  1.32s/it]"
          ]
        },
        {
          "output_type": "stream",
          "name": "stdout",
          "text": [
            "skipping features.denseblock3.denselayer10.layers.norm2\n",
            "unsupported operand type(s) for *: 'NoneType' and 'float'\n"
          ]
        },
        {
          "output_type": "stream",
          "name": "stderr",
          "text": [
            "Model Layer Loop - features.denseblock3.denselayer10.layers.conv2:  49%|████▉     | 242/495 [04:54<07:24,  1.76s/it]"
          ]
        },
        {
          "output_type": "stream",
          "name": "stdout",
          "text": [
            "0\n"
          ]
        },
        {
          "output_type": "stream",
          "name": "stderr",
          "text": [
            "Model Layer Loop - features.denseblock3.denselayer11:  49%|████▉     | 243/495 [04:55<07:27,  1.78s/it]"
          ]
        },
        {
          "output_type": "stream",
          "name": "stdout",
          "text": [
            "0\n"
          ]
        },
        {
          "output_type": "stream",
          "name": "stderr",
          "text": [
            "Model Layer Loop - features.denseblock3.denselayer11.layers:  49%|████▉     | 244/495 [04:57<07:31,  1.80s/it]"
          ]
        },
        {
          "output_type": "stream",
          "name": "stdout",
          "text": [
            "0\n"
          ]
        },
        {
          "output_type": "stream",
          "name": "stderr",
          "text": [
            "Model Layer Loop - features.denseblock3.denselayer11.layers.relu1:  50%|████▉     | 246/495 [04:59<05:31,  1.33s/it]"
          ]
        },
        {
          "output_type": "stream",
          "name": "stdout",
          "text": [
            "0\n",
            "skipping features.denseblock3.denselayer11.layers.norm1\n",
            "unsupported operand type(s) for *: 'NoneType' and 'float'\n"
          ]
        },
        {
          "output_type": "stream",
          "name": "stderr",
          "text": [
            "Model Layer Loop - features.denseblock3.denselayer11.layers.conv1:  50%|████▉     | 247/495 [05:01<05:48,  1.40s/it]"
          ]
        },
        {
          "output_type": "stream",
          "name": "stdout",
          "text": [
            "0\n"
          ]
        },
        {
          "output_type": "stream",
          "name": "stderr",
          "text": [
            "Model Layer Loop - features.denseblock3.denselayer11.layers.relu2:  50%|█████     | 249/495 [05:02<04:16,  1.04s/it]"
          ]
        },
        {
          "output_type": "stream",
          "name": "stdout",
          "text": [
            "0\n",
            "skipping features.denseblock3.denselayer11.layers.norm2\n",
            "unsupported operand type(s) for *: 'NoneType' and 'float'\n"
          ]
        },
        {
          "output_type": "stream",
          "name": "stderr",
          "text": [
            "Model Layer Loop - features.denseblock3.denselayer11.layers.conv2:  51%|█████     | 250/495 [05:04<04:59,  1.22s/it]"
          ]
        },
        {
          "output_type": "stream",
          "name": "stdout",
          "text": [
            "0\n"
          ]
        },
        {
          "output_type": "stream",
          "name": "stderr",
          "text": [
            "Model Layer Loop - features.denseblock3.denselayer12:  51%|█████     | 251/495 [05:06<05:38,  1.39s/it]"
          ]
        },
        {
          "output_type": "stream",
          "name": "stdout",
          "text": [
            "0\n"
          ]
        },
        {
          "output_type": "stream",
          "name": "stderr",
          "text": [
            "Model Layer Loop - features.denseblock3.denselayer12.layers:  51%|█████     | 252/495 [05:08<06:05,  1.51s/it]"
          ]
        },
        {
          "output_type": "stream",
          "name": "stdout",
          "text": [
            "0\n"
          ]
        },
        {
          "output_type": "stream",
          "name": "stderr",
          "text": [
            "Model Layer Loop - features.denseblock3.denselayer12.layers.relu1:  51%|█████▏    | 254/495 [05:09<04:23,  1.09s/it]"
          ]
        },
        {
          "output_type": "stream",
          "name": "stdout",
          "text": [
            "0\n",
            "skipping features.denseblock3.denselayer12.layers.norm1\n",
            "unsupported operand type(s) for *: 'NoneType' and 'float'\n"
          ]
        },
        {
          "output_type": "stream",
          "name": "stderr",
          "text": [
            "Model Layer Loop - features.denseblock3.denselayer12.layers.conv1:  52%|█████▏    | 255/495 [05:11<04:46,  1.20s/it]"
          ]
        },
        {
          "output_type": "stream",
          "name": "stdout",
          "text": [
            "0\n"
          ]
        },
        {
          "output_type": "stream",
          "name": "stderr",
          "text": [
            "Model Layer Loop - features.denseblock3.denselayer12.layers.relu2:  52%|█████▏    | 257/495 [05:12<03:44,  1.06it/s]"
          ]
        },
        {
          "output_type": "stream",
          "name": "stdout",
          "text": [
            "0\n",
            "skipping features.denseblock3.denselayer12.layers.norm2\n",
            "unsupported operand type(s) for *: 'NoneType' and 'float'\n"
          ]
        },
        {
          "output_type": "stream",
          "name": "stderr",
          "text": [
            "Model Layer Loop - features.denseblock3.denselayer12.layers.conv2:  52%|█████▏    | 258/495 [05:14<04:21,  1.10s/it]"
          ]
        },
        {
          "output_type": "stream",
          "name": "stdout",
          "text": [
            "0\n"
          ]
        },
        {
          "output_type": "stream",
          "name": "stderr",
          "text": [
            "Model Layer Loop - features.denseblock3.denselayer13:  52%|█████▏    | 259/495 [05:15<04:49,  1.23s/it]"
          ]
        },
        {
          "output_type": "stream",
          "name": "stdout",
          "text": [
            "0\n"
          ]
        },
        {
          "output_type": "stream",
          "name": "stderr",
          "text": [
            "Model Layer Loop - features.denseblock3.denselayer13.layers:  53%|█████▎    | 260/495 [05:17<05:08,  1.31s/it]"
          ]
        },
        {
          "output_type": "stream",
          "name": "stdout",
          "text": [
            "0\n"
          ]
        },
        {
          "output_type": "stream",
          "name": "stderr",
          "text": [
            "Model Layer Loop - features.denseblock3.denselayer13.layers.norm1:  53%|█████▎    | 261/495 [05:19<05:50,  1.50s/it]"
          ]
        },
        {
          "output_type": "stream",
          "name": "stdout",
          "text": [
            "0\n"
          ]
        },
        {
          "output_type": "stream",
          "name": "stderr",
          "text": [
            "Model Layer Loop - features.denseblock3.denselayer13.layers.relu1:  53%|█████▎    | 262/495 [05:19<04:19,  1.12s/it]"
          ]
        },
        {
          "output_type": "stream",
          "name": "stdout",
          "text": [
            "skipping features.denseblock3.denselayer13.layers.norm1\n",
            "unsupported operand type(s) for *: 'NoneType' and 'float'\n"
          ]
        },
        {
          "output_type": "stream",
          "name": "stderr",
          "text": [
            "Model Layer Loop - features.denseblock3.denselayer13.layers.conv1:  53%|█████▎    | 263/495 [05:21<05:14,  1.36s/it]"
          ]
        },
        {
          "output_type": "stream",
          "name": "stdout",
          "text": [
            "0\n"
          ]
        },
        {
          "output_type": "stream",
          "name": "stderr",
          "text": [
            "Model Layer Loop - features.denseblock3.denselayer13.layers.relu2:  54%|█████▎    | 265/495 [05:23<04:07,  1.08s/it]"
          ]
        },
        {
          "output_type": "stream",
          "name": "stdout",
          "text": [
            "0\n",
            "skipping features.denseblock3.denselayer13.layers.norm2\n",
            "unsupported operand type(s) for *: 'NoneType' and 'float'\n"
          ]
        },
        {
          "output_type": "stream",
          "name": "stderr",
          "text": [
            "Model Layer Loop - features.denseblock3.denselayer13.layers.conv2:  54%|█████▎    | 266/495 [05:24<04:40,  1.22s/it]"
          ]
        },
        {
          "output_type": "stream",
          "name": "stdout",
          "text": [
            "0\n"
          ]
        },
        {
          "output_type": "stream",
          "name": "stderr",
          "text": [
            "Model Layer Loop - features.denseblock3.denselayer14:  54%|█████▍    | 267/495 [05:26<04:58,  1.31s/it]"
          ]
        },
        {
          "output_type": "stream",
          "name": "stdout",
          "text": [
            "0\n"
          ]
        },
        {
          "output_type": "stream",
          "name": "stderr",
          "text": [
            "Model Layer Loop - features.denseblock3.denselayer14.layers.relu1:  55%|█████▍    | 270/495 [05:29<03:50,  1.02s/it]"
          ]
        },
        {
          "output_type": "stream",
          "name": "stdout",
          "text": [
            "0\n",
            "0\n",
            "skipping features.denseblock3.denselayer14.layers.norm1\n",
            "unsupported operand type(s) for *: 'NoneType' and 'float'\n"
          ]
        },
        {
          "output_type": "stream",
          "name": "stderr",
          "text": [
            "Model Layer Loop - features.denseblock3.denselayer14.layers.conv1:  55%|█████▍    | 271/495 [05:30<04:19,  1.16s/it]"
          ]
        },
        {
          "output_type": "stream",
          "name": "stdout",
          "text": [
            "0\n"
          ]
        },
        {
          "output_type": "stream",
          "name": "stderr",
          "text": [
            "Model Layer Loop - features.denseblock3.denselayer14.layers.norm2:  55%|█████▍    | 272/495 [05:32<04:41,  1.26s/it]"
          ]
        },
        {
          "output_type": "stream",
          "name": "stdout",
          "text": [
            "0\n"
          ]
        },
        {
          "output_type": "stream",
          "name": "stderr",
          "text": [
            "Model Layer Loop - features.denseblock3.denselayer14.layers.relu2:  55%|█████▌    | 273/495 [05:32<03:30,  1.06it/s]"
          ]
        },
        {
          "output_type": "stream",
          "name": "stdout",
          "text": [
            "skipping features.denseblock3.denselayer14.layers.norm2\n",
            "unsupported operand type(s) for *: 'NoneType' and 'float'\n"
          ]
        },
        {
          "output_type": "stream",
          "name": "stderr",
          "text": [
            "Model Layer Loop - features.denseblock3.denselayer14.layers.conv2:  55%|█████▌    | 274/495 [05:34<04:31,  1.23s/it]"
          ]
        },
        {
          "output_type": "stream",
          "name": "stdout",
          "text": [
            "0\n"
          ]
        },
        {
          "output_type": "stream",
          "name": "stderr",
          "text": [
            "Model Layer Loop - features.denseblock3.denselayer15:  56%|█████▌    | 275/495 [05:36<05:16,  1.44s/it]"
          ]
        },
        {
          "output_type": "stream",
          "name": "stdout",
          "text": [
            "0\n"
          ]
        },
        {
          "output_type": "stream",
          "name": "stderr",
          "text": [
            "Model Layer Loop - features.denseblock3.denselayer15.layers:  56%|█████▌    | 276/495 [05:38<05:19,  1.46s/it]"
          ]
        },
        {
          "output_type": "stream",
          "name": "stdout",
          "text": [
            "0\n"
          ]
        },
        {
          "output_type": "stream",
          "name": "stderr",
          "text": [
            "Model Layer Loop - features.denseblock3.denselayer15.layers.relu1:  56%|█████▌    | 278/495 [05:39<03:51,  1.07s/it]"
          ]
        },
        {
          "output_type": "stream",
          "name": "stdout",
          "text": [
            "0\n",
            "skipping features.denseblock3.denselayer15.layers.norm1\n",
            "unsupported operand type(s) for *: 'NoneType' and 'float'\n"
          ]
        },
        {
          "output_type": "stream",
          "name": "stderr",
          "text": [
            "Model Layer Loop - features.denseblock3.denselayer15.layers.conv1:  56%|█████▋    | 279/495 [05:41<04:16,  1.19s/it]"
          ]
        },
        {
          "output_type": "stream",
          "name": "stdout",
          "text": [
            "0\n"
          ]
        },
        {
          "output_type": "stream",
          "name": "stderr",
          "text": [
            "Model Layer Loop - features.denseblock3.denselayer15.layers.relu2:  57%|█████▋    | 281/495 [05:42<03:19,  1.07it/s]"
          ]
        },
        {
          "output_type": "stream",
          "name": "stdout",
          "text": [
            "0\n",
            "skipping features.denseblock3.denselayer15.layers.norm2\n",
            "unsupported operand type(s) for *: 'NoneType' and 'float'\n"
          ]
        },
        {
          "output_type": "stream",
          "name": "stderr",
          "text": [
            "Model Layer Loop - features.denseblock3.denselayer15.layers.conv2:  57%|█████▋    | 282/495 [05:44<03:51,  1.09s/it]"
          ]
        },
        {
          "output_type": "stream",
          "name": "stdout",
          "text": [
            "0\n"
          ]
        },
        {
          "output_type": "stream",
          "name": "stderr",
          "text": [
            "Model Layer Loop - features.denseblock3.denselayer16:  57%|█████▋    | 283/495 [05:45<04:13,  1.20s/it]"
          ]
        },
        {
          "output_type": "stream",
          "name": "stdout",
          "text": [
            "0\n"
          ]
        },
        {
          "output_type": "stream",
          "name": "stderr",
          "text": [
            "Model Layer Loop - features.denseblock3.denselayer16.layers:  57%|█████▋    | 284/495 [05:47<04:37,  1.31s/it]"
          ]
        },
        {
          "output_type": "stream",
          "name": "stdout",
          "text": [
            "0\n"
          ]
        },
        {
          "output_type": "stream",
          "name": "stderr",
          "text": [
            "Model Layer Loop - features.denseblock3.denselayer16.layers.norm1:  58%|█████▊    | 286/495 [05:49<03:45,  1.08s/it]"
          ]
        },
        {
          "output_type": "stream",
          "name": "stdout",
          "text": [
            "0\n",
            "skipping features.denseblock3.denselayer16.layers.norm1\n",
            "unsupported operand type(s) for *: 'NoneType' and 'float'\n"
          ]
        },
        {
          "output_type": "stream",
          "name": "stderr",
          "text": [
            "Model Layer Loop - features.denseblock3.denselayer16.layers.conv1:  58%|█████▊    | 287/495 [05:50<04:29,  1.30s/it]"
          ]
        },
        {
          "output_type": "stream",
          "name": "stdout",
          "text": [
            "0\n"
          ]
        },
        {
          "output_type": "stream",
          "name": "stderr",
          "text": [
            "Model Layer Loop - features.denseblock3.denselayer16.layers.relu2:  58%|█████▊    | 289/495 [05:52<03:22,  1.01it/s]"
          ]
        },
        {
          "output_type": "stream",
          "name": "stdout",
          "text": [
            "0\n",
            "skipping features.denseblock3.denselayer16.layers.norm2\n",
            "unsupported operand type(s) for *: 'NoneType' and 'float'\n"
          ]
        },
        {
          "output_type": "stream",
          "name": "stderr",
          "text": [
            "Model Layer Loop - features.denseblock3.denselayer16.layers.conv2:  59%|█████▊    | 290/495 [05:54<03:52,  1.14s/it]"
          ]
        },
        {
          "output_type": "stream",
          "name": "stdout",
          "text": [
            "0\n"
          ]
        },
        {
          "output_type": "stream",
          "name": "stderr",
          "text": [
            "Model Layer Loop - features.denseblock3.denselayer17:  59%|█████▉    | 291/495 [05:55<04:10,  1.23s/it]"
          ]
        },
        {
          "output_type": "stream",
          "name": "stdout",
          "text": [
            "0\n"
          ]
        },
        {
          "output_type": "stream",
          "name": "stderr",
          "text": [
            "Model Layer Loop - features.denseblock3.denselayer17.layers:  59%|█████▉    | 292/495 [05:56<04:23,  1.30s/it]"
          ]
        },
        {
          "output_type": "stream",
          "name": "stdout",
          "text": [
            "0\n"
          ]
        },
        {
          "output_type": "stream",
          "name": "stderr",
          "text": [
            "Model Layer Loop - features.denseblock3.denselayer17.layers.relu1:  59%|█████▉    | 294/495 [05:58<03:19,  1.01it/s]"
          ]
        },
        {
          "output_type": "stream",
          "name": "stdout",
          "text": [
            "0\n",
            "skipping features.denseblock3.denselayer17.layers.norm1\n",
            "unsupported operand type(s) for *: 'NoneType' and 'float'\n"
          ]
        },
        {
          "output_type": "stream",
          "name": "stderr",
          "text": [
            "Model Layer Loop - features.denseblock3.denselayer17.layers.conv1:  60%|█████▉    | 295/495 [06:00<03:47,  1.14s/it]"
          ]
        },
        {
          "output_type": "stream",
          "name": "stdout",
          "text": [
            "0\n"
          ]
        },
        {
          "output_type": "stream",
          "name": "stderr",
          "text": [
            "Model Layer Loop - features.denseblock3.denselayer17.layers.relu2:  60%|██████    | 297/495 [06:02<03:15,  1.01it/s]"
          ]
        },
        {
          "output_type": "stream",
          "name": "stdout",
          "text": [
            "0\n",
            "skipping features.denseblock3.denselayer17.layers.norm2\n",
            "unsupported operand type(s) for *: 'NoneType' and 'float'\n"
          ]
        },
        {
          "output_type": "stream",
          "name": "stderr",
          "text": [
            "Model Layer Loop - features.denseblock3.denselayer17.layers.conv2:  60%|██████    | 298/495 [06:03<04:03,  1.24s/it]"
          ]
        },
        {
          "output_type": "stream",
          "name": "stdout",
          "text": [
            "0\n"
          ]
        },
        {
          "output_type": "stream",
          "name": "stderr",
          "text": [
            "Model Layer Loop - features.denseblock3.denselayer18:  60%|██████    | 299/495 [06:05<04:19,  1.32s/it]"
          ]
        },
        {
          "output_type": "stream",
          "name": "stdout",
          "text": [
            "0\n"
          ]
        },
        {
          "output_type": "stream",
          "name": "stderr",
          "text": [
            "Model Layer Loop - features.denseblock3.denselayer18.layers:  61%|██████    | 300/495 [06:06<04:26,  1.37s/it]"
          ]
        },
        {
          "output_type": "stream",
          "name": "stdout",
          "text": [
            "0\n"
          ]
        },
        {
          "output_type": "stream",
          "name": "stderr",
          "text": [
            "Model Layer Loop - features.denseblock3.denselayer18.layers.relu1:  61%|██████    | 302/495 [06:08<03:19,  1.03s/it]"
          ]
        },
        {
          "output_type": "stream",
          "name": "stdout",
          "text": [
            "0\n",
            "skipping features.denseblock3.denselayer18.layers.norm1\n",
            "unsupported operand type(s) for *: 'NoneType' and 'float'\n"
          ]
        },
        {
          "output_type": "stream",
          "name": "stderr",
          "text": [
            "Model Layer Loop - features.denseblock3.denselayer18.layers.conv1:  61%|██████    | 303/495 [06:10<03:43,  1.16s/it]"
          ]
        },
        {
          "output_type": "stream",
          "name": "stdout",
          "text": [
            "0\n"
          ]
        },
        {
          "output_type": "stream",
          "name": "stderr",
          "text": [
            "Model Layer Loop - features.denseblock3.denselayer18.layers.relu2:  62%|██████▏   | 305/495 [06:11<02:56,  1.08it/s]"
          ]
        },
        {
          "output_type": "stream",
          "name": "stdout",
          "text": [
            "0\n",
            "skipping features.denseblock3.denselayer18.layers.norm2\n",
            "unsupported operand type(s) for *: 'NoneType' and 'float'\n"
          ]
        },
        {
          "output_type": "stream",
          "name": "stderr",
          "text": [
            "Model Layer Loop - features.denseblock3.denselayer18.layers.conv2:  62%|██████▏   | 306/495 [06:13<03:26,  1.09s/it]"
          ]
        },
        {
          "output_type": "stream",
          "name": "stdout",
          "text": [
            "0\n"
          ]
        },
        {
          "output_type": "stream",
          "name": "stderr",
          "text": [
            "Model Layer Loop - features.denseblock3.denselayer19:  62%|██████▏   | 307/495 [06:14<03:48,  1.22s/it]"
          ]
        },
        {
          "output_type": "stream",
          "name": "stdout",
          "text": [
            "0\n"
          ]
        },
        {
          "output_type": "stream",
          "name": "stderr",
          "text": [
            "Model Layer Loop - features.denseblock3.denselayer19.layers:  62%|██████▏   | 308/495 [06:16<04:19,  1.39s/it]"
          ]
        },
        {
          "output_type": "stream",
          "name": "stdout",
          "text": [
            "0\n"
          ]
        },
        {
          "output_type": "stream",
          "name": "stderr",
          "text": [
            "Model Layer Loop - features.denseblock3.denselayer19.layers.relu1:  63%|██████▎   | 310/495 [06:18<03:27,  1.12s/it]"
          ]
        },
        {
          "output_type": "stream",
          "name": "stdout",
          "text": [
            "0\n",
            "skipping features.denseblock3.denselayer19.layers.norm1\n",
            "unsupported operand type(s) for *: 'NoneType' and 'float'\n"
          ]
        },
        {
          "output_type": "stream",
          "name": "stderr",
          "text": [
            "Model Layer Loop - features.denseblock3.denselayer19.layers.conv1:  63%|██████▎   | 311/495 [06:19<03:44,  1.22s/it]"
          ]
        },
        {
          "output_type": "stream",
          "name": "stdout",
          "text": [
            "0\n"
          ]
        },
        {
          "output_type": "stream",
          "name": "stderr",
          "text": [
            "Model Layer Loop - features.denseblock3.denselayer19.layers.relu2:  63%|██████▎   | 313/495 [06:21<02:53,  1.05it/s]"
          ]
        },
        {
          "output_type": "stream",
          "name": "stdout",
          "text": [
            "0\n",
            "skipping features.denseblock3.denselayer19.layers.norm2\n",
            "unsupported operand type(s) for *: 'NoneType' and 'float'\n"
          ]
        },
        {
          "output_type": "stream",
          "name": "stderr",
          "text": [
            "Model Layer Loop - features.denseblock3.denselayer19.layers.conv2:  63%|██████▎   | 314/495 [06:23<03:22,  1.12s/it]"
          ]
        },
        {
          "output_type": "stream",
          "name": "stdout",
          "text": [
            "0\n"
          ]
        },
        {
          "output_type": "stream",
          "name": "stderr",
          "text": [
            "Model Layer Loop - features.denseblock3.denselayer20:  64%|██████▎   | 315/495 [06:24<03:40,  1.23s/it]"
          ]
        },
        {
          "output_type": "stream",
          "name": "stdout",
          "text": [
            "0\n"
          ]
        },
        {
          "output_type": "stream",
          "name": "stderr",
          "text": [
            "Model Layer Loop - features.denseblock3.denselayer20.layers:  64%|██████▍   | 316/495 [06:25<03:52,  1.30s/it]"
          ]
        },
        {
          "output_type": "stream",
          "name": "stdout",
          "text": [
            "0\n"
          ]
        },
        {
          "output_type": "stream",
          "name": "stderr",
          "text": [
            "Model Layer Loop - features.denseblock3.denselayer20.layers.relu1:  64%|██████▍   | 318/495 [06:27<02:55,  1.01it/s]"
          ]
        },
        {
          "output_type": "stream",
          "name": "stdout",
          "text": [
            "0\n",
            "skipping features.denseblock3.denselayer20.layers.norm1\n",
            "unsupported operand type(s) for *: 'NoneType' and 'float'\n"
          ]
        },
        {
          "output_type": "stream",
          "name": "stderr",
          "text": [
            "Model Layer Loop - features.denseblock3.denselayer20.layers.conv1:  64%|██████▍   | 319/495 [06:29<03:30,  1.20s/it]"
          ]
        },
        {
          "output_type": "stream",
          "name": "stdout",
          "text": [
            "0\n"
          ]
        },
        {
          "output_type": "stream",
          "name": "stderr",
          "text": [
            "Model Layer Loop - features.denseblock3.denselayer20.layers.relu2:  65%|██████▍   | 321/495 [06:31<02:58,  1.02s/it]"
          ]
        },
        {
          "output_type": "stream",
          "name": "stdout",
          "text": [
            "0\n",
            "skipping features.denseblock3.denselayer20.layers.norm2\n",
            "unsupported operand type(s) for *: 'NoneType' and 'float'\n"
          ]
        },
        {
          "output_type": "stream",
          "name": "stderr",
          "text": [
            "Model Layer Loop - features.denseblock3.denselayer20.layers.conv2:  65%|██████▌   | 322/495 [06:32<03:31,  1.23s/it]"
          ]
        },
        {
          "output_type": "stream",
          "name": "stdout",
          "text": [
            "0\n"
          ]
        },
        {
          "output_type": "stream",
          "name": "stderr",
          "text": [
            "Model Layer Loop - features.denseblock3.denselayer21.layers:  65%|██████▌   | 324/495 [06:35<03:48,  1.34s/it]"
          ]
        },
        {
          "output_type": "stream",
          "name": "stdout",
          "text": [
            "0\n",
            "0\n"
          ]
        },
        {
          "output_type": "stream",
          "name": "stderr",
          "text": [
            "Model Layer Loop - features.denseblock3.denselayer21.layers.relu1:  66%|██████▌   | 326/495 [06:37<02:50,  1.01s/it]"
          ]
        },
        {
          "output_type": "stream",
          "name": "stdout",
          "text": [
            "0\n",
            "skipping features.denseblock3.denselayer21.layers.norm1\n",
            "unsupported operand type(s) for *: 'NoneType' and 'float'\n"
          ]
        },
        {
          "output_type": "stream",
          "name": "stderr",
          "text": [
            "Model Layer Loop - features.denseblock3.denselayer21.layers.conv1:  66%|██████▌   | 327/495 [06:38<03:12,  1.15s/it]"
          ]
        },
        {
          "output_type": "stream",
          "name": "stdout",
          "text": [
            "0\n"
          ]
        },
        {
          "output_type": "stream",
          "name": "stderr",
          "text": [
            "Model Layer Loop - features.denseblock3.denselayer21.layers.relu2:  66%|██████▋   | 329/495 [06:40<02:31,  1.10it/s]"
          ]
        },
        {
          "output_type": "stream",
          "name": "stdout",
          "text": [
            "0\n",
            "skipping features.denseblock3.denselayer21.layers.norm2\n",
            "unsupported operand type(s) for *: 'NoneType' and 'float'\n"
          ]
        },
        {
          "output_type": "stream",
          "name": "stderr",
          "text": [
            "Model Layer Loop - features.denseblock3.denselayer21.layers.conv2:  67%|██████▋   | 330/495 [06:41<02:56,  1.07s/it]"
          ]
        },
        {
          "output_type": "stream",
          "name": "stdout",
          "text": [
            "0\n"
          ]
        },
        {
          "output_type": "stream",
          "name": "stderr",
          "text": [
            "Model Layer Loop - features.denseblock3.denselayer22:  67%|██████▋   | 331/495 [06:43<03:32,  1.30s/it]"
          ]
        },
        {
          "output_type": "stream",
          "name": "stdout",
          "text": [
            "0\n"
          ]
        },
        {
          "output_type": "stream",
          "name": "stderr",
          "text": [
            "Model Layer Loop - features.denseblock3.denselayer22.layers:  67%|██████▋   | 332/495 [06:45<03:56,  1.45s/it]"
          ]
        },
        {
          "output_type": "stream",
          "name": "stdout",
          "text": [
            "0\n"
          ]
        },
        {
          "output_type": "stream",
          "name": "stderr",
          "text": [
            "Model Layer Loop - features.denseblock3.denselayer22.layers.relu1:  67%|██████▋   | 334/495 [06:47<02:54,  1.09s/it]"
          ]
        },
        {
          "output_type": "stream",
          "name": "stdout",
          "text": [
            "0\n",
            "skipping features.denseblock3.denselayer22.layers.norm1\n",
            "unsupported operand type(s) for *: 'NoneType' and 'float'\n"
          ]
        },
        {
          "output_type": "stream",
          "name": "stderr",
          "text": [
            "Model Layer Loop - features.denseblock3.denselayer22.layers.conv1:  68%|██████▊   | 335/495 [06:48<03:12,  1.20s/it]"
          ]
        },
        {
          "output_type": "stream",
          "name": "stdout",
          "text": [
            "0\n"
          ]
        },
        {
          "output_type": "stream",
          "name": "stderr",
          "text": [
            "Model Layer Loop - features.denseblock3.denselayer22.layers.relu2:  68%|██████▊   | 337/495 [06:50<02:27,  1.07it/s]"
          ]
        },
        {
          "output_type": "stream",
          "name": "stdout",
          "text": [
            "0\n",
            "skipping features.denseblock3.denselayer22.layers.norm2\n",
            "unsupported operand type(s) for *: 'NoneType' and 'float'\n"
          ]
        },
        {
          "output_type": "stream",
          "name": "stderr",
          "text": [
            "Model Layer Loop - features.denseblock3.denselayer22.layers.conv2:  68%|██████▊   | 338/495 [06:51<02:51,  1.09s/it]"
          ]
        },
        {
          "output_type": "stream",
          "name": "stdout",
          "text": [
            "0\n"
          ]
        },
        {
          "output_type": "stream",
          "name": "stderr",
          "text": [
            "Model Layer Loop - features.denseblock3.denselayer23:  68%|██████▊   | 339/495 [06:53<03:08,  1.21s/it]"
          ]
        },
        {
          "output_type": "stream",
          "name": "stdout",
          "text": [
            "0\n"
          ]
        },
        {
          "output_type": "stream",
          "name": "stderr",
          "text": [
            "Model Layer Loop - features.denseblock3.denselayer23.layers:  69%|██████▊   | 340/495 [06:54<03:20,  1.30s/it]"
          ]
        },
        {
          "output_type": "stream",
          "name": "stdout",
          "text": [
            "0\n"
          ]
        },
        {
          "output_type": "stream",
          "name": "stderr",
          "text": [
            "Model Layer Loop - features.denseblock3.denselayer23.layers.norm1:  69%|██████▉   | 341/495 [06:56<03:28,  1.35s/it]"
          ]
        },
        {
          "output_type": "stream",
          "name": "stdout",
          "text": [
            "0\n"
          ]
        },
        {
          "output_type": "stream",
          "name": "stderr",
          "text": [
            "Model Layer Loop - features.denseblock3.denselayer23.layers.relu1:  69%|██████▉   | 342/495 [06:56<02:34,  1.01s/it]"
          ]
        },
        {
          "output_type": "stream",
          "name": "stdout",
          "text": [
            "skipping features.denseblock3.denselayer23.layers.norm1\n",
            "unsupported operand type(s) for *: 'NoneType' and 'float'\n"
          ]
        },
        {
          "output_type": "stream",
          "name": "stderr",
          "text": [
            "Model Layer Loop - features.denseblock3.denselayer23.layers.conv1:  69%|██████▉   | 343/495 [06:58<03:10,  1.25s/it]"
          ]
        },
        {
          "output_type": "stream",
          "name": "stdout",
          "text": [
            "0\n"
          ]
        },
        {
          "output_type": "stream",
          "name": "stderr",
          "text": [
            "Model Layer Loop - features.denseblock3.denselayer23.layers.relu2:  70%|██████▉   | 345/495 [07:00<02:38,  1.06s/it]"
          ]
        },
        {
          "output_type": "stream",
          "name": "stdout",
          "text": [
            "0\n",
            "skipping features.denseblock3.denselayer23.layers.norm2\n",
            "unsupported operand type(s) for *: 'NoneType' and 'float'\n"
          ]
        },
        {
          "output_type": "stream",
          "name": "stderr",
          "text": [
            "Model Layer Loop - features.denseblock3.denselayer23.layers.conv2:  70%|██████▉   | 346/495 [07:01<02:55,  1.18s/it]"
          ]
        },
        {
          "output_type": "stream",
          "name": "stdout",
          "text": [
            "0\n"
          ]
        },
        {
          "output_type": "stream",
          "name": "stderr",
          "text": [
            "Model Layer Loop - features.denseblock3.denselayer24:  70%|███████   | 347/495 [07:03<03:06,  1.26s/it]"
          ]
        },
        {
          "output_type": "stream",
          "name": "stdout",
          "text": [
            "0\n"
          ]
        },
        {
          "output_type": "stream",
          "name": "stderr",
          "text": [
            "Model Layer Loop - features.denseblock3.denselayer24.layers:  70%|███████   | 348/495 [07:05<03:27,  1.41s/it]"
          ]
        },
        {
          "output_type": "stream",
          "name": "stdout",
          "text": [
            "0\n"
          ]
        },
        {
          "output_type": "stream",
          "name": "stderr",
          "text": [
            "Model Layer Loop - features.denseblock3.denselayer24.layers.relu1:  71%|███████   | 350/495 [07:07<02:53,  1.20s/it]"
          ]
        },
        {
          "output_type": "stream",
          "name": "stdout",
          "text": [
            "0\n",
            "skipping features.denseblock3.denselayer24.layers.norm1\n",
            "unsupported operand type(s) for *: 'NoneType' and 'float'\n"
          ]
        },
        {
          "output_type": "stream",
          "name": "stderr",
          "text": [
            "Model Layer Loop - features.denseblock3.denselayer24.layers.conv1:  71%|███████   | 351/495 [07:09<03:20,  1.39s/it]"
          ]
        },
        {
          "output_type": "stream",
          "name": "stdout",
          "text": [
            "0\n"
          ]
        },
        {
          "output_type": "stream",
          "name": "stderr",
          "text": [
            "Model Layer Loop - features.denseblock3.denselayer24.layers.norm2:  71%|███████   | 352/495 [07:11<03:52,  1.63s/it]"
          ]
        },
        {
          "output_type": "stream",
          "name": "stdout",
          "text": [
            "0\n"
          ]
        },
        {
          "output_type": "stream",
          "name": "stderr",
          "text": [
            "Model Layer Loop - features.denseblock3.denselayer24.layers.relu2:  71%|███████▏  | 353/495 [07:11<02:53,  1.22s/it]"
          ]
        },
        {
          "output_type": "stream",
          "name": "stdout",
          "text": [
            "skipping features.denseblock3.denselayer24.layers.norm2\n",
            "unsupported operand type(s) for *: 'NoneType' and 'float'\n"
          ]
        },
        {
          "output_type": "stream",
          "name": "stderr",
          "text": [
            "Model Layer Loop - features.denseblock3.denselayer24.layers.conv2:  72%|███████▏  | 354/495 [07:14<03:52,  1.65s/it]"
          ]
        },
        {
          "output_type": "stream",
          "name": "stdout",
          "text": [
            "0\n"
          ]
        },
        {
          "output_type": "stream",
          "name": "stderr",
          "text": [
            "Model Layer Loop - features.transition3:  72%|███████▏  | 355/495 [07:16<04:12,  1.80s/it]"
          ]
        },
        {
          "output_type": "stream",
          "name": "stdout",
          "text": [
            "0\n"
          ]
        },
        {
          "output_type": "stream",
          "name": "stderr",
          "text": [
            "Model Layer Loop - features.transition3.norm:  72%|███████▏  | 356/495 [07:18<04:12,  1.82s/it]"
          ]
        },
        {
          "output_type": "stream",
          "name": "stdout",
          "text": [
            "0\n"
          ]
        },
        {
          "output_type": "stream",
          "name": "stderr",
          "text": [
            "Model Layer Loop - features.transition3.relu:  72%|███████▏  | 357/495 [07:18<03:04,  1.34s/it]"
          ]
        },
        {
          "output_type": "stream",
          "name": "stdout",
          "text": [
            "skipping features.transition3.norm\n",
            "unsupported operand type(s) for *: 'NoneType' and 'float'\n"
          ]
        },
        {
          "output_type": "stream",
          "name": "stderr",
          "text": [
            "Model Layer Loop - features.transition3.conv:  72%|███████▏  | 358/495 [07:20<03:13,  1.42s/it]"
          ]
        },
        {
          "output_type": "stream",
          "name": "stdout",
          "text": [
            "0\n"
          ]
        },
        {
          "output_type": "stream",
          "name": "stderr",
          "text": [
            "Model Layer Loop - features.transition3.pool:  73%|███████▎  | 359/495 [07:21<03:14,  1.43s/it]"
          ]
        },
        {
          "output_type": "stream",
          "name": "stdout",
          "text": [
            "0\n"
          ]
        },
        {
          "output_type": "stream",
          "name": "stderr",
          "text": [
            "Model Layer Loop - features.denseblock4:  73%|███████▎  | 360/495 [07:23<03:16,  1.45s/it]"
          ]
        },
        {
          "output_type": "stream",
          "name": "stdout",
          "text": [
            "0\n"
          ]
        },
        {
          "output_type": "stream",
          "name": "stderr",
          "text": [
            "Model Layer Loop - features.denseblock4.denselayer1:  73%|███████▎  | 361/495 [07:24<03:18,  1.48s/it]"
          ]
        },
        {
          "output_type": "stream",
          "name": "stdout",
          "text": [
            "0\n"
          ]
        },
        {
          "output_type": "stream",
          "name": "stderr",
          "text": [
            "Model Layer Loop - features.denseblock4.denselayer1.layers:  73%|███████▎  | 362/495 [07:26<03:30,  1.58s/it]"
          ]
        },
        {
          "output_type": "stream",
          "name": "stdout",
          "text": [
            "0\n"
          ]
        },
        {
          "output_type": "stream",
          "name": "stderr",
          "text": [
            "Model Layer Loop - features.denseblock4.denselayer1.layers.relu1:  74%|███████▎  | 364/495 [07:28<02:40,  1.23s/it]"
          ]
        },
        {
          "output_type": "stream",
          "name": "stdout",
          "text": [
            "0\n",
            "skipping features.denseblock4.denselayer1.layers.norm1\n",
            "unsupported operand type(s) for *: 'NoneType' and 'float'\n"
          ]
        },
        {
          "output_type": "stream",
          "name": "stderr",
          "text": [
            "Model Layer Loop - features.denseblock4.denselayer1.layers.conv1:  74%|███████▎  | 365/495 [07:30<02:49,  1.30s/it]"
          ]
        },
        {
          "output_type": "stream",
          "name": "stdout",
          "text": [
            "0\n"
          ]
        },
        {
          "output_type": "stream",
          "name": "stderr",
          "text": [
            "Model Layer Loop - features.denseblock4.denselayer1.layers.relu2:  74%|███████▍  | 367/495 [07:31<02:07,  1.00it/s]"
          ]
        },
        {
          "output_type": "stream",
          "name": "stdout",
          "text": [
            "0\n",
            "skipping features.denseblock4.denselayer1.layers.norm2\n",
            "unsupported operand type(s) for *: 'NoneType' and 'float'\n"
          ]
        },
        {
          "output_type": "stream",
          "name": "stderr",
          "text": [
            "Model Layer Loop - features.denseblock4.denselayer1.layers.conv2:  74%|███████▍  | 368/495 [07:33<02:24,  1.13s/it]"
          ]
        },
        {
          "output_type": "stream",
          "name": "stdout",
          "text": [
            "0\n"
          ]
        },
        {
          "output_type": "stream",
          "name": "stderr",
          "text": [
            "Model Layer Loop - features.denseblock4.denselayer2:  75%|███████▍  | 369/495 [07:34<02:35,  1.23s/it]"
          ]
        },
        {
          "output_type": "stream",
          "name": "stdout",
          "text": [
            "0\n"
          ]
        },
        {
          "output_type": "stream",
          "name": "stderr",
          "text": [
            "Model Layer Loop - features.denseblock4.denselayer2.layers:  75%|███████▍  | 370/495 [07:36<02:43,  1.31s/it]"
          ]
        },
        {
          "output_type": "stream",
          "name": "stdout",
          "text": [
            "0\n"
          ]
        },
        {
          "output_type": "stream",
          "name": "stderr",
          "text": [
            "Model Layer Loop - features.denseblock4.denselayer2.layers.relu1:  75%|███████▌  | 372/495 [07:37<02:02,  1.01it/s]"
          ]
        },
        {
          "output_type": "stream",
          "name": "stdout",
          "text": [
            "0\n",
            "skipping features.denseblock4.denselayer2.layers.norm1\n",
            "unsupported operand type(s) for *: 'NoneType' and 'float'\n"
          ]
        },
        {
          "output_type": "stream",
          "name": "stderr",
          "text": [
            "Model Layer Loop - features.denseblock4.denselayer2.layers.conv1:  75%|███████▌  | 373/495 [07:39<02:23,  1.17s/it]"
          ]
        },
        {
          "output_type": "stream",
          "name": "stdout",
          "text": [
            "0\n"
          ]
        },
        {
          "output_type": "stream",
          "name": "stderr",
          "text": [
            "Model Layer Loop - features.denseblock4.denselayer2.layers.relu2:  76%|███████▌  | 375/495 [07:41<02:01,  1.01s/it]"
          ]
        },
        {
          "output_type": "stream",
          "name": "stdout",
          "text": [
            "0\n",
            "skipping features.denseblock4.denselayer2.layers.norm2\n",
            "unsupported operand type(s) for *: 'NoneType' and 'float'\n"
          ]
        },
        {
          "output_type": "stream",
          "name": "stderr",
          "text": [
            "Model Layer Loop - features.denseblock4.denselayer2.layers.conv2:  76%|███████▌  | 376/495 [07:43<02:28,  1.25s/it]"
          ]
        },
        {
          "output_type": "stream",
          "name": "stdout",
          "text": [
            "0\n"
          ]
        },
        {
          "output_type": "stream",
          "name": "stderr",
          "text": [
            "Model Layer Loop - features.denseblock4.denselayer3:  76%|███████▌  | 377/495 [07:44<02:35,  1.32s/it]"
          ]
        },
        {
          "output_type": "stream",
          "name": "stdout",
          "text": [
            "0\n"
          ]
        },
        {
          "output_type": "stream",
          "name": "stderr",
          "text": [
            "Model Layer Loop - features.denseblock4.denselayer3.layers:  76%|███████▋  | 378/495 [07:46<02:39,  1.36s/it]"
          ]
        },
        {
          "output_type": "stream",
          "name": "stdout",
          "text": [
            "0\n"
          ]
        },
        {
          "output_type": "stream",
          "name": "stderr",
          "text": [
            "Model Layer Loop - features.denseblock4.denselayer3.layers.relu1:  77%|███████▋  | 380/495 [07:47<01:58,  1.03s/it]"
          ]
        },
        {
          "output_type": "stream",
          "name": "stdout",
          "text": [
            "0\n",
            "skipping features.denseblock4.denselayer3.layers.norm1\n",
            "unsupported operand type(s) for *: 'NoneType' and 'float'\n"
          ]
        },
        {
          "output_type": "stream",
          "name": "stderr",
          "text": [
            "Model Layer Loop - features.denseblock4.denselayer3.layers.conv1:  77%|███████▋  | 381/495 [07:49<02:12,  1.17s/it]"
          ]
        },
        {
          "output_type": "stream",
          "name": "stdout",
          "text": [
            "0\n"
          ]
        },
        {
          "output_type": "stream",
          "name": "stderr",
          "text": [
            "Model Layer Loop - features.denseblock4.denselayer3.layers.relu2:  77%|███████▋  | 383/495 [07:50<01:44,  1.07it/s]"
          ]
        },
        {
          "output_type": "stream",
          "name": "stdout",
          "text": [
            "0\n",
            "skipping features.denseblock4.denselayer3.layers.norm2\n",
            "unsupported operand type(s) for *: 'NoneType' and 'float'\n"
          ]
        },
        {
          "output_type": "stream",
          "name": "stderr",
          "text": [
            "Model Layer Loop - features.denseblock4.denselayer3.layers.conv2:  78%|███████▊  | 384/495 [07:52<02:01,  1.09s/it]"
          ]
        },
        {
          "output_type": "stream",
          "name": "stdout",
          "text": [
            "0\n"
          ]
        },
        {
          "output_type": "stream",
          "name": "stderr",
          "text": [
            "Model Layer Loop - features.denseblock4.denselayer4:  78%|███████▊  | 385/495 [07:54<02:23,  1.31s/it]"
          ]
        },
        {
          "output_type": "stream",
          "name": "stdout",
          "text": [
            "0\n"
          ]
        },
        {
          "output_type": "stream",
          "name": "stderr",
          "text": [
            "Model Layer Loop - features.denseblock4.denselayer4.layers:  78%|███████▊  | 386/495 [07:56<02:41,  1.48s/it]"
          ]
        },
        {
          "output_type": "stream",
          "name": "stdout",
          "text": [
            "0\n"
          ]
        },
        {
          "output_type": "stream",
          "name": "stderr",
          "text": [
            "Model Layer Loop - features.denseblock4.denselayer4.layers.relu1:  78%|███████▊  | 388/495 [07:57<01:57,  1.10s/it]"
          ]
        },
        {
          "output_type": "stream",
          "name": "stdout",
          "text": [
            "0\n",
            "skipping features.denseblock4.denselayer4.layers.norm1\n",
            "unsupported operand type(s) for *: 'NoneType' and 'float'\n"
          ]
        },
        {
          "output_type": "stream",
          "name": "stderr",
          "text": [
            "Model Layer Loop - features.denseblock4.denselayer4.layers.conv1:  79%|███████▊  | 389/495 [07:59<02:09,  1.22s/it]"
          ]
        },
        {
          "output_type": "stream",
          "name": "stdout",
          "text": [
            "0\n"
          ]
        },
        {
          "output_type": "stream",
          "name": "stderr",
          "text": [
            "Model Layer Loop - features.denseblock4.denselayer4.layers.relu2:  79%|███████▉  | 391/495 [08:00<01:39,  1.05it/s]"
          ]
        },
        {
          "output_type": "stream",
          "name": "stdout",
          "text": [
            "0\n",
            "skipping features.denseblock4.denselayer4.layers.norm2\n",
            "unsupported operand type(s) for *: 'NoneType' and 'float'\n"
          ]
        },
        {
          "output_type": "stream",
          "name": "stderr",
          "text": [
            "Model Layer Loop - features.denseblock4.denselayer4.layers.conv2:  79%|███████▉  | 392/495 [08:02<01:54,  1.12s/it]"
          ]
        },
        {
          "output_type": "stream",
          "name": "stdout",
          "text": [
            "0\n"
          ]
        },
        {
          "output_type": "stream",
          "name": "stderr",
          "text": [
            "Model Layer Loop - features.denseblock4.denselayer5:  79%|███████▉  | 393/495 [08:03<02:05,  1.23s/it]"
          ]
        },
        {
          "output_type": "stream",
          "name": "stdout",
          "text": [
            "0\n"
          ]
        },
        {
          "output_type": "stream",
          "name": "stderr",
          "text": [
            "Model Layer Loop - features.denseblock4.denselayer5.layers:  80%|███████▉  | 394/495 [08:05<02:12,  1.31s/it]"
          ]
        },
        {
          "output_type": "stream",
          "name": "stdout",
          "text": [
            "0\n"
          ]
        },
        {
          "output_type": "stream",
          "name": "stderr",
          "text": [
            "Model Layer Loop - features.denseblock4.denselayer5.layers.norm1:  80%|███████▉  | 395/495 [08:06<02:18,  1.38s/it]"
          ]
        },
        {
          "output_type": "stream",
          "name": "stdout",
          "text": [
            "0\n"
          ]
        },
        {
          "output_type": "stream",
          "name": "stderr",
          "text": [
            "Model Layer Loop - features.denseblock4.denselayer5.layers.relu1:  80%|████████  | 396/495 [08:07<01:42,  1.03s/it]"
          ]
        },
        {
          "output_type": "stream",
          "name": "stdout",
          "text": [
            "skipping features.denseblock4.denselayer5.layers.norm1\n",
            "unsupported operand type(s) for *: 'NoneType' and 'float'\n"
          ]
        },
        {
          "output_type": "stream",
          "name": "stderr",
          "text": [
            "Model Layer Loop - features.denseblock4.denselayer5.layers.conv1:  80%|████████  | 397/495 [08:08<02:05,  1.28s/it]"
          ]
        },
        {
          "output_type": "stream",
          "name": "stdout",
          "text": [
            "0\n"
          ]
        },
        {
          "output_type": "stream",
          "name": "stderr",
          "text": [
            "Model Layer Loop - features.denseblock4.denselayer5.layers.relu2:  81%|████████  | 399/495 [08:11<01:42,  1.07s/it]"
          ]
        },
        {
          "output_type": "stream",
          "name": "stdout",
          "text": [
            "0\n",
            "skipping features.denseblock4.denselayer5.layers.norm2\n",
            "unsupported operand type(s) for *: 'NoneType' and 'float'\n"
          ]
        },
        {
          "output_type": "stream",
          "name": "stderr",
          "text": [
            "Model Layer Loop - features.denseblock4.denselayer5.layers.conv2:  81%|████████  | 400/495 [08:12<01:53,  1.20s/it]"
          ]
        },
        {
          "output_type": "stream",
          "name": "stdout",
          "text": [
            "0\n"
          ]
        },
        {
          "output_type": "stream",
          "name": "stderr",
          "text": [
            "Model Layer Loop - features.denseblock4.denselayer6:  81%|████████  | 401/495 [08:14<02:01,  1.29s/it]"
          ]
        },
        {
          "output_type": "stream",
          "name": "stdout",
          "text": [
            "0\n"
          ]
        },
        {
          "output_type": "stream",
          "name": "stderr",
          "text": [
            "Model Layer Loop - features.denseblock4.denselayer6.layers:  81%|████████  | 402/495 [08:15<02:06,  1.36s/it]"
          ]
        },
        {
          "output_type": "stream",
          "name": "stdout",
          "text": [
            "0\n"
          ]
        },
        {
          "output_type": "stream",
          "name": "stderr",
          "text": [
            "Model Layer Loop - features.denseblock4.denselayer6.layers.relu1:  82%|████████▏ | 404/495 [08:17<01:34,  1.03s/it]"
          ]
        },
        {
          "output_type": "stream",
          "name": "stdout",
          "text": [
            "0\n",
            "skipping features.denseblock4.denselayer6.layers.norm1\n",
            "unsupported operand type(s) for *: 'NoneType' and 'float'\n"
          ]
        },
        {
          "output_type": "stream",
          "name": "stderr",
          "text": [
            "Model Layer Loop - features.denseblock4.denselayer6.layers.conv1:  82%|████████▏ | 405/495 [08:18<01:45,  1.17s/it]"
          ]
        },
        {
          "output_type": "stream",
          "name": "stdout",
          "text": [
            "0\n"
          ]
        },
        {
          "output_type": "stream",
          "name": "stderr",
          "text": [
            "Model Layer Loop - features.denseblock4.denselayer6.layers.relu2:  82%|████████▏ | 407/495 [08:20<01:21,  1.07it/s]"
          ]
        },
        {
          "output_type": "stream",
          "name": "stdout",
          "text": [
            "0\n",
            "skipping features.denseblock4.denselayer6.layers.norm2\n",
            "unsupported operand type(s) for *: 'NoneType' and 'float'\n"
          ]
        },
        {
          "output_type": "stream",
          "name": "stderr",
          "text": [
            "Model Layer Loop - features.denseblock4.denselayer6.layers.conv2:  82%|████████▏ | 408/495 [08:22<01:44,  1.20s/it]"
          ]
        },
        {
          "output_type": "stream",
          "name": "stdout",
          "text": [
            "0\n"
          ]
        },
        {
          "output_type": "stream",
          "name": "stderr",
          "text": [
            "Model Layer Loop - features.denseblock4.denselayer7:  83%|████████▎ | 409/495 [08:24<02:02,  1.43s/it]"
          ]
        },
        {
          "output_type": "stream",
          "name": "stdout",
          "text": [
            "0\n"
          ]
        },
        {
          "output_type": "stream",
          "name": "stderr",
          "text": [
            "Model Layer Loop - features.denseblock4.denselayer7.layers:  83%|████████▎ | 410/495 [08:26<02:14,  1.59s/it]"
          ]
        },
        {
          "output_type": "stream",
          "name": "stdout",
          "text": [
            "0\n"
          ]
        },
        {
          "output_type": "stream",
          "name": "stderr",
          "text": [
            "Model Layer Loop - features.denseblock4.denselayer7.layers.norm1:  83%|████████▎ | 411/495 [08:27<02:20,  1.68s/it]"
          ]
        },
        {
          "output_type": "stream",
          "name": "stdout",
          "text": [
            "0\n"
          ]
        },
        {
          "output_type": "stream",
          "name": "stderr",
          "text": [
            "Model Layer Loop - features.denseblock4.denselayer7.layers.relu1:  83%|████████▎ | 412/495 [08:28<01:43,  1.24s/it]"
          ]
        },
        {
          "output_type": "stream",
          "name": "stdout",
          "text": [
            "skipping features.denseblock4.denselayer7.layers.norm1\n",
            "unsupported operand type(s) for *: 'NoneType' and 'float'\n"
          ]
        },
        {
          "output_type": "stream",
          "name": "stderr",
          "text": [
            "Model Layer Loop - features.denseblock4.denselayer7.layers.conv1:  83%|████████▎ | 413/495 [08:29<01:48,  1.33s/it]"
          ]
        },
        {
          "output_type": "stream",
          "name": "stdout",
          "text": [
            "0\n"
          ]
        },
        {
          "output_type": "stream",
          "name": "stderr",
          "text": [
            "Model Layer Loop - features.denseblock4.denselayer7.layers.relu2:  84%|████████▍ | 415/495 [08:31<01:20,  1.01s/it]"
          ]
        },
        {
          "output_type": "stream",
          "name": "stdout",
          "text": [
            "0\n",
            "skipping features.denseblock4.denselayer7.layers.norm2\n",
            "unsupported operand type(s) for *: 'NoneType' and 'float'\n"
          ]
        },
        {
          "output_type": "stream",
          "name": "stderr",
          "text": [
            "Model Layer Loop - features.denseblock4.denselayer7.layers.conv2:  84%|████████▍ | 416/495 [08:32<01:31,  1.16s/it]"
          ]
        },
        {
          "output_type": "stream",
          "name": "stdout",
          "text": [
            "0\n"
          ]
        },
        {
          "output_type": "stream",
          "name": "stderr",
          "text": [
            "Model Layer Loop - features.denseblock4.denselayer8:  84%|████████▍ | 417/495 [08:34<01:38,  1.26s/it]"
          ]
        },
        {
          "output_type": "stream",
          "name": "stdout",
          "text": [
            "0\n"
          ]
        },
        {
          "output_type": "stream",
          "name": "stderr",
          "text": [
            "Model Layer Loop - features.denseblock4.denselayer8.layers:  84%|████████▍ | 418/495 [08:36<01:46,  1.39s/it]"
          ]
        },
        {
          "output_type": "stream",
          "name": "stdout",
          "text": [
            "0\n"
          ]
        },
        {
          "output_type": "stream",
          "name": "stderr",
          "text": [
            "Model Layer Loop - features.denseblock4.denselayer8.layers.norm1:  85%|████████▍ | 420/495 [08:38<01:25,  1.14s/it]"
          ]
        },
        {
          "output_type": "stream",
          "name": "stdout",
          "text": [
            "0\n",
            "skipping features.denseblock4.denselayer8.layers.norm1\n",
            "unsupported operand type(s) for *: 'NoneType' and 'float'\n"
          ]
        },
        {
          "output_type": "stream",
          "name": "stderr",
          "text": [
            "Model Layer Loop - features.denseblock4.denselayer8.layers.conv1:  85%|████████▌ | 421/495 [08:39<01:36,  1.31s/it]"
          ]
        },
        {
          "output_type": "stream",
          "name": "stdout",
          "text": [
            "0\n"
          ]
        },
        {
          "output_type": "stream",
          "name": "stderr",
          "text": [
            "Model Layer Loop - features.denseblock4.denselayer8.layers.relu2:  85%|████████▌ | 423/495 [08:41<01:12,  1.00s/it]"
          ]
        },
        {
          "output_type": "stream",
          "name": "stdout",
          "text": [
            "0\n",
            "skipping features.denseblock4.denselayer8.layers.norm2\n",
            "unsupported operand type(s) for *: 'NoneType' and 'float'\n"
          ]
        },
        {
          "output_type": "stream",
          "name": "stderr",
          "text": [
            "Model Layer Loop - features.denseblock4.denselayer8.layers.conv2:  86%|████████▌ | 424/495 [08:43<01:22,  1.16s/it]"
          ]
        },
        {
          "output_type": "stream",
          "name": "stdout",
          "text": [
            "0\n"
          ]
        },
        {
          "output_type": "stream",
          "name": "stderr",
          "text": [
            "Model Layer Loop - features.denseblock4.denselayer9:  86%|████████▌ | 425/495 [08:44<01:28,  1.26s/it]"
          ]
        },
        {
          "output_type": "stream",
          "name": "stdout",
          "text": [
            "0\n"
          ]
        },
        {
          "output_type": "stream",
          "name": "stderr",
          "text": [
            "Model Layer Loop - features.denseblock4.denselayer9.layers:  86%|████████▌ | 426/495 [08:46<01:31,  1.33s/it]"
          ]
        },
        {
          "output_type": "stream",
          "name": "stdout",
          "text": [
            "0\n"
          ]
        },
        {
          "output_type": "stream",
          "name": "stderr",
          "text": [
            "Model Layer Loop - features.denseblock4.denselayer9.layers.relu1:  86%|████████▋ | 428/495 [08:47<01:07,  1.01s/it]"
          ]
        },
        {
          "output_type": "stream",
          "name": "stdout",
          "text": [
            "0\n",
            "skipping features.denseblock4.denselayer9.layers.norm1\n",
            "unsupported operand type(s) for *: 'NoneType' and 'float'\n"
          ]
        },
        {
          "output_type": "stream",
          "name": "stderr",
          "text": [
            "Model Layer Loop - features.denseblock4.denselayer9.layers.conv1:  87%|████████▋ | 429/495 [08:49<01:17,  1.18s/it]"
          ]
        },
        {
          "output_type": "stream",
          "name": "stdout",
          "text": [
            "0\n"
          ]
        },
        {
          "output_type": "stream",
          "name": "stderr",
          "text": [
            "Model Layer Loop - features.denseblock4.denselayer9.layers.relu2:  87%|████████▋ | 431/495 [08:51<01:05,  1.03s/it]"
          ]
        },
        {
          "output_type": "stream",
          "name": "stdout",
          "text": [
            "0\n",
            "skipping features.denseblock4.denselayer9.layers.norm2\n",
            "unsupported operand type(s) for *: 'NoneType' and 'float'\n"
          ]
        },
        {
          "output_type": "stream",
          "name": "stderr",
          "text": [
            "Model Layer Loop - features.denseblock4.denselayer9.layers.conv2:  87%|████████▋ | 432/495 [08:53<01:21,  1.30s/it]"
          ]
        },
        {
          "output_type": "stream",
          "name": "stdout",
          "text": [
            "0\n"
          ]
        },
        {
          "output_type": "stream",
          "name": "stderr",
          "text": [
            "Model Layer Loop - features.denseblock4.denselayer10:  87%|████████▋ | 433/495 [08:54<01:25,  1.37s/it]"
          ]
        },
        {
          "output_type": "stream",
          "name": "stdout",
          "text": [
            "0\n"
          ]
        },
        {
          "output_type": "stream",
          "name": "stderr",
          "text": [
            "Model Layer Loop - features.denseblock4.denselayer10.layers:  88%|████████▊ | 434/495 [08:56<01:25,  1.41s/it]"
          ]
        },
        {
          "output_type": "stream",
          "name": "stdout",
          "text": [
            "0\n"
          ]
        },
        {
          "output_type": "stream",
          "name": "stderr",
          "text": [
            "Model Layer Loop - features.denseblock4.denselayer10.layers.relu1:  88%|████████▊ | 436/495 [08:57<01:02,  1.05s/it]"
          ]
        },
        {
          "output_type": "stream",
          "name": "stdout",
          "text": [
            "0\n",
            "skipping features.denseblock4.denselayer10.layers.norm1\n",
            "unsupported operand type(s) for *: 'NoneType' and 'float'\n"
          ]
        },
        {
          "output_type": "stream",
          "name": "stderr",
          "text": [
            "Model Layer Loop - features.denseblock4.denselayer10.layers.conv1:  88%|████████▊ | 437/495 [08:59<01:09,  1.19s/it]"
          ]
        },
        {
          "output_type": "stream",
          "name": "stdout",
          "text": [
            "0\n"
          ]
        },
        {
          "output_type": "stream",
          "name": "stderr",
          "text": [
            "Model Layer Loop - features.denseblock4.denselayer10.layers.relu2:  89%|████████▊ | 439/495 [09:01<00:52,  1.06it/s]"
          ]
        },
        {
          "output_type": "stream",
          "name": "stdout",
          "text": [
            "0\n",
            "skipping features.denseblock4.denselayer10.layers.norm2\n",
            "unsupported operand type(s) for *: 'NoneType' and 'float'\n"
          ]
        },
        {
          "output_type": "stream",
          "name": "stderr",
          "text": [
            "Model Layer Loop - features.denseblock4.denselayer10.layers.conv2:  89%|████████▉ | 440/495 [09:02<01:01,  1.11s/it]"
          ]
        },
        {
          "output_type": "stream",
          "name": "stdout",
          "text": [
            "0\n"
          ]
        },
        {
          "output_type": "stream",
          "name": "stderr",
          "text": [
            "Model Layer Loop - features.denseblock4.denselayer11:  89%|████████▉ | 441/495 [09:04<01:11,  1.33s/it]"
          ]
        },
        {
          "output_type": "stream",
          "name": "stdout",
          "text": [
            "0\n"
          ]
        },
        {
          "output_type": "stream",
          "name": "stderr",
          "text": [
            "Model Layer Loop - features.denseblock4.denselayer11.layers:  89%|████████▉ | 442/495 [09:06<01:19,  1.50s/it]"
          ]
        },
        {
          "output_type": "stream",
          "name": "stdout",
          "text": [
            "0\n"
          ]
        },
        {
          "output_type": "stream",
          "name": "stderr",
          "text": [
            "Model Layer Loop - features.denseblock4.denselayer11.layers.relu1:  90%|████████▉ | 444/495 [09:08<00:57,  1.12s/it]"
          ]
        },
        {
          "output_type": "stream",
          "name": "stdout",
          "text": [
            "0\n",
            "skipping features.denseblock4.denselayer11.layers.norm1\n",
            "unsupported operand type(s) for *: 'NoneType' and 'float'\n"
          ]
        },
        {
          "output_type": "stream",
          "name": "stderr",
          "text": [
            "Model Layer Loop - features.denseblock4.denselayer11.layers.conv1:  90%|████████▉ | 445/495 [09:09<01:01,  1.23s/it]"
          ]
        },
        {
          "output_type": "stream",
          "name": "stdout",
          "text": [
            "0\n"
          ]
        },
        {
          "output_type": "stream",
          "name": "stderr",
          "text": [
            "Model Layer Loop - features.denseblock4.denselayer11.layers.relu2:  90%|█████████ | 447/495 [09:11<00:46,  1.03it/s]"
          ]
        },
        {
          "output_type": "stream",
          "name": "stdout",
          "text": [
            "0\n",
            "skipping features.denseblock4.denselayer11.layers.norm2\n",
            "unsupported operand type(s) for *: 'NoneType' and 'float'\n"
          ]
        },
        {
          "output_type": "stream",
          "name": "stderr",
          "text": [
            "Model Layer Loop - features.denseblock4.denselayer11.layers.conv2:  91%|█████████ | 448/495 [09:12<00:53,  1.14s/it]"
          ]
        },
        {
          "output_type": "stream",
          "name": "stdout",
          "text": [
            "0\n"
          ]
        },
        {
          "output_type": "stream",
          "name": "stderr",
          "text": [
            "Model Layer Loop - features.denseblock4.denselayer12:  91%|█████████ | 449/495 [09:14<00:57,  1.25s/it]"
          ]
        },
        {
          "output_type": "stream",
          "name": "stdout",
          "text": [
            "0\n"
          ]
        },
        {
          "output_type": "stream",
          "name": "stderr",
          "text": [
            "Model Layer Loop - features.denseblock4.denselayer12.layers:  91%|█████████ | 450/495 [09:15<00:59,  1.33s/it]"
          ]
        },
        {
          "output_type": "stream",
          "name": "stdout",
          "text": [
            "0\n"
          ]
        },
        {
          "output_type": "stream",
          "name": "stderr",
          "text": [
            "Model Layer Loop - features.denseblock4.denselayer12.layers.norm1:  91%|█████████ | 451/495 [09:17<01:02,  1.41s/it]"
          ]
        },
        {
          "output_type": "stream",
          "name": "stdout",
          "text": [
            "0\n"
          ]
        },
        {
          "output_type": "stream",
          "name": "stderr",
          "text": [
            "Model Layer Loop - features.denseblock4.denselayer12.layers.relu1:  91%|█████████▏| 452/495 [09:17<00:45,  1.06s/it]"
          ]
        },
        {
          "output_type": "stream",
          "name": "stdout",
          "text": [
            "skipping features.denseblock4.denselayer12.layers.norm1\n",
            "unsupported operand type(s) for *: 'NoneType' and 'float'\n"
          ]
        },
        {
          "output_type": "stream",
          "name": "stderr",
          "text": [
            "Model Layer Loop - features.denseblock4.denselayer12.layers.conv1:  92%|█████████▏| 453/495 [09:19<00:54,  1.30s/it]"
          ]
        },
        {
          "output_type": "stream",
          "name": "stdout",
          "text": [
            "0\n"
          ]
        },
        {
          "output_type": "stream",
          "name": "stderr",
          "text": [
            "Model Layer Loop - features.denseblock4.denselayer12.layers.relu2:  92%|█████████▏| 455/495 [09:21<00:43,  1.08s/it]"
          ]
        },
        {
          "output_type": "stream",
          "name": "stdout",
          "text": [
            "0\n",
            "skipping features.denseblock4.denselayer12.layers.norm2\n",
            "unsupported operand type(s) for *: 'NoneType' and 'float'\n"
          ]
        },
        {
          "output_type": "stream",
          "name": "stderr",
          "text": [
            "Model Layer Loop - features.denseblock4.denselayer12.layers.conv2:  92%|█████████▏| 456/495 [09:23<00:48,  1.26s/it]"
          ]
        },
        {
          "output_type": "stream",
          "name": "stdout",
          "text": [
            "0\n"
          ]
        },
        {
          "output_type": "stream",
          "name": "stderr",
          "text": [
            "Model Layer Loop - features.denseblock4.denselayer13:  92%|█████████▏| 457/495 [09:25<00:54,  1.44s/it]"
          ]
        },
        {
          "output_type": "stream",
          "name": "stdout",
          "text": [
            "0\n"
          ]
        },
        {
          "output_type": "stream",
          "name": "stderr",
          "text": [
            "Model Layer Loop - features.denseblock4.denselayer13.layers:  93%|█████████▎| 458/495 [09:27<01:00,  1.64s/it]"
          ]
        },
        {
          "output_type": "stream",
          "name": "stdout",
          "text": [
            "0\n"
          ]
        },
        {
          "output_type": "stream",
          "name": "stderr",
          "text": [
            "Model Layer Loop - features.denseblock4.denselayer13.layers.relu1:  93%|█████████▎| 460/495 [09:29<00:43,  1.23s/it]"
          ]
        },
        {
          "output_type": "stream",
          "name": "stdout",
          "text": [
            "0\n",
            "skipping features.denseblock4.denselayer13.layers.norm1\n",
            "unsupported operand type(s) for *: 'NoneType' and 'float'\n"
          ]
        },
        {
          "output_type": "stream",
          "name": "stderr",
          "text": [
            "Model Layer Loop - features.denseblock4.denselayer13.layers.conv1:  93%|█████████▎| 461/495 [09:31<00:48,  1.44s/it]"
          ]
        },
        {
          "output_type": "stream",
          "name": "stdout",
          "text": [
            "0\n"
          ]
        },
        {
          "output_type": "stream",
          "name": "stderr",
          "text": [
            "Model Layer Loop - features.denseblock4.denselayer13.layers.norm2:  93%|█████████▎| 462/495 [09:33<00:57,  1.75s/it]"
          ]
        },
        {
          "output_type": "stream",
          "name": "stdout",
          "text": [
            "0\n"
          ]
        },
        {
          "output_type": "stream",
          "name": "stderr",
          "text": [
            "Model Layer Loop - features.denseblock4.denselayer13.layers.relu2:  94%|█████████▎| 463/495 [09:33<00:41,  1.30s/it]"
          ]
        },
        {
          "output_type": "stream",
          "name": "stdout",
          "text": [
            "skipping features.denseblock4.denselayer13.layers.norm2\n",
            "unsupported operand type(s) for *: 'NoneType' and 'float'\n"
          ]
        },
        {
          "output_type": "stream",
          "name": "stderr",
          "text": [
            "Model Layer Loop - features.denseblock4.denselayer13.layers.conv2:  94%|█████████▎| 464/495 [09:36<00:51,  1.67s/it]"
          ]
        },
        {
          "output_type": "stream",
          "name": "stdout",
          "text": [
            "0\n"
          ]
        },
        {
          "output_type": "stream",
          "name": "stderr",
          "text": [
            "Model Layer Loop - features.denseblock4.denselayer14:  94%|█████████▍| 465/495 [09:38<00:52,  1.76s/it]"
          ]
        },
        {
          "output_type": "stream",
          "name": "stdout",
          "text": [
            "0\n"
          ]
        },
        {
          "output_type": "stream",
          "name": "stderr",
          "text": [
            "Model Layer Loop - features.denseblock4.denselayer14.layers:  94%|█████████▍| 466/495 [09:40<00:52,  1.80s/it]"
          ]
        },
        {
          "output_type": "stream",
          "name": "stdout",
          "text": [
            "0\n"
          ]
        },
        {
          "output_type": "stream",
          "name": "stderr",
          "text": [
            "Model Layer Loop - features.denseblock4.denselayer14.layers.relu1:  95%|█████████▍| 468/495 [09:41<00:33,  1.24s/it]"
          ]
        },
        {
          "output_type": "stream",
          "name": "stdout",
          "text": [
            "0\n",
            "skipping features.denseblock4.denselayer14.layers.norm1\n",
            "unsupported operand type(s) for *: 'NoneType' and 'float'\n"
          ]
        },
        {
          "output_type": "stream",
          "name": "stderr",
          "text": [
            "Model Layer Loop - features.denseblock4.denselayer14.layers.conv1:  95%|█████████▍| 469/495 [09:43<00:34,  1.33s/it]"
          ]
        },
        {
          "output_type": "stream",
          "name": "stdout",
          "text": [
            "0\n"
          ]
        },
        {
          "output_type": "stream",
          "name": "stderr",
          "text": [
            "Model Layer Loop - features.denseblock4.denselayer14.layers.relu2:  95%|█████████▌| 471/495 [09:45<00:24,  1.02s/it]"
          ]
        },
        {
          "output_type": "stream",
          "name": "stdout",
          "text": [
            "0\n",
            "skipping features.denseblock4.denselayer14.layers.norm2\n",
            "unsupported operand type(s) for *: 'NoneType' and 'float'\n"
          ]
        },
        {
          "output_type": "stream",
          "name": "stderr",
          "text": [
            "Model Layer Loop - features.denseblock4.denselayer14.layers.conv2:  95%|█████████▌| 472/495 [09:46<00:29,  1.26s/it]"
          ]
        },
        {
          "output_type": "stream",
          "name": "stdout",
          "text": [
            "0\n"
          ]
        },
        {
          "output_type": "stream",
          "name": "stderr",
          "text": [
            "Model Layer Loop - features.denseblock4.denselayer15:  96%|█████████▌| 473/495 [09:48<00:32,  1.47s/it]"
          ]
        },
        {
          "output_type": "stream",
          "name": "stdout",
          "text": [
            "0\n"
          ]
        },
        {
          "output_type": "stream",
          "name": "stderr",
          "text": [
            "Model Layer Loop - features.denseblock4.denselayer15.layers:  96%|█████████▌| 474/495 [09:50<00:32,  1.56s/it]"
          ]
        },
        {
          "output_type": "stream",
          "name": "stdout",
          "text": [
            "0\n"
          ]
        },
        {
          "output_type": "stream",
          "name": "stderr",
          "text": [
            "Model Layer Loop - features.denseblock4.denselayer15.layers.relu1:  96%|█████████▌| 476/495 [09:52<00:21,  1.15s/it]"
          ]
        },
        {
          "output_type": "stream",
          "name": "stdout",
          "text": [
            "0\n",
            "skipping features.denseblock4.denselayer15.layers.norm1\n",
            "unsupported operand type(s) for *: 'NoneType' and 'float'\n"
          ]
        },
        {
          "output_type": "stream",
          "name": "stderr",
          "text": [
            "Model Layer Loop - features.denseblock4.denselayer15.layers.conv1:  96%|█████████▋| 477/495 [09:54<00:22,  1.28s/it]"
          ]
        },
        {
          "output_type": "stream",
          "name": "stdout",
          "text": [
            "0\n"
          ]
        },
        {
          "output_type": "stream",
          "name": "stderr",
          "text": [
            "Model Layer Loop - features.denseblock4.denselayer15.layers.relu2:  97%|█████████▋| 479/495 [09:55<00:16,  1.01s/it]"
          ]
        },
        {
          "output_type": "stream",
          "name": "stdout",
          "text": [
            "0\n",
            "skipping features.denseblock4.denselayer15.layers.norm2\n",
            "unsupported operand type(s) for *: 'NoneType' and 'float'\n"
          ]
        },
        {
          "output_type": "stream",
          "name": "stderr",
          "text": [
            "Model Layer Loop - features.denseblock4.denselayer15.layers.conv2:  97%|█████████▋| 480/495 [09:57<00:17,  1.17s/it]"
          ]
        },
        {
          "output_type": "stream",
          "name": "stdout",
          "text": [
            "0\n"
          ]
        },
        {
          "output_type": "stream",
          "name": "stderr",
          "text": [
            "Model Layer Loop - features.denseblock4.denselayer16:  97%|█████████▋| 481/495 [09:58<00:18,  1.29s/it]"
          ]
        },
        {
          "output_type": "stream",
          "name": "stdout",
          "text": [
            "0\n"
          ]
        },
        {
          "output_type": "stream",
          "name": "stderr",
          "text": [
            "Model Layer Loop - features.denseblock4.denselayer16.layers:  97%|█████████▋| 482/495 [10:00<00:18,  1.40s/it]"
          ]
        },
        {
          "output_type": "stream",
          "name": "stdout",
          "text": [
            "0\n"
          ]
        },
        {
          "output_type": "stream",
          "name": "stderr",
          "text": [
            "Model Layer Loop - features.denseblock4.denselayer16.layers.norm1:  98%|█████████▊| 483/495 [10:02<00:18,  1.55s/it]"
          ]
        },
        {
          "output_type": "stream",
          "name": "stdout",
          "text": [
            "0\n"
          ]
        },
        {
          "output_type": "stream",
          "name": "stderr",
          "text": [
            "Model Layer Loop - features.denseblock4.denselayer16.layers.relu1:  98%|█████████▊| 484/495 [10:02<00:12,  1.16s/it]"
          ]
        },
        {
          "output_type": "stream",
          "name": "stdout",
          "text": [
            "skipping features.denseblock4.denselayer16.layers.norm1\n",
            "unsupported operand type(s) for *: 'NoneType' and 'float'\n"
          ]
        },
        {
          "output_type": "stream",
          "name": "stderr",
          "text": [
            "Model Layer Loop - features.denseblock4.denselayer16.layers.conv1:  98%|█████████▊| 485/495 [10:04<00:14,  1.43s/it]"
          ]
        },
        {
          "output_type": "stream",
          "name": "stdout",
          "text": [
            "0\n"
          ]
        },
        {
          "output_type": "stream",
          "name": "stderr",
          "text": [
            "Model Layer Loop - features.denseblock4.denselayer16.layers.relu2:  98%|█████████▊| 487/495 [10:06<00:08,  1.10s/it]"
          ]
        },
        {
          "output_type": "stream",
          "name": "stdout",
          "text": [
            "0\n",
            "skipping features.denseblock4.denselayer16.layers.norm2\n",
            "unsupported operand type(s) for *: 'NoneType' and 'float'\n"
          ]
        },
        {
          "output_type": "stream",
          "name": "stderr",
          "text": [
            "Model Layer Loop - features.denseblock4.denselayer16.layers.conv2:  99%|█████████▊| 488/495 [10:08<00:08,  1.28s/it]"
          ]
        },
        {
          "output_type": "stream",
          "name": "stdout",
          "text": [
            "0\n"
          ]
        },
        {
          "output_type": "stream",
          "name": "stderr",
          "text": [
            "Model Layer Loop - class_layers:  99%|█████████▉| 490/495 [10:10<00:05,  1.00s/it]"
          ]
        },
        {
          "output_type": "stream",
          "name": "stdout",
          "text": [
            "0\n",
            "skipping features.norm5\n",
            "unsupported operand type(s) for *: 'NoneType' and 'float'\n"
          ]
        },
        {
          "output_type": "stream",
          "name": "stderr",
          "text": [
            "Model Layer Loop - class_layers.relu:  99%|█████████▉| 491/495 [10:11<00:04,  1.18s/it]"
          ]
        },
        {
          "output_type": "stream",
          "name": "stdout",
          "text": [
            "0\n"
          ]
        },
        {
          "output_type": "stream",
          "name": "stderr",
          "text": [
            "Model Layer Loop - class_layers.pool:  99%|█████████▉| 492/495 [10:13<00:03,  1.31s/it]"
          ]
        },
        {
          "output_type": "stream",
          "name": "stdout",
          "text": [
            "0\n"
          ]
        },
        {
          "output_type": "stream",
          "name": "stderr",
          "text": [
            "Model Layer Loop - class_layers.flatten: 100%|█████████▉| 493/495 [10:14<00:02,  1.43s/it]"
          ]
        },
        {
          "output_type": "stream",
          "name": "stdout",
          "text": [
            "0\n"
          ]
        },
        {
          "output_type": "stream",
          "name": "stderr",
          "text": [
            "Model Layer Loop - class_layers.out: 100%|█████████▉| 494/495 [10:16<00:01,  1.59s/it]"
          ]
        },
        {
          "output_type": "stream",
          "name": "stdout",
          "text": [
            "0\n"
          ]
        },
        {
          "output_type": "stream",
          "name": "stderr",
          "text": [
            "Model Layer Loop - class_layers.out: 100%|██████████| 495/495 [10:18<00:00,  1.25s/it]"
          ]
        },
        {
          "output_type": "stream",
          "name": "stdout",
          "text": [
            "0\n"
          ]
        },
        {
          "output_type": "stream",
          "name": "stderr",
          "text": [
            "\n"
          ]
        }
      ]
    },
    {
      "cell_type": "code",
      "source": [],
      "metadata": {
        "id": "bwyUGwWfWUOi"
      },
      "execution_count": null,
      "outputs": []
    }
  ],
  "metadata": {
    "kernelspec": {
      "display_name": "Python 3 (ipykernel)",
      "language": "python",
      "name": "python3"
    },
    "language_info": {
      "codemirror_mode": {
        "name": "ipython",
        "version": 3
      },
      "file_extension": ".py",
      "mimetype": "text/x-python",
      "name": "python",
      "nbconvert_exporter": "python",
      "pygments_lexer": "ipython3",
      "version": "3.8.13"
    },
    "colab": {
      "provenance": [],
      "toc_visible": true
    },
    "accelerator": "GPU",
    "gpuClass": "standard"
  },
  "nbformat": 4,
  "nbformat_minor": 0
}