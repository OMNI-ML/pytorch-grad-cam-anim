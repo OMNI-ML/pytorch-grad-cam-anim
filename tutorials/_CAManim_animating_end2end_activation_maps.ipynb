{
  "cells": [
    {
      "cell_type": "markdown",
      "metadata": {
        "id": "jVLE97nslph7"
      },
      "source": [
        "# Animating End-to-End Network Actication Maps\n",
        "\n",
        "Authors: Emily Kaczmarek, Olivier Miguel, Kevin Dick\n",
        "\n",
        "---\n",
        "\n",
        "#### Resources:\n",
        "* GitHub repo to push our changes to: https://github.com/jacobgil/pytorch-grad-cam\n",
        "* Command for ffmpeg: `ffmpeg -framerate 5 -pattern_type glob -i \"*.png\" -c:v libx264 -r 30 -vf \"scale=1200:-2,format=yuv420p\" -movflags +faststart output.mp4`\n",
        "\n",
        "TODO: write fancy things here\n",
        "\n",
        "#### Hackathon Day 1:\n",
        "* Determine a few example benchmark image datasets that we demo\n",
        "  * MNIST\n",
        "  * whatever GradCAM paper used\n",
        "  * Anotherrrrr\n",
        "* Determine what pre-trained model architecture we use:\n",
        " * DenseNet (no isses in layer name\n",
        "\n"
      ]
    },
    {
      "cell_type": "markdown",
      "metadata": {
        "id": "avy6xv6_lv5G"
      },
      "source": [
        "# Enironment setup"
      ]
    },
    {
      "cell_type": "markdown",
      "metadata": {},
      "source": [
        "## Colab"
      ]
    },
    {
      "cell_type": "markdown",
      "metadata": {},
      "source": [
        "For colab we need to:\n",
        "1. clone the repo\n",
        "2. Define google drive location"
      ]
    },
    {
      "cell_type": "markdown",
      "metadata": {},
      "source": [
        "We connect google drive to save the generated CAManim picutres and videos. The root of the save directory is defined by the variable `save_root`"
      ]
    },
    {
      "cell_type": "code",
      "execution_count": null,
      "metadata": {
        "colab": {
          "base_uri": "https://localhost:8080/"
        },
        "id": "iKG-aSpHZqmH",
        "outputId": "478c5d5c-bd43-4030-8dd9-a533c56202fd"
      },
      "outputs": [],
      "source": [
        "!git clone https://github.com/OMNI-ML/pytorch-grad-cam-anim.git\n",
        "!ls"
      ]
    },
    {
      "cell_type": "code",
      "execution_count": null,
      "metadata": {
        "colab": {
          "base_uri": "https://localhost:8080/"
        },
        "id": "gUIsrBJncYx7",
        "outputId": "ff3d9d4d-d60e-4333-a5e7-74e61a408831"
      },
      "outputs": [],
      "source": [
        "# the % command makes the cd last beyond this cell / line\n",
        "%cd pytorch-grad-cam-anim\n",
        "!ls\n",
        "!git checkout adapt-basecam-to-support-cam_anim"
      ]
    },
    {
      "cell_type": "code",
      "execution_count": null,
      "metadata": {
        "colab": {
          "base_uri": "https://localhost:8080/"
        },
        "id": "XZIKGQ1m45gi",
        "outputId": "d7742fe6-a49f-40a1-b5c4-a9591241c6f9"
      },
      "outputs": [],
      "source": [
        "# useful to check the last commits and ensure recent changes are there\n",
        "!git log --oneline --max-count=10 # --reverse"
      ]
    },
    {
      "cell_type": "code",
      "execution_count": null,
      "metadata": {
        "id": "RmqogkpKo78O"
      },
      "outputs": [],
      "source": [
        "%load_ext memory_profiler"
      ]
    },
    {
      "cell_type": "markdown",
      "metadata": {},
      "source": [
        "## Output Directory"
      ]
    },
    {
      "cell_type": "code",
      "execution_count": null,
      "metadata": {},
      "outputs": [],
      "source": [
        "from pathlib import Path"
      ]
    },
    {
      "cell_type": "markdown",
      "metadata": {},
      "source": [
        "### Colab + GDrive"
      ]
    },
    {
      "cell_type": "code",
      "execution_count": null,
      "metadata": {},
      "outputs": [],
      "source": [
        "from google.colab import drive\n",
        "# drive.mount(\"/content/gdrive\", force_remount=True)\n",
        "drive.mount(\"/content/gdrive\")\n",
        "drive_path = '/content/gdrive/MyDrive'"
      ]
    },
    {
      "cell_type": "markdown",
      "metadata": {},
      "source": [
        "### local"
      ]
    },
    {
      "cell_type": "code",
      "execution_count": null,
      "metadata": {},
      "outputs": [],
      "source": [
        "drive_path = '.'\n",
        "save_root = Path(drive_path) / \"starCAManim\"\n",
        "save_root.mkdir(parents=True, exist_ok=True)\n",
        "print(f\"save_root: {save_root.resolve()}\")"
      ]
    },
    {
      "cell_type": "markdown",
      "metadata": {},
      "source": [
        "## Base\n",
        "\n",
        "Base packages / requirements needed to run notebook"
      ]
    },
    {
      "cell_type": "code",
      "execution_count": null,
      "metadata": {},
      "outputs": [],
      "source": [
        "# conda create --name myenv python=3"
      ]
    },
    {
      "cell_type": "code",
      "execution_count": null,
      "metadata": {},
      "outputs": [],
      "source": [
        "# when you run this notebook locally, the current directory is the one where the notebook is.\n",
        "# this command changes the current directory to the repository root\n",
        "%cd ../\n",
        "!dir"
      ]
    },
    {
      "cell_type": "code",
      "execution_count": null,
      "metadata": {},
      "outputs": [],
      "source": [
        "# !python setup.py install - avoid this\n",
        "!pip install . #-e ??\n",
        "!pip install -r requirements_CAManim.txt\n",
        "# !pip install ffmpeg-python"
      ]
    },
    {
      "cell_type": "code",
      "execution_count": null,
      "metadata": {},
      "outputs": [],
      "source": [
        "bundles_dir = Path(\"./bundles\")"
      ]
    },
    {
      "cell_type": "code",
      "execution_count": null,
      "metadata": {},
      "outputs": [],
      "source": [
        "bundles_dir = Path(\"./bundles\")\n",
        "!python -m monai.bundle download \"breast_density_classification\" --bundle_dir \"./bundles/\""
      ]
    },
    {
      "cell_type": "code",
      "execution_count": null,
      "metadata": {},
      "outputs": [],
      "source": [
        "import json\n",
        "import numpy as np\n",
        "import cv2\n",
        "from PIL import Image\n",
        "import requests\n",
        "from pytorch_grad_cam.utils.image import preprocess_image\n",
        "from tqdm import tqdm\n",
        "import torch\n",
        "import pandas as pd\n",
        "\n",
        "from monai.networks.nets import TorchVisionFCModel"
      ]
    },
    {
      "cell_type": "markdown",
      "metadata": {
        "id": "qR1lmtLVl0De"
      },
      "source": [
        "# Load image/data"
      ]
    },
    {
      "cell_type": "markdown",
      "metadata": {
        "id": "vM_IvUluiI0i"
      },
      "source": [
        "bear image"
      ]
    },
    {
      "cell_type": "code",
      "execution_count": null,
      "metadata": {
        "colab": {
          "base_uri": "https://localhost:8080/"
        },
        "id": "13bKPUQbjqFv",
        "outputId": "91b3942b-e862-4a99-b681-76495a9d0099"
      },
      "outputs": [],
      "source": [
        "image_url = \"https://th.bing.com/th/id/R.94b33a074b9ceeb27b1c7fba0f66db74?rik=wN27mvigyFlXGg&riu=http%3a%2f%2fimages5.fanpop.com%2fimage%2fphotos%2f31400000%2fBear-Wallpaper-bears-31446777-1600-1200.jpg&ehk=oD0JPpRVTZZ6yizZtGQtnsBGK2pAap2xv3sU3A4bIMc%3d&risl=&pid=ImgRaw&r=0\"\n",
        "img = np.array(Image.open(requests.get(image_url, stream=True).raw))\n",
        "img = cv2.resize(img, (224, 224))\n",
        "img = np.float32(img) / 255\n",
        "input_tensor = preprocess_image(img, mean=[0.485, 0.456, 0.406], std=[0.229, 0.224, 0.225])\n",
        "input_tensor.shape"
      ]
    },
    {
      "cell_type": "markdown",
      "metadata": {
        "id": "-IvmB5OthrdE"
      },
      "source": [
        "breast image"
      ]
    },
    {
      "cell_type": "code",
      "execution_count": null,
      "metadata": {
        "colab": {
          "base_uri": "https://localhost:8080/"
        },
        "id": "pkOOQVbchrKT",
        "outputId": "2e9620bf-68ae-41bd-a27b-7c0a8c40731b"
      },
      "outputs": [],
      "source": [
        "image_pth = bundles_dir / \"breast_density_classification/sample_data/A/sample_A1.jpg\"\n",
        "img = np.array(Image.open(image_pth))\n",
        "img = cv2.resize(img, (299, 299))\n",
        "print(np.max(img))\n",
        "print(np.min(img))\n",
        "# img = np.float32(img) / np.max(img)\n",
        "input_tensor = preprocess_image(img)#, mean=[0.485, 0.456, 0.406], std=[0.229, 0.224, 0.225])\n",
        "print(input_tensor.min())\n",
        "print(input_tensor.max())\n",
        "input_tensor.shape"
      ]
    },
    {
      "cell_type": "markdown",
      "metadata": {
        "id": "kQUxmCDHl4o-"
      },
      "source": [
        "# Define CAM list"
      ]
    },
    {
      "cell_type": "code",
      "execution_count": null,
      "metadata": {
        "id": "N9wmDAABm0UC"
      },
      "outputs": [],
      "source": [
        "# from pytorch_grad_cam import GradCAM, GradCAMPlusPlus, EigenGradCAM, AblationCAM, RandomCAM\n",
        "from pytorch_grad_cam import EigenCAM, \\\n",
        "                              EigenGradCAM, \\\n",
        "                              FullGrad, \\\n",
        "                              GradCAM, \\\n",
        "                              GradCAMElementWise, \\\n",
        "                              GradCAMPlusPlus, \\\n",
        "                              HiResCAM, \\\n",
        "                              LayerCAM, \\\n",
        "                              RandomCAM, \\\n",
        "                              ScoreCAM, \\\n",
        "                              XGradCAM, \\\n",
        "                              AblationCAM\n",
        "\n",
        "\n",
        "cams_list = [#'AblationCAM', # ran out of RAM\n",
        "            'GradCAM',\n",
        "            'HiResCAM',\n",
        "            'GradCAMElementWise',\n",
        "            'GradCAMPlusPlus',\n",
        "            'EigenCAM', # done\n",
        "            #'EigenGradCAM', # Skipped all layers for AlexNet; figure out\n",
        "            'RandomCAM',\n",
        "            'LayerCAM',\n",
        "             'XGradCAM',\n",
        "             #'FullGrad', # Skipped all layers for DenseNet161; figure out\n",
        "             #'ScoreCAM', # ran out of RAM\n",
        "             ]"
      ]
    },
    {
      "cell_type": "markdown",
      "metadata": {
        "id": "Z_scxPvUl9-z"
      },
      "source": [
        "# Define model list"
      ]
    },
    {
      "cell_type": "code",
      "execution_count": null,
      "metadata": {
        "colab": {
          "base_uri": "https://localhost:8080/"
        },
        "id": "IhocC2s_f7Fh",
        "outputId": "263c2ba5-4905-4a53-c854-448e104baba9"
      },
      "outputs": [],
      "source": [
        "\n",
        "model_path = bundles_dir / \"breast_density_classification/models/model.pt\"\n",
        "breast_model = TorchVisionFCModel(model_name=\"inception_v3\", num_classes=4, pool=None) # ref for params -> https://github.com/Project-MONAI/model-zoo/blob/dev/models/breast_density_classification/configs/inference.json\n",
        "breast_model.load_state_dict(torch.load(model_path))\n",
        "breast_model.eval()"
      ]
    },
    {
      "cell_type": "code",
      "execution_count": null,
      "metadata": {
        "id": "6t0Kd2XQiGus"
      },
      "outputs": [],
      "source": [
        "from torchvision import models # Only needed for example model, not overall anim code\n",
        "# model = models.densenet161(pretrained=True)\n",
        "\n",
        "models_dict = {\n",
        "                # \"wide_resnet101_2\": models.wide_resnet101_2(pretrained=True), # this needs to be paired with imagenet like images\n",
        "                # \"densenet161\": models.densenet161(pretrained=True), # this needs to be paired with imagenet like images\n",
        "                \"breast_density_classification\": breast_model # this needs to be paired with breast density images\n",
        "              }"
      ]
    },
    {
      "cell_type": "markdown",
      "metadata": {
        "id": "bwZCYJWIHI7u"
      },
      "source": [
        "## visualize model parameters"
      ]
    },
    {
      "cell_type": "code",
      "execution_count": null,
      "metadata": {
        "colab": {
          "base_uri": "https://localhost:8080/"
        },
        "id": "N2rxAMTnqMNW",
        "outputId": "df635e8c-3a75-4dba-e204-6669f0746aff"
      },
      "outputs": [],
      "source": [
        "model = models_dict[\"breast_density_classification\"]\n",
        "layers = [layer for layer, what_is_this in model.named_modules()]\n",
        "print(len(layers))\n",
        "parameters = [p for p in model.parameters()]# if p.requires_grad]\n",
        "len(parameters)"
      ]
    },
    {
      "cell_type": "code",
      "execution_count": null,
      "metadata": {
        "colab": {
          "base_uri": "https://localhost:8080/"
        },
        "id": "-Z3-Tep-rIq0",
        "outputId": "40bf05a0-3877-4599-9445-1d7f799e95f1"
      },
      "outputs": [],
      "source": [
        "running_sum = 0\n",
        "\n",
        "total_params = sum(p.numel() for p in model.parameters() if p.requires_grad)\n",
        "\n",
        "for layer_name, layer_module in model.named_modules():\n",
        "\n",
        "  # print(\"-\"*6 + layer_name + \"-\"*6)\n",
        "  # print(type(layer_name))\n",
        "  # print(type(layer_module))\n",
        "  # layer_parameters = [parameters = [p for p in model.parameters()]# if p.requires_grad]]\n",
        "  n_layer_params = sum(p.numel() for p in layer_module.parameters() if p.requires_grad)\n",
        "  running_sum += n_layer_params\n",
        "\n",
        "print(running_sum)\n",
        "print(total_params)"
      ]
    },
    {
      "cell_type": "markdown",
      "metadata": {
        "id": "h6TQidjwL6Tg"
      },
      "source": [
        "# get target_layer"
      ]
    },
    {
      "cell_type": "code",
      "execution_count": null,
      "metadata": {
        "id": "dlIEv4h9AWZ4"
      },
      "outputs": [],
      "source": [
        "\n",
        "def get_target_layers(model):\n",
        "  \"\"\"\n",
        "  target_layers doesn't matter for cam_anim (since we loop through all the layers),\n",
        "  but it is needed for initializing the GradCAM object.\n",
        "  This method returns the last layer (that is viable as a target i.e. iterable) of the model.\n",
        "\n",
        "  \"\"\"\n",
        "\n",
        "\n",
        "  target_layers = []\n",
        "  for _, layer_module in model.named_modules():\n",
        "    # print(_)\n",
        "    if _ == \"features.Mixed_7c.branch_pool.conv\":\n",
        "      target_layers.append(layer_module)\n",
        "    # https://stackoverflow.com/questions/1952464/in-python-how-do-i-determine-if-an-object-is-iterable\n",
        "    try:\n",
        "      some_object_iterator = iter(layer_module)\n",
        "      if type(layer_module)!=str:\n",
        "        target_layers.append(layer_module)\n",
        "\n",
        "    except TypeError as te:\n",
        "      pass\n",
        "      # print(some_object, 'is not iterable')\n",
        "  # target_layers = target_layers[-2]\n",
        "  print(target_layers)\n",
        "  return target_layers"
      ]
    },
    {
      "cell_type": "markdown",
      "metadata": {
        "id": "Qhv9bcMKmYj9"
      },
      "source": [
        "# Double Loop - n_models X n_cams"
      ]
    },
    {
      "cell_type": "code",
      "execution_count": null,
      "metadata": {
        "colab": {
          "base_uri": "https://localhost:8080/"
        },
        "id": "6XpYgO_rmn7p",
        "outputId": "bea5d54a-89c2-4715-9a36-f1b79f55cfab"
      },
      "outputs": [],
      "source": [
        "n_models = len(models_dict.keys())\n",
        "n_cams = len(cams_list)\n",
        "\n",
        "print(f\"{n_models} X {n_cams} = {n_models*n_cams} iterations\")"
      ]
    },
    {
      "cell_type": "code",
      "execution_count": null,
      "metadata": {
        "id": "mpLrFN0lYkZU"
      },
      "outputs": [],
      "source": [
        "import ffmpeg\n",
        "def _ffmpeg_standard_quality(tmp_path, output_fname, frame_rate=5):\n",
        "  \"\"\" _ffmpeg_standard_quality\n",
        "      Generates and saves-to-file the animated .MP4 video in standard quality.\n",
        "      ---\n",
        "      Input: tmp_path <str>, the path to the images\n",
        "             output_fname <str>, the path and filename for the saved file\n",
        "             frame_rate=5 <int>, the number of frames per second\n",
        "      Output: None\n",
        "  \"\"\"\n",
        "  print('Generating video with pngs from:\\n', tmp_path)\n",
        "  try:\n",
        "    (\n",
        "      ffmpeg\n",
        "      .input(tmp_path + '*.png', pattern_type='glob', framerate=frame_rate)\n",
        "      .output(output_fname)\n",
        "      .run()\n",
        "    )\n",
        "  except Exception as exc:\n",
        "    print('ERROR: ffmpeg video generation failed; video corrupt.')\n",
        "    print(exc)\n",
        "  return None"
      ]
    },
    {
      "cell_type": "code",
      "execution_count": null,
      "metadata": {},
      "outputs": [],
      "source": [
        "!ffmpeg -version"
      ]
    },
    {
      "cell_type": "code",
      "execution_count": null,
      "metadata": {
        "colab": {
          "base_uri": "https://localhost:8080/"
        },
        "id": "lXt-mcvqYh0t",
        "outputId": "c2f2e698-5ed4-497f-b812-7909a108f2f7"
      },
      "outputs": [],
      "source": [
        "metrics_records = []\n",
        "for model_name, model in models_dict.items():\n",
        "\n",
        "  print(\"=\"*33 + model_name + \"=\"*33)\n",
        "\n",
        "  outdir = Path(drive_path) / \"starCAManim\" / model_name\n",
        "  outdir.mkdir(exist_ok=True, parents= True)\n",
        "\n",
        "  target_layers = get_target_layers(model)\n",
        "  # target_layers = [\"features.Mixed_7c.branch_pool.conv\"]\n",
        "\n",
        "  for cam_name in cams_list:\n",
        "    print(\"-\"*33 + cam_name + \"-\"*33)\n",
        "\n",
        "    frames_dir = outdir / cam_name\n",
        "    frames_dir.mkdir(exist_ok=True, parents= True)\n",
        "    metrics = {\"model_name\": model_name, \"CAM Name\": cam_name, \"error\": None}\n",
        "    for norm_type in [\"global\", \"layer\"]:\n",
        "      tmp_path = str(outdir / cam_name / norm_type)\n",
        "      output_fname = str(outdir / f\"{cam_name}_{norm_type}_anim.mp4\")\n",
        "      _ffmpeg_standard_quality(tmp_path, output_fname, frame_rate=24)"
      ]
    },
    {
      "cell_type": "code",
      "execution_count": null,
      "metadata": {},
      "outputs": [],
      "source": [
        "from pytorch_grad_cam.base_cam import BaseCAM\n",
        "import gc\n",
        "gc.enable()"
      ]
    },
    {
      "cell_type": "code",
      "execution_count": null,
      "metadata": {},
      "outputs": [],
      "source": [
        "print(gc.collect())\n",
        "print(pd.DataFrame.from_records(gc.get_stats()))"
      ]
    },
    {
      "cell_type": "code",
      "execution_count": null,
      "metadata": {
        "id": "bx2bR-8Cegv-"
      },
      "outputs": [],
      "source": [
        "# %%mprun -f BaseCAM.cam_anim\n",
        "\n",
        "metrics_records = []\n",
        "for model_name, model in models_dict.items():\n",
        "\n",
        "  print(\"=\"*33 + model_name + \"=\"*33)\n",
        "\n",
        "  outdir = Path(drive_path) / \"starCAManim\" / model_name\n",
        "  outdir.mkdir(exist_ok=True, parents= True)\n",
        "\n",
        "  target_layers = get_target_layers(model)\n",
        "  # target_layers = [\"features.Mixed_7c.branch_pool.conv\"]\n",
        "\n",
        "  for cam_name in cams_list:\n",
        "    print(\"-\"*33 + cam_name + \"-\"*33)\n",
        "\n",
        "    frames_dir = outdir / cam_name\n",
        "    frames_dir.mkdir(exist_ok=True, parents= True)\n",
        "    metrics = {\"model_name\": model_name, \"CAM Name\": cam_name, \"error\": None}\n",
        "    try:\n",
        "      cam = globals()[cam_name](model=model, target_layers=target_layers, use_cuda=False)\n",
        "      metrics_update = cam.cam_anim(img,\n",
        "                                    input_tensor,\n",
        "                                    frame_rate=24,\n",
        "                                    norm_type='both',\n",
        "                                    keep_frames=True,\n",
        "                                    tmp_dir=str(frames_dir),\n",
        "                                    output_fname=str(outdir / f\"{cam_name}_anim.mp4\"))\n",
        "\n",
        "      metrics.update(metrics_update)\n",
        "      del cam\n",
        "      gc.collect()\n",
        "      print(pd.DataFrame.from_records(gc.get_stats()))\n",
        "      print(f\"{cam_name} Finished\")\n",
        "\n",
        "\n",
        "    except Exception as ex:\n",
        "      metrics.update({\"error\": str(ex)})\n",
        "      print(ex)\n",
        "      print(\"Continuing to the next CAM\")\n",
        "      raise ex\n",
        "\n",
        "    metrics_records.append(metrics)\n",
        "\n",
        "    with open(str(Path(drive_path) / \"starCAManim\" / f\"metrics_logs_{model_name}.json\"), \"w\") as outfile:\n",
        "      json.dump(metrics_records, outfile, indent=4)"
      ]
    },
    {
      "cell_type": "markdown",
      "metadata": {
        "id": "z6e6ebENG49E"
      },
      "source": [
        "# Load logged metrics"
      ]
    },
    {
      "cell_type": "code",
      "execution_count": null,
      "metadata": {
        "id": "XkXks9tzSTWQ"
      },
      "outputs": [],
      "source": [
        "\n",
        "# Opening JSON file\n",
        "model_name = \"breast_density_classification\"\n",
        "with open(str(Path(drive_path) / \"starCAManim\" / f\"metrics_logs_{model_name}.json\"), 'r') as openfile:\n",
        "    # Reading from json file\n",
        "    metrics_records = json.load(openfile)"
      ]
    },
    {
      "cell_type": "code",
      "execution_count": null,
      "metadata": {
        "colab": {
          "base_uri": "https://localhost:8080/",
          "height": 1000
        },
        "id": "85NxTkHDPybg",
        "outputId": "ae1a4df0-7997-4491-89e2-d2e0dc098c9a"
      },
      "outputs": [],
      "source": [
        "import pandas as pd\n",
        "\n",
        "metrics_df = pd.DataFrame.from_records(metrics_records)\n",
        "display(metrics_df)"
      ]
    },
    {
      "cell_type": "code",
      "execution_count": null,
      "metadata": {
        "id": "ecP_pFWRen5n"
      },
      "outputs": [],
      "source": [
        "def unpack_layer_records(row):\n",
        "\n",
        "  layer_df = pd.DataFrame.from_records(row[\"layers_records\"])\n",
        "\n",
        "  for col in row.index:\n",
        "    if col not in [\"layers_records\", \"error\"]:\n",
        "      layer_df[col] = row[col]\n",
        "\n",
        "    layer_df[\"cam_anim_error\"] = row[\"error\"]\n",
        "\n",
        "  return layer_df\n"
      ]
    },
    {
      "cell_type": "code",
      "execution_count": null,
      "metadata": {
        "colab": {
          "base_uri": "https://localhost:8080/",
          "height": 143
        },
        "id": "OTyMaUivPOW6",
        "outputId": "17271d74-31ed-42a9-cd04-6d9e109430e5"
      },
      "outputs": [],
      "source": [
        "import pandas as pd\n",
        "df = pd.DataFrame({\n",
        "  'date': ['2022-09-14', '2022-09-15', '2022-09-16'],\n",
        "  'letter': ['A', 'B', 'C'],\n",
        "  'dict' : [{ 'fruit': 'apple', 'weather': 'aces'},\n",
        "            { 'fruit': 'banana', 'weather': 'bad'},\n",
        "            { 'fruit': 'cantaloupe', 'weather': 'cloudy'}],\n",
        "})\n",
        "\n",
        "pd.concat([df.drop(['dict'], axis=1), df['dict'].apply(pd.Series)], axis=1)"
      ]
    },
    {
      "cell_type": "code",
      "execution_count": null,
      "metadata": {
        "colab": {
          "base_uri": "https://localhost:8080/",
          "height": 707
        },
        "id": "aF9qGQjNZPLl",
        "outputId": "33968feb-12ae-43c5-81a1-2c2bf2e76fb2"
      },
      "outputs": [],
      "source": [
        "layer_metrics_df = None\n",
        "\n",
        "for _, row in metrics_df.iterrows():\n",
        "  layer_df = unpack_layer_records(row)\n",
        "\n",
        "  if layer_metrics_df is None:\n",
        "    layer_metrics_df = layer_df\n",
        "  else:\n",
        "    layer_metrics_df = pd.concat([layer_metrics_df, layer_df])\n",
        "\n",
        "\n",
        "display(layer_metrics_df)\n",
        "# layer_metrics_df = layer_metrics_df.groupby(\"CAM Name\")\n",
        "layer_metrics_df[\"layer_time\"].describe()"
      ]
    },
    {
      "cell_type": "markdown",
      "metadata": {
        "id": "UMXDyjyrG_rf"
      },
      "source": [
        "# Plot"
      ]
    },
    {
      "cell_type": "code",
      "execution_count": null,
      "metadata": {
        "colab": {
          "base_uri": "https://localhost:8080/",
          "height": 785
        },
        "id": "i-EamQlW0jTe",
        "outputId": "3a04c532-a683-41e2-d866-979a2b25e59b"
      },
      "outputs": [],
      "source": [
        "import matplotlib.pyplot as plt\n",
        "import seaborn as sns; sns.set()\n",
        "import pandas as pd\n",
        "\n",
        "df = layer_metrics_df.copy(deep=True)\n",
        "# df = df[df[\"CAM Name\"]==\"HiResCAM\"]\n",
        "\n",
        "plt.figure(figsize=(9,9))\n",
        "sns.scatterplot(x=\"layer_num_parameters\", y=\"layer_time\",\n",
        "                # s=100,\n",
        "                # figsize=(64,64),\n",
        "                hue='CAM Name',\n",
        "                #style='zone_number',\n",
        "                data=df)\n",
        "\n",
        "plt.xscale('log')\n",
        "plt.yscale('log')\n",
        "plt.show()"
      ]
    }
  ],
  "metadata": {
    "colab": {
      "provenance": [],
      "toc_visible": true
    },
    "kernelspec": {
      "display_name": "Python 3",
      "name": "python3"
    },
    "language_info": {
      "codemirror_mode": {
        "name": "ipython",
        "version": 3
      },
      "file_extension": ".py",
      "mimetype": "text/x-python",
      "name": "python",
      "nbconvert_exporter": "python",
      "pygments_lexer": "ipython3",
      "version": "3.11.5"
    }
  },
  "nbformat": 4,
  "nbformat_minor": 0
}
